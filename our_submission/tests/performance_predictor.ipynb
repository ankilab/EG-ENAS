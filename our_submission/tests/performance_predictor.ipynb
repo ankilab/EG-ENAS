{
 "cells": [
  {
   "cell_type": "markdown",
   "id": "dcd4f330-8f62-4e64-938a-9017a7a9998e",
   "metadata": {
    "jp-MarkdownHeadingCollapsed": true,
    "tags": []
   },
   "source": [
    "# Regressor"
   ]
  },
  {
   "cell_type": "code",
   "execution_count": 4,
   "id": "f10ae086-c1ad-4be6-98e3-7a881498d573",
   "metadata": {
    "tags": []
   },
   "outputs": [
    {
     "name": "stderr",
     "output_type": "stream",
     "text": [
      "/home/hpc/iwb3/iwb3021h/.local/lib/python3.12/site-packages/tqdm/auto.py:21: TqdmWarning: IProgress not found. Please update jupyter and ipywidgets. See https://ipywidgets.readthedocs.io/en/stable/user_install.html\n",
      "  from .autonotebook import tqdm as notebook_tqdm\n"
     ]
    }
   ],
   "source": [
    "import kaleido\n",
    "import pandas as pd\n",
    "import numpy as np\n",
    "import plotly.graph_objects as go\n",
    "######## Search space #########\n",
    "import sys\n",
    "sys.path.append(\"../\")\n",
    "from search_space.RegNet import RegNet\n",
    "from search_space.utils import create_widths_plot, scatter_results\n",
    "# Initialize an empty list to store dictionaries\n",
    "def results_to_df(path, name):\n",
    "    data = []\n",
    "    # Open the text file\n",
    "    with open(path, 'r') as file:\n",
    "        lines = file.readlines()\n",
    "        # Initialize an empty dictionary to store data for each block\n",
    "        block_data = {}\n",
    "        for line in lines:\n",
    "            # If the line contains dashes, it indicates the end of a block\n",
    "            if '-------------------------' in line:\n",
    "                # If block_data is not empty, add it to the list of data dictionaries\n",
    "                if block_data:\n",
    "                    data.append(block_data)\n",
    "                    # Reset block_data for the next block\n",
    "                    block_data = {}\n",
    "            elif 'best_acc' in line:\n",
    "                continue\n",
    "            else:\n",
    "                # Split the line by ':'\n",
    "                #print(line)\n",
    "                key, value = line.strip().split(': ')\n",
    "                # Store the key-value pair in the block_data dictionary\n",
    "                block_data[key] = value\n",
    "\n",
    "    # Create a DataFrame from the list of dictionaries\n",
    "    df = pd.DataFrame(data)\n",
    "\n",
    "    # Convert columns to appropriate data types if needed\n",
    "    df['epoch'] = df['epoch'].astype(int)\n",
    "    df['lr'] = df['lr'].astype(float)\n",
    "    df['train_acc'] = df['train_acc'].astype(float)\n",
    "    df['train_loss'] = df['train_loss'].astype(float)\n",
    "    df['test_acc'] = df['test_acc'].astype(float)\n",
    "    df['test_acc_top5'] = df['test_acc_top5'].astype(float)\n",
    "    df['test_loss'] = df['test_loss'].astype(float)\n",
    "    df['epoch_time'] = df['epoch_time'].astype(float)\n",
    "    df=df.assign(name=name)\n",
    "    \n",
    "    return df"
   ]
  },
  {
   "cell_type": "code",
   "execution_count": 5,
   "id": "d12b93c7-5737-4651-826f-c5e62a62c890",
   "metadata": {
    "tags": []
   },
   "outputs": [],
   "source": [
    "import json\n",
    "\n",
    "\n",
    "def get_predictor_data(tests_folder,studies):\n",
    "    train_data=[]\n",
    "    for study_name in studies: \n",
    "        #study_name=\"tests_LaMelo_13_06_2024_02_11\"\n",
    "        file_path=f\"{tests_folder}/{study_name}/{study_name}.evonas\"\n",
    "        with open(file_path, 'r') as file:\n",
    "            results = json.load(file)\n",
    "\n",
    "        individuals_df=pd.read_json(results[\"results\"]).sort_values(\"name\")[[\"name\",\"generation\"]]\n",
    "        data_models=pd.read_json(results[\"results\"])[[\"name\",\"num_stages\",\"params\",\"WA\",\"W0\",\"WM\",\"DEPTH\", \"best_acc\"]]\n",
    "        data_models[\"num_classes\"]=results[\"metadata\"][\"num_classes\"]\n",
    "        data_models[\"num_channels\"]=results[\"metadata\"][\"input_shape\"][1]\n",
    "        data_models[\"benchmark\"]=results[\"metadata\"][\"benchmark\"]\n",
    "        print(study_name)\n",
    "        print(results[\"metadata\"])\n",
    "\n",
    "        data=[]\n",
    "        for index, row in individuals_df.iterrows():\n",
    "            name=row[\"name\"]\n",
    "            generation=row[\"generation\"]\n",
    "            try:\n",
    "                test_acc=results_to_df(f\"{tests_folder}/{study_name}/Generation_{generation}/{name}/worklog.txt\", f\"{name}\")[[\"epoch\",\"test_acc\",\"name\"]]\n",
    "                test_acc_piv = test_acc.pivot(index='name', columns='epoch', values='test_acc').add_prefix(\"epoch_\").reset_index()\n",
    "                test_acc_piv[\"gen\"]=generation\n",
    "                data.append(pd.merge(test_acc_piv, data_models, on=\"name\"))\n",
    "            except:\n",
    "                pass\n",
    "        data=pd.concat(data)\n",
    "        train_data.append(data)\n",
    "    train_data=pd.concat(train_data)\n",
    "    return train_data"
   ]
  },
  {
   "cell_type": "code",
   "execution_count": 3,
   "id": "4d1e2d66-bb63-4743-af46-f8ae81298ab7",
   "metadata": {
    "tags": []
   },
   "outputs": [
    {
     "name": "stderr",
     "output_type": "stream",
     "text": [
      "/tmp/ipykernel_2984881/341301641.py:12: FutureWarning: Passing literal json to 'read_json' is deprecated and will be removed in a future version. To read from a literal string, wrap it in a 'StringIO' object.\n",
      "  individuals_df=pd.read_json(results[\"results\"]).sort_values(\"name\")[[\"name\",\"generation\"]]\n",
      "/tmp/ipykernel_2984881/341301641.py:13: FutureWarning: Passing literal json to 'read_json' is deprecated and will be removed in a future version. To read from a literal string, wrap it in a 'StringIO' object.\n",
      "  data_models=pd.read_json(results[\"results\"])[[\"name\",\"num_stages\",\"params\",\"WA\",\"W0\",\"WM\",\"DEPTH\", \"best_acc\"]]\n"
     ]
    },
    {
     "name": "stdout",
     "output_type": "stream",
     "text": [
      "tests_Caitie_18_06_2024_06_22\n",
      "{'num_classes': 4, 'input_shape': [49260, 3, 64, 64], 'codename': 'Caitie', 'benchmark': 47.008, 'time_remaining': -38886.48230648041, 'train_config_path': 'configs/train/vanilla_generation_adam.yaml', 'experiment_name': 'tests/augmentations_test', 'mode': 'NAS'}\n"
     ]
    },
    {
     "name": "stderr",
     "output_type": "stream",
     "text": [
      "/tmp/ipykernel_2984881/341301641.py:12: FutureWarning: Passing literal json to 'read_json' is deprecated and will be removed in a future version. To read from a literal string, wrap it in a 'StringIO' object.\n",
      "  individuals_df=pd.read_json(results[\"results\"]).sort_values(\"name\")[[\"name\",\"generation\"]]\n",
      "/tmp/ipykernel_2984881/341301641.py:13: FutureWarning: Passing literal json to 'read_json' is deprecated and will be removed in a future version. To read from a literal string, wrap it in a 'StringIO' object.\n",
      "  data_models=pd.read_json(results[\"results\"])[[\"name\",\"num_stages\",\"params\",\"WA\",\"W0\",\"WM\",\"DEPTH\", \"best_acc\"]]\n"
     ]
    },
    {
     "name": "stdout",
     "output_type": "stream",
     "text": [
      "tests_Gutenberg_17_06_2024_10_26\n",
      "{'input_shape': [45000, 1, 27, 18], 'codename': 'Gutenberg', 'benchmark': 40.98, 'num_classes': 6, 'time_remaining': 6656.930239677429, 'train_config_path': 'configs/train/vanilla_generation_adam.yaml', 'experiment_name': 'tests/augmentations_test', 'mode': 'NAS'}\n"
     ]
    },
    {
     "name": "stderr",
     "output_type": "stream",
     "text": [
      "/tmp/ipykernel_2984881/341301641.py:12: FutureWarning: Passing literal json to 'read_json' is deprecated and will be removed in a future version. To read from a literal string, wrap it in a 'StringIO' object.\n",
      "  individuals_df=pd.read_json(results[\"results\"]).sort_values(\"name\")[[\"name\",\"generation\"]]\n",
      "/tmp/ipykernel_2984881/341301641.py:13: FutureWarning: Passing literal json to 'read_json' is deprecated and will be removed in a future version. To read from a literal string, wrap it in a 'StringIO' object.\n",
      "  data_models=pd.read_json(results[\"results\"])[[\"name\",\"num_stages\",\"params\",\"WA\",\"W0\",\"WM\",\"DEPTH\", \"best_acc\"]]\n"
     ]
    },
    {
     "name": "stdout",
     "output_type": "stream",
     "text": [
      "tests_LaMelo_17_06_2024_19_54\n",
      "{'num_classes': 10, 'codename': 'LaMelo', 'input_shape': [50000, 1, 24, 24], 'benchmark': 85.2, 'time_remaining': -1196.3611073493958, 'train_config_path': 'configs/train/vanilla_generation_adam.yaml', 'experiment_name': 'tests/augmentations_test', 'mode': 'NAS'}\n"
     ]
    },
    {
     "name": "stderr",
     "output_type": "stream",
     "text": [
      "/tmp/ipykernel_2984881/341301641.py:12: FutureWarning: Passing literal json to 'read_json' is deprecated and will be removed in a future version. To read from a literal string, wrap it in a 'StringIO' object.\n",
      "  individuals_df=pd.read_json(results[\"results\"]).sort_values(\"name\")[[\"name\",\"generation\"]]\n",
      "/tmp/ipykernel_2984881/341301641.py:13: FutureWarning: Passing literal json to 'read_json' is deprecated and will be removed in a future version. To read from a literal string, wrap it in a 'StringIO' object.\n",
      "  data_models=pd.read_json(results[\"results\"])[[\"name\",\"num_stages\",\"params\",\"WA\",\"W0\",\"WM\",\"DEPTH\", \"best_acc\"]]\n"
     ]
    },
    {
     "name": "stdout",
     "output_type": "stream",
     "text": [
      "tests_Mateo_17_06_2024_21_50\n",
      "{'num_classes': 10, 'input_shape': [50000, 3, 28, 28], 'codename': 'Mateo', 'benchmark': 90.87, 'time_remaining': -8204.630620241165, 'train_config_path': 'configs/train/vanilla_generation_adam.yaml', 'experiment_name': 'tests/augmentations_test', 'mode': 'NAS'}\n"
     ]
    },
    {
     "name": "stderr",
     "output_type": "stream",
     "text": [
      "/tmp/ipykernel_2984881/341301641.py:12: FutureWarning: Passing literal json to 'read_json' is deprecated and will be removed in a future version. To read from a literal string, wrap it in a 'StringIO' object.\n",
      "  individuals_df=pd.read_json(results[\"results\"]).sort_values(\"name\")[[\"name\",\"generation\"]]\n",
      "/tmp/ipykernel_2984881/341301641.py:13: FutureWarning: Passing literal json to 'read_json' is deprecated and will be removed in a future version. To read from a literal string, wrap it in a 'StringIO' object.\n",
      "  data_models=pd.read_json(results[\"results\"])[[\"name\",\"num_stages\",\"params\",\"WA\",\"W0\",\"WM\",\"DEPTH\", \"best_acc\"]]\n"
     ]
    },
    {
     "name": "stdout",
     "output_type": "stream",
     "text": [
      "tests_Sadie_18_06_2024_01_41\n",
      "{'input_shape': [50000, 3, 64, 64], 'codename': 'Sadie', 'benchmark': 80.33, 'num_classes': 10, 'time_remaining': -22070.273110866547, 'train_config_path': 'configs/train/vanilla_generation_adam.yaml', 'experiment_name': 'tests/augmentations_test', 'mode': 'NAS'}\n"
     ]
    },
    {
     "name": "stderr",
     "output_type": "stream",
     "text": [
      "/tmp/ipykernel_2984881/341301641.py:12: FutureWarning: Passing literal json to 'read_json' is deprecated and will be removed in a future version. To read from a literal string, wrap it in a 'StringIO' object.\n",
      "  individuals_df=pd.read_json(results[\"results\"]).sort_values(\"name\")[[\"name\",\"generation\"]]\n",
      "/tmp/ipykernel_2984881/341301641.py:13: FutureWarning: Passing literal json to 'read_json' is deprecated and will be removed in a future version. To read from a literal string, wrap it in a 'StringIO' object.\n",
      "  data_models=pd.read_json(results[\"results\"])[[\"name\",\"num_stages\",\"params\",\"WA\",\"W0\",\"WM\",\"DEPTH\", \"best_acc\"]]\n"
     ]
    },
    {
     "name": "stdout",
     "output_type": "stream",
     "text": [
      "tests_Chester_18_06_2024_00_21\n",
      "{'input_shape': [49998, 12, 8, 8], 'codename': 'Chester', 'benchmark': 57.826, 'num_classes': 3, 'time_remaining': -17269.000343322754, 'train_config_path': 'configs/train/vanilla_generation_adam.yaml', 'experiment_name': 'tests/augmentations_test', 'mode': 'NAS'}\n"
     ]
    },
    {
     "name": "stderr",
     "output_type": "stream",
     "text": [
      "/tmp/ipykernel_2984881/341301641.py:12: FutureWarning: Passing literal json to 'read_json' is deprecated and will be removed in a future version. To read from a literal string, wrap it in a 'StringIO' object.\n",
      "  individuals_df=pd.read_json(results[\"results\"]).sort_values(\"name\")[[\"name\",\"generation\"]]\n",
      "/tmp/ipykernel_2984881/341301641.py:13: FutureWarning: Passing literal json to 'read_json' is deprecated and will be removed in a future version. To read from a literal string, wrap it in a 'StringIO' object.\n",
      "  data_models=pd.read_json(results[\"results\"])[[\"name\",\"num_stages\",\"params\",\"WA\",\"W0\",\"WM\",\"DEPTH\", \"best_acc\"]]\n"
     ]
    },
    {
     "name": "stdout",
     "output_type": "stream",
     "text": [
      "tests_Adaline_17_06_2024_17_44\n",
      "{'num_classes': 20, 'input_shape': [50000, 3, 28, 28], 'codename': 'Adaline', 'benchmark': 89.85, 'time_remaining': 6603.339126586914, 'train_config_path': 'configs/train/vanilla_generation_adam.yaml', 'experiment_name': 'tests/augmentations_test', 'mode': 'NAS'}\n"
     ]
    }
   ],
   "source": [
    "corr_scores={}\n",
    "accuracies={}\n",
    "test_dataset=\"Adaline\"\n",
    "tests_folder=\"/home/woody/iwb3/iwb3021h/NAS_COMPETITION_RESULTS/full_training_random_20epochs_2gen_aug\"\n",
    "studies_train=[ \n",
    "               \"tests_Caitie_18_06_2024_06_22\",\n",
    "               \"tests_Gutenberg_17_06_2024_10_26\", \n",
    "               \"tests_LaMelo_17_06_2024_19_54\",\n",
    "               \"tests_Mateo_17_06_2024_21_50\",\n",
    "               \"tests_Sadie_18_06_2024_01_41\",\n",
    "               \"tests_Chester_18_06_2024_00_21\"\n",
    "\n",
    "              ]\n",
    "studies_test=[\"tests_Adaline_17_06_2024_17_44\"]\n",
    "\n",
    "train_data=get_predictor_data(tests_folder,studies_train)\n",
    "test_data=get_predictor_data(tests_folder,studies_test)\n",
    "\n",
    "#train_data2=get_predictor_data(tests_folder2,studies_train2)"
   ]
  },
  {
   "cell_type": "code",
   "execution_count": 74,
   "id": "2eb9d186-177c-444f-8f9a-351b5e702e45",
   "metadata": {
    "tags": []
   },
   "outputs": [],
   "source": [
    "cols_train=[ 'epoch_1', 'epoch_2', 'epoch_3', 'epoch_4', 'epoch_5',\n",
    "       'epoch_6', 'epoch_7', 'epoch_8', 'epoch_9', 'epoch_10', 'num_stages', 'params', 'WA', 'W0',\n",
    "       'WM', 'DEPTH', 'num_classes', 'benchmark']\n",
    "#cols_train=[ 'epoch_1', 'epoch_2', 'epoch_3', 'epoch_4', 'epoch_5', 'epoch_6', 'epoch_7','num_stages', 'params', 'WA', 'W0',\n",
    "#       'WM', 'DEPTH', 'num_classes', 'benchmark']\n",
    "#cols_train=[ 'epoch_1', 'epoch_2','epoch_3', 'epoch_4','num_stages', 'params', 'WA', 'W0',\n",
    "#       'WM', 'DEPTH', 'num_classes', 'benchmark']\n",
    "\n",
    "cols_test=['epoch_11',\n",
    "       'epoch_12', 'epoch_13', 'epoch_14', 'epoch_15', 'epoch_16', 'epoch_17',\n",
    "       'epoch_18', 'epoch_19', 'epoch_20']\n",
    "cols_test=[\"best_acc\"]\n",
    "X=train_data[cols_train]\n",
    "y=train_data[cols_test]\n",
    "gens=[1]\n",
    "\n",
    "X_test_new=test_data[test_data[\"gen\"].isin(gens)][cols_train]\n",
    "y_test_new=test_data[test_data[\"gen\"].isin(gens)][cols_test]"
   ]
  },
  {
   "cell_type": "markdown",
   "id": "65a051ec-6c53-448d-97cb-8fd4e898dec6",
   "metadata": {
    "jp-MarkdownHeadingCollapsed": true,
    "tags": []
   },
   "source": [
    "# Performance predictor"
   ]
  },
  {
   "cell_type": "markdown",
   "id": "7697f8f8-c8ce-4f4a-b015-d33de7565b46",
   "metadata": {},
   "source": [
    "Gradient Boosting Machines (GBMs) (e.g., XGBoost, LightGBM):\n",
    "RandomForest"
   ]
  },
  {
   "cell_type": "code",
   "execution_count": 81,
   "id": "4c262596-14df-4cfa-8485-15ac141263b4",
   "metadata": {
    "tags": []
   },
   "outputs": [
    {
     "name": "stderr",
     "output_type": "stream",
     "text": [
      "/home/hpc/iwb3/iwb3021h/.local/lib/python3.12/site-packages/sklearn/base.py:1474: DataConversionWarning: A column-vector y was passed when a 1d array was expected. Please change the shape of y to (n_samples,), for example using ravel().\n",
      "  return fit_method(estimator, *args, **kwargs)\n"
     ]
    },
    {
     "name": "stdout",
     "output_type": "stream",
     "text": [
      "RandomForestRegressor RMSE: 2.5073867931029903\n"
     ]
    }
   ],
   "source": [
    "import numpy as np\n",
    "from sklearn.model_selection import train_test_split, GridSearchCV\n",
    "from sklearn.svm import SVR\n",
    "from sklearn.ensemble import RandomForestRegressor\n",
    "from sklearn.preprocessing import StandardScaler\n",
    "from sklearn.metrics import mean_squared_error\n",
    "\n",
    "# Sample data\n",
    "# X should include first 10 epochs' accuracy and model parameters\n",
    "# y should include the accuracy of the subsequent 10 epochs\n",
    "#X = np.random.rand(100, 15)  # 100 samples, 10 accuracies + 5 parameters\n",
    "#y = np.random.rand(100, 10)  # 100 samples, next 10 epochs' accuracy\n",
    "\n",
    "# Split the data\n",
    "X_train, X_test, y_train, y_test = train_test_split(X, y, test_size=0.1, random_state=42)\n",
    "\n",
    "# Standardize the data\n",
    "#scaler = StandardScaler()\n",
    "#X_train = scaler.fit_transform(X_train)\n",
    "#X_test = scaler.transform(X_test)\n",
    "\n",
    "# Train a RandomForestRegressor\n",
    "rf_regressor = RandomForestRegressor(n_estimators=100, random_state=42)\n",
    "rf_regressor.fit(X_train, y_train)\n",
    "\n",
    "# Predict and evaluate\n",
    "y_pred_rf = rf_regressor.predict(X_test)\n",
    "rmse_rf = np.sqrt(mean_squared_error(y_test, y_pred_rf))\n",
    "print(f'RandomForestRegressor RMSE: {rmse_rf}')\n",
    "\n"
   ]
  },
  {
   "cell_type": "code",
   "execution_count": 11,
   "id": "591d06b2-ee71-4ab9-b823-a7f9c32ae544",
   "metadata": {
    "tags": []
   },
   "outputs": [
    {
     "name": "stdout",
     "output_type": "stream",
     "text": [
      "RandomForestRegressor RMSE: 13.511911125947334\n"
     ]
    }
   ],
   "source": [
    "# Predict and evaluate\n",
    "#X_test_new = scaler.transform(X_test_new)\n",
    "\n",
    "y_pred_rf = rf_regressor.predict(X_test_new)\n",
    "rmse_rf = np.sqrt(mean_squared_error(y_test_new, y_pred_rf))\n",
    "print(f'RandomForestRegressor RMSE: {rmse_rf}')\n"
   ]
  },
  {
   "cell_type": "code",
   "execution_count": null,
   "id": "b1727fe5-63b1-4b4b-90b4-fa91f8dbf319",
   "metadata": {},
   "outputs": [],
   "source": []
  },
  {
   "cell_type": "code",
   "execution_count": 17,
   "id": "2c3ccd87-0554-48b8-a30d-7cddf2dda8fd",
   "metadata": {
    "tags": []
   },
   "outputs": [
    {
     "data": {
      "text/html": [
       "<div>\n",
       "<style scoped>\n",
       "    .dataframe tbody tr th:only-of-type {\n",
       "        vertical-align: middle;\n",
       "    }\n",
       "\n",
       "    .dataframe tbody tr th {\n",
       "        vertical-align: top;\n",
       "    }\n",
       "\n",
       "    .dataframe thead th {\n",
       "        text-align: right;\n",
       "    }\n",
       "</style>\n",
       "<table border=\"1\" class=\"dataframe\">\n",
       "  <thead>\n",
       "    <tr style=\"text-align: right;\">\n",
       "      <th></th>\n",
       "      <th>best_acc</th>\n",
       "    </tr>\n",
       "  </thead>\n",
       "  <tbody>\n",
       "    <tr>\n",
       "      <th>8</th>\n",
       "      <td>42.88</td>\n",
       "    </tr>\n",
       "    <tr>\n",
       "      <th>0</th>\n",
       "      <td>42.50</td>\n",
       "    </tr>\n",
       "    <tr>\n",
       "      <th>6</th>\n",
       "      <td>42.41</td>\n",
       "    </tr>\n",
       "    <tr>\n",
       "      <th>15</th>\n",
       "      <td>42.37</td>\n",
       "    </tr>\n",
       "    <tr>\n",
       "      <th>19</th>\n",
       "      <td>42.33</td>\n",
       "    </tr>\n",
       "    <tr>\n",
       "      <th>5</th>\n",
       "      <td>42.23</td>\n",
       "    </tr>\n",
       "    <tr>\n",
       "      <th>11</th>\n",
       "      <td>42.19</td>\n",
       "    </tr>\n",
       "    <tr>\n",
       "      <th>16</th>\n",
       "      <td>41.90</td>\n",
       "    </tr>\n",
       "    <tr>\n",
       "      <th>4</th>\n",
       "      <td>41.83</td>\n",
       "    </tr>\n",
       "    <tr>\n",
       "      <th>17</th>\n",
       "      <td>41.81</td>\n",
       "    </tr>\n",
       "    <tr>\n",
       "      <th>7</th>\n",
       "      <td>41.79</td>\n",
       "    </tr>\n",
       "    <tr>\n",
       "      <th>18</th>\n",
       "      <td>41.75</td>\n",
       "    </tr>\n",
       "    <tr>\n",
       "      <th>9</th>\n",
       "      <td>41.47</td>\n",
       "    </tr>\n",
       "    <tr>\n",
       "      <th>12</th>\n",
       "      <td>41.45</td>\n",
       "    </tr>\n",
       "    <tr>\n",
       "      <th>13</th>\n",
       "      <td>41.45</td>\n",
       "    </tr>\n",
       "    <tr>\n",
       "      <th>10</th>\n",
       "      <td>41.25</td>\n",
       "    </tr>\n",
       "    <tr>\n",
       "      <th>14</th>\n",
       "      <td>41.15</td>\n",
       "    </tr>\n",
       "    <tr>\n",
       "      <th>3</th>\n",
       "      <td>41.03</td>\n",
       "    </tr>\n",
       "    <tr>\n",
       "      <th>1</th>\n",
       "      <td>40.91</td>\n",
       "    </tr>\n",
       "    <tr>\n",
       "      <th>2</th>\n",
       "      <td>37.23</td>\n",
       "    </tr>\n",
       "  </tbody>\n",
       "</table>\n",
       "</div>"
      ],
      "text/plain": [
       "    best_acc\n",
       "8      42.88\n",
       "0      42.50\n",
       "6      42.41\n",
       "15     42.37\n",
       "19     42.33\n",
       "5      42.23\n",
       "11     42.19\n",
       "16     41.90\n",
       "4      41.83\n",
       "17     41.81\n",
       "7      41.79\n",
       "18     41.75\n",
       "9      41.47\n",
       "12     41.45\n",
       "13     41.45\n",
       "10     41.25\n",
       "14     41.15\n",
       "3      41.03\n",
       "1      40.91\n",
       "2      37.23"
      ]
     },
     "execution_count": 17,
     "metadata": {},
     "output_type": "execute_result"
    }
   ],
   "source": [
    "y_test_new.reset_index(drop=True).sort_values(\"best_acc\", ascending=False)"
   ]
  },
  {
   "cell_type": "code",
   "execution_count": 19,
   "id": "7bf8235f-6d63-4ba0-9b38-b8a45ba92207",
   "metadata": {
    "tags": []
   },
   "outputs": [
    {
     "data": {
      "text/html": [
       "<div>\n",
       "<style scoped>\n",
       "    .dataframe tbody tr th:only-of-type {\n",
       "        vertical-align: middle;\n",
       "    }\n",
       "\n",
       "    .dataframe tbody tr th {\n",
       "        vertical-align: top;\n",
       "    }\n",
       "\n",
       "    .dataframe thead th {\n",
       "        text-align: right;\n",
       "    }\n",
       "</style>\n",
       "<table border=\"1\" class=\"dataframe\">\n",
       "  <thead>\n",
       "    <tr style=\"text-align: right;\">\n",
       "      <th></th>\n",
       "      <th>pred_acc</th>\n",
       "    </tr>\n",
       "  </thead>\n",
       "  <tbody>\n",
       "    <tr>\n",
       "      <th>17</th>\n",
       "      <td>56.5878</td>\n",
       "    </tr>\n",
       "    <tr>\n",
       "      <th>11</th>\n",
       "      <td>55.6209</td>\n",
       "    </tr>\n",
       "    <tr>\n",
       "      <th>19</th>\n",
       "      <td>55.6166</td>\n",
       "    </tr>\n",
       "    <tr>\n",
       "      <th>8</th>\n",
       "      <td>55.6025</td>\n",
       "    </tr>\n",
       "    <tr>\n",
       "      <th>5</th>\n",
       "      <td>55.3889</td>\n",
       "    </tr>\n",
       "    <tr>\n",
       "      <th>16</th>\n",
       "      <td>55.3620</td>\n",
       "    </tr>\n",
       "    <tr>\n",
       "      <th>18</th>\n",
       "      <td>55.3368</td>\n",
       "    </tr>\n",
       "    <tr>\n",
       "      <th>15</th>\n",
       "      <td>55.2496</td>\n",
       "    </tr>\n",
       "    <tr>\n",
       "      <th>4</th>\n",
       "      <td>55.1870</td>\n",
       "    </tr>\n",
       "    <tr>\n",
       "      <th>7</th>\n",
       "      <td>55.1822</td>\n",
       "    </tr>\n",
       "    <tr>\n",
       "      <th>0</th>\n",
       "      <td>55.1602</td>\n",
       "    </tr>\n",
       "    <tr>\n",
       "      <th>10</th>\n",
       "      <td>55.1539</td>\n",
       "    </tr>\n",
       "    <tr>\n",
       "      <th>3</th>\n",
       "      <td>55.0680</td>\n",
       "    </tr>\n",
       "    <tr>\n",
       "      <th>6</th>\n",
       "      <td>55.0571</td>\n",
       "    </tr>\n",
       "    <tr>\n",
       "      <th>9</th>\n",
       "      <td>55.0103</td>\n",
       "    </tr>\n",
       "    <tr>\n",
       "      <th>12</th>\n",
       "      <td>54.9073</td>\n",
       "    </tr>\n",
       "    <tr>\n",
       "      <th>13</th>\n",
       "      <td>54.7014</td>\n",
       "    </tr>\n",
       "    <tr>\n",
       "      <th>1</th>\n",
       "      <td>54.4056</td>\n",
       "    </tr>\n",
       "    <tr>\n",
       "      <th>14</th>\n",
       "      <td>54.2690</td>\n",
       "    </tr>\n",
       "    <tr>\n",
       "      <th>2</th>\n",
       "      <td>52.9382</td>\n",
       "    </tr>\n",
       "  </tbody>\n",
       "</table>\n",
       "</div>"
      ],
      "text/plain": [
       "    pred_acc\n",
       "17   56.5878\n",
       "11   55.6209\n",
       "19   55.6166\n",
       "8    55.6025\n",
       "5    55.3889\n",
       "16   55.3620\n",
       "18   55.3368\n",
       "15   55.2496\n",
       "4    55.1870\n",
       "7    55.1822\n",
       "0    55.1602\n",
       "10   55.1539\n",
       "3    55.0680\n",
       "6    55.0571\n",
       "9    55.0103\n",
       "12   54.9073\n",
       "13   54.7014\n",
       "1    54.4056\n",
       "14   54.2690\n",
       "2    52.9382"
      ]
     },
     "execution_count": 19,
     "metadata": {},
     "output_type": "execute_result"
    }
   ],
   "source": [
    "pd.DataFrame(y_pred_rf, columns=[\"pred_acc\"]).sort_values(\"pred_acc\", ascending=False)"
   ]
  },
  {
   "cell_type": "code",
   "execution_count": 301,
   "id": "b5e59d5e-4da0-4ba8-b6d4-6c1e383006f0",
   "metadata": {
    "tags": []
   },
   "outputs": [
    {
     "data": {
      "text/plain": [
       "array([[1.        , 0.43816592],\n",
       "       [0.43816592, 1.        ]])"
      ]
     },
     "execution_count": 301,
     "metadata": {},
     "output_type": "execute_result"
    }
   ],
   "source": [
    "np.corrcoef(y_pred_rf[:][0:60],y_test_new.values[:][0:60].reshape(-1))"
   ]
  },
  {
   "cell_type": "code",
   "execution_count": 303,
   "id": "172032a4-11b0-4c21-a442-47e4222552f2",
   "metadata": {
    "tags": []
   },
   "outputs": [
    {
     "data": {
      "text/plain": [
       "array([[1.        , 0.90872616],\n",
       "       [0.90872616, 1.        ]])"
      ]
     },
     "execution_count": 303,
     "metadata": {},
     "output_type": "execute_result"
    }
   ],
   "source": [
    "np.corrcoef(X_test_new[\"epoch_10\"].values[:20].reshape(-1),y_test_new[:20].values[:].reshape(-1))"
   ]
  },
  {
   "cell_type": "code",
   "execution_count": 123,
   "id": "7ac39410-9421-445f-86d8-59295ae32c48",
   "metadata": {
    "tags": []
   },
   "outputs": [
    {
     "data": {
      "text/plain": [
       "array([59.719 , 58.936 , 56.4102, 60.0944, 59.9151, 60.3432, 60.3657,\n",
       "       61.5988, 60.8167, 59.7897, 59.6178, 60.3493, 59.7265, 59.0941,\n",
       "       56.9798, 61.0983, 61.577 , 60.5617, 61.8244, 61.6281, 60.7059,\n",
       "       61.0587, 61.5172, 61.6237, 60.298 , 60.2908, 61.3481, 61.0361,\n",
       "       61.2968, 61.2947, 60.2082, 62.1292, 61.1402, 61.8315, 60.477 ,\n",
       "       60.1731, 60.2328, 60.4864, 62.0043, 61.3174, 60.997 , 61.1983,\n",
       "       61.2318, 60.3409, 62.127 , 61.6775, 60.9963, 61.133 , 61.3531,\n",
       "       60.9014, 61.0975, 60.2715, 61.6547, 59.5361, 61.6507, 60.9652,\n",
       "       60.5947, 61.6178, 60.2765, 60.58  ])"
      ]
     },
     "execution_count": 123,
     "metadata": {},
     "output_type": "execute_result"
    }
   ],
   "source": [
    "y_pred_rf"
   ]
  },
  {
   "cell_type": "code",
   "execution_count": 8,
   "id": "01da3614-0d19-4086-9671-78cec7d4838c",
   "metadata": {
    "tags": []
   },
   "outputs": [
    {
     "name": "stdout",
     "output_type": "stream",
     "text": [
      "Support Vector Regressor RMSE: 16.52822026363254\n"
     ]
    },
    {
     "name": "stderr",
     "output_type": "stream",
     "text": [
      "/home/hpc/iwb3/iwb3021h/.local/lib/python3.12/site-packages/sklearn/utils/validation.py:1300: DataConversionWarning: A column-vector y was passed when a 1d array was expected. Please change the shape of y to (n_samples, ), for example using ravel().\n",
      "  y = column_or_1d(y, warn=True)\n",
      "/home/hpc/iwb3/iwb3021h/.local/lib/python3.12/site-packages/sklearn/utils/validation.py:1300: DataConversionWarning: A column-vector y was passed when a 1d array was expected. Please change the shape of y to (n_samples, ), for example using ravel().\n",
      "  y = column_or_1d(y, warn=True)\n",
      "/home/hpc/iwb3/iwb3021h/.local/lib/python3.12/site-packages/sklearn/utils/validation.py:1300: DataConversionWarning: A column-vector y was passed when a 1d array was expected. Please change the shape of y to (n_samples, ), for example using ravel().\n",
      "  y = column_or_1d(y, warn=True)\n",
      "/home/hpc/iwb3/iwb3021h/.local/lib/python3.12/site-packages/sklearn/utils/validation.py:1300: DataConversionWarning: A column-vector y was passed when a 1d array was expected. Please change the shape of y to (n_samples, ), for example using ravel().\n",
      "  y = column_or_1d(y, warn=True)\n",
      "/home/hpc/iwb3/iwb3021h/.local/lib/python3.12/site-packages/sklearn/utils/validation.py:1300: DataConversionWarning: A column-vector y was passed when a 1d array was expected. Please change the shape of y to (n_samples, ), for example using ravel().\n",
      "  y = column_or_1d(y, warn=True)\n",
      "/home/hpc/iwb3/iwb3021h/.local/lib/python3.12/site-packages/sklearn/utils/validation.py:1300: DataConversionWarning: A column-vector y was passed when a 1d array was expected. Please change the shape of y to (n_samples, ), for example using ravel().\n",
      "  y = column_or_1d(y, warn=True)\n"
     ]
    }
   ],
   "source": [
    "# Train a Support Vector Regressor\n",
    "svr = SVR()\n",
    "param_grid = {\n",
    "    'C': [0.1, 1, 10],\n",
    "    'epsilon': [0.01, 0.1, 1],\n",
    "    'kernel': ['linear', 'poly', 'rbf']\n",
    "}\n",
    "param_grid = {\n",
    "    'C': [0.1],\n",
    "    'epsilon': [0.01],\n",
    "    'kernel': [ 'poly']\n",
    "}\n",
    "grid_search = GridSearchCV(svr, param_grid, cv=5, scoring='neg_mean_squared_error')\n",
    "grid_search.fit(X_train, y_train)\n",
    "\n",
    "# Predict and evaluate\n",
    "best_svr = grid_search.best_estimator_\n",
    "y_pred_svr = best_svr.predict(X_test)\n",
    "rmse_svr = np.sqrt(mean_squared_error(y_test, y_pred_svr))\n",
    "print(f'Support Vector Regressor RMSE: {rmse_svr}')\n"
   ]
  },
  {
   "cell_type": "code",
   "execution_count": 9,
   "id": "a7ae401e-128c-4e82-8962-9ae3d1f0e718",
   "metadata": {
    "tags": []
   },
   "outputs": [
    {
     "name": "stdout",
     "output_type": "stream",
     "text": [
      "RandomForestRegressor RMSE: 42.694856840907796\n"
     ]
    }
   ],
   "source": [
    "y_pred_rf = best_svr.predict(X_test_new)\n",
    "rmse_rf = np.sqrt(mean_squared_error(y_test_new, y_pred_rf))\n",
    "print(f'RandomForestRegressor RMSE: {rmse_rf}')"
   ]
  },
  {
   "cell_type": "code",
   "execution_count": null,
   "id": "ab6473ac-a8a8-4b5e-9c64-f0da58a150aa",
   "metadata": {
    "tags": []
   },
   "outputs": [],
   "source": [
    "print(\"yes\")"
   ]
  },
  {
   "cell_type": "code",
   "execution_count": 24,
   "id": "163af759-c215-4000-b48b-aaa79ba2be23",
   "metadata": {
    "tags": []
   },
   "outputs": [
    {
     "name": "stderr",
     "output_type": "stream",
     "text": [
      "/home/hpc/iwb3/iwb3021h/.local/lib/python3.12/site-packages/sklearn/ensemble/_gb.py:668: DataConversionWarning: A column-vector y was passed when a 1d array was expected. Please change the shape of y to (n_samples, ), for example using ravel().\n",
      "  y = column_or_1d(y, warn=True)  # TODO: Is this still required?\n"
     ]
    },
    {
     "name": "stdout",
     "output_type": "stream",
     "text": [
      "GradientBoostingRegressor RMSE: 1.3756102173972162\n"
     ]
    }
   ],
   "source": [
    "# Install scikit-learn if not already installed\n",
    "#%pip install -q scikit-learn\n",
    "\n",
    "from sklearn.ensemble import GradientBoostingRegressor\n",
    "from sklearn.metrics import mean_squared_error\n",
    "import numpy as np\n",
    "\n",
    "# Assuming X_train, X_test, y_train, y_test are already defined\n",
    "\n",
    "# Initialize and fit the GradientBoostingRegressor\n",
    "gb_regressor = GradientBoostingRegressor(n_estimators=100, learning_rate=0.1, max_depth=1, random_state=42)\n",
    "gb_regressor.fit(X_train, y_train)\n",
    "\n",
    "# Predict on the test set\n",
    "y_pred_gb = gb_regressor.predict(X_test)\n",
    "\n",
    "# Calculate RMSE\n",
    "rmse_gb = np.sqrt(mean_squared_error(y_test, y_pred_gb))\n",
    "print(f'GradientBoostingRegressor RMSE: {rmse_gb}')\n"
   ]
  },
  {
   "cell_type": "code",
   "execution_count": 25,
   "id": "8ec76de1-d337-4a9d-98ae-9d55ede0cfb6",
   "metadata": {
    "tags": []
   },
   "outputs": [
    {
     "name": "stdout",
     "output_type": "stream",
     "text": [
      "RandomForestRegressor RMSE: 14.966455878098962\n"
     ]
    }
   ],
   "source": [
    "y_pred_rf = gb_regressor.predict(X_test_new)\n",
    "rmse_rf = np.sqrt(mean_squared_error(y_test_new, y_pred_rf))\n",
    "print(f'GradientBoostingRegressor RMSE: {rmse_rf}')"
   ]
  },
  {
   "cell_type": "code",
   "execution_count": 22,
   "id": "e46f1278-28ff-4473-88f0-8ff8a0451f78",
   "metadata": {},
   "outputs": [
    {
     "data": {
      "text/plain": [
       "array([56.32557 , 56.43364 , 56.237415, 56.43364 , 56.32557 , 56.43364 ,\n",
       "       56.43364 , 56.43364 , 56.43364 , 56.43364 , 56.516373, 56.516373,\n",
       "       56.43364 , 56.43364 , 56.516373, 56.32557 , 56.32557 , 56.516373,\n",
       "       56.516373, 56.32557 ], dtype=float32)"
      ]
     },
     "execution_count": 22,
     "metadata": {},
     "output_type": "execute_result"
    }
   ],
   "source": [
    "y_pred_rf"
   ]
  },
  {
   "cell_type": "code",
   "execution_count": 26,
   "id": "bb55fd58-7d22-4640-a3fc-3bbf85abd711",
   "metadata": {
    "collapsed": true,
    "jupyter": {
     "outputs_hidden": true
    },
    "tags": []
   },
   "outputs": [
    {
     "data": {
      "text/html": [
       "<div>\n",
       "<style scoped>\n",
       "    .dataframe tbody tr th:only-of-type {\n",
       "        vertical-align: middle;\n",
       "    }\n",
       "\n",
       "    .dataframe tbody tr th {\n",
       "        vertical-align: top;\n",
       "    }\n",
       "\n",
       "    .dataframe thead th {\n",
       "        text-align: right;\n",
       "    }\n",
       "</style>\n",
       "<table border=\"1\" class=\"dataframe\">\n",
       "  <thead>\n",
       "    <tr style=\"text-align: right;\">\n",
       "      <th></th>\n",
       "      <th>pred_acc</th>\n",
       "    </tr>\n",
       "  </thead>\n",
       "  <tbody>\n",
       "    <tr>\n",
       "      <th>10</th>\n",
       "      <td>56.672900</td>\n",
       "    </tr>\n",
       "    <tr>\n",
       "      <th>18</th>\n",
       "      <td>56.672900</td>\n",
       "    </tr>\n",
       "    <tr>\n",
       "      <th>17</th>\n",
       "      <td>56.672900</td>\n",
       "    </tr>\n",
       "    <tr>\n",
       "      <th>11</th>\n",
       "      <td>56.672900</td>\n",
       "    </tr>\n",
       "    <tr>\n",
       "      <th>14</th>\n",
       "      <td>56.672900</td>\n",
       "    </tr>\n",
       "    <tr>\n",
       "      <th>3</th>\n",
       "      <td>56.594088</td>\n",
       "    </tr>\n",
       "    <tr>\n",
       "      <th>6</th>\n",
       "      <td>56.594088</td>\n",
       "    </tr>\n",
       "    <tr>\n",
       "      <th>7</th>\n",
       "      <td>56.594088</td>\n",
       "    </tr>\n",
       "    <tr>\n",
       "      <th>8</th>\n",
       "      <td>56.594088</td>\n",
       "    </tr>\n",
       "    <tr>\n",
       "      <th>9</th>\n",
       "      <td>56.594088</td>\n",
       "    </tr>\n",
       "    <tr>\n",
       "      <th>1</th>\n",
       "      <td>56.594088</td>\n",
       "    </tr>\n",
       "    <tr>\n",
       "      <th>12</th>\n",
       "      <td>56.594088</td>\n",
       "    </tr>\n",
       "    <tr>\n",
       "      <th>13</th>\n",
       "      <td>56.594088</td>\n",
       "    </tr>\n",
       "    <tr>\n",
       "      <th>2</th>\n",
       "      <td>56.392725</td>\n",
       "    </tr>\n",
       "    <tr>\n",
       "      <th>16</th>\n",
       "      <td>56.312241</td>\n",
       "    </tr>\n",
       "    <tr>\n",
       "      <th>0</th>\n",
       "      <td>56.312241</td>\n",
       "    </tr>\n",
       "    <tr>\n",
       "      <th>15</th>\n",
       "      <td>56.312241</td>\n",
       "    </tr>\n",
       "    <tr>\n",
       "      <th>5</th>\n",
       "      <td>56.312241</td>\n",
       "    </tr>\n",
       "    <tr>\n",
       "      <th>4</th>\n",
       "      <td>56.312241</td>\n",
       "    </tr>\n",
       "    <tr>\n",
       "      <th>19</th>\n",
       "      <td>56.312241</td>\n",
       "    </tr>\n",
       "  </tbody>\n",
       "</table>\n",
       "</div>"
      ],
      "text/plain": [
       "     pred_acc\n",
       "10  56.672900\n",
       "18  56.672900\n",
       "17  56.672900\n",
       "11  56.672900\n",
       "14  56.672900\n",
       "3   56.594088\n",
       "6   56.594088\n",
       "7   56.594088\n",
       "8   56.594088\n",
       "9   56.594088\n",
       "1   56.594088\n",
       "12  56.594088\n",
       "13  56.594088\n",
       "2   56.392725\n",
       "16  56.312241\n",
       "0   56.312241\n",
       "15  56.312241\n",
       "5   56.312241\n",
       "4   56.312241\n",
       "19  56.312241"
      ]
     },
     "execution_count": 26,
     "metadata": {},
     "output_type": "execute_result"
    }
   ],
   "source": [
    "pd.DataFrame(y_pred_rf, columns=[\"pred_acc\"]).sort_values(\"pred_acc\", ascending=False)"
   ]
  },
  {
   "cell_type": "code",
   "execution_count": 288,
   "id": "27a11195-5a26-488e-a341-ac635d52b571",
   "metadata": {
    "tags": []
   },
   "outputs": [],
   "source": [
    "import numpy as np"
   ]
  },
  {
   "cell_type": "code",
   "execution_count": 289,
   "id": "fd00e878-4532-4c96-81a7-479582c31029",
   "metadata": {
    "tags": []
   },
   "outputs": [
    {
     "data": {
      "text/plain": [
       "array([[ 1.        , -0.04096569],\n",
       "       [-0.04096569,  1.        ]])"
      ]
     },
     "execution_count": 289,
     "metadata": {},
     "output_type": "execute_result"
    }
   ],
   "source": [
    "np.corrcoef(y_pred_rf[:],y_test_new.values[:].reshape(-1))"
   ]
  },
  {
   "cell_type": "code",
   "execution_count": 212,
   "id": "b242751a-9f82-4781-9513-0a37dc5d7f20",
   "metadata": {
    "tags": []
   },
   "outputs": [
    {
     "data": {
      "text/plain": [
       "array([[1.        , 0.83109927],\n",
       "       [0.83109927, 1.        ]])"
      ]
     },
     "execution_count": 212,
     "metadata": {},
     "output_type": "execute_result"
    }
   ],
   "source": [
    "np.corrcoef(X_test_new[\"epoch_7\"].values.reshape(-1)[:],y_test_new.values.reshape(-1)[:])"
   ]
  },
  {
   "cell_type": "markdown",
   "id": "61086410-eed7-49b8-8f17-186b519f9af5",
   "metadata": {},
   "source": [
    "# Ranking classifier"
   ]
  },
  {
   "cell_type": "code",
   "execution_count": 48,
   "id": "f741dc6c-3d8a-4310-82c9-5342307a4d8d",
   "metadata": {
    "tags": []
   },
   "outputs": [],
   "source": [
    "corr_scores={}\n",
    "accuracies={}\n",
    "test_accuracies={}\n",
    "epochs_results={}"
   ]
  },
  {
   "cell_type": "code",
   "execution_count": 49,
   "id": "3e321e6f-c2fe-4f1f-9698-d829f06cd1dc",
   "metadata": {
    "tags": []
   },
   "outputs": [
    {
     "data": {
      "text/plain": [
       "dict_keys([])"
      ]
     },
     "execution_count": 49,
     "metadata": {},
     "output_type": "execute_result"
    }
   ],
   "source": [
    "corr_scores.keys()"
   ]
  },
  {
   "cell_type": "code",
   "execution_count": 50,
   "id": "52d18fa8-3246-4f73-9601-68f47591d1d5",
   "metadata": {
    "tags": []
   },
   "outputs": [
    {
     "name": "stderr",
     "output_type": "stream",
     "text": [
      "/tmp/ipykernel_3028792/341301641.py:12: FutureWarning: Passing literal json to 'read_json' is deprecated and will be removed in a future version. To read from a literal string, wrap it in a 'StringIO' object.\n",
      "  individuals_df=pd.read_json(results[\"results\"]).sort_values(\"name\")[[\"name\",\"generation\"]]\n",
      "/tmp/ipykernel_3028792/341301641.py:13: FutureWarning: Passing literal json to 'read_json' is deprecated and will be removed in a future version. To read from a literal string, wrap it in a 'StringIO' object.\n",
      "  data_models=pd.read_json(results[\"results\"])[[\"name\",\"num_stages\",\"params\",\"WA\",\"W0\",\"WM\",\"DEPTH\", \"best_acc\"]]\n"
     ]
    },
    {
     "name": "stdout",
     "output_type": "stream",
     "text": [
      "tests_Caitie_18_06_2024_06_22\n",
      "{'num_classes': 4, 'input_shape': [49260, 3, 64, 64], 'codename': 'Caitie', 'benchmark': 47.008, 'time_remaining': -38886.48230648041, 'train_config_path': 'configs/train/vanilla_generation_adam.yaml', 'experiment_name': 'tests/augmentations_test', 'mode': 'NAS'}\n"
     ]
    },
    {
     "name": "stderr",
     "output_type": "stream",
     "text": [
      "/tmp/ipykernel_3028792/341301641.py:12: FutureWarning: Passing literal json to 'read_json' is deprecated and will be removed in a future version. To read from a literal string, wrap it in a 'StringIO' object.\n",
      "  individuals_df=pd.read_json(results[\"results\"]).sort_values(\"name\")[[\"name\",\"generation\"]]\n",
      "/tmp/ipykernel_3028792/341301641.py:13: FutureWarning: Passing literal json to 'read_json' is deprecated and will be removed in a future version. To read from a literal string, wrap it in a 'StringIO' object.\n",
      "  data_models=pd.read_json(results[\"results\"])[[\"name\",\"num_stages\",\"params\",\"WA\",\"W0\",\"WM\",\"DEPTH\", \"best_acc\"]]\n"
     ]
    },
    {
     "name": "stdout",
     "output_type": "stream",
     "text": [
      "tests_Gutenberg_17_06_2024_10_26\n",
      "{'input_shape': [45000, 1, 27, 18], 'codename': 'Gutenberg', 'benchmark': 40.98, 'num_classes': 6, 'time_remaining': 6656.930239677429, 'train_config_path': 'configs/train/vanilla_generation_adam.yaml', 'experiment_name': 'tests/augmentations_test', 'mode': 'NAS'}\n"
     ]
    },
    {
     "name": "stderr",
     "output_type": "stream",
     "text": [
      "/tmp/ipykernel_3028792/341301641.py:12: FutureWarning: Passing literal json to 'read_json' is deprecated and will be removed in a future version. To read from a literal string, wrap it in a 'StringIO' object.\n",
      "  individuals_df=pd.read_json(results[\"results\"]).sort_values(\"name\")[[\"name\",\"generation\"]]\n",
      "/tmp/ipykernel_3028792/341301641.py:13: FutureWarning: Passing literal json to 'read_json' is deprecated and will be removed in a future version. To read from a literal string, wrap it in a 'StringIO' object.\n",
      "  data_models=pd.read_json(results[\"results\"])[[\"name\",\"num_stages\",\"params\",\"WA\",\"W0\",\"WM\",\"DEPTH\", \"best_acc\"]]\n"
     ]
    },
    {
     "name": "stdout",
     "output_type": "stream",
     "text": [
      "tests_LaMelo_17_06_2024_19_54\n",
      "{'num_classes': 10, 'codename': 'LaMelo', 'input_shape': [50000, 1, 24, 24], 'benchmark': 85.2, 'time_remaining': -1196.3611073493958, 'train_config_path': 'configs/train/vanilla_generation_adam.yaml', 'experiment_name': 'tests/augmentations_test', 'mode': 'NAS'}\n"
     ]
    },
    {
     "name": "stderr",
     "output_type": "stream",
     "text": [
      "/tmp/ipykernel_3028792/341301641.py:12: FutureWarning: Passing literal json to 'read_json' is deprecated and will be removed in a future version. To read from a literal string, wrap it in a 'StringIO' object.\n",
      "  individuals_df=pd.read_json(results[\"results\"]).sort_values(\"name\")[[\"name\",\"generation\"]]\n",
      "/tmp/ipykernel_3028792/341301641.py:13: FutureWarning: Passing literal json to 'read_json' is deprecated and will be removed in a future version. To read from a literal string, wrap it in a 'StringIO' object.\n",
      "  data_models=pd.read_json(results[\"results\"])[[\"name\",\"num_stages\",\"params\",\"WA\",\"W0\",\"WM\",\"DEPTH\", \"best_acc\"]]\n"
     ]
    },
    {
     "name": "stdout",
     "output_type": "stream",
     "text": [
      "tests_Mateo_17_06_2024_21_50\n",
      "{'num_classes': 10, 'input_shape': [50000, 3, 28, 28], 'codename': 'Mateo', 'benchmark': 90.87, 'time_remaining': -8204.630620241165, 'train_config_path': 'configs/train/vanilla_generation_adam.yaml', 'experiment_name': 'tests/augmentations_test', 'mode': 'NAS'}\n"
     ]
    },
    {
     "name": "stderr",
     "output_type": "stream",
     "text": [
      "/tmp/ipykernel_3028792/341301641.py:12: FutureWarning: Passing literal json to 'read_json' is deprecated and will be removed in a future version. To read from a literal string, wrap it in a 'StringIO' object.\n",
      "  individuals_df=pd.read_json(results[\"results\"]).sort_values(\"name\")[[\"name\",\"generation\"]]\n",
      "/tmp/ipykernel_3028792/341301641.py:13: FutureWarning: Passing literal json to 'read_json' is deprecated and will be removed in a future version. To read from a literal string, wrap it in a 'StringIO' object.\n",
      "  data_models=pd.read_json(results[\"results\"])[[\"name\",\"num_stages\",\"params\",\"WA\",\"W0\",\"WM\",\"DEPTH\", \"best_acc\"]]\n"
     ]
    },
    {
     "name": "stdout",
     "output_type": "stream",
     "text": [
      "tests_Sadie_18_06_2024_01_41\n",
      "{'input_shape': [50000, 3, 64, 64], 'codename': 'Sadie', 'benchmark': 80.33, 'num_classes': 10, 'time_remaining': -22070.273110866547, 'train_config_path': 'configs/train/vanilla_generation_adam.yaml', 'experiment_name': 'tests/augmentations_test', 'mode': 'NAS'}\n"
     ]
    },
    {
     "name": "stderr",
     "output_type": "stream",
     "text": [
      "/tmp/ipykernel_3028792/341301641.py:12: FutureWarning: Passing literal json to 'read_json' is deprecated and will be removed in a future version. To read from a literal string, wrap it in a 'StringIO' object.\n",
      "  individuals_df=pd.read_json(results[\"results\"]).sort_values(\"name\")[[\"name\",\"generation\"]]\n",
      "/tmp/ipykernel_3028792/341301641.py:13: FutureWarning: Passing literal json to 'read_json' is deprecated and will be removed in a future version. To read from a literal string, wrap it in a 'StringIO' object.\n",
      "  data_models=pd.read_json(results[\"results\"])[[\"name\",\"num_stages\",\"params\",\"WA\",\"W0\",\"WM\",\"DEPTH\", \"best_acc\"]]\n"
     ]
    },
    {
     "name": "stdout",
     "output_type": "stream",
     "text": [
      "tests_Adaline_17_06_2024_17_44\n",
      "{'num_classes': 20, 'input_shape': [50000, 3, 28, 28], 'codename': 'Adaline', 'benchmark': 89.85, 'time_remaining': 6603.339126586914, 'train_config_path': 'configs/train/vanilla_generation_adam.yaml', 'experiment_name': 'tests/augmentations_test', 'mode': 'NAS'}\n"
     ]
    },
    {
     "name": "stderr",
     "output_type": "stream",
     "text": [
      "/tmp/ipykernel_3028792/341301641.py:12: FutureWarning: Passing literal json to 'read_json' is deprecated and will be removed in a future version. To read from a literal string, wrap it in a 'StringIO' object.\n",
      "  individuals_df=pd.read_json(results[\"results\"]).sort_values(\"name\")[[\"name\",\"generation\"]]\n",
      "/tmp/ipykernel_3028792/341301641.py:13: FutureWarning: Passing literal json to 'read_json' is deprecated and will be removed in a future version. To read from a literal string, wrap it in a 'StringIO' object.\n",
      "  data_models=pd.read_json(results[\"results\"])[[\"name\",\"num_stages\",\"params\",\"WA\",\"W0\",\"WM\",\"DEPTH\", \"best_acc\"]]\n"
     ]
    },
    {
     "name": "stdout",
     "output_type": "stream",
     "text": [
      "tests_Chester_18_06_2024_00_21\n",
      "{'input_shape': [49998, 12, 8, 8], 'codename': 'Chester', 'benchmark': 57.826, 'num_classes': 3, 'time_remaining': -17269.000343322754, 'train_config_path': 'configs/train/vanilla_generation_adam.yaml', 'experiment_name': 'tests/augmentations_test', 'mode': 'NAS'}\n"
     ]
    }
   ],
   "source": [
    "import pandas as pd\n",
    "from itertools import combinations\n",
    "\n",
    "\n",
    "test_dataset=\"Chester\"\n",
    "tests_folder=\"/home/woody/iwb3/iwb3021h/NAS_COMPETITION_RESULTS/full_training_random_20epochs_2gen_aug\"\n",
    "studies_train=[ \n",
    "               \"tests_Caitie_18_06_2024_06_22\",\n",
    "               \"tests_Gutenberg_17_06_2024_10_26\", \n",
    "               \"tests_LaMelo_17_06_2024_19_54\",\n",
    "               \"tests_Mateo_17_06_2024_21_50\",\n",
    "               \"tests_Sadie_18_06_2024_01_41\",\n",
    "               #\"tests_Chester_18_06_2024_00_21\",\n",
    "               \"tests_Adaline_17_06_2024_17_44\"\n",
    "\n",
    "              ]\n",
    "\n",
    "\n",
    "train_data=get_predictor_data(tests_folder,studies_train)\n",
    "#tests_folder=\"/home/woody/iwb3/iwb3021h/NAS_COMPETITION_RESULTS/full_training_evonas_20epochs_3gen\"\n",
    "studies_test=[\"tests_Chester_18_06_2024_00_21\"]\n",
    "test_data=get_predictor_data(tests_folder,studies_test)\n"
   ]
  },
  {
   "cell_type": "code",
   "execution_count": 51,
   "id": "b3837637-015d-454e-81c9-f9777f262b42",
   "metadata": {
    "tags": []
   },
   "outputs": [
    {
     "data": {
      "text/plain": [
       "Index(['name', 'epoch_1', 'epoch_2', 'epoch_3', 'epoch_4', 'epoch_5',\n",
       "       'epoch_6', 'epoch_7', 'epoch_8', 'epoch_9', 'epoch_10', 'epoch_11',\n",
       "       'epoch_12', 'epoch_13', 'epoch_14', 'epoch_15', 'epoch_16', 'epoch_17',\n",
       "       'epoch_18', 'epoch_19', 'epoch_20', 'gen', 'num_stages', 'params', 'WA',\n",
       "       'W0', 'WM', 'DEPTH', 'best_acc', 'num_classes', 'num_channels',\n",
       "       'benchmark'],\n",
       "      dtype='object')"
      ]
     },
     "execution_count": 51,
     "metadata": {},
     "output_type": "execute_result"
    }
   ],
   "source": [
    "test_data.columns"
   ]
  },
  {
   "cell_type": "code",
   "execution_count": 52,
   "id": "c36fa539-a13c-4641-892f-baf45de83599",
   "metadata": {
    "tags": []
   },
   "outputs": [],
   "source": [
    "total_data=[]\n",
    "\n",
    "for benchmark_score in train_data['benchmark'].unique():\n",
    "    filtered_df = train_data[(train_data['benchmark'] == benchmark_score)].reset_index(drop=True)\n",
    "    pairs = list(combinations(filtered_df.index, 2))\n",
    "    combined_data = []\n",
    "\n",
    "    for idx1, idx2 in pairs:\n",
    "        row1 = filtered_df.loc[idx1]\n",
    "        row2 = filtered_df.loc[idx2]\n",
    "        combined_row = {\n",
    "            'name_A': row1['name'],\n",
    "            'name_B': row2['name'],\n",
    "            'epoch_1_A': row1['epoch_1'],\n",
    "            'epoch_2_A': row1['epoch_2'],\n",
    "            'epoch_3_A': row1['epoch_3'],\n",
    "            'epoch_4_A': row1['epoch_4'],\n",
    "            'epoch_5_A': row1['epoch_5'],\n",
    "            'epoch_6_A': row1['epoch_6'],\n",
    "                        'epoch_7_A': row1['epoch_7'],\n",
    "                       'epoch_8_A': row1['epoch_8'],\n",
    "                       'epoch_9_A': row1['epoch_9'],\n",
    "                       'epoch_10_A': row1['epoch_10'],\n",
    "                       'epoch_20_A': row1['epoch_20'],\n",
    "            'num_stages_A': row1['num_stages'],\n",
    "            'params_A': row1['params'],\n",
    "            'WA_A': row1['WA'],\n",
    "            'W0_A': row1['W0'],\n",
    "            'WM_A': row1['WM'],\n",
    "            'DEPTH_A': row1['DEPTH'],\n",
    "            \"gen_A\":row1[\"gen\"],\n",
    "            'best_acc_A': row1['best_acc'],\n",
    "            'epoch_1_B': row2['epoch_1'],\n",
    "            'epoch_2_B': row2['epoch_2'],\n",
    "            'epoch_3_B': row2['epoch_3'],\n",
    "            'epoch_4_B': row2['epoch_4'],\n",
    "            'epoch_5_B': row2['epoch_5'],\n",
    "            'epoch_6_B': row2['epoch_6'],\n",
    "            'epoch_7_B': row2['epoch_7'],\n",
    "                       'epoch_8_B': row2['epoch_8'],\n",
    "                       'epoch_9_B': row2['epoch_9'],\n",
    "                       'epoch_10_B': row2['epoch_10'],\n",
    "                       'epoch_20_B': row2['epoch_20'],\n",
    "            'num_stages_B': row2['num_stages'],\n",
    "            'params_B': row2['params'],\n",
    "            'WA_B': row2['WA'],\n",
    "            'W0_B': row2['W0'],\n",
    "            'WM_B': row2['WM'],\n",
    "            'DEPTH_B': row2['DEPTH'],\n",
    "            \"gen_B\":row2[\"gen\"],\n",
    "            'best_acc_B': row2['best_acc'],\n",
    "            'label': 1 if row1['best_acc'] > row2['best_acc'] else 0\n",
    "        }\n",
    "\n",
    "        combined_data.append(combined_row)\n",
    "\n",
    "    combined_df = pd.DataFrame(combined_data)\n",
    "    combined_df[\"benchmark\"]=benchmark_score\n",
    "    combined_df[\"num_classes\"]=filtered_df[\"num_classes\"].unique()[0]\n",
    "    combined_df[\"num_channels\"]=filtered_df[\"num_channels\"].unique()[0]\n",
    "    \n",
    "    total_data.append(combined_df)\n",
    "total_data=pd.concat(total_data)\n"
   ]
  },
  {
   "cell_type": "code",
   "execution_count": 53,
   "id": "c986a431-25a1-4422-a373-0f21d1143c97",
   "metadata": {
    "tags": []
   },
   "outputs": [],
   "source": [
    "total_data_test=[]\n",
    "\n",
    "for benchmark_score in test_data['benchmark'].unique():\n",
    "    filtered_df = test_data[(test_data['benchmark'] == benchmark_score)].reset_index(drop=True)\n",
    "    pairs = list(combinations(filtered_df.index, 2))\n",
    "\n",
    "    combined_data = []\n",
    "\n",
    "    for idx1, idx2 in pairs:\n",
    "        row1 = filtered_df.loc[idx1]\n",
    "        row2 = filtered_df.loc[idx2]\n",
    "        combined_row = {\n",
    "            'name_A': row1['name'],\n",
    "            'name_B': row2['name'],\n",
    "            'epoch_1_A': row1['epoch_1'],\n",
    "            'epoch_2_A': row1['epoch_2'],\n",
    "            'epoch_3_A': row1['epoch_3'],\n",
    "            'epoch_4_A': row1['epoch_4'],\n",
    "            'epoch_5_A': row1['epoch_5'],\n",
    "            'epoch_6_A': row1['epoch_6'],\n",
    "                       'epoch_7_A': row1['epoch_7'],\n",
    "                       'epoch_8_A': row1['epoch_8'],\n",
    "                       'epoch_9_A': row1['epoch_9'],\n",
    "                       'epoch_10_A': row1['epoch_10'],\n",
    "                       'epoch_20_A': row1['epoch_20'],\n",
    "            'num_stages_A': row1['num_stages'],\n",
    "            'params_A': row1['params'],\n",
    "            'WA_A': row1['WA'],\n",
    "            'W0_A': row1['W0'],\n",
    "            'WM_A': row1['WM'],\n",
    "            'DEPTH_A': row1['DEPTH'],\n",
    "            'gen_A': row1['gen'],\n",
    "            'best_acc_A': row1['best_acc'],\n",
    "            'epoch_1_B': row2['epoch_1'],\n",
    "            'epoch_2_B': row2['epoch_2'],\n",
    "            'epoch_3_B': row2['epoch_3'],\n",
    "            'epoch_4_B': row2['epoch_4'],\n",
    "            'epoch_5_B': row2['epoch_5'],\n",
    "            'epoch_6_B': row2['epoch_6'],\n",
    "                       'epoch_7_B': row2['epoch_7'],\n",
    "                       'epoch_8_B': row2['epoch_8'],\n",
    "                       'epoch_9_B': row2['epoch_9'],\n",
    "                       'epoch_10_B': row2['epoch_10'],\n",
    "                        'epoch_20_B': row2['epoch_20'],\n",
    "            'num_stages_B': row2['num_stages'],\n",
    "            'params_B': row2['params'],\n",
    "            'WA_B': row2['WA'],\n",
    "            'W0_B': row2['W0'],\n",
    "            'WM_B': row2['WM'],\n",
    "            'DEPTH_B': row2['DEPTH'],\n",
    "            'gen_B': row2['gen'],\n",
    "            'best_acc_B': row2['best_acc'],\n",
    "            'label': 1 if row1['best_acc'] > row2['best_acc'] else 0\n",
    "        }\n",
    "\n",
    "        combined_data.append(combined_row)\n",
    "\n",
    "    combined_df = pd.DataFrame(combined_data)\n",
    "    combined_df[\"benchmark\"]=benchmark_score\n",
    "    combined_df[\"num_classes\"]=filtered_df[\"num_classes\"].unique()[0]\n",
    "    combined_df[\"num_channels\"]=filtered_df[\"num_channels\"].unique()[0]\n",
    "    \n",
    "    total_data_test.append(combined_df)\n",
    "total_data_test=pd.concat(total_data_test)\n"
   ]
  },
  {
   "cell_type": "code",
   "execution_count": 54,
   "id": "c4fe433d-7b2c-4b22-af1a-26666bd48e30",
   "metadata": {
    "tags": []
   },
   "outputs": [
    {
     "data": {
      "text/plain": [
       "num_classes\n",
       "10    2155\n",
       "6      780\n",
       "20     780\n",
       "4      703\n",
       "Name: count, dtype: int64"
      ]
     },
     "execution_count": 54,
     "metadata": {},
     "output_type": "execute_result"
    }
   ],
   "source": [
    "total_data.num_classes.value_counts()"
   ]
  },
  {
   "cell_type": "code",
   "execution_count": 55,
   "id": "12424199-1548-492c-a658-bab40a9da078",
   "metadata": {
    "tags": []
   },
   "outputs": [
    {
     "data": {
      "text/plain": [
       "4418"
      ]
     },
     "execution_count": 55,
     "metadata": {},
     "output_type": "execute_result"
    }
   ],
   "source": [
    "len(total_data)"
   ]
  },
  {
   "cell_type": "code",
   "execution_count": 56,
   "id": "b19026a6-cb96-4cc1-93c0-7045cbb95518",
   "metadata": {
    "tags": []
   },
   "outputs": [],
   "source": [
    "cols_train=[ 'epoch_1_A', 'epoch_2_A', 'epoch_3_A', 'epoch_4_A', 'epoch_5_A', 'epoch_6_A', 'epoch_7_A',\n",
    "            'epoch_8_A','epoch_9_A','epoch_10_A','epoch_20_A',\n",
    "        'num_stages_A', 'params_A', 'WA_A', 'W0_A',\n",
    "       'WM_A', 'DEPTH_A', #\"best_acc_A\",\"label\",\n",
    "        'num_stages_B', 'params_B', 'WA_B', 'W0_B', \n",
    "          'epoch_1_B', 'epoch_2_B', 'epoch_3_B',  'epoch_4_B', 'epoch_5_B', 'epoch_6_B', 'epoch_7_B',\n",
    "        'epoch_8_B','epoch_9_B','epoch_10_B', 'epoch_20_B', #\"best_acc_B\",\n",
    "       'WM_B', 'DEPTH_B', 'num_classes', 'benchmark', \"num_channels\"]\n",
    "cols_train=[ \n",
    "        'num_stages_A', 'WA_A', 'W0_A', \"params_A\",\n",
    "       'WM_A', 'DEPTH_A',\n",
    "        'num_stages_B', 'WA_B', 'W0_B', \"params_B\",\n",
    "       'WM_B', 'DEPTH_B',\"num_classes\", \"benchmark\", \"num_channels\"]\n",
    "\n",
    "\n",
    "cols_test=[\"label\"]\n",
    "X=total_data[cols_train]\n",
    "y=total_data[cols_test]\n",
    "gens=[1]\n",
    "X_test_new=total_data_test[(total_data_test[\"gen_B\"].isin(gens)) & (total_data_test[\"gen_A\"].isin(gens))][cols_train]\n",
    "\n",
    "y_test_new=total_data_test[(total_data_test[\"gen_B\"].isin(gens)) & (total_data_test[\"gen_A\"].isin(gens))][cols_test]"
   ]
  },
  {
   "cell_type": "code",
   "execution_count": 57,
   "id": "65aa9485-8a28-4a9f-9bd9-bd0d6b50a474",
   "metadata": {
    "tags": []
   },
   "outputs": [
    {
     "data": {
      "text/plain": [
       "190"
      ]
     },
     "execution_count": 57,
     "metadata": {},
     "output_type": "execute_result"
    }
   ],
   "source": [
    "len(X_test_new)"
   ]
  },
  {
   "cell_type": "code",
   "execution_count": 58,
   "id": "7305451d-7118-4190-ae2a-ee7ad0c989db",
   "metadata": {
    "tags": []
   },
   "outputs": [
    {
     "name": "stdout",
     "output_type": "stream",
     "text": [
      "Accuracy: 0.47368421052631576\n",
      "Classification Report:\n",
      "              precision    recall  f1-score   support\n",
      "\n",
      "           0       0.47      1.00      0.64        90\n",
      "           1       0.00      0.00      0.00       100\n",
      "\n",
      "    accuracy                           0.47       190\n",
      "   macro avg       0.24      0.50      0.32       190\n",
      "weighted avg       0.22      0.47      0.30       190\n",
      "\n",
      "Confusion Matrix:\n",
      "[[ 90   0]\n",
      " [100   0]]\n"
     ]
    },
    {
     "name": "stderr",
     "output_type": "stream",
     "text": [
      "/home/hpc/iwb3/iwb3021h/.local/lib/python3.12/site-packages/sklearn/metrics/_classification.py:1509: UndefinedMetricWarning: Precision is ill-defined and being set to 0.0 in labels with no predicted samples. Use `zero_division` parameter to control this behavior.\n",
      "  _warn_prf(average, modifier, f\"{metric.capitalize()} is\", len(result))\n",
      "/home/hpc/iwb3/iwb3021h/.local/lib/python3.12/site-packages/sklearn/metrics/_classification.py:1509: UndefinedMetricWarning: Precision is ill-defined and being set to 0.0 in labels with no predicted samples. Use `zero_division` parameter to control this behavior.\n",
      "  _warn_prf(average, modifier, f\"{metric.capitalize()} is\", len(result))\n",
      "/home/hpc/iwb3/iwb3021h/.local/lib/python3.12/site-packages/sklearn/metrics/_classification.py:1509: UndefinedMetricWarning: Precision is ill-defined and being set to 0.0 in labels with no predicted samples. Use `zero_division` parameter to control this behavior.\n",
      "  _warn_prf(average, modifier, f\"{metric.capitalize()} is\", len(result))\n"
     ]
    }
   ],
   "source": [
    "from sklearn.metrics import accuracy_score, classification_report, confusion_matrix\n",
    "#y_0= (X_test_new['epoch_10_A'] > X_test_new['epoch_10_B']).astype(int).values\n",
    "y_0=np.repeat(0,len(y_test_new))\n",
    "# Calculate accuracy\n",
    "y_0_accuracy = accuracy_score(y_test_new, y_0)\n",
    "print(f\"Accuracy: {y_0_accuracy}\")\n",
    "\n",
    "# Detailed classification report\n",
    "print(\"Classification Report:\")\n",
    "print(classification_report(y_test_new, y_0))\n",
    "\n",
    "# Confusion matrix\n",
    "print(\"Confusion Matrix:\")\n",
    "print(confusion_matrix(y_test_new, y_0))"
   ]
  },
  {
   "cell_type": "code",
   "execution_count": 59,
   "id": "7409cce3-8154-442f-b4b8-0a7332b24741",
   "metadata": {
    "tags": []
   },
   "outputs": [],
   "source": [
    "import pandas as pd\n",
    "from sklearn.model_selection import train_test_split\n",
    "from sklearn.preprocessing import StandardScaler\n",
    "from sklearn.ensemble import RandomForestClassifier\n"
   ]
  },
  {
   "cell_type": "code",
   "execution_count": 60,
   "id": "403f2acc-b74e-4bc4-bab7-7aa7cdddce76",
   "metadata": {
    "tags": []
   },
   "outputs": [],
   "source": [
    "from scipy.stats import spearmanr\n",
    "from scipy.stats import kendalltau\n",
    "\n",
    "def kendall_tau_distance(list1, list2):\n",
    "    tau, _ = kendalltau(list1, list2)\n",
    "    return tau\n",
    "def spearman_rank_correlation(list1, list2):\n",
    "    corr, _ = spearmanr(list1, list2)\n",
    "    return corr"
   ]
  },
  {
   "cell_type": "code",
   "execution_count": 61,
   "id": "d4c86263-9761-4c53-9fd0-8eb63766a3ec",
   "metadata": {
    "tags": []
   },
   "outputs": [],
   "source": [
    "def get_correlations_epochs(total_data_test, gens):\n",
    "    cols_train=[ 'epoch_1_A', 'epoch_2_A', 'epoch_3_A', 'epoch_4_A', 'epoch_5_A', 'epoch_6_A', 'epoch_7_A',\n",
    "            'epoch_8_A','epoch_9_A','epoch_10_A',\n",
    "        'num_stages_A', 'params_A', 'WA_A', 'W0_A',\n",
    "       'WM_A', 'DEPTH_A',\n",
    "        'num_stages_B', 'params_B', 'WA_B', 'W0_B', \n",
    "          'epoch_1_B', 'epoch_2_B', 'epoch_3_B',  'epoch_4_B', 'epoch_5_B', 'epoch_6_B', 'epoch_7_B',\n",
    "        'epoch_8_B','epoch_9_B','epoch_10_B',\n",
    "       'WM_B', 'DEPTH_B', 'num_classes', 'benchmark', \"num_channels\"]\n",
    "    cols_test=[\"label\"]\n",
    "    X_test_new=total_data_test[(total_data_test[\"gen_B\"].isin(gens)) & (total_data_test[\"gen_A\"].isin(gens))][cols_train]\n",
    "    y_test_new=total_data_test[(total_data_test[\"gen_B\"].isin(gens)) & (total_data_test[\"gen_A\"].isin(gens))][cols_test]\n",
    "    \n",
    "    accs={}\n",
    "    corrs={}\n",
    "    results={}\n",
    "    for epoch in range(1,11):\n",
    "        y_epoch_10_pred= (X_test_new[f'epoch_{epoch}_A'] > X_test_new[f'epoch_{epoch}_B']).astype(int).values\n",
    "\n",
    "        accuracy = accuracy_score(y_test_new, y_epoch_10_pred)\n",
    "        accs[epoch]=accuracy\n",
    "        \n",
    "        ranking_test_df=total_data_test[(total_data_test[\"gen_B\"].isin(gens)) & (total_data_test[\"gen_A\"].isin(gens))][[\"name_A\",\"name_B\", \"label\", \"gen_A\",\"gen_B\"]]\n",
    "        ranking_test_df[\"pred_10_epochs\"]=y_epoch_10_pred\n",
    "\n",
    "            # Create a new column by applying the function to each row\n",
    "        ranking_target={}\n",
    "        ranking_10={}\n",
    "        for ind in list(ranking_test_df.name_A.unique())+list(ranking_test_df.name_B.unique()):\n",
    "            ranking_target[ind]=0\n",
    "            ranking_10[ind]=0\n",
    "        for index, row in ranking_test_df.iterrows():\n",
    "            if row[\"label\"]==1:\n",
    "                ranking_target[row[\"name_A\"]]=ranking_target[row[\"name_A\"]]+1\n",
    "            else:\n",
    "                ranking_target[row[\"name_B\"]]=ranking_target[row[\"name_B\"]]+1\n",
    "\n",
    "            if row[\"pred_10_epochs\"]==1:\n",
    "                ranking_10[row[\"name_A\"]]=ranking_10[row[\"name_A\"]]+1\n",
    "            else:\n",
    "                ranking_10[row[\"name_B\"]]=ranking_10[row[\"name_B\"]]+1\n",
    "\n",
    "        ranking_target_df=pd.DataFrame([ranking_target]).T.rename(columns={0:\"score\"}).sort_values(by=\"score\", ascending=False)\n",
    "        ranking_10_df=pd.DataFrame([ranking_10]).T.rename(columns={0:\"score\"}).sort_values(by=\"score\", ascending=False)\n",
    "\n",
    "            \n",
    "        ######## Correlation #########\n",
    "        # Example usage\n",
    "        target =ranking_target_df.index.tolist()\n",
    "\n",
    "        list_to_compare_10 = ranking_10_df.index.tolist()\n",
    "        # Convert the lists to ranks\n",
    "        target_ranks = {k: i for i, k in enumerate(target)}\n",
    "        list_to_compare_ranks_10 = [target_ranks[x] for x in list_to_compare_10]\n",
    "        # Calculate Spearman rank correlation\n",
    "        spearman_corr_10 = spearman_rank_correlation(list_to_compare_ranks_10, list(range(len(target))))\n",
    "        print(f'Spearman rank correlation: {spearman_corr_10}')\n",
    "        # Calculate Kendall Tau distance\n",
    "        tau_distance_10 = kendall_tau_distance(list_to_compare_ranks_10, list(range(len(target))))\n",
    "        print(f'Kendall Tau distance: {tau_distance_10}')\n",
    "        corrs[epoch]=(spearman_corr_10, tau_distance_10)\n",
    "    \n",
    "    results[\"accuracy\"]=accs\n",
    "    results[\"correlation\"]=corrs\n",
    "    return results\n",
    "    \n",
    "def get_correlations(y_pred,y_0):\n",
    "    ranking_test_df=total_data_test[(total_data_test[\"gen_B\"].isin(gens)) & (total_data_test[\"gen_A\"].isin(gens))][[\"name_A\",\"name_B\", \"label\", \"gen_A\",\"gen_B\"]]\n",
    "    ranking_test_df[\"pred_10_epochs\"]=y_0\n",
    "    ranking_test_df[\"y_pred\"]=y_pred\n",
    "\n",
    "    # Create a new column by applying the function to each row\n",
    "    ranking_target={}\n",
    "    ranking_10={}\n",
    "    ranking_predict={}\n",
    "    for ind in list(ranking_test_df.name_A.unique())+list(ranking_test_df.name_B.unique()):\n",
    "        ranking_target[ind]=0\n",
    "        ranking_predict[ind]=0\n",
    "        ranking_10[ind]=0\n",
    "    for index, row in ranking_test_df.iterrows():\n",
    "        if row[\"label\"]==1:\n",
    "            ranking_target[row[\"name_A\"]]=ranking_target[row[\"name_A\"]]+1\n",
    "        else:\n",
    "            ranking_target[row[\"name_B\"]]=ranking_target[row[\"name_B\"]]+1\n",
    "\n",
    "        if row[\"pred_10_epochs\"]==1:\n",
    "            ranking_10[row[\"name_A\"]]=ranking_10[row[\"name_A\"]]+1\n",
    "        else:\n",
    "            ranking_10[row[\"name_B\"]]=ranking_10[row[\"name_B\"]]+1\n",
    "\n",
    "        if row[\"y_pred\"]==1:\n",
    "            ranking_predict[row[\"name_A\"]]=ranking_predict[row[\"name_A\"]]+1\n",
    "        else:\n",
    "            ranking_predict[row[\"name_B\"]]=ranking_predict[row[\"name_B\"]]+1\n",
    "\n",
    "    ranking_predict_df=pd.DataFrame([ranking_predict]).T.rename(columns={0:\"score\"}).sort_values(by=\"score\", ascending=False)\n",
    "\n",
    "    ranking_target_df=pd.DataFrame([ranking_target]).T.rename(columns={0:\"score\"}).sort_values(by=\"score\", ascending=False)\n",
    "    ranking_10_df=pd.DataFrame([ranking_10]).T.rename(columns={0:\"score\"}).sort_values(by=\"score\", ascending=False)\n",
    "    \n",
    "    ######## Correlation #########\n",
    "    # Example usage\n",
    "    target =ranking_target_df.index.tolist()\n",
    "    list_to_compare = ranking_predict_df.index.tolist()\n",
    "\n",
    "    #list_to_compare = ranking_10_df.index.tolist()\n",
    "    # Convert the lists to ranks\n",
    "    target_ranks = {k: i for i, k in enumerate(target)}\n",
    "    list_to_compare_ranks = [target_ranks[x] for x in list_to_compare]\n",
    "    # Calculate Spearman rank correlation\n",
    "    spearman_corr = spearman_rank_correlation(list_to_compare_ranks, list(range(len(target))))\n",
    "    #print(f'Spearman rank correlation: {spearman_corr}')\n",
    "    # Calculate Kendall Tau distance\n",
    "    tau_distance = kendall_tau_distance(list_to_compare_ranks, list(range(len(target))))\n",
    "    #print(f'Kendall Tau distance: {tau_distance}')\n",
    "\n",
    "    list_to_compare_10 = ranking_10_df.index.tolist()\n",
    "    # Convert the lists to ranks\n",
    "    target_ranks = {k: i for i, k in enumerate(target)}\n",
    "    list_to_compare_ranks_10 = [target_ranks[x] for x in list_to_compare_10]\n",
    "    # Calculate Spearman rank correlation\n",
    "    spearman_corr_10 = spearman_rank_correlation(list_to_compare_ranks_10, list(range(len(target))))\n",
    "    print(f'Spearman rank correlation: {spearman_corr_10}')\n",
    "    # Calculate Kendall Tau distance\n",
    "    tau_distance_10 = kendall_tau_distance(list_to_compare_ranks_10, list(range(len(target))))\n",
    "    print(f'Kendall Tau distance: {tau_distance_10}')\n",
    "    return spearman_corr, tau_distance, spearman_corr_10, tau_distance_10"
   ]
  },
  {
   "cell_type": "code",
   "execution_count": 62,
   "id": "b5c6d162-0555-4ae7-b993-015986dd2444",
   "metadata": {
    "tags": []
   },
   "outputs": [],
   "source": [
    "import json\n",
    "#with open('epochs_results.json', 'w') as json_file:\n",
    "#    json.dump(epochs_results, json_file, indent=4)"
   ]
  },
  {
   "cell_type": "code",
   "execution_count": 63,
   "id": "8aa09b6b-71fd-45cf-a7f4-5deea1b0fec4",
   "metadata": {
    "tags": []
   },
   "outputs": [
    {
     "name": "stdout",
     "output_type": "stream",
     "text": [
      "Spearman rank correlation: 0.6902255639097743\n",
      "Kendall Tau distance: 0.49473684210526314\n",
      "Spearman rank correlation: 0.7458646616541353\n",
      "Kendall Tau distance: 0.5578947368421052\n",
      "Spearman rank correlation: 0.7969924812030074\n",
      "Kendall Tau distance: 0.6000000000000001\n",
      "Spearman rank correlation: 0.77593984962406\n",
      "Kendall Tau distance: 0.5894736842105264\n",
      "Spearman rank correlation: 0.8225563909774435\n",
      "Kendall Tau distance: 0.6631578947368422\n",
      "Spearman rank correlation: 0.7894736842105263\n",
      "Kendall Tau distance: 0.5894736842105264\n",
      "Spearman rank correlation: 0.9052631578947368\n",
      "Kendall Tau distance: 0.7473684210526316\n",
      "Spearman rank correlation: 0.8150375939849623\n",
      "Kendall Tau distance: 0.6736842105263158\n",
      "Spearman rank correlation: 0.831578947368421\n",
      "Kendall Tau distance: 0.6631578947368422\n",
      "Spearman rank correlation: 0.8330827067669173\n",
      "Kendall Tau distance: 0.6842105263157895\n"
     ]
    }
   ],
   "source": [
    "if test_dataset not in epochs_results:\n",
    "    epochs_results[test_dataset] = []\n",
    "epochs_results[test_dataset].append(get_correlations_epochs(total_data_test, gens))"
   ]
  },
  {
   "cell_type": "code",
   "execution_count": 64,
   "id": "6745c756-c6fe-4b24-9643-136440f72063",
   "metadata": {
    "tags": []
   },
   "outputs": [
    {
     "data": {
      "text/plain": [
       "4418"
      ]
     },
     "execution_count": 64,
     "metadata": {},
     "output_type": "execute_result"
    }
   ],
   "source": [
    "len(total_data)"
   ]
  },
  {
   "cell_type": "code",
   "execution_count": 65,
   "id": "2763631d-dd76-4313-90dd-a706367c726f",
   "metadata": {
    "tags": []
   },
   "outputs": [
    {
     "name": "stdout",
     "output_type": "stream",
     "text": [
      "Fitting 3 folds for each of 18 candidates, totalling 54 fits\n"
     ]
    },
    {
     "name": "stderr",
     "output_type": "stream",
     "text": [
      "/home/hpc/iwb3/iwb3021h/.local/lib/python3.12/site-packages/sklearn/preprocessing/_label.py:114: DataConversionWarning: A column-vector y was passed when a 1d array was expected. Please change the shape of y to (n_samples, ), for example using ravel().\n",
      "  y = column_or_1d(y, warn=True)\n",
      "/home/hpc/iwb3/iwb3021h/.local/lib/python3.12/site-packages/sklearn/preprocessing/_label.py:114: DataConversionWarning: A column-vector y was passed when a 1d array was expected. Please change the shape of y to (n_samples, ), for example using ravel().\n",
      "  y = column_or_1d(y, warn=True)\n",
      "/home/hpc/iwb3/iwb3021h/.local/lib/python3.12/site-packages/sklearn/preprocessing/_label.py:114: DataConversionWarning: A column-vector y was passed when a 1d array was expected. Please change the shape of y to (n_samples, ), for example using ravel().\n",
      "  y = column_or_1d(y, warn=True)\n",
      "/home/hpc/iwb3/iwb3021h/.local/lib/python3.12/site-packages/sklearn/preprocessing/_label.py:114: DataConversionWarning: A column-vector y was passed when a 1d array was expected. Please change the shape of y to (n_samples, ), for example using ravel().\n",
      "  y = column_or_1d(y, warn=True)\n",
      "/home/hpc/iwb3/iwb3021h/.local/lib/python3.12/site-packages/sklearn/preprocessing/_label.py:114: DataConversionWarning: A column-vector y was passed when a 1d array was expected. Please change the shape of y to (n_samples, ), for example using ravel().\n",
      "  y = column_or_1d(y, warn=True)\n",
      "/home/hpc/iwb3/iwb3021h/.local/lib/python3.12/site-packages/sklearn/preprocessing/_label.py:114: DataConversionWarning: A column-vector y was passed when a 1d array was expected. Please change the shape of y to (n_samples, ), for example using ravel().\n",
      "  y = column_or_1d(y, warn=True)\n",
      "/home/hpc/iwb3/iwb3021h/.local/lib/python3.12/site-packages/sklearn/preprocessing/_label.py:114: DataConversionWarning: A column-vector y was passed when a 1d array was expected. Please change the shape of y to (n_samples, ), for example using ravel().\n",
      "  y = column_or_1d(y, warn=True)\n",
      "/home/hpc/iwb3/iwb3021h/.local/lib/python3.12/site-packages/sklearn/preprocessing/_label.py:114: DataConversionWarning: A column-vector y was passed when a 1d array was expected. Please change the shape of y to (n_samples, ), for example using ravel().\n",
      "  y = column_or_1d(y, warn=True)\n",
      "/home/hpc/iwb3/iwb3021h/.local/lib/python3.12/site-packages/sklearn/preprocessing/_label.py:114: DataConversionWarning: A column-vector y was passed when a 1d array was expected. Please change the shape of y to (n_samples, ), for example using ravel().\n",
      "  y = column_or_1d(y, warn=True)\n",
      "/home/hpc/iwb3/iwb3021h/.local/lib/python3.12/site-packages/sklearn/preprocessing/_label.py:114: DataConversionWarning: A column-vector y was passed when a 1d array was expected. Please change the shape of y to (n_samples, ), for example using ravel().\n",
      "  y = column_or_1d(y, warn=True)\n",
      "/home/hpc/iwb3/iwb3021h/.local/lib/python3.12/site-packages/sklearn/preprocessing/_label.py:114: DataConversionWarning: A column-vector y was passed when a 1d array was expected. Please change the shape of y to (n_samples, ), for example using ravel().\n",
      "  y = column_or_1d(y, warn=True)\n",
      "/home/hpc/iwb3/iwb3021h/.local/lib/python3.12/site-packages/sklearn/preprocessing/_label.py:114: DataConversionWarning: A column-vector y was passed when a 1d array was expected. Please change the shape of y to (n_samples, ), for example using ravel().\n",
      "  y = column_or_1d(y, warn=True)\n",
      "/home/hpc/iwb3/iwb3021h/.local/lib/python3.12/site-packages/sklearn/preprocessing/_label.py:114: DataConversionWarning: A column-vector y was passed when a 1d array was expected. Please change the shape of y to (n_samples, ), for example using ravel().\n",
      "  y = column_or_1d(y, warn=True)\n",
      "/home/hpc/iwb3/iwb3021h/.local/lib/python3.12/site-packages/sklearn/preprocessing/_label.py:114: DataConversionWarning: A column-vector y was passed when a 1d array was expected. Please change the shape of y to (n_samples, ), for example using ravel().\n",
      "  y = column_or_1d(y, warn=True)\n",
      "/home/hpc/iwb3/iwb3021h/.local/lib/python3.12/site-packages/sklearn/preprocessing/_label.py:114: DataConversionWarning: A column-vector y was passed when a 1d array was expected. Please change the shape of y to (n_samples, ), for example using ravel().\n",
      "  y = column_or_1d(y, warn=True)\n",
      "/home/hpc/iwb3/iwb3021h/.local/lib/python3.12/site-packages/sklearn/preprocessing/_label.py:114: DataConversionWarning: A column-vector y was passed when a 1d array was expected. Please change the shape of y to (n_samples, ), for example using ravel().\n",
      "  y = column_or_1d(y, warn=True)\n",
      "/home/hpc/iwb3/iwb3021h/.local/lib/python3.12/site-packages/sklearn/preprocessing/_label.py:114: DataConversionWarning: A column-vector y was passed when a 1d array was expected. Please change the shape of y to (n_samples, ), for example using ravel().\n",
      "  y = column_or_1d(y, warn=True)\n",
      "/home/hpc/iwb3/iwb3021h/.local/lib/python3.12/site-packages/sklearn/preprocessing/_label.py:114: DataConversionWarning: A column-vector y was passed when a 1d array was expected. Please change the shape of y to (n_samples, ), for example using ravel().\n",
      "  y = column_or_1d(y, warn=True)\n",
      "/home/hpc/iwb3/iwb3021h/.local/lib/python3.12/site-packages/sklearn/preprocessing/_label.py:114: DataConversionWarning: A column-vector y was passed when a 1d array was expected. Please change the shape of y to (n_samples, ), for example using ravel().\n",
      "  y = column_or_1d(y, warn=True)\n",
      "/home/hpc/iwb3/iwb3021h/.local/lib/python3.12/site-packages/sklearn/preprocessing/_label.py:114: DataConversionWarning: A column-vector y was passed when a 1d array was expected. Please change the shape of y to (n_samples, ), for example using ravel().\n",
      "  y = column_or_1d(y, warn=True)\n",
      "/home/hpc/iwb3/iwb3021h/.local/lib/python3.12/site-packages/sklearn/preprocessing/_label.py:114: DataConversionWarning: A column-vector y was passed when a 1d array was expected. Please change the shape of y to (n_samples, ), for example using ravel().\n",
      "  y = column_or_1d(y, warn=True)\n",
      "/home/hpc/iwb3/iwb3021h/.local/lib/python3.12/site-packages/sklearn/preprocessing/_label.py:114: DataConversionWarning: A column-vector y was passed when a 1d array was expected. Please change the shape of y to (n_samples, ), for example using ravel().\n",
      "  y = column_or_1d(y, warn=True)\n",
      "/home/hpc/iwb3/iwb3021h/.local/lib/python3.12/site-packages/sklearn/preprocessing/_label.py:114: DataConversionWarning: A column-vector y was passed when a 1d array was expected. Please change the shape of y to (n_samples, ), for example using ravel().\n",
      "  y = column_or_1d(y, warn=True)\n",
      "/home/hpc/iwb3/iwb3021h/.local/lib/python3.12/site-packages/sklearn/preprocessing/_label.py:114: DataConversionWarning: A column-vector y was passed when a 1d array was expected. Please change the shape of y to (n_samples, ), for example using ravel().\n",
      "  y = column_or_1d(y, warn=True)\n",
      "/home/hpc/iwb3/iwb3021h/.local/lib/python3.12/site-packages/sklearn/preprocessing/_label.py:114: DataConversionWarning: A column-vector y was passed when a 1d array was expected. Please change the shape of y to (n_samples, ), for example using ravel().\n",
      "  y = column_or_1d(y, warn=True)\n",
      "/home/hpc/iwb3/iwb3021h/.local/lib/python3.12/site-packages/sklearn/preprocessing/_label.py:114: DataConversionWarning: A column-vector y was passed when a 1d array was expected. Please change the shape of y to (n_samples, ), for example using ravel().\n",
      "  y = column_or_1d(y, warn=True)\n",
      "/home/hpc/iwb3/iwb3021h/.local/lib/python3.12/site-packages/sklearn/preprocessing/_label.py:114: DataConversionWarning: A column-vector y was passed when a 1d array was expected. Please change the shape of y to (n_samples, ), for example using ravel().\n",
      "  y = column_or_1d(y, warn=True)\n",
      "/home/hpc/iwb3/iwb3021h/.local/lib/python3.12/site-packages/sklearn/preprocessing/_label.py:114: DataConversionWarning: A column-vector y was passed when a 1d array was expected. Please change the shape of y to (n_samples, ), for example using ravel().\n",
      "  y = column_or_1d(y, warn=True)\n",
      "/home/hpc/iwb3/iwb3021h/.local/lib/python3.12/site-packages/sklearn/preprocessing/_label.py:114: DataConversionWarning: A column-vector y was passed when a 1d array was expected. Please change the shape of y to (n_samples, ), for example using ravel().\n",
      "  y = column_or_1d(y, warn=True)\n",
      "/home/hpc/iwb3/iwb3021h/.local/lib/python3.12/site-packages/sklearn/preprocessing/_label.py:114: DataConversionWarning: A column-vector y was passed when a 1d array was expected. Please change the shape of y to (n_samples, ), for example using ravel().\n",
      "  y = column_or_1d(y, warn=True)\n",
      "/home/hpc/iwb3/iwb3021h/.local/lib/python3.12/site-packages/sklearn/preprocessing/_label.py:114: DataConversionWarning: A column-vector y was passed when a 1d array was expected. Please change the shape of y to (n_samples, ), for example using ravel().\n",
      "  y = column_or_1d(y, warn=True)\n",
      "/home/hpc/iwb3/iwb3021h/.local/lib/python3.12/site-packages/sklearn/preprocessing/_label.py:114: DataConversionWarning: A column-vector y was passed when a 1d array was expected. Please change the shape of y to (n_samples, ), for example using ravel().\n",
      "  y = column_or_1d(y, warn=True)\n",
      "/home/hpc/iwb3/iwb3021h/.local/lib/python3.12/site-packages/sklearn/preprocessing/_label.py:114: DataConversionWarning: A column-vector y was passed when a 1d array was expected. Please change the shape of y to (n_samples, ), for example using ravel().\n",
      "  y = column_or_1d(y, warn=True)\n",
      "/home/hpc/iwb3/iwb3021h/.local/lib/python3.12/site-packages/sklearn/preprocessing/_label.py:114: DataConversionWarning: A column-vector y was passed when a 1d array was expected. Please change the shape of y to (n_samples, ), for example using ravel().\n",
      "  y = column_or_1d(y, warn=True)\n",
      "/home/hpc/iwb3/iwb3021h/.local/lib/python3.12/site-packages/sklearn/preprocessing/_label.py:114: DataConversionWarning: A column-vector y was passed when a 1d array was expected. Please change the shape of y to (n_samples, ), for example using ravel().\n",
      "  y = column_or_1d(y, warn=True)\n",
      "/home/hpc/iwb3/iwb3021h/.local/lib/python3.12/site-packages/sklearn/preprocessing/_label.py:114: DataConversionWarning: A column-vector y was passed when a 1d array was expected. Please change the shape of y to (n_samples, ), for example using ravel().\n",
      "  y = column_or_1d(y, warn=True)\n",
      "/home/hpc/iwb3/iwb3021h/.local/lib/python3.12/site-packages/sklearn/preprocessing/_label.py:114: DataConversionWarning: A column-vector y was passed when a 1d array was expected. Please change the shape of y to (n_samples, ), for example using ravel().\n",
      "  y = column_or_1d(y, warn=True)\n",
      "/home/hpc/iwb3/iwb3021h/.local/lib/python3.12/site-packages/sklearn/preprocessing/_label.py:114: DataConversionWarning: A column-vector y was passed when a 1d array was expected. Please change the shape of y to (n_samples, ), for example using ravel().\n",
      "  y = column_or_1d(y, warn=True)\n",
      "/home/hpc/iwb3/iwb3021h/.local/lib/python3.12/site-packages/sklearn/preprocessing/_label.py:114: DataConversionWarning: A column-vector y was passed when a 1d array was expected. Please change the shape of y to (n_samples, ), for example using ravel().\n",
      "  y = column_or_1d(y, warn=True)\n",
      "/home/hpc/iwb3/iwb3021h/.local/lib/python3.12/site-packages/sklearn/preprocessing/_label.py:114: DataConversionWarning: A column-vector y was passed when a 1d array was expected. Please change the shape of y to (n_samples, ), for example using ravel().\n",
      "  y = column_or_1d(y, warn=True)\n",
      "/home/hpc/iwb3/iwb3021h/.local/lib/python3.12/site-packages/sklearn/preprocessing/_label.py:114: DataConversionWarning: A column-vector y was passed when a 1d array was expected. Please change the shape of y to (n_samples, ), for example using ravel().\n",
      "  y = column_or_1d(y, warn=True)\n",
      "/home/hpc/iwb3/iwb3021h/.local/lib/python3.12/site-packages/sklearn/preprocessing/_label.py:114: DataConversionWarning: A column-vector y was passed when a 1d array was expected. Please change the shape of y to (n_samples, ), for example using ravel().\n",
      "  y = column_or_1d(y, warn=True)\n",
      "/home/hpc/iwb3/iwb3021h/.local/lib/python3.12/site-packages/sklearn/preprocessing/_label.py:114: DataConversionWarning: A column-vector y was passed when a 1d array was expected. Please change the shape of y to (n_samples, ), for example using ravel().\n",
      "  y = column_or_1d(y, warn=True)\n",
      "/home/hpc/iwb3/iwb3021h/.local/lib/python3.12/site-packages/sklearn/preprocessing/_label.py:114: DataConversionWarning: A column-vector y was passed when a 1d array was expected. Please change the shape of y to (n_samples, ), for example using ravel().\n",
      "  y = column_or_1d(y, warn=True)\n",
      "/home/hpc/iwb3/iwb3021h/.local/lib/python3.12/site-packages/sklearn/preprocessing/_label.py:114: DataConversionWarning: A column-vector y was passed when a 1d array was expected. Please change the shape of y to (n_samples, ), for example using ravel().\n",
      "  y = column_or_1d(y, warn=True)\n",
      "/home/hpc/iwb3/iwb3021h/.local/lib/python3.12/site-packages/sklearn/preprocessing/_label.py:114: DataConversionWarning: A column-vector y was passed when a 1d array was expected. Please change the shape of y to (n_samples, ), for example using ravel().\n",
      "  y = column_or_1d(y, warn=True)\n",
      "/home/hpc/iwb3/iwb3021h/.local/lib/python3.12/site-packages/sklearn/preprocessing/_label.py:114: DataConversionWarning: A column-vector y was passed when a 1d array was expected. Please change the shape of y to (n_samples, ), for example using ravel().\n",
      "  y = column_or_1d(y, warn=True)\n",
      "/home/hpc/iwb3/iwb3021h/.local/lib/python3.12/site-packages/sklearn/preprocessing/_label.py:114: DataConversionWarning: A column-vector y was passed when a 1d array was expected. Please change the shape of y to (n_samples, ), for example using ravel().\n",
      "  y = column_or_1d(y, warn=True)\n",
      "/home/hpc/iwb3/iwb3021h/.local/lib/python3.12/site-packages/sklearn/preprocessing/_label.py:114: DataConversionWarning: A column-vector y was passed when a 1d array was expected. Please change the shape of y to (n_samples, ), for example using ravel().\n",
      "  y = column_or_1d(y, warn=True)\n",
      "/home/hpc/iwb3/iwb3021h/.local/lib/python3.12/site-packages/sklearn/preprocessing/_label.py:114: DataConversionWarning: A column-vector y was passed when a 1d array was expected. Please change the shape of y to (n_samples, ), for example using ravel().\n",
      "  y = column_or_1d(y, warn=True)\n",
      "/home/hpc/iwb3/iwb3021h/.local/lib/python3.12/site-packages/sklearn/preprocessing/_label.py:114: DataConversionWarning: A column-vector y was passed when a 1d array was expected. Please change the shape of y to (n_samples, ), for example using ravel().\n",
      "  y = column_or_1d(y, warn=True)\n",
      "/home/hpc/iwb3/iwb3021h/.local/lib/python3.12/site-packages/sklearn/preprocessing/_label.py:114: DataConversionWarning: A column-vector y was passed when a 1d array was expected. Please change the shape of y to (n_samples, ), for example using ravel().\n",
      "  y = column_or_1d(y, warn=True)\n",
      "/home/hpc/iwb3/iwb3021h/.local/lib/python3.12/site-packages/sklearn/preprocessing/_label.py:114: DataConversionWarning: A column-vector y was passed when a 1d array was expected. Please change the shape of y to (n_samples, ), for example using ravel().\n",
      "  y = column_or_1d(y, warn=True)\n",
      "/home/hpc/iwb3/iwb3021h/.local/lib/python3.12/site-packages/sklearn/preprocessing/_label.py:114: DataConversionWarning: A column-vector y was passed when a 1d array was expected. Please change the shape of y to (n_samples, ), for example using ravel().\n",
      "  y = column_or_1d(y, warn=True)\n"
     ]
    },
    {
     "name": "stdout",
     "output_type": "stream",
     "text": [
      "[CV] END ..learning_rate=0.01, max_depth=3, n_estimators=300; total time=   1.6s\n",
      "[CV] END ..learning_rate=0.01, max_depth=3, n_estimators=500; total time=   2.2s\n",
      "[CV] END ..learning_rate=0.01, max_depth=4, n_estimators=100; total time=   0.6s\n",
      "[CV] END ..learning_rate=0.01, max_depth=4, n_estimators=300; total time=   2.2s\n",
      "[CV] END ..learning_rate=0.01, max_depth=4, n_estimators=500; total time=   3.2s\n",
      "[CV] END ..learning_rate=0.01, max_depth=5, n_estimators=300; total time=   2.6s\n",
      "[CV] END ...learning_rate=0.1, max_depth=3, n_estimators=100; total time=   0.5s\n",
      "[CV] END ...learning_rate=0.1, max_depth=3, n_estimators=100; total time=   0.5s\n",
      "[CV] END ...learning_rate=0.1, max_depth=3, n_estimators=100; total time=   0.5s\n",
      "[CV] END ...learning_rate=0.1, max_depth=3, n_estimators=300; total time=   1.4s\n",
      "[CV] END ...learning_rate=0.1, max_depth=3, n_estimators=300; total time=   1.4s\n",
      "[CV] END ...learning_rate=0.1, max_depth=4, n_estimators=100; total time=   0.6s\n",
      "[CV] END ...learning_rate=0.1, max_depth=4, n_estimators=100; total time=   0.6s\n",
      "[CV] END ...learning_rate=0.1, max_depth=4, n_estimators=300; total time=   1.9s\n",
      "[CV] END ...learning_rate=0.1, max_depth=4, n_estimators=500; total time=   3.1s\n",
      "[CV] END ...learning_rate=0.1, max_depth=5, n_estimators=500; total time=   4.0s\n",
      "[CV] END ......................max_depth=3, n_estimators=100; total time=   0.3s\n",
      "[CV] END ......................max_depth=3, n_estimators=300; total time=   0.6s\n",
      "[CV] END ......................max_depth=5, n_estimators=100; total time=   0.3s\n",
      "[CV] END ......................max_depth=5, n_estimators=100; total time=   0.3s\n",
      "[CV] END ......................max_depth=5, n_estimators=300; total time=   0.7s\n",
      "[CV] END ......................max_depth=5, n_estimators=500; total time=   1.2s\n",
      "[CV] END ......................max_depth=7, n_estimators=300; total time=   0.9s\n",
      "[CV] END ......................max_depth=7, n_estimators=500; total time=   1.5s\n",
      "[CV] END .....................max_depth=10, n_estimators=500; total time=   1.8s\n",
      "[CV] END ..learning_rate=0.01, max_depth=3, n_estimators=100; total time=   0.2s\n",
      "[CV] END ..learning_rate=0.01, max_depth=3, n_estimators=300; total time=   0.2s\n",
      "[CV] END ..learning_rate=0.01, max_depth=3, n_estimators=500; total time=   0.2s\n",
      "[CV] END ..learning_rate=0.01, max_depth=4, n_estimators=300; total time=   0.2s\n",
      "[CV] END ..learning_rate=0.01, max_depth=5, n_estimators=100; total time=   0.1s\n",
      "[CV] END ..learning_rate=0.01, max_depth=5, n_estimators=100; total time=   0.1s\n",
      "[CV] END ..learning_rate=0.01, max_depth=5, n_estimators=300; total time=   0.3s\n",
      "[CV] END ..learning_rate=0.01, max_depth=5, n_estimators=500; total time=   0.4s\n",
      "[CV] END ..learning_rate=0.01, max_depth=6, n_estimators=300; total time=   0.4s\n",
      "[CV] END ...learning_rate=0.1, max_depth=3, n_estimators=100; total time=   0.1s\n",
      "[CV] END ...learning_rate=0.1, max_depth=3, n_estimators=100; total time=   0.1s\n",
      "[CV] END ...learning_rate=0.1, max_depth=3, n_estimators=100; total time=   0.1s\n",
      "[CV] END ...learning_rate=0.1, max_depth=3, n_estimators=300; total time=   0.1s\n",
      "[CV] END ...learning_rate=0.1, max_depth=3, n_estimators=300; total time=   0.1s\n",
      "[CV] END ...learning_rate=0.1, max_depth=3, n_estimators=500; total time=   0.2s\n",
      "[CV] END ...learning_rate=0.1, max_depth=4, n_estimators=500; total time=   0.3s\n",
      "[CV] END ...learning_rate=0.1, max_depth=5, n_estimators=100; total time=   0.1s\n",
      "[CV] END ...learning_rate=0.1, max_depth=5, n_estimators=300; total time=   0.2s\n",
      "[CV] END ...learning_rate=0.1, max_depth=5, n_estimators=500; total time=   0.4s\n",
      "[CV] END ...learning_rate=0.1, max_depth=6, n_estimators=500; total time=   0.4s\n",
      "[CV] END ..learning_rate=0.01, max_depth=3, n_estimators=100; total time=   0.5s\n",
      "[CV] END ..learning_rate=0.01, max_depth=3, n_estimators=300; total time=   1.3s\n",
      "[CV] END ..learning_rate=0.01, max_depth=4, n_estimators=100; total time=   0.6s\n",
      "[CV] END ..learning_rate=0.01, max_depth=4, n_estimators=100; total time=   0.6s\n",
      "[CV] END ..learning_rate=0.01, max_depth=4, n_estimators=300; total time=   1.8s\n",
      "[CV] END ..learning_rate=0.01, max_depth=4, n_estimators=500; total time=   3.0s\n",
      "[CV] END ..learning_rate=0.01, max_depth=5, n_estimators=300; total time=   2.4s\n",
      "[CV] END ...learning_rate=0.1, max_depth=3, n_estimators=100; total time=   0.4s\n",
      "[CV] END ...learning_rate=0.1, max_depth=3, n_estimators=100; total time=   0.4s\n",
      "[CV] END ...learning_rate=0.1, max_depth=3, n_estimators=100; total time=   0.4s\n",
      "[CV] END ...learning_rate=0.1, max_depth=3, n_estimators=300; total time=   1.3s\n",
      "[CV] END ...learning_rate=0.1, max_depth=3, n_estimators=300; total time=   1.3s\n",
      "[CV] END ...learning_rate=0.1, max_depth=4, n_estimators=100; total time=   0.6s\n",
      "[CV] END ...learning_rate=0.1, max_depth=4, n_estimators=100; total time=   0.6s\n",
      "[CV] END ...learning_rate=0.1, max_depth=4, n_estimators=300; total time=   1.8s\n",
      "[CV] END ...learning_rate=0.1, max_depth=4, n_estimators=500; total time=   3.0s\n",
      "[CV] END ...learning_rate=0.1, max_depth=5, n_estimators=500; total time=   3.9s\n",
      "[CV] END ......................max_depth=3, n_estimators=100; total time=   0.2s\n",
      "[CV] END ......................max_depth=3, n_estimators=300; total time=   0.6s\n",
      "[CV] END ......................max_depth=3, n_estimators=500; total time=   1.0s\n",
      "[CV] END ......................max_depth=5, n_estimators=500; total time=   1.2s\n",
      "[CV] END ......................max_depth=7, n_estimators=300; total time=   0.9s\n",
      "[CV] END ......................max_depth=7, n_estimators=500; total time=   1.4s\n",
      "[CV] END .....................max_depth=10, n_estimators=300; total time=   1.0s\n",
      "[CV] END ..learning_rate=0.01, max_depth=3, n_estimators=100; total time=   0.1s\n",
      "[CV] END ..learning_rate=0.01, max_depth=3, n_estimators=300; total time=   0.1s\n",
      "[CV] END ..learning_rate=0.01, max_depth=3, n_estimators=500; total time=   0.2s\n",
      "[CV] END ..learning_rate=0.01, max_depth=4, n_estimators=100; total time=   0.1s\n",
      "[CV] END ..learning_rate=0.01, max_depth=5, n_estimators=100; total time=   0.1s\n",
      "[CV] END ..learning_rate=0.01, max_depth=5, n_estimators=100; total time=   0.1s\n",
      "[CV] END ..learning_rate=0.01, max_depth=5, n_estimators=300; total time=   0.3s\n",
      "[CV] END ..learning_rate=0.01, max_depth=5, n_estimators=300; total time=   0.3s\n",
      "[CV] END ..learning_rate=0.01, max_depth=6, n_estimators=300; total time=   0.4s\n",
      "[CV] END ..learning_rate=0.01, max_depth=6, n_estimators=300; total time=   0.4s\n",
      "[CV] END ...learning_rate=0.1, max_depth=3, n_estimators=300; total time=   0.1s\n",
      "[CV] END ...learning_rate=0.1, max_depth=3, n_estimators=300; total time=   0.1s\n",
      "[CV] END ...learning_rate=0.1, max_depth=3, n_estimators=500; total time=   0.2s\n",
      "[CV] END ...learning_rate=0.1, max_depth=4, n_estimators=100; total time=   0.1s\n",
      "[CV] END ...learning_rate=0.1, max_depth=4, n_estimators=500; total time=   0.3s\n",
      "[CV] END ...learning_rate=0.1, max_depth=4, n_estimators=500; total time=   0.3s\n",
      "[CV] END ...learning_rate=0.1, max_depth=5, n_estimators=500; total time=   0.3s\n",
      "[CV] END ...learning_rate=0.1, max_depth=6, n_estimators=100; total time=   0.1s\n",
      "[CV] END ...learning_rate=0.1, max_depth=6, n_estimators=500; total time=   0.4s\n",
      "[CV] END ...learning_rate=0.1, max_depth=6, n_estimators=500; total time=   0.4s\n",
      "[CV] END ..learning_rate=0.01, max_depth=3, n_estimators=300; total time=   1.4s\n",
      "[CV] END ..learning_rate=0.01, max_depth=3, n_estimators=500; total time=   2.2s\n",
      "[CV] END ..learning_rate=0.01, max_depth=4, n_estimators=300; total time=   1.8s\n",
      "[CV] END ..learning_rate=0.01, max_depth=5, n_estimators=100; total time=   0.8s\n",
      "[CV] END ..learning_rate=0.01, max_depth=5, n_estimators=100; total time=   0.8s\n",
      "[CV] END ..learning_rate=0.01, max_depth=5, n_estimators=300; total time=   2.4s\n",
      "[CV] END ..learning_rate=0.01, max_depth=5, n_estimators=500; total time=   4.0s\n",
      "[CV] END ...learning_rate=0.1, max_depth=3, n_estimators=500; total time=   2.2s\n",
      "[CV] END ...learning_rate=0.1, max_depth=4, n_estimators=300; total time=   1.8s\n",
      "[CV] END ...learning_rate=0.1, max_depth=5, n_estimators=100; total time=   0.8s\n",
      "[CV] END ...learning_rate=0.1, max_depth=5, n_estimators=100; total time=   0.8s\n",
      "[CV] END ...learning_rate=0.1, max_depth=5, n_estimators=300; total time=   2.4s\n"
     ]
    },
    {
     "name": "stderr",
     "output_type": "stream",
     "text": [
      "/home/hpc/iwb3/iwb3021h/.local/lib/python3.12/site-packages/sklearn/preprocessing/_label.py:114: DataConversionWarning: A column-vector y was passed when a 1d array was expected. Please change the shape of y to (n_samples, ), for example using ravel().\n",
      "  y = column_or_1d(y, warn=True)\n"
     ]
    },
    {
     "name": "stdout",
     "output_type": "stream",
     "text": [
      "Fitting 3 folds for each of 12 candidates, totalling 36 fits\n"
     ]
    },
    {
     "name": "stderr",
     "output_type": "stream",
     "text": [
      "/home/hpc/iwb3/iwb3021h/.local/lib/python3.12/site-packages/sklearn/base.py:1474: DataConversionWarning: A column-vector y was passed when a 1d array was expected. Please change the shape of y to (n_samples,), for example using ravel().\n",
      "  return fit_method(estimator, *args, **kwargs)\n",
      "/home/hpc/iwb3/iwb3021h/.local/lib/python3.12/site-packages/sklearn/base.py:1474: DataConversionWarning: A column-vector y was passed when a 1d array was expected. Please change the shape of y to (n_samples,), for example using ravel().\n",
      "  return fit_method(estimator, *args, **kwargs)\n",
      "/home/hpc/iwb3/iwb3021h/.local/lib/python3.12/site-packages/sklearn/base.py:1474: DataConversionWarning: A column-vector y was passed when a 1d array was expected. Please change the shape of y to (n_samples,), for example using ravel().\n",
      "  return fit_method(estimator, *args, **kwargs)\n",
      "/home/hpc/iwb3/iwb3021h/.local/lib/python3.12/site-packages/sklearn/base.py:1474: DataConversionWarning: A column-vector y was passed when a 1d array was expected. Please change the shape of y to (n_samples,), for example using ravel().\n",
      "  return fit_method(estimator, *args, **kwargs)\n",
      "/home/hpc/iwb3/iwb3021h/.local/lib/python3.12/site-packages/sklearn/base.py:1474: DataConversionWarning: A column-vector y was passed when a 1d array was expected. Please change the shape of y to (n_samples,), for example using ravel().\n",
      "  return fit_method(estimator, *args, **kwargs)\n",
      "/home/hpc/iwb3/iwb3021h/.local/lib/python3.12/site-packages/sklearn/base.py:1474: DataConversionWarning: A column-vector y was passed when a 1d array was expected. Please change the shape of y to (n_samples,), for example using ravel().\n",
      "  return fit_method(estimator, *args, **kwargs)\n",
      "/home/hpc/iwb3/iwb3021h/.local/lib/python3.12/site-packages/sklearn/base.py:1474: DataConversionWarning: A column-vector y was passed when a 1d array was expected. Please change the shape of y to (n_samples,), for example using ravel().\n",
      "  return fit_method(estimator, *args, **kwargs)\n",
      "/home/hpc/iwb3/iwb3021h/.local/lib/python3.12/site-packages/sklearn/base.py:1474: DataConversionWarning: A column-vector y was passed when a 1d array was expected. Please change the shape of y to (n_samples,), for example using ravel().\n",
      "  return fit_method(estimator, *args, **kwargs)\n",
      "/home/hpc/iwb3/iwb3021h/.local/lib/python3.12/site-packages/sklearn/base.py:1474: DataConversionWarning: A column-vector y was passed when a 1d array was expected. Please change the shape of y to (n_samples,), for example using ravel().\n",
      "  return fit_method(estimator, *args, **kwargs)\n",
      "/home/hpc/iwb3/iwb3021h/.local/lib/python3.12/site-packages/sklearn/base.py:1474: DataConversionWarning: A column-vector y was passed when a 1d array was expected. Please change the shape of y to (n_samples,), for example using ravel().\n",
      "  return fit_method(estimator, *args, **kwargs)\n",
      "/home/hpc/iwb3/iwb3021h/.local/lib/python3.12/site-packages/sklearn/base.py:1474: DataConversionWarning: A column-vector y was passed when a 1d array was expected. Please change the shape of y to (n_samples,), for example using ravel().\n",
      "  return fit_method(estimator, *args, **kwargs)\n",
      "/home/hpc/iwb3/iwb3021h/.local/lib/python3.12/site-packages/sklearn/base.py:1474: DataConversionWarning: A column-vector y was passed when a 1d array was expected. Please change the shape of y to (n_samples,), for example using ravel().\n",
      "  return fit_method(estimator, *args, **kwargs)\n",
      "/home/hpc/iwb3/iwb3021h/.local/lib/python3.12/site-packages/sklearn/base.py:1474: DataConversionWarning: A column-vector y was passed when a 1d array was expected. Please change the shape of y to (n_samples,), for example using ravel().\n",
      "  return fit_method(estimator, *args, **kwargs)\n",
      "/home/hpc/iwb3/iwb3021h/.local/lib/python3.12/site-packages/sklearn/base.py:1474: DataConversionWarning: A column-vector y was passed when a 1d array was expected. Please change the shape of y to (n_samples,), for example using ravel().\n",
      "  return fit_method(estimator, *args, **kwargs)\n",
      "/home/hpc/iwb3/iwb3021h/.local/lib/python3.12/site-packages/sklearn/base.py:1474: DataConversionWarning: A column-vector y was passed when a 1d array was expected. Please change the shape of y to (n_samples,), for example using ravel().\n",
      "  return fit_method(estimator, *args, **kwargs)\n",
      "/home/hpc/iwb3/iwb3021h/.local/lib/python3.12/site-packages/sklearn/base.py:1474: DataConversionWarning: A column-vector y was passed when a 1d array was expected. Please change the shape of y to (n_samples,), for example using ravel().\n",
      "  return fit_method(estimator, *args, **kwargs)\n",
      "/home/hpc/iwb3/iwb3021h/.local/lib/python3.12/site-packages/sklearn/base.py:1474: DataConversionWarning: A column-vector y was passed when a 1d array was expected. Please change the shape of y to (n_samples,), for example using ravel().\n",
      "  return fit_method(estimator, *args, **kwargs)\n",
      "/home/hpc/iwb3/iwb3021h/.local/lib/python3.12/site-packages/sklearn/base.py:1474: DataConversionWarning: A column-vector y was passed when a 1d array was expected. Please change the shape of y to (n_samples,), for example using ravel().\n",
      "  return fit_method(estimator, *args, **kwargs)\n",
      "/home/hpc/iwb3/iwb3021h/.local/lib/python3.12/site-packages/sklearn/base.py:1474: DataConversionWarning: A column-vector y was passed when a 1d array was expected. Please change the shape of y to (n_samples,), for example using ravel().\n",
      "  return fit_method(estimator, *args, **kwargs)\n",
      "/home/hpc/iwb3/iwb3021h/.local/lib/python3.12/site-packages/sklearn/base.py:1474: DataConversionWarning: A column-vector y was passed when a 1d array was expected. Please change the shape of y to (n_samples,), for example using ravel().\n",
      "  return fit_method(estimator, *args, **kwargs)\n",
      "/home/hpc/iwb3/iwb3021h/.local/lib/python3.12/site-packages/sklearn/base.py:1474: DataConversionWarning: A column-vector y was passed when a 1d array was expected. Please change the shape of y to (n_samples,), for example using ravel().\n",
      "  return fit_method(estimator, *args, **kwargs)\n",
      "/home/hpc/iwb3/iwb3021h/.local/lib/python3.12/site-packages/sklearn/base.py:1474: DataConversionWarning: A column-vector y was passed when a 1d array was expected. Please change the shape of y to (n_samples,), for example using ravel().\n",
      "  return fit_method(estimator, *args, **kwargs)\n",
      "/home/hpc/iwb3/iwb3021h/.local/lib/python3.12/site-packages/sklearn/base.py:1474: DataConversionWarning: A column-vector y was passed when a 1d array was expected. Please change the shape of y to (n_samples,), for example using ravel().\n",
      "  return fit_method(estimator, *args, **kwargs)\n",
      "/home/hpc/iwb3/iwb3021h/.local/lib/python3.12/site-packages/sklearn/base.py:1474: DataConversionWarning: A column-vector y was passed when a 1d array was expected. Please change the shape of y to (n_samples,), for example using ravel().\n",
      "  return fit_method(estimator, *args, **kwargs)\n",
      "/home/hpc/iwb3/iwb3021h/.local/lib/python3.12/site-packages/sklearn/base.py:1474: DataConversionWarning: A column-vector y was passed when a 1d array was expected. Please change the shape of y to (n_samples,), for example using ravel().\n",
      "  return fit_method(estimator, *args, **kwargs)\n",
      "/home/hpc/iwb3/iwb3021h/.local/lib/python3.12/site-packages/sklearn/base.py:1474: DataConversionWarning: A column-vector y was passed when a 1d array was expected. Please change the shape of y to (n_samples,), for example using ravel().\n",
      "  return fit_method(estimator, *args, **kwargs)\n",
      "/home/hpc/iwb3/iwb3021h/.local/lib/python3.12/site-packages/sklearn/base.py:1474: DataConversionWarning: A column-vector y was passed when a 1d array was expected. Please change the shape of y to (n_samples,), for example using ravel().\n",
      "  return fit_method(estimator, *args, **kwargs)\n",
      "/home/hpc/iwb3/iwb3021h/.local/lib/python3.12/site-packages/sklearn/base.py:1474: DataConversionWarning: A column-vector y was passed when a 1d array was expected. Please change the shape of y to (n_samples,), for example using ravel().\n",
      "  return fit_method(estimator, *args, **kwargs)\n",
      "/home/hpc/iwb3/iwb3021h/.local/lib/python3.12/site-packages/sklearn/base.py:1474: DataConversionWarning: A column-vector y was passed when a 1d array was expected. Please change the shape of y to (n_samples,), for example using ravel().\n",
      "  return fit_method(estimator, *args, **kwargs)\n",
      "/home/hpc/iwb3/iwb3021h/.local/lib/python3.12/site-packages/sklearn/base.py:1474: DataConversionWarning: A column-vector y was passed when a 1d array was expected. Please change the shape of y to (n_samples,), for example using ravel().\n",
      "  return fit_method(estimator, *args, **kwargs)\n",
      "/home/hpc/iwb3/iwb3021h/.local/lib/python3.12/site-packages/sklearn/base.py:1474: DataConversionWarning: A column-vector y was passed when a 1d array was expected. Please change the shape of y to (n_samples,), for example using ravel().\n",
      "  return fit_method(estimator, *args, **kwargs)\n",
      "/home/hpc/iwb3/iwb3021h/.local/lib/python3.12/site-packages/sklearn/base.py:1474: DataConversionWarning: A column-vector y was passed when a 1d array was expected. Please change the shape of y to (n_samples,), for example using ravel().\n",
      "  return fit_method(estimator, *args, **kwargs)\n",
      "/home/hpc/iwb3/iwb3021h/.local/lib/python3.12/site-packages/sklearn/base.py:1474: DataConversionWarning: A column-vector y was passed when a 1d array was expected. Please change the shape of y to (n_samples,), for example using ravel().\n",
      "  return fit_method(estimator, *args, **kwargs)\n",
      "/home/hpc/iwb3/iwb3021h/.local/lib/python3.12/site-packages/sklearn/base.py:1474: DataConversionWarning: A column-vector y was passed when a 1d array was expected. Please change the shape of y to (n_samples,), for example using ravel().\n",
      "  return fit_method(estimator, *args, **kwargs)\n"
     ]
    },
    {
     "name": "stdout",
     "output_type": "stream",
     "text": [
      "[CV] END ..learning_rate=0.01, max_depth=3, n_estimators=100; total time=   0.6s\n",
      "[CV] END ..learning_rate=0.01, max_depth=3, n_estimators=300; total time=   1.4s\n",
      "[CV] END ..learning_rate=0.01, max_depth=3, n_estimators=500; total time=   2.2s\n",
      "[CV] END ..learning_rate=0.01, max_depth=4, n_estimators=100; total time=   0.6s\n",
      "[CV] END ..learning_rate=0.01, max_depth=4, n_estimators=300; total time=   1.8s\n",
      "[CV] END ..learning_rate=0.01, max_depth=5, n_estimators=100; total time=   0.8s\n",
      "[CV] END ..learning_rate=0.01, max_depth=5, n_estimators=100; total time=   0.8s\n",
      "[CV] END ..learning_rate=0.01, max_depth=5, n_estimators=100; total time=   0.8s\n",
      "[CV] END ..learning_rate=0.01, max_depth=5, n_estimators=300; total time=   2.5s\n",
      "[CV] END ..learning_rate=0.01, max_depth=5, n_estimators=500; total time=   4.0s\n",
      "[CV] END ...learning_rate=0.1, max_depth=3, n_estimators=500; total time=   2.2s\n",
      "[CV] END ...learning_rate=0.1, max_depth=4, n_estimators=300; total time=   1.8s\n",
      "[CV] END ...learning_rate=0.1, max_depth=5, n_estimators=100; total time=   0.8s\n",
      "[CV] END ...learning_rate=0.1, max_depth=5, n_estimators=100; total time=   0.8s\n",
      "[CV] END ...learning_rate=0.1, max_depth=5, n_estimators=300; total time=   2.4s\n",
      "[CV] END ...learning_rate=0.1, max_depth=5, n_estimators=500; total time=   3.9s\n",
      "[CV] END ......................max_depth=3, n_estimators=100; total time=   0.3s\n",
      "[CV] END ......................max_depth=3, n_estimators=500; total time=   1.0s\n",
      "[CV] END ......................max_depth=5, n_estimators=100; total time=   0.3s\n",
      "[CV] END ......................max_depth=5, n_estimators=300; total time=   0.7s\n",
      "[CV] END ......................max_depth=5, n_estimators=500; total time=   1.2s\n",
      "[CV] END ......................max_depth=7, n_estimators=500; total time=   1.5s\n",
      "[CV] END .....................max_depth=10, n_estimators=300; total time=   1.1s\n",
      "[CV] END .....................max_depth=10, n_estimators=500; total time=   1.7s\n",
      "[CV] END ..learning_rate=0.01, max_depth=3, n_estimators=100; total time=   0.2s\n",
      "[CV] END ..learning_rate=0.01, max_depth=3, n_estimators=500; total time=   0.3s\n",
      "[CV] END ..learning_rate=0.01, max_depth=4, n_estimators=100; total time=   0.1s\n",
      "[CV] END ..learning_rate=0.01, max_depth=4, n_estimators=500; total time=   0.3s\n",
      "[CV] END ..learning_rate=0.01, max_depth=5, n_estimators=100; total time=   0.1s\n",
      "[CV] END ..learning_rate=0.01, max_depth=5, n_estimators=300; total time=   0.3s\n",
      "[CV] END ..learning_rate=0.01, max_depth=5, n_estimators=500; total time=   0.4s\n",
      "[CV] END ..learning_rate=0.01, max_depth=6, n_estimators=500; total time=   0.6s\n",
      "[CV] END ...learning_rate=0.1, max_depth=3, n_estimators=300; total time=   0.1s\n",
      "[CV] END ...learning_rate=0.1, max_depth=3, n_estimators=500; total time=   0.2s\n",
      "[CV] END ...learning_rate=0.1, max_depth=4, n_estimators=100; total time=   0.1s\n",
      "[CV] END ...learning_rate=0.1, max_depth=4, n_estimators=300; total time=   0.2s\n",
      "[CV] END ...learning_rate=0.1, max_depth=4, n_estimators=500; total time=   0.3s\n",
      "[CV] END ...learning_rate=0.1, max_depth=5, n_estimators=300; total time=   0.2s\n",
      "[CV] END ...learning_rate=0.1, max_depth=6, n_estimators=100; total time=   0.1s\n",
      "[CV] END ...learning_rate=0.1, max_depth=6, n_estimators=100; total time=   0.1s\n",
      "[CV] END ...learning_rate=0.1, max_depth=6, n_estimators=300; total time=   0.3s\n",
      "[CV] END ...learning_rate=0.1, max_depth=6, n_estimators=500; total time=   0.4s\n",
      "[CV] END ..learning_rate=0.01, max_depth=3, n_estimators=100; total time=   0.5s\n",
      "[CV] END ..learning_rate=0.01, max_depth=3, n_estimators=500; total time=   2.2s\n",
      "[CV] END ..learning_rate=0.01, max_depth=4, n_estimators=100; total time=   0.6s\n",
      "[CV] END ..learning_rate=0.01, max_depth=4, n_estimators=300; total time=   1.8s\n",
      "[CV] END ..learning_rate=0.01, max_depth=4, n_estimators=500; total time=   2.9s\n",
      "[CV] END ..learning_rate=0.01, max_depth=5, n_estimators=500; total time=   3.9s\n",
      "[CV] END ...learning_rate=0.1, max_depth=3, n_estimators=300; total time=   1.3s\n",
      "[CV] END ...learning_rate=0.1, max_depth=3, n_estimators=500; total time=   2.2s\n",
      "[CV] END ...learning_rate=0.1, max_depth=4, n_estimators=300; total time=   1.8s\n",
      "[CV] END ...learning_rate=0.1, max_depth=4, n_estimators=500; total time=   2.9s\n",
      "[CV] END ...learning_rate=0.1, max_depth=5, n_estimators=300; total time=   2.3s\n",
      "[CV] END ......................max_depth=3, n_estimators=100; total time=   0.3s\n",
      "[CV] END ......................max_depth=3, n_estimators=500; total time=   1.0s\n",
      "[CV] END ......................max_depth=5, n_estimators=100; total time=   0.3s\n",
      "[CV] END ......................max_depth=5, n_estimators=300; total time=   0.7s\n",
      "[CV] END ......................max_depth=5, n_estimators=500; total time=   1.2s\n",
      "[CV] END ......................max_depth=7, n_estimators=500; total time=   1.4s\n",
      "[CV] END .....................max_depth=10, n_estimators=300; total time=   1.0s\n",
      "[CV] END .....................max_depth=10, n_estimators=500; total time=   1.7s\n",
      "[CV] END ..learning_rate=0.01, max_depth=3, n_estimators=100; total time=   0.1s\n",
      "[CV] END ..learning_rate=0.01, max_depth=3, n_estimators=500; total time=   0.3s\n",
      "[CV] END ..learning_rate=0.01, max_depth=4, n_estimators=300; total time=   0.2s\n",
      "[CV] END ..learning_rate=0.01, max_depth=4, n_estimators=300; total time=   0.2s\n",
      "[CV] END ..learning_rate=0.01, max_depth=5, n_estimators=100; total time=   0.1s\n",
      "[CV] END ..learning_rate=0.01, max_depth=5, n_estimators=300; total time=   0.3s\n",
      "[CV] END ..learning_rate=0.01, max_depth=6, n_estimators=100; total time=   0.1s\n",
      "[CV] END ..learning_rate=0.01, max_depth=6, n_estimators=100; total time=   0.1s\n",
      "[CV] END ..learning_rate=0.01, max_depth=6, n_estimators=300; total time=   0.4s\n",
      "[CV] END ..learning_rate=0.01, max_depth=6, n_estimators=500; total time=   0.6s\n",
      "[CV] END ...learning_rate=0.1, max_depth=4, n_estimators=100; total time=   0.1s\n",
      "[CV] END ...learning_rate=0.1, max_depth=4, n_estimators=100; total time=   0.1s\n",
      "[CV] END ...learning_rate=0.1, max_depth=4, n_estimators=300; total time=   0.2s\n",
      "[CV] END ...learning_rate=0.1, max_depth=4, n_estimators=300; total time=   0.2s\n",
      "[CV] END ...learning_rate=0.1, max_depth=5, n_estimators=100; total time=   0.1s\n",
      "[CV] END ...learning_rate=0.1, max_depth=5, n_estimators=300; total time=   0.2s\n",
      "[CV] END ...learning_rate=0.1, max_depth=6, n_estimators=100; total time=   0.1s\n",
      "[CV] END ...learning_rate=0.1, max_depth=6, n_estimators=100; total time=   0.1s\n",
      "[CV] END ...learning_rate=0.1, max_depth=6, n_estimators=300; total time=   0.3s\n",
      "[CV] END ...learning_rate=0.1, max_depth=6, n_estimators=500; total time=   0.4s\n",
      "[CV] END ..learning_rate=0.01, max_depth=3, n_estimators=100; total time=   0.5s\n",
      "[CV] END ..learning_rate=0.01, max_depth=3, n_estimators=500; total time=   2.2s\n",
      "[CV] END ..learning_rate=0.01, max_depth=4, n_estimators=100; total time=   0.6s\n",
      "[CV] END ..learning_rate=0.01, max_depth=4, n_estimators=300; total time=   1.8s\n",
      "[CV] END ..learning_rate=0.01, max_depth=4, n_estimators=500; total time=   2.9s\n",
      "[CV] END ..learning_rate=0.01, max_depth=5, n_estimators=500; total time=   3.9s\n",
      "[CV] END ...learning_rate=0.1, max_depth=3, n_estimators=300; total time=   1.3s\n",
      "[CV] END ...learning_rate=0.1, max_depth=3, n_estimators=500; total time=   2.2s\n",
      "[CV] END ...learning_rate=0.1, max_depth=4, n_estimators=300; total time=   1.8s\n",
      "[CV] END ...learning_rate=0.1, max_depth=4, n_estimators=500; total time=   2.9s\n",
      "[CV] END ...learning_rate=0.1, max_depth=5, n_estimators=300; total time=   2.3s\n",
      "[CV] END ......................max_depth=3, n_estimators=100; total time=   0.3s\n",
      "[CV] END ......................max_depth=3, n_estimators=300; total time=   0.6s\n",
      "[CV] END ......................max_depth=5, n_estimators=100; total time=   0.3s\n",
      "[CV] END ......................max_depth=5, n_estimators=100; total time=   0.3s\n",
      "[CV] END ......................max_depth=5, n_estimators=300; total time=   0.7s\n",
      "[CV] END ......................max_depth=5, n_estimators=500; total time=   1.2s\n",
      "[CV] END ......................max_depth=7, n_estimators=300; total time=   0.9s\n",
      "[CV] END .....................max_depth=10, n_estimators=100; total time=   0.3s\n",
      "[CV] END .....................max_depth=10, n_estimators=100; total time=   0.3s\n"
     ]
    },
    {
     "name": "stderr",
     "output_type": "stream",
     "text": [
      "/home/hpc/iwb3/iwb3021h/.local/lib/python3.12/site-packages/sklearn/base.py:1474: DataConversionWarning: A column-vector y was passed when a 1d array was expected. Please change the shape of y to (n_samples,), for example using ravel().\n",
      "  return fit_method(estimator, *args, **kwargs)\n",
      "/home/hpc/iwb3/iwb3021h/.local/lib/python3.12/site-packages/sklearn/base.py:1474: DataConversionWarning: A column-vector y was passed when a 1d array was expected. Please change the shape of y to (n_samples,), for example using ravel().\n",
      "  return fit_method(estimator, *args, **kwargs)\n"
     ]
    },
    {
     "name": "stdout",
     "output_type": "stream",
     "text": [
      "[CV] END ..learning_rate=0.01, max_depth=3, n_estimators=100; total time=   0.6s\n",
      "[CV] END ..learning_rate=0.01, max_depth=3, n_estimators=300; total time=   1.4s\n",
      "[CV] END ..learning_rate=0.01, max_depth=3, n_estimators=500; total time=   2.2s\n",
      "[CV] END ..learning_rate=0.01, max_depth=4, n_estimators=100; total time=   0.6s\n",
      "[CV] END ..learning_rate=0.01, max_depth=4, n_estimators=300; total time=   1.8s\n",
      "[CV] END ..learning_rate=0.01, max_depth=4, n_estimators=500; total time=   3.7s\n",
      "[CV] END ..learning_rate=0.01, max_depth=5, n_estimators=500; total time=   4.1s\n",
      "[CV] END ...learning_rate=0.1, max_depth=3, n_estimators=300; total time=   1.3s\n",
      "[CV] END ...learning_rate=0.1, max_depth=3, n_estimators=500; total time=   2.2s\n",
      "[CV] END ...learning_rate=0.1, max_depth=4, n_estimators=300; total time=   1.8s\n",
      "[CV] END ...learning_rate=0.1, max_depth=4, n_estimators=500; total time=   3.0s\n",
      "[CV] END ...learning_rate=0.1, max_depth=5, n_estimators=300; total time=   2.4s\n",
      "[CV] END ......................max_depth=3, n_estimators=100; total time=   0.3s\n",
      "[CV] END ......................max_depth=3, n_estimators=300; total time=   0.6s\n",
      "[CV] END ......................max_depth=3, n_estimators=500; total time=   1.0s\n",
      "[CV] END ......................max_depth=5, n_estimators=500; total time=   1.2s\n",
      "[CV] END ......................max_depth=7, n_estimators=300; total time=   0.9s\n",
      "[CV] END ......................max_depth=7, n_estimators=500; total time=   1.5s\n",
      "[CV] END .....................max_depth=10, n_estimators=300; total time=   1.1s\n",
      "[CV] END ..learning_rate=0.01, max_depth=3, n_estimators=100; total time=   0.2s\n",
      "[CV] END ..learning_rate=0.01, max_depth=3, n_estimators=300; total time=   0.2s\n",
      "[CV] END ..learning_rate=0.01, max_depth=4, n_estimators=100; total time=   0.1s\n",
      "[CV] END ..learning_rate=0.01, max_depth=4, n_estimators=100; total time=   0.1s\n",
      "[CV] END ..learning_rate=0.01, max_depth=4, n_estimators=300; total time=   0.2s\n",
      "[CV] END ..learning_rate=0.01, max_depth=4, n_estimators=500; total time=   0.3s\n",
      "[CV] END ..learning_rate=0.01, max_depth=5, n_estimators=500; total time=   0.4s\n",
      "[CV] END ..learning_rate=0.01, max_depth=6, n_estimators=100; total time=   0.1s\n",
      "[CV] END ..learning_rate=0.01, max_depth=6, n_estimators=300; total time=   0.4s\n",
      "[CV] END ..learning_rate=0.01, max_depth=6, n_estimators=500; total time=   0.6s\n",
      "[CV] END ...learning_rate=0.1, max_depth=4, n_estimators=100; total time=   0.1s\n",
      "[CV] END ...learning_rate=0.1, max_depth=4, n_estimators=100; total time=   0.1s\n",
      "[CV] END ...learning_rate=0.1, max_depth=4, n_estimators=300; total time=   0.2s\n",
      "[CV] END ...learning_rate=0.1, max_depth=4, n_estimators=500; total time=   0.3s\n",
      "[CV] END ...learning_rate=0.1, max_depth=5, n_estimators=500; total time=   0.4s\n",
      "[CV] END ...learning_rate=0.1, max_depth=6, n_estimators=100; total time=   0.1s\n",
      "[CV] END ...learning_rate=0.1, max_depth=6, n_estimators=300; total time=   0.3s\n",
      "[CV] END ..learning_rate=0.01, max_depth=3, n_estimators=100; total time=   0.5s\n",
      "[CV] END ..learning_rate=0.01, max_depth=3, n_estimators=300; total time=   1.3s\n",
      "[CV] END ..learning_rate=0.01, max_depth=3, n_estimators=500; total time=   2.2s\n",
      "[CV] END ..learning_rate=0.01, max_depth=4, n_estimators=500; total time=   2.9s\n",
      "[CV] END ..learning_rate=0.01, max_depth=5, n_estimators=300; total time=   2.3s\n",
      "[CV] END ..learning_rate=0.01, max_depth=5, n_estimators=500; total time=   3.9s\n",
      "[CV] END ...learning_rate=0.1, max_depth=3, n_estimators=500; total time=   2.2s\n",
      "[CV] END ...learning_rate=0.1, max_depth=4, n_estimators=100; total time=   0.6s\n",
      "[CV] END ...learning_rate=0.1, max_depth=4, n_estimators=300; total time=   1.7s\n",
      "[CV] END ...learning_rate=0.1, max_depth=5, n_estimators=100; total time=   0.8s\n",
      "[CV] END ...learning_rate=0.1, max_depth=5, n_estimators=100; total time=   0.8s\n",
      "[CV] END ...learning_rate=0.1, max_depth=5, n_estimators=300; total time=   2.3s\n",
      "[CV] END ...learning_rate=0.1, max_depth=5, n_estimators=500; total time=   3.7s\n",
      "[CV] END ......................max_depth=3, n_estimators=100; total time=   0.2s\n",
      "[CV] END ......................max_depth=3, n_estimators=300; total time=   0.6s\n",
      "[CV] END ......................max_depth=5, n_estimators=100; total time=   0.2s\n",
      "[CV] END ......................max_depth=5, n_estimators=100; total time=   0.2s\n",
      "[CV] END ......................max_depth=5, n_estimators=300; total time=   0.7s\n",
      "[CV] END ......................max_depth=5, n_estimators=500; total time=   1.2s\n",
      "[CV] END ......................max_depth=7, n_estimators=300; total time=   0.9s\n",
      "[CV] END ......................max_depth=7, n_estimators=500; total time=   1.4s\n",
      "[CV] END .....................max_depth=10, n_estimators=500; total time=   1.7s\n",
      "[CV] END ..learning_rate=0.01, max_depth=3, n_estimators=100; total time=   0.1s\n",
      "[CV] END ..learning_rate=0.01, max_depth=3, n_estimators=300; total time=   0.2s\n",
      "[CV] END ..learning_rate=0.01, max_depth=4, n_estimators=100; total time=   0.1s\n",
      "[CV] END ..learning_rate=0.01, max_depth=4, n_estimators=100; total time=   0.1s\n",
      "[CV] END ..learning_rate=0.01, max_depth=4, n_estimators=300; total time=   0.2s\n",
      "[CV] END ..learning_rate=0.01, max_depth=4, n_estimators=500; total time=   0.3s\n",
      "[CV] END ..learning_rate=0.01, max_depth=5, n_estimators=500; total time=   0.4s\n",
      "[CV] END ..learning_rate=0.01, max_depth=5, n_estimators=500; total time=   0.4s\n",
      "[CV] END ...learning_rate=0.1, max_depth=3, n_estimators=100; total time=   0.1s\n",
      "[CV] END ...learning_rate=0.1, max_depth=3, n_estimators=100; total time=   0.1s\n",
      "[CV] END ...learning_rate=0.1, max_depth=3, n_estimators=100; total time=   0.1s\n",
      "[CV] END ...learning_rate=0.1, max_depth=3, n_estimators=300; total time=   0.1s\n",
      "[CV] END ...learning_rate=0.1, max_depth=3, n_estimators=500; total time=   0.2s\n",
      "[CV] END ...learning_rate=0.1, max_depth=3, n_estimators=500; total time=   0.2s\n",
      "[CV] END ...learning_rate=0.1, max_depth=4, n_estimators=300; total time=   0.2s\n",
      "[CV] END ...learning_rate=0.1, max_depth=4, n_estimators=500; total time=   0.3s\n",
      "[CV] END ...learning_rate=0.1, max_depth=5, n_estimators=500; total time=   0.3s\n",
      "[CV] END ...learning_rate=0.1, max_depth=5, n_estimators=500; total time=   0.3s\n",
      "[CV] END ..learning_rate=0.01, max_depth=3, n_estimators=100; total time=   0.5s\n",
      "[CV] END ..learning_rate=0.01, max_depth=3, n_estimators=300; total time=   1.3s\n",
      "[CV] END ..learning_rate=0.01, max_depth=3, n_estimators=500; total time=   2.2s\n",
      "[CV] END ..learning_rate=0.01, max_depth=4, n_estimators=500; total time=   2.9s\n",
      "[CV] END ..learning_rate=0.01, max_depth=5, n_estimators=100; total time=   0.8s\n",
      "[CV] END ..learning_rate=0.01, max_depth=5, n_estimators=300; total time=   2.3s\n",
      "[CV] END ...learning_rate=0.1, max_depth=3, n_estimators=100; total time=   0.4s\n",
      "[CV] END ...learning_rate=0.1, max_depth=3, n_estimators=100; total time=   0.4s\n",
      "[CV] END ...learning_rate=0.1, max_depth=3, n_estimators=100; total time=   0.4s\n",
      "[CV] END ...learning_rate=0.1, max_depth=3, n_estimators=300; total time=   1.3s\n",
      "[CV] END ...learning_rate=0.1, max_depth=3, n_estimators=300; total time=   1.3s\n",
      "[CV] END ...learning_rate=0.1, max_depth=4, n_estimators=100; total time=   0.6s\n",
      "[CV] END ...learning_rate=0.1, max_depth=4, n_estimators=100; total time=   0.6s\n",
      "[CV] END ...learning_rate=0.1, max_depth=4, n_estimators=100; total time=   0.6s\n",
      "[CV] END ...learning_rate=0.1, max_depth=4, n_estimators=300; total time=   1.7s\n",
      "[CV] END ...learning_rate=0.1, max_depth=4, n_estimators=500; total time=   2.9s\n",
      "[CV] END ...learning_rate=0.1, max_depth=5, n_estimators=500; total time=   3.8s\n",
      "[CV] END ......................max_depth=3, n_estimators=100; total time=   0.3s\n",
      "[CV] END ......................max_depth=3, n_estimators=500; total time=   1.0s\n",
      "[CV] END ......................max_depth=5, n_estimators=100; total time=   0.2s\n",
      "[CV] END ......................max_depth=5, n_estimators=300; total time=   0.7s\n",
      "[CV] END ......................max_depth=5, n_estimators=500; total time=   1.2s\n",
      "[CV] END ......................max_depth=7, n_estimators=500; total time=   1.4s\n",
      "[CV] END .....................max_depth=10, n_estimators=100; total time=   0.3s\n",
      "[CV] END .....................max_depth=10, n_estimators=300; total time=   1.0s\n"
     ]
    },
    {
     "name": "stderr",
     "output_type": "stream",
     "text": [
      "/home/hpc/iwb3/iwb3021h/.local/lib/python3.12/site-packages/sklearn/base.py:1474: DataConversionWarning: A column-vector y was passed when a 1d array was expected. Please change the shape of y to (n_samples,), for example using ravel().\n",
      "  return fit_method(estimator, *args, **kwargs)\n"
     ]
    },
    {
     "name": "stdout",
     "output_type": "stream",
     "text": [
      "Fitting 3 folds for each of 24 candidates, totalling 72 fits\n",
      "[CV] END ..learning_rate=0.01, max_depth=3, n_estimators=100; total time=   0.8s\n",
      "[CV] END ..learning_rate=0.01, max_depth=4, n_estimators=500; total time=   3.1s\n",
      "[CV] END ..learning_rate=0.01, max_depth=5, n_estimators=300; total time=   2.5s\n",
      "[CV] END ..learning_rate=0.01, max_depth=5, n_estimators=500; total time=   4.0s\n",
      "[CV] END ...learning_rate=0.1, max_depth=3, n_estimators=500; total time=   2.2s\n",
      "[CV] END ...learning_rate=0.1, max_depth=4, n_estimators=100; total time=   0.6s\n",
      "[CV] END ...learning_rate=0.1, max_depth=4, n_estimators=500; total time=   3.0s\n",
      "[CV] END ...learning_rate=0.1, max_depth=5, n_estimators=100; total time=   0.8s\n",
      "[CV] END ...learning_rate=0.1, max_depth=5, n_estimators=300; total time=   2.4s\n",
      "[CV] END ...learning_rate=0.1, max_depth=5, n_estimators=500; total time=   3.7s\n",
      "[CV] END ......................max_depth=3, n_estimators=300; total time=   0.7s\n",
      "[CV] END ......................max_depth=3, n_estimators=500; total time=   1.0s\n",
      "[CV] END ......................max_depth=5, n_estimators=300; total time=   0.7s\n",
      "[CV] END ......................max_depth=7, n_estimators=100; total time=   0.3s\n",
      "[CV] END ......................max_depth=7, n_estimators=100; total time=   0.3s\n",
      "[CV] END ......................max_depth=7, n_estimators=100; total time=   0.3s\n",
      "[CV] END ......................max_depth=7, n_estimators=300; total time=   0.9s\n",
      "[CV] END .....................max_depth=10, n_estimators=100; total time=   0.4s\n",
      "[CV] END .....................max_depth=10, n_estimators=100; total time=   0.4s\n",
      "[CV] END .....................max_depth=10, n_estimators=100; total time=   0.4s\n",
      "[CV] END .....................max_depth=10, n_estimators=300; total time=   1.1s\n",
      "[CV] END .....................max_depth=10, n_estimators=500; total time=   1.7s\n",
      "[CV] END ..learning_rate=0.01, max_depth=3, n_estimators=300; total time=   0.2s\n",
      "[CV] END ..learning_rate=0.01, max_depth=3, n_estimators=500; total time=   0.2s\n",
      "[CV] END ..learning_rate=0.01, max_depth=4, n_estimators=300; total time=   0.2s\n",
      "[CV] END ..learning_rate=0.01, max_depth=4, n_estimators=500; total time=   0.3s\n",
      "[CV] END ..learning_rate=0.01, max_depth=5, n_estimators=300; total time=   0.3s\n",
      "[CV] END ..learning_rate=0.01, max_depth=6, n_estimators=100; total time=   0.1s\n",
      "[CV] END ..learning_rate=0.01, max_depth=6, n_estimators=100; total time=   0.1s\n",
      "[CV] END ..learning_rate=0.01, max_depth=6, n_estimators=300; total time=   0.4s\n",
      "[CV] END ..learning_rate=0.01, max_depth=6, n_estimators=500; total time=   0.6s\n",
      "[CV] END ...learning_rate=0.1, max_depth=3, n_estimators=500; total time=   0.2s\n",
      "[CV] END ...learning_rate=0.1, max_depth=4, n_estimators=300; total time=   0.2s\n",
      "[CV] END ...learning_rate=0.1, max_depth=5, n_estimators=100; total time=   0.1s\n",
      "[CV] END ...learning_rate=0.1, max_depth=5, n_estimators=100; total time=   0.1s\n",
      "[CV] END ...learning_rate=0.1, max_depth=5, n_estimators=300; total time=   0.2s\n",
      "[CV] END ...learning_rate=0.1, max_depth=5, n_estimators=500; total time=   0.4s\n",
      "[CV] END ...learning_rate=0.1, max_depth=6, n_estimators=300; total time=   0.3s\n",
      "[CV] END ...learning_rate=0.1, max_depth=6, n_estimators=500; total time=   0.4s\n",
      "[CV] END ..learning_rate=0.01, max_depth=3, n_estimators=300; total time=   1.4s\n",
      "[CV] END ..learning_rate=0.01, max_depth=3, n_estimators=500; total time=   2.2s\n",
      "[CV] END ..learning_rate=0.01, max_depth=4, n_estimators=300; total time=   1.8s\n",
      "[CV] END ..learning_rate=0.01, max_depth=5, n_estimators=100; total time=   0.8s\n",
      "[CV] END ..learning_rate=0.01, max_depth=5, n_estimators=100; total time=   0.8s\n",
      "[CV] END ..learning_rate=0.01, max_depth=5, n_estimators=100; total time=   0.8s\n",
      "[CV] END ..learning_rate=0.01, max_depth=5, n_estimators=300; total time=   2.3s\n",
      "[CV] END ..learning_rate=0.01, max_depth=5, n_estimators=500; total time=   3.9s\n",
      "[CV] END ...learning_rate=0.1, max_depth=3, n_estimators=500; total time=   2.2s\n",
      "[CV] END ...learning_rate=0.1, max_depth=4, n_estimators=500; total time=   2.9s\n",
      "[CV] END ...learning_rate=0.1, max_depth=5, n_estimators=100; total time=   0.8s\n",
      "[CV] END ...learning_rate=0.1, max_depth=5, n_estimators=300; total time=   2.3s\n",
      "[CV] END ...learning_rate=0.1, max_depth=5, n_estimators=500; total time=   3.6s\n",
      "[CV] END ......................max_depth=3, n_estimators=300; total time=   0.7s\n",
      "[CV] END ......................max_depth=3, n_estimators=500; total time=   1.0s\n",
      "[CV] END ......................max_depth=5, n_estimators=300; total time=   0.7s\n",
      "[CV] END ......................max_depth=7, n_estimators=100; total time=   0.3s\n",
      "[CV] END ......................max_depth=7, n_estimators=100; total time=   0.3s\n",
      "[CV] END ......................max_depth=7, n_estimators=100; total time=   0.3s\n",
      "[CV] END ......................max_depth=7, n_estimators=300; total time=   0.9s\n",
      "[CV] END .....................max_depth=10, n_estimators=100; total time=   0.3s\n",
      "[CV] END .....................max_depth=10, n_estimators=100; total time=   0.3s\n",
      "[CV] END .....................max_depth=10, n_estimators=100; total time=   0.3s\n",
      "[CV] END .....................max_depth=10, n_estimators=300; total time=   1.0s\n",
      "[CV] END .....................max_depth=10, n_estimators=500; total time=   1.7s\n",
      "[CV] END ..learning_rate=0.01, max_depth=3, n_estimators=300; total time=   0.2s\n",
      "[CV] END ..learning_rate=0.01, max_depth=3, n_estimators=500; total time=   0.2s\n",
      "[CV] END ..learning_rate=0.01, max_depth=4, n_estimators=500; total time=   0.3s\n",
      "[CV] END ..learning_rate=0.01, max_depth=4, n_estimators=500; total time=   0.3s\n",
      "[CV] END ..learning_rate=0.01, max_depth=5, n_estimators=500; total time=   0.4s\n",
      "[CV] END ..learning_rate=0.01, max_depth=6, n_estimators=100; total time=   0.1s\n",
      "[CV] END ..learning_rate=0.01, max_depth=6, n_estimators=500; total time=   0.5s\n",
      "[CV] END ..learning_rate=0.01, max_depth=6, n_estimators=500; total time=   0.5s\n",
      "[CV] END ...learning_rate=0.1, max_depth=5, n_estimators=100; total time=   0.1s\n",
      "[CV] END ...learning_rate=0.1, max_depth=5, n_estimators=100; total time=   0.1s\n",
      "[CV] END ...learning_rate=0.1, max_depth=5, n_estimators=300; total time=   0.2s\n",
      "[CV] END ...learning_rate=0.1, max_depth=5, n_estimators=300; total time=   0.2s\n",
      "[CV] END ...learning_rate=0.1, max_depth=6, n_estimators=300; total time=   0.3s\n",
      "[CV] END ...learning_rate=0.1, max_depth=6, n_estimators=300; total time=   0.3s\n",
      "[CV] END ..learning_rate=0.01, max_depth=3, n_estimators=100; total time=   0.5s\n",
      "[CV] END ..learning_rate=0.01, max_depth=3, n_estimators=300; total time=   1.3s\n",
      "[CV] END ..learning_rate=0.01, max_depth=4, n_estimators=100; total time=   0.6s\n",
      "[CV] END ..learning_rate=0.01, max_depth=4, n_estimators=100; total time=   0.6s\n",
      "[CV] END ..learning_rate=0.01, max_depth=4, n_estimators=300; total time=   1.7s\n",
      "[CV] END ..learning_rate=0.01, max_depth=4, n_estimators=500; total time=   2.9s\n",
      "[CV] END ..learning_rate=0.01, max_depth=5, n_estimators=300; total time=   2.3s\n",
      "[CV] END ..learning_rate=0.01, max_depth=5, n_estimators=500; total time=   3.8s\n",
      "[CV] END ...learning_rate=0.1, max_depth=3, n_estimators=500; total time=   2.1s\n",
      "[CV] END ...learning_rate=0.1, max_depth=4, n_estimators=500; total time=   2.9s\n",
      "[CV] END ...learning_rate=0.1, max_depth=5, n_estimators=100; total time=   0.8s\n",
      "[CV] END ...learning_rate=0.1, max_depth=5, n_estimators=300; total time=   2.3s\n",
      "[CV] END ...learning_rate=0.1, max_depth=5, n_estimators=500; total time=   3.6s\n",
      "[CV] END ......................max_depth=3, n_estimators=300; total time=   0.7s\n",
      "[CV] END ......................max_depth=3, n_estimators=500; total time=   1.0s\n",
      "[CV] END ......................max_depth=5, n_estimators=300; total time=   0.7s\n",
      "[CV] END ......................max_depth=7, n_estimators=100; total time=   0.3s\n",
      "[CV] END ......................max_depth=7, n_estimators=100; total time=   0.3s\n",
      "[CV] END ......................max_depth=7, n_estimators=100; total time=   0.3s\n",
      "[CV] END ......................max_depth=7, n_estimators=300; total time=   0.9s\n",
      "[CV] END ......................max_depth=7, n_estimators=500; total time=   1.4s\n",
      "[CV] END .....................max_depth=10, n_estimators=500; total time=   1.7s\n",
      "[CV] END ..learning_rate=0.01, max_depth=3, n_estimators=100; total time=   0.1s\n"
     ]
    }
   ],
   "source": [
    "from sklearn.ensemble import GradientBoostingClassifier, RandomForestClassifier\n",
    "from sklearn.model_selection import train_test_split, GridSearchCV\n",
    "import xgboost as xgb\n",
    "# Define classifiers\n",
    "X_train, X_test, y_train, y_test = train_test_split(X, y, test_size=0.1, random_state=42)\n",
    "\n",
    "classifiers = {\n",
    "    \"Gradient Boosting\": GradientBoostingClassifier(random_state=42),\n",
    "    \"Random Forest\": RandomForestClassifier(random_state=42),\n",
    "    \"XGBoost\": xgb.XGBClassifier(random_state=42)\n",
    "}\n",
    "\n",
    "# Parameter grids\n",
    "param_grids = {\n",
    "    \"Gradient Boosting\": {\n",
    "        'n_estimators': [100, 300,500],\n",
    "        'learning_rate': [0.01, 0.1],\n",
    "        'max_depth': [3, 4, 5]\n",
    "    },\n",
    "    \"Random Forest\": {\n",
    "        'n_estimators': [100, 300,500],\n",
    "        'max_depth': [3, 5, 7, 10]\n",
    "    },\n",
    "    \"XGBoost\": {\n",
    "        'n_estimators': [100, 300,500],\n",
    "        'learning_rate': [0.01, 0.1],\n",
    "        'max_depth': [3, 4, 5, 6]\n",
    "    }\n",
    "}\n",
    "\n",
    "# Perform grid search for each classifier\n",
    "best_estimators = {}\n",
    "for clf_name in classifiers:\n",
    "    grid_search = GridSearchCV(estimator=classifiers[clf_name], param_grid=param_grids[clf_name],\n",
    "                               cv=3, n_jobs=-1, verbose=2, scoring='accuracy')\n",
    "    grid_search.fit(X_train, y_train)\n",
    "    best_estimators[clf_name] = grid_search.best_estimator_\n",
    "\n"
   ]
  },
  {
   "cell_type": "code",
   "execution_count": 66,
   "id": "48612c9b-7dde-4473-bad1-097b95112262",
   "metadata": {
    "tags": []
   },
   "outputs": [
    {
     "name": "stdout",
     "output_type": "stream",
     "text": [
      "Results for Gradient Boosting:\n",
      "Best Parameters: {'learning_rate': 0.1, 'max_depth': 4, 'n_estimators': 500}\n",
      "Accuracy: 0.9343891402714932\n",
      "Classification Report:\n",
      "              precision    recall  f1-score   support\n",
      "\n",
      "           0       0.93      0.92      0.93       197\n",
      "           1       0.94      0.94      0.94       245\n",
      "\n",
      "    accuracy                           0.93       442\n",
      "   macro avg       0.93      0.93      0.93       442\n",
      "weighted avg       0.93      0.93      0.93       442\n",
      "\n",
      "Confusion Matrix:\n",
      "[[182  15]\n",
      " [ 14 231]]\n",
      "\n",
      "\n",
      "Results for Random Forest:\n",
      "Best Parameters: {'learning_rate': 0.1, 'max_depth': 4, 'n_estimators': 500}\n",
      "Accuracy: 0.918552036199095\n",
      "Classification Report:\n",
      "              precision    recall  f1-score   support\n",
      "\n",
      "           0       0.92      0.89      0.91       197\n",
      "           1       0.92      0.94      0.93       245\n",
      "\n",
      "    accuracy                           0.92       442\n",
      "   macro avg       0.92      0.92      0.92       442\n",
      "weighted avg       0.92      0.92      0.92       442\n",
      "\n",
      "Confusion Matrix:\n",
      "[[176  21]\n",
      " [ 15 230]]\n",
      "\n",
      "\n",
      "Results for XGBoost:\n",
      "Best Parameters: {'learning_rate': 0.1, 'max_depth': 4, 'n_estimators': 500}\n",
      "Accuracy: 0.9479638009049773\n",
      "Classification Report:\n",
      "              precision    recall  f1-score   support\n",
      "\n",
      "           0       0.94      0.94      0.94       197\n",
      "           1       0.95      0.96      0.95       245\n",
      "\n",
      "    accuracy                           0.95       442\n",
      "   macro avg       0.95      0.95      0.95       442\n",
      "weighted avg       0.95      0.95      0.95       442\n",
      "\n",
      "Confusion Matrix:\n",
      "[[185  12]\n",
      " [ 11 234]]\n",
      "\n",
      "\n"
     ]
    }
   ],
   "source": [
    "if test_dataset not in accuracies:\n",
    "    accuracies[test_dataset] = []\n",
    "acc_gen={}\n",
    "for clf_name, clf in best_estimators.items():\n",
    "    y_pred_or = clf.predict(X_test)\n",
    "    print(f\"Results for {clf_name}:\")\n",
    "    print(f\"Best Parameters: {grid_search.best_params_}\")\n",
    "    acc=accuracy_score(y_test, y_pred_or)\n",
    "    print(f\"Accuracy: {acc}\")\n",
    "    \n",
    "    print(\"Classification Report:\")\n",
    "    print(classification_report(y_test, y_pred_or))\n",
    "    print(\"Confusion Matrix:\")\n",
    "    print(confusion_matrix(y_test, y_pred_or))\n",
    "    print(\"\\n\")\n",
    "    acc_gen[clf_name]=acc\n",
    "accuracies[test_dataset].append(acc_gen)"
   ]
  },
  {
   "cell_type": "code",
   "execution_count": 67,
   "id": "a92627e0-0409-4165-81bd-eb463eac0754",
   "metadata": {
    "tags": []
   },
   "outputs": [
    {
     "name": "stdout",
     "output_type": "stream",
     "text": [
      "Results for Gradient Boosting:\n",
      "Accuracy: 0.5842105263157895\n",
      "\n",
      "\n",
      "Spearman rank correlation: -0.06917293233082707\n",
      "Kendall Tau distance: -0.052631578947368425\n",
      "########################\n",
      "0.2827067669172932\n",
      "0.22105263157894736\n",
      "Results for Random Forest:\n",
      "Accuracy: 0.5631578947368421\n",
      "\n",
      "\n",
      "Spearman rank correlation: -0.06917293233082707\n",
      "Kendall Tau distance: -0.052631578947368425\n",
      "########################\n",
      "0.19248120300751878\n",
      "0.1473684210526316\n",
      "Results for XGBoost:\n",
      "Accuracy: 0.5736842105263158\n",
      "\n",
      "\n",
      "Spearman rank correlation: -0.06917293233082707\n",
      "Kendall Tau distance: -0.052631578947368425\n",
      "########################\n",
      "0.24360902255639094\n",
      "0.19999999999999998\n"
     ]
    }
   ],
   "source": [
    "if test_dataset not in corr_scores:\n",
    "    corr_scores[test_dataset] = []\n",
    "if test_dataset not in test_accuracies:\n",
    "    test_accuracies[test_dataset] = []\n",
    "corr_gen={}\n",
    "test_acc_gen={}\n",
    "for clf_name, clf in best_estimators.items():\n",
    "    y_pred = clf.predict(X_test_new)\n",
    "    print(f\"Results for {clf_name}:\")\n",
    "    acc=accuracy_score(y_test_new, y_pred)\n",
    "    print(f\"Accuracy: {acc}\")\n",
    "    #print(\"Classification Report:\")\n",
    "    #print(classification_report(y_test_new, y_pred))\n",
    "    #print(\"Confusion Matrix:\")\n",
    "    #print(confusion_matrix(y_test_new, y_pred))\n",
    "    print(\"\\n\")\n",
    "    \n",
    "    spearman_corr, tau_distance, spearman_corr_10,tau_distance_10 = get_correlations(y_pred,y_0)\n",
    "    print(\"########################\")\n",
    "    print(spearman_corr)\n",
    "    print(tau_distance)\n",
    "    corr_gen[clf_name]=(spearman_corr, tau_distance, spearman_corr_10,tau_distance_10)\n",
    "    test_acc_gen[clf_name]=(acc,y_0_accuracy)\n",
    "corr_scores[test_dataset].append(corr_gen)\n",
    "test_accuracies[test_dataset].append(test_acc_gen)"
   ]
  },
  {
   "cell_type": "code",
   "execution_count": 69,
   "id": "e87c96cd-a6ad-44d7-b64e-d8c830ec2bef",
   "metadata": {
    "tags": []
   },
   "outputs": [
    {
     "data": {
      "text/plain": [
       "['classifiers/Chester/rfc_model.joblib']"
      ]
     },
     "execution_count": 69,
     "metadata": {},
     "output_type": "execute_result"
    },
    {
     "name": "stdout",
     "output_type": "stream",
     "text": [
      "[CV] END ...learning_rate=0.1, max_depth=5, n_estimators=500; total time=   3.8s\n",
      "[CV] END ......................max_depth=3, n_estimators=100; total time=   0.2s\n",
      "[CV] END ......................max_depth=3, n_estimators=300; total time=   0.6s\n",
      "[CV] END ......................max_depth=3, n_estimators=500; total time=   1.0s\n",
      "[CV] END ......................max_depth=5, n_estimators=500; total time=   1.2s\n",
      "[CV] END ......................max_depth=7, n_estimators=300; total time=   0.9s\n",
      "[CV] END ......................max_depth=7, n_estimators=500; total time=   1.4s\n",
      "[CV] END .....................max_depth=10, n_estimators=300; total time=   1.0s\n",
      "[CV] END ..learning_rate=0.01, max_depth=3, n_estimators=100; total time=   0.1s\n",
      "[CV] END ..learning_rate=0.01, max_depth=3, n_estimators=300; total time=   0.2s\n",
      "[CV] END ..learning_rate=0.01, max_depth=4, n_estimators=100; total time=   0.1s\n",
      "[CV] END ..learning_rate=0.01, max_depth=4, n_estimators=100; total time=   0.1s\n",
      "[CV] END ..learning_rate=0.01, max_depth=4, n_estimators=300; total time=   0.2s\n",
      "[CV] END ..learning_rate=0.01, max_depth=4, n_estimators=500; total time=   0.3s\n",
      "[CV] END ..learning_rate=0.01, max_depth=5, n_estimators=500; total time=   0.4s\n",
      "[CV] END ..learning_rate=0.01, max_depth=5, n_estimators=500; total time=   0.4s\n",
      "[CV] END ...learning_rate=0.1, max_depth=3, n_estimators=100; total time=   0.1s\n",
      "[CV] END ...learning_rate=0.1, max_depth=3, n_estimators=100; total time=   0.1s\n",
      "[CV] END ...learning_rate=0.1, max_depth=3, n_estimators=100; total time=   0.1s\n",
      "[CV] END ...learning_rate=0.1, max_depth=3, n_estimators=300; total time=   0.1s\n",
      "[CV] END ...learning_rate=0.1, max_depth=3, n_estimators=500; total time=   0.2s\n",
      "[CV] END ...learning_rate=0.1, max_depth=3, n_estimators=500; total time=   0.2s\n",
      "[CV] END ...learning_rate=0.1, max_depth=4, n_estimators=300; total time=   0.2s\n",
      "[CV] END ...learning_rate=0.1, max_depth=4, n_estimators=500; total time=   0.3s\n",
      "[CV] END ...learning_rate=0.1, max_depth=5, n_estimators=500; total time=   0.3s\n",
      "[CV] END ...learning_rate=0.1, max_depth=5, n_estimators=500; total time=   0.3s\n",
      "[CV] END .....................max_depth=10, n_estimators=500; total time=   1.6s\n",
      "[CV] END ..learning_rate=0.01, max_depth=3, n_estimators=300; total time=   0.2s\n",
      "[CV] END ..learning_rate=0.01, max_depth=3, n_estimators=500; total time=   0.2s\n",
      "[CV] END ..learning_rate=0.01, max_depth=4, n_estimators=500; total time=   0.3s\n",
      "[CV] END ..learning_rate=0.01, max_depth=4, n_estimators=500; total time=   0.3s\n",
      "[CV] END ..learning_rate=0.01, max_depth=5, n_estimators=500; total time=   0.4s\n",
      "[CV] END ..learning_rate=0.01, max_depth=6, n_estimators=100; total time=   0.1s\n",
      "[CV] END ..learning_rate=0.01, max_depth=6, n_estimators=500; total time=   0.6s\n",
      "[CV] END ..learning_rate=0.01, max_depth=6, n_estimators=500; total time=   0.5s\n",
      "[CV] END ...learning_rate=0.1, max_depth=5, n_estimators=100; total time=   0.1s\n",
      "[CV] END ...learning_rate=0.1, max_depth=5, n_estimators=100; total time=   0.1s\n",
      "[CV] END ...learning_rate=0.1, max_depth=5, n_estimators=300; total time=   0.2s\n",
      "[CV] END ...learning_rate=0.1, max_depth=5, n_estimators=300; total time=   0.2s\n",
      "[CV] END ...learning_rate=0.1, max_depth=6, n_estimators=300; total time=   0.3s\n",
      "[CV] END ...learning_rate=0.1, max_depth=6, n_estimators=300; total time=   0.3s\n",
      "[CV] END .....................max_depth=10, n_estimators=300; total time=   1.0s\n",
      "[CV] END .....................max_depth=10, n_estimators=500; total time=   1.6s\n",
      "[CV] END ..learning_rate=0.01, max_depth=3, n_estimators=100; total time=   0.1s\n",
      "[CV] END ..learning_rate=0.01, max_depth=3, n_estimators=300; total time=   0.1s\n",
      "[CV] END ..learning_rate=0.01, max_depth=3, n_estimators=500; total time=   0.2s\n",
      "[CV] END ..learning_rate=0.01, max_depth=4, n_estimators=100; total time=   0.1s\n",
      "[CV] END ..learning_rate=0.01, max_depth=5, n_estimators=100; total time=   0.1s\n",
      "[CV] END ..learning_rate=0.01, max_depth=5, n_estimators=100; total time=   0.1s\n",
      "[CV] END ..learning_rate=0.01, max_depth=5, n_estimators=100; total time=   0.1s\n",
      "[CV] END ..learning_rate=0.01, max_depth=5, n_estimators=300; total time=   0.3s\n",
      "[CV] END ..learning_rate=0.01, max_depth=6, n_estimators=100; total time=   0.1s\n",
      "[CV] END ..learning_rate=0.01, max_depth=6, n_estimators=100; total time=   0.1s\n",
      "[CV] END ..learning_rate=0.01, max_depth=6, n_estimators=300; total time=   0.4s\n",
      "[CV] END ..learning_rate=0.01, max_depth=6, n_estimators=500; total time=   0.5s\n",
      "[CV] END ...learning_rate=0.1, max_depth=4, n_estimators=100; total time=   0.1s\n",
      "[CV] END ...learning_rate=0.1, max_depth=4, n_estimators=100; total time=   0.1s\n",
      "[CV] END ...learning_rate=0.1, max_depth=4, n_estimators=300; total time=   0.2s\n",
      "[CV] END ...learning_rate=0.1, max_depth=4, n_estimators=300; total time=   0.2s\n",
      "[CV] END ...learning_rate=0.1, max_depth=5, n_estimators=100; total time=   0.1s\n",
      "[CV] END ...learning_rate=0.1, max_depth=5, n_estimators=300; total time=   0.2s\n",
      "[CV] END ...learning_rate=0.1, max_depth=6, n_estimators=100; total time=   0.1s\n",
      "[CV] END ...learning_rate=0.1, max_depth=6, n_estimators=100; total time=   0.1s\n",
      "[CV] END ...learning_rate=0.1, max_depth=6, n_estimators=300; total time=   0.3s\n",
      "[CV] END ...learning_rate=0.1, max_depth=6, n_estimators=500; total time=   0.4s\n",
      "[CV] END ..learning_rate=0.01, max_depth=3, n_estimators=500; total time=   0.3s\n",
      "[CV] END ..learning_rate=0.01, max_depth=4, n_estimators=300; total time=   0.2s\n",
      "[CV] END ..learning_rate=0.01, max_depth=4, n_estimators=300; total time=   0.2s\n",
      "[CV] END ..learning_rate=0.01, max_depth=5, n_estimators=300; total time=   0.3s\n",
      "[CV] END ..learning_rate=0.01, max_depth=5, n_estimators=300; total time=   0.3s\n",
      "[CV] END ..learning_rate=0.01, max_depth=6, n_estimators=300; total time=   0.4s\n",
      "[CV] END ..learning_rate=0.01, max_depth=6, n_estimators=300; total time=   0.4s\n",
      "[CV] END ...learning_rate=0.1, max_depth=3, n_estimators=300; total time=   0.1s\n",
      "[CV] END ...learning_rate=0.1, max_depth=3, n_estimators=300; total time=   0.1s\n",
      "[CV] END ...learning_rate=0.1, max_depth=3, n_estimators=500; total time=   0.2s\n",
      "[CV] END ...learning_rate=0.1, max_depth=4, n_estimators=100; total time=   0.1s\n",
      "[CV] END ...learning_rate=0.1, max_depth=4, n_estimators=500; total time=   0.3s\n",
      "[CV] END ...learning_rate=0.1, max_depth=4, n_estimators=500; total time=   0.3s\n",
      "[CV] END ...learning_rate=0.1, max_depth=5, n_estimators=500; total time=   0.3s\n",
      "[CV] END ...learning_rate=0.1, max_depth=6, n_estimators=100; total time=   0.1s\n",
      "[CV] END ...learning_rate=0.1, max_depth=6, n_estimators=500; total time=   0.4s\n",
      "[CV] END ...learning_rate=0.1, max_depth=6, n_estimators=500; total time=   0.4s\n"
     ]
    }
   ],
   "source": [
    "import xgboost as xgb\n",
    "from sklearn.ensemble import GradientBoostingClassifier\n",
    "from sklearn.ensemble import RandomForestClassifier\n",
    "from joblib import dump, load\n",
    "import os\n",
    "os.makedirs(f\"classifiers/{test_dataset}\", exist_ok=True)\n",
    "dump(best_estimators[\"XGBoost\"], f'classifiers/{test_dataset}/xgboost_model.joblib')\n",
    "dump(best_estimators[\"Gradient Boosting\"], f'classifiers/{test_dataset}/gbc_model.joblib')\n",
    "dump(best_estimators[\"Random Forest\"], f'classifiers/{test_dataset}/rfc_model.joblib')\n",
    "\n",
    "#classifiers = {\n",
    "#    \"Gradient Boosting\": load('gbc_model.joblib'),\n",
    "#    \"Random Forest\": load('rfc_model.joblib'),\n",
    "#    \"XGBoost\": load('xgboost_model.joblib')\n",
    "#}"
   ]
  },
  {
   "cell_type": "code",
   "execution_count": 31,
   "id": "033088d4-6c25-435e-9011-97368c85c800",
   "metadata": {
    "tags": []
   },
   "outputs": [],
   "source": []
  },
  {
   "cell_type": "code",
   "execution_count": 42,
   "id": "ee273608-5173-4d23-975d-64519d04f373",
   "metadata": {
    "tags": []
   },
   "outputs": [
    {
     "data": {
      "text/plain": [
       "{'test_Adaline': [{'Gradient Boosting': (0.5382739212007505,\n",
       "    0.37435897435897436,\n",
       "    -0.3669793621013134,\n",
       "    -0.2538461538461539),\n",
       "   'Random Forest': (0.5553470919324579,\n",
       "    0.4,\n",
       "    -0.3669793621013134,\n",
       "    -0.2538461538461539),\n",
       "   'XGBoost': (0.550093808630394,\n",
       "    0.3923076923076923,\n",
       "    -0.3669793621013134,\n",
       "    -0.2538461538461539)},\n",
       "  {'Gradient Boosting': (0.8556390977443609,\n",
       "    0.6947368421052632,\n",
       "    0.306766917293233,\n",
       "    0.18947368421052632),\n",
       "   'Random Forest': (0.8571428571428572,\n",
       "    0.7052631578947369,\n",
       "    0.306766917293233,\n",
       "    0.18947368421052632),\n",
       "   'XGBoost': (0.7714285714285714,\n",
       "    0.6105263157894737,\n",
       "    0.306766917293233,\n",
       "    0.18947368421052632)}]}"
      ]
     },
     "execution_count": 42,
     "metadata": {},
     "output_type": "execute_result"
    }
   ],
   "source": [
    "corr_scores"
   ]
  },
  {
   "cell_type": "code",
   "execution_count": 37,
   "id": "be7c3d0f-7748-469e-97e0-e88e054131fc",
   "metadata": {
    "tags": []
   },
   "outputs": [],
   "source": [
    "#with open('plots_predictor/accuracies_evonas.json', 'w') as json_file:\n",
    "#    json.dump(accuracies, json_file, indent=4)\n",
    "    \n",
    "#with open('plots_predictor/test_accuracies_evonas.json', 'w') as json_file:\n",
    "#    json.dump(test_accuracies, json_file, indent=4)\n",
    "    \n",
    "#with open('plots_predictor/epochs_results_evonas.json', 'w') as json_file:\n",
    "#    json.dump(epochs_results, json_file, indent=4)\n",
    "\n",
    "#with open('plots_predictor/corr_scores_evonas.json', 'w') as json_file:\n",
    "#    json.dump(corr_scores, json_file, indent=4)"
   ]
  },
  {
   "cell_type": "code",
   "execution_count": 132,
   "id": "b5ea2153-441f-4514-8a6b-ef0352890bba",
   "metadata": {
    "tags": []
   },
   "outputs": [
    {
     "data": {
      "image/png": "[encoded data removed]",
      "text/plain": [
       "<Figure size 1000x600 with 1 Axes>"
      ]
     },
     "metadata": {},
     "output_type": "display_data"
    }
   ],
   "source": [
    "import matplotlib.pyplot as plt\n",
    "importances = best_estimators[\"Random Forest\"].feature_importances_\n",
    "indices = np.argsort(importances)[::-1]\n",
    "\n",
    "# Plot the feature importances\n",
    "plt.figure(figsize=(10, 6))\n",
    "plt.title(\"Feature Importances\")\n",
    "plt.bar(range(X.shape[1]), importances[indices], align='center')\n",
    "plt.xticks(range(X.shape[1]), X.columns[indices], rotation=90)\n",
    "plt.xlim([-1, X.shape[1]])\n",
    "plt.xlabel(\"Feature\")\n",
    "plt.ylabel(\"Importance\")\n",
    "plt.savefig(\"plots_predictor/feature_importances.png\")\n",
    "plt.show()"
   ]
  },
  {
   "cell_type": "markdown",
   "id": "0997d2e4-7cf8-43ec-8120-71bd2ac19b75",
   "metadata": {},
   "source": [
    "## Plot results"
   ]
  },
  {
   "cell_type": "code",
   "execution_count": 3,
   "id": "07634bf7-8749-485f-aa75-1b010b62d200",
   "metadata": {},
   "outputs": [],
   "source": [
    "import json\n",
    "\n",
    "with open('plots_predictor/epochs_results.json', 'r') as file:\n",
    "    epochs_results = json.load(file)\n",
    "with open('plots_predictor/accuracies.json', 'r') as file:\n",
    "    accuracies = json.load(file)\n",
    "with open('plots_predictor/test_accuracies.json', 'r') as file:\n",
    "    test_accuracies = json.load(file)\n",
    "with open('plots_predictor/corr_scores.json', 'r') as file:\n",
    "    corr_scores = json.load(file)"
   ]
  },
  {
   "cell_type": "code",
   "execution_count": 453,
   "id": "688f3ed5-d732-495a-87ea-8c52984ebea2",
   "metadata": {
    "tags": []
   },
   "outputs": [
    {
     "data": {
      "text/plain": [
       "{'Gradient Boosting': (0.5052631578947369, 0.5789473684210527),\n",
       " 'Random Forest': (0.5842105263157895, 0.5789473684210527),\n",
       " 'XGBoost': (0.5894736842105263, 0.5789473684210527)}"
      ]
     },
     "execution_count": 453,
     "metadata": {},
     "output_type": "execute_result"
    }
   ],
   "source": [
    "test_accuracies[\"test_Gutenberg\"][2]"
   ]
  },
  {
   "cell_type": "code",
   "execution_count": 456,
   "id": "da20ac23-f435-4c79-9a6f-a8460c6beb79",
   "metadata": {
    "tags": []
   },
   "outputs": [
    {
     "data": {
      "text/plain": [
       "{'accuracy': {1: 0.6476190476190476,\n",
       "  2: 0.3904761904761905,\n",
       "  3: 0.6857142857142857,\n",
       "  4: 0.6,\n",
       "  5: 0.6,\n",
       "  6: 0.5428571428571428,\n",
       "  7: 0.3904761904761905,\n",
       "  8: 0.5714285714285714,\n",
       "  9: 0.5904761904761905,\n",
       "  10: 0.47619047619047616},\n",
       " 'correlation': {1: (0.3571428571428571, 0.29523809523809524),\n",
       "  2: (-0.3571428571428571, -0.21904761904761905),\n",
       "  3: (0.5, 0.37142857142857144),\n",
       "  4: (0.23571428571428568, 0.20000000000000004),\n",
       "  5: (0.2821428571428571, 0.20000000000000004),\n",
       "  6: (0.05357142857142857, 0.08571428571428572),\n",
       "  7: (-0.33571428571428563, -0.21904761904761905),\n",
       "  8: (0.1714285714285714, 0.14285714285714288),\n",
       "  9: (0.2964285714285714, 0.18095238095238098),\n",
       "  10: (-0.11428571428571425, -0.04761904761904762)}}"
      ]
     },
     "execution_count": 456,
     "metadata": {},
     "output_type": "execute_result"
    }
   ],
   "source": [
    "epochs_results[dataset][generation]"
   ]
  },
  {
   "cell_type": "code",
   "execution_count": 457,
   "id": "cd43557b-0123-4f5f-9014-5073dec030d0",
   "metadata": {
    "tags": []
   },
   "outputs": [
    {
     "data": {
      "text/plain": [
       "dict_keys(['test_Sadie', 'test_LaMelo', 'test_Chester', 'test_Gutenberg', 'test_Mateo', 'test_Adaline'])"
      ]
     },
     "execution_count": 457,
     "metadata": {},
     "output_type": "execute_result"
    }
   ],
   "source": [
    "test_accuracies.keys()"
   ]
  },
  {
   "cell_type": "code",
   "execution_count": 472,
   "id": "82c3e07e-6306-4bd5-9957-5a2ffa0584d3",
   "metadata": {
    "tags": []
   },
   "outputs": [
    {
     "name": "stdout",
     "output_type": "stream",
     "text": [
      "test_Sadie\n",
      "test_LaMelo\n",
      "test_Chester\n",
      "test_Gutenberg\n",
      "test_Mateo\n",
      "test_Adaline\n"
     ]
    }
   ],
   "source": [
    "accuracies_dfs=[]\n",
    "generation=3\n",
    "for dataset in test_accuracies.keys():\n",
    "    print(dataset)\n",
    "    baseline=pd.DataFrame(test_accuracies[dataset][generation-1]).iloc[1,0]\n",
    "    acc_5= epochs_results[dataset][generation-1][\"accuracy\"][5]\n",
    "    accuracies_df=pd.DataFrame(test_accuracies[dataset][generation-1]).head(1)\n",
    "    accuracies_df[\"epoch5\"]=acc_5\n",
    "    accuracies_df[\"baseline\"]=baseline\n",
    "    accuracies_df=accuracies_df.T\n",
    "    accuracies_df[\"dataset\"]=dataset\n",
    "    accuracies_df=accuracies_df.rename(columns={0:\"acc\"})\n",
    "    accuracies_dfs.append(accuracies_df)\n",
    "accuracies_dfs=pd.concat(accuracies_dfs).reset_index().rename(columns={\"index\":\"predictor\"})"
   ]
  },
  {
   "cell_type": "code",
   "execution_count": null,
   "id": "7371bf2d-eb82-4759-8c39-cba0021f2047",
   "metadata": {
    "collapsed": true,
    "jupyter": {
     "outputs_hidden": true
    },
    "tags": []
   },
   "outputs": [],
   "source": []
  },
  {
   "cell_type": "code",
   "execution_count": 473,
   "id": "293b234a-c190-49c2-9838-bf836e3668db",
   "metadata": {
    "tags": []
   },
   "outputs": [
    {
     "data": {
      "application/vnd.plotly.v1+json": {
       "config": {
        "plotlyServerURL": "https://plot.ly"
       },
       "data": [
        {
         "alignmentgroup": "True",
         "bingroup": "x",
         "cliponaxis": true,
         "histfunc": "sum",
         "hovertemplate": "predictor=Random Forest<br>dataset=%{x}<br>sum of acc=%{y}<extra></extra>",
         "legendgroup": "Random Forest",
         "marker": {
          "color": "#636efa",
          "pattern": {
           "shape": ""
          }
         },
         "name": "Random Forest",
         "offsetgroup": "Random Forest",
         "orientation": "v",
         "showlegend": true,
         "textangle": 0,
         "textfont": {
          "size": 15
         },
         "textposition": "outside",
         "texttemplate": "%{value:.2f}",
         "type": "histogram",
         "x": [
          "test_Sadie",
          "test_LaMelo",
          "test_Chester",
          "test_Gutenberg",
          "test_Mateo",
          "test_Adaline"
         ],
         "xaxis": "x",
         "y": [
          0.6666666666666666,
          0.45263157894736844,
          0.4421052631578947,
          0.5842105263157895,
          0.5578947368421052,
          0.5684210526315789
         ],
         "yaxis": "y"
        },
        {
         "alignmentgroup": "True",
         "bingroup": "x",
         "cliponaxis": true,
         "histfunc": "sum",
         "hovertemplate": "predictor=epoch5<br>dataset=%{x}<br>sum of acc=%{y}<extra></extra>",
         "legendgroup": "epoch5",
         "marker": {
          "color": "#EF553B",
          "pattern": {
           "shape": ""
          }
         },
         "name": "epoch5",
         "offsetgroup": "epoch5",
         "orientation": "v",
         "showlegend": true,
         "textangle": 0,
         "textfont": {
          "size": 15
         },
         "textposition": "outside",
         "texttemplate": "%{value:.2f}",
         "type": "histogram",
         "x": [
          "test_Sadie",
          "test_LaMelo",
          "test_Chester",
          "test_Gutenberg",
          "test_Mateo",
          "test_Adaline"
         ],
         "xaxis": "x",
         "y": [
          0.6,
          0.6157894736842106,
          0.7473684210526316,
          0.5052631578947369,
          0.6052631578947368,
          0.5157894736842106
         ],
         "yaxis": "y"
        },
        {
         "alignmentgroup": "True",
         "bingroup": "x",
         "cliponaxis": true,
         "histfunc": "sum",
         "hovertemplate": "predictor=baseline<br>dataset=%{x}<br>sum of acc=%{y}<extra></extra>",
         "legendgroup": "baseline",
         "marker": {
          "color": "#00cc96",
          "pattern": {
           "shape": ""
          }
         },
         "name": "baseline",
         "offsetgroup": "baseline",
         "orientation": "v",
         "showlegend": true,
         "textangle": 0,
         "textfont": {
          "size": 15
         },
         "textposition": "outside",
         "texttemplate": "%{value:.2f}",
         "type": "histogram",
         "x": [
          "test_Sadie",
          "test_LaMelo",
          "test_Chester",
          "test_Gutenberg",
          "test_Mateo",
          "test_Adaline"
         ],
         "xaxis": "x",
         "y": [
          0.45714285714285713,
          0.4789473684210526,
          0.5842105263157895,
          0.5789473684210527,
          0.4368421052631579,
          0.4105263157894737
         ],
         "yaxis": "y"
        }
       ],
       "layout": {
        "barmode": "group",
        "height": 600,
        "legend": {
         "title": {
          "text": "predictor"
         },
         "tracegroupgap": 0
        },
        "template": {
         "data": {
          "pie": [
           {
            "automargin": true,
            "type": "pie"
           }
          ],
          "scatter": [
           {
            "line": {
             "width": 3
            },
            "marker": {
             "size": 9
            },
            "type": "scatter"
           }
          ],
          "scatter3d": [
           {
            "line": {
             "width": 3
            },
            "marker": {
             "size": 9
            },
            "type": "scatter3d"
           }
          ],
          "scattergeo": [
           {
            "line": {
             "width": 3
            },
            "marker": {
             "size": 9
            },
            "type": "scattergeo"
           }
          ],
          "scattergl": [
           {
            "line": {
             "width": 3
            },
            "marker": {
             "size": 9
            },
            "type": "scattergl"
           }
          ],
          "scatterpolar": [
           {
            "line": {
             "width": 3
            },
            "marker": {
             "size": 9
            },
            "type": "scatterpolar"
           }
          ],
          "scatterpolargl": [
           {
            "line": {
             "width": 3
            },
            "marker": {
             "size": 9
            },
            "type": "scatterpolargl"
           }
          ],
          "scatterternary": [
           {
            "line": {
             "width": 3
            },
            "marker": {
             "size": 9
            },
            "type": "scatterternary"
           }
          ],
          "table": [
           {
            "cells": {
             "height": 30
            },
            "header": {
             "height": 36
            },
            "type": "table"
           }
          ]
         },
         "layout": {
          "font": {
           "size": 18
          },
          "xaxis": {
           "title": {
            "standoff": 15
           }
          },
          "yaxis": {
           "title": {
            "standoff": 15
           }
          }
         }
        },
        "title": {
         "text": "Test classification accuracy without training gen 3"
        },
        "width": 1000,
        "xaxis": {
         "anchor": "y",
         "autorange": true,
         "domain": [
          0,
          1
         ],
         "range": [
          -0.5,
          5.5
         ],
         "title": {
          "text": "dataset"
         },
         "type": "category"
        },
        "yaxis": {
         "anchor": "x",
         "autorange": true,
         "domain": [
          0,
          1
         ],
         "range": [
          0,
          0.7867036011080333
         ],
         "title": {
          "text": "Clf Accuracy"
         },
         "type": "linear"
        }
       }
      },
      "image/png": "[encoded data removed]",
      "text/html": [
       "<div>                            <div id=\"ae70f865-b4b6-43f7-9e27-cd6b9156274c\" class=\"plotly-graph-div\" style=\"height:600px; width:1000px;\"></div>            <script type=\"text/javascript\">                require([\"plotly\"], function(Plotly) {                    window.PLOTLYENV=window.PLOTLYENV || {};                                    if (document.getElementById(\"ae70f865-b4b6-43f7-9e27-cd6b9156274c\")) {                    Plotly.newPlot(                        \"ae70f865-b4b6-43f7-9e27-cd6b9156274c\",                        [{\"alignmentgroup\":\"True\",\"bingroup\":\"x\",\"histfunc\":\"sum\",\"hovertemplate\":\"predictor=Random Forest\\u003cbr\\u003edataset=%{x}\\u003cbr\\u003esum of acc=%{y}\\u003cextra\\u003e\\u003c\\u002fextra\\u003e\",\"legendgroup\":\"Random Forest\",\"marker\":{\"color\":\"#636efa\",\"pattern\":{\"shape\":\"\"}},\"name\":\"Random Forest\",\"offsetgroup\":\"Random Forest\",\"orientation\":\"v\",\"showlegend\":true,\"texttemplate\":\"%{value:.2f}\",\"x\":[\"test_Sadie\",\"test_LaMelo\",\"test_Chester\",\"test_Gutenberg\",\"test_Mateo\",\"test_Adaline\"],\"xaxis\":\"x\",\"y\":[0.6666666666666666,0.45263157894736844,0.4421052631578947,0.5842105263157895,0.5578947368421052,0.5684210526315789],\"yaxis\":\"y\",\"type\":\"histogram\",\"textfont\":{\"size\":15},\"cliponaxis\":true,\"textangle\":0,\"textposition\":\"outside\"},{\"alignmentgroup\":\"True\",\"bingroup\":\"x\",\"histfunc\":\"sum\",\"hovertemplate\":\"predictor=epoch5\\u003cbr\\u003edataset=%{x}\\u003cbr\\u003esum of acc=%{y}\\u003cextra\\u003e\\u003c\\u002fextra\\u003e\",\"legendgroup\":\"epoch5\",\"marker\":{\"color\":\"#EF553B\",\"pattern\":{\"shape\":\"\"}},\"name\":\"epoch5\",\"offsetgroup\":\"epoch5\",\"orientation\":\"v\",\"showlegend\":true,\"texttemplate\":\"%{value:.2f}\",\"x\":[\"test_Sadie\",\"test_LaMelo\",\"test_Chester\",\"test_Gutenberg\",\"test_Mateo\",\"test_Adaline\"],\"xaxis\":\"x\",\"y\":[0.6,0.6157894736842106,0.7473684210526316,0.5052631578947369,0.6052631578947368,0.5157894736842106],\"yaxis\":\"y\",\"type\":\"histogram\",\"textfont\":{\"size\":15},\"cliponaxis\":true,\"textangle\":0,\"textposition\":\"outside\"},{\"alignmentgroup\":\"True\",\"bingroup\":\"x\",\"histfunc\":\"sum\",\"hovertemplate\":\"predictor=baseline\\u003cbr\\u003edataset=%{x}\\u003cbr\\u003esum of acc=%{y}\\u003cextra\\u003e\\u003c\\u002fextra\\u003e\",\"legendgroup\":\"baseline\",\"marker\":{\"color\":\"#00cc96\",\"pattern\":{\"shape\":\"\"}},\"name\":\"baseline\",\"offsetgroup\":\"baseline\",\"orientation\":\"v\",\"showlegend\":true,\"texttemplate\":\"%{value:.2f}\",\"x\":[\"test_Sadie\",\"test_LaMelo\",\"test_Chester\",\"test_Gutenberg\",\"test_Mateo\",\"test_Adaline\"],\"xaxis\":\"x\",\"y\":[0.45714285714285713,0.4789473684210526,0.5842105263157895,0.5789473684210527,0.4368421052631579,0.4105263157894737],\"yaxis\":\"y\",\"type\":\"histogram\",\"textfont\":{\"size\":15},\"cliponaxis\":true,\"textangle\":0,\"textposition\":\"outside\"}],                        {\"template\":{\"data\":{\"pie\":[{\"automargin\":true,\"type\":\"pie\"}],\"scatter3d\":[{\"line\":{\"width\":3},\"marker\":{\"size\":9},\"type\":\"scatter3d\"}],\"scattergeo\":[{\"line\":{\"width\":3},\"marker\":{\"size\":9},\"type\":\"scattergeo\"}],\"scattergl\":[{\"line\":{\"width\":3},\"marker\":{\"size\":9},\"type\":\"scattergl\"}],\"scatterpolargl\":[{\"line\":{\"width\":3},\"marker\":{\"size\":9},\"type\":\"scatterpolargl\"}],\"scatterpolar\":[{\"line\":{\"width\":3},\"marker\":{\"size\":9},\"type\":\"scatterpolar\"}],\"scatter\":[{\"line\":{\"width\":3},\"marker\":{\"size\":9},\"type\":\"scatter\"}],\"scatterternary\":[{\"line\":{\"width\":3},\"marker\":{\"size\":9},\"type\":\"scatterternary\"}],\"table\":[{\"cells\":{\"height\":30},\"header\":{\"height\":36},\"type\":\"table\"}]},\"layout\":{\"font\":{\"size\":18},\"xaxis\":{\"title\":{\"standoff\":15}},\"yaxis\":{\"title\":{\"standoff\":15}}}},\"xaxis\":{\"anchor\":\"y\",\"domain\":[0.0,1.0],\"title\":{\"text\":\"dataset\"}},\"yaxis\":{\"anchor\":\"x\",\"domain\":[0.0,1.0],\"title\":{\"text\":\"Clf Accuracy\"}},\"legend\":{\"title\":{\"text\":\"predictor\"},\"tracegroupgap\":0},\"title\":{\"text\":\"Test classification accuracy without training gen 3\"},\"barmode\":\"group\",\"height\":600,\"width\":1000},                        {\"responsive\": true}                    ).then(function(){\n",
       "                            \n",
       "var gd = document.getElementById('ae70f865-b4b6-43f7-9e27-cd6b9156274c');\n",
       "var x = new MutationObserver(function (mutations, observer) {{\n",
       "        var display = window.getComputedStyle(gd).display;\n",
       "        if (!display || display === 'none') {{\n",
       "            console.log([gd, 'removed!']);\n",
       "            Plotly.purge(gd);\n",
       "            observer.disconnect();\n",
       "        }}\n",
       "}});\n",
       "\n",
       "// Listen for the removal of the full notebook cells\n",
       "var notebookContainer = gd.closest('#notebook-container');\n",
       "if (notebookContainer) {{\n",
       "    x.observe(notebookContainer, {childList: true});\n",
       "}}\n",
       "\n",
       "// Listen for the clearing of the current output cell\n",
       "var outputEl = gd.closest('.output');\n",
       "if (outputEl) {{\n",
       "    x.observe(outputEl, {childList: true});\n",
       "}}\n",
       "\n",
       "                        })                };                });            </script>        </div>"
      ]
     },
     "metadata": {},
     "output_type": "display_data"
    }
   ],
   "source": [
    "import plotly.express as px\n",
    "accuracies_dfs=accuracies_dfs[~accuracies_dfs.predictor.isin([\"Gradient Boosting\",\"XGBoost\"])]\n",
    "fig = px.histogram(accuracies_dfs, x=\"dataset\", y=\"acc\",\n",
    "             color='predictor', barmode='group',text_auto=\".2f\",\n",
    "            title=f\"Test classification accuracy without training gen {generation}\"\n",
    "             )\n",
    "fig.update_yaxes(title_text='Clf Accuracy')\n",
    "fig.update_layout(height=600, width=1000, template=\"presentation\")\n",
    "fig.update_traces(textfont_size=15, textangle=0, textposition=\"outside\", cliponaxis=True)"
   ]
  },
  {
   "cell_type": "code",
   "execution_count": 73,
   "id": "5b257236-40dd-43f4-a62c-f95dbb07e901",
   "metadata": {
    "collapsed": true,
    "jupyter": {
     "outputs_hidden": true
    },
    "tags": []
   },
   "outputs": [
    {
     "name": "stdout",
     "output_type": "stream",
     "text": [
      "Defaulting to user installation because normal site-packages is not writeable\n",
      "Collecting kaleido\n",
      "  Downloading kaleido-0.2.1-py2.py3-none-manylinux1_x86_64.whl.metadata (15 kB)\n",
      "Downloading kaleido-0.2.1-py2.py3-none-manylinux1_x86_64.whl (79.9 MB)\n",
      "\u001b[2K   \u001b[90m━━━━━━━━━━━━━━━━━━━━━━━━━━━━━━━━━━━━━━━━\u001b[0m \u001b[32m79.9/79.9 MB\u001b[0m \u001b[31m10.5 MB/s\u001b[0m eta \u001b[36m0:00:00\u001b[0m:00:01\u001b[0m00:01\u001b[0m\n",
      "\u001b[?25hInstalling collected packages: kaleido\n",
      "Successfully installed kaleido-0.2.1\n",
      "Note: you may need to restart the kernel to use updated packages.\n"
     ]
    }
   ],
   "source": [
    "#%pip install --proxy http://proxy:80 -U kaleido"
   ]
  },
  {
   "cell_type": "code",
   "execution_count": 475,
   "id": "5d98973c-53ac-454d-a09a-05baf52010df",
   "metadata": {
    "tags": []
   },
   "outputs": [
    {
     "data": {
      "text/html": [
       "<div>\n",
       "<style scoped>\n",
       "    .dataframe tbody tr th:only-of-type {\n",
       "        vertical-align: middle;\n",
       "    }\n",
       "\n",
       "    .dataframe tbody tr th {\n",
       "        vertical-align: top;\n",
       "    }\n",
       "\n",
       "    .dataframe thead th {\n",
       "        text-align: right;\n",
       "    }\n",
       "</style>\n",
       "<table border=\"1\" class=\"dataframe\">\n",
       "  <thead>\n",
       "    <tr style=\"text-align: right;\">\n",
       "      <th></th>\n",
       "      <th>Gradient Boosting</th>\n",
       "      <th>Random Forest</th>\n",
       "      <th>XGBoost</th>\n",
       "    </tr>\n",
       "  </thead>\n",
       "  <tbody>\n",
       "    <tr>\n",
       "      <th>0</th>\n",
       "      <td>0.320301</td>\n",
       "      <td>0.148872</td>\n",
       "      <td>0.178947</td>\n",
       "    </tr>\n",
       "    <tr>\n",
       "      <th>1</th>\n",
       "      <td>0.252632</td>\n",
       "      <td>0.126316</td>\n",
       "      <td>0.178947</td>\n",
       "    </tr>\n",
       "    <tr>\n",
       "      <th>2</th>\n",
       "      <td>-0.233083</td>\n",
       "      <td>-0.233083</td>\n",
       "      <td>-0.233083</td>\n",
       "    </tr>\n",
       "    <tr>\n",
       "      <th>3</th>\n",
       "      <td>-0.178947</td>\n",
       "      <td>-0.178947</td>\n",
       "      <td>-0.178947</td>\n",
       "    </tr>\n",
       "  </tbody>\n",
       "</table>\n",
       "</div>"
      ],
      "text/plain": [
       "   Gradient Boosting  Random Forest   XGBoost\n",
       "0           0.320301       0.148872  0.178947\n",
       "1           0.252632       0.126316  0.178947\n",
       "2          -0.233083      -0.233083 -0.233083\n",
       "3          -0.178947      -0.178947 -0.178947"
      ]
     },
     "execution_count": 475,
     "metadata": {},
     "output_type": "execute_result"
    }
   ],
   "source": [
    "pd.DataFrame(corr_scores[dataset][generation-1])"
   ]
  },
  {
   "cell_type": "code",
   "execution_count": 474,
   "id": "dfeaa370-f42f-4842-91d1-17da0a24c751",
   "metadata": {
    "tags": []
   },
   "outputs": [],
   "source": [
    "fig.write_image(f\"plots_predictor/test_accuracy_histogram_gen_{generation}.png\")"
   ]
  },
  {
   "cell_type": "code",
   "execution_count": 484,
   "id": "66e983c7-3ba6-4eee-99c7-b436ccb724bd",
   "metadata": {
    "tags": []
   },
   "outputs": [],
   "source": [
    "correlations_dfs=[]\n",
    "generation=3\n",
    "for dataset in corr_scores.keys():\n",
    "    baseline_spearman=pd.DataFrame(corr_scores[dataset][generation-1]).iloc[2,0]\n",
    "    baseline_tau=pd.DataFrame(corr_scores[dataset][generation-1]).iloc[3,0]\n",
    "    corr_5, tau_5=epochs_results[dataset][generation-1][\"correlation\"][5]\n",
    "    correlations_df=pd.DataFrame(corr_scores[dataset][generation-1]).head(2)\n",
    "    correlations_df[\"corr_5\"]=corr_5\n",
    "    correlations_df[\"tau_5\"]=tau_5\n",
    "    correlations_df[\"baseline\"]=baseline_spearman\n",
    "    correlations_df[\"baseline_tau\"]=baseline_tau\n",
    "\n",
    "    correlations_df=correlations_df.T\n",
    "    correlations_df[\"dataset\"]=dataset\n",
    "    correlations_df=correlations_df.rename(columns={0:\"Spearman's Rank\", 1:\"Kendall's tau distance\"})\n",
    "    correlations_dfs.append(correlations_df)\n",
    "correlations_dfs=pd.concat(correlations_dfs).reset_index().rename(columns={\"index\":\"predictor\"})"
   ]
  },
  {
   "cell_type": "code",
   "execution_count": 485,
   "id": "b6183953-79fe-4bcc-83ff-a4e9a8c18957",
   "metadata": {
    "tags": []
   },
   "outputs": [
    {
     "data": {
      "application/vnd.plotly.v1+json": {
       "config": {
        "plotlyServerURL": "https://plot.ly"
       },
       "data": [
        {
         "alignmentgroup": "True",
         "bingroup": "x",
         "cliponaxis": true,
         "histfunc": "sum",
         "hovertemplate": "predictor=Random Forest<br>dataset=%{x}<br>sum of Spearman's Rank=%{y}<extra></extra>",
         "legendgroup": "Random Forest",
         "marker": {
          "color": "#636efa",
          "pattern": {
           "shape": ""
          }
         },
         "name": "Random Forest",
         "offsetgroup": "Random Forest",
         "orientation": "v",
         "showlegend": true,
         "textangle": 0,
         "textfont": {
          "size": 15
         },
         "textposition": "outside",
         "texttemplate": "%{value:.2f}",
         "type": "histogram",
         "x": [
          "test_Sadie",
          "test_LaMelo",
          "test_Chester",
          "test_Gutenberg",
          "test_Mateo",
          "test_Adaline"
         ],
         "xaxis": "x",
         "y": [
          0.5428571428571428,
          -0.024060150375939848,
          -0.27518796992481204,
          0.37744360902255636,
          0.21654135338345865,
          0.14887218045112782
         ],
         "yaxis": "y"
        },
        {
         "alignmentgroup": "True",
         "bingroup": "x",
         "cliponaxis": true,
         "histfunc": "sum",
         "hovertemplate": "predictor=corr_5<br>dataset=%{x}<br>sum of Spearman's Rank=%{y}<extra></extra>",
         "legendgroup": "corr_5",
         "marker": {
          "color": "#EF553B",
          "pattern": {
           "shape": ""
          }
         },
         "name": "corr_5",
         "offsetgroup": "corr_5",
         "orientation": "v",
         "showlegend": true,
         "textangle": 0,
         "textfont": {
          "size": 15
         },
         "textposition": "outside",
         "texttemplate": "%{value:.2f}",
         "type": "histogram",
         "x": [
          "test_Sadie",
          "test_LaMelo",
          "test_Chester",
          "test_Gutenberg",
          "test_Mateo",
          "test_Adaline"
         ],
         "xaxis": "x",
         "y": [
          0.2821428571428571,
          0.3383458646616541,
          0.6812030075187969,
          0.004511278195488721,
          0.30977443609022554,
          0.07669172932330826
         ],
         "yaxis": "y"
        },
        {
         "alignmentgroup": "True",
         "bingroup": "x",
         "cliponaxis": true,
         "histfunc": "sum",
         "hovertemplate": "predictor=baseline<br>dataset=%{x}<br>sum of Spearman's Rank=%{y}<extra></extra>",
         "legendgroup": "baseline",
         "marker": {
          "color": "#00cc96",
          "pattern": {
           "shape": ""
          }
         },
         "name": "baseline",
         "offsetgroup": "baseline",
         "orientation": "v",
         "showlegend": true,
         "textangle": 0,
         "textfont": {
          "size": 15
         },
         "textposition": "outside",
         "texttemplate": "%{value:.2f}",
         "type": "histogram",
         "x": [
          "test_Sadie",
          "test_LaMelo",
          "test_Chester",
          "test_Gutenberg",
          "test_Mateo",
          "test_Adaline"
         ],
         "xaxis": "x",
         "y": [
          -0.18214285714285713,
          -0.02857142857142857,
          0.2270676691729323,
          0.23759398496240602,
          -0.18796992481203004,
          -0.23308270676691725
         ],
         "yaxis": "y"
        }
       ],
       "layout": {
        "barmode": "group",
        "height": 600,
        "legend": {
         "title": {
          "text": "predictor"
         },
         "tracegroupgap": 0
        },
        "template": {
         "data": {
          "pie": [
           {
            "automargin": true,
            "type": "pie"
           }
          ],
          "scatter": [
           {
            "line": {
             "width": 3
            },
            "marker": {
             "size": 9
            },
            "type": "scatter"
           }
          ],
          "scatter3d": [
           {
            "line": {
             "width": 3
            },
            "marker": {
             "size": 9
            },
            "type": "scatter3d"
           }
          ],
          "scattergeo": [
           {
            "line": {
             "width": 3
            },
            "marker": {
             "size": 9
            },
            "type": "scattergeo"
           }
          ],
          "scattergl": [
           {
            "line": {
             "width": 3
            },
            "marker": {
             "size": 9
            },
            "type": "scattergl"
           }
          ],
          "scatterpolar": [
           {
            "line": {
             "width": 3
            },
            "marker": {
             "size": 9
            },
            "type": "scatterpolar"
           }
          ],
          "scatterpolargl": [
           {
            "line": {
             "width": 3
            },
            "marker": {
             "size": 9
            },
            "type": "scatterpolargl"
           }
          ],
          "scatterternary": [
           {
            "line": {
             "width": 3
            },
            "marker": {
             "size": 9
            },
            "type": "scatterternary"
           }
          ],
          "table": [
           {
            "cells": {
             "height": 30
            },
            "header": {
             "height": 36
            },
            "type": "table"
           }
          ]
         },
         "layout": {
          "font": {
           "size": 18
          },
          "xaxis": {
           "title": {
            "standoff": 15
           }
          },
          "yaxis": {
           "title": {
            "standoff": 15
           }
          }
         }
        },
        "title": {
         "text": "Test Spearman's Rank coefficient without training gen 3"
        },
        "width": 1000,
        "xaxis": {
         "anchor": "y",
         "autorange": true,
         "domain": [
          0,
          1
         ],
         "range": [
          -0.5,
          5.5
         ],
         "title": {
          "text": "dataset"
         },
         "type": "category"
        },
        "yaxis": {
         "anchor": "x",
         "autorange": true,
         "domain": [
          0,
          1
         ],
         "range": [
          -0.32832080200501257,
          0.7343358395989974
         ],
         "title": {
          "text": "Spearman's Rank coefficient"
         },
         "type": "linear"
        }
       }
      },
      "image/png": "[encoded data removed]",
      "text/html": [
       "<div>                            <div id=\"6a058b10-676b-4b65-a49f-3ca96bd05708\" class=\"plotly-graph-div\" style=\"height:600px; width:1000px;\"></div>            <script type=\"text/javascript\">                require([\"plotly\"], function(Plotly) {                    window.PLOTLYENV=window.PLOTLYENV || {};                                    if (document.getElementById(\"6a058b10-676b-4b65-a49f-3ca96bd05708\")) {                    Plotly.newPlot(                        \"6a058b10-676b-4b65-a49f-3ca96bd05708\",                        [{\"alignmentgroup\":\"True\",\"bingroup\":\"x\",\"histfunc\":\"sum\",\"hovertemplate\":\"predictor=Random Forest\\u003cbr\\u003edataset=%{x}\\u003cbr\\u003esum of Spearman's Rank=%{y}\\u003cextra\\u003e\\u003c\\u002fextra\\u003e\",\"legendgroup\":\"Random Forest\",\"marker\":{\"color\":\"#636efa\",\"pattern\":{\"shape\":\"\"}},\"name\":\"Random Forest\",\"offsetgroup\":\"Random Forest\",\"orientation\":\"v\",\"showlegend\":true,\"texttemplate\":\"%{value:.2f}\",\"x\":[\"test_Sadie\",\"test_LaMelo\",\"test_Chester\",\"test_Gutenberg\",\"test_Mateo\",\"test_Adaline\"],\"xaxis\":\"x\",\"y\":[0.5428571428571428,-0.024060150375939848,-0.27518796992481204,0.37744360902255636,0.21654135338345865,0.14887218045112782],\"yaxis\":\"y\",\"type\":\"histogram\",\"textfont\":{\"size\":15},\"cliponaxis\":true,\"textangle\":0,\"textposition\":\"outside\"},{\"alignmentgroup\":\"True\",\"bingroup\":\"x\",\"histfunc\":\"sum\",\"hovertemplate\":\"predictor=corr_5\\u003cbr\\u003edataset=%{x}\\u003cbr\\u003esum of Spearman's Rank=%{y}\\u003cextra\\u003e\\u003c\\u002fextra\\u003e\",\"legendgroup\":\"corr_5\",\"marker\":{\"color\":\"#EF553B\",\"pattern\":{\"shape\":\"\"}},\"name\":\"corr_5\",\"offsetgroup\":\"corr_5\",\"orientation\":\"v\",\"showlegend\":true,\"texttemplate\":\"%{value:.2f}\",\"x\":[\"test_Sadie\",\"test_LaMelo\",\"test_Chester\",\"test_Gutenberg\",\"test_Mateo\",\"test_Adaline\"],\"xaxis\":\"x\",\"y\":[0.2821428571428571,0.3383458646616541,0.6812030075187969,0.004511278195488721,0.30977443609022554,0.07669172932330826],\"yaxis\":\"y\",\"type\":\"histogram\",\"textfont\":{\"size\":15},\"cliponaxis\":true,\"textangle\":0,\"textposition\":\"outside\"},{\"alignmentgroup\":\"True\",\"bingroup\":\"x\",\"histfunc\":\"sum\",\"hovertemplate\":\"predictor=baseline\\u003cbr\\u003edataset=%{x}\\u003cbr\\u003esum of Spearman's Rank=%{y}\\u003cextra\\u003e\\u003c\\u002fextra\\u003e\",\"legendgroup\":\"baseline\",\"marker\":{\"color\":\"#00cc96\",\"pattern\":{\"shape\":\"\"}},\"name\":\"baseline\",\"offsetgroup\":\"baseline\",\"orientation\":\"v\",\"showlegend\":true,\"texttemplate\":\"%{value:.2f}\",\"x\":[\"test_Sadie\",\"test_LaMelo\",\"test_Chester\",\"test_Gutenberg\",\"test_Mateo\",\"test_Adaline\"],\"xaxis\":\"x\",\"y\":[-0.18214285714285713,-0.02857142857142857,0.2270676691729323,0.23759398496240602,-0.18796992481203004,-0.23308270676691725],\"yaxis\":\"y\",\"type\":\"histogram\",\"textfont\":{\"size\":15},\"cliponaxis\":true,\"textangle\":0,\"textposition\":\"outside\"}],                        {\"template\":{\"data\":{\"pie\":[{\"automargin\":true,\"type\":\"pie\"}],\"scatter3d\":[{\"line\":{\"width\":3},\"marker\":{\"size\":9},\"type\":\"scatter3d\"}],\"scattergeo\":[{\"line\":{\"width\":3},\"marker\":{\"size\":9},\"type\":\"scattergeo\"}],\"scattergl\":[{\"line\":{\"width\":3},\"marker\":{\"size\":9},\"type\":\"scattergl\"}],\"scatterpolargl\":[{\"line\":{\"width\":3},\"marker\":{\"size\":9},\"type\":\"scatterpolargl\"}],\"scatterpolar\":[{\"line\":{\"width\":3},\"marker\":{\"size\":9},\"type\":\"scatterpolar\"}],\"scatter\":[{\"line\":{\"width\":3},\"marker\":{\"size\":9},\"type\":\"scatter\"}],\"scatterternary\":[{\"line\":{\"width\":3},\"marker\":{\"size\":9},\"type\":\"scatterternary\"}],\"table\":[{\"cells\":{\"height\":30},\"header\":{\"height\":36},\"type\":\"table\"}]},\"layout\":{\"font\":{\"size\":18},\"xaxis\":{\"title\":{\"standoff\":15}},\"yaxis\":{\"title\":{\"standoff\":15}}}},\"xaxis\":{\"anchor\":\"y\",\"domain\":[0.0,1.0],\"title\":{\"text\":\"dataset\"}},\"yaxis\":{\"anchor\":\"x\",\"domain\":[0.0,1.0],\"title\":{\"text\":\"Spearman's Rank coefficient\"}},\"legend\":{\"title\":{\"text\":\"predictor\"},\"tracegroupgap\":0},\"title\":{\"text\":\"Test Spearman's Rank coefficient without training gen 3\"},\"barmode\":\"group\",\"height\":600,\"width\":1000},                        {\"responsive\": true}                    ).then(function(){\n",
       "                            \n",
       "var gd = document.getElementById('6a058b10-676b-4b65-a49f-3ca96bd05708');\n",
       "var x = new MutationObserver(function (mutations, observer) {{\n",
       "        var display = window.getComputedStyle(gd).display;\n",
       "        if (!display || display === 'none') {{\n",
       "            console.log([gd, 'removed!']);\n",
       "            Plotly.purge(gd);\n",
       "            observer.disconnect();\n",
       "        }}\n",
       "}});\n",
       "\n",
       "// Listen for the removal of the full notebook cells\n",
       "var notebookContainer = gd.closest('#notebook-container');\n",
       "if (notebookContainer) {{\n",
       "    x.observe(notebookContainer, {childList: true});\n",
       "}}\n",
       "\n",
       "// Listen for the clearing of the current output cell\n",
       "var outputEl = gd.closest('.output');\n",
       "if (outputEl) {{\n",
       "    x.observe(outputEl, {childList: true});\n",
       "}}\n",
       "\n",
       "                        })                };                });            </script>        </div>"
      ]
     },
     "metadata": {},
     "output_type": "display_data"
    }
   ],
   "source": [
    "correlations_dfs=correlations_dfs[~correlations_dfs.predictor.isin([\"Gradient Boosting\",\"XGBoost\"])]\n",
    "\n",
    "fig = px.histogram(correlations_dfs[~correlations_dfs.predictor.isin([\"tau_5\",\"baseline_tau\"])], x=\"dataset\", y=\"Spearman's Rank\",\n",
    "             color='predictor', barmode='group',text_auto=\".2f\",\n",
    "            title=f\"Test Spearman's Rank coefficient without training gen {generation}\"\n",
    "             )\n",
    "fig.update_yaxes(title_text=\"Spearman's Rank coefficient\")\n",
    "fig.update_layout(height=600, width=1000, template=\"presentation\")\n",
    "fig.update_traces(textfont_size=15, textangle=0, textposition=\"outside\", cliponaxis=True)"
   ]
  },
  {
   "cell_type": "code",
   "execution_count": 486,
   "id": "f54403ce-30e9-4ca9-8136-cb0f534a0c33",
   "metadata": {
    "tags": []
   },
   "outputs": [],
   "source": [
    "fig.write_image(f\"plots_predictor/test_correlations_histogram_gen_{generation}.png\")"
   ]
  },
  {
   "cell_type": "code",
   "execution_count": 150,
   "id": "ae32ca2d-1c8e-463c-a042-07b5a7ae81a9",
   "metadata": {
    "tags": []
   },
   "outputs": [
    {
     "data": {
      "text/plain": [
       "{'accuracy': {'1': 0.6168067226890757,\n",
       "  '2': 0.6521008403361345,\n",
       "  '3': 0.653781512605042,\n",
       "  '4': 0.6420168067226891,\n",
       "  '5': 0.7176470588235294,\n",
       "  '6': 0.6672268907563025,\n",
       "  '7': 0.6857142857142857,\n",
       "  '8': 0.6033613445378151,\n",
       "  '9': 0.680672268907563,\n",
       "  '10': 0.6285714285714286},\n",
       " 'correlation': {'1': [0.2742296918767507, 0.23361344537815124],\n",
       "  '2': [0.4372549019607843, 0.3042016806722689],\n",
       "  '3': [0.43529411764705883, 0.30756302521008405],\n",
       "  '4': [0.40896358543417366, 0.28403361344537814],\n",
       "  '5': [0.6050420168067228, 0.43529411764705883],\n",
       "  '6': [0.48879551820728295, 0.334453781512605],\n",
       "  '7': [0.5086834733893558, 0.37142857142857144],\n",
       "  '8': [0.2470588235294118, 0.20672268907563024],\n",
       "  '9': [0.49859943977591037, 0.361344537815126],\n",
       "  '10': [0.3554621848739496, 0.2571428571428571]}}"
      ]
     },
     "execution_count": 150,
     "metadata": {},
     "output_type": "execute_result"
    }
   ],
   "source": [
    "epochs_results[\"Sadie\"][2]"
   ]
  },
  {
   "cell_type": "code",
   "execution_count": 4,
   "id": "d4c7e548-03bf-4d6c-817b-6dd4ad313018",
   "metadata": {
    "tags": []
   },
   "outputs": [],
   "source": [
    "corr_epochs_dfs=[]\n",
    "for dataset in epochs_results.keys():\n",
    "    corr_epochs_df=pd.DataFrame(epochs_results[dataset][2][\"correlation\"]).T.rename(columns={0:\"spearman's corr\",1:\"Kendall's distance\"})\n",
    "    corr_epochs_df[\"clf_correlation\"]=corr_scores[dataset][2][\"XGBoost\"][0]\n",
    "    corr_epochs_df[\"clf_kendall_dist\"]=corr_scores[dataset][2][\"XGBoost\"][1]\n",
    "    corr_epochs_df[\"dataset\"]=dataset\n",
    "    corr_epochs_dfs.append(corr_epochs_df)\n",
    "corr_epochs_dfs=pd.concat(corr_epochs_dfs)"
   ]
  },
  {
   "cell_type": "code",
   "execution_count": 6,
   "id": "a2c622c4-ea13-4f13-8263-52697083c355",
   "metadata": {
    "tags": []
   },
   "outputs": [],
   "source": [
    "corr_epochs_dfs=corr_epochs_dfs.reset_index().rename(columns={\"index\":\"epoch\"})"
   ]
  },
  {
   "cell_type": "code",
   "execution_count": 7,
   "id": "4214082b-6fe0-4ac0-9097-3a8f349bc622",
   "metadata": {
    "tags": []
   },
   "outputs": [
    {
     "data": {
      "text/html": [
       "<div>\n",
       "<style scoped>\n",
       "    .dataframe tbody tr th:only-of-type {\n",
       "        vertical-align: middle;\n",
       "    }\n",
       "\n",
       "    .dataframe tbody tr th {\n",
       "        vertical-align: top;\n",
       "    }\n",
       "\n",
       "    .dataframe thead th {\n",
       "        text-align: right;\n",
       "    }\n",
       "</style>\n",
       "<table border=\"1\" class=\"dataframe\">\n",
       "  <thead>\n",
       "    <tr style=\"text-align: right;\">\n",
       "      <th></th>\n",
       "      <th>epoch</th>\n",
       "      <th>spearman's corr</th>\n",
       "      <th>Kendall's distance</th>\n",
       "      <th>clf_correlation</th>\n",
       "      <th>clf_kendall_dist</th>\n",
       "      <th>dataset</th>\n",
       "    </tr>\n",
       "  </thead>\n",
       "  <tbody>\n",
       "    <tr>\n",
       "      <th>0</th>\n",
       "      <td>1</td>\n",
       "      <td>0.743902</td>\n",
       "      <td>0.535897</td>\n",
       "      <td>0.158349</td>\n",
       "      <td>0.128205</td>\n",
       "      <td>Chester</td>\n",
       "    </tr>\n",
       "    <tr>\n",
       "      <th>1</th>\n",
       "      <td>2</td>\n",
       "      <td>0.774109</td>\n",
       "      <td>0.582051</td>\n",
       "      <td>0.158349</td>\n",
       "      <td>0.128205</td>\n",
       "      <td>Chester</td>\n",
       "    </tr>\n",
       "    <tr>\n",
       "      <th>2</th>\n",
       "      <td>3</td>\n",
       "      <td>0.809381</td>\n",
       "      <td>0.610256</td>\n",
       "      <td>0.158349</td>\n",
       "      <td>0.128205</td>\n",
       "      <td>Chester</td>\n",
       "    </tr>\n",
       "    <tr>\n",
       "      <th>3</th>\n",
       "      <td>4</td>\n",
       "      <td>0.789869</td>\n",
       "      <td>0.587179</td>\n",
       "      <td>0.158349</td>\n",
       "      <td>0.128205</td>\n",
       "      <td>Chester</td>\n",
       "    </tr>\n",
       "    <tr>\n",
       "      <th>4</th>\n",
       "      <td>5</td>\n",
       "      <td>0.784615</td>\n",
       "      <td>0.602564</td>\n",
       "      <td>0.158349</td>\n",
       "      <td>0.128205</td>\n",
       "      <td>Chester</td>\n",
       "    </tr>\n",
       "    <tr>\n",
       "      <th>...</th>\n",
       "      <td>...</td>\n",
       "      <td>...</td>\n",
       "      <td>...</td>\n",
       "      <td>...</td>\n",
       "      <td>...</td>\n",
       "      <td>...</td>\n",
       "    </tr>\n",
       "    <tr>\n",
       "      <th>65</th>\n",
       "      <td>6</td>\n",
       "      <td>0.662764</td>\n",
       "      <td>0.476529</td>\n",
       "      <td>0.564066</td>\n",
       "      <td>0.402560</td>\n",
       "      <td>Caitie</td>\n",
       "    </tr>\n",
       "    <tr>\n",
       "      <th>66</th>\n",
       "      <td>7</td>\n",
       "      <td>0.535398</td>\n",
       "      <td>0.379801</td>\n",
       "      <td>0.564066</td>\n",
       "      <td>0.402560</td>\n",
       "      <td>Caitie</td>\n",
       "    </tr>\n",
       "    <tr>\n",
       "      <th>67</th>\n",
       "      <td>8</td>\n",
       "      <td>0.669986</td>\n",
       "      <td>0.504979</td>\n",
       "      <td>0.564066</td>\n",
       "      <td>0.402560</td>\n",
       "      <td>Caitie</td>\n",
       "    </tr>\n",
       "    <tr>\n",
       "      <th>68</th>\n",
       "      <td>9</td>\n",
       "      <td>0.780501</td>\n",
       "      <td>0.598862</td>\n",
       "      <td>0.564066</td>\n",
       "      <td>0.402560</td>\n",
       "      <td>Caitie</td>\n",
       "    </tr>\n",
       "    <tr>\n",
       "      <th>69</th>\n",
       "      <td>10</td>\n",
       "      <td>0.803261</td>\n",
       "      <td>0.615932</td>\n",
       "      <td>0.564066</td>\n",
       "      <td>0.402560</td>\n",
       "      <td>Caitie</td>\n",
       "    </tr>\n",
       "  </tbody>\n",
       "</table>\n",
       "<p>70 rows × 6 columns</p>\n",
       "</div>"
      ],
      "text/plain": [
       "   epoch  spearman's corr  Kendall's distance  clf_correlation  \\\n",
       "0      1         0.743902            0.535897         0.158349   \n",
       "1      2         0.774109            0.582051         0.158349   \n",
       "2      3         0.809381            0.610256         0.158349   \n",
       "3      4         0.789869            0.587179         0.158349   \n",
       "4      5         0.784615            0.602564         0.158349   \n",
       "..   ...              ...                 ...              ...   \n",
       "65     6         0.662764            0.476529         0.564066   \n",
       "66     7         0.535398            0.379801         0.564066   \n",
       "67     8         0.669986            0.504979         0.564066   \n",
       "68     9         0.780501            0.598862         0.564066   \n",
       "69    10         0.803261            0.615932         0.564066   \n",
       "\n",
       "    clf_kendall_dist  dataset  \n",
       "0           0.128205  Chester  \n",
       "1           0.128205  Chester  \n",
       "2           0.128205  Chester  \n",
       "3           0.128205  Chester  \n",
       "4           0.128205  Chester  \n",
       "..               ...      ...  \n",
       "65          0.402560   Caitie  \n",
       "66          0.402560   Caitie  \n",
       "67          0.402560   Caitie  \n",
       "68          0.402560   Caitie  \n",
       "69          0.402560   Caitie  \n",
       "\n",
       "[70 rows x 6 columns]"
      ]
     },
     "execution_count": 7,
     "metadata": {},
     "output_type": "execute_result"
    }
   ],
   "source": [
    "corr_epochs_dfs"
   ]
  },
  {
   "cell_type": "code",
   "execution_count": 13,
   "id": "5244ab2f-7f6f-4db3-bf3b-bfc844a31402",
   "metadata": {
    "tags": []
   },
   "outputs": [],
   "source": [
    "corr_epochs_dfs = corr_epochs_dfs.melt(id_vars=['epoch',\"dataset\"], value_vars=[\"spearman's corr\", \"Kendall's distance\", \"clf_correlation\", \"clf_kendall_dist\"], \n",
    "                     var_name='metric', value_name='score')"
   ]
  },
  {
   "cell_type": "code",
   "execution_count": 15,
   "id": "f41a574d-9e3f-4f82-bc55-7fc1cc48766f",
   "metadata": {
    "tags": []
   },
   "outputs": [
    {
     "data": {
      "text/html": [
       "<div>\n",
       "<style scoped>\n",
       "    .dataframe tbody tr th:only-of-type {\n",
       "        vertical-align: middle;\n",
       "    }\n",
       "\n",
       "    .dataframe tbody tr th {\n",
       "        vertical-align: top;\n",
       "    }\n",
       "\n",
       "    .dataframe thead th {\n",
       "        text-align: right;\n",
       "    }\n",
       "</style>\n",
       "<table border=\"1\" class=\"dataframe\">\n",
       "  <thead>\n",
       "    <tr style=\"text-align: right;\">\n",
       "      <th></th>\n",
       "      <th>epoch</th>\n",
       "      <th>dataset</th>\n",
       "      <th>metric</th>\n",
       "      <th>score</th>\n",
       "    </tr>\n",
       "  </thead>\n",
       "  <tbody>\n",
       "    <tr>\n",
       "      <th>0</th>\n",
       "      <td>1</td>\n",
       "      <td>Chester</td>\n",
       "      <td>spearman's corr</td>\n",
       "      <td>0.743902</td>\n",
       "    </tr>\n",
       "    <tr>\n",
       "      <th>1</th>\n",
       "      <td>2</td>\n",
       "      <td>Chester</td>\n",
       "      <td>spearman's corr</td>\n",
       "      <td>0.774109</td>\n",
       "    </tr>\n",
       "    <tr>\n",
       "      <th>2</th>\n",
       "      <td>3</td>\n",
       "      <td>Chester</td>\n",
       "      <td>spearman's corr</td>\n",
       "      <td>0.809381</td>\n",
       "    </tr>\n",
       "    <tr>\n",
       "      <th>3</th>\n",
       "      <td>4</td>\n",
       "      <td>Chester</td>\n",
       "      <td>spearman's corr</td>\n",
       "      <td>0.789869</td>\n",
       "    </tr>\n",
       "    <tr>\n",
       "      <th>4</th>\n",
       "      <td>5</td>\n",
       "      <td>Chester</td>\n",
       "      <td>spearman's corr</td>\n",
       "      <td>0.784615</td>\n",
       "    </tr>\n",
       "    <tr>\n",
       "      <th>...</th>\n",
       "      <td>...</td>\n",
       "      <td>...</td>\n",
       "      <td>...</td>\n",
       "      <td>...</td>\n",
       "    </tr>\n",
       "    <tr>\n",
       "      <th>275</th>\n",
       "      <td>6</td>\n",
       "      <td>Caitie</td>\n",
       "      <td>clf_kendall_dist</td>\n",
       "      <td>0.402560</td>\n",
       "    </tr>\n",
       "    <tr>\n",
       "      <th>276</th>\n",
       "      <td>7</td>\n",
       "      <td>Caitie</td>\n",
       "      <td>clf_kendall_dist</td>\n",
       "      <td>0.402560</td>\n",
       "    </tr>\n",
       "    <tr>\n",
       "      <th>277</th>\n",
       "      <td>8</td>\n",
       "      <td>Caitie</td>\n",
       "      <td>clf_kendall_dist</td>\n",
       "      <td>0.402560</td>\n",
       "    </tr>\n",
       "    <tr>\n",
       "      <th>278</th>\n",
       "      <td>9</td>\n",
       "      <td>Caitie</td>\n",
       "      <td>clf_kendall_dist</td>\n",
       "      <td>0.402560</td>\n",
       "    </tr>\n",
       "    <tr>\n",
       "      <th>279</th>\n",
       "      <td>10</td>\n",
       "      <td>Caitie</td>\n",
       "      <td>clf_kendall_dist</td>\n",
       "      <td>0.402560</td>\n",
       "    </tr>\n",
       "  </tbody>\n",
       "</table>\n",
       "<p>280 rows × 4 columns</p>\n",
       "</div>"
      ],
      "text/plain": [
       "    epoch  dataset            metric     score\n",
       "0       1  Chester   spearman's corr  0.743902\n",
       "1       2  Chester   spearman's corr  0.774109\n",
       "2       3  Chester   spearman's corr  0.809381\n",
       "3       4  Chester   spearman's corr  0.789869\n",
       "4       5  Chester   spearman's corr  0.784615\n",
       "..    ...      ...               ...       ...\n",
       "275     6   Caitie  clf_kendall_dist  0.402560\n",
       "276     7   Caitie  clf_kendall_dist  0.402560\n",
       "277     8   Caitie  clf_kendall_dist  0.402560\n",
       "278     9   Caitie  clf_kendall_dist  0.402560\n",
       "279    10   Caitie  clf_kendall_dist  0.402560\n",
       "\n",
       "[280 rows x 4 columns]"
      ]
     },
     "execution_count": 15,
     "metadata": {},
     "output_type": "execute_result"
    }
   ],
   "source": [
    "corr_epochs_dfs"
   ]
  },
  {
   "cell_type": "code",
   "execution_count": 29,
   "id": "6d504ac5-8402-41fb-9a51-0d5a359bd8e0",
   "metadata": {
    "tags": []
   },
   "outputs": [],
   "source": [
    "import plotly.express as px\n",
    "figs=[]\n",
    "for dataset in corr_epochs_dfs.dataset.unique():\n",
    "    fig = px.line(corr_epochs_dfs[(corr_epochs_dfs.dataset==dataset) & (corr_epochs_dfs.metric.isin([\"spearman's corr\",\"clf_correlation\"]))], x='epoch', y=\"score\", color='metric',\n",
    "                  title=f'Spearman correlation {dataset}')\n",
    "\n",
    "    # Adjust subplot titles\n",
    "    fig.update_yaxes(title_text='', showticklabels=True)\n",
    "    fig.update_xaxes(title_text='', showticklabels=True)\n",
    "    fig.update_layout(template=\"presentation\", height=600, width=900)\n",
    "    fig.write_image(f\"plots_predictor/{dataset}_correlation.png\")\n",
    "    figs.append(fig)"
   ]
  },
  {
   "cell_type": "code",
   "execution_count": 28,
   "id": "769ed3ed-aea9-4ff3-861d-8903638cd770",
   "metadata": {
    "tags": []
   },
   "outputs": [
    {
     "name": "stdout",
     "output_type": "stream",
     "text": [
      "1\n",
      "0\n",
      "1\n",
      "1\n",
      "1\n",
      "2\n",
      "2\n",
      "0\n",
      "2\n",
      "1\n",
      "2\n",
      "2\n",
      "3\n",
      "0\n"
     ]
    },
    {
     "data": {
      "application/vnd.plotly.v1+json": {
       "config": {
        "plotlyServerURL": "https://plot.ly"
       },
       "data": [
        {
         "hovertemplate": "metric=spearman's corr<br>epoch=%{x}<br>score=%{y}<extra></extra>",
         "legendgroup": "spearman's corr",
         "line": {
          "color": "#636efa",
          "dash": "solid"
         },
         "marker": {
          "symbol": "circle"
         },
         "mode": "lines",
         "name": "spearman's corr",
         "orientation": "v",
         "showlegend": true,
         "type": "scatter",
         "x": [
          "1",
          "2",
          "3",
          "4",
          "5",
          "6",
          "7",
          "8",
          "9",
          "10"
         ],
         "xaxis": "x",
         "y": [
          0.7439024390243902,
          0.7741088180112572,
          0.8093808630393998,
          0.7898686679174485,
          0.7846153846153847,
          0.7911819887429644,
          0.8007504690431521,
          0.8161350844277674,
          0.8474671669793623,
          0.8883677298311445
         ],
         "yaxis": "y"
        },
        {
         "hovertemplate": "metric=clf_correlation<br>epoch=%{x}<br>score=%{y}<extra></extra>",
         "legendgroup": "clf_correlation",
         "line": {
          "color": "#EF553B",
          "dash": "solid"
         },
         "marker": {
          "symbol": "circle"
         },
         "mode": "lines",
         "name": "clf_correlation",
         "orientation": "v",
         "showlegend": true,
         "type": "scatter",
         "x": [
          "1",
          "2",
          "3",
          "4",
          "5",
          "6",
          "7",
          "8",
          "9",
          "10"
         ],
         "xaxis": "x",
         "y": [
          0.15834896810506568,
          0.15834896810506568,
          0.15834896810506568,
          0.15834896810506568,
          0.15834896810506568,
          0.15834896810506568,
          0.15834896810506568,
          0.15834896810506568,
          0.15834896810506568,
          0.15834896810506568
         ],
         "yaxis": "y"
        },
        {
         "hovertemplate": "metric=spearman's corr<br>epoch=%{x}<br>score=%{y}<extra></extra>",
         "legendgroup": "spearman's corr",
         "line": {
          "color": "#636efa",
          "dash": "solid"
         },
         "marker": {
          "symbol": "circle"
         },
         "mode": "lines",
         "name": "spearman's corr",
         "orientation": "v",
         "showlegend": true,
         "type": "scatter",
         "x": [
          "1",
          "2",
          "3",
          "4",
          "5",
          "6",
          "7",
          "8",
          "9",
          "10"
         ],
         "xaxis": "x4",
         "y": [
          0.3729831144465291,
          0.32795497185741096,
          0.5080675422138837,
          0.6480300187617262,
          0.6863039399624766,
          0.7101313320825517,
          0.7424015009380863,
          0.7917448405253285,
          0.8696060037523453,
          0.8403377110694185
         ],
         "yaxis": "y4"
        },
        {
         "hovertemplate": "metric=clf_correlation<br>epoch=%{x}<br>score=%{y}<extra></extra>",
         "legendgroup": "clf_correlation",
         "line": {
          "color": "#EF553B",
          "dash": "solid"
         },
         "marker": {
          "symbol": "circle"
         },
         "mode": "lines",
         "name": "clf_correlation",
         "orientation": "v",
         "showlegend": true,
         "type": "scatter",
         "x": [
          "1",
          "2",
          "3",
          "4",
          "5",
          "6",
          "7",
          "8",
          "9",
          "10"
         ],
         "xaxis": "x4",
         "y": [
          0.8874296435272047,
          0.8874296435272047,
          0.8874296435272047,
          0.8874296435272047,
          0.8874296435272047,
          0.8874296435272047,
          0.8874296435272047,
          0.8874296435272047,
          0.8874296435272047,
          0.8874296435272047
         ],
         "yaxis": "y4"
        },
        {
         "hovertemplate": "metric=spearman's corr<br>epoch=%{x}<br>score=%{y}<extra></extra>",
         "legendgroup": "spearman's corr",
         "line": {
          "color": "#636efa",
          "dash": "solid"
         },
         "marker": {
          "symbol": "circle"
         },
         "mode": "lines",
         "name": "spearman's corr",
         "orientation": "v",
         "showlegend": true,
         "type": "scatter",
         "x": [
          "1",
          "2",
          "3",
          "4",
          "5",
          "6",
          "7",
          "8",
          "9",
          "10"
         ],
         "xaxis": "x7",
         "y": [
          0.2742296918767507,
          0.4372549019607843,
          0.43529411764705883,
          0.40896358543417366,
          0.6050420168067228,
          0.48879551820728295,
          0.5086834733893558,
          0.2470588235294118,
          0.49859943977591037,
          0.3554621848739496
         ],
         "yaxis": "y7"
        },
        {
         "hovertemplate": "metric=clf_correlation<br>epoch=%{x}<br>score=%{y}<extra></extra>",
         "legendgroup": "clf_correlation",
         "line": {
          "color": "#EF553B",
          "dash": "solid"
         },
         "marker": {
          "symbol": "circle"
         },
         "mode": "lines",
         "name": "clf_correlation",
         "orientation": "v",
         "showlegend": true,
         "type": "scatter",
         "x": [
          "1",
          "2",
          "3",
          "4",
          "5",
          "6",
          "7",
          "8",
          "9",
          "10"
         ],
         "xaxis": "x7",
         "y": [
          0.7504201680672269,
          0.7504201680672269,
          0.7504201680672269,
          0.7504201680672269,
          0.7504201680672269,
          0.7504201680672269,
          0.7504201680672269,
          0.7504201680672269,
          0.7504201680672269,
          0.7504201680672269
         ],
         "yaxis": "y7"
        },
        {
         "hovertemplate": "metric=spearman's corr<br>epoch=%{x}<br>score=%{y}<extra></extra>",
         "legendgroup": "spearman's corr",
         "line": {
          "color": "#636efa",
          "dash": "solid"
         },
         "marker": {
          "symbol": "circle"
         },
         "mode": "lines",
         "name": "spearman's corr",
         "orientation": "v",
         "showlegend": true,
         "type": "scatter",
         "x": [
          "1",
          "2",
          "3",
          "4",
          "5",
          "6",
          "7",
          "8",
          "9",
          "10"
         ],
         "xaxis": "x2",
         "y": [
          0.17335834896810506,
          0.39437148217636026,
          0.37335834896810505,
          0.4641651031894935,
          0.602063789868668,
          0.5560975609756098,
          0.5834896810506567,
          0.7166979362101313,
          0.6660412757973734,
          0.8176360225140713
         ],
         "yaxis": "y2"
        },
        {
         "hovertemplate": "metric=clf_correlation<br>epoch=%{x}<br>score=%{y}<extra></extra>",
         "legendgroup": "clf_correlation",
         "line": {
          "color": "#EF553B",
          "dash": "solid"
         },
         "marker": {
          "symbol": "circle"
         },
         "mode": "lines",
         "name": "clf_correlation",
         "orientation": "v",
         "showlegend": true,
         "type": "scatter",
         "x": [
          "1",
          "2",
          "3",
          "4",
          "5",
          "6",
          "7",
          "8",
          "9",
          "10"
         ],
         "xaxis": "x2",
         "y": [
          0.9382739212007506,
          0.9382739212007506,
          0.9382739212007506,
          0.9382739212007506,
          0.9382739212007506,
          0.9382739212007506,
          0.9382739212007506,
          0.9382739212007506,
          0.9382739212007506,
          0.9382739212007506
         ],
         "yaxis": "y2"
        },
        {
         "hovertemplate": "metric=spearman's corr<br>epoch=%{x}<br>score=%{y}<extra></extra>",
         "legendgroup": "spearman's corr",
         "line": {
          "color": "#636efa",
          "dash": "solid"
         },
         "marker": {
          "symbol": "circle"
         },
         "mode": "lines",
         "name": "spearman's corr",
         "orientation": "v",
         "showlegend": true,
         "type": "scatter",
         "x": [
          "1",
          "2",
          "3",
          "4",
          "5",
          "6",
          "7",
          "8",
          "9",
          "10"
         ],
         "xaxis": "x5",
         "y": [
          0.4277673545966229,
          0.5150093808630395,
          0.5138836772983115,
          0.43133208255159483,
          0.45046904315197006,
          0.47204502814258914,
          0.4589118198874297,
          0.4118198874296436,
          0.6536585365853659,
          0.6857410881801127
         ],
         "yaxis": "y5"
        },
        {
         "hovertemplate": "metric=clf_correlation<br>epoch=%{x}<br>score=%{y}<extra></extra>",
         "legendgroup": "clf_correlation",
         "line": {
          "color": "#EF553B",
          "dash": "solid"
         },
         "marker": {
          "symbol": "circle"
         },
         "mode": "lines",
         "name": "clf_correlation",
         "orientation": "v",
         "showlegend": true,
         "type": "scatter",
         "x": [
          "1",
          "2",
          "3",
          "4",
          "5",
          "6",
          "7",
          "8",
          "9",
          "10"
         ],
         "xaxis": "x5",
         "y": [
          0.8969981238273923,
          0.8969981238273923,
          0.8969981238273923,
          0.8969981238273923,
          0.8969981238273923,
          0.8969981238273923,
          0.8969981238273923,
          0.8969981238273923,
          0.8969981238273923,
          0.8969981238273923
         ],
         "yaxis": "y5"
        },
        {
         "hovertemplate": "metric=spearman's corr<br>epoch=%{x}<br>score=%{y}<extra></extra>",
         "legendgroup": "spearman's corr",
         "line": {
          "color": "#636efa",
          "dash": "solid"
         },
         "marker": {
          "symbol": "circle"
         },
         "mode": "lines",
         "name": "spearman's corr",
         "orientation": "v",
         "showlegend": true,
         "type": "scatter",
         "x": [
          "1",
          "2",
          "3",
          "4",
          "5",
          "6",
          "7",
          "8",
          "9",
          "10"
         ],
         "xaxis": "x8",
         "y": [
          0.5724202626641651,
          0.601688555347092,
          0.39268292682926836,
          0.5024390243902439,
          0.8084427767354598,
          0.49118198874296437,
          0.5636022514071295,
          0.6876172607879926,
          0.6180112570356473,
          0.7592870544090057
         ],
         "yaxis": "y8"
        },
        {
         "hovertemplate": "metric=clf_correlation<br>epoch=%{x}<br>score=%{y}<extra></extra>",
         "legendgroup": "clf_correlation",
         "line": {
          "color": "#EF553B",
          "dash": "solid"
         },
         "marker": {
          "symbol": "circle"
         },
         "mode": "lines",
         "name": "clf_correlation",
         "orientation": "v",
         "showlegend": true,
         "type": "scatter",
         "x": [
          "1",
          "2",
          "3",
          "4",
          "5",
          "6",
          "7",
          "8",
          "9",
          "10"
         ],
         "xaxis": "x8",
         "y": [
          0.932082551594747,
          0.932082551594747,
          0.932082551594747,
          0.932082551594747,
          0.932082551594747,
          0.932082551594747,
          0.932082551594747,
          0.932082551594747,
          0.932082551594747,
          0.932082551594747
         ],
         "yaxis": "y8"
        },
        {
         "hovertemplate": "metric=spearman's corr<br>epoch=%{x}<br>score=%{y}<extra></extra>",
         "legendgroup": "spearman's corr",
         "line": {
          "color": "#636efa",
          "dash": "solid"
         },
         "marker": {
          "symbol": "circle"
         },
         "mode": "lines",
         "name": "spearman's corr",
         "orientation": "v",
         "showlegend": true,
         "type": "scatter",
         "x": [
          "1",
          "2",
          "3",
          "4",
          "5",
          "6",
          "7",
          "8",
          "9",
          "10"
         ],
         "xaxis": "x3",
         "y": [
          0.48440748440748443,
          0.2670970565707408,
          0.5629718787613525,
          0.6441623810044863,
          0.5117627749206697,
          0.6627639785534523,
          0.5353977459240618,
          0.6699857752489331,
          0.7805011489222016,
          0.8032607506291717
         ],
         "yaxis": "y3"
        },
        {
         "hovertemplate": "metric=clf_correlation<br>epoch=%{x}<br>score=%{y}<extra></extra>",
         "legendgroup": "clf_correlation",
         "line": {
          "color": "#EF553B",
          "dash": "solid"
         },
         "marker": {
          "symbol": "circle"
         },
         "mode": "lines",
         "name": "clf_correlation",
         "orientation": "v",
         "showlegend": true,
         "type": "scatter",
         "x": [
          "1",
          "2",
          "3",
          "4",
          "5",
          "6",
          "7",
          "8",
          "9",
          "10"
         ],
         "xaxis": "x3",
         "y": [
          0.5640660903818798,
          0.5640660903818798,
          0.5640660903818798,
          0.5640660903818798,
          0.5640660903818798,
          0.5640660903818798,
          0.5640660903818798,
          0.5640660903818798,
          0.5640660903818798,
          0.5640660903818798
         ],
         "yaxis": "y3"
        }
       ],
       "layout": {
        "annotations": [
         {
          "font": {
           "size": 16
          },
          "showarrow": false,
          "text": "Chester",
          "x": 0.14444444444444446,
          "xanchor": "center",
          "xref": "paper",
          "y": 1,
          "yanchor": "bottom",
          "yref": "paper"
         },
         {
          "font": {
           "size": 16
          },
          "showarrow": false,
          "text": "Adaline",
          "x": 0.5,
          "xanchor": "center",
          "xref": "paper",
          "y": 1,
          "yanchor": "bottom",
          "yref": "paper"
         },
         {
          "font": {
           "size": 16
          },
          "showarrow": false,
          "text": "Sadie",
          "x": 0.8555555555555556,
          "xanchor": "center",
          "xref": "paper",
          "y": 1,
          "yanchor": "bottom",
          "yref": "paper"
         },
         {
          "font": {
           "size": 16
          },
          "showarrow": false,
          "text": "Mateo",
          "x": 0.14444444444444446,
          "xanchor": "center",
          "xref": "paper",
          "y": 0.6111111111111112,
          "yanchor": "bottom",
          "yref": "paper"
         },
         {
          "font": {
           "size": 16
          },
          "showarrow": false,
          "text": "LaMelo",
          "x": 0.5,
          "xanchor": "center",
          "xref": "paper",
          "y": 0.6111111111111112,
          "yanchor": "bottom",
          "yref": "paper"
         },
         {
          "font": {
           "size": 16
          },
          "showarrow": false,
          "text": "Gutenberg",
          "x": 0.8555555555555556,
          "xanchor": "center",
          "xref": "paper",
          "y": 0.6111111111111112,
          "yanchor": "bottom",
          "yref": "paper"
         },
         {
          "font": {
           "size": 16
          },
          "showarrow": false,
          "text": "Caitie",
          "x": 0.14444444444444446,
          "xanchor": "center",
          "xref": "paper",
          "y": 0.22222222222222224,
          "yanchor": "bottom",
          "yref": "paper"
         }
        ],
        "autosize": true,
        "template": {
         "data": {
          "bar": [
           {
            "error_x": {
             "color": "#2a3f5f"
            },
            "error_y": {
             "color": "#2a3f5f"
            },
            "marker": {
             "line": {
              "color": "#E5ECF6",
              "width": 0.5
             },
             "pattern": {
              "fillmode": "overlay",
              "size": 10,
              "solidity": 0.2
             }
            },
            "type": "bar"
           }
          ],
          "barpolar": [
           {
            "marker": {
             "line": {
              "color": "#E5ECF6",
              "width": 0.5
             },
             "pattern": {
              "fillmode": "overlay",
              "size": 10,
              "solidity": 0.2
             }
            },
            "type": "barpolar"
           }
          ],
          "carpet": [
           {
            "aaxis": {
             "endlinecolor": "#2a3f5f",
             "gridcolor": "white",
             "linecolor": "white",
             "minorgridcolor": "white",
             "startlinecolor": "#2a3f5f"
            },
            "baxis": {
             "endlinecolor": "#2a3f5f",
             "gridcolor": "white",
             "linecolor": "white",
             "minorgridcolor": "white",
             "startlinecolor": "#2a3f5f"
            },
            "type": "carpet"
           }
          ],
          "choropleth": [
           {
            "colorbar": {
             "outlinewidth": 0,
             "ticks": ""
            },
            "type": "choropleth"
           }
          ],
          "contour": [
           {
            "colorbar": {
             "outlinewidth": 0,
             "ticks": ""
            },
            "colorscale": [
             [
              0,
              "#0d0887"
             ],
             [
              0.1111111111111111,
              "#46039f"
             ],
             [
              0.2222222222222222,
              "#7201a8"
             ],
             [
              0.3333333333333333,
              "#9c179e"
             ],
             [
              0.4444444444444444,
              "#bd3786"
             ],
             [
              0.5555555555555556,
              "#d8576b"
             ],
             [
              0.6666666666666666,
              "#ed7953"
             ],
             [
              0.7777777777777778,
              "#fb9f3a"
             ],
             [
              0.8888888888888888,
              "#fdca26"
             ],
             [
              1,
              "#f0f921"
             ]
            ],
            "type": "contour"
           }
          ],
          "contourcarpet": [
           {
            "colorbar": {
             "outlinewidth": 0,
             "ticks": ""
            },
            "type": "contourcarpet"
           }
          ],
          "heatmap": [
           {
            "colorbar": {
             "outlinewidth": 0,
             "ticks": ""
            },
            "colorscale": [
             [
              0,
              "#0d0887"
             ],
             [
              0.1111111111111111,
              "#46039f"
             ],
             [
              0.2222222222222222,
              "#7201a8"
             ],
             [
              0.3333333333333333,
              "#9c179e"
             ],
             [
              0.4444444444444444,
              "#bd3786"
             ],
             [
              0.5555555555555556,
              "#d8576b"
             ],
             [
              0.6666666666666666,
              "#ed7953"
             ],
             [
              0.7777777777777778,
              "#fb9f3a"
             ],
             [
              0.8888888888888888,
              "#fdca26"
             ],
             [
              1,
              "#f0f921"
             ]
            ],
            "type": "heatmap"
           }
          ],
          "heatmapgl": [
           {
            "colorbar": {
             "outlinewidth": 0,
             "ticks": ""
            },
            "colorscale": [
             [
              0,
              "#0d0887"
             ],
             [
              0.1111111111111111,
              "#46039f"
             ],
             [
              0.2222222222222222,
              "#7201a8"
             ],
             [
              0.3333333333333333,
              "#9c179e"
             ],
             [
              0.4444444444444444,
              "#bd3786"
             ],
             [
              0.5555555555555556,
              "#d8576b"
             ],
             [
              0.6666666666666666,
              "#ed7953"
             ],
             [
              0.7777777777777778,
              "#fb9f3a"
             ],
             [
              0.8888888888888888,
              "#fdca26"
             ],
             [
              1,
              "#f0f921"
             ]
            ],
            "type": "heatmapgl"
           }
          ],
          "histogram": [
           {
            "marker": {
             "pattern": {
              "fillmode": "overlay",
              "size": 10,
              "solidity": 0.2
             }
            },
            "type": "histogram"
           }
          ],
          "histogram2d": [
           {
            "colorbar": {
             "outlinewidth": 0,
             "ticks": ""
            },
            "colorscale": [
             [
              0,
              "#0d0887"
             ],
             [
              0.1111111111111111,
              "#46039f"
             ],
             [
              0.2222222222222222,
              "#7201a8"
             ],
             [
              0.3333333333333333,
              "#9c179e"
             ],
             [
              0.4444444444444444,
              "#bd3786"
             ],
             [
              0.5555555555555556,
              "#d8576b"
             ],
             [
              0.6666666666666666,
              "#ed7953"
             ],
             [
              0.7777777777777778,
              "#fb9f3a"
             ],
             [
              0.8888888888888888,
              "#fdca26"
             ],
             [
              1,
              "#f0f921"
             ]
            ],
            "type": "histogram2d"
           }
          ],
          "histogram2dcontour": [
           {
            "colorbar": {
             "outlinewidth": 0,
             "ticks": ""
            },
            "colorscale": [
             [
              0,
              "#0d0887"
             ],
             [
              0.1111111111111111,
              "#46039f"
             ],
             [
              0.2222222222222222,
              "#7201a8"
             ],
             [
              0.3333333333333333,
              "#9c179e"
             ],
             [
              0.4444444444444444,
              "#bd3786"
             ],
             [
              0.5555555555555556,
              "#d8576b"
             ],
             [
              0.6666666666666666,
              "#ed7953"
             ],
             [
              0.7777777777777778,
              "#fb9f3a"
             ],
             [
              0.8888888888888888,
              "#fdca26"
             ],
             [
              1,
              "#f0f921"
             ]
            ],
            "type": "histogram2dcontour"
           }
          ],
          "mesh3d": [
           {
            "colorbar": {
             "outlinewidth": 0,
             "ticks": ""
            },
            "type": "mesh3d"
           }
          ],
          "parcoords": [
           {
            "line": {
             "colorbar": {
              "outlinewidth": 0,
              "ticks": ""
             }
            },
            "type": "parcoords"
           }
          ],
          "pie": [
           {
            "automargin": true,
            "type": "pie"
           }
          ],
          "scatter": [
           {
            "fillpattern": {
             "fillmode": "overlay",
             "size": 10,
             "solidity": 0.2
            },
            "type": "scatter"
           }
          ],
          "scatter3d": [
           {
            "line": {
             "colorbar": {
              "outlinewidth": 0,
              "ticks": ""
             }
            },
            "marker": {
             "colorbar": {
              "outlinewidth": 0,
              "ticks": ""
             }
            },
            "type": "scatter3d"
           }
          ],
          "scattercarpet": [
           {
            "marker": {
             "colorbar": {
              "outlinewidth": 0,
              "ticks": ""
             }
            },
            "type": "scattercarpet"
           }
          ],
          "scattergeo": [
           {
            "marker": {
             "colorbar": {
              "outlinewidth": 0,
              "ticks": ""
             }
            },
            "type": "scattergeo"
           }
          ],
          "scattergl": [
           {
            "marker": {
             "colorbar": {
              "outlinewidth": 0,
              "ticks": ""
             }
            },
            "type": "scattergl"
           }
          ],
          "scattermapbox": [
           {
            "marker": {
             "colorbar": {
              "outlinewidth": 0,
              "ticks": ""
             }
            },
            "type": "scattermapbox"
           }
          ],
          "scatterpolar": [
           {
            "marker": {
             "colorbar": {
              "outlinewidth": 0,
              "ticks": ""
             }
            },
            "type": "scatterpolar"
           }
          ],
          "scatterpolargl": [
           {
            "marker": {
             "colorbar": {
              "outlinewidth": 0,
              "ticks": ""
             }
            },
            "type": "scatterpolargl"
           }
          ],
          "scatterternary": [
           {
            "marker": {
             "colorbar": {
              "outlinewidth": 0,
              "ticks": ""
             }
            },
            "type": "scatterternary"
           }
          ],
          "surface": [
           {
            "colorbar": {
             "outlinewidth": 0,
             "ticks": ""
            },
            "colorscale": [
             [
              0,
              "#0d0887"
             ],
             [
              0.1111111111111111,
              "#46039f"
             ],
             [
              0.2222222222222222,
              "#7201a8"
             ],
             [
              0.3333333333333333,
              "#9c179e"
             ],
             [
              0.4444444444444444,
              "#bd3786"
             ],
             [
              0.5555555555555556,
              "#d8576b"
             ],
             [
              0.6666666666666666,
              "#ed7953"
             ],
             [
              0.7777777777777778,
              "#fb9f3a"
             ],
             [
              0.8888888888888888,
              "#fdca26"
             ],
             [
              1,
              "#f0f921"
             ]
            ],
            "type": "surface"
           }
          ],
          "table": [
           {
            "cells": {
             "fill": {
              "color": "#EBF0F8"
             },
             "line": {
              "color": "white"
             }
            },
            "header": {
             "fill": {
              "color": "#C8D4E3"
             },
             "line": {
              "color": "white"
             }
            },
            "type": "table"
           }
          ]
         },
         "layout": {
          "annotationdefaults": {
           "arrowcolor": "#2a3f5f",
           "arrowhead": 0,
           "arrowwidth": 1
          },
          "autotypenumbers": "strict",
          "coloraxis": {
           "colorbar": {
            "outlinewidth": 0,
            "ticks": ""
           }
          },
          "colorscale": {
           "diverging": [
            [
             0,
             "#8e0152"
            ],
            [
             0.1,
             "#c51b7d"
            ],
            [
             0.2,
             "#de77ae"
            ],
            [
             0.3,
             "#f1b6da"
            ],
            [
             0.4,
             "#fde0ef"
            ],
            [
             0.5,
             "#f7f7f7"
            ],
            [
             0.6,
             "#e6f5d0"
            ],
            [
             0.7,
             "#b8e186"
            ],
            [
             0.8,
             "#7fbc41"
            ],
            [
             0.9,
             "#4d9221"
            ],
            [
             1,
             "#276419"
            ]
           ],
           "sequential": [
            [
             0,
             "#0d0887"
            ],
            [
             0.1111111111111111,
             "#46039f"
            ],
            [
             0.2222222222222222,
             "#7201a8"
            ],
            [
             0.3333333333333333,
             "#9c179e"
            ],
            [
             0.4444444444444444,
             "#bd3786"
            ],
            [
             0.5555555555555556,
             "#d8576b"
            ],
            [
             0.6666666666666666,
             "#ed7953"
            ],
            [
             0.7777777777777778,
             "#fb9f3a"
            ],
            [
             0.8888888888888888,
             "#fdca26"
            ],
            [
             1,
             "#f0f921"
            ]
           ],
           "sequentialminus": [
            [
             0,
             "#0d0887"
            ],
            [
             0.1111111111111111,
             "#46039f"
            ],
            [
             0.2222222222222222,
             "#7201a8"
            ],
            [
             0.3333333333333333,
             "#9c179e"
            ],
            [
             0.4444444444444444,
             "#bd3786"
            ],
            [
             0.5555555555555556,
             "#d8576b"
            ],
            [
             0.6666666666666666,
             "#ed7953"
            ],
            [
             0.7777777777777778,
             "#fb9f3a"
            ],
            [
             0.8888888888888888,
             "#fdca26"
            ],
            [
             1,
             "#f0f921"
            ]
           ]
          },
          "colorway": [
           "#636efa",
           "#EF553B",
           "#00cc96",
           "#ab63fa",
           "#FFA15A",
           "#19d3f3",
           "#FF6692",
           "#B6E880",
           "#FF97FF",
           "#FECB52"
          ],
          "font": {
           "color": "#2a3f5f"
          },
          "geo": {
           "bgcolor": "white",
           "lakecolor": "white",
           "landcolor": "#E5ECF6",
           "showlakes": true,
           "showland": true,
           "subunitcolor": "white"
          },
          "hoverlabel": {
           "align": "left"
          },
          "hovermode": "closest",
          "mapbox": {
           "style": "light"
          },
          "paper_bgcolor": "white",
          "plot_bgcolor": "#E5ECF6",
          "polar": {
           "angularaxis": {
            "gridcolor": "white",
            "linecolor": "white",
            "ticks": ""
           },
           "bgcolor": "#E5ECF6",
           "radialaxis": {
            "gridcolor": "white",
            "linecolor": "white",
            "ticks": ""
           }
          },
          "scene": {
           "xaxis": {
            "backgroundcolor": "#E5ECF6",
            "gridcolor": "white",
            "gridwidth": 2,
            "linecolor": "white",
            "showbackground": true,
            "ticks": "",
            "zerolinecolor": "white"
           },
           "yaxis": {
            "backgroundcolor": "#E5ECF6",
            "gridcolor": "white",
            "gridwidth": 2,
            "linecolor": "white",
            "showbackground": true,
            "ticks": "",
            "zerolinecolor": "white"
           },
           "zaxis": {
            "backgroundcolor": "#E5ECF6",
            "gridcolor": "white",
            "gridwidth": 2,
            "linecolor": "white",
            "showbackground": true,
            "ticks": "",
            "zerolinecolor": "white"
           }
          },
          "shapedefaults": {
           "line": {
            "color": "#2a3f5f"
           }
          },
          "ternary": {
           "aaxis": {
            "gridcolor": "white",
            "linecolor": "white",
            "ticks": ""
           },
           "baxis": {
            "gridcolor": "white",
            "linecolor": "white",
            "ticks": ""
           },
           "bgcolor": "#E5ECF6",
           "caxis": {
            "gridcolor": "white",
            "linecolor": "white",
            "ticks": ""
           }
          },
          "title": {
           "x": 0.05
          },
          "xaxis": {
           "automargin": true,
           "gridcolor": "white",
           "linecolor": "white",
           "ticks": "",
           "title": {
            "standoff": 15
           },
           "zerolinecolor": "white",
           "zerolinewidth": 2
          },
          "yaxis": {
           "automargin": true,
           "gridcolor": "white",
           "linecolor": "white",
           "ticks": "",
           "title": {
            "standoff": 15
           },
           "zerolinecolor": "white",
           "zerolinewidth": 2
          }
         }
        },
        "title": {
         "text": "Combined Plot of Figures"
        },
        "xaxis": {
         "anchor": "y",
         "autorange": true,
         "domain": [
          0,
          0.2888888888888889
         ],
         "range": [
          0,
          9
         ],
         "type": "category"
        },
        "xaxis2": {
         "anchor": "y2",
         "autorange": true,
         "domain": [
          0.35555555555555557,
          0.6444444444444445
         ],
         "range": [
          0,
          9
         ],
         "type": "category"
        },
        "xaxis3": {
         "anchor": "y3",
         "autorange": true,
         "domain": [
          0.7111111111111111,
          1
         ],
         "range": [
          0,
          9
         ],
         "type": "category"
        },
        "xaxis4": {
         "anchor": "y4",
         "autorange": true,
         "domain": [
          0,
          0.2888888888888889
         ],
         "range": [
          0,
          9
         ],
         "type": "category"
        },
        "xaxis5": {
         "anchor": "y5",
         "autorange": true,
         "domain": [
          0.35555555555555557,
          0.6444444444444445
         ],
         "range": [
          0,
          9
         ],
         "type": "category"
        },
        "xaxis6": {
         "anchor": "y6",
         "domain": [
          0.7111111111111111,
          1
         ]
        },
        "xaxis7": {
         "anchor": "y7",
         "autorange": true,
         "domain": [
          0,
          0.2888888888888889
         ],
         "range": [
          0,
          9
         ],
         "type": "category"
        },
        "xaxis8": {
         "anchor": "y8",
         "autorange": true,
         "domain": [
          0.35555555555555557,
          0.6444444444444445
         ],
         "range": [
          0,
          9
         ],
         "type": "category"
        },
        "xaxis9": {
         "anchor": "y9",
         "domain": [
          0.7111111111111111,
          1
         ]
        },
        "yaxis": {
         "anchor": "x",
         "autorange": true,
         "domain": [
          0.7777777777777778,
          1
         ],
         "range": [
          0.11779237023139463,
          0.9289243277048156
         ],
         "type": "linear"
        },
        "yaxis2": {
         "anchor": "x2",
         "autorange": true,
         "domain": [
          0.7777777777777778,
          1
         ],
         "range": [
          0.13086303939962476,
          0.980769230769231
         ],
         "type": "linear"
        },
        "yaxis3": {
         "anchor": "x3",
         "autorange": true,
         "domain": [
          0.7777777777777778,
          1
         ],
         "range": [
          0.23731018467860573,
          0.8330476225213067
         ],
         "type": "linear"
        },
        "yaxis4": {
         "anchor": "x4",
         "autorange": true,
         "domain": [
          0.3888888888888889,
          0.6111111111111112
         ],
         "range": [
          0.2968730456535335,
          0.9185115697310821
         ],
         "type": "linear"
        },
        "yaxis5": {
         "anchor": "x5",
         "autorange": true,
         "domain": [
          0.3888888888888889,
          0.6111111111111112
         ],
         "range": [
          0.384865540963102,
          0.9239524702939339
         ],
         "type": "linear"
        },
        "yaxis6": {
         "anchor": "x6",
         "domain": [
          0.3888888888888889,
          0.6111111111111112
         ]
        },
        "yaxis7": {
         "anchor": "x7",
         "autorange": true,
         "domain": [
          0,
          0.22222222222222224
         ],
         "range": [
          0.2190943043884221,
          0.7783846872082166
         ],
         "type": "linear"
        },
        "yaxis8": {
         "anchor": "x8",
         "autorange": true,
         "domain": [
          0,
          0.22222222222222224
         ],
         "range": [
          0.36271628100896397,
          0.9620491974150513
         ],
         "type": "linear"
        },
        "yaxis9": {
         "anchor": "x9",
         "domain": [
          0,
          0.22222222222222224
         ]
        }
       }
      },
      "image/png": "[encoded data removed]",
      "text/html": [
       "<div>                            <div id=\"c5f351b8-1563-4a50-ba95-4c77f14841be\" class=\"plotly-graph-div\" style=\"height:525px; width:100%;\"></div>            <script type=\"text/javascript\">                require([\"plotly\"], function(Plotly) {                    window.PLOTLYENV=window.PLOTLYENV || {};                                    if (document.getElementById(\"c5f351b8-1563-4a50-ba95-4c77f14841be\")) {                    Plotly.newPlot(                        \"c5f351b8-1563-4a50-ba95-4c77f14841be\",                        [{\"hovertemplate\":\"metric=spearman's corr\\u003cbr\\u003eepoch=%{x}\\u003cbr\\u003escore=%{y}\\u003cextra\\u003e\\u003c\\u002fextra\\u003e\",\"legendgroup\":\"spearman's corr\",\"line\":{\"color\":\"#636efa\",\"dash\":\"solid\"},\"marker\":{\"symbol\":\"circle\"},\"mode\":\"lines\",\"name\":\"spearman's corr\",\"orientation\":\"v\",\"showlegend\":true,\"x\":[\"1\",\"2\",\"3\",\"4\",\"5\",\"6\",\"7\",\"8\",\"9\",\"10\"],\"xaxis\":\"x\",\"y\":[0.7439024390243902,0.7741088180112572,0.8093808630393998,0.7898686679174485,0.7846153846153847,0.7911819887429644,0.8007504690431521,0.8161350844277674,0.8474671669793623,0.8883677298311445],\"yaxis\":\"y\",\"type\":\"scatter\"},{\"hovertemplate\":\"metric=clf_correlation\\u003cbr\\u003eepoch=%{x}\\u003cbr\\u003escore=%{y}\\u003cextra\\u003e\\u003c\\u002fextra\\u003e\",\"legendgroup\":\"clf_correlation\",\"line\":{\"color\":\"#EF553B\",\"dash\":\"solid\"},\"marker\":{\"symbol\":\"circle\"},\"mode\":\"lines\",\"name\":\"clf_correlation\",\"orientation\":\"v\",\"showlegend\":true,\"x\":[\"1\",\"2\",\"3\",\"4\",\"5\",\"6\",\"7\",\"8\",\"9\",\"10\"],\"xaxis\":\"x\",\"y\":[0.15834896810506568,0.15834896810506568,0.15834896810506568,0.15834896810506568,0.15834896810506568,0.15834896810506568,0.15834896810506568,0.15834896810506568,0.15834896810506568,0.15834896810506568],\"yaxis\":\"y\",\"type\":\"scatter\"},{\"hovertemplate\":\"metric=spearman's corr\\u003cbr\\u003eepoch=%{x}\\u003cbr\\u003escore=%{y}\\u003cextra\\u003e\\u003c\\u002fextra\\u003e\",\"legendgroup\":\"spearman's corr\",\"line\":{\"color\":\"#636efa\",\"dash\":\"solid\"},\"marker\":{\"symbol\":\"circle\"},\"mode\":\"lines\",\"name\":\"spearman's corr\",\"orientation\":\"v\",\"showlegend\":true,\"x\":[\"1\",\"2\",\"3\",\"4\",\"5\",\"6\",\"7\",\"8\",\"9\",\"10\"],\"xaxis\":\"x4\",\"y\":[0.3729831144465291,0.32795497185741096,0.5080675422138837,0.6480300187617262,0.6863039399624766,0.7101313320825517,0.7424015009380863,0.7917448405253285,0.8696060037523453,0.8403377110694185],\"yaxis\":\"y4\",\"type\":\"scatter\"},{\"hovertemplate\":\"metric=clf_correlation\\u003cbr\\u003eepoch=%{x}\\u003cbr\\u003escore=%{y}\\u003cextra\\u003e\\u003c\\u002fextra\\u003e\",\"legendgroup\":\"clf_correlation\",\"line\":{\"color\":\"#EF553B\",\"dash\":\"solid\"},\"marker\":{\"symbol\":\"circle\"},\"mode\":\"lines\",\"name\":\"clf_correlation\",\"orientation\":\"v\",\"showlegend\":true,\"x\":[\"1\",\"2\",\"3\",\"4\",\"5\",\"6\",\"7\",\"8\",\"9\",\"10\"],\"xaxis\":\"x4\",\"y\":[0.8874296435272047,0.8874296435272047,0.8874296435272047,0.8874296435272047,0.8874296435272047,0.8874296435272047,0.8874296435272047,0.8874296435272047,0.8874296435272047,0.8874296435272047],\"yaxis\":\"y4\",\"type\":\"scatter\"},{\"hovertemplate\":\"metric=spearman's corr\\u003cbr\\u003eepoch=%{x}\\u003cbr\\u003escore=%{y}\\u003cextra\\u003e\\u003c\\u002fextra\\u003e\",\"legendgroup\":\"spearman's corr\",\"line\":{\"color\":\"#636efa\",\"dash\":\"solid\"},\"marker\":{\"symbol\":\"circle\"},\"mode\":\"lines\",\"name\":\"spearman's corr\",\"orientation\":\"v\",\"showlegend\":true,\"x\":[\"1\",\"2\",\"3\",\"4\",\"5\",\"6\",\"7\",\"8\",\"9\",\"10\"],\"xaxis\":\"x7\",\"y\":[0.2742296918767507,0.4372549019607843,0.43529411764705883,0.40896358543417366,0.6050420168067228,0.48879551820728295,0.5086834733893558,0.2470588235294118,0.49859943977591037,0.3554621848739496],\"yaxis\":\"y7\",\"type\":\"scatter\"},{\"hovertemplate\":\"metric=clf_correlation\\u003cbr\\u003eepoch=%{x}\\u003cbr\\u003escore=%{y}\\u003cextra\\u003e\\u003c\\u002fextra\\u003e\",\"legendgroup\":\"clf_correlation\",\"line\":{\"color\":\"#EF553B\",\"dash\":\"solid\"},\"marker\":{\"symbol\":\"circle\"},\"mode\":\"lines\",\"name\":\"clf_correlation\",\"orientation\":\"v\",\"showlegend\":true,\"x\":[\"1\",\"2\",\"3\",\"4\",\"5\",\"6\",\"7\",\"8\",\"9\",\"10\"],\"xaxis\":\"x7\",\"y\":[0.7504201680672269,0.7504201680672269,0.7504201680672269,0.7504201680672269,0.7504201680672269,0.7504201680672269,0.7504201680672269,0.7504201680672269,0.7504201680672269,0.7504201680672269],\"yaxis\":\"y7\",\"type\":\"scatter\"},{\"hovertemplate\":\"metric=spearman's corr\\u003cbr\\u003eepoch=%{x}\\u003cbr\\u003escore=%{y}\\u003cextra\\u003e\\u003c\\u002fextra\\u003e\",\"legendgroup\":\"spearman's corr\",\"line\":{\"color\":\"#636efa\",\"dash\":\"solid\"},\"marker\":{\"symbol\":\"circle\"},\"mode\":\"lines\",\"name\":\"spearman's corr\",\"orientation\":\"v\",\"showlegend\":true,\"x\":[\"1\",\"2\",\"3\",\"4\",\"5\",\"6\",\"7\",\"8\",\"9\",\"10\"],\"xaxis\":\"x2\",\"y\":[0.17335834896810506,0.39437148217636026,0.37335834896810505,0.4641651031894935,0.602063789868668,0.5560975609756098,0.5834896810506567,0.7166979362101313,0.6660412757973734,0.8176360225140713],\"yaxis\":\"y2\",\"type\":\"scatter\"},{\"hovertemplate\":\"metric=clf_correlation\\u003cbr\\u003eepoch=%{x}\\u003cbr\\u003escore=%{y}\\u003cextra\\u003e\\u003c\\u002fextra\\u003e\",\"legendgroup\":\"clf_correlation\",\"line\":{\"color\":\"#EF553B\",\"dash\":\"solid\"},\"marker\":{\"symbol\":\"circle\"},\"mode\":\"lines\",\"name\":\"clf_correlation\",\"orientation\":\"v\",\"showlegend\":true,\"x\":[\"1\",\"2\",\"3\",\"4\",\"5\",\"6\",\"7\",\"8\",\"9\",\"10\"],\"xaxis\":\"x2\",\"y\":[0.9382739212007506,0.9382739212007506,0.9382739212007506,0.9382739212007506,0.9382739212007506,0.9382739212007506,0.9382739212007506,0.9382739212007506,0.9382739212007506,0.9382739212007506],\"yaxis\":\"y2\",\"type\":\"scatter\"},{\"hovertemplate\":\"metric=spearman's corr\\u003cbr\\u003eepoch=%{x}\\u003cbr\\u003escore=%{y}\\u003cextra\\u003e\\u003c\\u002fextra\\u003e\",\"legendgroup\":\"spearman's corr\",\"line\":{\"color\":\"#636efa\",\"dash\":\"solid\"},\"marker\":{\"symbol\":\"circle\"},\"mode\":\"lines\",\"name\":\"spearman's corr\",\"orientation\":\"v\",\"showlegend\":true,\"x\":[\"1\",\"2\",\"3\",\"4\",\"5\",\"6\",\"7\",\"8\",\"9\",\"10\"],\"xaxis\":\"x5\",\"y\":[0.4277673545966229,0.5150093808630395,0.5138836772983115,0.43133208255159483,0.45046904315197006,0.47204502814258914,0.4589118198874297,0.4118198874296436,0.6536585365853659,0.6857410881801127],\"yaxis\":\"y5\",\"type\":\"scatter\"},{\"hovertemplate\":\"metric=clf_correlation\\u003cbr\\u003eepoch=%{x}\\u003cbr\\u003escore=%{y}\\u003cextra\\u003e\\u003c\\u002fextra\\u003e\",\"legendgroup\":\"clf_correlation\",\"line\":{\"color\":\"#EF553B\",\"dash\":\"solid\"},\"marker\":{\"symbol\":\"circle\"},\"mode\":\"lines\",\"name\":\"clf_correlation\",\"orientation\":\"v\",\"showlegend\":true,\"x\":[\"1\",\"2\",\"3\",\"4\",\"5\",\"6\",\"7\",\"8\",\"9\",\"10\"],\"xaxis\":\"x5\",\"y\":[0.8969981238273923,0.8969981238273923,0.8969981238273923,0.8969981238273923,0.8969981238273923,0.8969981238273923,0.8969981238273923,0.8969981238273923,0.8969981238273923,0.8969981238273923],\"yaxis\":\"y5\",\"type\":\"scatter\"},{\"hovertemplate\":\"metric=spearman's corr\\u003cbr\\u003eepoch=%{x}\\u003cbr\\u003escore=%{y}\\u003cextra\\u003e\\u003c\\u002fextra\\u003e\",\"legendgroup\":\"spearman's corr\",\"line\":{\"color\":\"#636efa\",\"dash\":\"solid\"},\"marker\":{\"symbol\":\"circle\"},\"mode\":\"lines\",\"name\":\"spearman's corr\",\"orientation\":\"v\",\"showlegend\":true,\"x\":[\"1\",\"2\",\"3\",\"4\",\"5\",\"6\",\"7\",\"8\",\"9\",\"10\"],\"xaxis\":\"x8\",\"y\":[0.5724202626641651,0.601688555347092,0.39268292682926836,0.5024390243902439,0.8084427767354598,0.49118198874296437,0.5636022514071295,0.6876172607879926,0.6180112570356473,0.7592870544090057],\"yaxis\":\"y8\",\"type\":\"scatter\"},{\"hovertemplate\":\"metric=clf_correlation\\u003cbr\\u003eepoch=%{x}\\u003cbr\\u003escore=%{y}\\u003cextra\\u003e\\u003c\\u002fextra\\u003e\",\"legendgroup\":\"clf_correlation\",\"line\":{\"color\":\"#EF553B\",\"dash\":\"solid\"},\"marker\":{\"symbol\":\"circle\"},\"mode\":\"lines\",\"name\":\"clf_correlation\",\"orientation\":\"v\",\"showlegend\":true,\"x\":[\"1\",\"2\",\"3\",\"4\",\"5\",\"6\",\"7\",\"8\",\"9\",\"10\"],\"xaxis\":\"x8\",\"y\":[0.932082551594747,0.932082551594747,0.932082551594747,0.932082551594747,0.932082551594747,0.932082551594747,0.932082551594747,0.932082551594747,0.932082551594747,0.932082551594747],\"yaxis\":\"y8\",\"type\":\"scatter\"},{\"hovertemplate\":\"metric=spearman's corr\\u003cbr\\u003eepoch=%{x}\\u003cbr\\u003escore=%{y}\\u003cextra\\u003e\\u003c\\u002fextra\\u003e\",\"legendgroup\":\"spearman's corr\",\"line\":{\"color\":\"#636efa\",\"dash\":\"solid\"},\"marker\":{\"symbol\":\"circle\"},\"mode\":\"lines\",\"name\":\"spearman's corr\",\"orientation\":\"v\",\"showlegend\":true,\"x\":[\"1\",\"2\",\"3\",\"4\",\"5\",\"6\",\"7\",\"8\",\"9\",\"10\"],\"xaxis\":\"x3\",\"y\":[0.48440748440748443,0.2670970565707408,0.5629718787613525,0.6441623810044863,0.5117627749206697,0.6627639785534523,0.5353977459240618,0.6699857752489331,0.7805011489222016,0.8032607506291717],\"yaxis\":\"y3\",\"type\":\"scatter\"},{\"hovertemplate\":\"metric=clf_correlation\\u003cbr\\u003eepoch=%{x}\\u003cbr\\u003escore=%{y}\\u003cextra\\u003e\\u003c\\u002fextra\\u003e\",\"legendgroup\":\"clf_correlation\",\"line\":{\"color\":\"#EF553B\",\"dash\":\"solid\"},\"marker\":{\"symbol\":\"circle\"},\"mode\":\"lines\",\"name\":\"clf_correlation\",\"orientation\":\"v\",\"showlegend\":true,\"x\":[\"1\",\"2\",\"3\",\"4\",\"5\",\"6\",\"7\",\"8\",\"9\",\"10\"],\"xaxis\":\"x3\",\"y\":[0.5640660903818798,0.5640660903818798,0.5640660903818798,0.5640660903818798,0.5640660903818798,0.5640660903818798,0.5640660903818798,0.5640660903818798,0.5640660903818798,0.5640660903818798],\"yaxis\":\"y3\",\"type\":\"scatter\"}],                        {\"template\":{\"data\":{\"histogram2dcontour\":[{\"type\":\"histogram2dcontour\",\"colorbar\":{\"outlinewidth\":0,\"ticks\":\"\"},\"colorscale\":[[0.0,\"#0d0887\"],[0.1111111111111111,\"#46039f\"],[0.2222222222222222,\"#7201a8\"],[0.3333333333333333,\"#9c179e\"],[0.4444444444444444,\"#bd3786\"],[0.5555555555555556,\"#d8576b\"],[0.6666666666666666,\"#ed7953\"],[0.7777777777777778,\"#fb9f3a\"],[0.8888888888888888,\"#fdca26\"],[1.0,\"#f0f921\"]]}],\"choropleth\":[{\"type\":\"choropleth\",\"colorbar\":{\"outlinewidth\":0,\"ticks\":\"\"}}],\"histogram2d\":[{\"type\":\"histogram2d\",\"colorbar\":{\"outlinewidth\":0,\"ticks\":\"\"},\"colorscale\":[[0.0,\"#0d0887\"],[0.1111111111111111,\"#46039f\"],[0.2222222222222222,\"#7201a8\"],[0.3333333333333333,\"#9c179e\"],[0.4444444444444444,\"#bd3786\"],[0.5555555555555556,\"#d8576b\"],[0.6666666666666666,\"#ed7953\"],[0.7777777777777778,\"#fb9f3a\"],[0.8888888888888888,\"#fdca26\"],[1.0,\"#f0f921\"]]}],\"heatmap\":[{\"type\":\"heatmap\",\"colorbar\":{\"outlinewidth\":0,\"ticks\":\"\"},\"colorscale\":[[0.0,\"#0d0887\"],[0.1111111111111111,\"#46039f\"],[0.2222222222222222,\"#7201a8\"],[0.3333333333333333,\"#9c179e\"],[0.4444444444444444,\"#bd3786\"],[0.5555555555555556,\"#d8576b\"],[0.6666666666666666,\"#ed7953\"],[0.7777777777777778,\"#fb9f3a\"],[0.8888888888888888,\"#fdca26\"],[1.0,\"#f0f921\"]]}],\"heatmapgl\":[{\"type\":\"heatmapgl\",\"colorbar\":{\"outlinewidth\":0,\"ticks\":\"\"},\"colorscale\":[[0.0,\"#0d0887\"],[0.1111111111111111,\"#46039f\"],[0.2222222222222222,\"#7201a8\"],[0.3333333333333333,\"#9c179e\"],[0.4444444444444444,\"#bd3786\"],[0.5555555555555556,\"#d8576b\"],[0.6666666666666666,\"#ed7953\"],[0.7777777777777778,\"#fb9f3a\"],[0.8888888888888888,\"#fdca26\"],[1.0,\"#f0f921\"]]}],\"contourcarpet\":[{\"type\":\"contourcarpet\",\"colorbar\":{\"outlinewidth\":0,\"ticks\":\"\"}}],\"contour\":[{\"type\":\"contour\",\"colorbar\":{\"outlinewidth\":0,\"ticks\":\"\"},\"colorscale\":[[0.0,\"#0d0887\"],[0.1111111111111111,\"#46039f\"],[0.2222222222222222,\"#7201a8\"],[0.3333333333333333,\"#9c179e\"],[0.4444444444444444,\"#bd3786\"],[0.5555555555555556,\"#d8576b\"],[0.6666666666666666,\"#ed7953\"],[0.7777777777777778,\"#fb9f3a\"],[0.8888888888888888,\"#fdca26\"],[1.0,\"#f0f921\"]]}],\"surface\":[{\"type\":\"surface\",\"colorbar\":{\"outlinewidth\":0,\"ticks\":\"\"},\"colorscale\":[[0.0,\"#0d0887\"],[0.1111111111111111,\"#46039f\"],[0.2222222222222222,\"#7201a8\"],[0.3333333333333333,\"#9c179e\"],[0.4444444444444444,\"#bd3786\"],[0.5555555555555556,\"#d8576b\"],[0.6666666666666666,\"#ed7953\"],[0.7777777777777778,\"#fb9f3a\"],[0.8888888888888888,\"#fdca26\"],[1.0,\"#f0f921\"]]}],\"mesh3d\":[{\"type\":\"mesh3d\",\"colorbar\":{\"outlinewidth\":0,\"ticks\":\"\"}}],\"scatter\":[{\"fillpattern\":{\"fillmode\":\"overlay\",\"size\":10,\"solidity\":0.2},\"type\":\"scatter\"}],\"parcoords\":[{\"type\":\"parcoords\",\"line\":{\"colorbar\":{\"outlinewidth\":0,\"ticks\":\"\"}}}],\"scatterpolargl\":[{\"type\":\"scatterpolargl\",\"marker\":{\"colorbar\":{\"outlinewidth\":0,\"ticks\":\"\"}}}],\"bar\":[{\"error_x\":{\"color\":\"#2a3f5f\"},\"error_y\":{\"color\":\"#2a3f5f\"},\"marker\":{\"line\":{\"color\":\"#E5ECF6\",\"width\":0.5},\"pattern\":{\"fillmode\":\"overlay\",\"size\":10,\"solidity\":0.2}},\"type\":\"bar\"}],\"scattergeo\":[{\"type\":\"scattergeo\",\"marker\":{\"colorbar\":{\"outlinewidth\":0,\"ticks\":\"\"}}}],\"scatterpolar\":[{\"type\":\"scatterpolar\",\"marker\":{\"colorbar\":{\"outlinewidth\":0,\"ticks\":\"\"}}}],\"histogram\":[{\"marker\":{\"pattern\":{\"fillmode\":\"overlay\",\"size\":10,\"solidity\":0.2}},\"type\":\"histogram\"}],\"scattergl\":[{\"type\":\"scattergl\",\"marker\":{\"colorbar\":{\"outlinewidth\":0,\"ticks\":\"\"}}}],\"scatter3d\":[{\"type\":\"scatter3d\",\"line\":{\"colorbar\":{\"outlinewidth\":0,\"ticks\":\"\"}},\"marker\":{\"colorbar\":{\"outlinewidth\":0,\"ticks\":\"\"}}}],\"scattermapbox\":[{\"type\":\"scattermapbox\",\"marker\":{\"colorbar\":{\"outlinewidth\":0,\"ticks\":\"\"}}}],\"scatterternary\":[{\"type\":\"scatterternary\",\"marker\":{\"colorbar\":{\"outlinewidth\":0,\"ticks\":\"\"}}}],\"scattercarpet\":[{\"type\":\"scattercarpet\",\"marker\":{\"colorbar\":{\"outlinewidth\":0,\"ticks\":\"\"}}}],\"carpet\":[{\"aaxis\":{\"endlinecolor\":\"#2a3f5f\",\"gridcolor\":\"white\",\"linecolor\":\"white\",\"minorgridcolor\":\"white\",\"startlinecolor\":\"#2a3f5f\"},\"baxis\":{\"endlinecolor\":\"#2a3f5f\",\"gridcolor\":\"white\",\"linecolor\":\"white\",\"minorgridcolor\":\"white\",\"startlinecolor\":\"#2a3f5f\"},\"type\":\"carpet\"}],\"table\":[{\"cells\":{\"fill\":{\"color\":\"#EBF0F8\"},\"line\":{\"color\":\"white\"}},\"header\":{\"fill\":{\"color\":\"#C8D4E3\"},\"line\":{\"color\":\"white\"}},\"type\":\"table\"}],\"barpolar\":[{\"marker\":{\"line\":{\"color\":\"#E5ECF6\",\"width\":0.5},\"pattern\":{\"fillmode\":\"overlay\",\"size\":10,\"solidity\":0.2}},\"type\":\"barpolar\"}],\"pie\":[{\"automargin\":true,\"type\":\"pie\"}]},\"layout\":{\"autotypenumbers\":\"strict\",\"colorway\":[\"#636efa\",\"#EF553B\",\"#00cc96\",\"#ab63fa\",\"#FFA15A\",\"#19d3f3\",\"#FF6692\",\"#B6E880\",\"#FF97FF\",\"#FECB52\"],\"font\":{\"color\":\"#2a3f5f\"},\"hovermode\":\"closest\",\"hoverlabel\":{\"align\":\"left\"},\"paper_bgcolor\":\"white\",\"plot_bgcolor\":\"#E5ECF6\",\"polar\":{\"bgcolor\":\"#E5ECF6\",\"angularaxis\":{\"gridcolor\":\"white\",\"linecolor\":\"white\",\"ticks\":\"\"},\"radialaxis\":{\"gridcolor\":\"white\",\"linecolor\":\"white\",\"ticks\":\"\"}},\"ternary\":{\"bgcolor\":\"#E5ECF6\",\"aaxis\":{\"gridcolor\":\"white\",\"linecolor\":\"white\",\"ticks\":\"\"},\"baxis\":{\"gridcolor\":\"white\",\"linecolor\":\"white\",\"ticks\":\"\"},\"caxis\":{\"gridcolor\":\"white\",\"linecolor\":\"white\",\"ticks\":\"\"}},\"coloraxis\":{\"colorbar\":{\"outlinewidth\":0,\"ticks\":\"\"}},\"colorscale\":{\"sequential\":[[0.0,\"#0d0887\"],[0.1111111111111111,\"#46039f\"],[0.2222222222222222,\"#7201a8\"],[0.3333333333333333,\"#9c179e\"],[0.4444444444444444,\"#bd3786\"],[0.5555555555555556,\"#d8576b\"],[0.6666666666666666,\"#ed7953\"],[0.7777777777777778,\"#fb9f3a\"],[0.8888888888888888,\"#fdca26\"],[1.0,\"#f0f921\"]],\"sequentialminus\":[[0.0,\"#0d0887\"],[0.1111111111111111,\"#46039f\"],[0.2222222222222222,\"#7201a8\"],[0.3333333333333333,\"#9c179e\"],[0.4444444444444444,\"#bd3786\"],[0.5555555555555556,\"#d8576b\"],[0.6666666666666666,\"#ed7953\"],[0.7777777777777778,\"#fb9f3a\"],[0.8888888888888888,\"#fdca26\"],[1.0,\"#f0f921\"]],\"diverging\":[[0,\"#8e0152\"],[0.1,\"#c51b7d\"],[0.2,\"#de77ae\"],[0.3,\"#f1b6da\"],[0.4,\"#fde0ef\"],[0.5,\"#f7f7f7\"],[0.6,\"#e6f5d0\"],[0.7,\"#b8e186\"],[0.8,\"#7fbc41\"],[0.9,\"#4d9221\"],[1,\"#276419\"]]},\"xaxis\":{\"gridcolor\":\"white\",\"linecolor\":\"white\",\"ticks\":\"\",\"title\":{\"standoff\":15},\"zerolinecolor\":\"white\",\"automargin\":true,\"zerolinewidth\":2},\"yaxis\":{\"gridcolor\":\"white\",\"linecolor\":\"white\",\"ticks\":\"\",\"title\":{\"standoff\":15},\"zerolinecolor\":\"white\",\"automargin\":true,\"zerolinewidth\":2},\"scene\":{\"xaxis\":{\"backgroundcolor\":\"#E5ECF6\",\"gridcolor\":\"white\",\"linecolor\":\"white\",\"showbackground\":true,\"ticks\":\"\",\"zerolinecolor\":\"white\",\"gridwidth\":2},\"yaxis\":{\"backgroundcolor\":\"#E5ECF6\",\"gridcolor\":\"white\",\"linecolor\":\"white\",\"showbackground\":true,\"ticks\":\"\",\"zerolinecolor\":\"white\",\"gridwidth\":2},\"zaxis\":{\"backgroundcolor\":\"#E5ECF6\",\"gridcolor\":\"white\",\"linecolor\":\"white\",\"showbackground\":true,\"ticks\":\"\",\"zerolinecolor\":\"white\",\"gridwidth\":2}},\"shapedefaults\":{\"line\":{\"color\":\"#2a3f5f\"}},\"annotationdefaults\":{\"arrowcolor\":\"#2a3f5f\",\"arrowhead\":0,\"arrowwidth\":1},\"geo\":{\"bgcolor\":\"white\",\"landcolor\":\"#E5ECF6\",\"subunitcolor\":\"white\",\"showland\":true,\"showlakes\":true,\"lakecolor\":\"white\"},\"title\":{\"x\":0.05},\"mapbox\":{\"style\":\"light\"}}},\"xaxis\":{\"anchor\":\"y\",\"domain\":[0.0,0.2888888888888889]},\"yaxis\":{\"anchor\":\"x\",\"domain\":[0.7777777777777778,1.0]},\"xaxis2\":{\"anchor\":\"y2\",\"domain\":[0.35555555555555557,0.6444444444444445]},\"yaxis2\":{\"anchor\":\"x2\",\"domain\":[0.7777777777777778,1.0]},\"xaxis3\":{\"anchor\":\"y3\",\"domain\":[0.7111111111111111,1.0]},\"yaxis3\":{\"anchor\":\"x3\",\"domain\":[0.7777777777777778,1.0]},\"xaxis4\":{\"anchor\":\"y4\",\"domain\":[0.0,0.2888888888888889]},\"yaxis4\":{\"anchor\":\"x4\",\"domain\":[0.3888888888888889,0.6111111111111112]},\"xaxis5\":{\"anchor\":\"y5\",\"domain\":[0.35555555555555557,0.6444444444444445]},\"yaxis5\":{\"anchor\":\"x5\",\"domain\":[0.3888888888888889,0.6111111111111112]},\"xaxis6\":{\"anchor\":\"y6\",\"domain\":[0.7111111111111111,1.0]},\"yaxis6\":{\"anchor\":\"x6\",\"domain\":[0.3888888888888889,0.6111111111111112]},\"xaxis7\":{\"anchor\":\"y7\",\"domain\":[0.0,0.2888888888888889]},\"yaxis7\":{\"anchor\":\"x7\",\"domain\":[0.0,0.22222222222222224]},\"xaxis8\":{\"anchor\":\"y8\",\"domain\":[0.35555555555555557,0.6444444444444445]},\"yaxis8\":{\"anchor\":\"x8\",\"domain\":[0.0,0.22222222222222224]},\"xaxis9\":{\"anchor\":\"y9\",\"domain\":[0.7111111111111111,1.0]},\"yaxis9\":{\"anchor\":\"x9\",\"domain\":[0.0,0.22222222222222224]},\"annotations\":[{\"font\":{\"size\":16},\"showarrow\":false,\"text\":\"Chester\",\"x\":0.14444444444444446,\"xanchor\":\"center\",\"xref\":\"paper\",\"y\":1.0,\"yanchor\":\"bottom\",\"yref\":\"paper\"},{\"font\":{\"size\":16},\"showarrow\":false,\"text\":\"Adaline\",\"x\":0.5,\"xanchor\":\"center\",\"xref\":\"paper\",\"y\":1.0,\"yanchor\":\"bottom\",\"yref\":\"paper\"},{\"font\":{\"size\":16},\"showarrow\":false,\"text\":\"Sadie\",\"x\":0.8555555555555556,\"xanchor\":\"center\",\"xref\":\"paper\",\"y\":1.0,\"yanchor\":\"bottom\",\"yref\":\"paper\"},{\"font\":{\"size\":16},\"showarrow\":false,\"text\":\"Mateo\",\"x\":0.14444444444444446,\"xanchor\":\"center\",\"xref\":\"paper\",\"y\":0.6111111111111112,\"yanchor\":\"bottom\",\"yref\":\"paper\"},{\"font\":{\"size\":16},\"showarrow\":false,\"text\":\"LaMelo\",\"x\":0.5,\"xanchor\":\"center\",\"xref\":\"paper\",\"y\":0.6111111111111112,\"yanchor\":\"bottom\",\"yref\":\"paper\"},{\"font\":{\"size\":16},\"showarrow\":false,\"text\":\"Gutenberg\",\"x\":0.8555555555555556,\"xanchor\":\"center\",\"xref\":\"paper\",\"y\":0.6111111111111112,\"yanchor\":\"bottom\",\"yref\":\"paper\"},{\"font\":{\"size\":16},\"showarrow\":false,\"text\":\"Caitie\",\"x\":0.14444444444444446,\"xanchor\":\"center\",\"xref\":\"paper\",\"y\":0.22222222222222224,\"yanchor\":\"bottom\",\"yref\":\"paper\"}],\"title\":{\"text\":\"Combined Plot of Figures\"}},                        {\"responsive\": true}                    ).then(function(){\n",
       "                            \n",
       "var gd = document.getElementById('c5f351b8-1563-4a50-ba95-4c77f14841be');\n",
       "var x = new MutationObserver(function (mutations, observer) {{\n",
       "        var display = window.getComputedStyle(gd).display;\n",
       "        if (!display || display === 'none') {{\n",
       "            console.log([gd, 'removed!']);\n",
       "            Plotly.purge(gd);\n",
       "            observer.disconnect();\n",
       "        }}\n",
       "}});\n",
       "\n",
       "// Listen for the removal of the full notebook cells\n",
       "var notebookContainer = gd.closest('#notebook-container');\n",
       "if (notebookContainer) {{\n",
       "    x.observe(notebookContainer, {childList: true});\n",
       "}}\n",
       "\n",
       "// Listen for the clearing of the current output cell\n",
       "var outputEl = gd.closest('.output');\n",
       "if (outputEl) {{\n",
       "    x.observe(outputEl, {childList: true});\n",
       "}}\n",
       "\n",
       "                        })                };                });            </script>        </div>"
      ]
     },
     "metadata": {},
     "output_type": "display_data"
    }
   ],
   "source": [
    "from plotly.subplots import make_subplots\n",
    "\n",
    "# Create subplots with a 1x2 grid (one row, two columns)\n",
    "fig_combined = make_subplots(rows=3, cols=3, subplot_titles=corr_epochs_dfs.dataset.unique())\n",
    "\n",
    "# Add each figure to the subplots\n",
    "total_figs=len(figs)\n",
    "for i, fig in enumerate(figs, start=0):\n",
    "    #print(i)\n",
    "    print(int(i/3)+1)\n",
    "    print(i%3)\n",
    "    fig_combined.add_trace(fig.data[0], row=i%3+1, col=int(i/3)+1)\n",
    "    fig_combined.add_trace(fig.data[1], row=i%3+1, col=int(i/3)+1)\n",
    "\n",
    "# Update layout and display the combined plot\n",
    "fig_combined.update_layout(title_text=\"Combined Plot of Figures\")\n",
    "fig_combined.show()"
   ]
  },
  {
   "cell_type": "code",
   "execution_count": 19,
   "id": "a575d76e-4771-4079-9023-daf3a2d9a213",
   "metadata": {},
   "outputs": [
    {
     "data": {
      "application/vnd.plotly.v1+json": {
       "config": {
        "plotlyServerURL": "https://plot.ly"
       },
       "data": [
        {
         "hovertemplate": "metric=spearman's corr<br>epoch=%{x}<br>score=%{y}<extra></extra>",
         "legendgroup": "spearman's corr",
         "line": {
          "color": "#636efa",
          "dash": "solid"
         },
         "marker": {
          "symbol": "circle"
         },
         "mode": "lines",
         "name": "spearman's corr",
         "orientation": "v",
         "showlegend": true,
         "type": "scatter",
         "x": [
          "1",
          "2",
          "3",
          "4",
          "5",
          "6",
          "7",
          "8",
          "9",
          "10"
         ],
         "xaxis": "x",
         "y": [
          0.48440748440748443,
          0.2670970565707408,
          0.5629718787613525,
          0.6441623810044863,
          0.5117627749206697,
          0.6627639785534523,
          0.5353977459240618,
          0.6699857752489331,
          0.7805011489222016,
          0.8032607506291717
         ],
         "yaxis": "y"
        },
        {
         "hovertemplate": "metric=clf_correlation<br>epoch=%{x}<br>score=%{y}<extra></extra>",
         "legendgroup": "clf_correlation",
         "line": {
          "color": "#EF553B",
          "dash": "solid"
         },
         "marker": {
          "symbol": "circle"
         },
         "mode": "lines",
         "name": "clf_correlation",
         "orientation": "v",
         "showlegend": true,
         "type": "scatter",
         "x": [
          "1",
          "2",
          "3",
          "4",
          "5",
          "6",
          "7",
          "8",
          "9",
          "10"
         ],
         "xaxis": "x",
         "y": [
          0.5640660903818798,
          0.5640660903818798,
          0.5640660903818798,
          0.5640660903818798,
          0.5640660903818798,
          0.5640660903818798,
          0.5640660903818798,
          0.5640660903818798,
          0.5640660903818798,
          0.5640660903818798
         ],
         "yaxis": "y"
        }
       ],
       "layout": {
        "height": 400,
        "legend": {
         "title": {
          "text": "metric"
         },
         "tracegroupgap": 0
        },
        "template": {
         "data": {
          "pie": [
           {
            "automargin": true,
            "type": "pie"
           }
          ],
          "scatter": [
           {
            "line": {
             "width": 3
            },
            "marker": {
             "size": 9
            },
            "type": "scatter"
           }
          ],
          "scatter3d": [
           {
            "line": {
             "width": 3
            },
            "marker": {
             "size": 9
            },
            "type": "scatter3d"
           }
          ],
          "scattergeo": [
           {
            "line": {
             "width": 3
            },
            "marker": {
             "size": 9
            },
            "type": "scattergeo"
           }
          ],
          "scattergl": [
           {
            "line": {
             "width": 3
            },
            "marker": {
             "size": 9
            },
            "type": "scattergl"
           }
          ],
          "scatterpolar": [
           {
            "line": {
             "width": 3
            },
            "marker": {
             "size": 9
            },
            "type": "scatterpolar"
           }
          ],
          "scatterpolargl": [
           {
            "line": {
             "width": 3
            },
            "marker": {
             "size": 9
            },
            "type": "scatterpolargl"
           }
          ],
          "scatterternary": [
           {
            "line": {
             "width": 3
            },
            "marker": {
             "size": 9
            },
            "type": "scatterternary"
           }
          ],
          "table": [
           {
            "cells": {
             "height": 30
            },
            "header": {
             "height": 36
            },
            "type": "table"
           }
          ]
         },
         "layout": {
          "font": {
           "size": 18
          },
          "xaxis": {
           "title": {
            "standoff": 15
           }
          },
          "yaxis": {
           "title": {
            "standoff": 15
           }
          }
         }
        },
        "title": {
         "text": "Spearman correlation Caitie"
        },
        "width": 600,
        "xaxis": {
         "anchor": "y",
         "autorange": true,
         "domain": [
          0,
          1
         ],
         "range": [
          1,
          10
         ],
         "showticklabels": true,
         "title": {
          "text": ""
         },
         "type": "linear"
        },
        "yaxis": {
         "anchor": "x",
         "autorange": true,
         "domain": [
          0,
          1
         ],
         "range": [
          0.23731018467860573,
          0.8330476225213067
         ],
         "showticklabels": true,
         "title": {
          "text": ""
         },
         "type": "linear"
        }
       }
      },
      "image/png": "[encoded data removed]",
      "text/html": [
       "<div>                            <div id=\"fffae446-fdbd-4220-8d36-0e63d8d7e9cb\" class=\"plotly-graph-div\" style=\"height:400px; width:600px;\"></div>            <script type=\"text/javascript\">                require([\"plotly\"], function(Plotly) {                    window.PLOTLYENV=window.PLOTLYENV || {};                                    if (document.getElementById(\"fffae446-fdbd-4220-8d36-0e63d8d7e9cb\")) {                    Plotly.newPlot(                        \"fffae446-fdbd-4220-8d36-0e63d8d7e9cb\",                        [{\"hovertemplate\":\"metric=spearman's corr\\u003cbr\\u003eepoch=%{x}\\u003cbr\\u003escore=%{y}\\u003cextra\\u003e\\u003c\\u002fextra\\u003e\",\"legendgroup\":\"spearman's corr\",\"line\":{\"color\":\"#636efa\",\"dash\":\"solid\"},\"marker\":{\"symbol\":\"circle\"},\"mode\":\"lines\",\"name\":\"spearman's corr\",\"orientation\":\"v\",\"showlegend\":true,\"x\":[\"1\",\"2\",\"3\",\"4\",\"5\",\"6\",\"7\",\"8\",\"9\",\"10\"],\"xaxis\":\"x\",\"y\":[0.48440748440748443,0.2670970565707408,0.5629718787613525,0.6441623810044863,0.5117627749206697,0.6627639785534523,0.5353977459240618,0.6699857752489331,0.7805011489222016,0.8032607506291717],\"yaxis\":\"y\",\"type\":\"scatter\"},{\"hovertemplate\":\"metric=clf_correlation\\u003cbr\\u003eepoch=%{x}\\u003cbr\\u003escore=%{y}\\u003cextra\\u003e\\u003c\\u002fextra\\u003e\",\"legendgroup\":\"clf_correlation\",\"line\":{\"color\":\"#EF553B\",\"dash\":\"solid\"},\"marker\":{\"symbol\":\"circle\"},\"mode\":\"lines\",\"name\":\"clf_correlation\",\"orientation\":\"v\",\"showlegend\":true,\"x\":[\"1\",\"2\",\"3\",\"4\",\"5\",\"6\",\"7\",\"8\",\"9\",\"10\"],\"xaxis\":\"x\",\"y\":[0.5640660903818798,0.5640660903818798,0.5640660903818798,0.5640660903818798,0.5640660903818798,0.5640660903818798,0.5640660903818798,0.5640660903818798,0.5640660903818798,0.5640660903818798],\"yaxis\":\"y\",\"type\":\"scatter\"}],                        {\"template\":{\"data\":{\"pie\":[{\"automargin\":true,\"type\":\"pie\"}],\"scatter3d\":[{\"line\":{\"width\":3},\"marker\":{\"size\":9},\"type\":\"scatter3d\"}],\"scattergeo\":[{\"line\":{\"width\":3},\"marker\":{\"size\":9},\"type\":\"scattergeo\"}],\"scattergl\":[{\"line\":{\"width\":3},\"marker\":{\"size\":9},\"type\":\"scattergl\"}],\"scatterpolargl\":[{\"line\":{\"width\":3},\"marker\":{\"size\":9},\"type\":\"scatterpolargl\"}],\"scatterpolar\":[{\"line\":{\"width\":3},\"marker\":{\"size\":9},\"type\":\"scatterpolar\"}],\"scatter\":[{\"line\":{\"width\":3},\"marker\":{\"size\":9},\"type\":\"scatter\"}],\"scatterternary\":[{\"line\":{\"width\":3},\"marker\":{\"size\":9},\"type\":\"scatterternary\"}],\"table\":[{\"cells\":{\"height\":30},\"header\":{\"height\":36},\"type\":\"table\"}]},\"layout\":{\"font\":{\"size\":18},\"xaxis\":{\"title\":{\"standoff\":15}},\"yaxis\":{\"title\":{\"standoff\":15}}}},\"xaxis\":{\"anchor\":\"y\",\"domain\":[0.0,1.0],\"title\":{\"text\":\"\"},\"showticklabels\":true},\"yaxis\":{\"anchor\":\"x\",\"domain\":[0.0,1.0],\"title\":{\"text\":\"\"},\"showticklabels\":true},\"legend\":{\"title\":{\"text\":\"metric\"},\"tracegroupgap\":0},\"title\":{\"text\":\"Spearman correlation Caitie\"},\"height\":400,\"width\":600},                        {\"responsive\": true}                    ).then(function(){\n",
       "                            \n",
       "var gd = document.getElementById('fffae446-fdbd-4220-8d36-0e63d8d7e9cb');\n",
       "var x = new MutationObserver(function (mutations, observer) {{\n",
       "        var display = window.getComputedStyle(gd).display;\n",
       "        if (!display || display === 'none') {{\n",
       "            console.log([gd, 'removed!']);\n",
       "            Plotly.purge(gd);\n",
       "            observer.disconnect();\n",
       "        }}\n",
       "}});\n",
       "\n",
       "// Listen for the removal of the full notebook cells\n",
       "var notebookContainer = gd.closest('#notebook-container');\n",
       "if (notebookContainer) {{\n",
       "    x.observe(notebookContainer, {childList: true});\n",
       "}}\n",
       "\n",
       "// Listen for the clearing of the current output cell\n",
       "var outputEl = gd.closest('.output');\n",
       "if (outputEl) {{\n",
       "    x.observe(outputEl, {childList: true});\n",
       "}}\n",
       "\n",
       "                        })                };                });            </script>        </div>"
      ]
     },
     "metadata": {},
     "output_type": "display_data"
    }
   ],
   "source": [
    "fig"
   ]
  },
  {
   "cell_type": "code",
   "execution_count": null,
   "id": "a9377c18-766f-46f7-8653-c9f698ab0154",
   "metadata": {},
   "outputs": [],
   "source": []
  }
 ],
 "metadata": {
  "kernelspec": {
   "display_name": "Python [conda env:pytorch-2.2.0]",
   "language": "python",
   "name": "conda-env-pytorch-2.2.0-py"
  },
  "language_info": {
   "codemirror_mode": {
    "name": "ipython",
    "version": 3
   },
   "file_extension": ".py",
   "mimetype": "text/x-python",
   "name": "python",
   "nbconvert_exporter": "python",
   "pygments_lexer": "ipython3",
   "version": "3.12.1"
  }
 },
 "nbformat": 4,
 "nbformat_minor": 5
}
