{
 "cells": [
  {
   "cell_type": "code",
   "execution_count": 1,
   "id": "f10ae086-c1ad-4be6-98e3-7a881498d573",
   "metadata": {
    "tags": []
   },
   "outputs": [
    {
     "name": "stderr",
     "output_type": "stream",
     "text": [
      "/home/hpc/iwb3/iwb3021h/.local/lib/python3.12/site-packages/tqdm/auto.py:21: TqdmWarning: IProgress not found. Please update jupyter and ipywidgets. See https://ipywidgets.readthedocs.io/en/stable/user_install.html\n",
      "  from .autonotebook import tqdm as notebook_tqdm\n"
     ]
    }
   ],
   "source": [
    "import pandas as pd\n",
    "import numpy as np\n",
    "import plotly.graph_objects as go\n",
    "######## Search space #########\n",
    "import sys\n",
    "sys.path.append(\"../\")\n",
    "from search_space.RegNet import RegNet\n",
    "from search_space.utils import create_widths_plot, scatter_results\n",
    "# Initialize an empty list to store dictionaries\n",
    "def results_to_df(path, name):\n",
    "    data = []\n",
    "    # Open the text file\n",
    "    with open(path, 'r') as file:\n",
    "        lines = file.readlines()\n",
    "        # Initialize an empty dictionary to store data for each block\n",
    "        block_data = {}\n",
    "        for line in lines:\n",
    "            # If the line contains dashes, it indicates the end of a block\n",
    "            if '-------------------------' in line:\n",
    "                # If block_data is not empty, add it to the list of data dictionaries\n",
    "                if block_data:\n",
    "                    data.append(block_data)\n",
    "                    # Reset block_data for the next block\n",
    "                    block_data = {}\n",
    "            elif 'best_acc' in line:\n",
    "                continue\n",
    "            else:\n",
    "                # Split the line by ':'\n",
    "                #print(line)\n",
    "                key, value = line.strip().split(': ')\n",
    "                # Store the key-value pair in the block_data dictionary\n",
    "                block_data[key] = value\n",
    "\n",
    "    # Create a DataFrame from the list of dictionaries\n",
    "    df = pd.DataFrame(data)\n",
    "\n",
    "    # Convert columns to appropriate data types if needed\n",
    "    df['epoch'] = df['epoch'].astype(int)\n",
    "    df['lr'] = df['lr'].astype(float)\n",
    "    df['train_acc'] = df['train_acc'].astype(float)\n",
    "    df['train_loss'] = df['train_loss'].astype(float)\n",
    "    df['test_acc'] = df['test_acc'].astype(float)\n",
    "    df['test_acc_top5'] = df['test_acc_top5'].astype(float)\n",
    "    df['test_loss'] = df['test_loss'].astype(float)\n",
    "    df['epoch_time'] = df['epoch_time'].astype(float)\n",
    "    df=df.assign(name=name)\n",
    "    \n",
    "    return df"
   ]
  },
  {
   "cell_type": "code",
   "execution_count": 174,
   "id": "d12b93c7-5737-4651-826f-c5e62a62c890",
   "metadata": {
    "tags": []
   },
   "outputs": [],
   "source": [
    "import json\n",
    "\n",
    "tests_folder=\"/home/woody/iwb3/iwb3021h/NAS_COMPETITION_RESULTS\"\n",
    "studies_train=[\"tests_LaMelo_13_06_2024_02_11\", \n",
    "               #\"tests_LaMelo_11_06_2024_19_48\",\n",
    "               #\"tests_Caitie_12_06_2024_08_42\",\n",
    "               #\"tests_Caitie_13_06_2024_00_05\", \n",
    "               #\"tests_Adaline_13_06_2024_00_08\",\n",
    "               #\"tests_Adaline_12_06_2024_03_18\",\n",
    "               #\"tests_Sadie_12_06_2024_08_38\",\n",
    "               #\"tests_Sadie_13_06_2024_00_10\",\n",
    "               #\"tests_Chester_13_06_2024_09_31\",\n",
    "               #\"tests_Chester_12_06_2024_08_32\",\n",
    "               #\"tests_Gutenberg_12_06_2024_23_37\"\n",
    "              ]\n",
    "def get_predictor_data(tests_folder,studies):\n",
    "    train_data=[]\n",
    "    for study_name in studies: \n",
    "        #study_name=\"tests_LaMelo_13_06_2024_02_11\"\n",
    "        file_path=f\"{tests_folder}/{study_name}/{study_name}.evonas\"\n",
    "        with open(file_path, 'r') as file:\n",
    "            results = json.load(file)\n",
    "\n",
    "        individuals_df=pd.read_json(results[\"results\"]).sort_values(\"name\")[[\"name\",\"generation\"]]\n",
    "        data_models=pd.read_json(results[\"results\"])[[\"name\",\"num_stages\",\"params\",\"WA\",\"W0\",\"WM\",\"DEPTH\", \"best_acc\"]]\n",
    "        data_models[\"num_classes\"]=results[\"metadata\"][\"num_classes\"]\n",
    "        data_models[\"benchmark\"]=results[\"metadata\"][\"benchmark\"]\n",
    "        print(study_name)\n",
    "        print(results[\"metadata\"])\n",
    "\n",
    "        data=[]\n",
    "        for index, row in individuals_df.iterrows():\n",
    "            name=row[\"name\"]\n",
    "            generation=row[\"generation\"]\n",
    "            test_acc=results_to_df(f\"{tests_folder}/{study_name}/Generation_{generation}/{name}/worklog.txt\", f\"{name}\")[[\"epoch\",\"test_acc\",\"name\"]]\n",
    "            test_acc_piv = test_acc.pivot(index='name', columns='epoch', values='test_acc').add_prefix(\"epoch_\").reset_index()\n",
    "            test_acc_piv[\"gen\"]=generation\n",
    "            data.append(pd.merge(test_acc_piv, data_models, on=\"name\"))\n",
    "        data=pd.concat(data)\n",
    "        train_data.append(data)\n",
    "    train_data=pd.concat(train_data)\n",
    "    return train_data"
   ]
  },
  {
   "cell_type": "code",
   "execution_count": 175,
   "id": "4d1e2d66-bb63-4743-af46-f8ae81298ab7",
   "metadata": {
    "tags": []
   },
   "outputs": [
    {
     "name": "stderr",
     "output_type": "stream",
     "text": [
      "/tmp/ipykernel_1797988/2071071218.py:24: FutureWarning: Passing literal json to 'read_json' is deprecated and will be removed in a future version. To read from a literal string, wrap it in a 'StringIO' object.\n",
      "  individuals_df=pd.read_json(results[\"results\"]).sort_values(\"name\")[[\"name\",\"generation\"]]\n",
      "/tmp/ipykernel_1797988/2071071218.py:25: FutureWarning: Passing literal json to 'read_json' is deprecated and will be removed in a future version. To read from a literal string, wrap it in a 'StringIO' object.\n",
      "  data_models=pd.read_json(results[\"results\"])[[\"name\",\"num_stages\",\"params\",\"WA\",\"W0\",\"WM\",\"DEPTH\", \"best_acc\"]]\n"
     ]
    },
    {
     "name": "stdout",
     "output_type": "stream",
     "text": [
      "tests_LaMelo_13_06_2024_02_11\n",
      "{'num_classes': 10, 'codename': 'LaMelo', 'input_shape': [50000, 1, 24, 24], 'benchmark': 85.2, 'time_remaining': 7199.416898488998, 'rand_augment': False, 'train_config_path': 'our_submission/configs/train/vanilla_generation_adam.yaml', 'mode': 'NAS'}\n"
     ]
    }
   ],
   "source": [
    "train_data=get_predictor_data(tests_folder,studies_train)"
   ]
  },
  {
   "cell_type": "code",
   "execution_count": 38,
   "id": "b887e25a-cb50-4c0a-ac73-f070c66e43b1",
   "metadata": {
    "tags": []
   },
   "outputs": [
    {
     "name": "stderr",
     "output_type": "stream",
     "text": [
      "/tmp/ipykernel_1797988/2036379188.py:24: FutureWarning: Passing literal json to 'read_json' is deprecated and will be removed in a future version. To read from a literal string, wrap it in a 'StringIO' object.\n",
      "  individuals_df=pd.read_json(results[\"results\"]).sort_values(\"name\")[[\"name\",\"generation\"]]\n",
      "/tmp/ipykernel_1797988/2036379188.py:25: FutureWarning: Passing literal json to 'read_json' is deprecated and will be removed in a future version. To read from a literal string, wrap it in a 'StringIO' object.\n",
      "  data_models=pd.read_json(results[\"results\"])[[\"name\",\"num_stages\",\"params\",\"WA\",\"W0\",\"WM\",\"DEPTH\", \"best_acc\"]]\n"
     ]
    },
    {
     "name": "stdout",
     "output_type": "stream",
     "text": [
      "tests_Gutenberg_13_06_2024_09_35\n",
      "{'input_shape': [45000, 1, 27, 18], 'codename': 'Gutenberg', 'benchmark': 40.98, 'num_classes': 6, 'time_remaining': 7199.527697086334, 'rand_augment': False, 'train_config_path': 'our_submission/configs/train/vanilla_generation_adam.yaml', 'mode': 'NAS'}\n"
     ]
    }
   ],
   "source": [
    "studies_test=[\"tests_Gutenberg_13_06_2024_09_35\"]\n",
    "#tests_folder=\"/home/woody/iwb3/iwb3021h/NAS_COMPETITION_RESULTS/full_training\"\n",
    "test_data=get_predictor_data(tests_folder,studies_test)"
   ]
  },
  {
   "cell_type": "code",
   "execution_count": 5,
   "id": "9e980407-f7c2-4dc3-a0e9-179e8f6dc3a1",
   "metadata": {
    "tags": []
   },
   "outputs": [
    {
     "data": {
      "text/plain": [
       "Index(['name', 'epoch_1', 'epoch_2', 'epoch_3', 'epoch_4', 'epoch_5',\n",
       "       'epoch_6', 'epoch_7', 'epoch_8', 'epoch_9', 'epoch_10', 'epoch_11',\n",
       "       'epoch_12', 'epoch_13', 'epoch_14', 'epoch_15', 'epoch_16', 'epoch_17',\n",
       "       'epoch_18', 'epoch_19', 'epoch_20', 'gen', 'num_stages', 'params', 'WA',\n",
       "       'W0', 'WM', 'DEPTH', 'best_acc', 'num_classes', 'benchmark'],\n",
       "      dtype='object')"
      ]
     },
     "execution_count": 5,
     "metadata": {},
     "output_type": "execute_result"
    }
   ],
   "source": [
    "test_data.columns"
   ]
  },
  {
   "cell_type": "code",
   "execution_count": 7,
   "id": "2eb9d186-177c-444f-8f9a-351b5e702e45",
   "metadata": {
    "tags": []
   },
   "outputs": [],
   "source": [
    "cols_train=[ 'epoch_1', 'epoch_2', 'epoch_3', 'epoch_4', 'epoch_5',\n",
    "       'epoch_6', 'epoch_7', 'epoch_8', 'epoch_9', 'epoch_10', 'num_stages', 'params', 'WA', 'W0',\n",
    "       'WM', 'DEPTH', 'num_classes', 'benchmark']\n",
    "#cols_train=[ 'epoch_1', 'epoch_2', 'epoch_3', 'epoch_4', 'epoch_5', 'epoch_6', 'epoch_7','num_stages', 'params', 'WA', 'W0',\n",
    "#       'WM', 'DEPTH', 'num_classes', 'benchmark']\n",
    "#cols_train=[ 'epoch_1', 'epoch_2','epoch_3', 'epoch_4','num_stages', 'params', 'WA', 'W0',\n",
    "#       'WM', 'DEPTH', 'num_classes', 'benchmark']\n",
    "\n",
    "cols_test=['epoch_11',\n",
    "       'epoch_12', 'epoch_13', 'epoch_14', 'epoch_15', 'epoch_16', 'epoch_17',\n",
    "       'epoch_18', 'epoch_19', 'epoch_20']\n",
    "cols_test=[\"best_acc\"]\n",
    "X=train_data[cols_train]\n",
    "y=train_data[cols_test]\n",
    "gens=[1]\n",
    "\n",
    "X_test_new=test_data[test_data[\"gen\"].isin(gens)][cols_train]\n",
    "y_test_new=test_data[test_data[\"gen\"].isin(gens)][cols_test]"
   ]
  },
  {
   "cell_type": "code",
   "execution_count": 179,
   "id": "74e6ec47-a7ba-4cbf-856c-e621a9494cd6",
   "metadata": {
    "tags": []
   },
   "outputs": [
    {
     "data": {
      "text/plain": [
       "DEPTH\n",
       "17    4\n",
       "18    2\n",
       "14    2\n",
       "11    2\n",
       "10    2\n",
       "22    2\n",
       "8     2\n",
       "9     1\n",
       "15    1\n",
       "20    1\n",
       "13    1\n",
       "Name: count, dtype: int64"
      ]
     },
     "execution_count": 179,
     "metadata": {},
     "output_type": "execute_result"
    }
   ],
   "source": [
    "train_data[train_data.gen==3].DEPTH.value_counts()"
   ]
  },
  {
   "cell_type": "code",
   "execution_count": 180,
   "id": "31d5c3eb-db37-4f50-932a-d30fe2664ae2",
   "metadata": {
    "tags": []
   },
   "outputs": [
    {
     "data": {
      "text/plain": [
       "DEPTH\n",
       "12    2\n",
       "19    2\n",
       "20    2\n",
       "17    2\n",
       "10    2\n",
       "14    2\n",
       "13    1\n",
       "16    1\n",
       "15    1\n",
       "11    1\n",
       "22    1\n",
       "8     1\n",
       "21    1\n",
       "9     1\n",
       "Name: count, dtype: int64"
      ]
     },
     "execution_count": 180,
     "metadata": {},
     "output_type": "execute_result"
    }
   ],
   "source": [
    "test_data[test_data.gen==3].DEPTH.value_counts()"
   ]
  },
  {
   "cell_type": "code",
   "execution_count": 173,
   "id": "ea2b38ad-5b3b-41d3-8d65-0e01ab8a30db",
   "metadata": {
    "tags": []
   },
   "outputs": [
    {
     "data": {
      "text/plain": [
       "DEPTH\n",
       "12    2\n",
       "19    2\n",
       "20    2\n",
       "17    2\n",
       "10    2\n",
       "14    2\n",
       "13    1\n",
       "16    1\n",
       "15    1\n",
       "11    1\n",
       "22    1\n",
       "8     1\n",
       "21    1\n",
       "9     1\n",
       "Name: count, dtype: int64"
      ]
     },
     "execution_count": 173,
     "metadata": {},
     "output_type": "execute_result"
    }
   ],
   "source": [
    "test_data[test_data.gen==3].DEPTH.value_counts()"
   ]
  },
  {
   "cell_type": "markdown",
   "id": "65a051ec-6c53-448d-97cb-8fd4e898dec6",
   "metadata": {},
   "source": [
    "# Performance predictor"
   ]
  },
  {
   "cell_type": "markdown",
   "id": "7697f8f8-c8ce-4f4a-b015-d33de7565b46",
   "metadata": {},
   "source": [
    "Gradient Boosting Machines (GBMs) (e.g., XGBoost, LightGBM):\n",
    "RandomForest"
   ]
  },
  {
   "cell_type": "code",
   "execution_count": 10,
   "id": "4c262596-14df-4cfa-8485-15ac141263b4",
   "metadata": {
    "tags": []
   },
   "outputs": [
    {
     "name": "stderr",
     "output_type": "stream",
     "text": [
      "/home/hpc/iwb3/iwb3021h/.local/lib/python3.12/site-packages/sklearn/base.py:1474: DataConversionWarning: A column-vector y was passed when a 1d array was expected. Please change the shape of y to (n_samples,), for example using ravel().\n",
      "  return fit_method(estimator, *args, **kwargs)\n"
     ]
    },
    {
     "name": "stdout",
     "output_type": "stream",
     "text": [
      "RandomForestRegressor RMSE: 0.9052349272426432\n"
     ]
    }
   ],
   "source": [
    "import numpy as np\n",
    "from sklearn.model_selection import train_test_split, GridSearchCV\n",
    "from sklearn.svm import SVR\n",
    "from sklearn.ensemble import RandomForestRegressor\n",
    "from sklearn.preprocessing import StandardScaler\n",
    "from sklearn.metrics import mean_squared_error\n",
    "\n",
    "# Sample data\n",
    "# X should include first 10 epochs' accuracy and model parameters\n",
    "# y should include the accuracy of the subsequent 10 epochs\n",
    "#X = np.random.rand(100, 15)  # 100 samples, 10 accuracies + 5 parameters\n",
    "#y = np.random.rand(100, 10)  # 100 samples, next 10 epochs' accuracy\n",
    "\n",
    "# Split the data\n",
    "X_train, X_test, y_train, y_test = train_test_split(X, y, test_size=0.1, random_state=42)\n",
    "\n",
    "# Standardize the data\n",
    "#scaler = StandardScaler()\n",
    "#X_train = scaler.fit_transform(X_train)\n",
    "#X_test = scaler.transform(X_test)\n",
    "\n",
    "# Train a RandomForestRegressor\n",
    "rf_regressor = RandomForestRegressor(n_estimators=100, random_state=42)\n",
    "rf_regressor.fit(X_train, y_train)\n",
    "\n",
    "# Predict and evaluate\n",
    "y_pred_rf = rf_regressor.predict(X_test)\n",
    "rmse_rf = np.sqrt(mean_squared_error(y_test, y_pred_rf))\n",
    "print(f'RandomForestRegressor RMSE: {rmse_rf}')\n",
    "\n"
   ]
  },
  {
   "cell_type": "code",
   "execution_count": 11,
   "id": "591d06b2-ee71-4ab9-b823-a7f9c32ae544",
   "metadata": {
    "tags": []
   },
   "outputs": [
    {
     "name": "stdout",
     "output_type": "stream",
     "text": [
      "RandomForestRegressor RMSE: 13.511911125947334\n"
     ]
    }
   ],
   "source": [
    "# Predict and evaluate\n",
    "#X_test_new = scaler.transform(X_test_new)\n",
    "\n",
    "y_pred_rf = rf_regressor.predict(X_test_new)\n",
    "rmse_rf = np.sqrt(mean_squared_error(y_test_new, y_pred_rf))\n",
    "print(f'RandomForestRegressor RMSE: {rmse_rf}')\n"
   ]
  },
  {
   "cell_type": "code",
   "execution_count": null,
   "id": "b1727fe5-63b1-4b4b-90b4-fa91f8dbf319",
   "metadata": {},
   "outputs": [],
   "source": []
  },
  {
   "cell_type": "code",
   "execution_count": 17,
   "id": "2c3ccd87-0554-48b8-a30d-7cddf2dda8fd",
   "metadata": {
    "tags": []
   },
   "outputs": [
    {
     "data": {
      "text/html": [
       "<div>\n",
       "<style scoped>\n",
       "    .dataframe tbody tr th:only-of-type {\n",
       "        vertical-align: middle;\n",
       "    }\n",
       "\n",
       "    .dataframe tbody tr th {\n",
       "        vertical-align: top;\n",
       "    }\n",
       "\n",
       "    .dataframe thead th {\n",
       "        text-align: right;\n",
       "    }\n",
       "</style>\n",
       "<table border=\"1\" class=\"dataframe\">\n",
       "  <thead>\n",
       "    <tr style=\"text-align: right;\">\n",
       "      <th></th>\n",
       "      <th>best_acc</th>\n",
       "    </tr>\n",
       "  </thead>\n",
       "  <tbody>\n",
       "    <tr>\n",
       "      <th>8</th>\n",
       "      <td>42.88</td>\n",
       "    </tr>\n",
       "    <tr>\n",
       "      <th>0</th>\n",
       "      <td>42.50</td>\n",
       "    </tr>\n",
       "    <tr>\n",
       "      <th>6</th>\n",
       "      <td>42.41</td>\n",
       "    </tr>\n",
       "    <tr>\n",
       "      <th>15</th>\n",
       "      <td>42.37</td>\n",
       "    </tr>\n",
       "    <tr>\n",
       "      <th>19</th>\n",
       "      <td>42.33</td>\n",
       "    </tr>\n",
       "    <tr>\n",
       "      <th>5</th>\n",
       "      <td>42.23</td>\n",
       "    </tr>\n",
       "    <tr>\n",
       "      <th>11</th>\n",
       "      <td>42.19</td>\n",
       "    </tr>\n",
       "    <tr>\n",
       "      <th>16</th>\n",
       "      <td>41.90</td>\n",
       "    </tr>\n",
       "    <tr>\n",
       "      <th>4</th>\n",
       "      <td>41.83</td>\n",
       "    </tr>\n",
       "    <tr>\n",
       "      <th>17</th>\n",
       "      <td>41.81</td>\n",
       "    </tr>\n",
       "    <tr>\n",
       "      <th>7</th>\n",
       "      <td>41.79</td>\n",
       "    </tr>\n",
       "    <tr>\n",
       "      <th>18</th>\n",
       "      <td>41.75</td>\n",
       "    </tr>\n",
       "    <tr>\n",
       "      <th>9</th>\n",
       "      <td>41.47</td>\n",
       "    </tr>\n",
       "    <tr>\n",
       "      <th>12</th>\n",
       "      <td>41.45</td>\n",
       "    </tr>\n",
       "    <tr>\n",
       "      <th>13</th>\n",
       "      <td>41.45</td>\n",
       "    </tr>\n",
       "    <tr>\n",
       "      <th>10</th>\n",
       "      <td>41.25</td>\n",
       "    </tr>\n",
       "    <tr>\n",
       "      <th>14</th>\n",
       "      <td>41.15</td>\n",
       "    </tr>\n",
       "    <tr>\n",
       "      <th>3</th>\n",
       "      <td>41.03</td>\n",
       "    </tr>\n",
       "    <tr>\n",
       "      <th>1</th>\n",
       "      <td>40.91</td>\n",
       "    </tr>\n",
       "    <tr>\n",
       "      <th>2</th>\n",
       "      <td>37.23</td>\n",
       "    </tr>\n",
       "  </tbody>\n",
       "</table>\n",
       "</div>"
      ],
      "text/plain": [
       "    best_acc\n",
       "8      42.88\n",
       "0      42.50\n",
       "6      42.41\n",
       "15     42.37\n",
       "19     42.33\n",
       "5      42.23\n",
       "11     42.19\n",
       "16     41.90\n",
       "4      41.83\n",
       "17     41.81\n",
       "7      41.79\n",
       "18     41.75\n",
       "9      41.47\n",
       "12     41.45\n",
       "13     41.45\n",
       "10     41.25\n",
       "14     41.15\n",
       "3      41.03\n",
       "1      40.91\n",
       "2      37.23"
      ]
     },
     "execution_count": 17,
     "metadata": {},
     "output_type": "execute_result"
    }
   ],
   "source": [
    "y_test_new.reset_index(drop=True).sort_values(\"best_acc\", ascending=False)"
   ]
  },
  {
   "cell_type": "code",
   "execution_count": 19,
   "id": "7bf8235f-6d63-4ba0-9b38-b8a45ba92207",
   "metadata": {
    "tags": []
   },
   "outputs": [
    {
     "data": {
      "text/html": [
       "<div>\n",
       "<style scoped>\n",
       "    .dataframe tbody tr th:only-of-type {\n",
       "        vertical-align: middle;\n",
       "    }\n",
       "\n",
       "    .dataframe tbody tr th {\n",
       "        vertical-align: top;\n",
       "    }\n",
       "\n",
       "    .dataframe thead th {\n",
       "        text-align: right;\n",
       "    }\n",
       "</style>\n",
       "<table border=\"1\" class=\"dataframe\">\n",
       "  <thead>\n",
       "    <tr style=\"text-align: right;\">\n",
       "      <th></th>\n",
       "      <th>pred_acc</th>\n",
       "    </tr>\n",
       "  </thead>\n",
       "  <tbody>\n",
       "    <tr>\n",
       "      <th>17</th>\n",
       "      <td>56.5878</td>\n",
       "    </tr>\n",
       "    <tr>\n",
       "      <th>11</th>\n",
       "      <td>55.6209</td>\n",
       "    </tr>\n",
       "    <tr>\n",
       "      <th>19</th>\n",
       "      <td>55.6166</td>\n",
       "    </tr>\n",
       "    <tr>\n",
       "      <th>8</th>\n",
       "      <td>55.6025</td>\n",
       "    </tr>\n",
       "    <tr>\n",
       "      <th>5</th>\n",
       "      <td>55.3889</td>\n",
       "    </tr>\n",
       "    <tr>\n",
       "      <th>16</th>\n",
       "      <td>55.3620</td>\n",
       "    </tr>\n",
       "    <tr>\n",
       "      <th>18</th>\n",
       "      <td>55.3368</td>\n",
       "    </tr>\n",
       "    <tr>\n",
       "      <th>15</th>\n",
       "      <td>55.2496</td>\n",
       "    </tr>\n",
       "    <tr>\n",
       "      <th>4</th>\n",
       "      <td>55.1870</td>\n",
       "    </tr>\n",
       "    <tr>\n",
       "      <th>7</th>\n",
       "      <td>55.1822</td>\n",
       "    </tr>\n",
       "    <tr>\n",
       "      <th>0</th>\n",
       "      <td>55.1602</td>\n",
       "    </tr>\n",
       "    <tr>\n",
       "      <th>10</th>\n",
       "      <td>55.1539</td>\n",
       "    </tr>\n",
       "    <tr>\n",
       "      <th>3</th>\n",
       "      <td>55.0680</td>\n",
       "    </tr>\n",
       "    <tr>\n",
       "      <th>6</th>\n",
       "      <td>55.0571</td>\n",
       "    </tr>\n",
       "    <tr>\n",
       "      <th>9</th>\n",
       "      <td>55.0103</td>\n",
       "    </tr>\n",
       "    <tr>\n",
       "      <th>12</th>\n",
       "      <td>54.9073</td>\n",
       "    </tr>\n",
       "    <tr>\n",
       "      <th>13</th>\n",
       "      <td>54.7014</td>\n",
       "    </tr>\n",
       "    <tr>\n",
       "      <th>1</th>\n",
       "      <td>54.4056</td>\n",
       "    </tr>\n",
       "    <tr>\n",
       "      <th>14</th>\n",
       "      <td>54.2690</td>\n",
       "    </tr>\n",
       "    <tr>\n",
       "      <th>2</th>\n",
       "      <td>52.9382</td>\n",
       "    </tr>\n",
       "  </tbody>\n",
       "</table>\n",
       "</div>"
      ],
      "text/plain": [
       "    pred_acc\n",
       "17   56.5878\n",
       "11   55.6209\n",
       "19   55.6166\n",
       "8    55.6025\n",
       "5    55.3889\n",
       "16   55.3620\n",
       "18   55.3368\n",
       "15   55.2496\n",
       "4    55.1870\n",
       "7    55.1822\n",
       "0    55.1602\n",
       "10   55.1539\n",
       "3    55.0680\n",
       "6    55.0571\n",
       "9    55.0103\n",
       "12   54.9073\n",
       "13   54.7014\n",
       "1    54.4056\n",
       "14   54.2690\n",
       "2    52.9382"
      ]
     },
     "execution_count": 19,
     "metadata": {},
     "output_type": "execute_result"
    }
   ],
   "source": [
    "pd.DataFrame(y_pred_rf, columns=[\"pred_acc\"]).sort_values(\"pred_acc\", ascending=False)"
   ]
  },
  {
   "cell_type": "code",
   "execution_count": 301,
   "id": "b5e59d5e-4da0-4ba8-b6d4-6c1e383006f0",
   "metadata": {
    "tags": []
   },
   "outputs": [
    {
     "data": {
      "text/plain": [
       "array([[1.        , 0.43816592],\n",
       "       [0.43816592, 1.        ]])"
      ]
     },
     "execution_count": 301,
     "metadata": {},
     "output_type": "execute_result"
    }
   ],
   "source": [
    "np.corrcoef(y_pred_rf[:][0:60],y_test_new.values[:][0:60].reshape(-1))"
   ]
  },
  {
   "cell_type": "code",
   "execution_count": 303,
   "id": "172032a4-11b0-4c21-a442-47e4222552f2",
   "metadata": {
    "tags": []
   },
   "outputs": [
    {
     "data": {
      "text/plain": [
       "array([[1.        , 0.90872616],\n",
       "       [0.90872616, 1.        ]])"
      ]
     },
     "execution_count": 303,
     "metadata": {},
     "output_type": "execute_result"
    }
   ],
   "source": [
    "np.corrcoef(X_test_new[\"epoch_10\"].values[:20].reshape(-1),y_test_new[:20].values[:].reshape(-1))"
   ]
  },
  {
   "cell_type": "code",
   "execution_count": 123,
   "id": "7ac39410-9421-445f-86d8-59295ae32c48",
   "metadata": {
    "tags": []
   },
   "outputs": [
    {
     "data": {
      "text/plain": [
       "array([59.719 , 58.936 , 56.4102, 60.0944, 59.9151, 60.3432, 60.3657,\n",
       "       61.5988, 60.8167, 59.7897, 59.6178, 60.3493, 59.7265, 59.0941,\n",
       "       56.9798, 61.0983, 61.577 , 60.5617, 61.8244, 61.6281, 60.7059,\n",
       "       61.0587, 61.5172, 61.6237, 60.298 , 60.2908, 61.3481, 61.0361,\n",
       "       61.2968, 61.2947, 60.2082, 62.1292, 61.1402, 61.8315, 60.477 ,\n",
       "       60.1731, 60.2328, 60.4864, 62.0043, 61.3174, 60.997 , 61.1983,\n",
       "       61.2318, 60.3409, 62.127 , 61.6775, 60.9963, 61.133 , 61.3531,\n",
       "       60.9014, 61.0975, 60.2715, 61.6547, 59.5361, 61.6507, 60.9652,\n",
       "       60.5947, 61.6178, 60.2765, 60.58  ])"
      ]
     },
     "execution_count": 123,
     "metadata": {},
     "output_type": "execute_result"
    }
   ],
   "source": [
    "y_pred_rf"
   ]
  },
  {
   "cell_type": "code",
   "execution_count": 8,
   "id": "01da3614-0d19-4086-9671-78cec7d4838c",
   "metadata": {
    "tags": []
   },
   "outputs": [
    {
     "name": "stdout",
     "output_type": "stream",
     "text": [
      "Support Vector Regressor RMSE: 16.52822026363254\n"
     ]
    },
    {
     "name": "stderr",
     "output_type": "stream",
     "text": [
      "/home/hpc/iwb3/iwb3021h/.local/lib/python3.12/site-packages/sklearn/utils/validation.py:1300: DataConversionWarning: A column-vector y was passed when a 1d array was expected. Please change the shape of y to (n_samples, ), for example using ravel().\n",
      "  y = column_or_1d(y, warn=True)\n",
      "/home/hpc/iwb3/iwb3021h/.local/lib/python3.12/site-packages/sklearn/utils/validation.py:1300: DataConversionWarning: A column-vector y was passed when a 1d array was expected. Please change the shape of y to (n_samples, ), for example using ravel().\n",
      "  y = column_or_1d(y, warn=True)\n",
      "/home/hpc/iwb3/iwb3021h/.local/lib/python3.12/site-packages/sklearn/utils/validation.py:1300: DataConversionWarning: A column-vector y was passed when a 1d array was expected. Please change the shape of y to (n_samples, ), for example using ravel().\n",
      "  y = column_or_1d(y, warn=True)\n",
      "/home/hpc/iwb3/iwb3021h/.local/lib/python3.12/site-packages/sklearn/utils/validation.py:1300: DataConversionWarning: A column-vector y was passed when a 1d array was expected. Please change the shape of y to (n_samples, ), for example using ravel().\n",
      "  y = column_or_1d(y, warn=True)\n",
      "/home/hpc/iwb3/iwb3021h/.local/lib/python3.12/site-packages/sklearn/utils/validation.py:1300: DataConversionWarning: A column-vector y was passed when a 1d array was expected. Please change the shape of y to (n_samples, ), for example using ravel().\n",
      "  y = column_or_1d(y, warn=True)\n",
      "/home/hpc/iwb3/iwb3021h/.local/lib/python3.12/site-packages/sklearn/utils/validation.py:1300: DataConversionWarning: A column-vector y was passed when a 1d array was expected. Please change the shape of y to (n_samples, ), for example using ravel().\n",
      "  y = column_or_1d(y, warn=True)\n"
     ]
    }
   ],
   "source": [
    "# Train a Support Vector Regressor\n",
    "svr = SVR()\n",
    "param_grid = {\n",
    "    'C': [0.1, 1, 10],\n",
    "    'epsilon': [0.01, 0.1, 1],\n",
    "    'kernel': ['linear', 'poly', 'rbf']\n",
    "}\n",
    "param_grid = {\n",
    "    'C': [0.1],\n",
    "    'epsilon': [0.01],\n",
    "    'kernel': [ 'poly']\n",
    "}\n",
    "grid_search = GridSearchCV(svr, param_grid, cv=5, scoring='neg_mean_squared_error')\n",
    "grid_search.fit(X_train, y_train)\n",
    "\n",
    "# Predict and evaluate\n",
    "best_svr = grid_search.best_estimator_\n",
    "y_pred_svr = best_svr.predict(X_test)\n",
    "rmse_svr = np.sqrt(mean_squared_error(y_test, y_pred_svr))\n",
    "print(f'Support Vector Regressor RMSE: {rmse_svr}')\n"
   ]
  },
  {
   "cell_type": "code",
   "execution_count": 9,
   "id": "a7ae401e-128c-4e82-8962-9ae3d1f0e718",
   "metadata": {
    "tags": []
   },
   "outputs": [
    {
     "name": "stdout",
     "output_type": "stream",
     "text": [
      "RandomForestRegressor RMSE: 42.694856840907796\n"
     ]
    }
   ],
   "source": [
    "y_pred_rf = best_svr.predict(X_test_new)\n",
    "rmse_rf = np.sqrt(mean_squared_error(y_test_new, y_pred_rf))\n",
    "print(f'RandomForestRegressor RMSE: {rmse_rf}')"
   ]
  },
  {
   "cell_type": "code",
   "execution_count": null,
   "id": "ab6473ac-a8a8-4b5e-9c64-f0da58a150aa",
   "metadata": {
    "tags": []
   },
   "outputs": [],
   "source": [
    "print(\"yes\")"
   ]
  },
  {
   "cell_type": "code",
   "execution_count": 24,
   "id": "163af759-c215-4000-b48b-aaa79ba2be23",
   "metadata": {
    "tags": []
   },
   "outputs": [
    {
     "name": "stderr",
     "output_type": "stream",
     "text": [
      "/home/hpc/iwb3/iwb3021h/.local/lib/python3.12/site-packages/sklearn/ensemble/_gb.py:668: DataConversionWarning: A column-vector y was passed when a 1d array was expected. Please change the shape of y to (n_samples, ), for example using ravel().\n",
      "  y = column_or_1d(y, warn=True)  # TODO: Is this still required?\n"
     ]
    },
    {
     "name": "stdout",
     "output_type": "stream",
     "text": [
      "GradientBoostingRegressor RMSE: 1.3756102173972162\n"
     ]
    }
   ],
   "source": [
    "# Install scikit-learn if not already installed\n",
    "#%pip install -q scikit-learn\n",
    "\n",
    "from sklearn.ensemble import GradientBoostingRegressor\n",
    "from sklearn.metrics import mean_squared_error\n",
    "import numpy as np\n",
    "\n",
    "# Assuming X_train, X_test, y_train, y_test are already defined\n",
    "\n",
    "# Initialize and fit the GradientBoostingRegressor\n",
    "gb_regressor = GradientBoostingRegressor(n_estimators=100, learning_rate=0.1, max_depth=1, random_state=42)\n",
    "gb_regressor.fit(X_train, y_train)\n",
    "\n",
    "# Predict on the test set\n",
    "y_pred_gb = gb_regressor.predict(X_test)\n",
    "\n",
    "# Calculate RMSE\n",
    "rmse_gb = np.sqrt(mean_squared_error(y_test, y_pred_gb))\n",
    "print(f'GradientBoostingRegressor RMSE: {rmse_gb}')\n"
   ]
  },
  {
   "cell_type": "code",
   "execution_count": 25,
   "id": "8ec76de1-d337-4a9d-98ae-9d55ede0cfb6",
   "metadata": {
    "tags": []
   },
   "outputs": [
    {
     "name": "stdout",
     "output_type": "stream",
     "text": [
      "RandomForestRegressor RMSE: 14.966455878098962\n"
     ]
    }
   ],
   "source": [
    "y_pred_rf = gb_regressor.predict(X_test_new)\n",
    "rmse_rf = np.sqrt(mean_squared_error(y_test_new, y_pred_rf))\n",
    "print(f'GradientBoostingRegressor RMSE: {rmse_rf}')"
   ]
  },
  {
   "cell_type": "code",
   "execution_count": 22,
   "id": "e46f1278-28ff-4473-88f0-8ff8a0451f78",
   "metadata": {},
   "outputs": [
    {
     "data": {
      "text/plain": [
       "array([56.32557 , 56.43364 , 56.237415, 56.43364 , 56.32557 , 56.43364 ,\n",
       "       56.43364 , 56.43364 , 56.43364 , 56.43364 , 56.516373, 56.516373,\n",
       "       56.43364 , 56.43364 , 56.516373, 56.32557 , 56.32557 , 56.516373,\n",
       "       56.516373, 56.32557 ], dtype=float32)"
      ]
     },
     "execution_count": 22,
     "metadata": {},
     "output_type": "execute_result"
    }
   ],
   "source": [
    "y_pred_rf"
   ]
  },
  {
   "cell_type": "code",
   "execution_count": 26,
   "id": "bb55fd58-7d22-4640-a3fc-3bbf85abd711",
   "metadata": {
    "tags": []
   },
   "outputs": [
    {
     "data": {
      "text/html": [
       "<div>\n",
       "<style scoped>\n",
       "    .dataframe tbody tr th:only-of-type {\n",
       "        vertical-align: middle;\n",
       "    }\n",
       "\n",
       "    .dataframe tbody tr th {\n",
       "        vertical-align: top;\n",
       "    }\n",
       "\n",
       "    .dataframe thead th {\n",
       "        text-align: right;\n",
       "    }\n",
       "</style>\n",
       "<table border=\"1\" class=\"dataframe\">\n",
       "  <thead>\n",
       "    <tr style=\"text-align: right;\">\n",
       "      <th></th>\n",
       "      <th>pred_acc</th>\n",
       "    </tr>\n",
       "  </thead>\n",
       "  <tbody>\n",
       "    <tr>\n",
       "      <th>10</th>\n",
       "      <td>56.672900</td>\n",
       "    </tr>\n",
       "    <tr>\n",
       "      <th>18</th>\n",
       "      <td>56.672900</td>\n",
       "    </tr>\n",
       "    <tr>\n",
       "      <th>17</th>\n",
       "      <td>56.672900</td>\n",
       "    </tr>\n",
       "    <tr>\n",
       "      <th>11</th>\n",
       "      <td>56.672900</td>\n",
       "    </tr>\n",
       "    <tr>\n",
       "      <th>14</th>\n",
       "      <td>56.672900</td>\n",
       "    </tr>\n",
       "    <tr>\n",
       "      <th>3</th>\n",
       "      <td>56.594088</td>\n",
       "    </tr>\n",
       "    <tr>\n",
       "      <th>6</th>\n",
       "      <td>56.594088</td>\n",
       "    </tr>\n",
       "    <tr>\n",
       "      <th>7</th>\n",
       "      <td>56.594088</td>\n",
       "    </tr>\n",
       "    <tr>\n",
       "      <th>8</th>\n",
       "      <td>56.594088</td>\n",
       "    </tr>\n",
       "    <tr>\n",
       "      <th>9</th>\n",
       "      <td>56.594088</td>\n",
       "    </tr>\n",
       "    <tr>\n",
       "      <th>1</th>\n",
       "      <td>56.594088</td>\n",
       "    </tr>\n",
       "    <tr>\n",
       "      <th>12</th>\n",
       "      <td>56.594088</td>\n",
       "    </tr>\n",
       "    <tr>\n",
       "      <th>13</th>\n",
       "      <td>56.594088</td>\n",
       "    </tr>\n",
       "    <tr>\n",
       "      <th>2</th>\n",
       "      <td>56.392725</td>\n",
       "    </tr>\n",
       "    <tr>\n",
       "      <th>16</th>\n",
       "      <td>56.312241</td>\n",
       "    </tr>\n",
       "    <tr>\n",
       "      <th>0</th>\n",
       "      <td>56.312241</td>\n",
       "    </tr>\n",
       "    <tr>\n",
       "      <th>15</th>\n",
       "      <td>56.312241</td>\n",
       "    </tr>\n",
       "    <tr>\n",
       "      <th>5</th>\n",
       "      <td>56.312241</td>\n",
       "    </tr>\n",
       "    <tr>\n",
       "      <th>4</th>\n",
       "      <td>56.312241</td>\n",
       "    </tr>\n",
       "    <tr>\n",
       "      <th>19</th>\n",
       "      <td>56.312241</td>\n",
       "    </tr>\n",
       "  </tbody>\n",
       "</table>\n",
       "</div>"
      ],
      "text/plain": [
       "     pred_acc\n",
       "10  56.672900\n",
       "18  56.672900\n",
       "17  56.672900\n",
       "11  56.672900\n",
       "14  56.672900\n",
       "3   56.594088\n",
       "6   56.594088\n",
       "7   56.594088\n",
       "8   56.594088\n",
       "9   56.594088\n",
       "1   56.594088\n",
       "12  56.594088\n",
       "13  56.594088\n",
       "2   56.392725\n",
       "16  56.312241\n",
       "0   56.312241\n",
       "15  56.312241\n",
       "5   56.312241\n",
       "4   56.312241\n",
       "19  56.312241"
      ]
     },
     "execution_count": 26,
     "metadata": {},
     "output_type": "execute_result"
    }
   ],
   "source": [
    "pd.DataFrame(y_pred_rf, columns=[\"pred_acc\"]).sort_values(\"pred_acc\", ascending=False)"
   ]
  },
  {
   "cell_type": "code",
   "execution_count": 288,
   "id": "27a11195-5a26-488e-a341-ac635d52b571",
   "metadata": {
    "tags": []
   },
   "outputs": [],
   "source": [
    "import numpy as np"
   ]
  },
  {
   "cell_type": "code",
   "execution_count": 289,
   "id": "fd00e878-4532-4c96-81a7-479582c31029",
   "metadata": {
    "tags": []
   },
   "outputs": [
    {
     "data": {
      "text/plain": [
       "array([[ 1.        , -0.04096569],\n",
       "       [-0.04096569,  1.        ]])"
      ]
     },
     "execution_count": 289,
     "metadata": {},
     "output_type": "execute_result"
    }
   ],
   "source": [
    "np.corrcoef(y_pred_rf[:],y_test_new.values[:].reshape(-1))"
   ]
  },
  {
   "cell_type": "code",
   "execution_count": 212,
   "id": "b242751a-9f82-4781-9513-0a37dc5d7f20",
   "metadata": {
    "tags": []
   },
   "outputs": [
    {
     "data": {
      "text/plain": [
       "array([[1.        , 0.83109927],\n",
       "       [0.83109927, 1.        ]])"
      ]
     },
     "execution_count": 212,
     "metadata": {},
     "output_type": "execute_result"
    }
   ],
   "source": [
    "np.corrcoef(X_test_new[\"epoch_7\"].values.reshape(-1)[:],y_test_new.values.reshape(-1)[:])"
   ]
  },
  {
   "cell_type": "markdown",
   "id": "61086410-eed7-49b8-8f17-186b519f9af5",
   "metadata": {},
   "source": [
    "# Ranking classifier"
   ]
  },
  {
   "cell_type": "code",
   "execution_count": 39,
   "id": "52d18fa8-3246-4f73-9601-68f47591d1d5",
   "metadata": {
    "tags": []
   },
   "outputs": [],
   "source": [
    "import pandas as pd\n",
    "from itertools import combinations\n"
   ]
  },
  {
   "cell_type": "code",
   "execution_count": 40,
   "id": "c36fa539-a13c-4641-892f-baf45de83599",
   "metadata": {
    "tags": []
   },
   "outputs": [],
   "source": [
    "total_data=[]\n",
    "\n",
    "for benchmark_score in train_data['benchmark'].unique():\n",
    "    filtered_df = train_data[(train_data['benchmark'] == benchmark_score)].reset_index(drop=True)\n",
    "    pairs = list(combinations(filtered_df.index, 2))\n",
    "    combined_data = []\n",
    "\n",
    "    for idx1, idx2 in pairs:\n",
    "        row1 = filtered_df.loc[idx1]\n",
    "        row2 = filtered_df.loc[idx2]\n",
    "        combined_row = {\n",
    "            'name_A': row1['name'],\n",
    "            'name_B': row2['name'],\n",
    "            'epoch_1_A': row1['epoch_1'],\n",
    "            'epoch_2_A': row1['epoch_2'],\n",
    "            'epoch_3_A': row1['epoch_3'],\n",
    "            'epoch_4_A': row1['epoch_4'],\n",
    "            'epoch_5_A': row1['epoch_5'],\n",
    "            'epoch_6_A': row1['epoch_6'],\n",
    "                        'epoch_7_A': row1['epoch_7'],\n",
    "                       'epoch_8_A': row1['epoch_8'],\n",
    "                       'epoch_9_A': row1['epoch_9'],\n",
    "                       'epoch_10_A': row1['epoch_10'],\n",
    "            'num_stages_A': row1['num_stages'],\n",
    "            'params_A': row1['params'],\n",
    "            'WA_A': row1['WA'],\n",
    "            'W0_A': row1['W0'],\n",
    "            'WM_A': row1['WM'],\n",
    "            'DEPTH_A': row1['DEPTH'],\n",
    "            \"gen_A\":row1[\"gen\"],\n",
    "            'best_acc_A': row1['best_acc'],\n",
    "            'epoch_1_B': row2['epoch_1'],\n",
    "            'epoch_2_B': row2['epoch_2'],\n",
    "            'epoch_3_B': row2['epoch_3'],\n",
    "            'epoch_4_B': row2['epoch_4'],\n",
    "            'epoch_5_B': row2['epoch_5'],\n",
    "            'epoch_6_B': row2['epoch_6'],\n",
    "            'epoch_7_B': row2['epoch_7'],\n",
    "                       'epoch_8_B': row2['epoch_8'],\n",
    "                       'epoch_9_B': row2['epoch_9'],\n",
    "                       'epoch_10_B': row2['epoch_10'],\n",
    "            'num_stages_B': row2['num_stages'],\n",
    "            'params_B': row2['params'],\n",
    "            'WA_B': row2['WA'],\n",
    "            'W0_B': row2['W0'],\n",
    "            'WM_B': row2['WM'],\n",
    "            'DEPTH_B': row2['DEPTH'],\n",
    "            \"gen_B\":row2[\"gen\"],\n",
    "            'best_acc_B': row2['best_acc'],\n",
    "            'label': 1 if row1['best_acc'] > row2['best_acc'] else 0\n",
    "        }\n",
    "\n",
    "        combined_data.append(combined_row)\n",
    "\n",
    "    combined_df = pd.DataFrame(combined_data)\n",
    "    combined_df[\"benchmark\"]=benchmark_score\n",
    "    combined_df[\"num_classes\"]=filtered_df[\"num_classes\"].unique()[0]\n",
    "    \n",
    "    total_data.append(combined_df)\n",
    "total_data=pd.concat(total_data)\n"
   ]
  },
  {
   "cell_type": "code",
   "execution_count": 41,
   "id": "c986a431-25a1-4422-a373-0f21d1143c97",
   "metadata": {
    "tags": []
   },
   "outputs": [],
   "source": [
    "total_data_test=[]\n",
    "\n",
    "for benchmark_score in test_data['benchmark'].unique():\n",
    "    filtered_df = test_data[(test_data['benchmark'] == benchmark_score)].reset_index(drop=True)\n",
    "    pairs = list(combinations(filtered_df.index, 2))\n",
    "\n",
    "    combined_data = []\n",
    "\n",
    "    for idx1, idx2 in pairs:\n",
    "        row1 = filtered_df.loc[idx1]\n",
    "        row2 = filtered_df.loc[idx2]\n",
    "        combined_row = {\n",
    "            'name_A': row1['name'],\n",
    "            'name_B': row2['name'],\n",
    "            'epoch_1_A': row1['epoch_1'],\n",
    "            'epoch_2_A': row1['epoch_2'],\n",
    "            'epoch_3_A': row1['epoch_3'],\n",
    "            'epoch_4_A': row1['epoch_4'],\n",
    "            'epoch_5_A': row1['epoch_5'],\n",
    "            'epoch_6_A': row1['epoch_6'],\n",
    "                       'epoch_7_A': row1['epoch_7'],\n",
    "                       'epoch_8_A': row1['epoch_8'],\n",
    "                       'epoch_9_A': row1['epoch_9'],\n",
    "                       'epoch_10_A': row1['epoch_10'],\n",
    "            'num_stages_A': row1['num_stages'],\n",
    "            'params_A': row1['params'],\n",
    "            'WA_A': row1['WA'],\n",
    "            'W0_A': row1['W0'],\n",
    "            'WM_A': row1['WM'],\n",
    "            'DEPTH_A': row1['DEPTH'],\n",
    "            'gen_A': row1['gen'],\n",
    "            'best_acc_A': row1['best_acc'],\n",
    "            'epoch_1_B': row2['epoch_1'],\n",
    "            'epoch_2_B': row2['epoch_2'],\n",
    "            'epoch_3_B': row2['epoch_3'],\n",
    "            'epoch_4_B': row2['epoch_4'],\n",
    "            'epoch_5_B': row2['epoch_5'],\n",
    "            'epoch_6_B': row2['epoch_6'],\n",
    "                       'epoch_7_B': row2['epoch_7'],\n",
    "                       'epoch_8_B': row2['epoch_8'],\n",
    "                       'epoch_9_B': row2['epoch_9'],\n",
    "                       'epoch_10_B': row2['epoch_10'],\n",
    "            'num_stages_B': row2['num_stages'],\n",
    "            'params_B': row2['params'],\n",
    "            'WA_B': row2['WA'],\n",
    "            'W0_B': row2['W0'],\n",
    "            'WM_B': row2['WM'],\n",
    "            'DEPTH_B': row2['DEPTH'],\n",
    "            'gen_B': row2['gen'],\n",
    "            'best_acc_B': row2['best_acc'],\n",
    "            'label': 1 if row1['best_acc'] > row2['best_acc'] else 0\n",
    "        }\n",
    "\n",
    "        combined_data.append(combined_row)\n",
    "\n",
    "    combined_df = pd.DataFrame(combined_data)\n",
    "    combined_df[\"benchmark\"]=benchmark_score\n",
    "    combined_df[\"num_classes\"]=filtered_df[\"num_classes\"].unique()[0]\n",
    "    \n",
    "    total_data_test.append(combined_df)\n",
    "total_data_test=pd.concat(total_data_test)\n"
   ]
  },
  {
   "cell_type": "code",
   "execution_count": 42,
   "id": "c4fe433d-7b2c-4b22-af1a-26666bd48e30",
   "metadata": {
    "tags": []
   },
   "outputs": [
    {
     "data": {
      "text/plain": [
       "num_classes\n",
       "10    14280\n",
       "4      7140\n",
       "20     7140\n",
       "3      7140\n",
       "Name: count, dtype: int64"
      ]
     },
     "execution_count": 42,
     "metadata": {},
     "output_type": "execute_result"
    }
   ],
   "source": [
    "total_data.num_classes.value_counts()"
   ]
  },
  {
   "cell_type": "code",
   "execution_count": 150,
   "id": "b19026a6-cb96-4cc1-93c0-7045cbb95518",
   "metadata": {
    "tags": []
   },
   "outputs": [],
   "source": [
    "cols_train=[ 'epoch_1_A', 'epoch_2_A', 'epoch_3_A', 'epoch_4_A', 'epoch_5_A', 'epoch_6_A', 'epoch_7_A',\n",
    "            'epoch_8_A','epoch_9_A','epoch_10_A',\n",
    "        'num_stages_A', 'params_A', 'WA_A', 'W0_A',\n",
    "       'WM_A', 'DEPTH_A',\n",
    "        'num_stages_B', 'params_B', 'WA_B', 'W0_B', 'epoch_4_B', 'epoch_5_B', 'epoch_6_B', 'epoch_7_B',\n",
    "        'epoch_8_B','epoch_9_B','epoch_10_B',\n",
    "       'WM_B', 'DEPTH_B', 'num_classes', 'benchmark']\n",
    "cols_train=[ \n",
    "        'num_stages_A', 'params_A', 'WA_A', 'W0_A', \n",
    "       'WM_A', 'DEPTH_A', \n",
    "        'num_stages_B', 'params_B', 'WA_B', 'W0_B',\n",
    "       'WM_B', 'DEPTH_B',\"num_classes\", \"benchmark\"]\n",
    "#cols_train=[ 'epoch_1', 'epoch_2', 'epoch_3', 'epoch_4', 'epoch_5', 'epoch_6', 'epoch_7','num_stages', 'params', 'WA', 'W0',\n",
    "#       'WM', 'DEPTH', 'num_classes', 'benchmark']\n",
    "#cols_train=[ 'epoch_1', 'epoch_2','epoch_3', 'epoch_4','num_stages', 'params', 'WA', 'W0',\n",
    "#       'WM', 'DEPTH', 'num_classes', 'benchmark']\n",
    "\n",
    "cols_test=[\"label\"]\n",
    "X=total_data[cols_train]\n",
    "y=total_data[cols_test]\n",
    "gens=[2]\n",
    "X_test_new=total_data_test[(total_data_test[\"gen_B\"].isin(gens)) & (total_data_test[\"gen_A\"].isin(gens))][cols_train]\n",
    "\n",
    "y_test_new=total_data_test[(total_data_test[\"gen_B\"].isin(gens)) & (total_data_test[\"gen_A\"].isin(gens))][cols_test]"
   ]
  },
  {
   "cell_type": "code",
   "execution_count": null,
   "id": "33c20c83-1d1c-4329-a283-1ef6095fc496",
   "metadata": {},
   "outputs": [],
   "source": []
  },
  {
   "cell_type": "code",
   "execution_count": 147,
   "id": "7305451d-7118-4190-ae2a-ee7ad0c989db",
   "metadata": {
    "tags": []
   },
   "outputs": [
    {
     "ename": "KeyError",
     "evalue": "'epoch_10_B'",
     "output_type": "error",
     "traceback": [
      "\u001b[0;31m---------------------------------------------------------------------------\u001b[0m",
      "\u001b[0;31mKeyError\u001b[0m                                  Traceback (most recent call last)",
      "File \u001b[0;32m~/.local/lib/python3.12/site-packages/pandas/core/indexes/base.py:3805\u001b[0m, in \u001b[0;36mIndex.get_loc\u001b[0;34m(self, key)\u001b[0m\n\u001b[1;32m   3804\u001b[0m \u001b[38;5;28;01mtry\u001b[39;00m:\n\u001b[0;32m-> 3805\u001b[0m     \u001b[38;5;28;01mreturn\u001b[39;00m \u001b[38;5;28;43mself\u001b[39;49m\u001b[38;5;241;43m.\u001b[39;49m\u001b[43m_engine\u001b[49m\u001b[38;5;241;43m.\u001b[39;49m\u001b[43mget_loc\u001b[49m\u001b[43m(\u001b[49m\u001b[43mcasted_key\u001b[49m\u001b[43m)\u001b[49m\n\u001b[1;32m   3806\u001b[0m \u001b[38;5;28;01mexcept\u001b[39;00m \u001b[38;5;167;01mKeyError\u001b[39;00m \u001b[38;5;28;01mas\u001b[39;00m err:\n",
      "File \u001b[0;32mindex.pyx:167\u001b[0m, in \u001b[0;36mpandas._libs.index.IndexEngine.get_loc\u001b[0;34m()\u001b[0m\n",
      "File \u001b[0;32mindex.pyx:196\u001b[0m, in \u001b[0;36mpandas._libs.index.IndexEngine.get_loc\u001b[0;34m()\u001b[0m\n",
      "File \u001b[0;32mpandas/_libs/hashtable_class_helper.pxi:7081\u001b[0m, in \u001b[0;36mpandas._libs.hashtable.PyObjectHashTable.get_item\u001b[0;34m()\u001b[0m\n",
      "File \u001b[0;32mpandas/_libs/hashtable_class_helper.pxi:7089\u001b[0m, in \u001b[0;36mpandas._libs.hashtable.PyObjectHashTable.get_item\u001b[0;34m()\u001b[0m\n",
      "\u001b[0;31mKeyError\u001b[0m: 'epoch_10_B'",
      "\nThe above exception was the direct cause of the following exception:\n",
      "\u001b[0;31mKeyError\u001b[0m                                  Traceback (most recent call last)",
      "Cell \u001b[0;32mIn[147], line 2\u001b[0m\n\u001b[1;32m      1\u001b[0m \u001b[38;5;28;01mfrom\u001b[39;00m \u001b[38;5;21;01msklearn\u001b[39;00m\u001b[38;5;21;01m.\u001b[39;00m\u001b[38;5;21;01mmetrics\u001b[39;00m \u001b[38;5;28;01mimport\u001b[39;00m accuracy_score, classification_report, confusion_matrix\n\u001b[0;32m----> 2\u001b[0m y_epoch_10_pred\u001b[38;5;241m=\u001b[39m (X_test_new[\u001b[38;5;124m'\u001b[39m\u001b[38;5;124mepoch_10_A\u001b[39m\u001b[38;5;124m'\u001b[39m] \u001b[38;5;241m>\u001b[39m \u001b[43mX_test_new\u001b[49m\u001b[43m[\u001b[49m\u001b[38;5;124;43m'\u001b[39;49m\u001b[38;5;124;43mepoch_10_B\u001b[39;49m\u001b[38;5;124;43m'\u001b[39;49m\u001b[43m]\u001b[49m)\u001b[38;5;241m.\u001b[39mastype(\u001b[38;5;28mint\u001b[39m)\u001b[38;5;241m.\u001b[39mvalues\n\u001b[1;32m      3\u001b[0m \u001b[38;5;66;03m#y_epoch_10_pred=np.repeat(0,len(y_test_new))\u001b[39;00m\n\u001b[1;32m      4\u001b[0m \u001b[38;5;66;03m# Calculate accuracy\u001b[39;00m\n\u001b[1;32m      5\u001b[0m accuracy \u001b[38;5;241m=\u001b[39m accuracy_score(y_test_new, y_epoch_10_pred)\n",
      "File \u001b[0;32m~/.local/lib/python3.12/site-packages/pandas/core/frame.py:4102\u001b[0m, in \u001b[0;36mDataFrame.__getitem__\u001b[0;34m(self, key)\u001b[0m\n\u001b[1;32m   4100\u001b[0m \u001b[38;5;28;01mif\u001b[39;00m \u001b[38;5;28mself\u001b[39m\u001b[38;5;241m.\u001b[39mcolumns\u001b[38;5;241m.\u001b[39mnlevels \u001b[38;5;241m>\u001b[39m \u001b[38;5;241m1\u001b[39m:\n\u001b[1;32m   4101\u001b[0m     \u001b[38;5;28;01mreturn\u001b[39;00m \u001b[38;5;28mself\u001b[39m\u001b[38;5;241m.\u001b[39m_getitem_multilevel(key)\n\u001b[0;32m-> 4102\u001b[0m indexer \u001b[38;5;241m=\u001b[39m \u001b[38;5;28;43mself\u001b[39;49m\u001b[38;5;241;43m.\u001b[39;49m\u001b[43mcolumns\u001b[49m\u001b[38;5;241;43m.\u001b[39;49m\u001b[43mget_loc\u001b[49m\u001b[43m(\u001b[49m\u001b[43mkey\u001b[49m\u001b[43m)\u001b[49m\n\u001b[1;32m   4103\u001b[0m \u001b[38;5;28;01mif\u001b[39;00m is_integer(indexer):\n\u001b[1;32m   4104\u001b[0m     indexer \u001b[38;5;241m=\u001b[39m [indexer]\n",
      "File \u001b[0;32m~/.local/lib/python3.12/site-packages/pandas/core/indexes/base.py:3812\u001b[0m, in \u001b[0;36mIndex.get_loc\u001b[0;34m(self, key)\u001b[0m\n\u001b[1;32m   3807\u001b[0m     \u001b[38;5;28;01mif\u001b[39;00m \u001b[38;5;28misinstance\u001b[39m(casted_key, \u001b[38;5;28mslice\u001b[39m) \u001b[38;5;129;01mor\u001b[39;00m (\n\u001b[1;32m   3808\u001b[0m         \u001b[38;5;28misinstance\u001b[39m(casted_key, abc\u001b[38;5;241m.\u001b[39mIterable)\n\u001b[1;32m   3809\u001b[0m         \u001b[38;5;129;01mand\u001b[39;00m \u001b[38;5;28many\u001b[39m(\u001b[38;5;28misinstance\u001b[39m(x, \u001b[38;5;28mslice\u001b[39m) \u001b[38;5;28;01mfor\u001b[39;00m x \u001b[38;5;129;01min\u001b[39;00m casted_key)\n\u001b[1;32m   3810\u001b[0m     ):\n\u001b[1;32m   3811\u001b[0m         \u001b[38;5;28;01mraise\u001b[39;00m InvalidIndexError(key)\n\u001b[0;32m-> 3812\u001b[0m     \u001b[38;5;28;01mraise\u001b[39;00m \u001b[38;5;167;01mKeyError\u001b[39;00m(key) \u001b[38;5;28;01mfrom\u001b[39;00m \u001b[38;5;21;01merr\u001b[39;00m\n\u001b[1;32m   3813\u001b[0m \u001b[38;5;28;01mexcept\u001b[39;00m \u001b[38;5;167;01mTypeError\u001b[39;00m:\n\u001b[1;32m   3814\u001b[0m     \u001b[38;5;66;03m# If we have a listlike key, _check_indexing_error will raise\u001b[39;00m\n\u001b[1;32m   3815\u001b[0m     \u001b[38;5;66;03m#  InvalidIndexError. Otherwise we fall through and re-raise\u001b[39;00m\n\u001b[1;32m   3816\u001b[0m     \u001b[38;5;66;03m#  the TypeError.\u001b[39;00m\n\u001b[1;32m   3817\u001b[0m     \u001b[38;5;28mself\u001b[39m\u001b[38;5;241m.\u001b[39m_check_indexing_error(key)\n",
      "\u001b[0;31mKeyError\u001b[0m: 'epoch_10_B'"
     ]
    }
   ],
   "source": [
    "from sklearn.metrics import accuracy_score, classification_report, confusion_matrix\n",
    "y_epoch_10_pred= (X_test_new['epoch_10_A'] > X_test_new['epoch_10_B']).astype(int).values\n",
    "#y_epoch_10_pred=np.repeat(0,len(y_test_new))\n",
    "# Calculate accuracy\n",
    "accuracy = accuracy_score(y_test_new, y_epoch_10_pred)\n",
    "print(f\"Accuracy: {accuracy}\")\n",
    "\n",
    "# Detailed classification report\n",
    "print(\"Classification Report:\")\n",
    "print(classification_report(y_test_new, y_epoch_10_pred))\n",
    "\n",
    "# Confusion matrix\n",
    "print(\"Confusion Matrix:\")\n",
    "print(confusion_matrix(y_test_new, y_epoch_10_pred))"
   ]
  },
  {
   "cell_type": "code",
   "execution_count": 128,
   "id": "0230145c-d5fe-4ce5-a5e1-2760622c7cbb",
   "metadata": {
    "tags": []
   },
   "outputs": [
    {
     "data": {
      "text/plain": [
       "190"
      ]
     },
     "execution_count": 128,
     "metadata": {},
     "output_type": "execute_result"
    }
   ],
   "source": [
    "len(y_epoch_10_pred)"
   ]
  },
  {
   "cell_type": "code",
   "execution_count": 149,
   "id": "846c10ef-8d4b-41cc-9baa-6028d3ba221f",
   "metadata": {
    "tags": []
   },
   "outputs": [],
   "source": [
    "ranking_test_df=total_data_test[(total_data_test[\"gen_B\"].isin(gens)) & (total_data_test[\"gen_A\"].isin(gens))][[\"name_A\",\"name_B\", \"label\", \"gen_A\",\"gen_B\"]]\n",
    "ranking_test_df[\"pred_10_epochs\"]=y_epoch_10_pred\n"
   ]
  },
  {
   "cell_type": "code",
   "execution_count": 163,
   "id": "95c12974-14ff-44fe-9ae1-b0e541cf2dce",
   "metadata": {
    "tags": []
   },
   "outputs": [],
   "source": [
    "ranking_test_df[\"y_pred\"]=y_pred"
   ]
  },
  {
   "cell_type": "code",
   "execution_count": 54,
   "id": "b8a22cf6-5f47-4b7b-a472-2abe7b8185b4",
   "metadata": {
    "tags": []
   },
   "outputs": [
    {
     "data": {
      "text/html": [
       "<div>\n",
       "<style scoped>\n",
       "    .dataframe tbody tr th:only-of-type {\n",
       "        vertical-align: middle;\n",
       "    }\n",
       "\n",
       "    .dataframe tbody tr th {\n",
       "        vertical-align: top;\n",
       "    }\n",
       "\n",
       "    .dataframe thead th {\n",
       "        text-align: right;\n",
       "    }\n",
       "</style>\n",
       "<table border=\"1\" class=\"dataframe\">\n",
       "  <thead>\n",
       "    <tr style=\"text-align: right;\">\n",
       "      <th></th>\n",
       "      <th>name</th>\n",
       "      <th>best_acc</th>\n",
       "    </tr>\n",
       "  </thead>\n",
       "  <tbody>\n",
       "    <tr>\n",
       "      <th>0</th>\n",
       "      <td>demonic_pheasant</td>\n",
       "      <td>42.88</td>\n",
       "    </tr>\n",
       "    <tr>\n",
       "      <th>0</th>\n",
       "      <td>amaranth_python</td>\n",
       "      <td>42.50</td>\n",
       "    </tr>\n",
       "    <tr>\n",
       "      <th>0</th>\n",
       "      <td>dandelion_turkey</td>\n",
       "      <td>42.41</td>\n",
       "    </tr>\n",
       "    <tr>\n",
       "      <th>0</th>\n",
       "      <td>spectral_dolphin</td>\n",
       "      <td>42.37</td>\n",
       "    </tr>\n",
       "    <tr>\n",
       "      <th>0</th>\n",
       "      <td>wakeful_rottweiler</td>\n",
       "      <td>42.33</td>\n",
       "    </tr>\n",
       "    <tr>\n",
       "      <th>0</th>\n",
       "      <td>cherry_nightingale</td>\n",
       "      <td>42.23</td>\n",
       "    </tr>\n",
       "    <tr>\n",
       "      <th>0</th>\n",
       "      <td>masterful_gecko</td>\n",
       "      <td>42.19</td>\n",
       "    </tr>\n",
       "    <tr>\n",
       "      <th>0</th>\n",
       "      <td>thundering_mastodon</td>\n",
       "      <td>41.90</td>\n",
       "    </tr>\n",
       "    <tr>\n",
       "      <th>0</th>\n",
       "      <td>careful_degu</td>\n",
       "      <td>41.83</td>\n",
       "    </tr>\n",
       "    <tr>\n",
       "      <th>0</th>\n",
       "      <td>tidy_newt</td>\n",
       "      <td>41.81</td>\n",
       "    </tr>\n",
       "    <tr>\n",
       "      <th>0</th>\n",
       "      <td>daring_crayfish</td>\n",
       "      <td>41.79</td>\n",
       "    </tr>\n",
       "    <tr>\n",
       "      <th>0</th>\n",
       "      <td>vegan_gaur</td>\n",
       "      <td>41.75</td>\n",
       "    </tr>\n",
       "    <tr>\n",
       "      <th>0</th>\n",
       "      <td>imaginary_crocodile</td>\n",
       "      <td>41.47</td>\n",
       "    </tr>\n",
       "    <tr>\n",
       "      <th>0</th>\n",
       "      <td>orchid_mink</td>\n",
       "      <td>41.45</td>\n",
       "    </tr>\n",
       "    <tr>\n",
       "      <th>0</th>\n",
       "      <td>resourceful_okapi</td>\n",
       "      <td>41.45</td>\n",
       "    </tr>\n",
       "    <tr>\n",
       "      <th>0</th>\n",
       "      <td>kind_silkworm</td>\n",
       "      <td>41.25</td>\n",
       "    </tr>\n",
       "    <tr>\n",
       "      <th>0</th>\n",
       "      <td>space_python</td>\n",
       "      <td>41.15</td>\n",
       "    </tr>\n",
       "    <tr>\n",
       "      <th>0</th>\n",
       "      <td>angelic_kittiwake</td>\n",
       "      <td>41.03</td>\n",
       "    </tr>\n",
       "    <tr>\n",
       "      <th>0</th>\n",
       "      <td>ambitious_urchin</td>\n",
       "      <td>40.91</td>\n",
       "    </tr>\n",
       "    <tr>\n",
       "      <th>0</th>\n",
       "      <td>amorphous_catfish</td>\n",
       "      <td>37.23</td>\n",
       "    </tr>\n",
       "  </tbody>\n",
       "</table>\n",
       "</div>"
      ],
      "text/plain": [
       "                  name  best_acc\n",
       "0     demonic_pheasant     42.88\n",
       "0      amaranth_python     42.50\n",
       "0     dandelion_turkey     42.41\n",
       "0     spectral_dolphin     42.37\n",
       "0   wakeful_rottweiler     42.33\n",
       "0   cherry_nightingale     42.23\n",
       "0      masterful_gecko     42.19\n",
       "0  thundering_mastodon     41.90\n",
       "0         careful_degu     41.83\n",
       "0            tidy_newt     41.81\n",
       "0      daring_crayfish     41.79\n",
       "0           vegan_gaur     41.75\n",
       "0  imaginary_crocodile     41.47\n",
       "0          orchid_mink     41.45\n",
       "0    resourceful_okapi     41.45\n",
       "0        kind_silkworm     41.25\n",
       "0         space_python     41.15\n",
       "0    angelic_kittiwake     41.03\n",
       "0     ambitious_urchin     40.91\n",
       "0    amorphous_catfish     37.23"
      ]
     },
     "execution_count": 54,
     "metadata": {},
     "output_type": "execute_result"
    }
   ],
   "source": [
    "test_data[test_data.gen==1].sort_values(\"best_acc\", ascending=False)[[\"name\",\"best_acc\"]]"
   ]
  },
  {
   "cell_type": "code",
   "execution_count": 164,
   "id": "a3cdb3f1-2d25-4e4d-91e6-48a2ae2a8c38",
   "metadata": {
    "tags": []
   },
   "outputs": [],
   "source": [
    "\n",
    "\n",
    "# Create a new column by applying the function to each row\n",
    "ranking_target={}\n",
    "ranking_10={}\n",
    "ranking_predict={}\n",
    "for ind in list(ranking_test_df.name_A.unique())+list(ranking_test_df.name_B.unique()):\n",
    "    ranking_target[ind]=0\n",
    "    ranking_predict[ind]=0\n",
    "    ranking_10[ind]=0\n",
    "for index, row in ranking_test_df.iterrows():\n",
    "    if row[\"label\"]==1:\n",
    "        ranking_target[row[\"name_A\"]]=ranking_target[row[\"name_A\"]]+1\n",
    "    else:\n",
    "        ranking_target[row[\"name_B\"]]=ranking_target[row[\"name_B\"]]+1\n",
    "\n",
    "    if row[\"pred_10_epochs\"]==1:\n",
    "        ranking_10[row[\"name_A\"]]=ranking_10[row[\"name_A\"]]+1\n",
    "    else:\n",
    "        ranking_10[row[\"name_B\"]]=ranking_10[row[\"name_B\"]]+1\n",
    "\n",
    "    if row[\"y_pred\"]==1:\n",
    "        ranking_predict[row[\"name_A\"]]=ranking_predict[row[\"name_A\"]]+1\n",
    "    else:\n",
    "        ranking_predict[row[\"name_B\"]]=ranking_predict[row[\"name_B\"]]+1\n",
    "\n",
    "ranking_predict_df=pd.DataFrame([ranking_predict]).T.rename(columns={0:\"score\"}).sort_values(by=\"score\", ascending=False)\n",
    "    \n",
    "ranking_target_df=pd.DataFrame([ranking_target]).T.rename(columns={0:\"score\"}).sort_values(by=\"score\", ascending=False)\n",
    "ranking_10_df=pd.DataFrame([ranking_10]).T.rename(columns={0:\"score\"}).sort_values(by=\"score\", ascending=False)"
   ]
  },
  {
   "cell_type": "code",
   "execution_count": 165,
   "id": "7195ad00-918e-48e5-9d80-1f92af079595",
   "metadata": {
    "tags": []
   },
   "outputs": [
    {
     "data": {
      "text/html": [
       "<div>\n",
       "<style scoped>\n",
       "    .dataframe tbody tr th:only-of-type {\n",
       "        vertical-align: middle;\n",
       "    }\n",
       "\n",
       "    .dataframe tbody tr th {\n",
       "        vertical-align: top;\n",
       "    }\n",
       "\n",
       "    .dataframe thead th {\n",
       "        text-align: right;\n",
       "    }\n",
       "</style>\n",
       "<table border=\"1\" class=\"dataframe\">\n",
       "  <thead>\n",
       "    <tr style=\"text-align: right;\">\n",
       "      <th></th>\n",
       "      <th>score</th>\n",
       "    </tr>\n",
       "  </thead>\n",
       "  <tbody>\n",
       "    <tr>\n",
       "      <th>classy_seriema</th>\n",
       "      <td>19</td>\n",
       "    </tr>\n",
       "    <tr>\n",
       "      <th>fragrant_gazelle</th>\n",
       "      <td>18</td>\n",
       "    </tr>\n",
       "    <tr>\n",
       "      <th>frisky_baboon</th>\n",
       "      <td>17</td>\n",
       "    </tr>\n",
       "    <tr>\n",
       "      <th>hilarious_herring</th>\n",
       "      <td>16</td>\n",
       "    </tr>\n",
       "    <tr>\n",
       "      <th>notorious_trogon</th>\n",
       "      <td>15</td>\n",
       "    </tr>\n",
       "    <tr>\n",
       "      <th>wealthy_limpet</th>\n",
       "      <td>14</td>\n",
       "    </tr>\n",
       "    <tr>\n",
       "      <th>tireless_muskrat</th>\n",
       "      <td>13</td>\n",
       "    </tr>\n",
       "    <tr>\n",
       "      <th>discreet_lionfish</th>\n",
       "      <td>12</td>\n",
       "    </tr>\n",
       "    <tr>\n",
       "      <th>monumental_bison</th>\n",
       "      <td>11</td>\n",
       "    </tr>\n",
       "    <tr>\n",
       "      <th>gay_cow</th>\n",
       "      <td>9</td>\n",
       "    </tr>\n",
       "    <tr>\n",
       "      <th>greedy_jackrabbit</th>\n",
       "      <td>9</td>\n",
       "    </tr>\n",
       "    <tr>\n",
       "      <th>stirring_panda</th>\n",
       "      <td>9</td>\n",
       "    </tr>\n",
       "    <tr>\n",
       "      <th>swinging_quoll</th>\n",
       "      <td>7</td>\n",
       "    </tr>\n",
       "    <tr>\n",
       "      <th>amazing_bulldog</th>\n",
       "      <td>6</td>\n",
       "    </tr>\n",
       "    <tr>\n",
       "      <th>energetic_terrier</th>\n",
       "      <td>5</td>\n",
       "    </tr>\n",
       "    <tr>\n",
       "      <th>sassy_rabbit</th>\n",
       "      <td>4</td>\n",
       "    </tr>\n",
       "    <tr>\n",
       "      <th>gregarious_manatee</th>\n",
       "      <td>3</td>\n",
       "    </tr>\n",
       "    <tr>\n",
       "      <th>capable_chital</th>\n",
       "      <td>2</td>\n",
       "    </tr>\n",
       "    <tr>\n",
       "      <th>whimsical_gorilla</th>\n",
       "      <td>1</td>\n",
       "    </tr>\n",
       "    <tr>\n",
       "      <th>kickass_ibex</th>\n",
       "      <td>0</td>\n",
       "    </tr>\n",
       "  </tbody>\n",
       "</table>\n",
       "</div>"
      ],
      "text/plain": [
       "                    score\n",
       "classy_seriema         19\n",
       "fragrant_gazelle       18\n",
       "frisky_baboon          17\n",
       "hilarious_herring      16\n",
       "notorious_trogon       15\n",
       "wealthy_limpet         14\n",
       "tireless_muskrat       13\n",
       "discreet_lionfish      12\n",
       "monumental_bison       11\n",
       "gay_cow                 9\n",
       "greedy_jackrabbit       9\n",
       "stirring_panda          9\n",
       "swinging_quoll          7\n",
       "amazing_bulldog         6\n",
       "energetic_terrier       5\n",
       "sassy_rabbit            4\n",
       "gregarious_manatee      3\n",
       "capable_chital          2\n",
       "whimsical_gorilla       1\n",
       "kickass_ibex            0"
      ]
     },
     "execution_count": 165,
     "metadata": {},
     "output_type": "execute_result"
    }
   ],
   "source": [
    "ranking_predict_df"
   ]
  },
  {
   "cell_type": "code",
   "execution_count": 167,
   "id": "7cac717d-58ed-4957-a387-e907ca31c584",
   "metadata": {
    "tags": []
   },
   "outputs": [
    {
     "data": {
      "text/html": [
       "<div>\n",
       "<style scoped>\n",
       "    .dataframe tbody tr th:only-of-type {\n",
       "        vertical-align: middle;\n",
       "    }\n",
       "\n",
       "    .dataframe tbody tr th {\n",
       "        vertical-align: top;\n",
       "    }\n",
       "\n",
       "    .dataframe thead th {\n",
       "        text-align: right;\n",
       "    }\n",
       "</style>\n",
       "<table border=\"1\" class=\"dataframe\">\n",
       "  <thead>\n",
       "    <tr style=\"text-align: right;\">\n",
       "      <th></th>\n",
       "      <th>score</th>\n",
       "    </tr>\n",
       "  </thead>\n",
       "  <tbody>\n",
       "    <tr>\n",
       "      <th>fragrant_gazelle</th>\n",
       "      <td>19</td>\n",
       "    </tr>\n",
       "    <tr>\n",
       "      <th>classy_seriema</th>\n",
       "      <td>18</td>\n",
       "    </tr>\n",
       "    <tr>\n",
       "      <th>discreet_lionfish</th>\n",
       "      <td>17</td>\n",
       "    </tr>\n",
       "    <tr>\n",
       "      <th>greedy_jackrabbit</th>\n",
       "      <td>16</td>\n",
       "    </tr>\n",
       "    <tr>\n",
       "      <th>notorious_trogon</th>\n",
       "      <td>15</td>\n",
       "    </tr>\n",
       "    <tr>\n",
       "      <th>wealthy_limpet</th>\n",
       "      <td>14</td>\n",
       "    </tr>\n",
       "    <tr>\n",
       "      <th>frisky_baboon</th>\n",
       "      <td>13</td>\n",
       "    </tr>\n",
       "    <tr>\n",
       "      <th>gay_cow</th>\n",
       "      <td>12</td>\n",
       "    </tr>\n",
       "    <tr>\n",
       "      <th>monumental_bison</th>\n",
       "      <td>11</td>\n",
       "    </tr>\n",
       "    <tr>\n",
       "      <th>hilarious_herring</th>\n",
       "      <td>10</td>\n",
       "    </tr>\n",
       "    <tr>\n",
       "      <th>stirring_panda</th>\n",
       "      <td>9</td>\n",
       "    </tr>\n",
       "    <tr>\n",
       "      <th>tireless_muskrat</th>\n",
       "      <td>8</td>\n",
       "    </tr>\n",
       "    <tr>\n",
       "      <th>energetic_terrier</th>\n",
       "      <td>7</td>\n",
       "    </tr>\n",
       "    <tr>\n",
       "      <th>swinging_quoll</th>\n",
       "      <td>6</td>\n",
       "    </tr>\n",
       "    <tr>\n",
       "      <th>whimsical_gorilla</th>\n",
       "      <td>5</td>\n",
       "    </tr>\n",
       "    <tr>\n",
       "      <th>sassy_rabbit</th>\n",
       "      <td>4</td>\n",
       "    </tr>\n",
       "    <tr>\n",
       "      <th>kickass_ibex</th>\n",
       "      <td>3</td>\n",
       "    </tr>\n",
       "    <tr>\n",
       "      <th>capable_chital</th>\n",
       "      <td>2</td>\n",
       "    </tr>\n",
       "    <tr>\n",
       "      <th>gregarious_manatee</th>\n",
       "      <td>1</td>\n",
       "    </tr>\n",
       "    <tr>\n",
       "      <th>amazing_bulldog</th>\n",
       "      <td>0</td>\n",
       "    </tr>\n",
       "  </tbody>\n",
       "</table>\n",
       "</div>"
      ],
      "text/plain": [
       "                    score\n",
       "fragrant_gazelle       19\n",
       "classy_seriema         18\n",
       "discreet_lionfish      17\n",
       "greedy_jackrabbit      16\n",
       "notorious_trogon       15\n",
       "wealthy_limpet         14\n",
       "frisky_baboon          13\n",
       "gay_cow                12\n",
       "monumental_bison       11\n",
       "hilarious_herring      10\n",
       "stirring_panda          9\n",
       "tireless_muskrat        8\n",
       "energetic_terrier       7\n",
       "swinging_quoll          6\n",
       "whimsical_gorilla       5\n",
       "sassy_rabbit            4\n",
       "kickass_ibex            3\n",
       "capable_chital          2\n",
       "gregarious_manatee      1\n",
       "amazing_bulldog         0"
      ]
     },
     "execution_count": 167,
     "metadata": {},
     "output_type": "execute_result"
    }
   ],
   "source": [
    "ranking_target_df"
   ]
  },
  {
   "cell_type": "code",
   "execution_count": 111,
   "id": "ea941d28-41e1-451b-8385-ebdddb9c8487",
   "metadata": {},
   "outputs": [
    {
     "data": {
      "text/html": [
       "<div>\n",
       "<style scoped>\n",
       "    .dataframe tbody tr th:only-of-type {\n",
       "        vertical-align: middle;\n",
       "    }\n",
       "\n",
       "    .dataframe tbody tr th {\n",
       "        vertical-align: top;\n",
       "    }\n",
       "\n",
       "    .dataframe thead th {\n",
       "        text-align: right;\n",
       "    }\n",
       "</style>\n",
       "<table border=\"1\" class=\"dataframe\">\n",
       "  <thead>\n",
       "    <tr style=\"text-align: right;\">\n",
       "      <th></th>\n",
       "      <th>score</th>\n",
       "    </tr>\n",
       "  </thead>\n",
       "  <tbody>\n",
       "    <tr>\n",
       "      <th>classy_seriema</th>\n",
       "      <td>19</td>\n",
       "    </tr>\n",
       "    <tr>\n",
       "      <th>fragrant_gazelle</th>\n",
       "      <td>18</td>\n",
       "    </tr>\n",
       "    <tr>\n",
       "      <th>hilarious_herring</th>\n",
       "      <td>17</td>\n",
       "    </tr>\n",
       "    <tr>\n",
       "      <th>swinging_quoll</th>\n",
       "      <td>16</td>\n",
       "    </tr>\n",
       "    <tr>\n",
       "      <th>discreet_lionfish</th>\n",
       "      <td>15</td>\n",
       "    </tr>\n",
       "    <tr>\n",
       "      <th>energetic_terrier</th>\n",
       "      <td>14</td>\n",
       "    </tr>\n",
       "    <tr>\n",
       "      <th>monumental_bison</th>\n",
       "      <td>13</td>\n",
       "    </tr>\n",
       "    <tr>\n",
       "      <th>frisky_baboon</th>\n",
       "      <td>12</td>\n",
       "    </tr>\n",
       "    <tr>\n",
       "      <th>kickass_ibex</th>\n",
       "      <td>11</td>\n",
       "    </tr>\n",
       "    <tr>\n",
       "      <th>wealthy_limpet</th>\n",
       "      <td>10</td>\n",
       "    </tr>\n",
       "    <tr>\n",
       "      <th>greedy_jackrabbit</th>\n",
       "      <td>9</td>\n",
       "    </tr>\n",
       "    <tr>\n",
       "      <th>notorious_trogon</th>\n",
       "      <td>8</td>\n",
       "    </tr>\n",
       "    <tr>\n",
       "      <th>stirring_panda</th>\n",
       "      <td>7</td>\n",
       "    </tr>\n",
       "    <tr>\n",
       "      <th>tireless_muskrat</th>\n",
       "      <td>6</td>\n",
       "    </tr>\n",
       "    <tr>\n",
       "      <th>capable_chital</th>\n",
       "      <td>5</td>\n",
       "    </tr>\n",
       "    <tr>\n",
       "      <th>gay_cow</th>\n",
       "      <td>4</td>\n",
       "    </tr>\n",
       "    <tr>\n",
       "      <th>whimsical_gorilla</th>\n",
       "      <td>3</td>\n",
       "    </tr>\n",
       "    <tr>\n",
       "      <th>sassy_rabbit</th>\n",
       "      <td>2</td>\n",
       "    </tr>\n",
       "    <tr>\n",
       "      <th>gregarious_manatee</th>\n",
       "      <td>1</td>\n",
       "    </tr>\n",
       "    <tr>\n",
       "      <th>amazing_bulldog</th>\n",
       "      <td>0</td>\n",
       "    </tr>\n",
       "  </tbody>\n",
       "</table>\n",
       "</div>"
      ],
      "text/plain": [
       "                    score\n",
       "classy_seriema         19\n",
       "fragrant_gazelle       18\n",
       "hilarious_herring      17\n",
       "swinging_quoll         16\n",
       "discreet_lionfish      15\n",
       "energetic_terrier      14\n",
       "monumental_bison       13\n",
       "frisky_baboon          12\n",
       "kickass_ibex           11\n",
       "wealthy_limpet         10\n",
       "greedy_jackrabbit       9\n",
       "notorious_trogon        8\n",
       "stirring_panda          7\n",
       "tireless_muskrat        6\n",
       "capable_chital          5\n",
       "gay_cow                 4\n",
       "whimsical_gorilla       3\n",
       "sassy_rabbit            2\n",
       "gregarious_manatee      1\n",
       "amazing_bulldog         0"
      ]
     },
     "execution_count": 111,
     "metadata": {},
     "output_type": "execute_result"
    }
   ],
   "source": [
    "ranking_10_df"
   ]
  },
  {
   "cell_type": "code",
   "execution_count": 169,
   "id": "4bc1a8a8-4dd7-451e-898a-98bcb3fffb03",
   "metadata": {
    "tags": []
   },
   "outputs": [
    {
     "name": "stdout",
     "output_type": "stream",
     "text": [
      "Spearman rank correlation: 0.8285714285714285\n",
      "Kendall Tau distance: 0.6210526315789474\n"
     ]
    }
   ],
   "source": [
    "from scipy.stats import spearmanr\n",
    "from scipy.stats import kendalltau\n",
    "\n",
    "def kendall_tau_distance(list1, list2):\n",
    "    tau, _ = kendalltau(list1, list2)\n",
    "    return tau\n",
    "def spearman_rank_correlation(list1, list2):\n",
    "    corr, _ = spearmanr(list1, list2)\n",
    "    return corr\n",
    "# Example usage\n",
    "target =ranking_target_df.index.tolist()\n",
    "list_to_compare = ranking_predict_df.index.tolist()\n",
    "#list_to_compare = ranking_10_df.index.tolist()\n",
    "# Convert the lists to ranks\n",
    "target_ranks = {k: i for i, k in enumerate(target)}\n",
    "list_to_compare_ranks = [target_ranks[x] for x in list_to_compare]\n",
    "\n",
    "# Calculate Spearman rank correlation\n",
    "spearman_corr = spearman_rank_correlation(list_to_compare_ranks, list(range(len(target))))\n",
    "print(f'Spearman rank correlation: {spearman_corr}')\n",
    "# Calculate Kendall Tau distance\n",
    "tau_distance = kendall_tau_distance(list_to_compare_ranks, list(range(len(target))))\n",
    "print(f'Kendall Tau distance: {tau_distance}')"
   ]
  },
  {
   "cell_type": "code",
   "execution_count": 151,
   "id": "7409cce3-8154-442f-b4b8-0a7332b24741",
   "metadata": {
    "tags": []
   },
   "outputs": [],
   "source": [
    "import pandas as pd\n",
    "from sklearn.model_selection import train_test_split\n",
    "from sklearn.preprocessing import StandardScaler\n",
    "from sklearn.ensemble import RandomForestClassifier\n"
   ]
  },
  {
   "cell_type": "code",
   "execution_count": 152,
   "id": "7fedc56e-8e31-44fc-8f6c-7653124cc8da",
   "metadata": {
    "tags": []
   },
   "outputs": [
    {
     "name": "stderr",
     "output_type": "stream",
     "text": [
      "/home/hpc/iwb3/iwb3021h/.local/lib/python3.12/site-packages/sklearn/base.py:1474: DataConversionWarning: A column-vector y was passed when a 1d array was expected. Please change the shape of y to (n_samples,), for example using ravel().\n",
      "  return fit_method(estimator, *args, **kwargs)\n"
     ]
    },
    {
     "data": {
      "text/html": [
       "<style>#sk-container-id-8 {\n",
       "  /* Definition of color scheme common for light and dark mode */\n",
       "  --sklearn-color-text: black;\n",
       "  --sklearn-color-line: gray;\n",
       "  /* Definition of color scheme for unfitted estimators */\n",
       "  --sklearn-color-unfitted-level-0: #fff5e6;\n",
       "  --sklearn-color-unfitted-level-1: #f6e4d2;\n",
       "  --sklearn-color-unfitted-level-2: #ffe0b3;\n",
       "  --sklearn-color-unfitted-level-3: chocolate;\n",
       "  /* Definition of color scheme for fitted estimators */\n",
       "  --sklearn-color-fitted-level-0: #f0f8ff;\n",
       "  --sklearn-color-fitted-level-1: #d4ebff;\n",
       "  --sklearn-color-fitted-level-2: #b3dbfd;\n",
       "  --sklearn-color-fitted-level-3: cornflowerblue;\n",
       "\n",
       "  /* Specific color for light theme */\n",
       "  --sklearn-color-text-on-default-background: var(--sg-text-color, var(--theme-code-foreground, var(--jp-content-font-color1, black)));\n",
       "  --sklearn-color-background: var(--sg-background-color, var(--theme-background, var(--jp-layout-color0, white)));\n",
       "  --sklearn-color-border-box: var(--sg-text-color, var(--theme-code-foreground, var(--jp-content-font-color1, black)));\n",
       "  --sklearn-color-icon: #696969;\n",
       "\n",
       "  @media (prefers-color-scheme: dark) {\n",
       "    /* Redefinition of color scheme for dark theme */\n",
       "    --sklearn-color-text-on-default-background: var(--sg-text-color, var(--theme-code-foreground, var(--jp-content-font-color1, white)));\n",
       "    --sklearn-color-background: var(--sg-background-color, var(--theme-background, var(--jp-layout-color0, #111)));\n",
       "    --sklearn-color-border-box: var(--sg-text-color, var(--theme-code-foreground, var(--jp-content-font-color1, white)));\n",
       "    --sklearn-color-icon: #878787;\n",
       "  }\n",
       "}\n",
       "\n",
       "#sk-container-id-8 {\n",
       "  color: var(--sklearn-color-text);\n",
       "}\n",
       "\n",
       "#sk-container-id-8 pre {\n",
       "  padding: 0;\n",
       "}\n",
       "\n",
       "#sk-container-id-8 input.sk-hidden--visually {\n",
       "  border: 0;\n",
       "  clip: rect(1px 1px 1px 1px);\n",
       "  clip: rect(1px, 1px, 1px, 1px);\n",
       "  height: 1px;\n",
       "  margin: -1px;\n",
       "  overflow: hidden;\n",
       "  padding: 0;\n",
       "  position: absolute;\n",
       "  width: 1px;\n",
       "}\n",
       "\n",
       "#sk-container-id-8 div.sk-dashed-wrapped {\n",
       "  border: 1px dashed var(--sklearn-color-line);\n",
       "  margin: 0 0.4em 0.5em 0.4em;\n",
       "  box-sizing: border-box;\n",
       "  padding-bottom: 0.4em;\n",
       "  background-color: var(--sklearn-color-background);\n",
       "}\n",
       "\n",
       "#sk-container-id-8 div.sk-container {\n",
       "  /* jupyter's `normalize.less` sets `[hidden] { display: none; }`\n",
       "     but bootstrap.min.css set `[hidden] { display: none !important; }`\n",
       "     so we also need the `!important` here to be able to override the\n",
       "     default hidden behavior on the sphinx rendered scikit-learn.org.\n",
       "     See: https://github.com/scikit-learn/scikit-learn/issues/21755 */\n",
       "  display: inline-block !important;\n",
       "  position: relative;\n",
       "}\n",
       "\n",
       "#sk-container-id-8 div.sk-text-repr-fallback {\n",
       "  display: none;\n",
       "}\n",
       "\n",
       "div.sk-parallel-item,\n",
       "div.sk-serial,\n",
       "div.sk-item {\n",
       "  /* draw centered vertical line to link estimators */\n",
       "  background-image: linear-gradient(var(--sklearn-color-text-on-default-background), var(--sklearn-color-text-on-default-background));\n",
       "  background-size: 2px 100%;\n",
       "  background-repeat: no-repeat;\n",
       "  background-position: center center;\n",
       "}\n",
       "\n",
       "/* Parallel-specific style estimator block */\n",
       "\n",
       "#sk-container-id-8 div.sk-parallel-item::after {\n",
       "  content: \"\";\n",
       "  width: 100%;\n",
       "  border-bottom: 2px solid var(--sklearn-color-text-on-default-background);\n",
       "  flex-grow: 1;\n",
       "}\n",
       "\n",
       "#sk-container-id-8 div.sk-parallel {\n",
       "  display: flex;\n",
       "  align-items: stretch;\n",
       "  justify-content: center;\n",
       "  background-color: var(--sklearn-color-background);\n",
       "  position: relative;\n",
       "}\n",
       "\n",
       "#sk-container-id-8 div.sk-parallel-item {\n",
       "  display: flex;\n",
       "  flex-direction: column;\n",
       "}\n",
       "\n",
       "#sk-container-id-8 div.sk-parallel-item:first-child::after {\n",
       "  align-self: flex-end;\n",
       "  width: 50%;\n",
       "}\n",
       "\n",
       "#sk-container-id-8 div.sk-parallel-item:last-child::after {\n",
       "  align-self: flex-start;\n",
       "  width: 50%;\n",
       "}\n",
       "\n",
       "#sk-container-id-8 div.sk-parallel-item:only-child::after {\n",
       "  width: 0;\n",
       "}\n",
       "\n",
       "/* Serial-specific style estimator block */\n",
       "\n",
       "#sk-container-id-8 div.sk-serial {\n",
       "  display: flex;\n",
       "  flex-direction: column;\n",
       "  align-items: center;\n",
       "  background-color: var(--sklearn-color-background);\n",
       "  padding-right: 1em;\n",
       "  padding-left: 1em;\n",
       "}\n",
       "\n",
       "\n",
       "/* Toggleable style: style used for estimator/Pipeline/ColumnTransformer box that is\n",
       "clickable and can be expanded/collapsed.\n",
       "- Pipeline and ColumnTransformer use this feature and define the default style\n",
       "- Estimators will overwrite some part of the style using the `sk-estimator` class\n",
       "*/\n",
       "\n",
       "/* Pipeline and ColumnTransformer style (default) */\n",
       "\n",
       "#sk-container-id-8 div.sk-toggleable {\n",
       "  /* Default theme specific background. It is overwritten whether we have a\n",
       "  specific estimator or a Pipeline/ColumnTransformer */\n",
       "  background-color: var(--sklearn-color-background);\n",
       "}\n",
       "\n",
       "/* Toggleable label */\n",
       "#sk-container-id-8 label.sk-toggleable__label {\n",
       "  cursor: pointer;\n",
       "  display: block;\n",
       "  width: 100%;\n",
       "  margin-bottom: 0;\n",
       "  padding: 0.5em;\n",
       "  box-sizing: border-box;\n",
       "  text-align: center;\n",
       "}\n",
       "\n",
       "#sk-container-id-8 label.sk-toggleable__label-arrow:before {\n",
       "  /* Arrow on the left of the label */\n",
       "  content: \"▸\";\n",
       "  float: left;\n",
       "  margin-right: 0.25em;\n",
       "  color: var(--sklearn-color-icon);\n",
       "}\n",
       "\n",
       "#sk-container-id-8 label.sk-toggleable__label-arrow:hover:before {\n",
       "  color: var(--sklearn-color-text);\n",
       "}\n",
       "\n",
       "/* Toggleable content - dropdown */\n",
       "\n",
       "#sk-container-id-8 div.sk-toggleable__content {\n",
       "  max-height: 0;\n",
       "  max-width: 0;\n",
       "  overflow: hidden;\n",
       "  text-align: left;\n",
       "  /* unfitted */\n",
       "  background-color: var(--sklearn-color-unfitted-level-0);\n",
       "}\n",
       "\n",
       "#sk-container-id-8 div.sk-toggleable__content.fitted {\n",
       "  /* fitted */\n",
       "  background-color: var(--sklearn-color-fitted-level-0);\n",
       "}\n",
       "\n",
       "#sk-container-id-8 div.sk-toggleable__content pre {\n",
       "  margin: 0.2em;\n",
       "  border-radius: 0.25em;\n",
       "  color: var(--sklearn-color-text);\n",
       "  /* unfitted */\n",
       "  background-color: var(--sklearn-color-unfitted-level-0);\n",
       "}\n",
       "\n",
       "#sk-container-id-8 div.sk-toggleable__content.fitted pre {\n",
       "  /* unfitted */\n",
       "  background-color: var(--sklearn-color-fitted-level-0);\n",
       "}\n",
       "\n",
       "#sk-container-id-8 input.sk-toggleable__control:checked~div.sk-toggleable__content {\n",
       "  /* Expand drop-down */\n",
       "  max-height: 200px;\n",
       "  max-width: 100%;\n",
       "  overflow: auto;\n",
       "}\n",
       "\n",
       "#sk-container-id-8 input.sk-toggleable__control:checked~label.sk-toggleable__label-arrow:before {\n",
       "  content: \"▾\";\n",
       "}\n",
       "\n",
       "/* Pipeline/ColumnTransformer-specific style */\n",
       "\n",
       "#sk-container-id-8 div.sk-label input.sk-toggleable__control:checked~label.sk-toggleable__label {\n",
       "  color: var(--sklearn-color-text);\n",
       "  background-color: var(--sklearn-color-unfitted-level-2);\n",
       "}\n",
       "\n",
       "#sk-container-id-8 div.sk-label.fitted input.sk-toggleable__control:checked~label.sk-toggleable__label {\n",
       "  background-color: var(--sklearn-color-fitted-level-2);\n",
       "}\n",
       "\n",
       "/* Estimator-specific style */\n",
       "\n",
       "/* Colorize estimator box */\n",
       "#sk-container-id-8 div.sk-estimator input.sk-toggleable__control:checked~label.sk-toggleable__label {\n",
       "  /* unfitted */\n",
       "  background-color: var(--sklearn-color-unfitted-level-2);\n",
       "}\n",
       "\n",
       "#sk-container-id-8 div.sk-estimator.fitted input.sk-toggleable__control:checked~label.sk-toggleable__label {\n",
       "  /* fitted */\n",
       "  background-color: var(--sklearn-color-fitted-level-2);\n",
       "}\n",
       "\n",
       "#sk-container-id-8 div.sk-label label.sk-toggleable__label,\n",
       "#sk-container-id-8 div.sk-label label {\n",
       "  /* The background is the default theme color */\n",
       "  color: var(--sklearn-color-text-on-default-background);\n",
       "}\n",
       "\n",
       "/* On hover, darken the color of the background */\n",
       "#sk-container-id-8 div.sk-label:hover label.sk-toggleable__label {\n",
       "  color: var(--sklearn-color-text);\n",
       "  background-color: var(--sklearn-color-unfitted-level-2);\n",
       "}\n",
       "\n",
       "/* Label box, darken color on hover, fitted */\n",
       "#sk-container-id-8 div.sk-label.fitted:hover label.sk-toggleable__label.fitted {\n",
       "  color: var(--sklearn-color-text);\n",
       "  background-color: var(--sklearn-color-fitted-level-2);\n",
       "}\n",
       "\n",
       "/* Estimator label */\n",
       "\n",
       "#sk-container-id-8 div.sk-label label {\n",
       "  font-family: monospace;\n",
       "  font-weight: bold;\n",
       "  display: inline-block;\n",
       "  line-height: 1.2em;\n",
       "}\n",
       "\n",
       "#sk-container-id-8 div.sk-label-container {\n",
       "  text-align: center;\n",
       "}\n",
       "\n",
       "/* Estimator-specific */\n",
       "#sk-container-id-8 div.sk-estimator {\n",
       "  font-family: monospace;\n",
       "  border: 1px dotted var(--sklearn-color-border-box);\n",
       "  border-radius: 0.25em;\n",
       "  box-sizing: border-box;\n",
       "  margin-bottom: 0.5em;\n",
       "  /* unfitted */\n",
       "  background-color: var(--sklearn-color-unfitted-level-0);\n",
       "}\n",
       "\n",
       "#sk-container-id-8 div.sk-estimator.fitted {\n",
       "  /* fitted */\n",
       "  background-color: var(--sklearn-color-fitted-level-0);\n",
       "}\n",
       "\n",
       "/* on hover */\n",
       "#sk-container-id-8 div.sk-estimator:hover {\n",
       "  /* unfitted */\n",
       "  background-color: var(--sklearn-color-unfitted-level-2);\n",
       "}\n",
       "\n",
       "#sk-container-id-8 div.sk-estimator.fitted:hover {\n",
       "  /* fitted */\n",
       "  background-color: var(--sklearn-color-fitted-level-2);\n",
       "}\n",
       "\n",
       "/* Specification for estimator info (e.g. \"i\" and \"?\") */\n",
       "\n",
       "/* Common style for \"i\" and \"?\" */\n",
       "\n",
       ".sk-estimator-doc-link,\n",
       "a:link.sk-estimator-doc-link,\n",
       "a:visited.sk-estimator-doc-link {\n",
       "  float: right;\n",
       "  font-size: smaller;\n",
       "  line-height: 1em;\n",
       "  font-family: monospace;\n",
       "  background-color: var(--sklearn-color-background);\n",
       "  border-radius: 1em;\n",
       "  height: 1em;\n",
       "  width: 1em;\n",
       "  text-decoration: none !important;\n",
       "  margin-left: 1ex;\n",
       "  /* unfitted */\n",
       "  border: var(--sklearn-color-unfitted-level-1) 1pt solid;\n",
       "  color: var(--sklearn-color-unfitted-level-1);\n",
       "}\n",
       "\n",
       ".sk-estimator-doc-link.fitted,\n",
       "a:link.sk-estimator-doc-link.fitted,\n",
       "a:visited.sk-estimator-doc-link.fitted {\n",
       "  /* fitted */\n",
       "  border: var(--sklearn-color-fitted-level-1) 1pt solid;\n",
       "  color: var(--sklearn-color-fitted-level-1);\n",
       "}\n",
       "\n",
       "/* On hover */\n",
       "div.sk-estimator:hover .sk-estimator-doc-link:hover,\n",
       ".sk-estimator-doc-link:hover,\n",
       "div.sk-label-container:hover .sk-estimator-doc-link:hover,\n",
       ".sk-estimator-doc-link:hover {\n",
       "  /* unfitted */\n",
       "  background-color: var(--sklearn-color-unfitted-level-3);\n",
       "  color: var(--sklearn-color-background);\n",
       "  text-decoration: none;\n",
       "}\n",
       "\n",
       "div.sk-estimator.fitted:hover .sk-estimator-doc-link.fitted:hover,\n",
       ".sk-estimator-doc-link.fitted:hover,\n",
       "div.sk-label-container:hover .sk-estimator-doc-link.fitted:hover,\n",
       ".sk-estimator-doc-link.fitted:hover {\n",
       "  /* fitted */\n",
       "  background-color: var(--sklearn-color-fitted-level-3);\n",
       "  color: var(--sklearn-color-background);\n",
       "  text-decoration: none;\n",
       "}\n",
       "\n",
       "/* Span, style for the box shown on hovering the info icon */\n",
       ".sk-estimator-doc-link span {\n",
       "  display: none;\n",
       "  z-index: 9999;\n",
       "  position: relative;\n",
       "  font-weight: normal;\n",
       "  right: .2ex;\n",
       "  padding: .5ex;\n",
       "  margin: .5ex;\n",
       "  width: min-content;\n",
       "  min-width: 20ex;\n",
       "  max-width: 50ex;\n",
       "  color: var(--sklearn-color-text);\n",
       "  box-shadow: 2pt 2pt 4pt #999;\n",
       "  /* unfitted */\n",
       "  background: var(--sklearn-color-unfitted-level-0);\n",
       "  border: .5pt solid var(--sklearn-color-unfitted-level-3);\n",
       "}\n",
       "\n",
       ".sk-estimator-doc-link.fitted span {\n",
       "  /* fitted */\n",
       "  background: var(--sklearn-color-fitted-level-0);\n",
       "  border: var(--sklearn-color-fitted-level-3);\n",
       "}\n",
       "\n",
       ".sk-estimator-doc-link:hover span {\n",
       "  display: block;\n",
       "}\n",
       "\n",
       "/* \"?\"-specific style due to the `<a>` HTML tag */\n",
       "\n",
       "#sk-container-id-8 a.estimator_doc_link {\n",
       "  float: right;\n",
       "  font-size: 1rem;\n",
       "  line-height: 1em;\n",
       "  font-family: monospace;\n",
       "  background-color: var(--sklearn-color-background);\n",
       "  border-radius: 1rem;\n",
       "  height: 1rem;\n",
       "  width: 1rem;\n",
       "  text-decoration: none;\n",
       "  /* unfitted */\n",
       "  color: var(--sklearn-color-unfitted-level-1);\n",
       "  border: var(--sklearn-color-unfitted-level-1) 1pt solid;\n",
       "}\n",
       "\n",
       "#sk-container-id-8 a.estimator_doc_link.fitted {\n",
       "  /* fitted */\n",
       "  border: var(--sklearn-color-fitted-level-1) 1pt solid;\n",
       "  color: var(--sklearn-color-fitted-level-1);\n",
       "}\n",
       "\n",
       "/* On hover */\n",
       "#sk-container-id-8 a.estimator_doc_link:hover {\n",
       "  /* unfitted */\n",
       "  background-color: var(--sklearn-color-unfitted-level-3);\n",
       "  color: var(--sklearn-color-background);\n",
       "  text-decoration: none;\n",
       "}\n",
       "\n",
       "#sk-container-id-8 a.estimator_doc_link.fitted:hover {\n",
       "  /* fitted */\n",
       "  background-color: var(--sklearn-color-fitted-level-3);\n",
       "}\n",
       "</style><div id=\"sk-container-id-8\" class=\"sk-top-container\"><div class=\"sk-text-repr-fallback\"><pre>RandomForestClassifier(random_state=42)</pre><b>In a Jupyter environment, please rerun this cell to show the HTML representation or trust the notebook. <br />On GitHub, the HTML representation is unable to render, please try loading this page with nbviewer.org.</b></div><div class=\"sk-container\" hidden><div class=\"sk-item\"><div class=\"sk-estimator fitted sk-toggleable\"><input class=\"sk-toggleable__control sk-hidden--visually\" id=\"sk-estimator-id-8\" type=\"checkbox\" checked><label for=\"sk-estimator-id-8\" class=\"sk-toggleable__label fitted sk-toggleable__label-arrow fitted\">&nbsp;&nbsp;RandomForestClassifier<a class=\"sk-estimator-doc-link fitted\" rel=\"noreferrer\" target=\"_blank\" href=\"https://scikit-learn.org/1.4/modules/generated/sklearn.ensemble.RandomForestClassifier.html\">?<span>Documentation for RandomForestClassifier</span></a><span class=\"sk-estimator-doc-link fitted\">i<span>Fitted</span></span></label><div class=\"sk-toggleable__content fitted\"><pre>RandomForestClassifier(random_state=42)</pre></div> </div></div></div></div>"
      ],
      "text/plain": [
       "RandomForestClassifier(random_state=42)"
      ]
     },
     "execution_count": 152,
     "metadata": {},
     "output_type": "execute_result"
    }
   ],
   "source": [
    "#scaler = StandardScaler()\n",
    "#X_scaled = scaler.fit_transform(X)\n",
    "X_train, X_test, y_train, y_test = train_test_split(X, y, test_size=0.1, random_state=42)\n",
    "clf = RandomForestClassifier(random_state=42, n_estimators=100)\n",
    "clf.fit(X_train, y_train)\n"
   ]
  },
  {
   "cell_type": "code",
   "execution_count": 153,
   "id": "f793e401-a5d6-439a-b779-a26b40cba3c9",
   "metadata": {
    "tags": []
   },
   "outputs": [
    {
     "name": "stdout",
     "output_type": "stream",
     "text": [
      "Accuracy: 0.9081232492997199\n",
      "Classification Report:\n",
      "              precision    recall  f1-score   support\n",
      "\n",
      "           0       0.91      0.89      0.90      1654\n",
      "           1       0.91      0.92      0.92      1916\n",
      "\n",
      "    accuracy                           0.91      3570\n",
      "   macro avg       0.91      0.91      0.91      3570\n",
      "weighted avg       0.91      0.91      0.91      3570\n",
      "\n",
      "Confusion Matrix:\n",
      "[[1471  183]\n",
      " [ 145 1771]]\n"
     ]
    }
   ],
   "source": [
    "y_pred = clf.predict(X_test)\n",
    "\n",
    "# Calculate accuracy\n",
    "accuracy = accuracy_score(y_test, y_pred)\n",
    "print(f\"Accuracy: {accuracy}\")\n",
    "\n",
    "# Detailed classification report\n",
    "print(\"Classification Report:\")\n",
    "print(classification_report(y_test, y_pred))\n",
    "\n",
    "# Confusion matrix\n",
    "print(\"Confusion Matrix:\")\n",
    "print(confusion_matrix(y_test, y_pred))\n"
   ]
  },
  {
   "cell_type": "code",
   "execution_count": 154,
   "id": "4d423267-abf2-4eb9-8f1f-04229af5801b",
   "metadata": {
    "tags": []
   },
   "outputs": [
    {
     "name": "stdout",
     "output_type": "stream",
     "text": [
      "Accuracy: 0.7842105263157895\n",
      "Classification Report:\n",
      "              precision    recall  f1-score   support\n",
      "\n",
      "           0       0.78      0.72      0.75        86\n",
      "           1       0.78      0.84      0.81       104\n",
      "\n",
      "    accuracy                           0.78       190\n",
      "   macro avg       0.78      0.78      0.78       190\n",
      "weighted avg       0.78      0.78      0.78       190\n",
      "\n",
      "Confusion Matrix:\n",
      "[[62 24]\n",
      " [17 87]]\n"
     ]
    }
   ],
   "source": [
    "#X_test_new= scaler.transform(X_test_new)\n",
    "y_pred = clf.predict(X_test_new)\n",
    "\n",
    "# Calculate accuracy\n",
    "accuracy = accuracy_score(y_test_new, y_pred)\n",
    "print(f\"Accuracy: {accuracy}\")\n",
    "\n",
    "# Detailed classification report\n",
    "print(\"Classification Report:\")\n",
    "print(classification_report(y_test_new, y_pred))\n",
    "\n",
    "# Confusion matrix\n",
    "print(\"Confusion Matrix:\")\n",
    "print(confusion_matrix(y_test_new, y_pred))\n"
   ]
  },
  {
   "cell_type": "code",
   "execution_count": 161,
   "id": "e2665576-4a97-4a9b-a8d4-c9ef29234bdb",
   "metadata": {
    "tags": []
   },
   "outputs": [
    {
     "name": "stderr",
     "output_type": "stream",
     "text": [
      "/home/hpc/iwb3/iwb3021h/.local/lib/python3.12/site-packages/sklearn/preprocessing/_label.py:114: DataConversionWarning: A column-vector y was passed when a 1d array was expected. Please change the shape of y to (n_samples, ), for example using ravel().\n",
      "  y = column_or_1d(y, warn=True)\n"
     ]
    },
    {
     "name": "stdout",
     "output_type": "stream",
     "text": [
      "Accuracy: 0.8204481792717087\n",
      "Classification Report:\n",
      "              precision    recall  f1-score   support\n",
      "\n",
      "           0       0.83      0.76      0.80      1654\n",
      "           1       0.81      0.87      0.84      1916\n",
      "\n",
      "    accuracy                           0.82      3570\n",
      "   macro avg       0.82      0.82      0.82      3570\n",
      "weighted avg       0.82      0.82      0.82      3570\n",
      "\n",
      "Confusion Matrix:\n",
      "[[1264  390]\n",
      " [ 251 1665]]\n"
     ]
    }
   ],
   "source": [
    "from sklearn.ensemble import GradientBoostingClassifier\n",
    "\n",
    "# Initialize the Gradient Boosting model\n",
    "gb_clf = GradientBoostingClassifier(n_estimators=100,random_state=42)\n",
    "\n",
    "# Train the model\n",
    "gb_clf.fit(X_train, y_train)\n",
    "\n",
    "# Make predictions\n",
    "y_pred = gb_clf.predict(X_test)\n",
    "\n",
    "# Evaluate the model\n",
    "print(f\"Accuracy: {accuracy_score(y_test, y_pred)}\")\n",
    "print(\"Classification Report:\")\n",
    "print(classification_report(y_test, y_pred))\n",
    "print(\"Confusion Matrix:\")\n",
    "print(confusion_matrix(y_test, y_pred))\n"
   ]
  },
  {
   "cell_type": "code",
   "execution_count": 162,
   "id": "4c594bea-10bc-4ecd-9372-e833340ab901",
   "metadata": {
    "tags": []
   },
   "outputs": [
    {
     "name": "stdout",
     "output_type": "stream",
     "text": [
      "Accuracy: 0.8052631578947368\n",
      "Classification Report:\n",
      "              precision    recall  f1-score   support\n",
      "\n",
      "           0       0.79      0.78      0.78        86\n",
      "           1       0.82      0.83      0.82       104\n",
      "\n",
      "    accuracy                           0.81       190\n",
      "   macro avg       0.80      0.80      0.80       190\n",
      "weighted avg       0.81      0.81      0.81       190\n",
      "\n",
      "Confusion Matrix:\n",
      "[[67 19]\n",
      " [18 86]]\n"
     ]
    }
   ],
   "source": [
    "\n",
    "#X_test_new=total_data_test[cols_train]\n",
    "#y_test_new=total_data_test[cols_test]\n",
    "y_pred = gb_clf.predict(X_test_new)\n",
    "#y_pred=best_gb_clf.predict(X_test_new)\n",
    "\n",
    "# Evaluate the model\n",
    "print(f\"Accuracy: {accuracy_score(y_test_new, y_pred)}\")\n",
    "print(\"Classification Report:\")\n",
    "print(classification_report(y_test_new, y_pred))\n",
    "print(\"Confusion Matrix:\")\n",
    "print(confusion_matrix(y_test_new, y_pred))\n"
   ]
  },
  {
   "cell_type": "code",
   "execution_count": 153,
   "id": "59d2faec-d9f4-427a-9e6b-30af5a0ab8dc",
   "metadata": {
    "tags": []
   },
   "outputs": [
    {
     "name": "stdout",
     "output_type": "stream",
     "text": [
      "Best parameters found:  {'learning_rate': 0.2, 'max_depth': 5, 'min_samples_leaf': 4, 'min_samples_split': 10, 'n_estimators': 200}\n"
     ]
    }
   ],
   "source": [
    "# Best parameters\n",
    "print(\"Best parameters found: \", grid_search.best_params_)"
   ]
  },
  {
   "cell_type": "code",
   "execution_count": null,
   "id": "2763631d-dd76-4313-90dd-a706367c726f",
   "metadata": {},
   "outputs": [],
   "source": []
  }
 ],
 "metadata": {
  "kernelspec": {
   "display_name": "Python [conda env:pytorch-2.2.0]",
   "language": "python",
   "name": "conda-env-pytorch-2.2.0-py"
  },
  "language_info": {
   "codemirror_mode": {
    "name": "ipython",
    "version": 3
   },
   "file_extension": ".py",
   "mimetype": "text/x-python",
   "name": "python",
   "nbconvert_exporter": "python",
   "pygments_lexer": "ipython3",
   "version": "3.12.1"
  }
 },
 "nbformat": 4,
 "nbformat_minor": 5
}
