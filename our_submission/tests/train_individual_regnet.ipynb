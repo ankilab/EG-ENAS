{
 "cells": [
  {
   "cell_type": "markdown",
   "id": "109b3f58-4044-4315-9201-08412f56d64f",
   "metadata": {
    "tags": []
   },
   "source": [
    "## Imports"
   ]
  },
  {
   "cell_type": "code",
   "execution_count": 2,
   "id": "6f2acde7-594f-4ecc-aa8e-f24e5d4c144d",
   "metadata": {
    "tags": []
   },
   "outputs": [],
   "source": [
    "import sys\n",
    "import torch\n",
    "import random\n",
    "import numpy as np\n",
    "import time\n",
    "from IPython.display import clear_output\n",
    "import matplotlib.pyplot as plt\n",
    "\n",
    "sys.path.append(\"../\")\n",
    "####### Dataset ############\n",
    "from evaluation import main\n",
    "from data_processor import DataProcessor\n",
    "######## Search space #########\n",
    "from search_space.RegNet import RegNet\n",
    "from search_space.utils import create_widths_plot, scatter_results, get_generation_dfs\n",
    "######## Training ###############\n",
    "from trainer import Trainer, TrainerDistillation\n",
    "from utils.train_cfg import get_cfg, show_cfg\n",
    "###################################################\n",
    "random_seed = 1\n",
    "random.seed(random_seed)\n",
    "# Set seed for NumPy\n",
    "np.random.seed(random_seed)\n",
    "# Set seed for PyTorch\n",
    "torch.manual_seed(random_seed)\n",
    "torch.cuda.manual_seed_all(random_seed)\n",
    "# Additional steps if using CuDNN (optional, for GPU acceleration)\n",
    "torch.backends.cudnn.deterministic = True\n",
    "torch.backends.cudnn.benchmark = False\n",
    "device = torch.device(\"cuda\" if torch.cuda.is_available() else \"cpu\")\n",
    "import os\n",
    "from coolname import generate_slug\n",
    "from sklearn.metrics import accuracy_score"
   ]
  },
  {
   "cell_type": "markdown",
   "id": "4444099f-0c9c-4908-95e9-f31898bcdbb4",
   "metadata": {
    "tags": []
   },
   "source": [
    "## Load dataset"
   ]
  },
  {
   "cell_type": "code",
   "execution_count": 3,
   "id": "89d3c611-e7a3-4e18-9e28-3e12014566d0",
   "metadata": {
    "tags": []
   },
   "outputs": [
    {
     "name": "stderr",
     "output_type": "stream",
     "text": [
      "Clipping input data to the valid range for imshow with RGB data ([0..1] for floats or [0..255] for integers).\n"
     ]
    },
    {
     "name": "stdout",
     "output_type": "stream",
     "text": [
      "[RandomCrop(size=(28, 28), padding=[4, 4, 4, 4], pad_if_needed=False, fill=0, padding_mode=constant), RandomHorizontalFlip(p=0.5)]\n",
      "[Normalize(mean=[tensor(0.0053), tensor(0.0066), tensor(0.0077)], std=[tensor(1.0065), tensor(1.0080), tensor(1.0092)], inplace=False)]\n",
      "[Normalize(mean=[tensor(0.0053), tensor(0.0066), tensor(0.0077)], std=[tensor(1.0065), tensor(1.0080), tensor(1.0092)], inplace=False)]\n"
     ]
    },
    {
     "data": {
      "text/plain": [
       "{'num_classes': 20,\n",
       " 'input_shape': [50000, 3, 28, 28],\n",
       " 'codename': 'Adaline',\n",
       " 'benchmark': 89.85,\n",
       " 'rand_augment': False}"
      ]
     },
     "execution_count": 3,
     "metadata": {},
     "output_type": "execute_result"
    },
    {
     "data": {
      "image/png": "[encoded data removed]",
      "text/plain": [
       "<Figure size 640x480 with 1 Axes>"
      ]
     },
     "metadata": {},
     "output_type": "display_data"
    }
   ],
   "source": [
    "#Dataset must be in the folder datasets\n",
    "# From https://github.com/Towers-D/NAS-Unseen-Datasets\n",
    "Dataset=\"AddNIST\"\n",
    "(train_x, train_y), (valid_x, valid_y), (test_x), metadata = main.load_datasets(Dataset, truncate=False)\n",
    "test_y = np.load(os.path.join('../datasets/'+Dataset,'test_y.npy'))\n",
    "metadata[\"rand_augment\"]=False\n",
    "data_processor = DataProcessor(train_x, train_y, valid_x, valid_y, test_x, metadata)\n",
    "train_loader, valid_loader, test_loader = data_processor.process()\n",
    "\n",
    "\n",
    "img=next(iter(train_loader))[0][0]\n",
    "img=img.numpy().transpose(1, 2, 0)\n",
    "plt.imshow(img)\n",
    "\n",
    "metadata"
   ]
  },
  {
   "cell_type": "markdown",
   "id": "20c64bb3-e16d-4387-92fb-a80ead6aa33e",
   "metadata": {},
   "source": [
    "## Search space"
   ]
  },
  {
   "cell_type": "code",
   "execution_count": 4,
   "id": "ef658735-c3d1-4c19-afef-0ea8652c4abd",
   "metadata": {
    "tags": []
   },
   "outputs": [
    {
     "name": "stdout",
     "output_type": "stream",
     "text": [
      "BN:\n",
      "  EPS: 1e-05\n",
      "  MOM: 0.1\n",
      "  ZERO_INIT_FINAL_GAMMA: False\n",
      "DESC: \n",
      "LN:\n",
      "  EPS: 1e-05\n",
      "MODEL:\n",
      "  ACTIVATION_FUN: relu\n",
      "  ACTIVATION_INPLACE: True\n",
      "  NUM_CLASSES: 20\n",
      "  SCALING_FACTOR: 1.0\n",
      "  SCALING_TYPE: \n",
      "  TYPE: regnet\n",
      "REGNET:\n",
      "  BLOCK_TYPE: res_bottleneck_block\n",
      "  BOT_MUL: 1.0\n",
      "  DEPTH: 20\n",
      "  DOWNSAMPLE: avg\n",
      "  DROPOUT: 0.1\n",
      "  DROP_RATE: 0.01\n",
      "  GROUP_W: 8\n",
      "  HEAD_W: 0\n",
      "  INPUT_CHANNELS: 3\n",
      "  SE_ON: True\n",
      "  SE_R: 0.25\n",
      "  STEM_TYPE: res_stem_cifar\n",
      "  STEM_W: 28\n",
      "  STRIDE: 2\n",
      "  W0: 232\n",
      "  WA: 115.89\n",
      "  WM: 2.53\n"
     ]
    }
   ],
   "source": [
    "#metadata={\"num_classes\": 4, \"input_shape\": [49260, 3, 64, 64], \"codename\": \"Caitie\", \"benchmark\":47.008}\n",
    "regnet_space=RegNet(metadata,\n",
    "                    W0=[16, 64, 8],\n",
    "                    WA=[8, 48, 8],\n",
    "                    WM=[2.05,2.9,0.05],\n",
    "                    D=[8,22,1], \n",
    "                    G=[8,16,8], \n",
    "                    base_config=\"../configs/search_space/config.yaml\")\n",
    "print(regnet_space.cfg)"
   ]
  },
  {
   "cell_type": "markdown",
   "id": "5e924e37-4dac-40e7-b935-6fc72b321abc",
   "metadata": {},
   "source": [
    "# Create model"
   ]
  },
  {
   "cell_type": "code",
   "execution_count": 7,
   "id": "c5495d82-7d4c-42ec-bbe2-d7e57ef348a0",
   "metadata": {
    "tags": []
   },
   "outputs": [
    {
     "name": "stdout",
     "output_type": "stream",
     "text": [
      "Created model:  orchid_mink\n",
      "res_bottleneck_block\n",
      "{'bot_mul': 1.0, 'group_w': 8, 'se_r': 0.25, 'downsample': 'avg', 'drop_path_rate': 0.01, 'dropout_rate': 0.1}\n",
      "{'bot_mul': 1.0, 'group_w': 8, 'se_r': 0.25, 'downsample': 'avg', 'drop_path_rate': 0.01, 'dropout_rate': 0.1}\n",
      "{'bot_mul': 1.0, 'group_w': 8, 'se_r': 0.25, 'downsample': 'avg', 'drop_path_rate': 0.01, 'dropout_rate': 0.1}\n",
      "{'bot_mul': 1.0, 'group_w': 8, 'se_r': 0.25, 'downsample': 'avg', 'drop_path_rate': 0.01, 'dropout_rate': 0.1}\n",
      "{'stem_type': 'res_stem_cifar', 'stem_w': 28, 'input_channels': 3, 'block_type': 'res_bottleneck_block', 'depths': [1, 3, 6, 2], 'widths': [56, 136, 320, 776], 'strides': [2, 2, 2, 2], 'bot_muls': [1.0, 1.0, 1.0, 1.0], 'group_ws': [8, 8, 8, 8], 'head_w': 0, 'se_r': 0.25, 'num_classes': 20, 'downsample': 'avg', 'drop_path_rate': 0.01, 'dropout_rate': 0.1}\n",
      "res_bottleneck_block\n"
     ]
    }
   ],
   "source": [
    "\n",
    "# Folder to save the model\n",
    "test_folder=\"test_multiprocessing\"\n",
    "# Config update is used to modify other parameter from the config\n",
    "#config_updates=[\"REGNET.SE_ON\", False]\n",
    "#config_updates=[\"REGNET.DROP_RATE\",0.05, \"REGNET.DROPOUT\",0.1]\n",
    "\n",
    "config_updates=None\n",
    "WA,W0,WM,DEPTH, Group_w=[48,56,2.4,12,8]\n",
    "# if name is none, it creates a random name\n",
    "model_name=generate_slug(2).replace(\"-\", \"_\")\n",
    "model, info=regnet_space.create_model(params=[float(WA),int(W0),float(WM),int(DEPTH), Group_w], save_folder=test_folder, name=model_name, gen=None, config_updates=config_updates)\n"
   ]
  },
  {
   "cell_type": "markdown",
   "id": "2856eeff-712f-450d-8794-07b7ea14bd7d",
   "metadata": {
    "tags": []
   },
   "source": [
    "## Load model"
   ]
  },
  {
   "cell_type": "code",
   "execution_count": 5,
   "id": "360c1e35-5245-4bad-a505-f829f2e8df22",
   "metadata": {
    "tags": []
   },
   "outputs": [
    {
     "data": {
      "text/plain": [
       "'daring_crayfish'"
      ]
     },
     "execution_count": 5,
     "metadata": {},
     "output_type": "execute_result"
    }
   ],
   "source": [
    "model_name"
   ]
  },
  {
   "cell_type": "code",
   "execution_count": 6,
   "id": "67203f70-abe4-44c6-be05-acd966c15ae7",
   "metadata": {
    "collapsed": true,
    "jupyter": {
     "outputs_hidden": true
    },
    "tags": []
   },
   "outputs": [],
   "source": [
    "# If already trained, add weights_file.\n",
    "#weights_file=f\"{test_folder}/{model_name}/student_best\"\n",
    "\n",
    "#model,info=regnet_space.load_model(config_file=f\"{test_folder}/{model_name}/config.yaml\",\n",
    "#                                   weights_file=None)\n"
   ]
  },
  {
   "cell_type": "code",
   "execution_count": 6,
   "id": "2576dc40-05a8-4d13-a308-54b4b8b2d1c8",
   "metadata": {
    "collapsed": true,
    "jupyter": {
     "outputs_hidden": true
    },
    "tags": []
   },
   "outputs": [
    {
     "name": "stdout",
     "output_type": "stream",
     "text": [
      "----------------------------------------------------------------\n",
      "        Layer (type)               Output Shape         Param #\n",
      "================================================================\n",
      "            Conv2d-1           [-1, 28, 64, 64]             756\n",
      "       BatchNorm2d-2           [-1, 28, 64, 64]              56\n",
      "              ReLU-3           [-1, 28, 64, 64]               0\n",
      "      ResStemCifar-4           [-1, 28, 64, 64]               0\n",
      "            Conv2d-5           [-1, 56, 64, 64]           1,568\n",
      "       BatchNorm2d-6           [-1, 56, 64, 64]             112\n",
      "              ReLU-7           [-1, 56, 64, 64]               0\n",
      "            Conv2d-8           [-1, 56, 32, 32]           4,032\n",
      "       BatchNorm2d-9           [-1, 56, 32, 32]             112\n",
      "             ReLU-10           [-1, 56, 32, 32]               0\n",
      "AdaptiveAvgPool2d-11             [-1, 56, 1, 1]               0\n",
      "           Conv2d-12              [-1, 7, 1, 1]             399\n",
      "             ReLU-13              [-1, 7, 1, 1]               0\n",
      "           Conv2d-14             [-1, 56, 1, 1]             448\n",
      "          Sigmoid-15             [-1, 56, 1, 1]               0\n",
      "               SE-16           [-1, 56, 32, 32]               0\n",
      "           Conv2d-17           [-1, 56, 32, 32]           3,136\n",
      "      BatchNorm2d-18           [-1, 56, 32, 32]             112\n",
      "BottleneckTransform-19           [-1, 56, 32, 32]               0\n",
      "         DropPath-20           [-1, 56, 32, 32]               0\n",
      "        AvgPool2d-21           [-1, 28, 32, 32]               0\n",
      "           Conv2d-22           [-1, 56, 32, 32]           1,568\n",
      "         Identity-23           [-1, 56, 32, 32]               0\n",
      "         Identity-24           [-1, 56, 32, 32]               0\n",
      "   BatchNormAct2d-25           [-1, 56, 32, 32]             112\n",
      "      ConvNormAct-26           [-1, 56, 32, 32]               0\n",
      "             ReLU-27           [-1, 56, 32, 32]               0\n",
      "ResBottleneckBlock-28           [-1, 56, 32, 32]               0\n",
      "         AnyStage-29           [-1, 56, 32, 32]               0\n",
      "           Conv2d-30          [-1, 136, 32, 32]           7,616\n",
      "      BatchNorm2d-31          [-1, 136, 32, 32]             272\n",
      "             ReLU-32          [-1, 136, 32, 32]               0\n",
      "           Conv2d-33          [-1, 136, 16, 16]           9,792\n",
      "      BatchNorm2d-34          [-1, 136, 16, 16]             272\n",
      "             ReLU-35          [-1, 136, 16, 16]               0\n",
      "AdaptiveAvgPool2d-36            [-1, 136, 1, 1]               0\n",
      "           Conv2d-37             [-1, 14, 1, 1]           1,918\n",
      "             ReLU-38             [-1, 14, 1, 1]               0\n",
      "           Conv2d-39            [-1, 136, 1, 1]           2,040\n",
      "          Sigmoid-40            [-1, 136, 1, 1]               0\n",
      "               SE-41          [-1, 136, 16, 16]               0\n",
      "           Conv2d-42          [-1, 136, 16, 16]          18,496\n",
      "      BatchNorm2d-43          [-1, 136, 16, 16]             272\n",
      "BottleneckTransform-44          [-1, 136, 16, 16]               0\n",
      "         DropPath-45          [-1, 136, 16, 16]               0\n",
      "        AvgPool2d-46           [-1, 56, 16, 16]               0\n",
      "           Conv2d-47          [-1, 136, 16, 16]           7,616\n",
      "         Identity-48          [-1, 136, 16, 16]               0\n",
      "         Identity-49          [-1, 136, 16, 16]               0\n",
      "   BatchNormAct2d-50          [-1, 136, 16, 16]             272\n",
      "      ConvNormAct-51          [-1, 136, 16, 16]               0\n",
      "             ReLU-52          [-1, 136, 16, 16]               0\n",
      "ResBottleneckBlock-53          [-1, 136, 16, 16]               0\n",
      "           Conv2d-54          [-1, 136, 16, 16]          18,496\n",
      "      BatchNorm2d-55          [-1, 136, 16, 16]             272\n",
      "             ReLU-56          [-1, 136, 16, 16]               0\n",
      "           Conv2d-57          [-1, 136, 16, 16]           9,792\n",
      "      BatchNorm2d-58          [-1, 136, 16, 16]             272\n",
      "             ReLU-59          [-1, 136, 16, 16]               0\n",
      "AdaptiveAvgPool2d-60            [-1, 136, 1, 1]               0\n",
      "           Conv2d-61             [-1, 34, 1, 1]           4,658\n",
      "             ReLU-62             [-1, 34, 1, 1]               0\n",
      "           Conv2d-63            [-1, 136, 1, 1]           4,760\n",
      "          Sigmoid-64            [-1, 136, 1, 1]               0\n",
      "               SE-65          [-1, 136, 16, 16]               0\n",
      "           Conv2d-66          [-1, 136, 16, 16]          18,496\n",
      "      BatchNorm2d-67          [-1, 136, 16, 16]             272\n",
      "BottleneckTransform-68          [-1, 136, 16, 16]               0\n",
      "         DropPath-69          [-1, 136, 16, 16]               0\n",
      "         Identity-70          [-1, 136, 16, 16]               0\n",
      "             ReLU-71          [-1, 136, 16, 16]               0\n",
      "ResBottleneckBlock-72          [-1, 136, 16, 16]               0\n",
      "           Conv2d-73          [-1, 136, 16, 16]          18,496\n",
      "      BatchNorm2d-74          [-1, 136, 16, 16]             272\n",
      "             ReLU-75          [-1, 136, 16, 16]               0\n",
      "           Conv2d-76          [-1, 136, 16, 16]           9,792\n",
      "      BatchNorm2d-77          [-1, 136, 16, 16]             272\n",
      "             ReLU-78          [-1, 136, 16, 16]               0\n",
      "AdaptiveAvgPool2d-79            [-1, 136, 1, 1]               0\n",
      "           Conv2d-80             [-1, 34, 1, 1]           4,658\n",
      "             ReLU-81             [-1, 34, 1, 1]               0\n",
      "           Conv2d-82            [-1, 136, 1, 1]           4,760\n",
      "          Sigmoid-83            [-1, 136, 1, 1]               0\n",
      "               SE-84          [-1, 136, 16, 16]               0\n",
      "           Conv2d-85          [-1, 136, 16, 16]          18,496\n",
      "      BatchNorm2d-86          [-1, 136, 16, 16]             272\n",
      "BottleneckTransform-87          [-1, 136, 16, 16]               0\n",
      "         DropPath-88          [-1, 136, 16, 16]               0\n",
      "         Identity-89          [-1, 136, 16, 16]               0\n",
      "             ReLU-90          [-1, 136, 16, 16]               0\n",
      "ResBottleneckBlock-91          [-1, 136, 16, 16]               0\n",
      "         AnyStage-92          [-1, 136, 16, 16]               0\n",
      "           Conv2d-93          [-1, 320, 16, 16]          43,520\n",
      "      BatchNorm2d-94          [-1, 320, 16, 16]             640\n",
      "             ReLU-95          [-1, 320, 16, 16]               0\n",
      "           Conv2d-96            [-1, 320, 8, 8]          23,040\n",
      "      BatchNorm2d-97            [-1, 320, 8, 8]             640\n",
      "             ReLU-98            [-1, 320, 8, 8]               0\n",
      "AdaptiveAvgPool2d-99            [-1, 320, 1, 1]               0\n",
      "          Conv2d-100             [-1, 34, 1, 1]          10,914\n",
      "            ReLU-101             [-1, 34, 1, 1]               0\n",
      "          Conv2d-102            [-1, 320, 1, 1]          11,200\n",
      "         Sigmoid-103            [-1, 320, 1, 1]               0\n",
      "              SE-104            [-1, 320, 8, 8]               0\n",
      "          Conv2d-105            [-1, 320, 8, 8]         102,400\n",
      "     BatchNorm2d-106            [-1, 320, 8, 8]             640\n",
      "BottleneckTransform-107            [-1, 320, 8, 8]               0\n",
      "        DropPath-108            [-1, 320, 8, 8]               0\n",
      "       AvgPool2d-109            [-1, 136, 8, 8]               0\n",
      "          Conv2d-110            [-1, 320, 8, 8]          43,520\n",
      "        Identity-111            [-1, 320, 8, 8]               0\n",
      "        Identity-112            [-1, 320, 8, 8]               0\n",
      "  BatchNormAct2d-113            [-1, 320, 8, 8]             640\n",
      "     ConvNormAct-114            [-1, 320, 8, 8]               0\n",
      "            ReLU-115            [-1, 320, 8, 8]               0\n",
      "ResBottleneckBlock-116            [-1, 320, 8, 8]               0\n",
      "          Conv2d-117            [-1, 320, 8, 8]         102,400\n",
      "     BatchNorm2d-118            [-1, 320, 8, 8]             640\n",
      "            ReLU-119            [-1, 320, 8, 8]               0\n",
      "          Conv2d-120            [-1, 320, 8, 8]          23,040\n",
      "     BatchNorm2d-121            [-1, 320, 8, 8]             640\n",
      "            ReLU-122            [-1, 320, 8, 8]               0\n",
      "AdaptiveAvgPool2d-123            [-1, 320, 1, 1]               0\n",
      "          Conv2d-124             [-1, 80, 1, 1]          25,680\n",
      "            ReLU-125             [-1, 80, 1, 1]               0\n",
      "          Conv2d-126            [-1, 320, 1, 1]          25,920\n",
      "         Sigmoid-127            [-1, 320, 1, 1]               0\n",
      "              SE-128            [-1, 320, 8, 8]               0\n",
      "          Conv2d-129            [-1, 320, 8, 8]         102,400\n",
      "     BatchNorm2d-130            [-1, 320, 8, 8]             640\n",
      "BottleneckTransform-131            [-1, 320, 8, 8]               0\n",
      "        DropPath-132            [-1, 320, 8, 8]               0\n",
      "        Identity-133            [-1, 320, 8, 8]               0\n",
      "            ReLU-134            [-1, 320, 8, 8]               0\n",
      "ResBottleneckBlock-135            [-1, 320, 8, 8]               0\n",
      "          Conv2d-136            [-1, 320, 8, 8]         102,400\n",
      "     BatchNorm2d-137            [-1, 320, 8, 8]             640\n",
      "            ReLU-138            [-1, 320, 8, 8]               0\n",
      "          Conv2d-139            [-1, 320, 8, 8]          23,040\n",
      "     BatchNorm2d-140            [-1, 320, 8, 8]             640\n",
      "            ReLU-141            [-1, 320, 8, 8]               0\n",
      "AdaptiveAvgPool2d-142            [-1, 320, 1, 1]               0\n",
      "          Conv2d-143             [-1, 80, 1, 1]          25,680\n",
      "            ReLU-144             [-1, 80, 1, 1]               0\n",
      "          Conv2d-145            [-1, 320, 1, 1]          25,920\n",
      "         Sigmoid-146            [-1, 320, 1, 1]               0\n",
      "              SE-147            [-1, 320, 8, 8]               0\n",
      "          Conv2d-148            [-1, 320, 8, 8]         102,400\n",
      "     BatchNorm2d-149            [-1, 320, 8, 8]             640\n",
      "BottleneckTransform-150            [-1, 320, 8, 8]               0\n",
      "        DropPath-151            [-1, 320, 8, 8]               0\n",
      "        Identity-152            [-1, 320, 8, 8]               0\n",
      "            ReLU-153            [-1, 320, 8, 8]               0\n",
      "ResBottleneckBlock-154            [-1, 320, 8, 8]               0\n",
      "          Conv2d-155            [-1, 320, 8, 8]         102,400\n",
      "     BatchNorm2d-156            [-1, 320, 8, 8]             640\n",
      "            ReLU-157            [-1, 320, 8, 8]               0\n",
      "          Conv2d-158            [-1, 320, 8, 8]          23,040\n",
      "     BatchNorm2d-159            [-1, 320, 8, 8]             640\n",
      "            ReLU-160            [-1, 320, 8, 8]               0\n",
      "AdaptiveAvgPool2d-161            [-1, 320, 1, 1]               0\n",
      "          Conv2d-162             [-1, 80, 1, 1]          25,680\n",
      "            ReLU-163             [-1, 80, 1, 1]               0\n",
      "          Conv2d-164            [-1, 320, 1, 1]          25,920\n",
      "         Sigmoid-165            [-1, 320, 1, 1]               0\n",
      "              SE-166            [-1, 320, 8, 8]               0\n",
      "          Conv2d-167            [-1, 320, 8, 8]         102,400\n",
      "     BatchNorm2d-168            [-1, 320, 8, 8]             640\n",
      "BottleneckTransform-169            [-1, 320, 8, 8]               0\n",
      "        DropPath-170            [-1, 320, 8, 8]               0\n",
      "        Identity-171            [-1, 320, 8, 8]               0\n",
      "            ReLU-172            [-1, 320, 8, 8]               0\n",
      "ResBottleneckBlock-173            [-1, 320, 8, 8]               0\n",
      "          Conv2d-174            [-1, 320, 8, 8]         102,400\n",
      "     BatchNorm2d-175            [-1, 320, 8, 8]             640\n",
      "            ReLU-176            [-1, 320, 8, 8]               0\n",
      "          Conv2d-177            [-1, 320, 8, 8]          23,040\n",
      "     BatchNorm2d-178            [-1, 320, 8, 8]             640\n",
      "            ReLU-179            [-1, 320, 8, 8]               0\n",
      "AdaptiveAvgPool2d-180            [-1, 320, 1, 1]               0\n",
      "          Conv2d-181             [-1, 80, 1, 1]          25,680\n",
      "            ReLU-182             [-1, 80, 1, 1]               0\n",
      "          Conv2d-183            [-1, 320, 1, 1]          25,920\n",
      "         Sigmoid-184            [-1, 320, 1, 1]               0\n",
      "              SE-185            [-1, 320, 8, 8]               0\n",
      "          Conv2d-186            [-1, 320, 8, 8]         102,400\n",
      "     BatchNorm2d-187            [-1, 320, 8, 8]             640\n",
      "BottleneckTransform-188            [-1, 320, 8, 8]               0\n",
      "        DropPath-189            [-1, 320, 8, 8]               0\n",
      "        Identity-190            [-1, 320, 8, 8]               0\n",
      "            ReLU-191            [-1, 320, 8, 8]               0\n",
      "ResBottleneckBlock-192            [-1, 320, 8, 8]               0\n",
      "          Conv2d-193            [-1, 320, 8, 8]         102,400\n",
      "     BatchNorm2d-194            [-1, 320, 8, 8]             640\n",
      "            ReLU-195            [-1, 320, 8, 8]               0\n",
      "          Conv2d-196            [-1, 320, 8, 8]          23,040\n",
      "     BatchNorm2d-197            [-1, 320, 8, 8]             640\n",
      "            ReLU-198            [-1, 320, 8, 8]               0\n",
      "AdaptiveAvgPool2d-199            [-1, 320, 1, 1]               0\n",
      "          Conv2d-200             [-1, 80, 1, 1]          25,680\n",
      "            ReLU-201             [-1, 80, 1, 1]               0\n",
      "          Conv2d-202            [-1, 320, 1, 1]          25,920\n",
      "         Sigmoid-203            [-1, 320, 1, 1]               0\n",
      "              SE-204            [-1, 320, 8, 8]               0\n",
      "          Conv2d-205            [-1, 320, 8, 8]         102,400\n",
      "     BatchNorm2d-206            [-1, 320, 8, 8]             640\n",
      "BottleneckTransform-207            [-1, 320, 8, 8]               0\n",
      "        DropPath-208            [-1, 320, 8, 8]               0\n",
      "        Identity-209            [-1, 320, 8, 8]               0\n",
      "            ReLU-210            [-1, 320, 8, 8]               0\n",
      "ResBottleneckBlock-211            [-1, 320, 8, 8]               0\n",
      "        AnyStage-212            [-1, 320, 8, 8]               0\n",
      "          Conv2d-213            [-1, 776, 8, 8]         248,320\n",
      "     BatchNorm2d-214            [-1, 776, 8, 8]           1,552\n",
      "            ReLU-215            [-1, 776, 8, 8]               0\n",
      "          Conv2d-216            [-1, 776, 4, 4]          55,872\n",
      "     BatchNorm2d-217            [-1, 776, 4, 4]           1,552\n",
      "            ReLU-218            [-1, 776, 4, 4]               0\n",
      "AdaptiveAvgPool2d-219            [-1, 776, 1, 1]               0\n",
      "          Conv2d-220             [-1, 80, 1, 1]          62,160\n",
      "            ReLU-221             [-1, 80, 1, 1]               0\n",
      "          Conv2d-222            [-1, 776, 1, 1]          62,856\n",
      "         Sigmoid-223            [-1, 776, 1, 1]               0\n",
      "              SE-224            [-1, 776, 4, 4]               0\n",
      "          Conv2d-225            [-1, 776, 4, 4]         602,176\n",
      "     BatchNorm2d-226            [-1, 776, 4, 4]           1,552\n",
      "BottleneckTransform-227            [-1, 776, 4, 4]               0\n",
      "        DropPath-228            [-1, 776, 4, 4]               0\n",
      "       AvgPool2d-229            [-1, 320, 4, 4]               0\n",
      "          Conv2d-230            [-1, 776, 4, 4]         248,320\n",
      "        Identity-231            [-1, 776, 4, 4]               0\n",
      "        Identity-232            [-1, 776, 4, 4]               0\n",
      "  BatchNormAct2d-233            [-1, 776, 4, 4]           1,552\n",
      "     ConvNormAct-234            [-1, 776, 4, 4]               0\n",
      "            ReLU-235            [-1, 776, 4, 4]               0\n",
      "ResBottleneckBlock-236            [-1, 776, 4, 4]               0\n",
      "          Conv2d-237            [-1, 776, 4, 4]         602,176\n",
      "     BatchNorm2d-238            [-1, 776, 4, 4]           1,552\n",
      "            ReLU-239            [-1, 776, 4, 4]               0\n",
      "          Conv2d-240            [-1, 776, 4, 4]          55,872\n",
      "     BatchNorm2d-241            [-1, 776, 4, 4]           1,552\n",
      "            ReLU-242            [-1, 776, 4, 4]               0\n",
      "AdaptiveAvgPool2d-243            [-1, 776, 1, 1]               0\n",
      "          Conv2d-244            [-1, 194, 1, 1]         150,738\n",
      "            ReLU-245            [-1, 194, 1, 1]               0\n",
      "          Conv2d-246            [-1, 776, 1, 1]         151,320\n",
      "         Sigmoid-247            [-1, 776, 1, 1]               0\n",
      "              SE-248            [-1, 776, 4, 4]               0\n",
      "          Conv2d-249            [-1, 776, 4, 4]         602,176\n",
      "     BatchNorm2d-250            [-1, 776, 4, 4]           1,552\n",
      "BottleneckTransform-251            [-1, 776, 4, 4]               0\n",
      "        DropPath-252            [-1, 776, 4, 4]               0\n",
      "        Identity-253            [-1, 776, 4, 4]               0\n",
      "            ReLU-254            [-1, 776, 4, 4]               0\n",
      "ResBottleneckBlock-255            [-1, 776, 4, 4]               0\n",
      "        AnyStage-256            [-1, 776, 4, 4]               0\n",
      "AdaptiveAvgPool2d-257            [-1, 776, 1, 1]               0\n",
      "         Dropout-258                  [-1, 776]               0\n",
      "          Linear-259                   [-1, 20]          15,540\n",
      "         AnyHead-260                   [-1, 20]               0\n",
      "================================================================\n",
      "Total params: 4,687,357\n",
      "Trainable params: 4,687,357\n",
      "Non-trainable params: 0\n",
      "----------------------------------------------------------------\n",
      "Input size (MB): 0.05\n",
      "Forward/backward pass size (MB): 50.46\n",
      "Params size (MB): 17.88\n",
      "Estimated Total Size (MB): 68.39\n",
      "----------------------------------------------------------------\n"
     ]
    }
   ],
   "source": [
    "from torchsummary import summary\n",
    "summary(model, (3,64,64))"
   ]
  },
  {
   "cell_type": "code",
   "execution_count": 12,
   "id": "4288b5f5-e3e8-4604-b4d0-41568a229eda",
   "metadata": {
    "tags": []
   },
   "outputs": [
    {
     "data": {
      "application/vnd.plotly.v1+json": {
       "config": {
        "plotlyServerURL": "https://plot.ly"
       },
       "data": [
        {
         "marker": {
          "line": {
           "width": 1
          },
          "opacity": 0.6
         },
         "mode": "lines+markers",
         "name": "orchid_mink_12",
         "type": "scatter",
         "x": [
          1,
          2,
          3,
          4,
          5,
          6,
          7,
          8,
          9,
          10,
          11,
          12
         ],
         "y": [
          56,
          136,
          136,
          136,
          320,
          320,
          320,
          320,
          320,
          320,
          776,
          776
         ]
        }
       ],
       "layout": {
        "height": 700,
        "template": {
         "data": {
          "pie": [
           {
            "automargin": true,
            "type": "pie"
           }
          ],
          "scatter": [
           {
            "line": {
             "width": 3
            },
            "marker": {
             "size": 9
            },
            "type": "scatter"
           }
          ],
          "scatter3d": [
           {
            "line": {
             "width": 3
            },
            "marker": {
             "size": 9
            },
            "type": "scatter3d"
           }
          ],
          "scattergeo": [
           {
            "line": {
             "width": 3
            },
            "marker": {
             "size": 9
            },
            "type": "scattergeo"
           }
          ],
          "scattergl": [
           {
            "line": {
             "width": 3
            },
            "marker": {
             "size": 9
            },
            "type": "scattergl"
           }
          ],
          "scatterpolar": [
           {
            "line": {
             "width": 3
            },
            "marker": {
             "size": 9
            },
            "type": "scatterpolar"
           }
          ],
          "scatterpolargl": [
           {
            "line": {
             "width": 3
            },
            "marker": {
             "size": 9
            },
            "type": "scatterpolargl"
           }
          ],
          "scatterternary": [
           {
            "line": {
             "width": 3
            },
            "marker": {
             "size": 9
            },
            "type": "scatterternary"
           }
          ],
          "table": [
           {
            "cells": {
             "height": 30
            },
            "header": {
             "height": 36
            },
            "type": "table"
           }
          ]
         },
         "layout": {
          "font": {
           "size": 18
          },
          "xaxis": {
           "title": {
            "standoff": 15
           }
          },
          "yaxis": {
           "title": {
            "standoff": 15
           }
          }
         }
        },
        "title": {
         "text": "Widths per block"
        },
        "width": 900,
        "xaxis": {
         "autorange": true,
         "range": [
          0.2838869797632684,
          12.716113020236731
         ],
         "title": {
          "text": "Block index"
         },
         "type": "linear"
        },
        "yaxis": {
         "autorange": true,
         "range": [
          6.147783251231523,
          825.8522167487685
         ],
         "title": {
          "text": "Width"
         },
         "type": "linear"
        }
       }
      },
      "image/png": "[encoded data removed]",
      "text/html": [
       "<div>                            <div id=\"035e1577-3112-491a-bda9-e5f68fda9997\" class=\"plotly-graph-div\" style=\"height:700px; width:900px;\"></div>            <script type=\"text/javascript\">                require([\"plotly\"], function(Plotly) {                    window.PLOTLYENV=window.PLOTLYENV || {};                                    if (document.getElementById(\"035e1577-3112-491a-bda9-e5f68fda9997\")) {                    Plotly.newPlot(                        \"035e1577-3112-491a-bda9-e5f68fda9997\",                        [{\"marker\":{\"line\":{\"width\":1},\"opacity\":0.6},\"mode\":\"lines+markers\",\"name\":\"orchid_mink_12\",\"x\":[1,2,3,4,5,6,7,8,9,10,11,12],\"y\":[56,136,136,136,320,320,320,320,320,320,776,776],\"type\":\"scatter\"}],                        {\"template\":{\"data\":{\"pie\":[{\"automargin\":true,\"type\":\"pie\"}],\"scatter3d\":[{\"line\":{\"width\":3},\"marker\":{\"size\":9},\"type\":\"scatter3d\"}],\"scattergeo\":[{\"line\":{\"width\":3},\"marker\":{\"size\":9},\"type\":\"scattergeo\"}],\"scattergl\":[{\"line\":{\"width\":3},\"marker\":{\"size\":9},\"type\":\"scattergl\"}],\"scatterpolargl\":[{\"line\":{\"width\":3},\"marker\":{\"size\":9},\"type\":\"scatterpolargl\"}],\"scatterpolar\":[{\"line\":{\"width\":3},\"marker\":{\"size\":9},\"type\":\"scatterpolar\"}],\"scatter\":[{\"line\":{\"width\":3},\"marker\":{\"size\":9},\"type\":\"scatter\"}],\"scatterternary\":[{\"line\":{\"width\":3},\"marker\":{\"size\":9},\"type\":\"scatterternary\"}],\"table\":[{\"cells\":{\"height\":30},\"header\":{\"height\":36},\"type\":\"table\"}]},\"layout\":{\"font\":{\"size\":18},\"xaxis\":{\"title\":{\"standoff\":15}},\"yaxis\":{\"title\":{\"standoff\":15}}}},\"title\":{\"text\":\"Widths per block\"},\"xaxis\":{\"title\":{\"text\":\"Block index\"}},\"yaxis\":{\"title\":{\"text\":\"Width\"}},\"height\":700,\"width\":900},                        {\"responsive\": true}                    ).then(function(){\n",
       "                            \n",
       "var gd = document.getElementById('035e1577-3112-491a-bda9-e5f68fda9997');\n",
       "var x = new MutationObserver(function (mutations, observer) {{\n",
       "        var display = window.getComputedStyle(gd).display;\n",
       "        if (!display || display === 'none') {{\n",
       "            console.log([gd, 'removed!']);\n",
       "            Plotly.purge(gd);\n",
       "            observer.disconnect();\n",
       "        }}\n",
       "}});\n",
       "\n",
       "// Listen for the removal of the full notebook cells\n",
       "var notebookContainer = gd.closest('#notebook-container');\n",
       "if (notebookContainer) {{\n",
       "    x.observe(notebookContainer, {childList: true});\n",
       "}}\n",
       "\n",
       "// Listen for the clearing of the current output cell\n",
       "var outputEl = gd.closest('.output');\n",
       "if (outputEl) {{\n",
       "    x.observe(outputEl, {childList: true});\n",
       "}}\n",
       "\n",
       "                        })                };                });            </script>        </div>"
      ]
     },
     "metadata": {},
     "output_type": "display_data"
    }
   ],
   "source": [
    "create_widths_plot({model_name:info})"
   ]
  },
  {
   "cell_type": "markdown",
   "id": "c83dec04-1cf0-440b-b75b-ca6cb2f16c29",
   "metadata": {},
   "source": [
    "## Train model"
   ]
  },
  {
   "cell_type": "code",
   "execution_count": 8,
   "id": "69b5f21e-0877-4ee1-a9d8-5bc3965b803c",
   "metadata": {
    "tags": []
   },
   "outputs": [
    {
     "name": "stdout",
     "output_type": "stream",
     "text": [
      "\u001b[36m[INFO] CONFIG:\n",
      "DATASET:\n",
      "  CLASSES: 0\n",
      "  INPUT_SHAPE: []\n",
      "  NUM_WORKERS: 2\n",
      "  TEST:\n",
      "    BATCH_SIZE: 64\n",
      "  TYPE: ''\n",
      "DISTILLER:\n",
      "  STUDENT: null\n",
      "  TEACHER: NONE\n",
      "  TYPE: NONE\n",
      "EXPERIMENT:\n",
      "  LOGIT_STAND: false\n",
      "  NAME: ''\n",
      "  PROJECT: ''\n",
      "SOLVER:\n",
      "  BATCH_SIZE: 128\n",
      "  EPOCHS: 5\n",
      "  LABEL_SMOOTHING: 0.1\n",
      "  LR: 0.025\n",
      "  LR_SCHEDULER: cosine_annealing\n",
      "  MOMENTUM: 0.9\n",
      "  TOPK: 2\n",
      "  TRAINER: base\n",
      "  TYPE: SGD\n",
      "  WARMUP: true\n",
      "  WEIGHT_DECAY: 4.0e-05\n",
      "\u001b[0m\n"
     ]
    }
   ],
   "source": [
    "# Show train config file\n",
    "metadata[\"train_config_path\"]=\"../configs/train/vanilla_generation.yaml\"\n",
    "train_cfg=get_cfg()\n",
    "train_cfg.merge_from_file(metadata[\"train_config_path\"])\n",
    "show_cfg(train_cfg)"
   ]
  },
  {
   "cell_type": "code",
   "execution_count": 7,
   "id": "62d4056e-470d-4faf-8332-f744a45b5062",
   "metadata": {
    "tags": []
   },
   "outputs": [],
   "source": [
    "clear_output(wait=True)\n",
    "metadata[\"experiment_name\"]=f\"{test_folder}/{model_name}_base\"\n",
    "trainer=TrainerDistillation(model, device, train_loader, valid_loader, metadata) \n",
    "#trainer.train()"
   ]
  },
  {
   "cell_type": "code",
   "execution_count": 1,
   "id": "be2c5045-b1ec-492d-9656-15bf5bcd917e",
   "metadata": {
    "tags": []
   },
   "outputs": [
    {
     "name": "stdout",
     "output_type": "stream",
     "text": [
      "Defaulting to user installation because normal site-packages is not writeable\n",
      "Collecting triton\n",
      "  Downloading triton-2.3.1-cp312-cp312-manylinux_2_17_x86_64.manylinux2014_x86_64.whl.metadata (1.4 kB)\n",
      "Requirement already satisfied: filelock in /apps/jupyterhub/jh3.1.1-py3.11/envs/pytorch-2.2.0/lib/python3.12/site-packages (from triton) (3.13.1)\n",
      "Downloading triton-2.3.1-cp312-cp312-manylinux_2_17_x86_64.manylinux2014_x86_64.whl (168.1 MB)\n",
      "\u001b[2K   \u001b[90m━━━━━━━━━━━━━━━━━━━━━━━━━━━━━━━━━━━━━━━━\u001b[0m \u001b[32m168.1/168.1 MB\u001b[0m \u001b[31m5.7 MB/s\u001b[0m eta \u001b[36m0:00:00\u001b[0m:00:01\u001b[0m00:01\u001b[0m\n",
      "\u001b[?25hInstalling collected packages: triton\n",
      "Successfully installed triton-2.3.1\n",
      "Note: you may need to restart the kernel to use updated packages.\n"
     ]
    }
   ],
   "source": [
    "#%pip install --proxy http://proxy:80 triton -U --pre\n"
   ]
  },
  {
   "cell_type": "code",
   "execution_count": 4,
   "id": "88229085-4483-43f5-ab20-fe47c02b454d",
   "metadata": {
    "tags": []
   },
   "outputs": [
    {
     "name": "stdout",
     "output_type": "stream",
     "text": [
      "[RandomCrop(size=(28, 28), padding=[4, 4, 4, 4], pad_if_needed=False, fill=0, padding_mode=constant), RandomHorizontalFlip(p=0.5)]\n",
      "[Normalize(mean=[tensor(0.0053), tensor(0.0066), tensor(0.0077)], std=[tensor(1.0065), tensor(1.0080), tensor(1.0092)], inplace=False)]\n",
      "[Normalize(mean=[tensor(0.0053), tensor(0.0066), tensor(0.0077)], std=[tensor(1.0065), tensor(1.0080), tensor(1.0092)], inplace=False)]\n",
      "Created model:  daring_crayfish\n",
      "res_bottleneck_block\n",
      "{'bot_mul': 1.0, 'group_w': 8, 'se_r': 0.25, 'downsample': 'avg', 'drop_path_rate': 0.01, 'dropout_rate': 0.1}\n",
      "{'bot_mul': 1.0, 'group_w': 8, 'se_r': 0.25, 'downsample': 'avg', 'drop_path_rate': 0.01, 'dropout_rate': 0.1}\n",
      "{'bot_mul': 1.0, 'group_w': 8, 'se_r': 0.25, 'downsample': 'avg', 'drop_path_rate': 0.01, 'dropout_rate': 0.1}\n",
      "{'bot_mul': 1.0, 'group_w': 8, 'se_r': 0.25, 'downsample': 'avg', 'drop_path_rate': 0.01, 'dropout_rate': 0.1}\n",
      "{'stem_type': 'res_stem_cifar', 'stem_w': 28, 'input_channels': 3, 'block_type': 'res_bottleneck_block', 'depths': [1, 3, 6, 2], 'widths': [64, 136, 296, 640], 'strides': [2, 2, 2, 2], 'bot_muls': [1.0, 1.0, 1.0, 1.0], 'group_ws': [8, 8, 8, 8], 'head_w': 0, 'se_r': 0.25, 'num_classes': 20, 'downsample': 'avg', 'drop_path_rate': 0.01, 'dropout_rate': 0.1}\n",
      "res_bottleneck_block\n",
      "Created model:  dandelion_turkey\n",
      "res_bottleneck_block\n",
      "{'bot_mul': 1.0, 'group_w': 8, 'se_r': 0.25, 'downsample': 'avg', 'drop_path_rate': 0.01, 'dropout_rate': 0.1}\n",
      "{'bot_mul': 1.0, 'group_w': 8, 'se_r': 0.25, 'downsample': 'avg', 'drop_path_rate': 0.01, 'dropout_rate': 0.1}\n",
      "{'bot_mul': 1.0, 'group_w': 8, 'se_r': 0.25, 'downsample': 'avg', 'drop_path_rate': 0.01, 'dropout_rate': 0.1}\n",
      "{'bot_mul': 1.0, 'group_w': 8, 'se_r': 0.25, 'downsample': 'avg', 'drop_path_rate': 0.01, 'dropout_rate': 0.1}\n",
      "{'stem_type': 'res_stem_cifar', 'stem_w': 28, 'input_channels': 3, 'block_type': 'res_bottleneck_block', 'depths': [1, 4, 9, 6], 'widths': [40, 104, 280, 744], 'strides': [2, 2, 2, 2], 'bot_muls': [1.0, 1.0, 1.0, 1.0], 'group_ws': [8, 8, 8, 8], 'head_w': 0, 'se_r': 0.25, 'num_classes': 20, 'downsample': 'avg', 'drop_path_rate': 0.01, 'dropout_rate': 0.1}\n",
      "res_bottleneck_block\n",
      "Corrected W0:  56\n",
      "Created model:  kind_silkworm\n",
      "res_bottleneck_block\n",
      "{'bot_mul': 1.0, 'group_w': 8, 'se_r': 0.25, 'downsample': 'avg', 'drop_path_rate': 0.01, 'dropout_rate': 0.1}\n",
      "{'bot_mul': 1.0, 'group_w': 8, 'se_r': 0.25, 'downsample': 'avg', 'drop_path_rate': 0.01, 'dropout_rate': 0.1}\n",
      "{'bot_mul': 1.0, 'group_w': 8, 'se_r': 0.25, 'downsample': 'avg', 'drop_path_rate': 0.01, 'dropout_rate': 0.1}\n",
      "{'stem_type': 'res_stem_cifar', 'stem_w': 28, 'input_channels': 3, 'block_type': 'res_bottleneck_block', 'depths': [2, 4, 8], 'widths': [56, 152, 392], 'strides': [2, 2, 2], 'bot_muls': [1.0, 1.0, 1.0], 'group_ws': [8, 8, 8], 'head_w': 0, 'se_r': 0.25, 'num_classes': 20, 'downsample': 'avg', 'drop_path_rate': 0.01, 'dropout_rate': 0.1}\n",
      "res_bottleneck_block\n",
      "Created model:  resourceful_okapi\n",
      "res_bottleneck_block\n",
      "{'bot_mul': 1.0, 'group_w': 8, 'se_r': 0.25, 'downsample': 'avg', 'drop_path_rate': 0.01, 'dropout_rate': 0.1}\n",
      "{'bot_mul': 1.0, 'group_w': 8, 'se_r': 0.25, 'downsample': 'avg', 'drop_path_rate': 0.01, 'dropout_rate': 0.1}\n",
      "{'bot_mul': 1.0, 'group_w': 8, 'se_r': 0.25, 'downsample': 'avg', 'drop_path_rate': 0.01, 'dropout_rate': 0.1}\n",
      "{'bot_mul': 1.0, 'group_w': 8, 'se_r': 0.25, 'downsample': 'avg', 'drop_path_rate': 0.01, 'dropout_rate': 0.1}\n",
      "{'stem_type': 'res_stem_cifar', 'stem_w': 28, 'input_channels': 3, 'block_type': 'res_bottleneck_block', 'depths': [1, 3, 7, 6], 'widths': [64, 152, 368, 888], 'strides': [2, 2, 2, 2], 'bot_muls': [1.0, 1.0, 1.0, 1.0], 'group_ws': [8, 8, 8, 8], 'head_w': 0, 'se_r': 0.25, 'num_classes': 20, 'downsample': 'avg', 'drop_path_rate': 0.01, 'dropout_rate': 0.1}\n",
      "res_bottleneck_block\n",
      "Created model:  meticulous_panda\n",
      "res_bottleneck_block\n",
      "{'bot_mul': 1.0, 'group_w': 8, 'se_r': 0.25, 'downsample': 'avg', 'drop_path_rate': 0.01, 'dropout_rate': 0.1}\n",
      "{'bot_mul': 1.0, 'group_w': 8, 'se_r': 0.25, 'downsample': 'avg', 'drop_path_rate': 0.01, 'dropout_rate': 0.1}\n",
      "{'bot_mul': 1.0, 'group_w': 8, 'se_r': 0.25, 'downsample': 'avg', 'drop_path_rate': 0.01, 'dropout_rate': 0.1}\n",
      "{'bot_mul': 1.0, 'group_w': 8, 'se_r': 0.25, 'downsample': 'avg', 'drop_path_rate': 0.01, 'dropout_rate': 0.1}\n",
      "{'stem_type': 'res_stem_cifar', 'stem_w': 28, 'input_channels': 3, 'block_type': 'res_bottleneck_block', 'depths': [1, 3, 7, 7], 'widths': [16, 32, 64, 136], 'strides': [2, 2, 2, 2], 'bot_muls': [1.0, 1.0, 1.0, 1.0], 'group_ws': [8, 8, 8, 8], 'head_w': 0, 'se_r': 0.25, 'num_classes': 20, 'downsample': 'avg', 'drop_path_rate': 0.01, 'dropout_rate': 0.1}\n",
      "res_bottleneck_block\n",
      "Corrected W0:  64\n",
      "Created model:  archetypal_vicugna\n",
      "res_bottleneck_block\n",
      "{'bot_mul': 1.0, 'group_w': 8, 'se_r': 0.25, 'downsample': 'avg', 'drop_path_rate': 0.01, 'dropout_rate': 0.1}\n",
      "{'bot_mul': 1.0, 'group_w': 8, 'se_r': 0.25, 'downsample': 'avg', 'drop_path_rate': 0.01, 'dropout_rate': 0.1}\n",
      "{'bot_mul': 1.0, 'group_w': 8, 'se_r': 0.25, 'downsample': 'avg', 'drop_path_rate': 0.01, 'dropout_rate': 0.1}\n",
      "{'bot_mul': 1.0, 'group_w': 8, 'se_r': 0.25, 'downsample': 'avg', 'drop_path_rate': 0.01, 'dropout_rate': 0.1}\n",
      "{'stem_type': 'res_stem_cifar', 'stem_w': 28, 'input_channels': 3, 'block_type': 'res_bottleneck_block', 'depths': [1, 4, 10, 4], 'widths': [64, 176, 464, 1256], 'strides': [2, 2, 2, 2], 'bot_muls': [1.0, 1.0, 1.0, 1.0], 'group_ws': [8, 8, 8, 8], 'head_w': 0, 'se_r': 0.25, 'num_classes': 20, 'downsample': 'avg', 'drop_path_rate': 0.01, 'dropout_rate': 0.1}\n",
      "res_bottleneck_block\n",
      "Created model:  adept_magpie\n",
      "res_bottleneck_block\n",
      "{'bot_mul': 1.0, 'group_w': 16, 'se_r': 0.25, 'downsample': 'avg', 'drop_path_rate': 0.01, 'dropout_rate': 0.1}\n",
      "{'bot_mul': 1.0, 'group_w': 16, 'se_r': 0.25, 'downsample': 'avg', 'drop_path_rate': 0.01, 'dropout_rate': 0.1}\n",
      "{'bot_mul': 1.0, 'group_w': 16, 'se_r': 0.25, 'downsample': 'avg', 'drop_path_rate': 0.01, 'dropout_rate': 0.1}\n",
      "{'stem_type': 'res_stem_cifar', 'stem_w': 28, 'input_channels': 3, 'block_type': 'res_bottleneck_block', 'depths': [1, 4, 6], 'widths': [32, 112, 336], 'strides': [2, 2, 2], 'bot_muls': [1.0, 1.0, 1.0], 'group_ws': [16, 16, 16], 'head_w': 0, 'se_r': 0.25, 'num_classes': 20, 'downsample': 'avg', 'drop_path_rate': 0.01, 'dropout_rate': 0.1}\n",
      "res_bottleneck_block\n",
      "Corrected W0:  56\n",
      "Created model:  clever_hawk\n",
      "res_bottleneck_block\n",
      "{'bot_mul': 1.0, 'group_w': 8, 'se_r': 0.25, 'downsample': 'avg', 'drop_path_rate': 0.01, 'dropout_rate': 0.1}\n",
      "{'bot_mul': 1.0, 'group_w': 8, 'se_r': 0.25, 'downsample': 'avg', 'drop_path_rate': 0.01, 'dropout_rate': 0.1}\n",
      "{'bot_mul': 1.0, 'group_w': 8, 'se_r': 0.25, 'downsample': 'avg', 'drop_path_rate': 0.01, 'dropout_rate': 0.1}\n",
      "{'stem_type': 'res_stem_cifar', 'stem_w': 28, 'input_channels': 3, 'block_type': 'res_bottleneck_block', 'depths': [1, 4, 7], 'widths': [56, 152, 424], 'strides': [2, 2, 2], 'bot_muls': [1.0, 1.0, 1.0], 'group_ws': [8, 8, 8], 'head_w': 0, 'se_r': 0.25, 'num_classes': 20, 'downsample': 'avg', 'drop_path_rate': 0.01, 'dropout_rate': 0.1}\n",
      "res_bottleneck_block\n",
      "Corrected W0:  48\n",
      "Created model:  golden_coyote\n",
      "res_bottleneck_block\n",
      "{'bot_mul': 1.0, 'group_w': 16, 'se_r': 0.25, 'downsample': 'avg', 'drop_path_rate': 0.01, 'dropout_rate': 0.1}\n",
      "{'bot_mul': 1.0, 'group_w': 16, 'se_r': 0.25, 'downsample': 'avg', 'drop_path_rate': 0.01, 'dropout_rate': 0.1}\n",
      "{'bot_mul': 1.0, 'group_w': 16, 'se_r': 0.25, 'downsample': 'avg', 'drop_path_rate': 0.01, 'dropout_rate': 0.1}\n",
      "{'bot_mul': 1.0, 'group_w': 16, 'se_r': 0.25, 'downsample': 'avg', 'drop_path_rate': 0.01, 'dropout_rate': 0.1}\n",
      "{'stem_type': 'res_stem_cifar', 'stem_w': 28, 'input_channels': 3, 'block_type': 'res_bottleneck_block', 'depths': [1, 2, 5, 10], 'widths': [48, 112, 256, 576], 'strides': [2, 2, 2, 2], 'bot_muls': [1.0, 1.0, 1.0, 1.0], 'group_ws': [16, 16, 16, 16], 'head_w': 0, 'se_r': 0.25, 'num_classes': 20, 'downsample': 'avg', 'drop_path_rate': 0.01, 'dropout_rate': 0.1}\n",
      "res_bottleneck_block\n",
      "Created model:  arboreal_gerbil\n",
      "res_bottleneck_block\n",
      "{'bot_mul': 1.0, 'group_w': 16, 'se_r': 0.25, 'downsample': 'avg', 'drop_path_rate': 0.01, 'dropout_rate': 0.1}\n",
      "{'bot_mul': 1.0, 'group_w': 16, 'se_r': 0.25, 'downsample': 'avg', 'drop_path_rate': 0.01, 'dropout_rate': 0.1}\n",
      "{'bot_mul': 1.0, 'group_w': 16, 'se_r': 0.25, 'downsample': 'avg', 'drop_path_rate': 0.01, 'dropout_rate': 0.1}\n",
      "{'bot_mul': 1.0, 'group_w': 16, 'se_r': 0.25, 'downsample': 'avg', 'drop_path_rate': 0.01, 'dropout_rate': 0.1}\n",
      "{'stem_type': 'res_stem_cifar', 'stem_w': 28, 'input_channels': 3, 'block_type': 'res_bottleneck_block', 'depths': [1, 4, 10, 7], 'widths': [64, 160, 448, 1296], 'strides': [2, 2, 2, 2], 'bot_muls': [1.0, 1.0, 1.0, 1.0], 'group_ws': [16, 16, 16, 16], 'head_w': 0, 'se_r': 0.25, 'num_classes': 20, 'downsample': 'avg', 'drop_path_rate': 0.01, 'dropout_rate': 0.1}\n",
      "res_bottleneck_block\n",
      "\u001b[38;5;247mic\u001b[39m\u001b[38;5;245m|\u001b[39m\u001b[38;5;245m \u001b[39m\u001b[38;5;247mnum_initial_processes\u001b[39m\u001b[38;5;245m:\u001b[39m\u001b[38;5;245m \u001b[39m\u001b[38;5;36m0\u001b[39m\n",
      "Gpu free memory: 10.095 GB\n",
      "\u001b[32m[TRAIN] Epoch:1| Time(data):0.000| Time(train):0.065| Loss:2.9339| Top-1:8.379| \u001b[0m\n",
      "\u001b[31m[EVAL] Top-1:13.067| Top-2:22.413\u001b[0m: 100%|██████| 235/235 [00:04<00:00, 53.07it/s]\u001b[0m\n",
      "\u001b[32m[TRAIN] Epoch:2| Time(data):0.000| Time(train):0.065| Loss:2.6846| Top-1:14.591|\u001b[0m\n",
      "\u001b[31m[EVAL] Top-1:18.807| Top-2:30.213\u001b[0m: 100%|██████| 235/235 [00:04<00:00, 53.05it/s]\u001b[0m\n",
      "\u001b[32m[TRAIN] Epoch:3| Time(data):0.000| Time(train):0.065| Loss:2.5245| Top-1:19.768|\u001b[0m\n",
      "\u001b[31m[EVAL] Top-1:23.167| Top-2:36.240\u001b[0m: 100%|██████| 235/235 [00:04<00:00, 53.05it/s]\u001b[0m\n",
      "\u001b[32m[TRAIN] Epoch:4| Time(data):0.000| Time(train):0.065| Loss:2.4046| Top-1:24.631|\u001b[0m\n",
      "\u001b[31m[EVAL] Top-1:28.700| Top-2:42.907\u001b[0m: 100%|██████| 235/235 [00:04<00:00, 52.95it/s]\u001b[0m\n",
      "\u001b[32m[TRAIN] Epoch:5| Time(data):0.000| Time(train):0.064| Loss:2.3292| Top-1:28.238|\u001b[0m^C\n",
      "Traceback (most recent call last):\n",
      "  File \"/home/hpc/iwb3/iwb3021h/NAS_CHALLENGE/NAS_Challenge_AutoML_2024/tests/mp.py\", line 152, in <module>\n",
      "    train_mp(model,test_folder,model_name,metadata,device,train_loader,valid_loader)\n",
      "  File \"/home/hpc/iwb3/iwb3021h/NAS_CHALLENGE/NAS_Challenge_AutoML_2024/tests/mp.py\", line 81, in train_mp\n",
      "    trainer.train()\n",
      "  File \"/home/hpc/iwb3/iwb3021h/NAS_CHALLENGE/NAS_Challenge_AutoML_2024/tests/../trainer.py\", line 237, in train\n",
      "    self.train_epoch(epoch)\n",
      "  File \"/home/hpc/iwb3/iwb3021h/NAS_CHALLENGE/NAS_Challenge_AutoML_2024/tests/../trainer.py\", line 264, in train_epoch\n",
      "    msg = self.train_iter(data, epoch, train_meters)\n",
      "          ^^^^^^^^^^^^^^^^^^^^^^^^^^^^^^^^^^^^^^^^^^\n",
      "  File \"/home/hpc/iwb3/iwb3021h/NAS_CHALLENGE/NAS_Challenge_AutoML_2024/tests/../trainer.py\", line 320, in train_iter\n",
      "    self.optimizer.step()\n",
      "  File \"/apps/jupyterhub/jh3.1.1-py3.11/envs/pytorch-2.2.0/lib/python3.12/site-packages/torch/optim/lr_scheduler.py\", line 75, in wrapper\n",
      "    return wrapped(*args, **kwargs)\n",
      "           ^^^^^^^^^^^^^^^^^^^^^^^^\n",
      "  File \"/apps/jupyterhub/jh3.1.1-py3.11/envs/pytorch-2.2.0/lib/python3.12/site-packages/torch/optim/optimizer.py\", line 385, in wrapper\n",
      "    out = func(*args, **kwargs)\n",
      "          ^^^^^^^^^^^^^^^^^^^^^\n",
      "  File \"/apps/jupyterhub/jh3.1.1-py3.11/envs/pytorch-2.2.0/lib/python3.12/site-packages/torch/utils/_contextlib.py\", line 115, in decorate_context\n",
      "    return func(*args, **kwargs)\n",
      "           ^^^^^^^^^^^^^^^^^^^^^\n",
      "  File \"/home/hpc/iwb3/iwb3021h/.local/lib/python3.12/site-packages/lion_pytorch/lion_pytorch.py\", line 78, in step\n",
      "    self.update_fn(\n",
      "  File \"/home/hpc/iwb3/iwb3021h/.local/lib/python3.12/site-packages/lion_pytorch/lion_pytorch.py\", line 20, in update_fn\n",
      "    update = exp_avg.clone().mul_(beta1).add(grad, alpha = 1 - beta1).sign_()\n",
      "             ^^^^^^^^^^^^^^^^^^^^^^^^^^^^^^^^^^^^^^^^^^^^^^^^^^^^^^^^\n",
      "KeyboardInterrupt\n",
      "\u001b[0m"
     ]
    }
   ],
   "source": [
    "!python mp.py"
   ]
  },
  {
   "cell_type": "code",
   "execution_count": 2,
   "id": "557e0b7e-b0fa-4d74-bc96-23e1b8d12f48",
   "metadata": {
    "tags": []
   },
   "outputs": [],
   "source": [
    "#!rm -rf test_multiprocessing"
   ]
  },
  {
   "cell_type": "code",
   "execution_count": 23,
   "id": "1ed702a4-9f96-4a95-8931-d7812069449c",
   "metadata": {
    "tags": []
   },
   "outputs": [],
   "source": [
    "predictions = trainer.predict(test_loader)\n",
    "test_score = 100*accuracy_score(test_y, predictions)\n",
    "print(test_score)"
   ]
  },
  {
   "cell_type": "markdown",
   "id": "7c07ae90",
   "metadata": {},
   "source": [
    "## LR test"
   ]
  },
  {
   "cell_type": "code",
   "execution_count": 13,
   "id": "d6f0d95b-9008-4ff2-8912-3f5ed35b7bae",
   "metadata": {
    "tags": []
   },
   "outputs": [],
   "source": [
    "import torch\n",
    "import torch.nn as nn\n",
    "import torch.optim as optim\n",
    "from torch.optim.lr_scheduler import LambdaLR\n",
    "import matplotlib.pyplot as plt\n",
    "\n",
    "def train_one_epoch(model, dataloader, criterion, optimizer, scheduler, batches_per_lr):\n",
    "    model.train()\n",
    "    losses = []\n",
    "    lrs = []\n",
    "\n",
    "    num_batches=len(dataloader)\n",
    "    batch_count=0\n",
    "    \n",
    "    running_loss=0.0\n",
    "    \n",
    "    for i, (inputs, targets) in enumerate(dataloader):\n",
    "        optimizer.zero_grad()\n",
    "        outputs = model(inputs.to(device))\n",
    "        loss = criterion(outputs, targets.to(device))\n",
    "        loss.backward()\n",
    "        optimizer.step()\n",
    "\n",
    "        running_loss+=loss.item()\n",
    "        batch_count+=1\n",
    "        # Record the learning rate and loss\n",
    "        if batch_count==batches_per_lr or i==num_batches-1:\n",
    "            lr = scheduler.get_last_lr()[0]\n",
    "            lrs.append(lr)\n",
    "            losses.append(running_loss/batch_count)\n",
    "\n",
    "            # Step the scheduler\n",
    "            scheduler.step()\n",
    "            running_loss=0.0\n",
    "            batch_count=0\n",
    "    return losses, lrs\n",
    "from lion_pytorch import Lion\n",
    "def lr_range_test(model, dataloader, start_lr, end_lr, num_iter, batches_per_lr):\n",
    "    #optimizer = optim.SGD(model.parameters(), lr=start_lr)\n",
    "    optimizer= Lion(model.parameters(), lr=start_lr, betas=(0.9, 0.99), weight_decay=1e-2)\n",
    "    #criterion = nn.MSELoss()\n",
    "    criterion = nn.CrossEntropyLoss()\n",
    "\n",
    "    # Lambda function to increase the learning rate exponentially\n",
    "    lr_lambda = lambda x: (end_lr / start_lr) ** (x / num_iter)\n",
    "    scheduler = LambdaLR(optimizer, lr_lambda)\n",
    "\n",
    "    losses, lrs = train_one_epoch(model, dataloader, criterion, optimizer, scheduler, batches_per_lr)\n",
    "\n",
    "    return losses, lrs\n",
    "\n",
    "# Initialize the model\n",
    "#model = models[list(models.keys())[10]].to(device)\n",
    "\n",
    "# Perform the learning rate range test\n",
    "start_lr = 1e-6\n",
    "end_lr = 0.1\n",
    "batches_per_lr=4\n",
    "num_iter = len(train_loader)/batches_per_lr  # Number of iterations for one epoch\n",
    "\n",
    "losses, lrs = lr_range_test(model, train_loader, start_lr, end_lr, num_iter, batches_per_lr)\n",
    "\n"
   ]
  },
  {
   "cell_type": "code",
   "execution_count": 19,
   "id": "4fb8b7d1-8f92-41c6-894f-f971626e2a93",
   "metadata": {
    "tags": []
   },
   "outputs": [
    {
     "name": "stdout",
     "output_type": "stream",
     "text": [
      "0.0007471360903988472\n"
     ]
    }
   ],
   "source": [
    "min_index = losses.index(min(losses))\n",
    "best_lr = lrs[min_index]\n",
    "print(best_lr)"
   ]
  },
  {
   "cell_type": "code",
   "execution_count": 14,
   "id": "4a9e2779-f0b8-44af-8cb2-efd0ec3b24d8",
   "metadata": {
    "tags": []
   },
   "outputs": [
    {
     "data": {
      "image/png": "[encoded data removed]",
      "text/plain": [
       "<Figure size 640x480 with 1 Axes>"
      ]
     },
     "metadata": {},
     "output_type": "display_data"
    }
   ],
   "source": [
    "# Plot the results\n",
    "plt.plot(lrs[:], losses[:])\n",
    "plt.xscale('log')\n",
    "plt.xlabel('Learning Rate')\n",
    "plt.ylabel('Loss')\n",
    "plt.title('Learning Rate Range Test')\n",
    "plt.show()"
   ]
  },
  {
   "cell_type": "code",
   "execution_count": null,
   "id": "79e8c1eb-5fa3-46e0-90c1-f75bf83bcfe1",
   "metadata": {},
   "outputs": [],
   "source": []
  }
 ],
 "metadata": {
  "kernelspec": {
   "display_name": "Python [conda env:pytorch-2.2.0]",
   "language": "python",
   "name": "conda-env-pytorch-2.2.0-py"
  },
  "language_info": {
   "codemirror_mode": {
    "name": "ipython",
    "version": 3
   },
   "file_extension": ".py",
   "mimetype": "text/x-python",
   "name": "python",
   "nbconvert_exporter": "python",
   "pygments_lexer": "ipython3",
   "version": "3.12.1"
  }
 },
 "nbformat": 4,
 "nbformat_minor": 5
}
