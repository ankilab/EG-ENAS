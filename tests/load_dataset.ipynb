{
 "cells": [
  {
   "cell_type": "code",
   "execution_count": 1,
   "id": "4069d9fe-997d-47f0-a628-6d700d5c9926",
   "metadata": {
    "tags": []
   },
   "outputs": [
    {
     "name": "stderr",
     "output_type": "stream",
     "text": [
      "/home/hpc/iwb3/iwb3021h/.local/lib/python3.12/site-packages/tqdm/auto.py:21: TqdmWarning: IProgress not found. Please update jupyter and ipywidgets. See https://ipywidgets.readthedocs.io/en/stable/user_install.html\n",
      "  from .autonotebook import tqdm as notebook_tqdm\n"
     ]
    }
   ],
   "source": [
    "import sys\n",
    "sys.path.append(\"../\")\n",
    "from evaluation import main\n",
    "from data_processor import DataProcessor\n",
    "import numpy as np\n",
    "import os"
   ]
  },
  {
   "cell_type": "code",
   "execution_count": 2,
   "id": "0ae0a87e-9e13-42d7-a145-9e1f396e673e",
   "metadata": {
    "tags": []
   },
   "outputs": [
    {
     "name": "stdout",
     "output_type": "stream",
     "text": [
      "Note: you may need to restart the kernel to use updated packages.\n"
     ]
    }
   ],
   "source": [
    "%pip install -q --proxy http://proxy:80 scikit-learn matplotlib"
   ]
  },
  {
   "cell_type": "markdown",
   "id": "b52f1144-bc1d-4f63-8749-c9936c1e2b4c",
   "metadata": {},
   "source": [
    "Download test datasets from here: https://github.com/Towers-D/NAS-Unseen-Datasets"
   ]
  },
  {
   "cell_type": "code",
   "execution_count": 2,
   "id": "b7d44a5e-8af9-4b28-b171-4a479b154f54",
   "metadata": {
    "tags": []
   },
   "outputs": [],
   "source": [
    "#Dataset must be in the folder datasets\n",
    "(train_x, train_y), (valid_x, valid_y), (test_x), metadata = main.load_datasets(\"AddNIST\", truncate=True)"
   ]
  },
  {
   "cell_type": "code",
   "execution_count": 3,
   "id": "37cc79d5-7a2f-48f9-96b6-aae09352f591",
   "metadata": {
    "tags": []
   },
   "outputs": [
    {
     "data": {
      "text/plain": [
       "{'num_classes': 20,\n",
       " 'input_shape': [50000, 3, 28, 28],\n",
       " 'codename': 'Adaline',\n",
       " 'benchmark': 89.85}"
      ]
     },
     "execution_count": 3,
     "metadata": {},
     "output_type": "execute_result"
    }
   ],
   "source": [
    "#Chesseract\n",
    "metadata"
   ]
  },
  {
   "cell_type": "code",
   "execution_count": 3,
   "id": "3e5043d6-d8e4-40f7-8bff-b1e766847441",
   "metadata": {
    "tags": []
   },
   "outputs": [
    {
     "data": {
      "text/plain": [
       "{'num_classes': 20,\n",
       " 'input_shape': [50000, 3, 28, 28],\n",
       " 'codename': 'Adaline',\n",
       " 'benchmark': 89.85}"
      ]
     },
     "execution_count": 3,
     "metadata": {},
     "output_type": "execute_result"
    }
   ],
   "source": [
    "#AddNIST\n",
    "metadata"
   ]
  },
  {
   "cell_type": "code",
   "execution_count": 4,
   "id": "28b74689-afb8-43bf-ad81-e5f5cf99fd98",
   "metadata": {
    "tags": []
   },
   "outputs": [],
   "source": [
    "data_processor = DataProcessor(train_x, train_y, valid_x, valid_y, test_x, metadata)\n",
    "train_loader, valid_loader, test_loader = data_processor.process()"
   ]
  },
  {
   "cell_type": "code",
   "execution_count": 18,
   "id": "179eb502-47d3-4898-a4ea-290f4d7ec3c5",
   "metadata": {
    "collapsed": true,
    "jupyter": {
     "outputs_hidden": true
    },
    "tags": []
   },
   "outputs": [
    {
     "name": "stderr",
     "output_type": "stream",
     "text": [
      "Clipping input data to the valid range for imshow with RGB data ([0..1] for floats or [0..255] for integers).\n"
     ]
    },
    {
     "data": {
      "text/plain": [
       "<matplotlib.image.AxesImage at 0x7f7ac38be870>"
      ]
     },
     "execution_count": 18,
     "metadata": {},
     "output_type": "execute_result"
    },
    {
     "data": {
      "image/png": "[encoded data removed]",
      "text/plain": [
       "<Figure size 640x480 with 1 Axes>"
      ]
     },
     "metadata": {},
     "output_type": "display_data"
    }
   ],
   "source": [
    "import matplotlib.pyplot as plt\n",
    "img=next(iter(train_loader))[0][2]\n",
    "img=img.numpy().transpose(1, 2, 0)\n",
    "plt.imshow(img)"
   ]
  },
  {
   "cell_type": "code",
   "execution_count": null,
   "id": "ed6932b2-4089-41fd-b872-0fda5cc192d5",
   "metadata": {},
   "outputs": [],
   "source": []
  }
 ],
 "metadata": {
  "kernelspec": {
   "display_name": "Python [conda env:pytorch-2.2.0]",
   "language": "python",
   "name": "conda-env-pytorch-2.2.0-py"
  },
  "language_info": {
   "codemirror_mode": {
    "name": "ipython",
    "version": 3
   },
   "file_extension": ".py",
   "mimetype": "text/x-python",
   "name": "python",
   "nbconvert_exporter": "python",
   "pygments_lexer": "ipython3",
   "version": "3.12.1"
  }
 },
 "nbformat": 4,
 "nbformat_minor": 5
}
