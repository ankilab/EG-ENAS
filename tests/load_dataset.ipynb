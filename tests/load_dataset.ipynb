{
 "cells": [
  {
   "cell_type": "code",
   "execution_count": 1,
   "id": "4069d9fe-997d-47f0-a628-6d700d5c9926",
   "metadata": {
    "tags": []
   },
   "outputs": [
    {
     "name": "stderr",
     "output_type": "stream",
     "text": [
      "/home/hpc/iwb3/iwb3021h/.local/lib/python3.12/site-packages/tqdm/auto.py:21: TqdmWarning: IProgress not found. Please update jupyter and ipywidgets. See https://ipywidgets.readthedocs.io/en/stable/user_install.html\n",
      "  from .autonotebook import tqdm as notebook_tqdm\n"
     ]
    }
   ],
   "source": [
    "import sys\n",
    "sys.path.append(\"../\")\n",
    "from evaluation import main\n",
    "from data_processor import DataProcessor\n",
    "import numpy as np\n",
    "import os"
   ]
  },
  {
   "cell_type": "code",
   "execution_count": 2,
   "id": "0ae0a87e-9e13-42d7-a145-9e1f396e673e",
   "metadata": {
    "tags": []
   },
   "outputs": [
    {
     "name": "stdout",
     "output_type": "stream",
     "text": [
      "Note: you may need to restart the kernel to use updated packages.\n"
     ]
    }
   ],
   "source": [
    "%pip install -q --proxy http://proxy:80 scikit-learn matplotlib"
   ]
  },
  {
   "cell_type": "markdown",
   "id": "b52f1144-bc1d-4f63-8749-c9936c1e2b4c",
   "metadata": {},
   "source": [
    "Download test datasets from here: https://github.com/Towers-D/NAS-Unseen-Datasets"
   ]
  },
  {
   "cell_type": "code",
   "execution_count": 2,
   "id": "b7d44a5e-8af9-4b28-b171-4a479b154f54",
   "metadata": {
    "tags": []
   },
   "outputs": [],
   "source": [
    "#Dataset must be in the folder datasets\n",
    "(train_x, train_y), (valid_x, valid_y), (test_x), metadata = main.load_datasets(\"AddNIST\", truncate=False)"
   ]
  },
  {
   "cell_type": "code",
   "execution_count": 3,
   "id": "3e5043d6-d8e4-40f7-8bff-b1e766847441",
   "metadata": {
    "tags": []
   },
   "outputs": [],
   "source": [
    "#AddNIST\n",
    "metadata[\"rand_augment\"]=False"
   ]
  },
  {
   "cell_type": "code",
   "execution_count": 4,
   "id": "28b74689-afb8-43bf-ad81-e5f5cf99fd98",
   "metadata": {
    "tags": []
   },
   "outputs": [
    {
     "name": "stdout",
     "output_type": "stream",
     "text": [
      "[RandomCrop(size=(28, 28), padding=[4, 4, 4, 4], pad_if_needed=False, fill=0, padding_mode=constant), RandomHorizontalFlip(p=0.5)]\n",
      "[Normalize(mean=[tensor(0.0053), tensor(0.0066), tensor(0.0077)], std=[tensor(1.0065), tensor(1.0080), tensor(1.0092)], inplace=False)]\n",
      "[Normalize(mean=[tensor(0.0053), tensor(0.0066), tensor(0.0077)], std=[tensor(1.0065), tensor(1.0080), tensor(1.0092)], inplace=False)]\n"
     ]
    }
   ],
   "source": [
    "data_processor = DataProcessor(train_x, train_y, valid_x, valid_y, test_x, metadata)\n",
    "train_loader, valid_loader, test_loader = data_processor.process()"
   ]
  },
  {
   "cell_type": "code",
   "execution_count": 5,
   "id": "90d1ef19-9673-498f-a171-6baa627b23bf",
   "metadata": {
    "tags": []
   },
   "outputs": [],
   "source": [
    "import torch\n",
    "def check_normalization(loader):\n",
    "    channels_sum, channels_squared_sum, num_batches = 0, 0, 0\n",
    "\n",
    "    for data,_ in loader:\n",
    "        channels_sum += torch.mean(data, dim=[0, 2, 3])\n",
    "        channels_squared_sum += torch.mean(data**2, dim=[0, 2, 3])\n",
    "        num_batches += 1\n",
    "\n",
    "    mean = channels_sum / num_batches\n",
    "    std = (channels_squared_sum / num_batches - mean**2)**0.5\n",
    "\n",
    "    print(f'Mean: {mean}')\n",
    "    print(f'Std: {std}')"
   ]
  },
  {
   "cell_type": "code",
   "execution_count": 6,
   "id": "179eb502-47d3-4898-a4ea-290f4d7ec3c5",
   "metadata": {
    "tags": []
   },
   "outputs": [
    {
     "name": "stderr",
     "output_type": "stream",
     "text": [
      "Clipping input data to the valid range for imshow with RGB data ([0..1] for floats or [0..255] for integers).\n"
     ]
    },
    {
     "data": {
      "text/plain": [
       "<matplotlib.image.AxesImage at 0x7efc29597440>"
      ]
     },
     "execution_count": 6,
     "metadata": {},
     "output_type": "execute_result"
    },
    {
     "data": {
      "image/png": "[encoded data removed]",
      "text/plain": [
       "<Figure size 640x480 with 1 Axes>"
      ]
     },
     "metadata": {},
     "output_type": "display_data"
    }
   ],
   "source": [
    "import matplotlib.pyplot as plt\n",
    "img=next(iter(train_loader))[0][30]\n",
    "img=img.numpy().transpose(1, 2, 0)\n",
    "plt.imshow(img)"
   ]
  },
  {
   "cell_type": "code",
   "execution_count": 5,
   "id": "9b3a8284-5494-42d4-be46-103563efdf0e",
   "metadata": {
    "tags": []
   },
   "outputs": [],
   "source": [
    "from search_space.RegNet import RegNet\n",
    "import torch\n",
    "import random\n",
    "import numpy as np\n",
    "import time\n",
    "from IPython.display import clear_output\n",
    "random_seed = 42\n",
    "random.seed(random_seed)\n",
    "# Set seed for NumPy\n",
    "np.random.seed(random_seed)\n",
    "# Set seed for PyTorch\n",
    "torch.manual_seed(random_seed)\n",
    "torch.cuda.manual_seed_all(random_seed)\n",
    "# Additional steps if using CuDNN (optional, for GPU acceleration)\n",
    "torch.backends.cudnn.deterministic = True\n",
    "torch.backends.cudnn.benchmark = False"
   ]
  },
  {
   "cell_type": "code",
   "execution_count": 6,
   "id": "857af58a-9654-4ec6-9196-98203ea6fef4",
   "metadata": {
    "tags": []
   },
   "outputs": [
    {
     "data": {
      "text/plain": [
       "{'num_classes': 20,\n",
       " 'input_shape': [50000, 3, 28, 28],\n",
       " 'codename': 'Adaline',\n",
       " 'benchmark': 89.85,\n",
       " 'rand_augment': False}"
      ]
     },
     "execution_count": 6,
     "metadata": {},
     "output_type": "execute_result"
    }
   ],
   "source": [
    "metadata"
   ]
  },
  {
   "cell_type": "code",
   "execution_count": 6,
   "id": "4d4d3f5d-9a57-49f4-af44-e66d2aa6859f",
   "metadata": {
    "tags": []
   },
   "outputs": [],
   "source": [
    "space_regnet=RegNet(metadata, W0=[8, 56, 8], WA=[8, 48, 8],WM=[2.0,2.9,0.05],D=[6,20,1])"
   ]
  },
  {
   "cell_type": "code",
   "execution_count": 7,
   "id": "7c923395-2053-41f4-b55d-b762412ddef0",
   "metadata": {
    "tags": []
   },
   "outputs": [
    {
     "name": "stdout",
     "output_type": "stream",
     "text": [
      "res_bottleneck_block\n",
      "{'bot_mul': 1.0, 'group_w': 8, 'se_r': 0, 'downsample': 'avg', 'drop_path_rate': 0.0}\n",
      "{'bot_mul': 1.0, 'group_w': 8, 'se_r': 0, 'downsample': 'avg', 'drop_path_rate': 0.0}\n",
      "{'bot_mul': 1.0, 'group_w': 8, 'se_r': 0, 'downsample': 'avg', 'drop_path_rate': 0.0}\n",
      "{'bot_mul': 1.0, 'group_w': 8, 'se_r': 0, 'downsample': 'avg', 'drop_path_rate': 0.0}\n",
      "{'stem_type': 'res_stem_cifar', 'stem_w': 32, 'block_type': 'res_bottleneck_block', 'depths': [1, 3, 9, 2], 'widths': [56, 152, 392, 1040], 'strides': [2, 2, 2, 2], 'bot_muls': [1.0, 1.0, 1.0, 1.0], 'group_ws': [8, 8, 8, 8], 'head_w': 0, 'se_r': 0, 'num_classes': 20, 'downsample': 'avg', 'drop_path_rate': 0.0}\n",
      "Loading model: tests_one_model/Generation_1_SE/quizzical_caiman/config.yaml\n",
      "res_bottleneck_block\n"
     ]
    }
   ],
   "source": [
    "update_list=[\n",
    "    \"REGNET.SE_ON\",False,\n",
    "    \"REGNET.BLOCK_TYPE\",\"res_bottleneck_block\"\n",
    "]\n",
    "\n",
    "model,info=space_regnet.load_model(config_file=\"tests_one_model/Generation_1_SE/quizzical_caiman/config.yaml\", \n",
    "                                   config_updates=update_list)\n"
   ]
  },
  {
   "cell_type": "code",
   "execution_count": 13,
   "id": "bb5466e6-e86b-4385-addf-dcc319150ec1",
   "metadata": {
    "collapsed": true,
    "jupyter": {
     "outputs_hidden": true
    },
    "tags": []
   },
   "outputs": [
    {
     "name": "stdout",
     "output_type": "stream",
     "text": [
      "----------------------------------------------------------------\n",
      "        Layer (type)               Output Shape         Param #\n",
      "================================================================\n",
      "            Conv2d-1           [-1, 32, 28, 28]             864\n",
      "       BatchNorm2d-2           [-1, 32, 28, 28]              64\n",
      "              ReLU-3           [-1, 32, 28, 28]               0\n",
      "      ResStemCifar-4           [-1, 32, 28, 28]               0\n",
      "            Conv2d-5           [-1, 56, 14, 14]           1,792\n",
      "       BatchNorm2d-6           [-1, 56, 14, 14]             112\n",
      "            Conv2d-7           [-1, 56, 14, 14]          16,128\n",
      "       BatchNorm2d-8           [-1, 56, 14, 14]             112\n",
      "              ReLU-9           [-1, 56, 14, 14]               0\n",
      "           Conv2d-10           [-1, 56, 14, 14]          28,224\n",
      "      BatchNorm2d-11           [-1, 56, 14, 14]             112\n",
      "   BasicTransform-12           [-1, 56, 14, 14]               0\n",
      "             ReLU-13           [-1, 56, 14, 14]               0\n",
      "    ResBasicBlock-14           [-1, 56, 14, 14]               0\n",
      "         AnyStage-15           [-1, 56, 14, 14]               0\n",
      "           Conv2d-16            [-1, 152, 7, 7]           8,512\n",
      "      BatchNorm2d-17            [-1, 152, 7, 7]             304\n",
      "           Conv2d-18            [-1, 152, 7, 7]          76,608\n",
      "      BatchNorm2d-19            [-1, 152, 7, 7]             304\n",
      "             ReLU-20            [-1, 152, 7, 7]               0\n",
      "           Conv2d-21            [-1, 152, 7, 7]         207,936\n",
      "      BatchNorm2d-22            [-1, 152, 7, 7]             304\n",
      "   BasicTransform-23            [-1, 152, 7, 7]               0\n",
      "             ReLU-24            [-1, 152, 7, 7]               0\n",
      "    ResBasicBlock-25            [-1, 152, 7, 7]               0\n",
      "           Conv2d-26            [-1, 152, 7, 7]         207,936\n",
      "      BatchNorm2d-27            [-1, 152, 7, 7]             304\n",
      "             ReLU-28            [-1, 152, 7, 7]               0\n",
      "           Conv2d-29            [-1, 152, 7, 7]         207,936\n",
      "      BatchNorm2d-30            [-1, 152, 7, 7]             304\n",
      "   BasicTransform-31            [-1, 152, 7, 7]               0\n",
      "             ReLU-32            [-1, 152, 7, 7]               0\n",
      "    ResBasicBlock-33            [-1, 152, 7, 7]               0\n",
      "           Conv2d-34            [-1, 152, 7, 7]         207,936\n",
      "      BatchNorm2d-35            [-1, 152, 7, 7]             304\n",
      "             ReLU-36            [-1, 152, 7, 7]               0\n",
      "           Conv2d-37            [-1, 152, 7, 7]         207,936\n",
      "      BatchNorm2d-38            [-1, 152, 7, 7]             304\n",
      "   BasicTransform-39            [-1, 152, 7, 7]               0\n",
      "             ReLU-40            [-1, 152, 7, 7]               0\n",
      "    ResBasicBlock-41            [-1, 152, 7, 7]               0\n",
      "         AnyStage-42            [-1, 152, 7, 7]               0\n",
      "           Conv2d-43            [-1, 392, 4, 4]          59,584\n",
      "      BatchNorm2d-44            [-1, 392, 4, 4]             784\n",
      "           Conv2d-45            [-1, 392, 4, 4]         536,256\n",
      "      BatchNorm2d-46            [-1, 392, 4, 4]             784\n",
      "             ReLU-47            [-1, 392, 4, 4]               0\n",
      "           Conv2d-48            [-1, 392, 4, 4]       1,382,976\n",
      "      BatchNorm2d-49            [-1, 392, 4, 4]             784\n",
      "   BasicTransform-50            [-1, 392, 4, 4]               0\n",
      "             ReLU-51            [-1, 392, 4, 4]               0\n",
      "    ResBasicBlock-52            [-1, 392, 4, 4]               0\n",
      "           Conv2d-53            [-1, 392, 4, 4]       1,382,976\n",
      "      BatchNorm2d-54            [-1, 392, 4, 4]             784\n",
      "             ReLU-55            [-1, 392, 4, 4]               0\n",
      "           Conv2d-56            [-1, 392, 4, 4]       1,382,976\n",
      "      BatchNorm2d-57            [-1, 392, 4, 4]             784\n",
      "   BasicTransform-58            [-1, 392, 4, 4]               0\n",
      "             ReLU-59            [-1, 392, 4, 4]               0\n",
      "    ResBasicBlock-60            [-1, 392, 4, 4]               0\n",
      "           Conv2d-61            [-1, 392, 4, 4]       1,382,976\n",
      "      BatchNorm2d-62            [-1, 392, 4, 4]             784\n",
      "             ReLU-63            [-1, 392, 4, 4]               0\n",
      "           Conv2d-64            [-1, 392, 4, 4]       1,382,976\n",
      "      BatchNorm2d-65            [-1, 392, 4, 4]             784\n",
      "   BasicTransform-66            [-1, 392, 4, 4]               0\n",
      "             ReLU-67            [-1, 392, 4, 4]               0\n",
      "    ResBasicBlock-68            [-1, 392, 4, 4]               0\n",
      "           Conv2d-69            [-1, 392, 4, 4]       1,382,976\n",
      "      BatchNorm2d-70            [-1, 392, 4, 4]             784\n",
      "             ReLU-71            [-1, 392, 4, 4]               0\n",
      "           Conv2d-72            [-1, 392, 4, 4]       1,382,976\n",
      "      BatchNorm2d-73            [-1, 392, 4, 4]             784\n",
      "   BasicTransform-74            [-1, 392, 4, 4]               0\n",
      "             ReLU-75            [-1, 392, 4, 4]               0\n",
      "    ResBasicBlock-76            [-1, 392, 4, 4]               0\n",
      "           Conv2d-77            [-1, 392, 4, 4]       1,382,976\n",
      "      BatchNorm2d-78            [-1, 392, 4, 4]             784\n",
      "             ReLU-79            [-1, 392, 4, 4]               0\n",
      "           Conv2d-80            [-1, 392, 4, 4]       1,382,976\n",
      "      BatchNorm2d-81            [-1, 392, 4, 4]             784\n",
      "   BasicTransform-82            [-1, 392, 4, 4]               0\n",
      "             ReLU-83            [-1, 392, 4, 4]               0\n",
      "    ResBasicBlock-84            [-1, 392, 4, 4]               0\n",
      "           Conv2d-85            [-1, 392, 4, 4]       1,382,976\n",
      "      BatchNorm2d-86            [-1, 392, 4, 4]             784\n",
      "             ReLU-87            [-1, 392, 4, 4]               0\n",
      "           Conv2d-88            [-1, 392, 4, 4]       1,382,976\n",
      "      BatchNorm2d-89            [-1, 392, 4, 4]             784\n",
      "   BasicTransform-90            [-1, 392, 4, 4]               0\n",
      "             ReLU-91            [-1, 392, 4, 4]               0\n",
      "    ResBasicBlock-92            [-1, 392, 4, 4]               0\n",
      "           Conv2d-93            [-1, 392, 4, 4]       1,382,976\n",
      "      BatchNorm2d-94            [-1, 392, 4, 4]             784\n",
      "             ReLU-95            [-1, 392, 4, 4]               0\n",
      "           Conv2d-96            [-1, 392, 4, 4]       1,382,976\n",
      "      BatchNorm2d-97            [-1, 392, 4, 4]             784\n",
      "   BasicTransform-98            [-1, 392, 4, 4]               0\n",
      "             ReLU-99            [-1, 392, 4, 4]               0\n",
      "   ResBasicBlock-100            [-1, 392, 4, 4]               0\n",
      "          Conv2d-101            [-1, 392, 4, 4]       1,382,976\n",
      "     BatchNorm2d-102            [-1, 392, 4, 4]             784\n",
      "            ReLU-103            [-1, 392, 4, 4]               0\n",
      "          Conv2d-104            [-1, 392, 4, 4]       1,382,976\n",
      "     BatchNorm2d-105            [-1, 392, 4, 4]             784\n",
      "  BasicTransform-106            [-1, 392, 4, 4]               0\n",
      "            ReLU-107            [-1, 392, 4, 4]               0\n",
      "   ResBasicBlock-108            [-1, 392, 4, 4]               0\n",
      "          Conv2d-109            [-1, 392, 4, 4]       1,382,976\n",
      "     BatchNorm2d-110            [-1, 392, 4, 4]             784\n",
      "            ReLU-111            [-1, 392, 4, 4]               0\n",
      "          Conv2d-112            [-1, 392, 4, 4]       1,382,976\n",
      "     BatchNorm2d-113            [-1, 392, 4, 4]             784\n",
      "  BasicTransform-114            [-1, 392, 4, 4]               0\n",
      "            ReLU-115            [-1, 392, 4, 4]               0\n",
      "   ResBasicBlock-116            [-1, 392, 4, 4]               0\n",
      "        AnyStage-117            [-1, 392, 4, 4]               0\n",
      "          Conv2d-118           [-1, 1040, 2, 2]         407,680\n",
      "     BatchNorm2d-119           [-1, 1040, 2, 2]           2,080\n",
      "          Conv2d-120           [-1, 1040, 2, 2]       3,669,120\n",
      "     BatchNorm2d-121           [-1, 1040, 2, 2]           2,080\n",
      "            ReLU-122           [-1, 1040, 2, 2]               0\n",
      "          Conv2d-123           [-1, 1040, 2, 2]       9,734,400\n",
      "     BatchNorm2d-124           [-1, 1040, 2, 2]           2,080\n",
      "  BasicTransform-125           [-1, 1040, 2, 2]               0\n",
      "            ReLU-126           [-1, 1040, 2, 2]               0\n",
      "   ResBasicBlock-127           [-1, 1040, 2, 2]               0\n",
      "          Conv2d-128           [-1, 1040, 2, 2]       9,734,400\n",
      "     BatchNorm2d-129           [-1, 1040, 2, 2]           2,080\n",
      "            ReLU-130           [-1, 1040, 2, 2]               0\n",
      "          Conv2d-131           [-1, 1040, 2, 2]       9,734,400\n",
      "     BatchNorm2d-132           [-1, 1040, 2, 2]           2,080\n",
      "  BasicTransform-133           [-1, 1040, 2, 2]               0\n",
      "            ReLU-134           [-1, 1040, 2, 2]               0\n",
      "   ResBasicBlock-135           [-1, 1040, 2, 2]               0\n",
      "        AnyStage-136           [-1, 1040, 2, 2]               0\n",
      "AdaptiveAvgPool2d-137           [-1, 1040, 1, 1]               0\n",
      "          Linear-138                   [-1, 20]          20,820\n",
      "         AnyHead-139                   [-1, 20]               0\n",
      "================================================================\n",
      "Total params: 58,606,884\n",
      "Trainable params: 58,606,884\n",
      "Non-trainable params: 0\n",
      "----------------------------------------------------------------\n",
      "Input size (MB): 0.01\n",
      "Forward/backward pass size (MB): 7.42\n",
      "Params size (MB): 223.57\n",
      "Estimated Total Size (MB): 231.00\n",
      "----------------------------------------------------------------\n"
     ]
    }
   ],
   "source": [
    "from torchsummary import summary\n",
    "summary(model, (3,28,28))"
   ]
  },
  {
   "cell_type": "code",
   "execution_count": 9,
   "id": "0f5f0f4c-9cc4-4831-8b9c-2778fae96f82",
   "metadata": {
    "tags": []
   },
   "outputs": [
    {
     "data": {
      "text/plain": [
       "{'ws': [56, 152, 392, 1040],\n",
       " 'bs': [1.0, 1.0, 1.0, 1.0],\n",
       " 'gs': [8, 8, 8, 8],\n",
       " 'ds': [1, 3, 9, 2],\n",
       " 'num_stages': 4,\n",
       " 'total_size_mb': None,\n",
       " 'h': 1,\n",
       " 'w': 1,\n",
       " 'flops': 20820,\n",
       " 'params': 7433268,\n",
       " 'acts': 20,\n",
       " 'WA': 48.0,\n",
       " 'W0': 56,\n",
       " 'WM': 2.6499999999999977,\n",
       " 'DEPTH': 15}"
      ]
     },
     "execution_count": 9,
     "metadata": {},
     "output_type": "execute_result"
    }
   ],
   "source": [
    "info"
   ]
  },
  {
   "cell_type": "code",
   "execution_count": 8,
   "id": "3eb41afc-99b6-4cb4-9d30-403e2c58bca7",
   "metadata": {
    "collapsed": true,
    "jupyter": {
     "outputs_hidden": true
    },
    "tags": []
   },
   "outputs": [
    {
     "name": "stderr",
     "output_type": "stream",
     "text": [
      "\u001b[32m[TRAIN] Epoch:1| Time(data):0.000| Time(train):0.057| Loss:2.7066| Top-1:13.562| Top-5:48.818\u001b[0m: 100%|██████████| 703/703 [01:01<00:00, 11.48it/s]\n",
      "\u001b[31m[EVAL] Top-1:14.673| Top-5:51.353\u001b[0m: 100%|██████████| 235/235 [00:07<00:00, 33.07it/s]\n",
      "\u001b[32m[TRAIN] Epoch:2| Time(data):0.000| Time(train):0.057| Loss:2.2890| Top-1:22.720| Top-5:64.049\u001b[0m: 100%|██████████| 703/703 [01:01<00:00, 11.52it/s]\n",
      "\u001b[31m[EVAL] Top-1:24.193| Top-5:66.313\u001b[0m: 100%|██████████| 235/235 [00:07<00:00, 33.46it/s]\n",
      "\u001b[32m[TRAIN] Epoch:3| Time(data):0.000| Time(train):0.057| Loss:2.0922| Top-1:29.087| Top-5:71.033\u001b[0m: 100%|██████████| 703/703 [01:01<00:00, 11.52it/s]\n",
      "\u001b[31m[EVAL] Top-1:28.280| Top-5:65.707\u001b[0m: 100%|██████████| 235/235 [00:07<00:00, 33.54it/s]\n",
      "\u001b[32m[TRAIN] Epoch:4| Time(data):0.000| Time(train):0.058| Loss:1.9225| Top-1:35.173| Top-5:76.645\u001b[0m: 100%|██████████| 703/703 [01:01<00:00, 11.42it/s]\n",
      "\u001b[31m[EVAL] Top-1:33.507| Top-5:72.880\u001b[0m: 100%|██████████| 235/235 [00:07<00:00, 32.77it/s]\n",
      "\u001b[32m[TRAIN] Epoch:5| Time(data):0.000| Time(train):0.058| Loss:1.7505| Top-1:41.092| Top-5:81.646\u001b[0m: 100%|██████████| 703/703 [01:01<00:00, 11.39it/s]\n",
      "\u001b[31m[EVAL] Top-1:44.700| Top-5:83.533\u001b[0m: 100%|██████████| 235/235 [00:07<00:00, 33.41it/s]\n",
      "\u001b[32m[TRAIN] Epoch:6| Time(data):0.000| Time(train):0.057| Loss:1.5841| Top-1:47.231| Top-5:85.640\u001b[0m: 100%|██████████| 703/703 [01:01<00:00, 11.51it/s]\n",
      "\u001b[31m[EVAL] Top-1:40.827| Top-5:80.340\u001b[0m: 100%|██████████| 235/235 [00:07<00:00, 32.74it/s]\n",
      "\u001b[32m[TRAIN] Epoch:7| Time(data):0.000| Time(train):0.057| Loss:1.4185| Top-1:53.254| Top-5:88.796\u001b[0m: 100%|██████████| 703/703 [01:00<00:00, 11.53it/s]\n",
      "\u001b[31m[EVAL] Top-1:52.280| Top-5:88.033\u001b[0m: 100%|██████████| 235/235 [00:06<00:00, 33.66it/s]\n",
      "\u001b[32m[TRAIN] Epoch:8| Time(data):0.000| Time(train):0.057| Loss:1.2708| Top-1:58.488| Top-5:91.027\u001b[0m: 100%|██████████| 703/703 [01:01<00:00, 11.52it/s]\n",
      "\u001b[31m[EVAL] Top-1:60.540| Top-5:91.247\u001b[0m: 100%|██████████| 235/235 [00:07<00:00, 33.40it/s]\n",
      "\u001b[32m[TRAIN] Epoch:9| Time(data):0.000| Time(train):0.057| Loss:1.1057| Top-1:64.283| Top-5:93.214\u001b[0m: 100%|██████████| 703/703 [01:00<00:00, 11.52it/s]\n",
      "\u001b[31m[EVAL] Top-1:66.480| Top-5:93.513\u001b[0m: 100%|██████████| 235/235 [00:07<00:00, 32.62it/s]\n",
      "\u001b[32m[TRAIN] Epoch:10| Time(data):0.000| Time(train):0.059| Loss:0.9739| Top-1:69.099| Top-5:94.772\u001b[0m: 100%|██████████| 703/703 [01:02<00:00, 11.30it/s]\n",
      "\u001b[31m[EVAL] Top-1:67.560| Top-5:92.847\u001b[0m: 100%|██████████| 235/235 [00:07<00:00, 33.24it/s]\n",
      "\u001b[32m[TRAIN] Epoch:11| Time(data):0.000| Time(train):0.058| Loss:0.8505| Top-1:73.291| Top-5:95.844\u001b[0m: 100%|██████████| 703/703 [01:01<00:00, 11.45it/s]\n",
      "\u001b[31m[EVAL] Top-1:71.520| Top-5:95.380\u001b[0m: 100%|██████████| 235/235 [00:07<00:00, 33.48it/s]\n",
      "\u001b[32m[TRAIN] Epoch:12| Time(data):0.000| Time(train):0.057| Loss:0.7612| Top-1:76.096| Top-5:96.546\u001b[0m: 100%|██████████| 703/703 [01:00<00:00, 11.53it/s]\n",
      "\u001b[31m[EVAL] Top-1:74.027| Top-5:95.513\u001b[0m: 100%|██████████| 235/235 [00:06<00:00, 33.61it/s]\n",
      "\u001b[32m[TRAIN] Epoch:13| Time(data):0.000| Time(train):0.057| Loss:0.6765| Top-1:78.776| Top-5:97.295\u001b[0m: 100%|██████████| 703/703 [01:00<00:00, 11.54it/s]\n",
      "\u001b[31m[EVAL] Top-1:79.713| Top-5:97.193\u001b[0m: 100%|██████████| 235/235 [00:07<00:00, 33.50it/s]\n",
      "\u001b[32m[TRAIN] Epoch:14| Time(data):0.000| Time(train):0.057| Loss:0.6043| Top-1:81.263| Top-5:97.726\u001b[0m: 100%|██████████| 703/703 [01:00<00:00, 11.56it/s]\n",
      "\u001b[31m[EVAL] Top-1:82.073| Top-5:97.700\u001b[0m: 100%|██████████| 235/235 [00:07<00:00, 33.34it/s]\n",
      "\u001b[32m[TRAIN] Epoch:15| Time(data):0.000| Time(train):0.057| Loss:0.5397| Top-1:83.110| Top-5:98.229\u001b[0m: 100%|██████████| 703/703 [01:01<00:00, 11.50it/s]\n",
      "\u001b[31m[EVAL] Top-1:83.027| Top-5:97.807\u001b[0m: 100%|██████████| 235/235 [00:07<00:00, 33.24it/s]\n",
      "\u001b[32m[TRAIN] Epoch:16| Time(data):0.000| Time(train):0.058| Loss:0.4949| Top-1:84.497| Top-5:98.337\u001b[0m: 100%|██████████| 703/703 [01:01<00:00, 11.41it/s]\n",
      "\u001b[31m[EVAL] Top-1:83.967| Top-5:98.007\u001b[0m: 100%|██████████| 235/235 [00:06<00:00, 33.75it/s]\n",
      "\u001b[32m[TRAIN] Epoch:17| Time(data):0.000| Time(train):0.057| Loss:0.4473| Top-1:85.795| Top-5:98.709\u001b[0m: 100%|██████████| 703/703 [01:01<00:00, 11.52it/s]\n",
      "\u001b[31m[EVAL] Top-1:84.167| Top-5:97.980\u001b[0m: 100%|██████████| 235/235 [00:06<00:00, 33.61it/s]\n",
      "\u001b[32m[TRAIN] Epoch:18| Time(data):0.000| Time(train):0.057| Loss:0.4285| Top-1:86.653| Top-5:98.718\u001b[0m: 100%|██████████| 703/703 [01:01<00:00, 11.52it/s]\n",
      "\u001b[31m[EVAL] Top-1:85.980| Top-5:98.313\u001b[0m: 100%|██████████| 235/235 [00:06<00:00, 33.82it/s]\n",
      "\u001b[32m[TRAIN] Epoch:19| Time(data):0.000| Time(train):0.057| Loss:0.4087| Top-1:87.111| Top-5:98.931\u001b[0m: 100%|██████████| 703/703 [01:00<00:00, 11.53it/s]\n",
      "\u001b[31m[EVAL] Top-1:85.820| Top-5:98.400\u001b[0m: 100%|██████████| 235/235 [00:07<00:00, 33.51it/s]\n",
      "\u001b[32m[TRAIN] Epoch:20| Time(data):0.000| Time(train):0.057| Loss:0.3937| Top-1:87.622| Top-5:98.964\u001b[0m: 100%|██████████| 703/703 [01:00<00:00, 11.53it/s]\n",
      "\u001b[31m[EVAL] Top-1:86.320| Top-5:98.400\u001b[0m: 100%|██████████| 235/235 [00:07<00:00, 33.48it/s]\n"
     ]
    },
    {
     "name": "stdout",
     "output_type": "stream",
     "text": [
      "\u001b[31m[EVAL] Best accuracy:86.31999969482422\u001b[0m\n"
     ]
    },
    {
     "data": {
      "text/plain": [
       "RegNet(\n",
       "  (stem): ResStemCifar(\n",
       "    (conv): Conv2d(3, 32, kernel_size=(3, 3), stride=(1, 1), padding=(1, 1), bias=False)\n",
       "    (bn): BatchNorm2d(32, eps=1e-05, momentum=0.1, affine=True, track_running_stats=True)\n",
       "    (af): ReLU(inplace=True)\n",
       "  )\n",
       "  (s1): AnyStage(\n",
       "    (b1): ResBottleneckBlock(\n",
       "      (f): BottleneckTransform(\n",
       "        (a): Conv2d(32, 56, kernel_size=(1, 1), stride=(1, 1), bias=False)\n",
       "        (a_bn): BatchNorm2d(56, eps=1e-05, momentum=0.1, affine=True, track_running_stats=True)\n",
       "        (a_af): ReLU(inplace=True)\n",
       "        (b): Conv2d(56, 56, kernel_size=(3, 3), stride=(2, 2), padding=(1, 1), groups=7, bias=False)\n",
       "        (b_bn): BatchNorm2d(56, eps=1e-05, momentum=0.1, affine=True, track_running_stats=True)\n",
       "        (b_af): ReLU(inplace=True)\n",
       "        (c): Conv2d(56, 56, kernel_size=(1, 1), stride=(1, 1), bias=False)\n",
       "        (c_bn): BatchNorm2d(56, eps=1e-05, momentum=0.1, affine=True, track_running_stats=True)\n",
       "      )\n",
       "      (af): ReLU(inplace=True)\n",
       "      (downsample): Sequential(\n",
       "        (0): AvgPool2d(kernel_size=2, stride=2, padding=0)\n",
       "        (1): ConvNormAct(\n",
       "          (conv): Conv2d(32, 56, kernel_size=(1, 1), stride=(1, 1), bias=False)\n",
       "          (bn): BatchNormAct2d(\n",
       "            56, eps=1e-05, momentum=0.1, affine=True, track_running_stats=True\n",
       "            (drop): Identity()\n",
       "            (act): Identity()\n",
       "          )\n",
       "        )\n",
       "      )\n",
       "      (drop_path): Identity()\n",
       "    )\n",
       "  )\n",
       "  (s2): AnyStage(\n",
       "    (b1): ResBottleneckBlock(\n",
       "      (f): BottleneckTransform(\n",
       "        (a): Conv2d(56, 152, kernel_size=(1, 1), stride=(1, 1), bias=False)\n",
       "        (a_bn): BatchNorm2d(152, eps=1e-05, momentum=0.1, affine=True, track_running_stats=True)\n",
       "        (a_af): ReLU(inplace=True)\n",
       "        (b): Conv2d(152, 152, kernel_size=(3, 3), stride=(2, 2), padding=(1, 1), groups=19, bias=False)\n",
       "        (b_bn): BatchNorm2d(152, eps=1e-05, momentum=0.1, affine=True, track_running_stats=True)\n",
       "        (b_af): ReLU(inplace=True)\n",
       "        (c): Conv2d(152, 152, kernel_size=(1, 1), stride=(1, 1), bias=False)\n",
       "        (c_bn): BatchNorm2d(152, eps=1e-05, momentum=0.1, affine=True, track_running_stats=True)\n",
       "      )\n",
       "      (af): ReLU(inplace=True)\n",
       "      (downsample): Sequential(\n",
       "        (0): AvgPool2d(kernel_size=2, stride=2, padding=0)\n",
       "        (1): ConvNormAct(\n",
       "          (conv): Conv2d(56, 152, kernel_size=(1, 1), stride=(1, 1), bias=False)\n",
       "          (bn): BatchNormAct2d(\n",
       "            152, eps=1e-05, momentum=0.1, affine=True, track_running_stats=True\n",
       "            (drop): Identity()\n",
       "            (act): Identity()\n",
       "          )\n",
       "        )\n",
       "      )\n",
       "      (drop_path): Identity()\n",
       "    )\n",
       "    (b2): ResBottleneckBlock(\n",
       "      (f): BottleneckTransform(\n",
       "        (a): Conv2d(152, 152, kernel_size=(1, 1), stride=(1, 1), bias=False)\n",
       "        (a_bn): BatchNorm2d(152, eps=1e-05, momentum=0.1, affine=True, track_running_stats=True)\n",
       "        (a_af): ReLU(inplace=True)\n",
       "        (b): Conv2d(152, 152, kernel_size=(3, 3), stride=(1, 1), padding=(1, 1), groups=19, bias=False)\n",
       "        (b_bn): BatchNorm2d(152, eps=1e-05, momentum=0.1, affine=True, track_running_stats=True)\n",
       "        (b_af): ReLU(inplace=True)\n",
       "        (c): Conv2d(152, 152, kernel_size=(1, 1), stride=(1, 1), bias=False)\n",
       "        (c_bn): BatchNorm2d(152, eps=1e-05, momentum=0.1, affine=True, track_running_stats=True)\n",
       "      )\n",
       "      (af): ReLU(inplace=True)\n",
       "      (downsample): Identity()\n",
       "      (drop_path): Identity()\n",
       "    )\n",
       "    (b3): ResBottleneckBlock(\n",
       "      (f): BottleneckTransform(\n",
       "        (a): Conv2d(152, 152, kernel_size=(1, 1), stride=(1, 1), bias=False)\n",
       "        (a_bn): BatchNorm2d(152, eps=1e-05, momentum=0.1, affine=True, track_running_stats=True)\n",
       "        (a_af): ReLU(inplace=True)\n",
       "        (b): Conv2d(152, 152, kernel_size=(3, 3), stride=(1, 1), padding=(1, 1), groups=19, bias=False)\n",
       "        (b_bn): BatchNorm2d(152, eps=1e-05, momentum=0.1, affine=True, track_running_stats=True)\n",
       "        (b_af): ReLU(inplace=True)\n",
       "        (c): Conv2d(152, 152, kernel_size=(1, 1), stride=(1, 1), bias=False)\n",
       "        (c_bn): BatchNorm2d(152, eps=1e-05, momentum=0.1, affine=True, track_running_stats=True)\n",
       "      )\n",
       "      (af): ReLU(inplace=True)\n",
       "      (downsample): Identity()\n",
       "      (drop_path): Identity()\n",
       "    )\n",
       "  )\n",
       "  (s3): AnyStage(\n",
       "    (b1): ResBottleneckBlock(\n",
       "      (f): BottleneckTransform(\n",
       "        (a): Conv2d(152, 392, kernel_size=(1, 1), stride=(1, 1), bias=False)\n",
       "        (a_bn): BatchNorm2d(392, eps=1e-05, momentum=0.1, affine=True, track_running_stats=True)\n",
       "        (a_af): ReLU(inplace=True)\n",
       "        (b): Conv2d(392, 392, kernel_size=(3, 3), stride=(2, 2), padding=(1, 1), groups=49, bias=False)\n",
       "        (b_bn): BatchNorm2d(392, eps=1e-05, momentum=0.1, affine=True, track_running_stats=True)\n",
       "        (b_af): ReLU(inplace=True)\n",
       "        (c): Conv2d(392, 392, kernel_size=(1, 1), stride=(1, 1), bias=False)\n",
       "        (c_bn): BatchNorm2d(392, eps=1e-05, momentum=0.1, affine=True, track_running_stats=True)\n",
       "      )\n",
       "      (af): ReLU(inplace=True)\n",
       "      (downsample): Sequential(\n",
       "        (0): AvgPool2d(kernel_size=2, stride=2, padding=0)\n",
       "        (1): ConvNormAct(\n",
       "          (conv): Conv2d(152, 392, kernel_size=(1, 1), stride=(1, 1), bias=False)\n",
       "          (bn): BatchNormAct2d(\n",
       "            392, eps=1e-05, momentum=0.1, affine=True, track_running_stats=True\n",
       "            (drop): Identity()\n",
       "            (act): Identity()\n",
       "          )\n",
       "        )\n",
       "      )\n",
       "      (drop_path): Identity()\n",
       "    )\n",
       "    (b2): ResBottleneckBlock(\n",
       "      (f): BottleneckTransform(\n",
       "        (a): Conv2d(392, 392, kernel_size=(1, 1), stride=(1, 1), bias=False)\n",
       "        (a_bn): BatchNorm2d(392, eps=1e-05, momentum=0.1, affine=True, track_running_stats=True)\n",
       "        (a_af): ReLU(inplace=True)\n",
       "        (b): Conv2d(392, 392, kernel_size=(3, 3), stride=(1, 1), padding=(1, 1), groups=49, bias=False)\n",
       "        (b_bn): BatchNorm2d(392, eps=1e-05, momentum=0.1, affine=True, track_running_stats=True)\n",
       "        (b_af): ReLU(inplace=True)\n",
       "        (c): Conv2d(392, 392, kernel_size=(1, 1), stride=(1, 1), bias=False)\n",
       "        (c_bn): BatchNorm2d(392, eps=1e-05, momentum=0.1, affine=True, track_running_stats=True)\n",
       "      )\n",
       "      (af): ReLU(inplace=True)\n",
       "      (downsample): Identity()\n",
       "      (drop_path): Identity()\n",
       "    )\n",
       "    (b3): ResBottleneckBlock(\n",
       "      (f): BottleneckTransform(\n",
       "        (a): Conv2d(392, 392, kernel_size=(1, 1), stride=(1, 1), bias=False)\n",
       "        (a_bn): BatchNorm2d(392, eps=1e-05, momentum=0.1, affine=True, track_running_stats=True)\n",
       "        (a_af): ReLU(inplace=True)\n",
       "        (b): Conv2d(392, 392, kernel_size=(3, 3), stride=(1, 1), padding=(1, 1), groups=49, bias=False)\n",
       "        (b_bn): BatchNorm2d(392, eps=1e-05, momentum=0.1, affine=True, track_running_stats=True)\n",
       "        (b_af): ReLU(inplace=True)\n",
       "        (c): Conv2d(392, 392, kernel_size=(1, 1), stride=(1, 1), bias=False)\n",
       "        (c_bn): BatchNorm2d(392, eps=1e-05, momentum=0.1, affine=True, track_running_stats=True)\n",
       "      )\n",
       "      (af): ReLU(inplace=True)\n",
       "      (downsample): Identity()\n",
       "      (drop_path): Identity()\n",
       "    )\n",
       "    (b4): ResBottleneckBlock(\n",
       "      (f): BottleneckTransform(\n",
       "        (a): Conv2d(392, 392, kernel_size=(1, 1), stride=(1, 1), bias=False)\n",
       "        (a_bn): BatchNorm2d(392, eps=1e-05, momentum=0.1, affine=True, track_running_stats=True)\n",
       "        (a_af): ReLU(inplace=True)\n",
       "        (b): Conv2d(392, 392, kernel_size=(3, 3), stride=(1, 1), padding=(1, 1), groups=49, bias=False)\n",
       "        (b_bn): BatchNorm2d(392, eps=1e-05, momentum=0.1, affine=True, track_running_stats=True)\n",
       "        (b_af): ReLU(inplace=True)\n",
       "        (c): Conv2d(392, 392, kernel_size=(1, 1), stride=(1, 1), bias=False)\n",
       "        (c_bn): BatchNorm2d(392, eps=1e-05, momentum=0.1, affine=True, track_running_stats=True)\n",
       "      )\n",
       "      (af): ReLU(inplace=True)\n",
       "      (downsample): Identity()\n",
       "      (drop_path): Identity()\n",
       "    )\n",
       "    (b5): ResBottleneckBlock(\n",
       "      (f): BottleneckTransform(\n",
       "        (a): Conv2d(392, 392, kernel_size=(1, 1), stride=(1, 1), bias=False)\n",
       "        (a_bn): BatchNorm2d(392, eps=1e-05, momentum=0.1, affine=True, track_running_stats=True)\n",
       "        (a_af): ReLU(inplace=True)\n",
       "        (b): Conv2d(392, 392, kernel_size=(3, 3), stride=(1, 1), padding=(1, 1), groups=49, bias=False)\n",
       "        (b_bn): BatchNorm2d(392, eps=1e-05, momentum=0.1, affine=True, track_running_stats=True)\n",
       "        (b_af): ReLU(inplace=True)\n",
       "        (c): Conv2d(392, 392, kernel_size=(1, 1), stride=(1, 1), bias=False)\n",
       "        (c_bn): BatchNorm2d(392, eps=1e-05, momentum=0.1, affine=True, track_running_stats=True)\n",
       "      )\n",
       "      (af): ReLU(inplace=True)\n",
       "      (downsample): Identity()\n",
       "      (drop_path): Identity()\n",
       "    )\n",
       "    (b6): ResBottleneckBlock(\n",
       "      (f): BottleneckTransform(\n",
       "        (a): Conv2d(392, 392, kernel_size=(1, 1), stride=(1, 1), bias=False)\n",
       "        (a_bn): BatchNorm2d(392, eps=1e-05, momentum=0.1, affine=True, track_running_stats=True)\n",
       "        (a_af): ReLU(inplace=True)\n",
       "        (b): Conv2d(392, 392, kernel_size=(3, 3), stride=(1, 1), padding=(1, 1), groups=49, bias=False)\n",
       "        (b_bn): BatchNorm2d(392, eps=1e-05, momentum=0.1, affine=True, track_running_stats=True)\n",
       "        (b_af): ReLU(inplace=True)\n",
       "        (c): Conv2d(392, 392, kernel_size=(1, 1), stride=(1, 1), bias=False)\n",
       "        (c_bn): BatchNorm2d(392, eps=1e-05, momentum=0.1, affine=True, track_running_stats=True)\n",
       "      )\n",
       "      (af): ReLU(inplace=True)\n",
       "      (downsample): Identity()\n",
       "      (drop_path): Identity()\n",
       "    )\n",
       "    (b7): ResBottleneckBlock(\n",
       "      (f): BottleneckTransform(\n",
       "        (a): Conv2d(392, 392, kernel_size=(1, 1), stride=(1, 1), bias=False)\n",
       "        (a_bn): BatchNorm2d(392, eps=1e-05, momentum=0.1, affine=True, track_running_stats=True)\n",
       "        (a_af): ReLU(inplace=True)\n",
       "        (b): Conv2d(392, 392, kernel_size=(3, 3), stride=(1, 1), padding=(1, 1), groups=49, bias=False)\n",
       "        (b_bn): BatchNorm2d(392, eps=1e-05, momentum=0.1, affine=True, track_running_stats=True)\n",
       "        (b_af): ReLU(inplace=True)\n",
       "        (c): Conv2d(392, 392, kernel_size=(1, 1), stride=(1, 1), bias=False)\n",
       "        (c_bn): BatchNorm2d(392, eps=1e-05, momentum=0.1, affine=True, track_running_stats=True)\n",
       "      )\n",
       "      (af): ReLU(inplace=True)\n",
       "      (downsample): Identity()\n",
       "      (drop_path): Identity()\n",
       "    )\n",
       "    (b8): ResBottleneckBlock(\n",
       "      (f): BottleneckTransform(\n",
       "        (a): Conv2d(392, 392, kernel_size=(1, 1), stride=(1, 1), bias=False)\n",
       "        (a_bn): BatchNorm2d(392, eps=1e-05, momentum=0.1, affine=True, track_running_stats=True)\n",
       "        (a_af): ReLU(inplace=True)\n",
       "        (b): Conv2d(392, 392, kernel_size=(3, 3), stride=(1, 1), padding=(1, 1), groups=49, bias=False)\n",
       "        (b_bn): BatchNorm2d(392, eps=1e-05, momentum=0.1, affine=True, track_running_stats=True)\n",
       "        (b_af): ReLU(inplace=True)\n",
       "        (c): Conv2d(392, 392, kernel_size=(1, 1), stride=(1, 1), bias=False)\n",
       "        (c_bn): BatchNorm2d(392, eps=1e-05, momentum=0.1, affine=True, track_running_stats=True)\n",
       "      )\n",
       "      (af): ReLU(inplace=True)\n",
       "      (downsample): Identity()\n",
       "      (drop_path): Identity()\n",
       "    )\n",
       "    (b9): ResBottleneckBlock(\n",
       "      (f): BottleneckTransform(\n",
       "        (a): Conv2d(392, 392, kernel_size=(1, 1), stride=(1, 1), bias=False)\n",
       "        (a_bn): BatchNorm2d(392, eps=1e-05, momentum=0.1, affine=True, track_running_stats=True)\n",
       "        (a_af): ReLU(inplace=True)\n",
       "        (b): Conv2d(392, 392, kernel_size=(3, 3), stride=(1, 1), padding=(1, 1), groups=49, bias=False)\n",
       "        (b_bn): BatchNorm2d(392, eps=1e-05, momentum=0.1, affine=True, track_running_stats=True)\n",
       "        (b_af): ReLU(inplace=True)\n",
       "        (c): Conv2d(392, 392, kernel_size=(1, 1), stride=(1, 1), bias=False)\n",
       "        (c_bn): BatchNorm2d(392, eps=1e-05, momentum=0.1, affine=True, track_running_stats=True)\n",
       "      )\n",
       "      (af): ReLU(inplace=True)\n",
       "      (downsample): Identity()\n",
       "      (drop_path): Identity()\n",
       "    )\n",
       "  )\n",
       "  (s4): AnyStage(\n",
       "    (b1): ResBottleneckBlock(\n",
       "      (f): BottleneckTransform(\n",
       "        (a): Conv2d(392, 1040, kernel_size=(1, 1), stride=(1, 1), bias=False)\n",
       "        (a_bn): BatchNorm2d(1040, eps=1e-05, momentum=0.1, affine=True, track_running_stats=True)\n",
       "        (a_af): ReLU(inplace=True)\n",
       "        (b): Conv2d(1040, 1040, kernel_size=(3, 3), stride=(2, 2), padding=(1, 1), groups=130, bias=False)\n",
       "        (b_bn): BatchNorm2d(1040, eps=1e-05, momentum=0.1, affine=True, track_running_stats=True)\n",
       "        (b_af): ReLU(inplace=True)\n",
       "        (c): Conv2d(1040, 1040, kernel_size=(1, 1), stride=(1, 1), bias=False)\n",
       "        (c_bn): BatchNorm2d(1040, eps=1e-05, momentum=0.1, affine=True, track_running_stats=True)\n",
       "      )\n",
       "      (af): ReLU(inplace=True)\n",
       "      (downsample): Sequential(\n",
       "        (0): AvgPool2d(kernel_size=2, stride=2, padding=0)\n",
       "        (1): ConvNormAct(\n",
       "          (conv): Conv2d(392, 1040, kernel_size=(1, 1), stride=(1, 1), bias=False)\n",
       "          (bn): BatchNormAct2d(\n",
       "            1040, eps=1e-05, momentum=0.1, affine=True, track_running_stats=True\n",
       "            (drop): Identity()\n",
       "            (act): Identity()\n",
       "          )\n",
       "        )\n",
       "      )\n",
       "      (drop_path): Identity()\n",
       "    )\n",
       "    (b2): ResBottleneckBlock(\n",
       "      (f): BottleneckTransform(\n",
       "        (a): Conv2d(1040, 1040, kernel_size=(1, 1), stride=(1, 1), bias=False)\n",
       "        (a_bn): BatchNorm2d(1040, eps=1e-05, momentum=0.1, affine=True, track_running_stats=True)\n",
       "        (a_af): ReLU(inplace=True)\n",
       "        (b): Conv2d(1040, 1040, kernel_size=(3, 3), stride=(1, 1), padding=(1, 1), groups=130, bias=False)\n",
       "        (b_bn): BatchNorm2d(1040, eps=1e-05, momentum=0.1, affine=True, track_running_stats=True)\n",
       "        (b_af): ReLU(inplace=True)\n",
       "        (c): Conv2d(1040, 1040, kernel_size=(1, 1), stride=(1, 1), bias=False)\n",
       "        (c_bn): BatchNorm2d(1040, eps=1e-05, momentum=0.1, affine=True, track_running_stats=True)\n",
       "      )\n",
       "      (af): ReLU(inplace=True)\n",
       "      (downsample): Identity()\n",
       "      (drop_path): Identity()\n",
       "    )\n",
       "  )\n",
       "  (head): AnyHead(\n",
       "    (avg_pool): AdaptiveAvgPool2d(output_size=(1, 1))\n",
       "    (fc): Linear(in_features=1040, out_features=20, bias=True)\n",
       "  )\n",
       ")"
      ]
     },
     "execution_count": 8,
     "metadata": {},
     "output_type": "execute_result"
    }
   ],
   "source": [
    "from trainer import Trainer, TrainerDistillation\n",
    "device = torch.device(\"cuda\" if torch.cuda.is_available() else \"cpu\")\n",
    "student=\"quizzical_caiman\"\n",
    "metadata[\"experiment_name\"]=f\"tests_one_model/Generation_1_01/{student}_NOSE_D\"\n",
    "trainer=TrainerDistillation(model, device, train_loader, valid_loader, metadata)\n",
    "trainer.train()"
   ]
  },
  {
   "cell_type": "code",
   "execution_count": null,
   "id": "1d3ead08-6690-46df-896e-8c8805c0d423",
   "metadata": {},
   "outputs": [],
   "source": []
  }
 ],
 "metadata": {
  "kernelspec": {
   "display_name": "Python [conda env:pytorch-2.2.0]",
   "language": "python",
   "name": "conda-env-pytorch-2.2.0-py"
  },
  "language_info": {
   "codemirror_mode": {
    "name": "ipython",
    "version": 3
   },
   "file_extension": ".py",
   "mimetype": "text/x-python",
   "name": "python",
   "nbconvert_exporter": "python",
   "pygments_lexer": "ipython3",
   "version": "3.12.1"
  }
 },
 "nbformat": 4,
 "nbformat_minor": 5
}
