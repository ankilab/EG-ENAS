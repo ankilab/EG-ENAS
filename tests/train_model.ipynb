{
 "cells": [
  {
   "cell_type": "code",
   "execution_count": 4,
   "id": "c579a887-7ed7-4f90-9aa3-f06d03046514",
   "metadata": {},
   "outputs": [
    {
     "name": "stdout",
     "output_type": "stream",
     "text": [
      "Note: you may need to restart the kernel to use updated packages.\n"
     ]
    }
   ],
   "source": [
    "%pip install -q --proxy http://proxy:80 pycls iopath tqdm"
   ]
  },
  {
   "cell_type": "code",
   "execution_count": 1,
   "id": "4d79172e-ed08-491f-a795-4c367c322b1d",
   "metadata": {},
   "outputs": [
    {
     "name": "stderr",
     "output_type": "stream",
     "text": [
      "/home/hpc/iwb3/iwb3021h/.local/lib/python3.12/site-packages/tqdm/auto.py:21: TqdmWarning: IProgress not found. Please update jupyter and ipywidgets. See https://ipywidgets.readthedocs.io/en/stable/user_install.html\n",
      "  from .autonotebook import tqdm as notebook_tqdm\n"
     ]
    }
   ],
   "source": [
    "import sys\n",
    "sys.path.append(\"../\")\n",
    "from evaluation import main\n",
    "from data_processor import DataProcessor\n",
    "from search_space.RegNet import RegNet\n",
    "import torch\n",
    "#from search_space.config import cfg, load_cfg"
   ]
  },
  {
   "cell_type": "code",
   "execution_count": 2,
   "id": "44a1a858-174f-4d11-88cb-9021237a38f8",
   "metadata": {
    "tags": []
   },
   "outputs": [],
   "source": [
    "import random\n",
    "import numpy as np\n",
    "import time\n",
    "from IPython.display import clear_output\n",
    "random_seed = 42\n",
    "random.seed(random_seed)\n",
    "# Set seed for NumPy\n",
    "np.random.seed(random_seed)\n",
    "# Set seed for PyTorch\n",
    "torch.manual_seed(random_seed)\n",
    "torch.cuda.manual_seed_all(random_seed)\n",
    "# Additional steps if using CuDNN (optional, for GPU acceleration)\n",
    "torch.backends.cudnn.deterministic = True\n",
    "torch.backends.cudnn.benchmark = False"
   ]
  },
  {
   "cell_type": "code",
   "execution_count": 3,
   "id": "93631eeb-2586-4b48-9cb9-9134e76b7009",
   "metadata": {
    "tags": []
   },
   "outputs": [],
   "source": [
    "#Dataset must be in the folder datasets\n",
    "(train_x, train_y), (valid_x, valid_y), (test_x), metadata = main.load_datasets(\"AddNIST\", truncate=False)\n",
    "\n",
    "data_processor = DataProcessor(train_x, train_y, valid_x, valid_y, test_x, metadata)\n",
    "train_loader, valid_loader, test_loader = data_processor.process()"
   ]
  },
  {
   "cell_type": "code",
   "execution_count": 4,
   "id": "c660acb4-340e-4828-9db5-81d78f5cb485",
   "metadata": {
    "tags": []
   },
   "outputs": [
    {
     "data": {
      "text/plain": [
       "{'num_classes': 20,\n",
       " 'input_shape': [50000, 3, 28, 28],\n",
       " 'codename': 'Adaline',\n",
       " 'benchmark': 89.85}"
      ]
     },
     "execution_count": 4,
     "metadata": {},
     "output_type": "execute_result"
    }
   ],
   "source": [
    "metadata"
   ]
  },
  {
   "cell_type": "code",
   "execution_count": 5,
   "id": "553149eb-8d16-4101-8129-ade06c752970",
   "metadata": {
    "tags": []
   },
   "outputs": [],
   "source": [
    "#metadata={'num_classes': 20,\n",
    "# 'input_shape': [50000, 3, 28, 28],\n",
    "# 'codename': 'Adaline',\n",
    "# 'benchmark': 89.85}\n",
    "\n",
    "space_regnet=RegNet(metadata, W0=[8, 56, 8], WA=[8, 48, 8],WM=[2.0,2.9,0.05],D=[6,20,1])"
   ]
  },
  {
   "cell_type": "code",
   "execution_count": 6,
   "id": "1d82696d-98c0-4b19-8b70-ba31c82f7e5f",
   "metadata": {
    "tags": []
   },
   "outputs": [],
   "source": [
    "#WA,W0,WM,DEPTH=48,24,2.4,12\n",
    "#model, info=space_regnet.create_model(params=[WA,W0,WM,DEPTH], save_folder=None, name=None, gen=None)"
   ]
  },
  {
   "cell_type": "code",
   "execution_count": 18,
   "id": "8656a8b2-17d6-4664-a2a0-408b01bb4796",
   "metadata": {
    "tags": []
   },
   "outputs": [
    {
     "name": "stdout",
     "output_type": "stream",
     "text": [
      "Loading model: tests_one_model/deft_bat/config.yaml\n"
     ]
    }
   ],
   "source": [
    "#model,info=space_regnet.load_model(config_file=\"tests_one_model/deft_bat/config.yaml\")\n"
   ]
  },
  {
   "cell_type": "code",
   "execution_count": 19,
   "id": "7f3b7800-874f-4a3f-b15b-ab0a2d2aa97e",
   "metadata": {
    "collapsed": true,
    "jupyter": {
     "outputs_hidden": true
    },
    "tags": []
   },
   "outputs": [
    {
     "data": {
      "text/plain": [
       "RegNet(\n",
       "  (stem): ResStemCifar(\n",
       "    (conv): Conv2d(3, 32, kernel_size=(3, 3), stride=(1, 1), padding=(1, 1), bias=False)\n",
       "    (bn): BatchNorm2d(32, eps=1e-05, momentum=0.1, affine=True, track_running_stats=True)\n",
       "    (af): ReLU(inplace=True)\n",
       "  )\n",
       "  (s1): AnyStage(\n",
       "    (b1): ResBottleneckBlock(\n",
       "      (proj): Conv2d(32, 40, kernel_size=(1, 1), stride=(2, 2), bias=False)\n",
       "      (bn): BatchNorm2d(40, eps=1e-05, momentum=0.1, affine=True, track_running_stats=True)\n",
       "      (f): BottleneckTransform(\n",
       "        (a): Conv2d(32, 40, kernel_size=(1, 1), stride=(1, 1), bias=False)\n",
       "        (a_bn): BatchNorm2d(40, eps=1e-05, momentum=0.1, affine=True, track_running_stats=True)\n",
       "        (a_af): ReLU(inplace=True)\n",
       "        (b): Conv2d(40, 40, kernel_size=(3, 3), stride=(2, 2), padding=(1, 1), groups=5, bias=False)\n",
       "        (b_bn): BatchNorm2d(40, eps=1e-05, momentum=0.1, affine=True, track_running_stats=True)\n",
       "        (b_af): ReLU(inplace=True)\n",
       "        (se): SE(\n",
       "          (avg_pool): AdaptiveAvgPool2d(output_size=(1, 1))\n",
       "          (f_ex): Sequential(\n",
       "            (0): Conv2d(40, 8, kernel_size=(1, 1), stride=(1, 1))\n",
       "            (1): ReLU(inplace=True)\n",
       "            (2): Conv2d(8, 40, kernel_size=(1, 1), stride=(1, 1))\n",
       "            (3): Sigmoid()\n",
       "          )\n",
       "        )\n",
       "        (c): Conv2d(40, 40, kernel_size=(1, 1), stride=(1, 1), bias=False)\n",
       "        (c_bn): BatchNorm2d(40, eps=1e-05, momentum=0.1, affine=True, track_running_stats=True)\n",
       "      )\n",
       "      (af): ReLU(inplace=True)\n",
       "    )\n",
       "    (b2): ResBottleneckBlock(\n",
       "      (f): BottleneckTransform(\n",
       "        (a): Conv2d(40, 40, kernel_size=(1, 1), stride=(1, 1), bias=False)\n",
       "        (a_bn): BatchNorm2d(40, eps=1e-05, momentum=0.1, affine=True, track_running_stats=True)\n",
       "        (a_af): ReLU(inplace=True)\n",
       "        (b): Conv2d(40, 40, kernel_size=(3, 3), stride=(1, 1), padding=(1, 1), groups=5, bias=False)\n",
       "        (b_bn): BatchNorm2d(40, eps=1e-05, momentum=0.1, affine=True, track_running_stats=True)\n",
       "        (b_af): ReLU(inplace=True)\n",
       "        (se): SE(\n",
       "          (avg_pool): AdaptiveAvgPool2d(output_size=(1, 1))\n",
       "          (f_ex): Sequential(\n",
       "            (0): Conv2d(40, 10, kernel_size=(1, 1), stride=(1, 1))\n",
       "            (1): ReLU(inplace=True)\n",
       "            (2): Conv2d(10, 40, kernel_size=(1, 1), stride=(1, 1))\n",
       "            (3): Sigmoid()\n",
       "          )\n",
       "        )\n",
       "        (c): Conv2d(40, 40, kernel_size=(1, 1), stride=(1, 1), bias=False)\n",
       "        (c_bn): BatchNorm2d(40, eps=1e-05, momentum=0.1, affine=True, track_running_stats=True)\n",
       "      )\n",
       "      (af): ReLU(inplace=True)\n",
       "    )\n",
       "    (b3): ResBottleneckBlock(\n",
       "      (f): BottleneckTransform(\n",
       "        (a): Conv2d(40, 40, kernel_size=(1, 1), stride=(1, 1), bias=False)\n",
       "        (a_bn): BatchNorm2d(40, eps=1e-05, momentum=0.1, affine=True, track_running_stats=True)\n",
       "        (a_af): ReLU(inplace=True)\n",
       "        (b): Conv2d(40, 40, kernel_size=(3, 3), stride=(1, 1), padding=(1, 1), groups=5, bias=False)\n",
       "        (b_bn): BatchNorm2d(40, eps=1e-05, momentum=0.1, affine=True, track_running_stats=True)\n",
       "        (b_af): ReLU(inplace=True)\n",
       "        (se): SE(\n",
       "          (avg_pool): AdaptiveAvgPool2d(output_size=(1, 1))\n",
       "          (f_ex): Sequential(\n",
       "            (0): Conv2d(40, 10, kernel_size=(1, 1), stride=(1, 1))\n",
       "            (1): ReLU(inplace=True)\n",
       "            (2): Conv2d(10, 40, kernel_size=(1, 1), stride=(1, 1))\n",
       "            (3): Sigmoid()\n",
       "          )\n",
       "        )\n",
       "        (c): Conv2d(40, 40, kernel_size=(1, 1), stride=(1, 1), bias=False)\n",
       "        (c_bn): BatchNorm2d(40, eps=1e-05, momentum=0.1, affine=True, track_running_stats=True)\n",
       "      )\n",
       "      (af): ReLU(inplace=True)\n",
       "    )\n",
       "    (b4): ResBottleneckBlock(\n",
       "      (f): BottleneckTransform(\n",
       "        (a): Conv2d(40, 40, kernel_size=(1, 1), stride=(1, 1), bias=False)\n",
       "        (a_bn): BatchNorm2d(40, eps=1e-05, momentum=0.1, affine=True, track_running_stats=True)\n",
       "        (a_af): ReLU(inplace=True)\n",
       "        (b): Conv2d(40, 40, kernel_size=(3, 3), stride=(1, 1), padding=(1, 1), groups=5, bias=False)\n",
       "        (b_bn): BatchNorm2d(40, eps=1e-05, momentum=0.1, affine=True, track_running_stats=True)\n",
       "        (b_af): ReLU(inplace=True)\n",
       "        (se): SE(\n",
       "          (avg_pool): AdaptiveAvgPool2d(output_size=(1, 1))\n",
       "          (f_ex): Sequential(\n",
       "            (0): Conv2d(40, 10, kernel_size=(1, 1), stride=(1, 1))\n",
       "            (1): ReLU(inplace=True)\n",
       "            (2): Conv2d(10, 40, kernel_size=(1, 1), stride=(1, 1))\n",
       "            (3): Sigmoid()\n",
       "          )\n",
       "        )\n",
       "        (c): Conv2d(40, 40, kernel_size=(1, 1), stride=(1, 1), bias=False)\n",
       "        (c_bn): BatchNorm2d(40, eps=1e-05, momentum=0.1, affine=True, track_running_stats=True)\n",
       "      )\n",
       "      (af): ReLU(inplace=True)\n",
       "    )\n",
       "  )\n",
       "  (s2): AnyStage(\n",
       "    (b1): ResBottleneckBlock(\n",
       "      (proj): Conv2d(40, 104, kernel_size=(1, 1), stride=(2, 2), bias=False)\n",
       "      (bn): BatchNorm2d(104, eps=1e-05, momentum=0.1, affine=True, track_running_stats=True)\n",
       "      (f): BottleneckTransform(\n",
       "        (a): Conv2d(40, 104, kernel_size=(1, 1), stride=(1, 1), bias=False)\n",
       "        (a_bn): BatchNorm2d(104, eps=1e-05, momentum=0.1, affine=True, track_running_stats=True)\n",
       "        (a_af): ReLU(inplace=True)\n",
       "        (b): Conv2d(104, 104, kernel_size=(3, 3), stride=(2, 2), padding=(1, 1), groups=13, bias=False)\n",
       "        (b_bn): BatchNorm2d(104, eps=1e-05, momentum=0.1, affine=True, track_running_stats=True)\n",
       "        (b_af): ReLU(inplace=True)\n",
       "        (se): SE(\n",
       "          (avg_pool): AdaptiveAvgPool2d(output_size=(1, 1))\n",
       "          (f_ex): Sequential(\n",
       "            (0): Conv2d(104, 10, kernel_size=(1, 1), stride=(1, 1))\n",
       "            (1): ReLU(inplace=True)\n",
       "            (2): Conv2d(10, 104, kernel_size=(1, 1), stride=(1, 1))\n",
       "            (3): Sigmoid()\n",
       "          )\n",
       "        )\n",
       "        (c): Conv2d(104, 104, kernel_size=(1, 1), stride=(1, 1), bias=False)\n",
       "        (c_bn): BatchNorm2d(104, eps=1e-05, momentum=0.1, affine=True, track_running_stats=True)\n",
       "      )\n",
       "      (af): ReLU(inplace=True)\n",
       "    )\n",
       "    (b2): ResBottleneckBlock(\n",
       "      (f): BottleneckTransform(\n",
       "        (a): Conv2d(104, 104, kernel_size=(1, 1), stride=(1, 1), bias=False)\n",
       "        (a_bn): BatchNorm2d(104, eps=1e-05, momentum=0.1, affine=True, track_running_stats=True)\n",
       "        (a_af): ReLU(inplace=True)\n",
       "        (b): Conv2d(104, 104, kernel_size=(3, 3), stride=(1, 1), padding=(1, 1), groups=13, bias=False)\n",
       "        (b_bn): BatchNorm2d(104, eps=1e-05, momentum=0.1, affine=True, track_running_stats=True)\n",
       "        (b_af): ReLU(inplace=True)\n",
       "        (se): SE(\n",
       "          (avg_pool): AdaptiveAvgPool2d(output_size=(1, 1))\n",
       "          (f_ex): Sequential(\n",
       "            (0): Conv2d(104, 26, kernel_size=(1, 1), stride=(1, 1))\n",
       "            (1): ReLU(inplace=True)\n",
       "            (2): Conv2d(26, 104, kernel_size=(1, 1), stride=(1, 1))\n",
       "            (3): Sigmoid()\n",
       "          )\n",
       "        )\n",
       "        (c): Conv2d(104, 104, kernel_size=(1, 1), stride=(1, 1), bias=False)\n",
       "        (c_bn): BatchNorm2d(104, eps=1e-05, momentum=0.1, affine=True, track_running_stats=True)\n",
       "      )\n",
       "      (af): ReLU(inplace=True)\n",
       "    )\n",
       "    (b3): ResBottleneckBlock(\n",
       "      (f): BottleneckTransform(\n",
       "        (a): Conv2d(104, 104, kernel_size=(1, 1), stride=(1, 1), bias=False)\n",
       "        (a_bn): BatchNorm2d(104, eps=1e-05, momentum=0.1, affine=True, track_running_stats=True)\n",
       "        (a_af): ReLU(inplace=True)\n",
       "        (b): Conv2d(104, 104, kernel_size=(3, 3), stride=(1, 1), padding=(1, 1), groups=13, bias=False)\n",
       "        (b_bn): BatchNorm2d(104, eps=1e-05, momentum=0.1, affine=True, track_running_stats=True)\n",
       "        (b_af): ReLU(inplace=True)\n",
       "        (se): SE(\n",
       "          (avg_pool): AdaptiveAvgPool2d(output_size=(1, 1))\n",
       "          (f_ex): Sequential(\n",
       "            (0): Conv2d(104, 26, kernel_size=(1, 1), stride=(1, 1))\n",
       "            (1): ReLU(inplace=True)\n",
       "            (2): Conv2d(26, 104, kernel_size=(1, 1), stride=(1, 1))\n",
       "            (3): Sigmoid()\n",
       "          )\n",
       "        )\n",
       "        (c): Conv2d(104, 104, kernel_size=(1, 1), stride=(1, 1), bias=False)\n",
       "        (c_bn): BatchNorm2d(104, eps=1e-05, momentum=0.1, affine=True, track_running_stats=True)\n",
       "      )\n",
       "      (af): ReLU(inplace=True)\n",
       "    )\n",
       "    (b4): ResBottleneckBlock(\n",
       "      (f): BottleneckTransform(\n",
       "        (a): Conv2d(104, 104, kernel_size=(1, 1), stride=(1, 1), bias=False)\n",
       "        (a_bn): BatchNorm2d(104, eps=1e-05, momentum=0.1, affine=True, track_running_stats=True)\n",
       "        (a_af): ReLU(inplace=True)\n",
       "        (b): Conv2d(104, 104, kernel_size=(3, 3), stride=(1, 1), padding=(1, 1), groups=13, bias=False)\n",
       "        (b_bn): BatchNorm2d(104, eps=1e-05, momentum=0.1, affine=True, track_running_stats=True)\n",
       "        (b_af): ReLU(inplace=True)\n",
       "        (se): SE(\n",
       "          (avg_pool): AdaptiveAvgPool2d(output_size=(1, 1))\n",
       "          (f_ex): Sequential(\n",
       "            (0): Conv2d(104, 26, kernel_size=(1, 1), stride=(1, 1))\n",
       "            (1): ReLU(inplace=True)\n",
       "            (2): Conv2d(26, 104, kernel_size=(1, 1), stride=(1, 1))\n",
       "            (3): Sigmoid()\n",
       "          )\n",
       "        )\n",
       "        (c): Conv2d(104, 104, kernel_size=(1, 1), stride=(1, 1), bias=False)\n",
       "        (c_bn): BatchNorm2d(104, eps=1e-05, momentum=0.1, affine=True, track_running_stats=True)\n",
       "      )\n",
       "      (af): ReLU(inplace=True)\n",
       "    )\n",
       "  )\n",
       "  (head): AnyHead(\n",
       "    (avg_pool): AdaptiveAvgPool2d(output_size=(1, 1))\n",
       "    (fc): Linear(in_features=104, out_features=100, bias=True)\n",
       "  )\n",
       ")"
      ]
     },
     "execution_count": 19,
     "metadata": {},
     "output_type": "execute_result"
    }
   ],
   "source": [
    "model"
   ]
  },
  {
   "cell_type": "code",
   "execution_count": 17,
   "id": "115afe83-b7c5-4478-9eea-a390df89c94a",
   "metadata": {
    "tags": []
   },
   "outputs": [
    {
     "data": {
      "text/plain": [
       "{'ws': [40, 104],\n",
       " 'bs': [1.0, 1.0],\n",
       " 'gs': [8, 8],\n",
       " 'ds': [4, 4],\n",
       " 'num_stages': 2,\n",
       " 'total_size_mb': None,\n",
       " 'h': 1,\n",
       " 'w': 1,\n",
       " 'flops': 32546,\n",
       " 'params': 176482,\n",
       " 'acts': 802,\n",
       " 'WA': 8.0,\n",
       " 'W0': 40,\n",
       " 'WM': 2.6499999999999977,\n",
       " 'DEPTH': 8}"
      ]
     },
     "execution_count": 17,
     "metadata": {},
     "output_type": "execute_result"
    }
   ],
   "source": [
    "info"
   ]
  },
  {
   "cell_type": "code",
   "execution_count": 6,
   "id": "b2ebc7a8-cd3a-4732-94d5-412cd51355b6",
   "metadata": {
    "tags": []
   },
   "outputs": [
    {
     "name": "stdout",
     "output_type": "stream",
     "text": [
      "Loading model: tests_one_model/Generation_1/olive_wasp/config.yaml\n",
      "Loading model: tests_one_model/Generation_1/hospitable_pronghorn/config.yaml\n",
      "Loading model: tests_one_model/Generation_1/spectral_hare/config.yaml\n",
      "Loading model: tests_one_model/Generation_1/loyal_tiger/config.yaml\n",
      "Loading model: tests_one_model/Generation_1/astute_badger/config.yaml\n",
      "Loading model: tests_one_model/Generation_1/quizzical_caiman/config.yaml\n",
      "Loading model: tests_one_model/Generation_1/zircon_toad/config.yaml\n",
      "Loading model: tests_one_model/Generation_1/hypersonic_sambar/config.yaml\n",
      "Loading model: tests_one_model/Generation_1/honest_saluki/config.yaml\n",
      "Loading model: tests_one_model/Generation_1/neat_puffin/config.yaml\n"
     ]
    }
   ],
   "source": [
    "#models, chromosomes=space_regnet.create_random_generation(save_folder=\"tests_one_model\",gen=2, size=10)\n",
    "models, chromosomes=space_regnet.load_generation(folder=\"tests_one_model/Generation_1\")"
   ]
  },
  {
   "cell_type": "code",
   "execution_count": 6,
   "id": "6f80a6fb-7832-499a-a6ef-ad00ab6a5c21",
   "metadata": {
    "tags": []
   },
   "outputs": [
    {
     "data": {
      "text/plain": [
       "{'olive_wasp': {'ws': [8, 72, 144, 288, 592, 1216],\n",
       "  'bs': [1.0, 1.0, 1.0, 1.0, 1.0, 1.0],\n",
       "  'gs': [8, 8, 8, 8, 8, 8],\n",
       "  'ds': [1, 1, 3, 4, 9, 2],\n",
       "  'num_stages': 6,\n",
       "  'total_size_mb': None,\n",
       "  'h': 1,\n",
       "  'w': 1,\n",
       "  'flops': 2891040,\n",
       "  'params': 16601152,\n",
       "  'acts': 11584,\n",
       "  'WA': 48.0,\n",
       "  'W0': 8,\n",
       "  'WM': 2.05,\n",
       "  'DEPTH': 20},\n",
       " 'hospitable_pronghorn': {'ws': [40, 80, 176, 368],\n",
       "  'bs': [1.0, 1.0, 1.0, 1.0],\n",
       "  'gs': [8, 8, 8, 8],\n",
       "  'ds': [1, 3, 5, 8],\n",
       "  'num_stages': 4,\n",
       "  'total_size_mb': None,\n",
       "  'h': 1,\n",
       "  'w': 1,\n",
       "  'flops': 625946,\n",
       "  'params': 3458714,\n",
       "  'acts': 5146,\n",
       "  'WA': 24.0,\n",
       "  'W0': 40,\n",
       "  'WM': 2.0999999999999996,\n",
       "  'DEPTH': 17},\n",
       " 'spectral_hare': {'ws': [56, 128, 280, 640],\n",
       "  'bs': [1.0, 1.0, 1.0, 1.0],\n",
       "  'gs': [8, 8, 8, 8],\n",
       "  'ds': [1, 3, 6, 4],\n",
       "  'num_stages': 4,\n",
       "  'total_size_mb': None,\n",
       "  'h': 1,\n",
       "  'w': 1,\n",
       "  'flops': 1008582,\n",
       "  'params': 5639414,\n",
       "  'acts': 5798,\n",
       "  'WA': 40.0,\n",
       "  'W0': 56,\n",
       "  'WM': 2.249999999999999,\n",
       "  'DEPTH': 14},\n",
       " 'loyal_tiger': {'ws': [24, 64, 168],\n",
       "  'bs': [1.0, 1.0, 1.0],\n",
       "  'gs': [8, 8, 8],\n",
       "  'ds': [1, 3, 5],\n",
       "  'num_stages': 3,\n",
       "  'total_size_mb': None,\n",
       "  'h': 1,\n",
       "  'w': 1,\n",
       "  'flops': 85258,\n",
       "  'params': 470250,\n",
       "  'acts': 1386,\n",
       "  'WA': 24.0,\n",
       "  'W0': 24,\n",
       "  'WM': 2.6499999999999977,\n",
       "  'DEPTH': 9},\n",
       " 'astute_badger': {'ws': [24, 56, 144, 352],\n",
       "  'bs': [1.0, 1.0, 1.0, 1.0],\n",
       "  'gs': [8, 8, 8, 8],\n",
       "  'ds': [1, 4, 8, 3],\n",
       "  'num_stages': 4,\n",
       "  'total_size_mb': None,\n",
       "  'h': 1,\n",
       "  'w': 1,\n",
       "  'flops': 269906,\n",
       "  'params': 1538370,\n",
       "  'acts': 3090,\n",
       "  'WA': 16.0,\n",
       "  'W0': 24,\n",
       "  'WM': 2.4499999999999984,\n",
       "  'DEPTH': 16},\n",
       " 'quizzical_caiman': {'ws': [56, 152, 392, 1040],\n",
       "  'bs': [1.0, 1.0, 1.0, 1.0],\n",
       "  'gs': [8, 8, 8, 8],\n",
       "  'ds': [1, 3, 9, 2],\n",
       "  'num_stages': 4,\n",
       "  'total_size_mb': None,\n",
       "  'h': 1,\n",
       "  'w': 1,\n",
       "  'flops': 1528842,\n",
       "  'params': 8941290,\n",
       "  'acts': 7498,\n",
       "  'WA': 48.0,\n",
       "  'W0': 56,\n",
       "  'WM': 2.6499999999999977,\n",
       "  'DEPTH': 15},\n",
       " 'zircon_toad': {'ws': [16, 40, 96, 232, 576],\n",
       "  'bs': [1.0, 1.0, 1.0, 1.0, 1.0],\n",
       "  'gs': [8, 8, 8, 8, 8],\n",
       "  'ds': [1, 1, 2, 5, 3],\n",
       "  'num_stages': 5,\n",
       "  'total_size_mb': None,\n",
       "  'h': 1,\n",
       "  'w': 1,\n",
       "  'flops': 585964,\n",
       "  'params': 3328012,\n",
       "  'acts': 3884,\n",
       "  'WA': 40.0,\n",
       "  'W0': 16,\n",
       "  'WM': 2.4499999999999984,\n",
       "  'DEPTH': 12},\n",
       " 'hypersonic_sambar': {'ws': [40, 96, 248],\n",
       "  'bs': [1.0, 1.0, 1.0],\n",
       "  'gs': [8, 8, 8],\n",
       "  'ds': [1, 4, 8],\n",
       "  'num_stages': 3,\n",
       "  'total_size_mb': None,\n",
       "  'h': 1,\n",
       "  'w': 1,\n",
       "  'flops': 271408,\n",
       "  'params': 1507456,\n",
       "  'acts': 3056,\n",
       "  'WA': 24.0,\n",
       "  'W0': 40,\n",
       "  'WM': 2.4999999999999982,\n",
       "  'DEPTH': 13},\n",
       " 'honest_saluki': {'ws': [16, 32, 64, 128, 256],\n",
       "  'bs': [1.0, 1.0, 1.0, 1.0, 1.0],\n",
       "  'gs': [8, 8, 8, 8, 8],\n",
       "  'ds': [1, 1, 3, 6, 2],\n",
       "  'num_stages': 5,\n",
       "  'total_size_mb': None,\n",
       "  'h': 1,\n",
       "  'w': 1,\n",
       "  'flops': 127384,\n",
       "  'params': 734520,\n",
       "  'acts': 1944,\n",
       "  'WA': 16.0,\n",
       "  'W0': 16,\n",
       "  'WM': 2.0,\n",
       "  'DEPTH': 13},\n",
       " 'neat_puffin': {'ws': [24, 48, 104],\n",
       "  'bs': [1.0, 1.0, 1.0],\n",
       "  'gs': [8, 8, 8],\n",
       "  'ds': [2, 5, 4],\n",
       "  'num_stages': 3,\n",
       "  'total_size_mb': None,\n",
       "  'h': 1,\n",
       "  'w': 1,\n",
       "  'flops': 35938,\n",
       "  'params': 204130,\n",
       "  'acts': 962,\n",
       "  'WA': 8.0,\n",
       "  'W0': 24,\n",
       "  'WM': 2.0999999999999996,\n",
       "  'DEPTH': 11}}"
      ]
     },
     "execution_count": 6,
     "metadata": {},
     "output_type": "execute_result"
    }
   ],
   "source": [
    "chromosomes"
   ]
  },
  {
   "cell_type": "code",
   "execution_count": 7,
   "id": "3c6fa026-e7e0-47d2-bef5-132738689961",
   "metadata": {},
   "outputs": [],
   "source": [
    "from trainer import Trainer, TrainerDistillation\n",
    "device = torch.device(\"cuda\" if torch.cuda.is_available() else \"cpu\")\n"
   ]
  },
  {
   "cell_type": "code",
   "execution_count": 9,
   "id": "4e3a0ed3-b006-4d0f-af10-b13cc09b2e0e",
   "metadata": {
    "tags": []
   },
   "outputs": [],
   "source": [
    "trainer=Trainer(model, device, train_loader, valid_loader, metadata)"
   ]
  },
  {
   "cell_type": "code",
   "execution_count": 10,
   "id": "56bb370f-0d6a-4bc2-bdcb-dd38e1350f17",
   "metadata": {
    "tags": []
   },
   "outputs": [
    {
     "name": "stdout",
     "output_type": "stream",
     "text": [
      "0.01\n",
      "\tEpoch   1/2   | Train Acc:  10.74% | Valid Acc:  15.91% | T/Epoch: 52.14s  |\n",
      "0.005\n",
      "\tEpoch   2/2   | Train Acc:  18.08% | Valid Acc:  20.00% | T/Epoch: 48.92s  |\n",
      "  Total runtime: 1m,37s\n"
     ]
    }
   ],
   "source": [
    "model_trained=trainer.train()"
   ]
  },
  {
   "cell_type": "code",
   "execution_count": null,
   "id": "44102ec2-30ac-4d1d-bef2-f7b214469f71",
   "metadata": {
    "tags": []
   },
   "outputs": [
    {
     "name": "stderr",
     "output_type": "stream",
     "text": [
      "\u001b[32m[TRAIN] Epoch:1| Time(data):0.000| Time(train):0.098| Loss:3.2692| Top-1:5.830| Top-5:27.114\u001b[0m: 100%|██████████| 703/703 [01:27<00:00,  8.03it/s]\n",
      "\u001b[31m[EVAL] Top-1:6.967| Top-5:31.307\u001b[0m: 100%|██████████| 235/235 [00:10<00:00, 22.37it/s]\n",
      "\u001b[32m[TRAIN] Epoch:2| Time(data):0.000| Time(train):0.098| Loss:2.9330| Top-1:9.093| Top-5:39.005\u001b[0m: 100%|██████████| 703/703 [01:27<00:00,  8.05it/s]\n",
      "\u001b[31m[EVAL] Top-1:11.447| Top-5:46.500\u001b[0m: 100%|██████████| 235/235 [00:10<00:00, 22.33it/s]\n",
      "\u001b[32m[TRAIN] Epoch:3| Time(data):0.000| Time(train):0.097| Loss:2.6689| Top-1:13.229| Top-5:50.109\u001b[0m: 100%|██████████| 703/703 [01:26<00:00,  8.09it/s]\n",
      "\u001b[31m[EVAL] Top-1:15.007| Top-5:52.793\u001b[0m: 100%|██████████| 235/235 [00:10<00:00, 22.42it/s]\n",
      "\u001b[32m[TRAIN] Epoch:4| Time(data):0.000| Time(train):0.098| Loss:2.5196| Top-1:16.676| Top-5:55.757\u001b[0m: 100%|██████████| 703/703 [01:27<00:00,  8.06it/s]\n",
      "\u001b[31m[EVAL] Top-1:18.640| Top-5:57.407\u001b[0m: 100%|██████████| 235/235 [00:10<00:00, 22.45it/s]\n",
      "\u001b[32m[TRAIN] Epoch:5| Time(data):0.000| Time(train):0.098| Loss:2.4318| Top-1:18.948| Top-5:58.628\u001b[0m: 100%|██████████| 703/703 [01:27<00:00,  8.06it/s]\n",
      "\u001b[31m[EVAL] Top-1:22.807| Top-5:61.953\u001b[0m: 100%|██████████| 235/235 [00:10<00:00, 22.55it/s]\n",
      "\u001b[32m[TRAIN] Epoch:6| Time(data):0.000| Time(train):0.098| Loss:2.3498| Top-1:21.971| Top-5:61.820\u001b[0m: 100%|██████████| 703/703 [01:27<00:00,  8.05it/s]\n",
      "\u001b[31m[EVAL] Top-1:19.847| Top-5:55.733\u001b[0m: 100%|██████████| 235/235 [00:10<00:00, 22.29it/s]\n",
      "\u001b[32m[TRAIN] Epoch:7| Time(data):0.000| Time(train):0.098| Loss:2.2929| Top-1:23.835| Top-5:63.918\u001b[0m: 100%|██████████| 703/703 [01:27<00:00,  8.06it/s]\n",
      "\u001b[31m[EVAL] Top-1:24.613| Top-5:64.620\u001b[0m: 100%|██████████| 235/235 [00:10<00:00, 22.49it/s]\n",
      "\u001b[32m[TRAIN] Epoch:8| Time(data):0.000| Time(train):0.097| Loss:2.2456| Top-1:25.727| Top-5:65.280\u001b[0m: 100%|██████████| 703/703 [01:26<00:00,  8.10it/s]\n",
      "\u001b[31m[EVAL] Top-1:25.620| Top-5:65.053\u001b[0m: 100%|██████████| 235/235 [00:10<00:00, 22.38it/s]\n",
      "\u001b[32m[TRAIN] Epoch:9| Time(data):0.000| Time(train):0.098| Loss:2.1953| Top-1:27.440| Top-5:67.403\u001b[0m: 100%|██████████| 703/703 [01:27<00:00,  8.06it/s]\n",
      "\u001b[31m[EVAL] Top-1:30.913| Top-5:72.080\u001b[0m: 100%|██████████| 235/235 [00:10<00:00, 22.43it/s]\n",
      "\u001b[32m[TRAIN] Epoch:10| Time(data):0.000| Time(train):0.098| Loss:2.1043| Top-1:29.867| Top-5:70.561\u001b[0m:  99%|█████████▉| 698/703 [01:26<00:00,  8.03it/s]"
     ]
    }
   ],
   "source": [
    "for student in models.keys():\n",
    "    metadata[\"experiment_name\"]=f\"tests_one_model/Generation_1/{student}\"\n",
    "    trainer=TrainerDistillation(models[student], device, train_loader, valid_loader, metadata)\n",
    "    trainer.train()"
   ]
  },
  {
   "cell_type": "code",
   "execution_count": null,
   "id": "b3a8d01f-d30e-40a4-9ff3-6db24c1ea3bd",
   "metadata": {},
   "outputs": [],
   "source": [
    "print(\"yes\")"
   ]
  },
  {
   "cell_type": "code",
   "execution_count": null,
   "id": "f15c4973-660b-45ad-a429-7597e3dabb4c",
   "metadata": {},
   "outputs": [],
   "source": []
  }
 ],
 "metadata": {
  "kernelspec": {
   "display_name": "Python [conda env:pytorch-2.2.0]",
   "language": "python",
   "name": "conda-env-pytorch-2.2.0-py"
  },
  "language_info": {
   "codemirror_mode": {
    "name": "ipython",
    "version": 3
   },
   "file_extension": ".py",
   "mimetype": "text/x-python",
   "name": "python",
   "nbconvert_exporter": "python",
   "pygments_lexer": "ipython3",
   "version": "3.12.1"
  }
 },
 "nbformat": 4,
 "nbformat_minor": 5
}
