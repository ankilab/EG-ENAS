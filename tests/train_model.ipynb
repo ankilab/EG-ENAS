{
 "cells": [
  {
   "cell_type": "code",
   "execution_count": 4,
   "id": "c579a887-7ed7-4f90-9aa3-f06d03046514",
   "metadata": {},
   "outputs": [
    {
     "name": "stdout",
     "output_type": "stream",
     "text": [
      "Note: you may need to restart the kernel to use updated packages.\n"
     ]
    }
   ],
   "source": [
    "%pip install -q --proxy http://proxy:80 pycls iopath tqdm"
   ]
  },
  {
   "cell_type": "code",
   "execution_count": 1,
   "id": "4d79172e-ed08-491f-a795-4c367c322b1d",
   "metadata": {},
   "outputs": [
    {
     "name": "stderr",
     "output_type": "stream",
     "text": [
      "/home/hpc/iwb3/iwb3021h/.local/lib/python3.12/site-packages/tqdm/auto.py:21: TqdmWarning: IProgress not found. Please update jupyter and ipywidgets. See https://ipywidgets.readthedocs.io/en/stable/user_install.html\n",
      "  from .autonotebook import tqdm as notebook_tqdm\n"
     ]
    }
   ],
   "source": [
    "import sys\n",
    "sys.path.append(\"../\")\n",
    "from evaluation import main\n",
    "from data_processor import DataProcessor\n",
    "from search_space.RegNet import RegNet\n",
    "import torch\n",
    "#from search_space.config import cfg, load_cfg"
   ]
  },
  {
   "cell_type": "code",
   "execution_count": 2,
   "id": "44a1a858-174f-4d11-88cb-9021237a38f8",
   "metadata": {
    "tags": []
   },
   "outputs": [],
   "source": [
    "import random\n",
    "import numpy as np\n",
    "import time\n",
    "from IPython.display import clear_output\n",
    "random_seed = 42\n",
    "random.seed(random_seed)\n",
    "# Set seed for NumPy\n",
    "np.random.seed(random_seed)\n",
    "# Set seed for PyTorch\n",
    "torch.manual_seed(random_seed)\n",
    "torch.cuda.manual_seed_all(random_seed)\n",
    "# Additional steps if using CuDNN (optional, for GPU acceleration)\n",
    "torch.backends.cudnn.deterministic = True\n",
    "torch.backends.cudnn.benchmark = False"
   ]
  },
  {
   "cell_type": "code",
   "execution_count": 3,
   "id": "93631eeb-2586-4b48-9cb9-9134e76b7009",
   "metadata": {
    "tags": []
   },
   "outputs": [
    {
     "name": "stdout",
     "output_type": "stream",
     "text": [
      "[RandomCrop(size=(28, 28), padding=[4, 4, 4, 4], pad_if_needed=False, fill=0, padding_mode=constant), RandomHorizontalFlip(p=0.5)]\n",
      "[Normalize(mean=[tensor(0.0053), tensor(0.0066), tensor(0.0077)], std=[tensor(1.0065), tensor(1.0080), tensor(1.0092)], inplace=False)]\n",
      "[Normalize(mean=[tensor(0.0053), tensor(0.0066), tensor(0.0077)], std=[tensor(1.0065), tensor(1.0080), tensor(1.0092)], inplace=False)]\n"
     ]
    }
   ],
   "source": [
    "#Dataset must be in the folder datasets\n",
    "(train_x, train_y), (valid_x, valid_y), (test_x), metadata = main.load_datasets(\"AddNIST\", truncate=False)\n",
    "metadata[\"rand_augment\"]=False\n",
    "data_processor = DataProcessor(train_x, train_y, valid_x, valid_y, test_x, metadata)\n",
    "train_loader, valid_loader, test_loader = data_processor.process()"
   ]
  },
  {
   "cell_type": "code",
   "execution_count": 4,
   "id": "479f559e-1f1c-4f30-9eae-24601293226f",
   "metadata": {
    "tags": []
   },
   "outputs": [
    {
     "name": "stderr",
     "output_type": "stream",
     "text": [
      "Clipping input data to the valid range for imshow with RGB data ([0..1] for floats or [0..255] for integers).\n"
     ]
    },
    {
     "data": {
      "text/plain": [
       "<matplotlib.image.AxesImage at 0x7f9cf95f5820>"
      ]
     },
     "execution_count": 4,
     "metadata": {},
     "output_type": "execute_result"
    },
    {
     "data": {
      "image/png": "[encoded data removed]",
      "text/plain": [
       "<Figure size 640x480 with 1 Axes>"
      ]
     },
     "metadata": {},
     "output_type": "display_data"
    }
   ],
   "source": [
    "import matplotlib.pyplot as plt\n",
    "img=next(iter(train_loader))[0][0]\n",
    "img=img.numpy().transpose(1, 2, 0)\n",
    "plt.imshow(img)"
   ]
  },
  {
   "cell_type": "code",
   "execution_count": 4,
   "id": "c660acb4-340e-4828-9db5-81d78f5cb485",
   "metadata": {
    "tags": []
   },
   "outputs": [
    {
     "data": {
      "text/plain": [
       "{'num_classes': 20,\n",
       " 'input_shape': [50000, 3, 28, 28],\n",
       " 'codename': 'Adaline',\n",
       " 'benchmark': 89.85,\n",
       " 'rand_augment': True}"
      ]
     },
     "execution_count": 4,
     "metadata": {},
     "output_type": "execute_result"
    }
   ],
   "source": [
    "metadata"
   ]
  },
  {
   "cell_type": "code",
   "execution_count": 13,
   "id": "553149eb-8d16-4101-8129-ade06c752970",
   "metadata": {
    "tags": []
   },
   "outputs": [],
   "source": [
    "space_regnet=RegNet(metadata, W0=[16, 64, 8], WA=[8, 48, 8],WM=[2.05,2.9,0.05],D=[8,22,1])"
   ]
  },
  {
   "cell_type": "code",
   "execution_count": 15,
   "id": "55f8cc0c-58dc-40fb-9243-253b370012bd",
   "metadata": {
    "tags": []
   },
   "outputs": [],
   "source": [
    "!rm -rf \"tests_filtered_regnet\""
   ]
  },
  {
   "cell_type": "code",
   "execution_count": 14,
   "id": "b2ebc7a8-cd3a-4732-94d5-412cd51355b6",
   "metadata": {
    "collapsed": true,
    "jupyter": {
     "outputs_hidden": true
    },
    "tags": []
   },
   "outputs": [
    {
     "name": "stdout",
     "output_type": "stream",
     "text": [
      "Created model:  ludicrous_foxhound\n",
      "res_bottleneck_block\n",
      "res_bottleneck_block\n",
      "Created model:  inquisitive_numbat\n",
      "res_bottleneck_block\n",
      "res_bottleneck_block\n",
      "Created model:  almond_honeybee\n",
      "res_bottleneck_block\n",
      "res_bottleneck_block\n",
      "Created model:  capable_bullfinch\n",
      "res_bottleneck_block\n",
      "res_bottleneck_block\n",
      "Created model:  succinct_sloth\n",
      "res_bottleneck_block\n",
      "res_bottleneck_block\n",
      "Corrected W0:  32\n",
      "Created model:  umber_puma\n",
      "res_bottleneck_block\n",
      "res_bottleneck_block\n",
      "Corrected W0:  40\n",
      "Created model:  xanthic_markhor\n",
      "res_bottleneck_block\n",
      "res_bottleneck_block\n",
      "Created model:  tough_goose\n",
      "res_bottleneck_block\n",
      "res_bottleneck_block\n",
      "Created model:  steel_rook\n",
      "res_bottleneck_block\n",
      "res_bottleneck_block\n",
      "Created model:  amorphous_earthworm\n",
      "res_bottleneck_block\n",
      "res_bottleneck_block\n",
      "Corrected W0:  32\n",
      "Created model:  private_earwig\n",
      "res_bottleneck_block\n",
      "res_bottleneck_block\n",
      "Corrected W0:  56\n",
      "Created model:  nimble_petrel\n",
      "res_bottleneck_block\n",
      "res_bottleneck_block\n",
      "Created model:  emerald_zebu\n",
      "res_bottleneck_block\n",
      "res_bottleneck_block\n",
      "Created model:  lively_malamute\n",
      "res_bottleneck_block\n",
      "res_bottleneck_block\n",
      "Created model:  quick_meerkat\n",
      "res_bottleneck_block\n",
      "res_bottleneck_block\n",
      "Created model:  smoky_kagu\n",
      "res_bottleneck_block\n",
      "res_bottleneck_block\n",
      "Corrected W0:  48\n",
      "Created model:  innocent_clam\n",
      "res_bottleneck_block\n",
      "res_bottleneck_block\n",
      "Corrected W0:  48\n",
      "Created model:  crafty_poodle\n",
      "res_bottleneck_block\n",
      "res_bottleneck_block\n",
      "Created model:  hairy_snake\n",
      "res_bottleneck_block\n",
      "res_bottleneck_block\n",
      "Created model:  crystal_mustang\n",
      "res_bottleneck_block\n",
      "res_bottleneck_block\n",
      "Corrected W0:  32\n",
      "Created model:  daffodil_millipede\n",
      "res_bottleneck_block\n",
      "res_bottleneck_block\n",
      "Created model:  piquant_deer\n",
      "res_bottleneck_block\n",
      "res_bottleneck_block\n",
      "Created model:  granite_mastodon\n",
      "res_bottleneck_block\n",
      "res_bottleneck_block\n",
      "Created model:  pastel_rattlesnake\n",
      "res_bottleneck_block\n",
      "res_bottleneck_block\n",
      "Created model:  unnatural_baboon\n",
      "res_bottleneck_block\n",
      "res_bottleneck_block\n",
      "Created model:  gay_jackdaw\n",
      "res_bottleneck_block\n",
      "res_bottleneck_block\n",
      "Corrected W0:  56\n",
      "Created model:  ingenious_panther\n",
      "res_bottleneck_block\n",
      "res_bottleneck_block\n",
      "Created model:  true_cat\n",
      "res_bottleneck_block\n",
      "res_bottleneck_block\n",
      "Created model:  accomplished_axolotl\n",
      "res_bottleneck_block\n",
      "res_bottleneck_block\n",
      "Created model:  clever_bettong\n",
      "res_bottleneck_block\n",
      "res_bottleneck_block\n",
      "Created model:  warm_barnacle\n",
      "res_bottleneck_block\n",
      "res_bottleneck_block\n",
      "Created model:  military_ladybug\n",
      "res_bottleneck_block\n",
      "res_bottleneck_block\n",
      "Created model:  sapphire_grouse\n",
      "res_bottleneck_block\n",
      "res_bottleneck_block\n",
      "Created model:  demonic_caiman\n",
      "res_bottleneck_block\n",
      "res_bottleneck_block\n",
      "Created model:  cherry_tarsier\n",
      "res_bottleneck_block\n",
      "res_bottleneck_block\n",
      "Created model:  dangerous_pig\n",
      "res_bottleneck_block\n",
      "res_bottleneck_block\n",
      "Created model:  striped_caribou\n",
      "res_bottleneck_block\n",
      "res_bottleneck_block\n",
      "Created model:  miniature_eel\n",
      "res_bottleneck_block\n",
      "res_bottleneck_block\n",
      "Corrected W0:  48\n",
      "Created model:  defiant_lynx\n",
      "res_bottleneck_block\n",
      "res_bottleneck_block\n",
      "Created model:  truthful_goldfish\n",
      "res_bottleneck_block\n",
      "res_bottleneck_block\n",
      "Created model:  succinct_falcon\n",
      "res_bottleneck_block\n",
      "res_bottleneck_block\n",
      "Created model:  viridian_swallow\n",
      "res_bottleneck_block\n",
      "res_bottleneck_block\n",
      "Created model:  organic_ferret\n",
      "res_bottleneck_block\n",
      "res_bottleneck_block\n",
      "Created model:  fearless_turkey\n",
      "res_bottleneck_block\n",
      "res_bottleneck_block\n",
      "Created model:  myrtle_boobook\n",
      "res_bottleneck_block\n",
      "res_bottleneck_block\n",
      "Created model:  independent_tanuki\n",
      "res_bottleneck_block\n",
      "res_bottleneck_block\n",
      "Created model:  strong_gazelle\n",
      "res_bottleneck_block\n",
      "res_bottleneck_block\n",
      "Corrected W0:  48\n",
      "Created model:  sapphire_ostrich\n",
      "res_bottleneck_block\n",
      "res_bottleneck_block\n",
      "Created model:  miniature_gerbil\n",
      "res_bottleneck_block\n",
      "res_bottleneck_block\n",
      "Created model:  nano_caracal\n",
      "res_bottleneck_block\n",
      "res_bottleneck_block\n"
     ]
    }
   ],
   "source": [
    "#WA,W0,WM,DEPTH=48,24,2.4,12\n",
    "#model, info=space_regnet.create_model(params=[WA,W0,WM,DEPTH], save_folder=None, name=None, gen=None)\n",
    "#model,info=space_regnet.load_model(config_file=\"tests_one_model/Generation_1_SE/spectral_hare/config.yaml\")\n",
    "models, chromosomes=space_regnet.create_random_generation(save_folder=\"tests_filtered_regnet\",gen=1, size=20)\n",
    "#models, chromosomes=space_regnet.load_generation(folder=\"tests_one_model/Generation_1_SE\")"
   ]
  },
  {
   "cell_type": "code",
   "execution_count": 9,
   "id": "6f80a6fb-7832-499a-a6ef-ad00ab6a5c21",
   "metadata": {
    "collapsed": true,
    "jupyter": {
     "outputs_hidden": true
    },
    "tags": []
   },
   "outputs": [
    {
     "data": {
      "text/plain": [
       "{'olive_wasp': {'ws': [8, 72, 144, 288, 592, 1216],\n",
       "  'bs': [1.0, 1.0, 1.0, 1.0, 1.0, 1.0],\n",
       "  'gs': [8, 8, 8, 8, 8, 8],\n",
       "  'ds': [1, 1, 3, 4, 9, 2],\n",
       "  'num_stages': 6,\n",
       "  'total_size_mb': None,\n",
       "  'h': 1,\n",
       "  'w': 1,\n",
       "  'flops': 2891040,\n",
       "  'params': 16601152,\n",
       "  'acts': 11584,\n",
       "  'WA': 48.0,\n",
       "  'W0': 8,\n",
       "  'WM': 2.05,\n",
       "  'DEPTH': 20},\n",
       " 'hospitable_pronghorn': {'ws': [40, 80, 176, 368],\n",
       "  'bs': [1.0, 1.0, 1.0, 1.0],\n",
       "  'gs': [8, 8, 8, 8],\n",
       "  'ds': [1, 3, 5, 8],\n",
       "  'num_stages': 4,\n",
       "  'total_size_mb': None,\n",
       "  'h': 1,\n",
       "  'w': 1,\n",
       "  'flops': 625946,\n",
       "  'params': 3458714,\n",
       "  'acts': 5146,\n",
       "  'WA': 24.0,\n",
       "  'W0': 40,\n",
       "  'WM': 2.0999999999999996,\n",
       "  'DEPTH': 17},\n",
       " 'spectral_hare': {'ws': [56, 128, 280, 640],\n",
       "  'bs': [1.0, 1.0, 1.0, 1.0],\n",
       "  'gs': [8, 8, 8, 8],\n",
       "  'ds': [1, 3, 6, 4],\n",
       "  'num_stages': 4,\n",
       "  'total_size_mb': None,\n",
       "  'h': 1,\n",
       "  'w': 1,\n",
       "  'flops': 1008582,\n",
       "  'params': 5639414,\n",
       "  'acts': 5798,\n",
       "  'WA': 40.0,\n",
       "  'W0': 56,\n",
       "  'WM': 2.249999999999999,\n",
       "  'DEPTH': 14},\n",
       " 'loyal_tiger': {'ws': [24, 64, 168],\n",
       "  'bs': [1.0, 1.0, 1.0],\n",
       "  'gs': [8, 8, 8],\n",
       "  'ds': [1, 3, 5],\n",
       "  'num_stages': 3,\n",
       "  'total_size_mb': None,\n",
       "  'h': 1,\n",
       "  'w': 1,\n",
       "  'flops': 85258,\n",
       "  'params': 470250,\n",
       "  'acts': 1386,\n",
       "  'WA': 24.0,\n",
       "  'W0': 24,\n",
       "  'WM': 2.6499999999999977,\n",
       "  'DEPTH': 9},\n",
       " 'astute_badger': {'ws': [24, 56, 144, 352],\n",
       "  'bs': [1.0, 1.0, 1.0, 1.0],\n",
       "  'gs': [8, 8, 8, 8],\n",
       "  'ds': [1, 4, 8, 3],\n",
       "  'num_stages': 4,\n",
       "  'total_size_mb': None,\n",
       "  'h': 1,\n",
       "  'w': 1,\n",
       "  'flops': 269906,\n",
       "  'params': 1538370,\n",
       "  'acts': 3090,\n",
       "  'WA': 16.0,\n",
       "  'W0': 24,\n",
       "  'WM': 2.4499999999999984,\n",
       "  'DEPTH': 16},\n",
       " 'quizzical_caiman': {'ws': [56, 152, 392, 1040],\n",
       "  'bs': [1.0, 1.0, 1.0, 1.0],\n",
       "  'gs': [8, 8, 8, 8],\n",
       "  'ds': [1, 3, 9, 2],\n",
       "  'num_stages': 4,\n",
       "  'total_size_mb': None,\n",
       "  'h': 1,\n",
       "  'w': 1,\n",
       "  'flops': 1528842,\n",
       "  'params': 8941290,\n",
       "  'acts': 7498,\n",
       "  'WA': 48.0,\n",
       "  'W0': 56,\n",
       "  'WM': 2.6499999999999977,\n",
       "  'DEPTH': 15},\n",
       " 'zircon_toad': {'ws': [16, 40, 96, 232, 576],\n",
       "  'bs': [1.0, 1.0, 1.0, 1.0, 1.0],\n",
       "  'gs': [8, 8, 8, 8, 8],\n",
       "  'ds': [1, 1, 2, 5, 3],\n",
       "  'num_stages': 5,\n",
       "  'total_size_mb': None,\n",
       "  'h': 1,\n",
       "  'w': 1,\n",
       "  'flops': 585964,\n",
       "  'params': 3328012,\n",
       "  'acts': 3884,\n",
       "  'WA': 40.0,\n",
       "  'W0': 16,\n",
       "  'WM': 2.4499999999999984,\n",
       "  'DEPTH': 12},\n",
       " 'hypersonic_sambar': {'ws': [40, 96, 248],\n",
       "  'bs': [1.0, 1.0, 1.0],\n",
       "  'gs': [8, 8, 8],\n",
       "  'ds': [1, 4, 8],\n",
       "  'num_stages': 3,\n",
       "  'total_size_mb': None,\n",
       "  'h': 1,\n",
       "  'w': 1,\n",
       "  'flops': 271408,\n",
       "  'params': 1507456,\n",
       "  'acts': 3056,\n",
       "  'WA': 24.0,\n",
       "  'W0': 40,\n",
       "  'WM': 2.4999999999999982,\n",
       "  'DEPTH': 13},\n",
       " 'honest_saluki': {'ws': [16, 32, 64, 128, 256],\n",
       "  'bs': [1.0, 1.0, 1.0, 1.0, 1.0],\n",
       "  'gs': [8, 8, 8, 8, 8],\n",
       "  'ds': [1, 1, 3, 6, 2],\n",
       "  'num_stages': 5,\n",
       "  'total_size_mb': None,\n",
       "  'h': 1,\n",
       "  'w': 1,\n",
       "  'flops': 127384,\n",
       "  'params': 734520,\n",
       "  'acts': 1944,\n",
       "  'WA': 16.0,\n",
       "  'W0': 16,\n",
       "  'WM': 2.0,\n",
       "  'DEPTH': 13},\n",
       " 'neat_puffin': {'ws': [24, 48, 104],\n",
       "  'bs': [1.0, 1.0, 1.0],\n",
       "  'gs': [8, 8, 8],\n",
       "  'ds': [2, 5, 4],\n",
       "  'num_stages': 3,\n",
       "  'total_size_mb': None,\n",
       "  'h': 1,\n",
       "  'w': 1,\n",
       "  'flops': 35938,\n",
       "  'params': 204130,\n",
       "  'acts': 962,\n",
       "  'WA': 8.0,\n",
       "  'W0': 24,\n",
       "  'WM': 2.0999999999999996,\n",
       "  'DEPTH': 11}}"
      ]
     },
     "execution_count": 9,
     "metadata": {},
     "output_type": "execute_result"
    }
   ],
   "source": [
    "chromosomes"
   ]
  },
  {
   "cell_type": "code",
   "execution_count": 7,
   "id": "3c6fa026-e7e0-47d2-bef5-132738689961",
   "metadata": {},
   "outputs": [],
   "source": [
    "from trainer import Trainer, TrainerDistillation\n",
    "device = torch.device(\"cuda\" if torch.cuda.is_available() else \"cpu\")\n"
   ]
  },
  {
   "cell_type": "code",
   "execution_count": 9,
   "id": "4e3a0ed3-b006-4d0f-af10-b13cc09b2e0e",
   "metadata": {
    "tags": []
   },
   "outputs": [],
   "source": [
    "trainer=Trainer(model, device, train_loader, valid_loader, metadata)"
   ]
  },
  {
   "cell_type": "code",
   "execution_count": 10,
   "id": "56bb370f-0d6a-4bc2-bdcb-dd38e1350f17",
   "metadata": {
    "tags": []
   },
   "outputs": [
    {
     "name": "stdout",
     "output_type": "stream",
     "text": [
      "0.01\n",
      "\tEpoch   1/2   | Train Acc:  10.74% | Valid Acc:  15.91% | T/Epoch: 52.14s  |\n",
      "0.005\n",
      "\tEpoch   2/2   | Train Acc:  18.08% | Valid Acc:  20.00% | T/Epoch: 48.92s  |\n",
      "  Total runtime: 1m,37s\n"
     ]
    }
   ],
   "source": [
    "model_trained=trainer.train()"
   ]
  },
  {
   "cell_type": "code",
   "execution_count": 8,
   "id": "44102ec2-30ac-4d1d-bef2-f7b214469f71",
   "metadata": {
    "tags": []
   },
   "outputs": [
    {
     "name": "stderr",
     "output_type": "stream",
     "text": [
      "\u001b[32m[TRAIN] Epoch:1| Time(data):0.000| Time(train):0.048| Loss:2.9850| Top-1:7.841| Top-5:34.091\u001b[0m: 100%|██████████| 703/703 [00:52<00:00, 13.29it/s]\n",
      "\u001b[31m[EVAL] Top-1:14.040| Top-5:51.247\u001b[0m: 100%|██████████| 235/235 [00:06<00:00, 38.98it/s]\n",
      "\u001b[32m[TRAIN] Epoch:2| Time(data):0.000| Time(train):0.049| Loss:2.5776| Top-1:14.700| Top-5:53.138\u001b[0m: 100%|██████████| 703/703 [00:53<00:00, 13.14it/s]\n",
      "\u001b[31m[EVAL] Top-1:19.020| Top-5:61.007\u001b[0m: 100%|██████████| 235/235 [00:05<00:00, 39.77it/s]\n",
      "\u001b[32m[TRAIN] Epoch:3| Time(data):0.000| Time(train):0.048| Loss:2.4312| Top-1:17.950| Top-5:59.102\u001b[0m: 100%|██████████| 703/703 [00:52<00:00, 13.29it/s]\n",
      "\u001b[31m[EVAL] Top-1:20.660| Top-5:63.633\u001b[0m: 100%|██████████| 235/235 [00:05<00:00, 39.69it/s]\n",
      "\u001b[32m[TRAIN] Epoch:4| Time(data):0.000| Time(train):0.047| Loss:2.3330| Top-1:20.786| Top-5:62.718\u001b[0m: 100%|██████████| 703/703 [00:53<00:00, 13.19it/s]\n",
      "\u001b[31m[EVAL] Top-1:22.233| Top-5:65.853\u001b[0m: 100%|██████████| 235/235 [00:06<00:00, 38.10it/s]\n",
      "\u001b[32m[TRAIN] Epoch:5| Time(data):0.000| Time(train):0.047| Loss:2.2425| Top-1:23.691| Top-5:66.305\u001b[0m: 100%|██████████| 703/703 [00:57<00:00, 12.21it/s]\n",
      "\u001b[31m[EVAL] Top-1:29.513| Top-5:72.320\u001b[0m: 100%|██████████| 235/235 [00:05<00:00, 41.38it/s]\n",
      "\u001b[32m[TRAIN] Epoch:6| Time(data):0.000| Time(train):0.046| Loss:2.1503| Top-1:27.223| Top-5:69.710\u001b[0m: 100%|██████████| 703/703 [00:51<00:00, 13.70it/s]\n",
      "\u001b[31m[EVAL] Top-1:29.360| Top-5:72.147\u001b[0m: 100%|██████████| 235/235 [00:05<00:00, 40.95it/s]\n",
      "\u001b[32m[TRAIN] Epoch:7| Time(data):0.000| Time(train):0.046| Loss:2.0555| Top-1:30.872| Top-5:73.011\u001b[0m: 100%|██████████| 703/703 [00:51<00:00, 13.72it/s]\n",
      "\u001b[31m[EVAL] Top-1:35.527| Top-5:76.807\u001b[0m: 100%|██████████| 235/235 [00:05<00:00, 41.12it/s]\n",
      "\u001b[32m[TRAIN] Epoch:8| Time(data):0.000| Time(train):0.046| Loss:1.9601| Top-1:33.802| Top-5:75.802\u001b[0m: 100%|██████████| 703/703 [00:51<00:00, 13.75it/s]\n",
      "\u001b[31m[EVAL] Top-1:34.567| Top-5:77.520\u001b[0m: 100%|██████████| 235/235 [00:05<00:00, 41.13it/s]\n",
      "\u001b[32m[TRAIN] Epoch:9| Time(data):0.000| Time(train):0.048| Loss:1.8911| Top-1:36.526| Top-5:78.174\u001b[0m: 100%|██████████| 703/703 [00:52<00:00, 13.33it/s]\n",
      "\u001b[31m[EVAL] Top-1:41.367| Top-5:81.580\u001b[0m: 100%|██████████| 235/235 [00:05<00:00, 40.82it/s]\n",
      "\u001b[32m[TRAIN] Epoch:10| Time(data):0.000| Time(train):0.048| Loss:1.8117| Top-1:39.411| Top-5:80.305\u001b[0m: 100%|██████████| 703/703 [00:52<00:00, 13.40it/s]\n",
      "\u001b[31m[EVAL] Top-1:41.647| Top-5:80.713\u001b[0m: 100%|██████████| 235/235 [00:05<00:00, 41.01it/s]\n",
      "\u001b[32m[TRAIN] Epoch:11| Time(data):0.000| Time(train):0.046| Loss:1.7377| Top-1:42.141| Top-5:82.248\u001b[0m: 100%|██████████| 703/703 [00:51<00:00, 13.68it/s]\n",
      "\u001b[31m[EVAL] Top-1:48.300| Top-5:85.780\u001b[0m: 100%|██████████| 235/235 [00:05<00:00, 41.47it/s]\n",
      "\u001b[32m[TRAIN] Epoch:12| Time(data):0.000| Time(train):0.046| Loss:1.6593| Top-1:44.699| Top-5:84.128\u001b[0m: 100%|██████████| 703/703 [00:51<00:00, 13.70it/s]\n",
      "\u001b[31m[EVAL] Top-1:48.187| Top-5:86.353\u001b[0m: 100%|██████████| 235/235 [00:05<00:00, 41.30it/s]\n",
      "\u001b[32m[TRAIN] Epoch:13| Time(data):0.000| Time(train):0.046| Loss:1.5867| Top-1:47.428| Top-5:85.922\u001b[0m: 100%|██████████| 703/703 [00:51<00:00, 13.66it/s]\n",
      "\u001b[31m[EVAL] Top-1:46.887| Top-5:85.753\u001b[0m: 100%|██████████| 235/235 [00:05<00:00, 41.40it/s]\n",
      "\u001b[32m[TRAIN] Epoch:14| Time(data):0.000| Time(train):0.046| Loss:1.5176| Top-1:49.493| Top-5:86.807\u001b[0m: 100%|██████████| 703/703 [00:51<00:00, 13.71it/s]\n",
      "\u001b[31m[EVAL] Top-1:53.720| Top-5:89.307\u001b[0m: 100%|██████████| 235/235 [00:05<00:00, 41.04it/s]\n",
      "\u001b[32m[TRAIN] Epoch:15| Time(data):0.000| Time(train):0.046| Loss:1.4524| Top-1:52.252| Top-5:88.251\u001b[0m: 100%|██████████| 703/703 [00:51<00:00, 13.68it/s]\n",
      "\u001b[31m[EVAL] Top-1:58.260| Top-5:90.860\u001b[0m: 100%|██████████| 235/235 [00:05<00:00, 39.78it/s]\n",
      "\u001b[32m[TRAIN] Epoch:16| Time(data):0.000| Time(train):0.048| Loss:1.3946| Top-1:53.947| Top-5:89.109\u001b[0m: 100%|██████████| 703/703 [00:53<00:00, 13.26it/s]\n",
      "\u001b[31m[EVAL] Top-1:59.740| Top-5:91.393\u001b[0m: 100%|██████████| 235/235 [00:05<00:00, 39.96it/s]\n",
      "\u001b[32m[TRAIN] Epoch:17| Time(data):0.000| Time(train):0.047| Loss:1.3487| Top-1:55.703| Top-5:89.827\u001b[0m: 100%|██████████| 703/703 [00:52<00:00, 13.48it/s]\n",
      "\u001b[31m[EVAL] Top-1:61.727| Top-5:92.447\u001b[0m: 100%|██████████| 235/235 [00:05<00:00, 41.25it/s]\n",
      "\u001b[32m[TRAIN] Epoch:18| Time(data):0.000| Time(train):0.046| Loss:1.3139| Top-1:56.946| Top-5:90.427\u001b[0m: 100%|██████████| 703/703 [00:51<00:00, 13.71it/s]\n",
      "\u001b[31m[EVAL] Top-1:63.087| Top-5:92.513\u001b[0m: 100%|██████████| 235/235 [00:05<00:00, 40.98it/s]\n",
      "\u001b[32m[TRAIN] Epoch:19| Time(data):0.000| Time(train):0.047| Loss:1.2900| Top-1:57.837| Top-5:90.861\u001b[0m: 100%|██████████| 703/703 [00:51<00:00, 13.66it/s]\n",
      "\u001b[31m[EVAL] Top-1:63.493| Top-5:92.693\u001b[0m: 100%|██████████| 235/235 [00:05<00:00, 41.18it/s]\n",
      "\u001b[32m[TRAIN] Epoch:20| Time(data):0.000| Time(train):0.046| Loss:1.2729| Top-1:58.364| Top-5:91.276\u001b[0m: 100%|██████████| 703/703 [00:51<00:00, 13.67it/s]\n",
      "\u001b[31m[EVAL] Top-1:63.713| Top-5:92.587\u001b[0m: 100%|██████████| 235/235 [00:05<00:00, 41.79it/s]\n"
     ]
    },
    {
     "name": "stdout",
     "output_type": "stream",
     "text": [
      "\u001b[31m[EVAL] Best accuracy:63.71333312988281\u001b[0m\n"
     ]
    }
   ],
   "source": [
    "for student in list(models.keys())[1:5]:\n",
    "    clear_output(wait=True)\n",
    "    metadata[\"experiment_name\"]=f\"tests_one_model/Generation_1_NOSE_D_DropPath/{student}\"\n",
    "    trainer=TrainerDistillation(models[student], device, train_loader, valid_loader, metadata)\n",
    "    trainer.train()"
   ]
  },
  {
   "cell_type": "code",
   "execution_count": null,
   "id": "f15c4973-660b-45ad-a429-7597e3dabb4c",
   "metadata": {},
   "outputs": [],
   "source": []
  }
 ],
 "metadata": {
  "kernelspec": {
   "display_name": "Python [conda env:pytorch-2.2.0]",
   "language": "python",
   "name": "conda-env-pytorch-2.2.0-py"
  },
  "language_info": {
   "codemirror_mode": {
    "name": "ipython",
    "version": 3
   },
   "file_extension": ".py",
   "mimetype": "text/x-python",
   "name": "python",
   "nbconvert_exporter": "python",
   "pygments_lexer": "ipython3",
   "version": "3.12.1"
  }
 },
 "nbformat": 4,
 "nbformat_minor": 5
}
