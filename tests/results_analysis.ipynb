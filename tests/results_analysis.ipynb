{
 "cells": [
  {
   "cell_type": "code",
   "execution_count": 25,
   "id": "2007af33-0e37-48d5-bf45-6f554ae506be",
   "metadata": {
    "tags": []
   },
   "outputs": [
    {
     "name": "stdout",
     "output_type": "stream",
     "text": [
      "Note: you may need to restart the kernel to use updated packages.\n"
     ]
    }
   ],
   "source": [
    "%pip install -q --proxy http://proxy:80 statsmodels"
   ]
  },
  {
   "cell_type": "code",
   "execution_count": 145,
   "id": "6119a92f-436f-4901-b351-dc0f47a01780",
   "metadata": {
    "tags": []
   },
   "outputs": [],
   "source": [
    "import pandas as pd\n",
    "import numpy as np\n",
    "import plotly.graph_objects as go\n",
    "######## Search space #########\n",
    "import sys\n",
    "sys.path.append(\"../\")\n",
    "from search_space.RegNet import RegNet\n",
    "from search_space.utils import create_widths_plot, scatter_results\n",
    "# Initialize an empty list to store dictionaries\n",
    "def results_to_df(path, name):\n",
    "    data = []\n",
    "    # Open the text file\n",
    "    with open(path, 'r') as file:\n",
    "        lines = file.readlines()\n",
    "        # Initialize an empty dictionary to store data for each block\n",
    "        block_data = {}\n",
    "        for line in lines:\n",
    "            # If the line contains dashes, it indicates the end of a block\n",
    "            if '-------------------------' in line:\n",
    "                # If block_data is not empty, add it to the list of data dictionaries\n",
    "                if block_data:\n",
    "                    data.append(block_data)\n",
    "                    # Reset block_data for the next block\n",
    "                    block_data = {}\n",
    "            elif 'best_acc' in line:\n",
    "                continue\n",
    "            else:\n",
    "                # Split the line by ':'\n",
    "                #print(line)\n",
    "                key, value = line.strip().split(': ')\n",
    "                # Store the key-value pair in the block_data dictionary\n",
    "                block_data[key] = value\n",
    "\n",
    "    # Create a DataFrame from the list of dictionaries\n",
    "    df = pd.DataFrame(data)\n",
    "\n",
    "    # Convert columns to appropriate data types if needed\n",
    "    df['epoch'] = df['epoch'].astype(int)\n",
    "    df['lr'] = df['lr'].astype(float)\n",
    "    df['train_acc'] = df['train_acc'].astype(float)\n",
    "    df['train_loss'] = df['train_loss'].astype(float)\n",
    "    df['test_acc'] = df['test_acc'].astype(float)\n",
    "    df['test_acc_top5'] = df['test_acc_top5'].astype(float)\n",
    "    df['test_loss'] = df['test_loss'].astype(float)\n",
    "    df['epoch_time'] = df['epoch_time'].astype(float)\n",
    "    df=df.assign(name=name)\n",
    "    \n",
    "    return df\n",
    "def percentage_of_elements_in_list(list1, list2):\n",
    "    # Count the number of elements in list1 that are also in list2\n",
    "    common_elements_count = sum(1 for element in list1 if element in list2)\n",
    "    # Calculate the percentage\n",
    "    percentage = (common_elements_count / len(list1)) * 100\n",
    "    return percentage\n",
    "\n",
    "\n",
    "import os\n",
    "def get_vainilla_dfs(folder, epochs):\n",
    "    students=os.listdir(folder)\n",
    "    print(students)\n",
    "    sudents=[student for student in students if \"ipynb_checkpoints\" not in student]\n",
    "    students_df=[]\n",
    "    for student in students:\n",
    "        try:\n",
    "            students_df.append(results_to_df(f\"{folder}/{student}/worklog.txt\", student))\n",
    "        except:\n",
    "            pass\n",
    "    students_df=pd.concat(students_df, ignore_index=True)\n",
    "    students_df=students_df.sort_values(by=[\"epoch\",\"test_acc\"], ascending=[False,False])\n",
    "    students_df=students_df.assign(study=\"vainilla\")\n",
    "    \n",
    "    idx = students_df.groupby(\"name\")[\"test_acc\"].idxmax()\n",
    "    #idx = students_df.groupby(\"name\")[\"epoch\"].idxmax()\n",
    "    max_test_acc_rows = students_df.loc[idx]\n",
    "    sorted_df=max_test_acc_rows.sort_values(by=\"test_acc\")\n",
    "    sorted_df=sorted_df.rename(columns={\"test_acc\":\"best_acc\"})\n",
    "    order_students=list(sorted_df.name.values)\n",
    "\n",
    "    vainilla_students=[]\n",
    "    students_df[\"name\"] = pd.Categorical(students_df[\"name\"], categories=order_students, ordered=True)\n",
    "    for i in range(1,epochs+1):\n",
    "        vainilla_students.append(students_df[students_df.epoch==i].sort_values(by=\"name\")) \n",
    "    \n",
    "    corr_coeff_vainilla=[]\n",
    "    for epoch in vainilla_students:\n",
    "        correlation_coefficient =np.corrcoef(list(epoch['test_acc'].values),list(sorted_df['best_acc'].values))\n",
    "        corr_coeff_vainilla.append(correlation_coefficient[0,1])\n",
    "    return order_students, sorted_df, vainilla_students, corr_coeff_vainilla\n",
    "\n",
    "\n",
    "def get_students_dfs(folder, epochs, match_word,order_students,study, corr=False, corr_n=20):\n",
    "    students_list=os.listdir(folder)\n",
    "    students_kd=[student for student in students_list if match_word in student]\n",
    "    students_kd_df=[]\n",
    "\n",
    "    for student in students_kd:\n",
    "        students_kd_df.append(results_to_df(f\"{folder}/{student}/worklog.txt\", student))\n",
    "    students_kd_df=pd.concat(students_kd_df, ignore_index=True)\n",
    "    students_kd_df=students_kd_df.sort_values(by=[\"epoch\",\"test_acc\"], ascending=[False,False])\n",
    "    students_kd_df=students_kd_df.assign(study=study)\n",
    "    \n",
    "    students_kd_df['name']=students_kd_df['name'].str.split('_').str[1:3].str.join('_')\n",
    "\n",
    "    kd_students=[]\n",
    "    students_kd_df[\"name\"] = pd.Categorical(students_kd_df[\"name\"], categories=order_students, ordered=True)\n",
    "    for i in range(1,epochs+1):\n",
    "        kd_students.append(students_kd_df[students_kd_df.epoch==i].sort_values(by=\"name\")) \n",
    "\n",
    "    corr_coeff_kd=[]\n",
    "    if corr==True:\n",
    "        for epoch in kd_students:\n",
    "            correlation_coefficient =np.corrcoef(list(epoch['test_acc'].values[:corr_n]),list(sorted_df['best_acc'].values[:corr_n]))\n",
    "            corr_coeff_kd.append(correlation_coefficient[0,1])    \n",
    "    return kd_students, corr_coeff_kd"
   ]
  },
  {
   "cell_type": "code",
   "execution_count": 133,
   "id": "c16f4eb9-0720-4156-8d67-27afa77b982e",
   "metadata": {
    "tags": []
   },
   "outputs": [],
   "source": [
    "metadata={\"num_classes\": 4, \"input_shape\": [49260, 3, 64, 64], \"codename\": \"Caitie\", \"benchmark\":47.008}\n",
    "regnet_space=RegNet(metadata,\n",
    "                    W0=[8, 56, 8],\n",
    "                    WA=[8, 48, 8],\n",
    "                    WM=[2.0,2.9,0.05],\n",
    "                    D=[6,20,1], \n",
    "                    G=[8,8,8], \n",
    "                    base_config=\"../configs/search_space/config.yaml\")"
   ]
  },
  {
   "cell_type": "code",
   "execution_count": 155,
   "id": "ba42c06c-9498-4c94-a1b3-b1c598e4041f",
   "metadata": {
    "tags": []
   },
   "outputs": [
    {
     "name": "stdout",
     "output_type": "stream",
     "text": [
      "res_bottleneck_block\n",
      "{'bot_mul': 1.0, 'group_w': 8, 'se_r': 0.25, 'downsample': 'avg', 'drop_path_rate': 0.0}\n",
      "{'bot_mul': 1.0, 'group_w': 8, 'se_r': 0.25, 'downsample': 'avg', 'drop_path_rate': 0.0}\n",
      "{'bot_mul': 1.0, 'group_w': 8, 'se_r': 0.25, 'downsample': 'avg', 'drop_path_rate': 0.0}\n",
      "{'bot_mul': 1.0, 'group_w': 8, 'se_r': 0.25, 'downsample': 'avg', 'drop_path_rate': 0.0}\n",
      "{'bot_mul': 1.0, 'group_w': 8, 'se_r': 0.25, 'downsample': 'avg', 'drop_path_rate': 0.0}\n",
      "{'bot_mul': 1.0, 'group_w': 8, 'se_r': 0.25, 'downsample': 'avg', 'drop_path_rate': 0.0}\n",
      "{'stem_type': 'res_stem_cifar', 'stem_w': 32, 'block_type': 'res_bottleneck_block', 'depths': [1, 1, 3, 4, 9, 2], 'widths': [8, 72, 144, 288, 592, 1216], 'strides': [2, 2, 2, 2, 2, 2], 'bot_muls': [1.0, 1.0, 1.0, 1.0, 1.0, 1.0], 'group_ws': [8, 8, 8, 8, 8, 8], 'head_w': 0, 'se_r': 0.25, 'num_classes': 20, 'downsample': 'avg', 'drop_path_rate': 0.0}\n",
      "Loading model: tests_one_model/Generation_1_SE/olive_wasp/config.yaml\n",
      "res_bottleneck_block\n",
      "res_bottleneck_block\n",
      "{'bot_mul': 1.0, 'group_w': 8, 'se_r': 0.25, 'downsample': 'avg', 'drop_path_rate': 0.0}\n",
      "{'bot_mul': 1.0, 'group_w': 8, 'se_r': 0.25, 'downsample': 'avg', 'drop_path_rate': 0.0}\n",
      "{'bot_mul': 1.0, 'group_w': 8, 'se_r': 0.25, 'downsample': 'avg', 'drop_path_rate': 0.0}\n",
      "{'bot_mul': 1.0, 'group_w': 8, 'se_r': 0.25, 'downsample': 'avg', 'drop_path_rate': 0.0}\n",
      "{'stem_type': 'res_stem_cifar', 'stem_w': 32, 'block_type': 'res_bottleneck_block', 'depths': [1, 3, 5, 8], 'widths': [40, 80, 176, 368], 'strides': [2, 2, 2, 2], 'bot_muls': [1.0, 1.0, 1.0, 1.0], 'group_ws': [8, 8, 8, 8], 'head_w': 0, 'se_r': 0.25, 'num_classes': 20, 'downsample': 'avg', 'drop_path_rate': 0.0}\n",
      "Loading model: tests_one_model/Generation_1_SE/hospitable_pronghorn/config.yaml\n",
      "res_bottleneck_block\n",
      "res_bottleneck_block\n",
      "{'bot_mul': 1.0, 'group_w': 8, 'se_r': 0.25, 'downsample': 'avg', 'drop_path_rate': 0.0}\n",
      "{'bot_mul': 1.0, 'group_w': 8, 'se_r': 0.25, 'downsample': 'avg', 'drop_path_rate': 0.0}\n",
      "{'bot_mul': 1.0, 'group_w': 8, 'se_r': 0.25, 'downsample': 'avg', 'drop_path_rate': 0.0}\n",
      "{'bot_mul': 1.0, 'group_w': 8, 'se_r': 0.25, 'downsample': 'avg', 'drop_path_rate': 0.0}\n",
      "{'stem_type': 'res_stem_cifar', 'stem_w': 32, 'block_type': 'res_bottleneck_block', 'depths': [1, 3, 6, 4], 'widths': [56, 128, 280, 640], 'strides': [2, 2, 2, 2], 'bot_muls': [1.0, 1.0, 1.0, 1.0], 'group_ws': [8, 8, 8, 8], 'head_w': 0, 'se_r': 0.25, 'num_classes': 20, 'downsample': 'avg', 'drop_path_rate': 0.0}\n",
      "Loading model: tests_one_model/Generation_1_SE/spectral_hare/config.yaml\n",
      "res_bottleneck_block\n",
      "res_bottleneck_block\n",
      "{'bot_mul': 1.0, 'group_w': 8, 'se_r': 0.25, 'downsample': 'avg', 'drop_path_rate': 0.0}\n",
      "{'bot_mul': 1.0, 'group_w': 8, 'se_r': 0.25, 'downsample': 'avg', 'drop_path_rate': 0.0}\n",
      "{'bot_mul': 1.0, 'group_w': 8, 'se_r': 0.25, 'downsample': 'avg', 'drop_path_rate': 0.0}\n",
      "{'stem_type': 'res_stem_cifar', 'stem_w': 32, 'block_type': 'res_bottleneck_block', 'depths': [1, 3, 5], 'widths': [24, 64, 168], 'strides': [2, 2, 2], 'bot_muls': [1.0, 1.0, 1.0], 'group_ws': [8, 8, 8], 'head_w': 0, 'se_r': 0.25, 'num_classes': 20, 'downsample': 'avg', 'drop_path_rate': 0.0}\n",
      "Loading model: tests_one_model/Generation_1_SE/loyal_tiger/config.yaml\n",
      "res_bottleneck_block\n",
      "res_bottleneck_block\n",
      "{'bot_mul': 1.0, 'group_w': 8, 'se_r': 0.25, 'downsample': 'avg', 'drop_path_rate': 0.0}\n",
      "{'bot_mul': 1.0, 'group_w': 8, 'se_r': 0.25, 'downsample': 'avg', 'drop_path_rate': 0.0}\n",
      "{'bot_mul': 1.0, 'group_w': 8, 'se_r': 0.25, 'downsample': 'avg', 'drop_path_rate': 0.0}\n",
      "{'bot_mul': 1.0, 'group_w': 8, 'se_r': 0.25, 'downsample': 'avg', 'drop_path_rate': 0.0}\n",
      "{'stem_type': 'res_stem_cifar', 'stem_w': 32, 'block_type': 'res_bottleneck_block', 'depths': [1, 4, 8, 3], 'widths': [24, 56, 144, 352], 'strides': [2, 2, 2, 2], 'bot_muls': [1.0, 1.0, 1.0, 1.0], 'group_ws': [8, 8, 8, 8], 'head_w': 0, 'se_r': 0.25, 'num_classes': 20, 'downsample': 'avg', 'drop_path_rate': 0.0}\n",
      "Loading model: tests_one_model/Generation_1_SE/astute_badger/config.yaml\n",
      "res_bottleneck_block\n",
      "res_bottleneck_block\n",
      "{'bot_mul': 1.0, 'group_w': 8, 'se_r': 0.25, 'downsample': 'avg', 'drop_path_rate': 0.0}\n",
      "{'bot_mul': 1.0, 'group_w': 8, 'se_r': 0.25, 'downsample': 'avg', 'drop_path_rate': 0.0}\n",
      "{'bot_mul': 1.0, 'group_w': 8, 'se_r': 0.25, 'downsample': 'avg', 'drop_path_rate': 0.0}\n",
      "{'bot_mul': 1.0, 'group_w': 8, 'se_r': 0.25, 'downsample': 'avg', 'drop_path_rate': 0.0}\n",
      "{'stem_type': 'res_stem_cifar', 'stem_w': 32, 'block_type': 'res_bottleneck_block', 'depths': [1, 3, 9, 2], 'widths': [56, 152, 392, 1040], 'strides': [2, 2, 2, 2], 'bot_muls': [1.0, 1.0, 1.0, 1.0], 'group_ws': [8, 8, 8, 8], 'head_w': 0, 'se_r': 0.25, 'num_classes': 20, 'downsample': 'avg', 'drop_path_rate': 0.0}\n",
      "Loading model: tests_one_model/Generation_1_SE/quizzical_caiman/config.yaml\n",
      "res_bottleneck_block\n",
      "res_bottleneck_block\n",
      "{'bot_mul': 1.0, 'group_w': 8, 'se_r': 0.25, 'downsample': 'avg', 'drop_path_rate': 0.0}\n",
      "{'bot_mul': 1.0, 'group_w': 8, 'se_r': 0.25, 'downsample': 'avg', 'drop_path_rate': 0.0}\n",
      "{'bot_mul': 1.0, 'group_w': 8, 'se_r': 0.25, 'downsample': 'avg', 'drop_path_rate': 0.0}\n",
      "{'bot_mul': 1.0, 'group_w': 8, 'se_r': 0.25, 'downsample': 'avg', 'drop_path_rate': 0.0}\n",
      "{'bot_mul': 1.0, 'group_w': 8, 'se_r': 0.25, 'downsample': 'avg', 'drop_path_rate': 0.0}\n",
      "{'stem_type': 'res_stem_cifar', 'stem_w': 32, 'block_type': 'res_bottleneck_block', 'depths': [1, 1, 2, 5, 3], 'widths': [16, 40, 96, 232, 576], 'strides': [2, 2, 2, 2, 2], 'bot_muls': [1.0, 1.0, 1.0, 1.0, 1.0], 'group_ws': [8, 8, 8, 8, 8], 'head_w': 0, 'se_r': 0.25, 'num_classes': 20, 'downsample': 'avg', 'drop_path_rate': 0.0}\n",
      "Loading model: tests_one_model/Generation_1_SE/zircon_toad/config.yaml\n",
      "res_bottleneck_block\n",
      "res_bottleneck_block\n",
      "{'bot_mul': 1.0, 'group_w': 8, 'se_r': 0.25, 'downsample': 'avg', 'drop_path_rate': 0.0}\n",
      "{'bot_mul': 1.0, 'group_w': 8, 'se_r': 0.25, 'downsample': 'avg', 'drop_path_rate': 0.0}\n",
      "{'bot_mul': 1.0, 'group_w': 8, 'se_r': 0.25, 'downsample': 'avg', 'drop_path_rate': 0.0}\n",
      "{'stem_type': 'res_stem_cifar', 'stem_w': 32, 'block_type': 'res_bottleneck_block', 'depths': [1, 4, 8], 'widths': [40, 96, 248], 'strides': [2, 2, 2], 'bot_muls': [1.0, 1.0, 1.0], 'group_ws': [8, 8, 8], 'head_w': 0, 'se_r': 0.25, 'num_classes': 20, 'downsample': 'avg', 'drop_path_rate': 0.0}\n",
      "Loading model: tests_one_model/Generation_1_SE/hypersonic_sambar/config.yaml\n",
      "res_bottleneck_block\n",
      "res_bottleneck_block\n",
      "{'bot_mul': 1.0, 'group_w': 8, 'se_r': 0.25, 'downsample': 'avg', 'drop_path_rate': 0.0}\n",
      "{'bot_mul': 1.0, 'group_w': 8, 'se_r': 0.25, 'downsample': 'avg', 'drop_path_rate': 0.0}\n",
      "{'bot_mul': 1.0, 'group_w': 8, 'se_r': 0.25, 'downsample': 'avg', 'drop_path_rate': 0.0}\n",
      "{'bot_mul': 1.0, 'group_w': 8, 'se_r': 0.25, 'downsample': 'avg', 'drop_path_rate': 0.0}\n",
      "{'bot_mul': 1.0, 'group_w': 8, 'se_r': 0.25, 'downsample': 'avg', 'drop_path_rate': 0.0}\n",
      "{'stem_type': 'res_stem_cifar', 'stem_w': 32, 'block_type': 'res_bottleneck_block', 'depths': [1, 1, 3, 6, 2], 'widths': [16, 32, 64, 128, 256], 'strides': [2, 2, 2, 2, 2], 'bot_muls': [1.0, 1.0, 1.0, 1.0, 1.0], 'group_ws': [8, 8, 8, 8, 8], 'head_w': 0, 'se_r': 0.25, 'num_classes': 20, 'downsample': 'avg', 'drop_path_rate': 0.0}\n",
      "Loading model: tests_one_model/Generation_1_SE/honest_saluki/config.yaml\n",
      "res_bottleneck_block\n",
      "res_bottleneck_block\n",
      "{'bot_mul': 1.0, 'group_w': 8, 'se_r': 0.25, 'downsample': 'avg', 'drop_path_rate': 0.0}\n",
      "{'bot_mul': 1.0, 'group_w': 8, 'se_r': 0.25, 'downsample': 'avg', 'drop_path_rate': 0.0}\n",
      "{'bot_mul': 1.0, 'group_w': 8, 'se_r': 0.25, 'downsample': 'avg', 'drop_path_rate': 0.0}\n",
      "{'stem_type': 'res_stem_cifar', 'stem_w': 32, 'block_type': 'res_bottleneck_block', 'depths': [2, 5, 4], 'widths': [24, 48, 104], 'strides': [2, 2, 2], 'bot_muls': [1.0, 1.0, 1.0], 'group_ws': [8, 8, 8], 'head_w': 0, 'se_r': 0.25, 'num_classes': 20, 'downsample': 'avg', 'drop_path_rate': 0.0}\n",
      "Loading model: tests_one_model/Generation_1_SE/neat_puffin/config.yaml\n",
      "res_bottleneck_block\n"
     ]
    }
   ],
   "source": [
    "#WA,W0,WM,DEPTH=48,24,2.4,12\n",
    "test_folder=\"tests_one_model\"\n",
    "generation=1\n",
    "#config_updates=[\"REGNET.STEM_W\",32, \"MODEL.NUM_CLASSES\",20]\n",
    "config_updates=None\n",
    "models, chromosomes=regnet_space.load_generation(folder=f\"{test_folder}/Generation_{generation}_SE\", config_updates=config_updates)\n"
   ]
  },
  {
   "cell_type": "code",
   "execution_count": 9,
   "id": "ec00c237-c39f-418b-9457-38edb48a9dd9",
   "metadata": {
    "tags": []
   },
   "outputs": [
    {
     "data": {
      "text/plain": [
       "{'ws': [24, 48, 96, 192, 384, 768],\n",
       " 'bs': [1.0, 1.0, 1.0, 1.0, 1.0, 1.0],\n",
       " 'gs': [8, 8, 8, 8, 8, 8],\n",
       " 'ds': [1, 1, 1, 4, 6, 5],\n",
       " 'num_stages': 6,\n",
       " 'total_size_mb': 39.516258239746094,\n",
       " 'h': 1,\n",
       " 'w': 1,\n",
       " 'flops': 1812518,\n",
       " 'params': 10358950,\n",
       " 'acts': 8678,\n",
       " 'WA': 40.0,\n",
       " 'W0': 24,\n",
       " 'WM': 2.0,\n",
       " 'DEPTH': 18,\n",
       " 'GROUP_W': 8}"
      ]
     },
     "execution_count": 9,
     "metadata": {},
     "output_type": "execute_result"
    }
   ],
   "source": [
    "chromosomes[list(chromosomes.keys())[0]]"
   ]
  },
  {
   "cell_type": "code",
   "execution_count": 21,
   "id": "be03ea3a-a84f-4ff0-a35f-e15e2e2cabd1",
   "metadata": {
    "tags": []
   },
   "outputs": [
    {
     "data": {
      "application/vnd.plotly.v1+json": {
       "config": {
        "plotlyServerURL": "https://plot.ly"
       },
       "data": [
        {
         "marker": {
          "size": 10
         },
         "mode": "markers",
         "text": [
          "olive_wasp",
          "hospitable_pronghorn",
          "spectral_hare",
          "loyal_tiger",
          "astute_badger",
          "quizzical_caiman",
          "zircon_toad",
          "hypersonic_sambar",
          "honest_saluki",
          "neat_puffin"
         ],
         "type": "scatter",
         "x": [
          52.12,
          80.34,
          84.39,
          79.37,
          79.15,
          85.92,
          72.87,
          84.03,
          68.45,
          73.69
         ],
         "y": [
          8,
          40,
          56,
          24,
          24,
          56,
          16,
          40,
          16,
          24
         ]
        }
       ],
       "layout": {
        "autosize": true,
        "template": {
         "data": {
          "pie": [
           {
            "automargin": true,
            "type": "pie"
           }
          ],
          "scatter": [
           {
            "line": {
             "width": 3
            },
            "marker": {
             "size": 9
            },
            "type": "scatter"
           }
          ],
          "scatter3d": [
           {
            "line": {
             "width": 3
            },
            "marker": {
             "size": 9
            },
            "type": "scatter3d"
           }
          ],
          "scattergeo": [
           {
            "line": {
             "width": 3
            },
            "marker": {
             "size": 9
            },
            "type": "scattergeo"
           }
          ],
          "scattergl": [
           {
            "line": {
             "width": 3
            },
            "marker": {
             "size": 9
            },
            "type": "scattergl"
           }
          ],
          "scatterpolar": [
           {
            "line": {
             "width": 3
            },
            "marker": {
             "size": 9
            },
            "type": "scatterpolar"
           }
          ],
          "scatterpolargl": [
           {
            "line": {
             "width": 3
            },
            "marker": {
             "size": 9
            },
            "type": "scatterpolargl"
           }
          ],
          "scatterternary": [
           {
            "line": {
             "width": 3
            },
            "marker": {
             "size": 9
            },
            "type": "scatterternary"
           }
          ],
          "table": [
           {
            "cells": {
             "height": 30
            },
            "header": {
             "height": 36
            },
            "type": "table"
           }
          ]
         },
         "layout": {
          "font": {
           "size": 18
          },
          "xaxis": {
           "title": {
            "standoff": 15
           }
          },
          "yaxis": {
           "title": {
            "standoff": 15
           }
          }
         }
        },
        "title": {
         "text": ""
        },
        "xaxis": {
         "autorange": true,
         "range": [
          49.749315413691725,
          88.29068458630827
         ],
         "title": {
          "text": "best_acc"
         },
         "type": "linear"
        },
        "yaxis": {
         "autorange": true,
         "range": [
          3.103678929765886,
          60.896321070234116
         ],
         "title": {
          "text": "W0"
         },
         "type": "linear"
        }
       }
      },
      "image/png": "[encoded data removed]",
      "text/html": [
       "<div>                            <div id=\"3457f2a7-fcdf-4432-ae5e-0b96ab44b64a\" class=\"plotly-graph-div\" style=\"height:525px; width:100%;\"></div>            <script type=\"text/javascript\">                require([\"plotly\"], function(Plotly) {                    window.PLOTLYENV=window.PLOTLYENV || {};                                    if (document.getElementById(\"3457f2a7-fcdf-4432-ae5e-0b96ab44b64a\")) {                    Plotly.newPlot(                        \"3457f2a7-fcdf-4432-ae5e-0b96ab44b64a\",                        [{\"marker\":{\"size\":10},\"mode\":\"markers\",\"text\":[\"olive_wasp\",\"hospitable_pronghorn\",\"spectral_hare\",\"loyal_tiger\",\"astute_badger\",\"quizzical_caiman\",\"zircon_toad\",\"hypersonic_sambar\",\"honest_saluki\",\"neat_puffin\"],\"x\":[52.12,80.34,84.39,79.37,79.15,85.92,72.87,84.03,68.45,73.69],\"y\":[8,40,56,24,24,56,16,40,16,24],\"type\":\"scatter\"}],                        {\"template\":{\"data\":{\"pie\":[{\"automargin\":true,\"type\":\"pie\"}],\"scatter3d\":[{\"line\":{\"width\":3},\"marker\":{\"size\":9},\"type\":\"scatter3d\"}],\"scattergeo\":[{\"line\":{\"width\":3},\"marker\":{\"size\":9},\"type\":\"scattergeo\"}],\"scattergl\":[{\"line\":{\"width\":3},\"marker\":{\"size\":9},\"type\":\"scattergl\"}],\"scatterpolargl\":[{\"line\":{\"width\":3},\"marker\":{\"size\":9},\"type\":\"scatterpolargl\"}],\"scatterpolar\":[{\"line\":{\"width\":3},\"marker\":{\"size\":9},\"type\":\"scatterpolar\"}],\"scatter\":[{\"line\":{\"width\":3},\"marker\":{\"size\":9},\"type\":\"scatter\"}],\"scatterternary\":[{\"line\":{\"width\":3},\"marker\":{\"size\":9},\"type\":\"scatterternary\"}],\"table\":[{\"cells\":{\"height\":30},\"header\":{\"height\":36},\"type\":\"table\"}]},\"layout\":{\"font\":{\"size\":18},\"xaxis\":{\"title\":{\"standoff\":15}},\"yaxis\":{\"title\":{\"standoff\":15}}}},\"title\":{\"text\":\"\"},\"xaxis\":{\"title\":{\"text\":\"best_acc\"}},\"yaxis\":{\"title\":{\"text\":\"W0\"}}},                        {\"responsive\": true}                    ).then(function(){\n",
       "                            \n",
       "var gd = document.getElementById('3457f2a7-fcdf-4432-ae5e-0b96ab44b64a');\n",
       "var x = new MutationObserver(function (mutations, observer) {{\n",
       "        var display = window.getComputedStyle(gd).display;\n",
       "        if (!display || display === 'none') {{\n",
       "            console.log([gd, 'removed!']);\n",
       "            Plotly.purge(gd);\n",
       "            observer.disconnect();\n",
       "        }}\n",
       "}});\n",
       "\n",
       "// Listen for the removal of the full notebook cells\n",
       "var notebookContainer = gd.closest('#notebook-container');\n",
       "if (notebookContainer) {{\n",
       "    x.observe(notebookContainer, {childList: true});\n",
       "}}\n",
       "\n",
       "// Listen for the clearing of the current output cell\n",
       "var outputEl = gd.closest('.output');\n",
       "if (outputEl) {{\n",
       "    x.observe(outputEl, {childList: true});\n",
       "}}\n",
       "\n",
       "                        })                };                });            </script>        </div>"
      ]
     },
     "metadata": {},
     "output_type": "display_data"
    }
   ],
   "source": [
    "scatter_results(chromosomes,  \"W0\",\"best_acc\",\"tests_one_model/Generation_1_NOSE_D/results.csv\")"
   ]
  },
  {
   "cell_type": "markdown",
   "id": "8a554d4d-2cbc-48ee-85c3-6d5127a5ef06",
   "metadata": {},
   "source": [
    "# AddNIST results"
   ]
  },
  {
   "cell_type": "code",
   "execution_count": 17,
   "id": "c4c63c83-9b58-42e3-b9c7-e26c63bd49f4",
   "metadata": {
    "tags": []
   },
   "outputs": [],
   "source": [
    "#sorted_df[\"NOSE_D\"].to_csv(\"tests_one_model/Generation_1_NOSE_D/results.csv\")"
   ]
  },
  {
   "cell_type": "code",
   "execution_count": 15,
   "id": "89dc58f8-087b-44a9-8332-f702b59eeee4",
   "metadata": {
    "tags": []
   },
   "outputs": [
    {
     "name": "stdout",
     "output_type": "stream",
     "text": [
      "['olive_wasp', 'hospitable_pronghorn', 'spectral_hare', 'loyal_tiger', 'astute_badger', 'quizzical_caiman', 'zircon_toad', 'hypersonic_sambar', 'honest_saluki', 'neat_puffin']\n",
      "['olive_wasp', 'hospitable_pronghorn', 'spectral_hare', 'loyal_tiger', 'astute_badger', 'quizzical_caiman', 'zircon_toad', 'hypersonic_sambar', 'honest_saluki', 'neat_puffin']\n",
      "['olive_wasp', 'hospitable_pronghorn', 'spectral_hare', 'loyal_tiger', 'astute_badger', 'quizzical_caiman', 'zircon_toad', 'hypersonic_sambar', 'honest_saluki', 'neat_puffin']\n",
      "['olive_wasp', 'hospitable_pronghorn', 'spectral_hare', 'loyal_tiger', 'astute_badger', 'quizzical_caiman', 'zircon_toad', 'hypersonic_sambar', 'honest_saluki', 'neat_puffin']\n",
      "['olive_wasp', 'hospitable_pronghorn', 'spectral_hare', '.ipynb_checkpoints', 'loyal_tiger', 'astute_badger', 'quizzical_caiman', 'zircon_toad', 'hypersonic_sambar', 'honest_saluki', 'neat_puffin']\n"
     ]
    }
   ],
   "source": [
    "folders=[\"tests_one_model/Generation_1_SE\",\"tests_one_model/Generation_1_SE_D\",\"tests_one_model/Generation_1_NOSE_D\",\"tests_one_model/Generation_1_NOSE_NOD\",\"tests_one_model/Generation_1_NOSE_D_DropPath\"]\n",
    "sorted_df={}\n",
    "corr_coeff_vainilla={}\n",
    "vainilla_students={}\n",
    "for folder in folders:\n",
    "    name=f\"{folder.split(\"/\")[1][13:]}\"\n",
    "    order_students, sorted_df[name], vainilla_students[name], corr_coeff=get_vainilla_dfs(folder, 20)\n",
    "    sorted_df[name][\"study\"]=name\n",
    "    sorted_df[name]= sorted_df[name].reset_index().reset_index()\n",
    "    corr_coeff_vainilla[name]=pd.DataFrame(corr_coeff).reset_index()\n",
    "    corr_coeff_vainilla[name][\"study\"]=name"
   ]
  },
  {
   "cell_type": "code",
   "execution_count": 4,
   "id": "cbd559ab-d8d9-4ea5-b367-5faaa88e0f7f",
   "metadata": {
    "tags": []
   },
   "outputs": [
    {
     "data": {
      "text/plain": [
       "dict_keys(['SE', 'SE_D', 'NOSE_D', 'NOSE_NOD', 'NOSE_D_DropPath'])"
      ]
     },
     "execution_count": 4,
     "metadata": {},
     "output_type": "execute_result"
    }
   ],
   "source": [
    "sorted_df.keys()"
   ]
  },
  {
   "cell_type": "code",
   "execution_count": 30,
   "id": "bec33456-14ad-4873-93c0-e62e873b8260",
   "metadata": {
    "tags": []
   },
   "outputs": [
    {
     "data": {
      "text/html": [
       "<div>\n",
       "<style scoped>\n",
       "    .dataframe tbody tr th:only-of-type {\n",
       "        vertical-align: middle;\n",
       "    }\n",
       "\n",
       "    .dataframe tbody tr th {\n",
       "        vertical-align: top;\n",
       "    }\n",
       "\n",
       "    .dataframe thead th {\n",
       "        text-align: right;\n",
       "    }\n",
       "</style>\n",
       "<table border=\"1\" class=\"dataframe\">\n",
       "  <thead>\n",
       "    <tr style=\"text-align: right;\">\n",
       "      <th></th>\n",
       "      <th>level_0</th>\n",
       "      <th>index</th>\n",
       "      <th>epoch</th>\n",
       "      <th>lr</th>\n",
       "      <th>train_acc</th>\n",
       "      <th>train_loss</th>\n",
       "      <th>best_acc</th>\n",
       "      <th>test_acc_top5</th>\n",
       "      <th>test_loss</th>\n",
       "      <th>epoch_time</th>\n",
       "      <th>name</th>\n",
       "      <th>study</th>\n",
       "    </tr>\n",
       "  </thead>\n",
       "  <tbody>\n",
       "    <tr>\n",
       "      <th>0</th>\n",
       "      <td>0</td>\n",
       "      <td>19</td>\n",
       "      <td>20</td>\n",
       "      <td>0.000062</td>\n",
       "      <td>53.00</td>\n",
       "      <td>1.44</td>\n",
       "      <td>55.15</td>\n",
       "      <td>88.16</td>\n",
       "      <td>2.14</td>\n",
       "      <td>100.40</td>\n",
       "      <td>olive_wasp</td>\n",
       "      <td>SE_D</td>\n",
       "    </tr>\n",
       "    <tr>\n",
       "      <th>1</th>\n",
       "      <td>1</td>\n",
       "      <td>179</td>\n",
       "      <td>20</td>\n",
       "      <td>0.000062</td>\n",
       "      <td>65.67</td>\n",
       "      <td>1.07</td>\n",
       "      <td>67.59</td>\n",
       "      <td>93.57</td>\n",
       "      <td>1.03</td>\n",
       "      <td>59.84</td>\n",
       "      <td>honest_saluki</td>\n",
       "      <td>SE_D</td>\n",
       "    </tr>\n",
       "    <tr>\n",
       "      <th>2</th>\n",
       "      <td>2</td>\n",
       "      <td>37</td>\n",
       "      <td>18</td>\n",
       "      <td>0.000545</td>\n",
       "      <td>75.44</td>\n",
       "      <td>0.77</td>\n",
       "      <td>72.29</td>\n",
       "      <td>92.82</td>\n",
       "      <td>2.01</td>\n",
       "      <td>77.46</td>\n",
       "      <td>hospitable_pronghorn</td>\n",
       "      <td>SE_D</td>\n",
       "    </tr>\n",
       "    <tr>\n",
       "      <th>3</th>\n",
       "      <td>3</td>\n",
       "      <td>139</td>\n",
       "      <td>20</td>\n",
       "      <td>0.000062</td>\n",
       "      <td>70.56</td>\n",
       "      <td>0.91</td>\n",
       "      <td>73.15</td>\n",
       "      <td>95.58</td>\n",
       "      <td>0.86</td>\n",
       "      <td>61.89</td>\n",
       "      <td>zircon_toad</td>\n",
       "      <td>SE_D</td>\n",
       "    </tr>\n",
       "    <tr>\n",
       "      <th>4</th>\n",
       "      <td>4</td>\n",
       "      <td>199</td>\n",
       "      <td>20</td>\n",
       "      <td>0.000062</td>\n",
       "      <td>75.11</td>\n",
       "      <td>0.79</td>\n",
       "      <td>76.77</td>\n",
       "      <td>96.22</td>\n",
       "      <td>0.76</td>\n",
       "      <td>53.18</td>\n",
       "      <td>neat_puffin</td>\n",
       "      <td>SE_D</td>\n",
       "    </tr>\n",
       "    <tr>\n",
       "      <th>5</th>\n",
       "      <td>5</td>\n",
       "      <td>79</td>\n",
       "      <td>20</td>\n",
       "      <td>0.000062</td>\n",
       "      <td>78.45</td>\n",
       "      <td>0.69</td>\n",
       "      <td>78.40</td>\n",
       "      <td>96.75</td>\n",
       "      <td>0.71</td>\n",
       "      <td>49.08</td>\n",
       "      <td>loyal_tiger</td>\n",
       "      <td>SE_D</td>\n",
       "    </tr>\n",
       "    <tr>\n",
       "      <th>6</th>\n",
       "      <td>6</td>\n",
       "      <td>99</td>\n",
       "      <td>20</td>\n",
       "      <td>0.000062</td>\n",
       "      <td>80.46</td>\n",
       "      <td>0.62</td>\n",
       "      <td>79.89</td>\n",
       "      <td>97.02</td>\n",
       "      <td>0.65</td>\n",
       "      <td>66.75</td>\n",
       "      <td>astute_badger</td>\n",
       "      <td>SE_D</td>\n",
       "    </tr>\n",
       "    <tr>\n",
       "      <th>7</th>\n",
       "      <td>7</td>\n",
       "      <td>59</td>\n",
       "      <td>20</td>\n",
       "      <td>0.000062</td>\n",
       "      <td>85.02</td>\n",
       "      <td>0.48</td>\n",
       "      <td>81.80</td>\n",
       "      <td>95.77</td>\n",
       "      <td>2.04</td>\n",
       "      <td>74.22</td>\n",
       "      <td>spectral_hare</td>\n",
       "      <td>SE_D</td>\n",
       "    </tr>\n",
       "    <tr>\n",
       "      <th>8</th>\n",
       "      <td>8</td>\n",
       "      <td>158</td>\n",
       "      <td>19</td>\n",
       "      <td>0.000245</td>\n",
       "      <td>83.17</td>\n",
       "      <td>0.54</td>\n",
       "      <td>82.24</td>\n",
       "      <td>96.77</td>\n",
       "      <td>1.30</td>\n",
       "      <td>62.14</td>\n",
       "      <td>hypersonic_sambar</td>\n",
       "      <td>SE_D</td>\n",
       "    </tr>\n",
       "    <tr>\n",
       "      <th>9</th>\n",
       "      <td>9</td>\n",
       "      <td>118</td>\n",
       "      <td>19</td>\n",
       "      <td>0.000245</td>\n",
       "      <td>87.55</td>\n",
       "      <td>0.39</td>\n",
       "      <td>85.37</td>\n",
       "      <td>97.66</td>\n",
       "      <td>0.63</td>\n",
       "      <td>80.56</td>\n",
       "      <td>quizzical_caiman</td>\n",
       "      <td>SE_D</td>\n",
       "    </tr>\n",
       "  </tbody>\n",
       "</table>\n",
       "</div>"
      ],
      "text/plain": [
       "   level_0  index  epoch        lr  train_acc  train_loss  best_acc  \\\n",
       "0        0     19     20  0.000062      53.00        1.44     55.15   \n",
       "1        1    179     20  0.000062      65.67        1.07     67.59   \n",
       "2        2     37     18  0.000545      75.44        0.77     72.29   \n",
       "3        3    139     20  0.000062      70.56        0.91     73.15   \n",
       "4        4    199     20  0.000062      75.11        0.79     76.77   \n",
       "5        5     79     20  0.000062      78.45        0.69     78.40   \n",
       "6        6     99     20  0.000062      80.46        0.62     79.89   \n",
       "7        7     59     20  0.000062      85.02        0.48     81.80   \n",
       "8        8    158     19  0.000245      83.17        0.54     82.24   \n",
       "9        9    118     19  0.000245      87.55        0.39     85.37   \n",
       "\n",
       "   test_acc_top5  test_loss  epoch_time                  name study  \n",
       "0          88.16       2.14      100.40            olive_wasp  SE_D  \n",
       "1          93.57       1.03       59.84         honest_saluki  SE_D  \n",
       "2          92.82       2.01       77.46  hospitable_pronghorn  SE_D  \n",
       "3          95.58       0.86       61.89           zircon_toad  SE_D  \n",
       "4          96.22       0.76       53.18           neat_puffin  SE_D  \n",
       "5          96.75       0.71       49.08           loyal_tiger  SE_D  \n",
       "6          97.02       0.65       66.75         astute_badger  SE_D  \n",
       "7          95.77       2.04       74.22         spectral_hare  SE_D  \n",
       "8          96.77       1.30       62.14     hypersonic_sambar  SE_D  \n",
       "9          97.66       0.63       80.56      quizzical_caiman  SE_D  "
      ]
     },
     "execution_count": 30,
     "metadata": {},
     "output_type": "execute_result"
    }
   ],
   "source": [
    "sorted_df[\"SE_D\"]"
   ]
  },
  {
   "cell_type": "code",
   "execution_count": 5,
   "id": "282bc7fd-6ce3-4993-8cec-cf1f1c776edc",
   "metadata": {
    "tags": []
   },
   "outputs": [
    {
     "data": {
      "text/html": [
       "<div>\n",
       "<style scoped>\n",
       "    .dataframe tbody tr th:only-of-type {\n",
       "        vertical-align: middle;\n",
       "    }\n",
       "\n",
       "    .dataframe tbody tr th {\n",
       "        vertical-align: top;\n",
       "    }\n",
       "\n",
       "    .dataframe thead th {\n",
       "        text-align: right;\n",
       "    }\n",
       "</style>\n",
       "<table border=\"1\" class=\"dataframe\">\n",
       "  <thead>\n",
       "    <tr style=\"text-align: right;\">\n",
       "      <th></th>\n",
       "      <th>epoch</th>\n",
       "      <th>lr</th>\n",
       "      <th>train_acc</th>\n",
       "      <th>train_loss</th>\n",
       "      <th>test_acc</th>\n",
       "      <th>test_acc_top5</th>\n",
       "      <th>test_loss</th>\n",
       "      <th>epoch_time</th>\n",
       "      <th>name</th>\n",
       "      <th>study</th>\n",
       "    </tr>\n",
       "  </thead>\n",
       "  <tbody>\n",
       "    <tr>\n",
       "      <th>1</th>\n",
       "      <td>2</td>\n",
       "      <td>0.009938</td>\n",
       "      <td>11.80</td>\n",
       "      <td>2.81</td>\n",
       "      <td>14.09</td>\n",
       "      <td>50.73</td>\n",
       "      <td>3.00</td>\n",
       "      <td>84.26</td>\n",
       "      <td>olive_wasp</td>\n",
       "      <td>vainilla</td>\n",
       "    </tr>\n",
       "    <tr>\n",
       "      <th>161</th>\n",
       "      <td>2</td>\n",
       "      <td>0.009938</td>\n",
       "      <td>18.76</td>\n",
       "      <td>2.43</td>\n",
       "      <td>22.97</td>\n",
       "      <td>63.55</td>\n",
       "      <td>2.30</td>\n",
       "      <td>48.74</td>\n",
       "      <td>honest_saluki</td>\n",
       "      <td>vainilla</td>\n",
       "    </tr>\n",
       "    <tr>\n",
       "      <th>121</th>\n",
       "      <td>2</td>\n",
       "      <td>0.009938</td>\n",
       "      <td>17.47</td>\n",
       "      <td>2.49</td>\n",
       "      <td>21.18</td>\n",
       "      <td>63.81</td>\n",
       "      <td>2.35</td>\n",
       "      <td>51.51</td>\n",
       "      <td>zircon_toad</td>\n",
       "      <td>vainilla</td>\n",
       "    </tr>\n",
       "    <tr>\n",
       "      <th>181</th>\n",
       "      <td>2</td>\n",
       "      <td>0.009938</td>\n",
       "      <td>19.60</td>\n",
       "      <td>2.35</td>\n",
       "      <td>22.83</td>\n",
       "      <td>66.20</td>\n",
       "      <td>2.24</td>\n",
       "      <td>45.13</td>\n",
       "      <td>neat_puffin</td>\n",
       "      <td>vainilla</td>\n",
       "    </tr>\n",
       "    <tr>\n",
       "      <th>81</th>\n",
       "      <td>2</td>\n",
       "      <td>0.009938</td>\n",
       "      <td>19.25</td>\n",
       "      <td>2.38</td>\n",
       "      <td>23.13</td>\n",
       "      <td>65.87</td>\n",
       "      <td>2.26</td>\n",
       "      <td>55.00</td>\n",
       "      <td>astute_badger</td>\n",
       "      <td>vainilla</td>\n",
       "    </tr>\n",
       "    <tr>\n",
       "      <th>61</th>\n",
       "      <td>2</td>\n",
       "      <td>0.009938</td>\n",
       "      <td>20.63</td>\n",
       "      <td>2.34</td>\n",
       "      <td>21.98</td>\n",
       "      <td>60.63</td>\n",
       "      <td>2.40</td>\n",
       "      <td>40.77</td>\n",
       "      <td>loyal_tiger</td>\n",
       "      <td>vainilla</td>\n",
       "    </tr>\n",
       "    <tr>\n",
       "      <th>21</th>\n",
       "      <td>2</td>\n",
       "      <td>0.009938</td>\n",
       "      <td>19.56</td>\n",
       "      <td>2.39</td>\n",
       "      <td>21.53</td>\n",
       "      <td>63.01</td>\n",
       "      <td>2.34</td>\n",
       "      <td>62.23</td>\n",
       "      <td>hospitable_pronghorn</td>\n",
       "      <td>vainilla</td>\n",
       "    </tr>\n",
       "    <tr>\n",
       "      <th>141</th>\n",
       "      <td>2</td>\n",
       "      <td>0.009938</td>\n",
       "      <td>21.63</td>\n",
       "      <td>2.33</td>\n",
       "      <td>23.29</td>\n",
       "      <td>65.41</td>\n",
       "      <td>2.28</td>\n",
       "      <td>50.36</td>\n",
       "      <td>hypersonic_sambar</td>\n",
       "      <td>vainilla</td>\n",
       "    </tr>\n",
       "    <tr>\n",
       "      <th>41</th>\n",
       "      <td>2</td>\n",
       "      <td>0.009938</td>\n",
       "      <td>19.87</td>\n",
       "      <td>2.36</td>\n",
       "      <td>21.12</td>\n",
       "      <td>63.83</td>\n",
       "      <td>2.34</td>\n",
       "      <td>62.61</td>\n",
       "      <td>spectral_hare</td>\n",
       "      <td>vainilla</td>\n",
       "    </tr>\n",
       "    <tr>\n",
       "      <th>101</th>\n",
       "      <td>2</td>\n",
       "      <td>0.009938</td>\n",
       "      <td>21.43</td>\n",
       "      <td>2.31</td>\n",
       "      <td>21.78</td>\n",
       "      <td>62.45</td>\n",
       "      <td>2.50</td>\n",
       "      <td>71.78</td>\n",
       "      <td>quizzical_caiman</td>\n",
       "      <td>vainilla</td>\n",
       "    </tr>\n",
       "  </tbody>\n",
       "</table>\n",
       "</div>"
      ],
      "text/plain": [
       "     epoch        lr  train_acc  train_loss  test_acc  test_acc_top5  \\\n",
       "1        2  0.009938      11.80        2.81     14.09          50.73   \n",
       "161      2  0.009938      18.76        2.43     22.97          63.55   \n",
       "121      2  0.009938      17.47        2.49     21.18          63.81   \n",
       "181      2  0.009938      19.60        2.35     22.83          66.20   \n",
       "81       2  0.009938      19.25        2.38     23.13          65.87   \n",
       "61       2  0.009938      20.63        2.34     21.98          60.63   \n",
       "21       2  0.009938      19.56        2.39     21.53          63.01   \n",
       "141      2  0.009938      21.63        2.33     23.29          65.41   \n",
       "41       2  0.009938      19.87        2.36     21.12          63.83   \n",
       "101      2  0.009938      21.43        2.31     21.78          62.45   \n",
       "\n",
       "     test_loss  epoch_time                  name     study  \n",
       "1         3.00       84.26            olive_wasp  vainilla  \n",
       "161       2.30       48.74         honest_saluki  vainilla  \n",
       "121       2.35       51.51           zircon_toad  vainilla  \n",
       "181       2.24       45.13           neat_puffin  vainilla  \n",
       "81        2.26       55.00         astute_badger  vainilla  \n",
       "61        2.40       40.77           loyal_tiger  vainilla  \n",
       "21        2.34       62.23  hospitable_pronghorn  vainilla  \n",
       "141       2.28       50.36     hypersonic_sambar  vainilla  \n",
       "41        2.34       62.61         spectral_hare  vainilla  \n",
       "101       2.50       71.78      quizzical_caiman  vainilla  "
      ]
     },
     "execution_count": 5,
     "metadata": {},
     "output_type": "execute_result"
    }
   ],
   "source": [
    "vainilla_students[\"NOSE_D\"][1]"
   ]
  },
  {
   "cell_type": "code",
   "execution_count": 3,
   "id": "d12577cd-41ff-475d-95a0-0443725ba046",
   "metadata": {
    "tags": []
   },
   "outputs": [],
   "source": [
    "ep=0\n",
    "scatter_df=pd.concat([sorted_df[\"SE\"],sorted_df[\"SE_D\"],sorted_df[\"NOSE_D\"],sorted_df[\"NOSE_NOD\"],sorted_df[\"NOSE_D_DropPath\"]])\n",
    "#scatter_df=pd.merge(scatter_df, sorted_df[[\"name\",\"best_acc\"]], on=\"name\")"
   ]
  },
  {
   "cell_type": "code",
   "execution_count": 11,
   "id": "899c41bb-2bda-415c-9486-e27522f683df",
   "metadata": {
    "tags": []
   },
   "outputs": [
    {
     "data": {
      "application/vnd.plotly.v1+json": {
       "config": {
        "plotlyServerURL": "https://plot.ly"
       },
       "data": [
        {
         "hovertemplate": "study=SE<br>level_0=%{x}<br>best_acc=%{y}<extra></extra>",
         "legendgroup": "SE",
         "line": {
          "color": "#636efa",
          "dash": "solid"
         },
         "marker": {
          "symbol": "circle"
         },
         "mode": "lines+markers",
         "name": "SE",
         "orientation": "v",
         "showlegend": true,
         "type": "scatter",
         "x": [
          0,
          1,
          2,
          3,
          4,
          5,
          6,
          7,
          8,
          9
         ],
         "xaxis": "x",
         "y": [
          46.87,
          63.1,
          67.51,
          73.17,
          74.05,
          75.17,
          75.42,
          79.03,
          80.71,
          82.97
         ],
         "yaxis": "y"
        },
        {
         "hovertemplate": "study=SE_D<br>level_0=%{x}<br>best_acc=%{y}<extra></extra>",
         "legendgroup": "SE_D",
         "line": {
          "color": "#EF553B",
          "dash": "solid"
         },
         "marker": {
          "symbol": "circle"
         },
         "mode": "lines+markers",
         "name": "SE_D",
         "orientation": "v",
         "showlegend": true,
         "type": "scatter",
         "x": [
          0,
          1,
          2,
          3,
          4,
          5,
          6,
          7,
          8,
          9
         ],
         "xaxis": "x",
         "y": [
          55.15,
          67.59,
          72.29,
          73.15,
          76.77,
          78.4,
          79.89,
          81.8,
          82.24,
          85.37
         ],
         "yaxis": "y"
        },
        {
         "hovertemplate": "study=NOSE_D<br>level_0=%{x}<br>best_acc=%{y}<extra></extra>",
         "legendgroup": "NOSE_D",
         "line": {
          "color": "#00cc96",
          "dash": "solid"
         },
         "marker": {
          "symbol": "circle"
         },
         "mode": "lines+markers",
         "name": "NOSE_D",
         "orientation": "v",
         "showlegend": true,
         "type": "scatter",
         "x": [
          0,
          1,
          2,
          3,
          4,
          5,
          6,
          7,
          8,
          9
         ],
         "xaxis": "x",
         "y": [
          52.12,
          68.45,
          72.87,
          73.69,
          79.15,
          79.37,
          80.34,
          84.03,
          84.39,
          85.92
         ],
         "yaxis": "y"
        },
        {
         "hovertemplate": "study=NOSE_NOD<br>level_0=%{x}<br>best_acc=%{y}<extra></extra>",
         "legendgroup": "NOSE_NOD",
         "line": {
          "color": "#ab63fa",
          "dash": "solid"
         },
         "marker": {
          "symbol": "circle"
         },
         "mode": "lines+markers",
         "name": "NOSE_NOD",
         "orientation": "v",
         "showlegend": true,
         "type": "scatter",
         "x": [
          0,
          1,
          2,
          3,
          4,
          5,
          6,
          7,
          8,
          9
         ],
         "xaxis": "x",
         "y": [
          50.47,
          60.45,
          67.61,
          71.97,
          74.53,
          75.33,
          76.57,
          81.66,
          82.27,
          84.07
         ],
         "yaxis": "y"
        },
        {
         "hovertemplate": "study=NOSE_D_DropPath<br>level_0=%{x}<br>best_acc=%{y}<extra></extra>",
         "legendgroup": "NOSE_D_DropPath",
         "line": {
          "color": "#FFA15A",
          "dash": "solid"
         },
         "marker": {
          "symbol": "circle"
         },
         "mode": "lines+markers",
         "name": "NOSE_D_DropPath",
         "orientation": "v",
         "showlegend": true,
         "type": "scatter",
         "x": [
          0,
          1,
          2,
          3,
          4,
          5,
          6,
          7,
          8,
          9
         ],
         "xaxis": "x",
         "y": [
          38.66,
          52.99,
          57.61,
          57.9,
          63.71,
          64.07,
          68.83,
          74.72,
          74.85,
          79.72
         ],
         "yaxis": "y"
        }
       ],
       "layout": {
        "autosize": true,
        "legend": {
         "title": {
          "text": "study"
         },
         "tracegroupgap": 0
        },
        "margin": {
         "t": 60
        },
        "template": {
         "data": {
          "bar": [
           {
            "error_x": {
             "color": "#2a3f5f"
            },
            "error_y": {
             "color": "#2a3f5f"
            },
            "marker": {
             "line": {
              "color": "#E5ECF6",
              "width": 0.5
             },
             "pattern": {
              "fillmode": "overlay",
              "size": 10,
              "solidity": 0.2
             }
            },
            "type": "bar"
           }
          ],
          "barpolar": [
           {
            "marker": {
             "line": {
              "color": "#E5ECF6",
              "width": 0.5
             },
             "pattern": {
              "fillmode": "overlay",
              "size": 10,
              "solidity": 0.2
             }
            },
            "type": "barpolar"
           }
          ],
          "carpet": [
           {
            "aaxis": {
             "endlinecolor": "#2a3f5f",
             "gridcolor": "white",
             "linecolor": "white",
             "minorgridcolor": "white",
             "startlinecolor": "#2a3f5f"
            },
            "baxis": {
             "endlinecolor": "#2a3f5f",
             "gridcolor": "white",
             "linecolor": "white",
             "minorgridcolor": "white",
             "startlinecolor": "#2a3f5f"
            },
            "type": "carpet"
           }
          ],
          "choropleth": [
           {
            "colorbar": {
             "outlinewidth": 0,
             "ticks": ""
            },
            "type": "choropleth"
           }
          ],
          "contour": [
           {
            "colorbar": {
             "outlinewidth": 0,
             "ticks": ""
            },
            "colorscale": [
             [
              0,
              "#0d0887"
             ],
             [
              0.1111111111111111,
              "#46039f"
             ],
             [
              0.2222222222222222,
              "#7201a8"
             ],
             [
              0.3333333333333333,
              "#9c179e"
             ],
             [
              0.4444444444444444,
              "#bd3786"
             ],
             [
              0.5555555555555556,
              "#d8576b"
             ],
             [
              0.6666666666666666,
              "#ed7953"
             ],
             [
              0.7777777777777778,
              "#fb9f3a"
             ],
             [
              0.8888888888888888,
              "#fdca26"
             ],
             [
              1,
              "#f0f921"
             ]
            ],
            "type": "contour"
           }
          ],
          "contourcarpet": [
           {
            "colorbar": {
             "outlinewidth": 0,
             "ticks": ""
            },
            "type": "contourcarpet"
           }
          ],
          "heatmap": [
           {
            "colorbar": {
             "outlinewidth": 0,
             "ticks": ""
            },
            "colorscale": [
             [
              0,
              "#0d0887"
             ],
             [
              0.1111111111111111,
              "#46039f"
             ],
             [
              0.2222222222222222,
              "#7201a8"
             ],
             [
              0.3333333333333333,
              "#9c179e"
             ],
             [
              0.4444444444444444,
              "#bd3786"
             ],
             [
              0.5555555555555556,
              "#d8576b"
             ],
             [
              0.6666666666666666,
              "#ed7953"
             ],
             [
              0.7777777777777778,
              "#fb9f3a"
             ],
             [
              0.8888888888888888,
              "#fdca26"
             ],
             [
              1,
              "#f0f921"
             ]
            ],
            "type": "heatmap"
           }
          ],
          "heatmapgl": [
           {
            "colorbar": {
             "outlinewidth": 0,
             "ticks": ""
            },
            "colorscale": [
             [
              0,
              "#0d0887"
             ],
             [
              0.1111111111111111,
              "#46039f"
             ],
             [
              0.2222222222222222,
              "#7201a8"
             ],
             [
              0.3333333333333333,
              "#9c179e"
             ],
             [
              0.4444444444444444,
              "#bd3786"
             ],
             [
              0.5555555555555556,
              "#d8576b"
             ],
             [
              0.6666666666666666,
              "#ed7953"
             ],
             [
              0.7777777777777778,
              "#fb9f3a"
             ],
             [
              0.8888888888888888,
              "#fdca26"
             ],
             [
              1,
              "#f0f921"
             ]
            ],
            "type": "heatmapgl"
           }
          ],
          "histogram": [
           {
            "marker": {
             "pattern": {
              "fillmode": "overlay",
              "size": 10,
              "solidity": 0.2
             }
            },
            "type": "histogram"
           }
          ],
          "histogram2d": [
           {
            "colorbar": {
             "outlinewidth": 0,
             "ticks": ""
            },
            "colorscale": [
             [
              0,
              "#0d0887"
             ],
             [
              0.1111111111111111,
              "#46039f"
             ],
             [
              0.2222222222222222,
              "#7201a8"
             ],
             [
              0.3333333333333333,
              "#9c179e"
             ],
             [
              0.4444444444444444,
              "#bd3786"
             ],
             [
              0.5555555555555556,
              "#d8576b"
             ],
             [
              0.6666666666666666,
              "#ed7953"
             ],
             [
              0.7777777777777778,
              "#fb9f3a"
             ],
             [
              0.8888888888888888,
              "#fdca26"
             ],
             [
              1,
              "#f0f921"
             ]
            ],
            "type": "histogram2d"
           }
          ],
          "histogram2dcontour": [
           {
            "colorbar": {
             "outlinewidth": 0,
             "ticks": ""
            },
            "colorscale": [
             [
              0,
              "#0d0887"
             ],
             [
              0.1111111111111111,
              "#46039f"
             ],
             [
              0.2222222222222222,
              "#7201a8"
             ],
             [
              0.3333333333333333,
              "#9c179e"
             ],
             [
              0.4444444444444444,
              "#bd3786"
             ],
             [
              0.5555555555555556,
              "#d8576b"
             ],
             [
              0.6666666666666666,
              "#ed7953"
             ],
             [
              0.7777777777777778,
              "#fb9f3a"
             ],
             [
              0.8888888888888888,
              "#fdca26"
             ],
             [
              1,
              "#f0f921"
             ]
            ],
            "type": "histogram2dcontour"
           }
          ],
          "mesh3d": [
           {
            "colorbar": {
             "outlinewidth": 0,
             "ticks": ""
            },
            "type": "mesh3d"
           }
          ],
          "parcoords": [
           {
            "line": {
             "colorbar": {
              "outlinewidth": 0,
              "ticks": ""
             }
            },
            "type": "parcoords"
           }
          ],
          "pie": [
           {
            "automargin": true,
            "type": "pie"
           }
          ],
          "scatter": [
           {
            "fillpattern": {
             "fillmode": "overlay",
             "size": 10,
             "solidity": 0.2
            },
            "type": "scatter"
           }
          ],
          "scatter3d": [
           {
            "line": {
             "colorbar": {
              "outlinewidth": 0,
              "ticks": ""
             }
            },
            "marker": {
             "colorbar": {
              "outlinewidth": 0,
              "ticks": ""
             }
            },
            "type": "scatter3d"
           }
          ],
          "scattercarpet": [
           {
            "marker": {
             "colorbar": {
              "outlinewidth": 0,
              "ticks": ""
             }
            },
            "type": "scattercarpet"
           }
          ],
          "scattergeo": [
           {
            "marker": {
             "colorbar": {
              "outlinewidth": 0,
              "ticks": ""
             }
            },
            "type": "scattergeo"
           }
          ],
          "scattergl": [
           {
            "marker": {
             "colorbar": {
              "outlinewidth": 0,
              "ticks": ""
             }
            },
            "type": "scattergl"
           }
          ],
          "scattermapbox": [
           {
            "marker": {
             "colorbar": {
              "outlinewidth": 0,
              "ticks": ""
             }
            },
            "type": "scattermapbox"
           }
          ],
          "scatterpolar": [
           {
            "marker": {
             "colorbar": {
              "outlinewidth": 0,
              "ticks": ""
             }
            },
            "type": "scatterpolar"
           }
          ],
          "scatterpolargl": [
           {
            "marker": {
             "colorbar": {
              "outlinewidth": 0,
              "ticks": ""
             }
            },
            "type": "scatterpolargl"
           }
          ],
          "scatterternary": [
           {
            "marker": {
             "colorbar": {
              "outlinewidth": 0,
              "ticks": ""
             }
            },
            "type": "scatterternary"
           }
          ],
          "surface": [
           {
            "colorbar": {
             "outlinewidth": 0,
             "ticks": ""
            },
            "colorscale": [
             [
              0,
              "#0d0887"
             ],
             [
              0.1111111111111111,
              "#46039f"
             ],
             [
              0.2222222222222222,
              "#7201a8"
             ],
             [
              0.3333333333333333,
              "#9c179e"
             ],
             [
              0.4444444444444444,
              "#bd3786"
             ],
             [
              0.5555555555555556,
              "#d8576b"
             ],
             [
              0.6666666666666666,
              "#ed7953"
             ],
             [
              0.7777777777777778,
              "#fb9f3a"
             ],
             [
              0.8888888888888888,
              "#fdca26"
             ],
             [
              1,
              "#f0f921"
             ]
            ],
            "type": "surface"
           }
          ],
          "table": [
           {
            "cells": {
             "fill": {
              "color": "#EBF0F8"
             },
             "line": {
              "color": "white"
             }
            },
            "header": {
             "fill": {
              "color": "#C8D4E3"
             },
             "line": {
              "color": "white"
             }
            },
            "type": "table"
           }
          ]
         },
         "layout": {
          "annotationdefaults": {
           "arrowcolor": "#2a3f5f",
           "arrowhead": 0,
           "arrowwidth": 1
          },
          "autotypenumbers": "strict",
          "coloraxis": {
           "colorbar": {
            "outlinewidth": 0,
            "ticks": ""
           }
          },
          "colorscale": {
           "diverging": [
            [
             0,
             "#8e0152"
            ],
            [
             0.1,
             "#c51b7d"
            ],
            [
             0.2,
             "#de77ae"
            ],
            [
             0.3,
             "#f1b6da"
            ],
            [
             0.4,
             "#fde0ef"
            ],
            [
             0.5,
             "#f7f7f7"
            ],
            [
             0.6,
             "#e6f5d0"
            ],
            [
             0.7,
             "#b8e186"
            ],
            [
             0.8,
             "#7fbc41"
            ],
            [
             0.9,
             "#4d9221"
            ],
            [
             1,
             "#276419"
            ]
           ],
           "sequential": [
            [
             0,
             "#0d0887"
            ],
            [
             0.1111111111111111,
             "#46039f"
            ],
            [
             0.2222222222222222,
             "#7201a8"
            ],
            [
             0.3333333333333333,
             "#9c179e"
            ],
            [
             0.4444444444444444,
             "#bd3786"
            ],
            [
             0.5555555555555556,
             "#d8576b"
            ],
            [
             0.6666666666666666,
             "#ed7953"
            ],
            [
             0.7777777777777778,
             "#fb9f3a"
            ],
            [
             0.8888888888888888,
             "#fdca26"
            ],
            [
             1,
             "#f0f921"
            ]
           ],
           "sequentialminus": [
            [
             0,
             "#0d0887"
            ],
            [
             0.1111111111111111,
             "#46039f"
            ],
            [
             0.2222222222222222,
             "#7201a8"
            ],
            [
             0.3333333333333333,
             "#9c179e"
            ],
            [
             0.4444444444444444,
             "#bd3786"
            ],
            [
             0.5555555555555556,
             "#d8576b"
            ],
            [
             0.6666666666666666,
             "#ed7953"
            ],
            [
             0.7777777777777778,
             "#fb9f3a"
            ],
            [
             0.8888888888888888,
             "#fdca26"
            ],
            [
             1,
             "#f0f921"
            ]
           ]
          },
          "colorway": [
           "#636efa",
           "#EF553B",
           "#00cc96",
           "#ab63fa",
           "#FFA15A",
           "#19d3f3",
           "#FF6692",
           "#B6E880",
           "#FF97FF",
           "#FECB52"
          ],
          "font": {
           "color": "#2a3f5f"
          },
          "geo": {
           "bgcolor": "white",
           "lakecolor": "white",
           "landcolor": "#E5ECF6",
           "showlakes": true,
           "showland": true,
           "subunitcolor": "white"
          },
          "hoverlabel": {
           "align": "left"
          },
          "hovermode": "closest",
          "mapbox": {
           "style": "light"
          },
          "paper_bgcolor": "white",
          "plot_bgcolor": "#E5ECF6",
          "polar": {
           "angularaxis": {
            "gridcolor": "white",
            "linecolor": "white",
            "ticks": ""
           },
           "bgcolor": "#E5ECF6",
           "radialaxis": {
            "gridcolor": "white",
            "linecolor": "white",
            "ticks": ""
           }
          },
          "scene": {
           "xaxis": {
            "backgroundcolor": "#E5ECF6",
            "gridcolor": "white",
            "gridwidth": 2,
            "linecolor": "white",
            "showbackground": true,
            "ticks": "",
            "zerolinecolor": "white"
           },
           "yaxis": {
            "backgroundcolor": "#E5ECF6",
            "gridcolor": "white",
            "gridwidth": 2,
            "linecolor": "white",
            "showbackground": true,
            "ticks": "",
            "zerolinecolor": "white"
           },
           "zaxis": {
            "backgroundcolor": "#E5ECF6",
            "gridcolor": "white",
            "gridwidth": 2,
            "linecolor": "white",
            "showbackground": true,
            "ticks": "",
            "zerolinecolor": "white"
           }
          },
          "shapedefaults": {
           "line": {
            "color": "#2a3f5f"
           }
          },
          "ternary": {
           "aaxis": {
            "gridcolor": "white",
            "linecolor": "white",
            "ticks": ""
           },
           "baxis": {
            "gridcolor": "white",
            "linecolor": "white",
            "ticks": ""
           },
           "bgcolor": "#E5ECF6",
           "caxis": {
            "gridcolor": "white",
            "linecolor": "white",
            "ticks": ""
           }
          },
          "title": {
           "x": 0.05
          },
          "xaxis": {
           "automargin": true,
           "gridcolor": "white",
           "linecolor": "white",
           "ticks": "",
           "title": {
            "standoff": 15
           },
           "zerolinecolor": "white",
           "zerolinewidth": 2
          },
          "yaxis": {
           "automargin": true,
           "gridcolor": "white",
           "linecolor": "white",
           "ticks": "",
           "title": {
            "standoff": 15
           },
           "zerolinecolor": "white",
           "zerolinewidth": 2
          }
         }
        },
        "title": {
         "text": "Accuracies of each model in population with different setups for AddNIST dataset"
        },
        "xaxis": {
         "anchor": "y",
         "autorange": true,
         "domain": [
          0,
          1
         ],
         "range": [
          -0.5960799385088394,
          9.59607993850884
         ],
         "title": {
          "text": "model"
         },
         "type": "linear"
        },
        "yaxis": {
         "anchor": "x",
         "autorange": true,
         "domain": [
          0,
          1
         ],
         "range": [
          35.00076115485564,
          89.57923884514436
         ],
         "title": {
          "text": "best_acc"
         },
         "type": "linear"
        }
       }
      },
      "image/png": "[encoded data removed]",
      "text/html": [
       "<div>                            <div id=\"992b8085-b914-453e-b405-ff266e6bd1a5\" class=\"plotly-graph-div\" style=\"height:700px; width:100%;\"></div>            <script type=\"text/javascript\">                require([\"plotly\"], function(Plotly) {                    window.PLOTLYENV=window.PLOTLYENV || {};                                    if (document.getElementById(\"992b8085-b914-453e-b405-ff266e6bd1a5\")) {                    Plotly.newPlot(                        \"992b8085-b914-453e-b405-ff266e6bd1a5\",                        [{\"hovertemplate\":\"study=SE\\u003cbr\\u003elevel_0=%{x}\\u003cbr\\u003ebest_acc=%{y}\\u003cextra\\u003e\\u003c\\u002fextra\\u003e\",\"legendgroup\":\"SE\",\"line\":{\"color\":\"#636efa\",\"dash\":\"solid\"},\"marker\":{\"symbol\":\"circle\"},\"mode\":\"lines+markers\",\"name\":\"SE\",\"orientation\":\"v\",\"showlegend\":true,\"x\":[0,1,2,3,4,5,6,7,8,9],\"xaxis\":\"x\",\"y\":[46.87,63.1,67.51,73.17,74.05,75.17,75.42,79.03,80.71,82.97],\"yaxis\":\"y\",\"type\":\"scatter\"},{\"hovertemplate\":\"study=SE_D\\u003cbr\\u003elevel_0=%{x}\\u003cbr\\u003ebest_acc=%{y}\\u003cextra\\u003e\\u003c\\u002fextra\\u003e\",\"legendgroup\":\"SE_D\",\"line\":{\"color\":\"#EF553B\",\"dash\":\"solid\"},\"marker\":{\"symbol\":\"circle\"},\"mode\":\"lines+markers\",\"name\":\"SE_D\",\"orientation\":\"v\",\"showlegend\":true,\"x\":[0,1,2,3,4,5,6,7,8,9],\"xaxis\":\"x\",\"y\":[55.15,67.59,72.29,73.15,76.77,78.4,79.89,81.8,82.24,85.37],\"yaxis\":\"y\",\"type\":\"scatter\"},{\"hovertemplate\":\"study=NOSE_D\\u003cbr\\u003elevel_0=%{x}\\u003cbr\\u003ebest_acc=%{y}\\u003cextra\\u003e\\u003c\\u002fextra\\u003e\",\"legendgroup\":\"NOSE_D\",\"line\":{\"color\":\"#00cc96\",\"dash\":\"solid\"},\"marker\":{\"symbol\":\"circle\"},\"mode\":\"lines+markers\",\"name\":\"NOSE_D\",\"orientation\":\"v\",\"showlegend\":true,\"x\":[0,1,2,3,4,5,6,7,8,9],\"xaxis\":\"x\",\"y\":[52.12,68.45,72.87,73.69,79.15,79.37,80.34,84.03,84.39,85.92],\"yaxis\":\"y\",\"type\":\"scatter\"},{\"hovertemplate\":\"study=NOSE_NOD\\u003cbr\\u003elevel_0=%{x}\\u003cbr\\u003ebest_acc=%{y}\\u003cextra\\u003e\\u003c\\u002fextra\\u003e\",\"legendgroup\":\"NOSE_NOD\",\"line\":{\"color\":\"#ab63fa\",\"dash\":\"solid\"},\"marker\":{\"symbol\":\"circle\"},\"mode\":\"lines+markers\",\"name\":\"NOSE_NOD\",\"orientation\":\"v\",\"showlegend\":true,\"x\":[0,1,2,3,4,5,6,7,8,9],\"xaxis\":\"x\",\"y\":[50.47,60.45,67.61,71.97,74.53,75.33,76.57,81.66,82.27,84.07],\"yaxis\":\"y\",\"type\":\"scatter\"},{\"hovertemplate\":\"study=NOSE_D_DropPath\\u003cbr\\u003elevel_0=%{x}\\u003cbr\\u003ebest_acc=%{y}\\u003cextra\\u003e\\u003c\\u002fextra\\u003e\",\"legendgroup\":\"NOSE_D_DropPath\",\"line\":{\"color\":\"#FFA15A\",\"dash\":\"solid\"},\"marker\":{\"symbol\":\"circle\"},\"mode\":\"lines+markers\",\"name\":\"NOSE_D_DropPath\",\"orientation\":\"v\",\"showlegend\":true,\"x\":[0,1,2,3,4,5,6,7,8,9],\"xaxis\":\"x\",\"y\":[38.66,52.99,57.61,57.9,63.71,64.07,68.83,74.72,74.85,79.72],\"yaxis\":\"y\",\"type\":\"scatter\"}],                        {\"template\":{\"data\":{\"histogram2dcontour\":[{\"type\":\"histogram2dcontour\",\"colorbar\":{\"outlinewidth\":0,\"ticks\":\"\"},\"colorscale\":[[0.0,\"#0d0887\"],[0.1111111111111111,\"#46039f\"],[0.2222222222222222,\"#7201a8\"],[0.3333333333333333,\"#9c179e\"],[0.4444444444444444,\"#bd3786\"],[0.5555555555555556,\"#d8576b\"],[0.6666666666666666,\"#ed7953\"],[0.7777777777777778,\"#fb9f3a\"],[0.8888888888888888,\"#fdca26\"],[1.0,\"#f0f921\"]]}],\"choropleth\":[{\"type\":\"choropleth\",\"colorbar\":{\"outlinewidth\":0,\"ticks\":\"\"}}],\"histogram2d\":[{\"type\":\"histogram2d\",\"colorbar\":{\"outlinewidth\":0,\"ticks\":\"\"},\"colorscale\":[[0.0,\"#0d0887\"],[0.1111111111111111,\"#46039f\"],[0.2222222222222222,\"#7201a8\"],[0.3333333333333333,\"#9c179e\"],[0.4444444444444444,\"#bd3786\"],[0.5555555555555556,\"#d8576b\"],[0.6666666666666666,\"#ed7953\"],[0.7777777777777778,\"#fb9f3a\"],[0.8888888888888888,\"#fdca26\"],[1.0,\"#f0f921\"]]}],\"heatmap\":[{\"type\":\"heatmap\",\"colorbar\":{\"outlinewidth\":0,\"ticks\":\"\"},\"colorscale\":[[0.0,\"#0d0887\"],[0.1111111111111111,\"#46039f\"],[0.2222222222222222,\"#7201a8\"],[0.3333333333333333,\"#9c179e\"],[0.4444444444444444,\"#bd3786\"],[0.5555555555555556,\"#d8576b\"],[0.6666666666666666,\"#ed7953\"],[0.7777777777777778,\"#fb9f3a\"],[0.8888888888888888,\"#fdca26\"],[1.0,\"#f0f921\"]]}],\"heatmapgl\":[{\"type\":\"heatmapgl\",\"colorbar\":{\"outlinewidth\":0,\"ticks\":\"\"},\"colorscale\":[[0.0,\"#0d0887\"],[0.1111111111111111,\"#46039f\"],[0.2222222222222222,\"#7201a8\"],[0.3333333333333333,\"#9c179e\"],[0.4444444444444444,\"#bd3786\"],[0.5555555555555556,\"#d8576b\"],[0.6666666666666666,\"#ed7953\"],[0.7777777777777778,\"#fb9f3a\"],[0.8888888888888888,\"#fdca26\"],[1.0,\"#f0f921\"]]}],\"contourcarpet\":[{\"type\":\"contourcarpet\",\"colorbar\":{\"outlinewidth\":0,\"ticks\":\"\"}}],\"contour\":[{\"type\":\"contour\",\"colorbar\":{\"outlinewidth\":0,\"ticks\":\"\"},\"colorscale\":[[0.0,\"#0d0887\"],[0.1111111111111111,\"#46039f\"],[0.2222222222222222,\"#7201a8\"],[0.3333333333333333,\"#9c179e\"],[0.4444444444444444,\"#bd3786\"],[0.5555555555555556,\"#d8576b\"],[0.6666666666666666,\"#ed7953\"],[0.7777777777777778,\"#fb9f3a\"],[0.8888888888888888,\"#fdca26\"],[1.0,\"#f0f921\"]]}],\"surface\":[{\"type\":\"surface\",\"colorbar\":{\"outlinewidth\":0,\"ticks\":\"\"},\"colorscale\":[[0.0,\"#0d0887\"],[0.1111111111111111,\"#46039f\"],[0.2222222222222222,\"#7201a8\"],[0.3333333333333333,\"#9c179e\"],[0.4444444444444444,\"#bd3786\"],[0.5555555555555556,\"#d8576b\"],[0.6666666666666666,\"#ed7953\"],[0.7777777777777778,\"#fb9f3a\"],[0.8888888888888888,\"#fdca26\"],[1.0,\"#f0f921\"]]}],\"mesh3d\":[{\"type\":\"mesh3d\",\"colorbar\":{\"outlinewidth\":0,\"ticks\":\"\"}}],\"scatter\":[{\"fillpattern\":{\"fillmode\":\"overlay\",\"size\":10,\"solidity\":0.2},\"type\":\"scatter\"}],\"parcoords\":[{\"type\":\"parcoords\",\"line\":{\"colorbar\":{\"outlinewidth\":0,\"ticks\":\"\"}}}],\"scatterpolargl\":[{\"type\":\"scatterpolargl\",\"marker\":{\"colorbar\":{\"outlinewidth\":0,\"ticks\":\"\"}}}],\"bar\":[{\"error_x\":{\"color\":\"#2a3f5f\"},\"error_y\":{\"color\":\"#2a3f5f\"},\"marker\":{\"line\":{\"color\":\"#E5ECF6\",\"width\":0.5},\"pattern\":{\"fillmode\":\"overlay\",\"size\":10,\"solidity\":0.2}},\"type\":\"bar\"}],\"scattergeo\":[{\"type\":\"scattergeo\",\"marker\":{\"colorbar\":{\"outlinewidth\":0,\"ticks\":\"\"}}}],\"scatterpolar\":[{\"type\":\"scatterpolar\",\"marker\":{\"colorbar\":{\"outlinewidth\":0,\"ticks\":\"\"}}}],\"histogram\":[{\"marker\":{\"pattern\":{\"fillmode\":\"overlay\",\"size\":10,\"solidity\":0.2}},\"type\":\"histogram\"}],\"scattergl\":[{\"type\":\"scattergl\",\"marker\":{\"colorbar\":{\"outlinewidth\":0,\"ticks\":\"\"}}}],\"scatter3d\":[{\"type\":\"scatter3d\",\"line\":{\"colorbar\":{\"outlinewidth\":0,\"ticks\":\"\"}},\"marker\":{\"colorbar\":{\"outlinewidth\":0,\"ticks\":\"\"}}}],\"scattermapbox\":[{\"type\":\"scattermapbox\",\"marker\":{\"colorbar\":{\"outlinewidth\":0,\"ticks\":\"\"}}}],\"scatterternary\":[{\"type\":\"scatterternary\",\"marker\":{\"colorbar\":{\"outlinewidth\":0,\"ticks\":\"\"}}}],\"scattercarpet\":[{\"type\":\"scattercarpet\",\"marker\":{\"colorbar\":{\"outlinewidth\":0,\"ticks\":\"\"}}}],\"carpet\":[{\"aaxis\":{\"endlinecolor\":\"#2a3f5f\",\"gridcolor\":\"white\",\"linecolor\":\"white\",\"minorgridcolor\":\"white\",\"startlinecolor\":\"#2a3f5f\"},\"baxis\":{\"endlinecolor\":\"#2a3f5f\",\"gridcolor\":\"white\",\"linecolor\":\"white\",\"minorgridcolor\":\"white\",\"startlinecolor\":\"#2a3f5f\"},\"type\":\"carpet\"}],\"table\":[{\"cells\":{\"fill\":{\"color\":\"#EBF0F8\"},\"line\":{\"color\":\"white\"}},\"header\":{\"fill\":{\"color\":\"#C8D4E3\"},\"line\":{\"color\":\"white\"}},\"type\":\"table\"}],\"barpolar\":[{\"marker\":{\"line\":{\"color\":\"#E5ECF6\",\"width\":0.5},\"pattern\":{\"fillmode\":\"overlay\",\"size\":10,\"solidity\":0.2}},\"type\":\"barpolar\"}],\"pie\":[{\"automargin\":true,\"type\":\"pie\"}]},\"layout\":{\"autotypenumbers\":\"strict\",\"colorway\":[\"#636efa\",\"#EF553B\",\"#00cc96\",\"#ab63fa\",\"#FFA15A\",\"#19d3f3\",\"#FF6692\",\"#B6E880\",\"#FF97FF\",\"#FECB52\"],\"font\":{\"color\":\"#2a3f5f\"},\"hovermode\":\"closest\",\"hoverlabel\":{\"align\":\"left\"},\"paper_bgcolor\":\"white\",\"plot_bgcolor\":\"#E5ECF6\",\"polar\":{\"bgcolor\":\"#E5ECF6\",\"angularaxis\":{\"gridcolor\":\"white\",\"linecolor\":\"white\",\"ticks\":\"\"},\"radialaxis\":{\"gridcolor\":\"white\",\"linecolor\":\"white\",\"ticks\":\"\"}},\"ternary\":{\"bgcolor\":\"#E5ECF6\",\"aaxis\":{\"gridcolor\":\"white\",\"linecolor\":\"white\",\"ticks\":\"\"},\"baxis\":{\"gridcolor\":\"white\",\"linecolor\":\"white\",\"ticks\":\"\"},\"caxis\":{\"gridcolor\":\"white\",\"linecolor\":\"white\",\"ticks\":\"\"}},\"coloraxis\":{\"colorbar\":{\"outlinewidth\":0,\"ticks\":\"\"}},\"colorscale\":{\"sequential\":[[0.0,\"#0d0887\"],[0.1111111111111111,\"#46039f\"],[0.2222222222222222,\"#7201a8\"],[0.3333333333333333,\"#9c179e\"],[0.4444444444444444,\"#bd3786\"],[0.5555555555555556,\"#d8576b\"],[0.6666666666666666,\"#ed7953\"],[0.7777777777777778,\"#fb9f3a\"],[0.8888888888888888,\"#fdca26\"],[1.0,\"#f0f921\"]],\"sequentialminus\":[[0.0,\"#0d0887\"],[0.1111111111111111,\"#46039f\"],[0.2222222222222222,\"#7201a8\"],[0.3333333333333333,\"#9c179e\"],[0.4444444444444444,\"#bd3786\"],[0.5555555555555556,\"#d8576b\"],[0.6666666666666666,\"#ed7953\"],[0.7777777777777778,\"#fb9f3a\"],[0.8888888888888888,\"#fdca26\"],[1.0,\"#f0f921\"]],\"diverging\":[[0,\"#8e0152\"],[0.1,\"#c51b7d\"],[0.2,\"#de77ae\"],[0.3,\"#f1b6da\"],[0.4,\"#fde0ef\"],[0.5,\"#f7f7f7\"],[0.6,\"#e6f5d0\"],[0.7,\"#b8e186\"],[0.8,\"#7fbc41\"],[0.9,\"#4d9221\"],[1,\"#276419\"]]},\"xaxis\":{\"gridcolor\":\"white\",\"linecolor\":\"white\",\"ticks\":\"\",\"title\":{\"standoff\":15},\"zerolinecolor\":\"white\",\"automargin\":true,\"zerolinewidth\":2},\"yaxis\":{\"gridcolor\":\"white\",\"linecolor\":\"white\",\"ticks\":\"\",\"title\":{\"standoff\":15},\"zerolinecolor\":\"white\",\"automargin\":true,\"zerolinewidth\":2},\"scene\":{\"xaxis\":{\"backgroundcolor\":\"#E5ECF6\",\"gridcolor\":\"white\",\"linecolor\":\"white\",\"showbackground\":true,\"ticks\":\"\",\"zerolinecolor\":\"white\",\"gridwidth\":2},\"yaxis\":{\"backgroundcolor\":\"#E5ECF6\",\"gridcolor\":\"white\",\"linecolor\":\"white\",\"showbackground\":true,\"ticks\":\"\",\"zerolinecolor\":\"white\",\"gridwidth\":2},\"zaxis\":{\"backgroundcolor\":\"#E5ECF6\",\"gridcolor\":\"white\",\"linecolor\":\"white\",\"showbackground\":true,\"ticks\":\"\",\"zerolinecolor\":\"white\",\"gridwidth\":2}},\"shapedefaults\":{\"line\":{\"color\":\"#2a3f5f\"}},\"annotationdefaults\":{\"arrowcolor\":\"#2a3f5f\",\"arrowhead\":0,\"arrowwidth\":1},\"geo\":{\"bgcolor\":\"white\",\"landcolor\":\"#E5ECF6\",\"subunitcolor\":\"white\",\"showland\":true,\"showlakes\":true,\"lakecolor\":\"white\"},\"title\":{\"x\":0.05},\"mapbox\":{\"style\":\"light\"}}},\"xaxis\":{\"anchor\":\"y\",\"domain\":[0.0,1.0],\"title\":{\"text\":\"model\"}},\"yaxis\":{\"anchor\":\"x\",\"domain\":[0.0,1.0],\"title\":{\"text\":\"best_acc\"}},\"legend\":{\"title\":{\"text\":\"study\"},\"tracegroupgap\":0},\"margin\":{\"t\":60},\"height\":700,\"title\":{\"text\":\"Accuracies of each model in population with different setups for AddNIST dataset\"}},                        {\"responsive\": true}                    ).then(function(){\n",
       "                            \n",
       "var gd = document.getElementById('992b8085-b914-453e-b405-ff266e6bd1a5');\n",
       "var x = new MutationObserver(function (mutations, observer) {{\n",
       "        var display = window.getComputedStyle(gd).display;\n",
       "        if (!display || display === 'none') {{\n",
       "            console.log([gd, 'removed!']);\n",
       "            Plotly.purge(gd);\n",
       "            observer.disconnect();\n",
       "        }}\n",
       "}});\n",
       "\n",
       "// Listen for the removal of the full notebook cells\n",
       "var notebookContainer = gd.closest('#notebook-container');\n",
       "if (notebookContainer) {{\n",
       "    x.observe(notebookContainer, {childList: true});\n",
       "}}\n",
       "\n",
       "// Listen for the clearing of the current output cell\n",
       "var outputEl = gd.closest('.output');\n",
       "if (outputEl) {{\n",
       "    x.observe(outputEl, {childList: true});\n",
       "}}\n",
       "\n",
       "                        })                };                });            </script>        </div>"
      ]
     },
     "metadata": {},
     "output_type": "display_data"
    }
   ],
   "source": [
    "import plotly.express as px\n",
    "\n",
    "fig = px.line(scatter_df,x=\"level_0\", y=\"best_acc\",color='study', markers=True)\n",
    "#fig.add_scatter(x=x, y=y_std, mode='markers', name='Data2',trendline=\"ols\", marker=dict(color='green'))\n",
    "fig.update_layout(height=700)\n",
    "fig.update_layout(xaxis_title='model', title=\"Accuracies of each model in population with different setups for AddNIST dataset\")\n",
    "fig.show()"
   ]
  },
  {
   "cell_type": "code",
   "execution_count": 14,
   "id": "a5b04d1e-bbb5-4399-bd72-d5b379a90193",
   "metadata": {
    "tags": []
   },
   "outputs": [
    {
     "data": {
      "application/vnd.plotly.v1+json": {
       "config": {
        "plotlyServerURL": "https://plot.ly"
       },
       "data": [
        {
         "hovertemplate": "study=SE<br>name=%{x}<br>epoch_time=%{y}<extra></extra>",
         "legendgroup": "SE",
         "marker": {
          "color": "#636efa",
          "symbol": "circle"
         },
         "mode": "markers",
         "name": "SE",
         "orientation": "v",
         "showlegend": true,
         "type": "scatter",
         "x": [
          "olive_wasp",
          "honest_saluki",
          "zircon_toad",
          "neat_puffin",
          "astute_badger",
          "hospitable_pronghorn",
          "loyal_tiger",
          "spectral_hare",
          "hypersonic_sambar",
          "quizzical_caiman"
         ],
         "xaxis": "x",
         "y": [
          97.78,
          57.03,
          60.68,
          53.52,
          67.6,
          76.08,
          47.83,
          72.85,
          59.2,
          79.6
         ],
         "yaxis": "y"
        },
        {
         "hovertemplate": "study=SE_D<br>name=%{x}<br>epoch_time=%{y}<extra></extra>",
         "legendgroup": "SE_D",
         "marker": {
          "color": "#EF553B",
          "symbol": "circle"
         },
         "mode": "markers",
         "name": "SE_D",
         "orientation": "v",
         "showlegend": true,
         "type": "scatter",
         "x": [
          "olive_wasp",
          "honest_saluki",
          "hospitable_pronghorn",
          "zircon_toad",
          "neat_puffin",
          "loyal_tiger",
          "astute_badger",
          "spectral_hare",
          "hypersonic_sambar",
          "quizzical_caiman"
         ],
         "xaxis": "x",
         "y": [
          100.4,
          59.84,
          77.46,
          61.89,
          53.18,
          49.08,
          66.75,
          74.22,
          62.14,
          80.56
         ],
         "yaxis": "y"
        },
        {
         "hovertemplate": "study=NOSE_D<br>name=%{x}<br>epoch_time=%{y}<extra></extra>",
         "legendgroup": "NOSE_D",
         "marker": {
          "color": "#00cc96",
          "symbol": "circle"
         },
         "mode": "markers",
         "name": "NOSE_D",
         "orientation": "v",
         "showlegend": true,
         "type": "scatter",
         "x": [
          "olive_wasp",
          "honest_saluki",
          "zircon_toad",
          "neat_puffin",
          "astute_badger",
          "loyal_tiger",
          "hospitable_pronghorn",
          "hypersonic_sambar",
          "spectral_hare",
          "quizzical_caiman"
         ],
         "xaxis": "x",
         "y": [
          84.96,
          49.73,
          50.45,
          45.29,
          55.19,
          40.92,
          62.21,
          51.02,
          61.56,
          70.71
         ],
         "yaxis": "y"
        },
        {
         "hovertemplate": "study=NOSE_NOD<br>name=%{x}<br>epoch_time=%{y}<extra></extra>",
         "legendgroup": "NOSE_NOD",
         "marker": {
          "color": "#ab63fa",
          "symbol": "circle"
         },
         "mode": "markers",
         "name": "NOSE_NOD",
         "orientation": "v",
         "showlegend": true,
         "type": "scatter",
         "x": [
          "olive_wasp",
          "honest_saluki",
          "zircon_toad",
          "neat_puffin",
          "hospitable_pronghorn",
          "astute_badger",
          "loyal_tiger",
          "hypersonic_sambar",
          "spectral_hare",
          "quizzical_caiman"
         ],
         "xaxis": "x",
         "y": [
          80.38,
          47.76,
          50.13,
          42.32,
          60.56,
          53.05,
          39.38,
          49.76,
          60.16,
          67.78
         ],
         "yaxis": "y"
        },
        {
         "hovertemplate": "study=NOSE_D_DropPath<br>name=%{x}<br>epoch_time=%{y}<extra></extra>",
         "legendgroup": "NOSE_D_DropPath",
         "marker": {
          "color": "#FFA15A",
          "symbol": "circle"
         },
         "mode": "markers",
         "name": "NOSE_D_DropPath",
         "orientation": "v",
         "showlegend": true,
         "type": "scatter",
         "x": [
          "olive_wasp",
          "honest_saluki",
          "zircon_toad",
          "neat_puffin",
          "astute_badger",
          "loyal_tiger",
          "hospitable_pronghorn",
          "hypersonic_sambar",
          "spectral_hare",
          "quizzical_caiman"
         ],
         "xaxis": "x",
         "y": [
          95.08,
          55.38,
          53.21,
          45.84,
          57.05,
          44.57,
          70.71,
          57.47,
          68.89,
          72.35
         ],
         "yaxis": "y"
        }
       ],
       "layout": {
        "autosize": true,
        "legend": {
         "title": {
          "text": "study"
         },
         "tracegroupgap": 0
        },
        "margin": {
         "t": 60
        },
        "template": {
         "data": {
          "bar": [
           {
            "error_x": {
             "color": "#2a3f5f"
            },
            "error_y": {
             "color": "#2a3f5f"
            },
            "marker": {
             "line": {
              "color": "#E5ECF6",
              "width": 0.5
             },
             "pattern": {
              "fillmode": "overlay",
              "size": 10,
              "solidity": 0.2
             }
            },
            "type": "bar"
           }
          ],
          "barpolar": [
           {
            "marker": {
             "line": {
              "color": "#E5ECF6",
              "width": 0.5
             },
             "pattern": {
              "fillmode": "overlay",
              "size": 10,
              "solidity": 0.2
             }
            },
            "type": "barpolar"
           }
          ],
          "carpet": [
           {
            "aaxis": {
             "endlinecolor": "#2a3f5f",
             "gridcolor": "white",
             "linecolor": "white",
             "minorgridcolor": "white",
             "startlinecolor": "#2a3f5f"
            },
            "baxis": {
             "endlinecolor": "#2a3f5f",
             "gridcolor": "white",
             "linecolor": "white",
             "minorgridcolor": "white",
             "startlinecolor": "#2a3f5f"
            },
            "type": "carpet"
           }
          ],
          "choropleth": [
           {
            "colorbar": {
             "outlinewidth": 0,
             "ticks": ""
            },
            "type": "choropleth"
           }
          ],
          "contour": [
           {
            "colorbar": {
             "outlinewidth": 0,
             "ticks": ""
            },
            "colorscale": [
             [
              0,
              "#0d0887"
             ],
             [
              0.1111111111111111,
              "#46039f"
             ],
             [
              0.2222222222222222,
              "#7201a8"
             ],
             [
              0.3333333333333333,
              "#9c179e"
             ],
             [
              0.4444444444444444,
              "#bd3786"
             ],
             [
              0.5555555555555556,
              "#d8576b"
             ],
             [
              0.6666666666666666,
              "#ed7953"
             ],
             [
              0.7777777777777778,
              "#fb9f3a"
             ],
             [
              0.8888888888888888,
              "#fdca26"
             ],
             [
              1,
              "#f0f921"
             ]
            ],
            "type": "contour"
           }
          ],
          "contourcarpet": [
           {
            "colorbar": {
             "outlinewidth": 0,
             "ticks": ""
            },
            "type": "contourcarpet"
           }
          ],
          "heatmap": [
           {
            "colorbar": {
             "outlinewidth": 0,
             "ticks": ""
            },
            "colorscale": [
             [
              0,
              "#0d0887"
             ],
             [
              0.1111111111111111,
              "#46039f"
             ],
             [
              0.2222222222222222,
              "#7201a8"
             ],
             [
              0.3333333333333333,
              "#9c179e"
             ],
             [
              0.4444444444444444,
              "#bd3786"
             ],
             [
              0.5555555555555556,
              "#d8576b"
             ],
             [
              0.6666666666666666,
              "#ed7953"
             ],
             [
              0.7777777777777778,
              "#fb9f3a"
             ],
             [
              0.8888888888888888,
              "#fdca26"
             ],
             [
              1,
              "#f0f921"
             ]
            ],
            "type": "heatmap"
           }
          ],
          "heatmapgl": [
           {
            "colorbar": {
             "outlinewidth": 0,
             "ticks": ""
            },
            "colorscale": [
             [
              0,
              "#0d0887"
             ],
             [
              0.1111111111111111,
              "#46039f"
             ],
             [
              0.2222222222222222,
              "#7201a8"
             ],
             [
              0.3333333333333333,
              "#9c179e"
             ],
             [
              0.4444444444444444,
              "#bd3786"
             ],
             [
              0.5555555555555556,
              "#d8576b"
             ],
             [
              0.6666666666666666,
              "#ed7953"
             ],
             [
              0.7777777777777778,
              "#fb9f3a"
             ],
             [
              0.8888888888888888,
              "#fdca26"
             ],
             [
              1,
              "#f0f921"
             ]
            ],
            "type": "heatmapgl"
           }
          ],
          "histogram": [
           {
            "marker": {
             "pattern": {
              "fillmode": "overlay",
              "size": 10,
              "solidity": 0.2
             }
            },
            "type": "histogram"
           }
          ],
          "histogram2d": [
           {
            "colorbar": {
             "outlinewidth": 0,
             "ticks": ""
            },
            "colorscale": [
             [
              0,
              "#0d0887"
             ],
             [
              0.1111111111111111,
              "#46039f"
             ],
             [
              0.2222222222222222,
              "#7201a8"
             ],
             [
              0.3333333333333333,
              "#9c179e"
             ],
             [
              0.4444444444444444,
              "#bd3786"
             ],
             [
              0.5555555555555556,
              "#d8576b"
             ],
             [
              0.6666666666666666,
              "#ed7953"
             ],
             [
              0.7777777777777778,
              "#fb9f3a"
             ],
             [
              0.8888888888888888,
              "#fdca26"
             ],
             [
              1,
              "#f0f921"
             ]
            ],
            "type": "histogram2d"
           }
          ],
          "histogram2dcontour": [
           {
            "colorbar": {
             "outlinewidth": 0,
             "ticks": ""
            },
            "colorscale": [
             [
              0,
              "#0d0887"
             ],
             [
              0.1111111111111111,
              "#46039f"
             ],
             [
              0.2222222222222222,
              "#7201a8"
             ],
             [
              0.3333333333333333,
              "#9c179e"
             ],
             [
              0.4444444444444444,
              "#bd3786"
             ],
             [
              0.5555555555555556,
              "#d8576b"
             ],
             [
              0.6666666666666666,
              "#ed7953"
             ],
             [
              0.7777777777777778,
              "#fb9f3a"
             ],
             [
              0.8888888888888888,
              "#fdca26"
             ],
             [
              1,
              "#f0f921"
             ]
            ],
            "type": "histogram2dcontour"
           }
          ],
          "mesh3d": [
           {
            "colorbar": {
             "outlinewidth": 0,
             "ticks": ""
            },
            "type": "mesh3d"
           }
          ],
          "parcoords": [
           {
            "line": {
             "colorbar": {
              "outlinewidth": 0,
              "ticks": ""
             }
            },
            "type": "parcoords"
           }
          ],
          "pie": [
           {
            "automargin": true,
            "type": "pie"
           }
          ],
          "scatter": [
           {
            "fillpattern": {
             "fillmode": "overlay",
             "size": 10,
             "solidity": 0.2
            },
            "type": "scatter"
           }
          ],
          "scatter3d": [
           {
            "line": {
             "colorbar": {
              "outlinewidth": 0,
              "ticks": ""
             }
            },
            "marker": {
             "colorbar": {
              "outlinewidth": 0,
              "ticks": ""
             }
            },
            "type": "scatter3d"
           }
          ],
          "scattercarpet": [
           {
            "marker": {
             "colorbar": {
              "outlinewidth": 0,
              "ticks": ""
             }
            },
            "type": "scattercarpet"
           }
          ],
          "scattergeo": [
           {
            "marker": {
             "colorbar": {
              "outlinewidth": 0,
              "ticks": ""
             }
            },
            "type": "scattergeo"
           }
          ],
          "scattergl": [
           {
            "marker": {
             "colorbar": {
              "outlinewidth": 0,
              "ticks": ""
             }
            },
            "type": "scattergl"
           }
          ],
          "scattermapbox": [
           {
            "marker": {
             "colorbar": {
              "outlinewidth": 0,
              "ticks": ""
             }
            },
            "type": "scattermapbox"
           }
          ],
          "scatterpolar": [
           {
            "marker": {
             "colorbar": {
              "outlinewidth": 0,
              "ticks": ""
             }
            },
            "type": "scatterpolar"
           }
          ],
          "scatterpolargl": [
           {
            "marker": {
             "colorbar": {
              "outlinewidth": 0,
              "ticks": ""
             }
            },
            "type": "scatterpolargl"
           }
          ],
          "scatterternary": [
           {
            "marker": {
             "colorbar": {
              "outlinewidth": 0,
              "ticks": ""
             }
            },
            "type": "scatterternary"
           }
          ],
          "surface": [
           {
            "colorbar": {
             "outlinewidth": 0,
             "ticks": ""
            },
            "colorscale": [
             [
              0,
              "#0d0887"
             ],
             [
              0.1111111111111111,
              "#46039f"
             ],
             [
              0.2222222222222222,
              "#7201a8"
             ],
             [
              0.3333333333333333,
              "#9c179e"
             ],
             [
              0.4444444444444444,
              "#bd3786"
             ],
             [
              0.5555555555555556,
              "#d8576b"
             ],
             [
              0.6666666666666666,
              "#ed7953"
             ],
             [
              0.7777777777777778,
              "#fb9f3a"
             ],
             [
              0.8888888888888888,
              "#fdca26"
             ],
             [
              1,
              "#f0f921"
             ]
            ],
            "type": "surface"
           }
          ],
          "table": [
           {
            "cells": {
             "fill": {
              "color": "#EBF0F8"
             },
             "line": {
              "color": "white"
             }
            },
            "header": {
             "fill": {
              "color": "#C8D4E3"
             },
             "line": {
              "color": "white"
             }
            },
            "type": "table"
           }
          ]
         },
         "layout": {
          "annotationdefaults": {
           "arrowcolor": "#2a3f5f",
           "arrowhead": 0,
           "arrowwidth": 1
          },
          "autotypenumbers": "strict",
          "coloraxis": {
           "colorbar": {
            "outlinewidth": 0,
            "ticks": ""
           }
          },
          "colorscale": {
           "diverging": [
            [
             0,
             "#8e0152"
            ],
            [
             0.1,
             "#c51b7d"
            ],
            [
             0.2,
             "#de77ae"
            ],
            [
             0.3,
             "#f1b6da"
            ],
            [
             0.4,
             "#fde0ef"
            ],
            [
             0.5,
             "#f7f7f7"
            ],
            [
             0.6,
             "#e6f5d0"
            ],
            [
             0.7,
             "#b8e186"
            ],
            [
             0.8,
             "#7fbc41"
            ],
            [
             0.9,
             "#4d9221"
            ],
            [
             1,
             "#276419"
            ]
           ],
           "sequential": [
            [
             0,
             "#0d0887"
            ],
            [
             0.1111111111111111,
             "#46039f"
            ],
            [
             0.2222222222222222,
             "#7201a8"
            ],
            [
             0.3333333333333333,
             "#9c179e"
            ],
            [
             0.4444444444444444,
             "#bd3786"
            ],
            [
             0.5555555555555556,
             "#d8576b"
            ],
            [
             0.6666666666666666,
             "#ed7953"
            ],
            [
             0.7777777777777778,
             "#fb9f3a"
            ],
            [
             0.8888888888888888,
             "#fdca26"
            ],
            [
             1,
             "#f0f921"
            ]
           ],
           "sequentialminus": [
            [
             0,
             "#0d0887"
            ],
            [
             0.1111111111111111,
             "#46039f"
            ],
            [
             0.2222222222222222,
             "#7201a8"
            ],
            [
             0.3333333333333333,
             "#9c179e"
            ],
            [
             0.4444444444444444,
             "#bd3786"
            ],
            [
             0.5555555555555556,
             "#d8576b"
            ],
            [
             0.6666666666666666,
             "#ed7953"
            ],
            [
             0.7777777777777778,
             "#fb9f3a"
            ],
            [
             0.8888888888888888,
             "#fdca26"
            ],
            [
             1,
             "#f0f921"
            ]
           ]
          },
          "colorway": [
           "#636efa",
           "#EF553B",
           "#00cc96",
           "#ab63fa",
           "#FFA15A",
           "#19d3f3",
           "#FF6692",
           "#B6E880",
           "#FF97FF",
           "#FECB52"
          ],
          "font": {
           "color": "#2a3f5f"
          },
          "geo": {
           "bgcolor": "white",
           "lakecolor": "white",
           "landcolor": "#E5ECF6",
           "showlakes": true,
           "showland": true,
           "subunitcolor": "white"
          },
          "hoverlabel": {
           "align": "left"
          },
          "hovermode": "closest",
          "mapbox": {
           "style": "light"
          },
          "paper_bgcolor": "white",
          "plot_bgcolor": "#E5ECF6",
          "polar": {
           "angularaxis": {
            "gridcolor": "white",
            "linecolor": "white",
            "ticks": ""
           },
           "bgcolor": "#E5ECF6",
           "radialaxis": {
            "gridcolor": "white",
            "linecolor": "white",
            "ticks": ""
           }
          },
          "scene": {
           "xaxis": {
            "backgroundcolor": "#E5ECF6",
            "gridcolor": "white",
            "gridwidth": 2,
            "linecolor": "white",
            "showbackground": true,
            "ticks": "",
            "zerolinecolor": "white"
           },
           "yaxis": {
            "backgroundcolor": "#E5ECF6",
            "gridcolor": "white",
            "gridwidth": 2,
            "linecolor": "white",
            "showbackground": true,
            "ticks": "",
            "zerolinecolor": "white"
           },
           "zaxis": {
            "backgroundcolor": "#E5ECF6",
            "gridcolor": "white",
            "gridwidth": 2,
            "linecolor": "white",
            "showbackground": true,
            "ticks": "",
            "zerolinecolor": "white"
           }
          },
          "shapedefaults": {
           "line": {
            "color": "#2a3f5f"
           }
          },
          "ternary": {
           "aaxis": {
            "gridcolor": "white",
            "linecolor": "white",
            "ticks": ""
           },
           "baxis": {
            "gridcolor": "white",
            "linecolor": "white",
            "ticks": ""
           },
           "bgcolor": "#E5ECF6",
           "caxis": {
            "gridcolor": "white",
            "linecolor": "white",
            "ticks": ""
           }
          },
          "title": {
           "x": 0.05
          },
          "xaxis": {
           "automargin": true,
           "gridcolor": "white",
           "linecolor": "white",
           "ticks": "",
           "title": {
            "standoff": 15
           },
           "zerolinecolor": "white",
           "zerolinewidth": 2
          },
          "yaxis": {
           "automargin": true,
           "gridcolor": "white",
           "linecolor": "white",
           "ticks": "",
           "title": {
            "standoff": 15
           },
           "zerolinecolor": "white",
           "zerolinewidth": 2
          }
         }
        },
        "title": {
         "text": "epoch time by model and setup in AddNIST"
        },
        "xaxis": {
         "anchor": "y",
         "autorange": true,
         "domain": [
          0,
          1
         ],
         "range": [
          -0.5960799385088394,
          9.59607993850884
         ],
         "title": {
          "text": "name"
         },
         "type": "category"
        },
        "yaxis": {
         "anchor": "x",
         "autorange": true,
         "domain": [
          0,
          1
         ],
         "range": [
          34.37263358778626,
          105.40736641221375
         ],
         "title": {
          "text": "epoch_time"
         },
         "type": "linear"
        }
       }
      },
      "image/png": "[encoded data removed]",
      "text/html": [
       "<div>                            <div id=\"826b69ab-c100-43bb-97a3-457ab8ebd65f\" class=\"plotly-graph-div\" style=\"height:500px; width:100%;\"></div>            <script type=\"text/javascript\">                require([\"plotly\"], function(Plotly) {                    window.PLOTLYENV=window.PLOTLYENV || {};                                    if (document.getElementById(\"826b69ab-c100-43bb-97a3-457ab8ebd65f\")) {                    Plotly.newPlot(                        \"826b69ab-c100-43bb-97a3-457ab8ebd65f\",                        [{\"hovertemplate\":\"study=SE\\u003cbr\\u003ename=%{x}\\u003cbr\\u003eepoch_time=%{y}\\u003cextra\\u003e\\u003c\\u002fextra\\u003e\",\"legendgroup\":\"SE\",\"marker\":{\"color\":\"#636efa\",\"symbol\":\"circle\"},\"mode\":\"markers\",\"name\":\"SE\",\"orientation\":\"v\",\"showlegend\":true,\"x\":[\"olive_wasp\",\"honest_saluki\",\"zircon_toad\",\"neat_puffin\",\"astute_badger\",\"hospitable_pronghorn\",\"loyal_tiger\",\"spectral_hare\",\"hypersonic_sambar\",\"quizzical_caiman\"],\"xaxis\":\"x\",\"y\":[97.78,57.03,60.68,53.52,67.6,76.08,47.83,72.85,59.2,79.6],\"yaxis\":\"y\",\"type\":\"scatter\"},{\"hovertemplate\":\"study=SE_D\\u003cbr\\u003ename=%{x}\\u003cbr\\u003eepoch_time=%{y}\\u003cextra\\u003e\\u003c\\u002fextra\\u003e\",\"legendgroup\":\"SE_D\",\"marker\":{\"color\":\"#EF553B\",\"symbol\":\"circle\"},\"mode\":\"markers\",\"name\":\"SE_D\",\"orientation\":\"v\",\"showlegend\":true,\"x\":[\"olive_wasp\",\"honest_saluki\",\"hospitable_pronghorn\",\"zircon_toad\",\"neat_puffin\",\"loyal_tiger\",\"astute_badger\",\"spectral_hare\",\"hypersonic_sambar\",\"quizzical_caiman\"],\"xaxis\":\"x\",\"y\":[100.4,59.84,77.46,61.89,53.18,49.08,66.75,74.22,62.14,80.56],\"yaxis\":\"y\",\"type\":\"scatter\"},{\"hovertemplate\":\"study=NOSE_D\\u003cbr\\u003ename=%{x}\\u003cbr\\u003eepoch_time=%{y}\\u003cextra\\u003e\\u003c\\u002fextra\\u003e\",\"legendgroup\":\"NOSE_D\",\"marker\":{\"color\":\"#00cc96\",\"symbol\":\"circle\"},\"mode\":\"markers\",\"name\":\"NOSE_D\",\"orientation\":\"v\",\"showlegend\":true,\"x\":[\"olive_wasp\",\"honest_saluki\",\"zircon_toad\",\"neat_puffin\",\"astute_badger\",\"loyal_tiger\",\"hospitable_pronghorn\",\"hypersonic_sambar\",\"spectral_hare\",\"quizzical_caiman\"],\"xaxis\":\"x\",\"y\":[84.96,49.73,50.45,45.29,55.19,40.92,62.21,51.02,61.56,70.71],\"yaxis\":\"y\",\"type\":\"scatter\"},{\"hovertemplate\":\"study=NOSE_NOD\\u003cbr\\u003ename=%{x}\\u003cbr\\u003eepoch_time=%{y}\\u003cextra\\u003e\\u003c\\u002fextra\\u003e\",\"legendgroup\":\"NOSE_NOD\",\"marker\":{\"color\":\"#ab63fa\",\"symbol\":\"circle\"},\"mode\":\"markers\",\"name\":\"NOSE_NOD\",\"orientation\":\"v\",\"showlegend\":true,\"x\":[\"olive_wasp\",\"honest_saluki\",\"zircon_toad\",\"neat_puffin\",\"hospitable_pronghorn\",\"astute_badger\",\"loyal_tiger\",\"hypersonic_sambar\",\"spectral_hare\",\"quizzical_caiman\"],\"xaxis\":\"x\",\"y\":[80.38,47.76,50.13,42.32,60.56,53.05,39.38,49.76,60.16,67.78],\"yaxis\":\"y\",\"type\":\"scatter\"},{\"hovertemplate\":\"study=NOSE_D_DropPath\\u003cbr\\u003ename=%{x}\\u003cbr\\u003eepoch_time=%{y}\\u003cextra\\u003e\\u003c\\u002fextra\\u003e\",\"legendgroup\":\"NOSE_D_DropPath\",\"marker\":{\"color\":\"#FFA15A\",\"symbol\":\"circle\"},\"mode\":\"markers\",\"name\":\"NOSE_D_DropPath\",\"orientation\":\"v\",\"showlegend\":true,\"x\":[\"olive_wasp\",\"honest_saluki\",\"zircon_toad\",\"neat_puffin\",\"astute_badger\",\"loyal_tiger\",\"hospitable_pronghorn\",\"hypersonic_sambar\",\"spectral_hare\",\"quizzical_caiman\"],\"xaxis\":\"x\",\"y\":[95.08,55.38,53.21,45.84,57.05,44.57,70.71,57.47,68.89,72.35],\"yaxis\":\"y\",\"type\":\"scatter\"}],                        {\"template\":{\"data\":{\"histogram2dcontour\":[{\"type\":\"histogram2dcontour\",\"colorbar\":{\"outlinewidth\":0,\"ticks\":\"\"},\"colorscale\":[[0.0,\"#0d0887\"],[0.1111111111111111,\"#46039f\"],[0.2222222222222222,\"#7201a8\"],[0.3333333333333333,\"#9c179e\"],[0.4444444444444444,\"#bd3786\"],[0.5555555555555556,\"#d8576b\"],[0.6666666666666666,\"#ed7953\"],[0.7777777777777778,\"#fb9f3a\"],[0.8888888888888888,\"#fdca26\"],[1.0,\"#f0f921\"]]}],\"choropleth\":[{\"type\":\"choropleth\",\"colorbar\":{\"outlinewidth\":0,\"ticks\":\"\"}}],\"histogram2d\":[{\"type\":\"histogram2d\",\"colorbar\":{\"outlinewidth\":0,\"ticks\":\"\"},\"colorscale\":[[0.0,\"#0d0887\"],[0.1111111111111111,\"#46039f\"],[0.2222222222222222,\"#7201a8\"],[0.3333333333333333,\"#9c179e\"],[0.4444444444444444,\"#bd3786\"],[0.5555555555555556,\"#d8576b\"],[0.6666666666666666,\"#ed7953\"],[0.7777777777777778,\"#fb9f3a\"],[0.8888888888888888,\"#fdca26\"],[1.0,\"#f0f921\"]]}],\"heatmap\":[{\"type\":\"heatmap\",\"colorbar\":{\"outlinewidth\":0,\"ticks\":\"\"},\"colorscale\":[[0.0,\"#0d0887\"],[0.1111111111111111,\"#46039f\"],[0.2222222222222222,\"#7201a8\"],[0.3333333333333333,\"#9c179e\"],[0.4444444444444444,\"#bd3786\"],[0.5555555555555556,\"#d8576b\"],[0.6666666666666666,\"#ed7953\"],[0.7777777777777778,\"#fb9f3a\"],[0.8888888888888888,\"#fdca26\"],[1.0,\"#f0f921\"]]}],\"heatmapgl\":[{\"type\":\"heatmapgl\",\"colorbar\":{\"outlinewidth\":0,\"ticks\":\"\"},\"colorscale\":[[0.0,\"#0d0887\"],[0.1111111111111111,\"#46039f\"],[0.2222222222222222,\"#7201a8\"],[0.3333333333333333,\"#9c179e\"],[0.4444444444444444,\"#bd3786\"],[0.5555555555555556,\"#d8576b\"],[0.6666666666666666,\"#ed7953\"],[0.7777777777777778,\"#fb9f3a\"],[0.8888888888888888,\"#fdca26\"],[1.0,\"#f0f921\"]]}],\"contourcarpet\":[{\"type\":\"contourcarpet\",\"colorbar\":{\"outlinewidth\":0,\"ticks\":\"\"}}],\"contour\":[{\"type\":\"contour\",\"colorbar\":{\"outlinewidth\":0,\"ticks\":\"\"},\"colorscale\":[[0.0,\"#0d0887\"],[0.1111111111111111,\"#46039f\"],[0.2222222222222222,\"#7201a8\"],[0.3333333333333333,\"#9c179e\"],[0.4444444444444444,\"#bd3786\"],[0.5555555555555556,\"#d8576b\"],[0.6666666666666666,\"#ed7953\"],[0.7777777777777778,\"#fb9f3a\"],[0.8888888888888888,\"#fdca26\"],[1.0,\"#f0f921\"]]}],\"surface\":[{\"type\":\"surface\",\"colorbar\":{\"outlinewidth\":0,\"ticks\":\"\"},\"colorscale\":[[0.0,\"#0d0887\"],[0.1111111111111111,\"#46039f\"],[0.2222222222222222,\"#7201a8\"],[0.3333333333333333,\"#9c179e\"],[0.4444444444444444,\"#bd3786\"],[0.5555555555555556,\"#d8576b\"],[0.6666666666666666,\"#ed7953\"],[0.7777777777777778,\"#fb9f3a\"],[0.8888888888888888,\"#fdca26\"],[1.0,\"#f0f921\"]]}],\"mesh3d\":[{\"type\":\"mesh3d\",\"colorbar\":{\"outlinewidth\":0,\"ticks\":\"\"}}],\"scatter\":[{\"fillpattern\":{\"fillmode\":\"overlay\",\"size\":10,\"solidity\":0.2},\"type\":\"scatter\"}],\"parcoords\":[{\"type\":\"parcoords\",\"line\":{\"colorbar\":{\"outlinewidth\":0,\"ticks\":\"\"}}}],\"scatterpolargl\":[{\"type\":\"scatterpolargl\",\"marker\":{\"colorbar\":{\"outlinewidth\":0,\"ticks\":\"\"}}}],\"bar\":[{\"error_x\":{\"color\":\"#2a3f5f\"},\"error_y\":{\"color\":\"#2a3f5f\"},\"marker\":{\"line\":{\"color\":\"#E5ECF6\",\"width\":0.5},\"pattern\":{\"fillmode\":\"overlay\",\"size\":10,\"solidity\":0.2}},\"type\":\"bar\"}],\"scattergeo\":[{\"type\":\"scattergeo\",\"marker\":{\"colorbar\":{\"outlinewidth\":0,\"ticks\":\"\"}}}],\"scatterpolar\":[{\"type\":\"scatterpolar\",\"marker\":{\"colorbar\":{\"outlinewidth\":0,\"ticks\":\"\"}}}],\"histogram\":[{\"marker\":{\"pattern\":{\"fillmode\":\"overlay\",\"size\":10,\"solidity\":0.2}},\"type\":\"histogram\"}],\"scattergl\":[{\"type\":\"scattergl\",\"marker\":{\"colorbar\":{\"outlinewidth\":0,\"ticks\":\"\"}}}],\"scatter3d\":[{\"type\":\"scatter3d\",\"line\":{\"colorbar\":{\"outlinewidth\":0,\"ticks\":\"\"}},\"marker\":{\"colorbar\":{\"outlinewidth\":0,\"ticks\":\"\"}}}],\"scattermapbox\":[{\"type\":\"scattermapbox\",\"marker\":{\"colorbar\":{\"outlinewidth\":0,\"ticks\":\"\"}}}],\"scatterternary\":[{\"type\":\"scatterternary\",\"marker\":{\"colorbar\":{\"outlinewidth\":0,\"ticks\":\"\"}}}],\"scattercarpet\":[{\"type\":\"scattercarpet\",\"marker\":{\"colorbar\":{\"outlinewidth\":0,\"ticks\":\"\"}}}],\"carpet\":[{\"aaxis\":{\"endlinecolor\":\"#2a3f5f\",\"gridcolor\":\"white\",\"linecolor\":\"white\",\"minorgridcolor\":\"white\",\"startlinecolor\":\"#2a3f5f\"},\"baxis\":{\"endlinecolor\":\"#2a3f5f\",\"gridcolor\":\"white\",\"linecolor\":\"white\",\"minorgridcolor\":\"white\",\"startlinecolor\":\"#2a3f5f\"},\"type\":\"carpet\"}],\"table\":[{\"cells\":{\"fill\":{\"color\":\"#EBF0F8\"},\"line\":{\"color\":\"white\"}},\"header\":{\"fill\":{\"color\":\"#C8D4E3\"},\"line\":{\"color\":\"white\"}},\"type\":\"table\"}],\"barpolar\":[{\"marker\":{\"line\":{\"color\":\"#E5ECF6\",\"width\":0.5},\"pattern\":{\"fillmode\":\"overlay\",\"size\":10,\"solidity\":0.2}},\"type\":\"barpolar\"}],\"pie\":[{\"automargin\":true,\"type\":\"pie\"}]},\"layout\":{\"autotypenumbers\":\"strict\",\"colorway\":[\"#636efa\",\"#EF553B\",\"#00cc96\",\"#ab63fa\",\"#FFA15A\",\"#19d3f3\",\"#FF6692\",\"#B6E880\",\"#FF97FF\",\"#FECB52\"],\"font\":{\"color\":\"#2a3f5f\"},\"hovermode\":\"closest\",\"hoverlabel\":{\"align\":\"left\"},\"paper_bgcolor\":\"white\",\"plot_bgcolor\":\"#E5ECF6\",\"polar\":{\"bgcolor\":\"#E5ECF6\",\"angularaxis\":{\"gridcolor\":\"white\",\"linecolor\":\"white\",\"ticks\":\"\"},\"radialaxis\":{\"gridcolor\":\"white\",\"linecolor\":\"white\",\"ticks\":\"\"}},\"ternary\":{\"bgcolor\":\"#E5ECF6\",\"aaxis\":{\"gridcolor\":\"white\",\"linecolor\":\"white\",\"ticks\":\"\"},\"baxis\":{\"gridcolor\":\"white\",\"linecolor\":\"white\",\"ticks\":\"\"},\"caxis\":{\"gridcolor\":\"white\",\"linecolor\":\"white\",\"ticks\":\"\"}},\"coloraxis\":{\"colorbar\":{\"outlinewidth\":0,\"ticks\":\"\"}},\"colorscale\":{\"sequential\":[[0.0,\"#0d0887\"],[0.1111111111111111,\"#46039f\"],[0.2222222222222222,\"#7201a8\"],[0.3333333333333333,\"#9c179e\"],[0.4444444444444444,\"#bd3786\"],[0.5555555555555556,\"#d8576b\"],[0.6666666666666666,\"#ed7953\"],[0.7777777777777778,\"#fb9f3a\"],[0.8888888888888888,\"#fdca26\"],[1.0,\"#f0f921\"]],\"sequentialminus\":[[0.0,\"#0d0887\"],[0.1111111111111111,\"#46039f\"],[0.2222222222222222,\"#7201a8\"],[0.3333333333333333,\"#9c179e\"],[0.4444444444444444,\"#bd3786\"],[0.5555555555555556,\"#d8576b\"],[0.6666666666666666,\"#ed7953\"],[0.7777777777777778,\"#fb9f3a\"],[0.8888888888888888,\"#fdca26\"],[1.0,\"#f0f921\"]],\"diverging\":[[0,\"#8e0152\"],[0.1,\"#c51b7d\"],[0.2,\"#de77ae\"],[0.3,\"#f1b6da\"],[0.4,\"#fde0ef\"],[0.5,\"#f7f7f7\"],[0.6,\"#e6f5d0\"],[0.7,\"#b8e186\"],[0.8,\"#7fbc41\"],[0.9,\"#4d9221\"],[1,\"#276419\"]]},\"xaxis\":{\"gridcolor\":\"white\",\"linecolor\":\"white\",\"ticks\":\"\",\"title\":{\"standoff\":15},\"zerolinecolor\":\"white\",\"automargin\":true,\"zerolinewidth\":2},\"yaxis\":{\"gridcolor\":\"white\",\"linecolor\":\"white\",\"ticks\":\"\",\"title\":{\"standoff\":15},\"zerolinecolor\":\"white\",\"automargin\":true,\"zerolinewidth\":2},\"scene\":{\"xaxis\":{\"backgroundcolor\":\"#E5ECF6\",\"gridcolor\":\"white\",\"linecolor\":\"white\",\"showbackground\":true,\"ticks\":\"\",\"zerolinecolor\":\"white\",\"gridwidth\":2},\"yaxis\":{\"backgroundcolor\":\"#E5ECF6\",\"gridcolor\":\"white\",\"linecolor\":\"white\",\"showbackground\":true,\"ticks\":\"\",\"zerolinecolor\":\"white\",\"gridwidth\":2},\"zaxis\":{\"backgroundcolor\":\"#E5ECF6\",\"gridcolor\":\"white\",\"linecolor\":\"white\",\"showbackground\":true,\"ticks\":\"\",\"zerolinecolor\":\"white\",\"gridwidth\":2}},\"shapedefaults\":{\"line\":{\"color\":\"#2a3f5f\"}},\"annotationdefaults\":{\"arrowcolor\":\"#2a3f5f\",\"arrowhead\":0,\"arrowwidth\":1},\"geo\":{\"bgcolor\":\"white\",\"landcolor\":\"#E5ECF6\",\"subunitcolor\":\"white\",\"showland\":true,\"showlakes\":true,\"lakecolor\":\"white\"},\"title\":{\"x\":0.05},\"mapbox\":{\"style\":\"light\"}}},\"xaxis\":{\"anchor\":\"y\",\"domain\":[0.0,1.0],\"title\":{\"text\":\"name\"}},\"yaxis\":{\"anchor\":\"x\",\"domain\":[0.0,1.0],\"title\":{\"text\":\"epoch_time\"}},\"legend\":{\"title\":{\"text\":\"study\"},\"tracegroupgap\":0},\"margin\":{\"t\":60},\"height\":500,\"title\":{\"text\":\"epoch time by model and setup in AddNIST\"}},                        {\"responsive\": true}                    ).then(function(){\n",
       "                            \n",
       "var gd = document.getElementById('826b69ab-c100-43bb-97a3-457ab8ebd65f');\n",
       "var x = new MutationObserver(function (mutations, observer) {{\n",
       "        var display = window.getComputedStyle(gd).display;\n",
       "        if (!display || display === 'none') {{\n",
       "            console.log([gd, 'removed!']);\n",
       "            Plotly.purge(gd);\n",
       "            observer.disconnect();\n",
       "        }}\n",
       "}});\n",
       "\n",
       "// Listen for the removal of the full notebook cells\n",
       "var notebookContainer = gd.closest('#notebook-container');\n",
       "if (notebookContainer) {{\n",
       "    x.observe(notebookContainer, {childList: true});\n",
       "}}\n",
       "\n",
       "// Listen for the clearing of the current output cell\n",
       "var outputEl = gd.closest('.output');\n",
       "if (outputEl) {{\n",
       "    x.observe(outputEl, {childList: true});\n",
       "}}\n",
       "\n",
       "                        })                };                });            </script>        </div>"
      ]
     },
     "metadata": {},
     "output_type": "display_data"
    }
   ],
   "source": [
    "import plotly.express as px\n",
    "\n",
    "fig = px.scatter(scatter_df,x=\"name\", y=\"epoch_time\",color='study')\n",
    "#fig.add_scatter(x=x, y=y_std, mode='markers', name='Data2',trendline=\"ols\", marker=dict(color='green'))\n",
    "fig.update_layout(height=500, title=\"epoch time by model and setup in AddNIST\")\n",
    "fig.show()"
   ]
  },
  {
   "cell_type": "code",
   "execution_count": 31,
   "id": "20cf9d74-0dfd-48a0-b421-602199268aa0",
   "metadata": {
    "tags": []
   },
   "outputs": [
    {
     "data": {
      "application/vnd.plotly.v1+json": {
       "config": {
        "plotlyServerURL": "https://plot.ly"
       },
       "data": [
        {
         "hovertemplate": "study=SE<br>index=%{x}<br>0=%{y}<extra></extra>",
         "legendgroup": "SE",
         "line": {
          "color": "#636efa",
          "dash": "solid"
         },
         "marker": {
          "symbol": "circle"
         },
         "mode": "lines+markers",
         "name": "SE",
         "orientation": "v",
         "showlegend": true,
         "type": "scatter",
         "x": [
          0,
          1,
          2,
          3,
          4,
          5,
          6,
          7,
          8,
          9,
          10,
          11,
          12,
          13,
          14,
          15,
          16,
          17,
          18,
          19
         ],
         "xaxis": "x",
         "y": [
          0.8841148613125033,
          0.8699209968819255,
          0.8818804548114395,
          0.7597351726215973,
          0.9149049951170056,
          0.9296110434054191,
          0.9468210595862943,
          0.9736550527600605,
          0.9595500064312428,
          0.9468682975666671,
          0.9192164024023681,
          0.9789205823066527,
          0.9919570133063569,
          0.9858462068662788,
          0.9965267890946568,
          0.9965275573469844,
          0.998128250820134,
          0.9993262054698229,
          0.9999724164628343,
          0.9999614083249974
         ],
         "yaxis": "y"
        },
        {
         "hovertemplate": "study=SE_D<br>index=%{x}<br>0=%{y}<extra></extra>",
         "legendgroup": "SE_D",
         "line": {
          "color": "#EF553B",
          "dash": "solid"
         },
         "marker": {
          "symbol": "circle"
         },
         "mode": "lines+markers",
         "name": "SE_D",
         "orientation": "v",
         "showlegend": true,
         "type": "scatter",
         "x": [
          0,
          1,
          2,
          3,
          4,
          5,
          6,
          7,
          8,
          9,
          10,
          11,
          12,
          13,
          14,
          15,
          16,
          17,
          18,
          19
         ],
         "xaxis": "x",
         "y": [
          0.7827052175039281,
          0.8047573825144566,
          0.7727747232138252,
          0.8975155752523056,
          0.9113528111622616,
          0.9107396767393812,
          0.9404128594834307,
          0.9316979345906092,
          0.9456788203953082,
          0.9581630523070059,
          0.9747159412333359,
          0.9816758529977297,
          0.9734889675994862,
          0.989481769362365,
          0.9949891658538877,
          0.9978167202163573,
          0.998542444337213,
          0.9983418717426622,
          0.9993824692267781,
          0.9996318527590073
         ],
         "yaxis": "y"
        },
        {
         "hovertemplate": "study=NOSE_D<br>index=%{x}<br>0=%{y}<extra></extra>",
         "legendgroup": "NOSE_D",
         "line": {
          "color": "#00cc96",
          "dash": "solid"
         },
         "marker": {
          "symbol": "circle"
         },
         "mode": "lines+markers",
         "name": "NOSE_D",
         "orientation": "v",
         "showlegend": true,
         "type": "scatter",
         "x": [
          0,
          1,
          2,
          3,
          4,
          5,
          6,
          7,
          8,
          9,
          10,
          11,
          12,
          13,
          14,
          15,
          16,
          17,
          18,
          19
         ],
         "xaxis": "x",
         "y": [
          0.9153164618692897,
          0.7561037101995395,
          0.8654383646015729,
          0.8757501633357584,
          0.9368795029212332,
          0.4645978406949569,
          0.9338687852899259,
          0.8924034067298773,
          0.9154642282070425,
          0.9557183132253825,
          0.9673619280271802,
          0.993282824577197,
          0.967838843302972,
          0.9911609947768787,
          0.9990768316536953,
          0.9987884180548835,
          0.999601067060892,
          0.9998158741801833,
          0.9999509155216739,
          0.9999999999999998
         ],
         "yaxis": "y"
        },
        {
         "hovertemplate": "study=NOSE_NOD<br>index=%{x}<br>0=%{y}<extra></extra>",
         "legendgroup": "NOSE_NOD",
         "line": {
          "color": "#ab63fa",
          "dash": "solid"
         },
         "marker": {
          "symbol": "circle"
         },
         "mode": "lines+markers",
         "name": "NOSE_NOD",
         "orientation": "v",
         "showlegend": true,
         "type": "scatter",
         "x": [
          0,
          1,
          2,
          3,
          4,
          5,
          6,
          7,
          8,
          9,
          10,
          11,
          12,
          13,
          14,
          15,
          16,
          17,
          18,
          19
         ],
         "xaxis": "x",
         "y": [
          0.8867731949116964,
          0.8929960946044404,
          0.7919286900847592,
          0.7600577853708548,
          0.8768908081296317,
          0.919238310673617,
          0.9258980241715581,
          0.9195721364125827,
          0.9332593880521644,
          0.9838254039141971,
          0.9733710107993258,
          0.9756191385435989,
          0.9734850682864343,
          0.9926666977349722,
          0.9982121784531286,
          0.9830701056054365,
          0.9980899753853134,
          0.9998587222117629,
          0.9998794680907965,
          1
         ],
         "yaxis": "y"
        },
        {
         "hovertemplate": "study=NOSE_D_DropPath<br>index=%{x}<br>0=%{y}<extra></extra>",
         "legendgroup": "NOSE_D_DropPath",
         "line": {
          "color": "#FFA15A",
          "dash": "solid"
         },
         "marker": {
          "symbol": "circle"
         },
         "mode": "lines+markers",
         "name": "NOSE_D_DropPath",
         "orientation": "v",
         "showlegend": true,
         "type": "scatter",
         "x": [
          0,
          1,
          2,
          3,
          4,
          5,
          6,
          7,
          8,
          9,
          10,
          11,
          12,
          13,
          14,
          15,
          16,
          17,
          18,
          19
         ],
         "xaxis": "x",
         "y": [
          0.8926543275407655,
          0.7096966070467268,
          0.9299072661165678,
          0.7760459926144967,
          0.9216631609983253,
          0.7900506569612675,
          0.9068856904676382,
          0.964622446185265,
          0.951848460546959,
          0.96228746550129,
          0.9792870349804479,
          0.9763754567929762,
          0.9655812165587011,
          0.9923989949028243,
          0.9975974391046397,
          0.9985691758078812,
          0.9996769225129826,
          0.9995614735101473,
          0.9997853999364725,
          0.9999881867239879
         ],
         "yaxis": "y"
        }
       ],
       "layout": {
        "autosize": true,
        "legend": {
         "title": {
          "text": "study"
         },
         "tracegroupgap": 0
        },
        "margin": {
         "t": 60
        },
        "template": {
         "data": {
          "bar": [
           {
            "error_x": {
             "color": "#2a3f5f"
            },
            "error_y": {
             "color": "#2a3f5f"
            },
            "marker": {
             "line": {
              "color": "#E5ECF6",
              "width": 0.5
             },
             "pattern": {
              "fillmode": "overlay",
              "size": 10,
              "solidity": 0.2
             }
            },
            "type": "bar"
           }
          ],
          "barpolar": [
           {
            "marker": {
             "line": {
              "color": "#E5ECF6",
              "width": 0.5
             },
             "pattern": {
              "fillmode": "overlay",
              "size": 10,
              "solidity": 0.2
             }
            },
            "type": "barpolar"
           }
          ],
          "carpet": [
           {
            "aaxis": {
             "endlinecolor": "#2a3f5f",
             "gridcolor": "white",
             "linecolor": "white",
             "minorgridcolor": "white",
             "startlinecolor": "#2a3f5f"
            },
            "baxis": {
             "endlinecolor": "#2a3f5f",
             "gridcolor": "white",
             "linecolor": "white",
             "minorgridcolor": "white",
             "startlinecolor": "#2a3f5f"
            },
            "type": "carpet"
           }
          ],
          "choropleth": [
           {
            "colorbar": {
             "outlinewidth": 0,
             "ticks": ""
            },
            "type": "choropleth"
           }
          ],
          "contour": [
           {
            "colorbar": {
             "outlinewidth": 0,
             "ticks": ""
            },
            "colorscale": [
             [
              0,
              "#0d0887"
             ],
             [
              0.1111111111111111,
              "#46039f"
             ],
             [
              0.2222222222222222,
              "#7201a8"
             ],
             [
              0.3333333333333333,
              "#9c179e"
             ],
             [
              0.4444444444444444,
              "#bd3786"
             ],
             [
              0.5555555555555556,
              "#d8576b"
             ],
             [
              0.6666666666666666,
              "#ed7953"
             ],
             [
              0.7777777777777778,
              "#fb9f3a"
             ],
             [
              0.8888888888888888,
              "#fdca26"
             ],
             [
              1,
              "#f0f921"
             ]
            ],
            "type": "contour"
           }
          ],
          "contourcarpet": [
           {
            "colorbar": {
             "outlinewidth": 0,
             "ticks": ""
            },
            "type": "contourcarpet"
           }
          ],
          "heatmap": [
           {
            "colorbar": {
             "outlinewidth": 0,
             "ticks": ""
            },
            "colorscale": [
             [
              0,
              "#0d0887"
             ],
             [
              0.1111111111111111,
              "#46039f"
             ],
             [
              0.2222222222222222,
              "#7201a8"
             ],
             [
              0.3333333333333333,
              "#9c179e"
             ],
             [
              0.4444444444444444,
              "#bd3786"
             ],
             [
              0.5555555555555556,
              "#d8576b"
             ],
             [
              0.6666666666666666,
              "#ed7953"
             ],
             [
              0.7777777777777778,
              "#fb9f3a"
             ],
             [
              0.8888888888888888,
              "#fdca26"
             ],
             [
              1,
              "#f0f921"
             ]
            ],
            "type": "heatmap"
           }
          ],
          "heatmapgl": [
           {
            "colorbar": {
             "outlinewidth": 0,
             "ticks": ""
            },
            "colorscale": [
             [
              0,
              "#0d0887"
             ],
             [
              0.1111111111111111,
              "#46039f"
             ],
             [
              0.2222222222222222,
              "#7201a8"
             ],
             [
              0.3333333333333333,
              "#9c179e"
             ],
             [
              0.4444444444444444,
              "#bd3786"
             ],
             [
              0.5555555555555556,
              "#d8576b"
             ],
             [
              0.6666666666666666,
              "#ed7953"
             ],
             [
              0.7777777777777778,
              "#fb9f3a"
             ],
             [
              0.8888888888888888,
              "#fdca26"
             ],
             [
              1,
              "#f0f921"
             ]
            ],
            "type": "heatmapgl"
           }
          ],
          "histogram": [
           {
            "marker": {
             "pattern": {
              "fillmode": "overlay",
              "size": 10,
              "solidity": 0.2
             }
            },
            "type": "histogram"
           }
          ],
          "histogram2d": [
           {
            "colorbar": {
             "outlinewidth": 0,
             "ticks": ""
            },
            "colorscale": [
             [
              0,
              "#0d0887"
             ],
             [
              0.1111111111111111,
              "#46039f"
             ],
             [
              0.2222222222222222,
              "#7201a8"
             ],
             [
              0.3333333333333333,
              "#9c179e"
             ],
             [
              0.4444444444444444,
              "#bd3786"
             ],
             [
              0.5555555555555556,
              "#d8576b"
             ],
             [
              0.6666666666666666,
              "#ed7953"
             ],
             [
              0.7777777777777778,
              "#fb9f3a"
             ],
             [
              0.8888888888888888,
              "#fdca26"
             ],
             [
              1,
              "#f0f921"
             ]
            ],
            "type": "histogram2d"
           }
          ],
          "histogram2dcontour": [
           {
            "colorbar": {
             "outlinewidth": 0,
             "ticks": ""
            },
            "colorscale": [
             [
              0,
              "#0d0887"
             ],
             [
              0.1111111111111111,
              "#46039f"
             ],
             [
              0.2222222222222222,
              "#7201a8"
             ],
             [
              0.3333333333333333,
              "#9c179e"
             ],
             [
              0.4444444444444444,
              "#bd3786"
             ],
             [
              0.5555555555555556,
              "#d8576b"
             ],
             [
              0.6666666666666666,
              "#ed7953"
             ],
             [
              0.7777777777777778,
              "#fb9f3a"
             ],
             [
              0.8888888888888888,
              "#fdca26"
             ],
             [
              1,
              "#f0f921"
             ]
            ],
            "type": "histogram2dcontour"
           }
          ],
          "mesh3d": [
           {
            "colorbar": {
             "outlinewidth": 0,
             "ticks": ""
            },
            "type": "mesh3d"
           }
          ],
          "parcoords": [
           {
            "line": {
             "colorbar": {
              "outlinewidth": 0,
              "ticks": ""
             }
            },
            "type": "parcoords"
           }
          ],
          "pie": [
           {
            "automargin": true,
            "type": "pie"
           }
          ],
          "scatter": [
           {
            "fillpattern": {
             "fillmode": "overlay",
             "size": 10,
             "solidity": 0.2
            },
            "type": "scatter"
           }
          ],
          "scatter3d": [
           {
            "line": {
             "colorbar": {
              "outlinewidth": 0,
              "ticks": ""
             }
            },
            "marker": {
             "colorbar": {
              "outlinewidth": 0,
              "ticks": ""
             }
            },
            "type": "scatter3d"
           }
          ],
          "scattercarpet": [
           {
            "marker": {
             "colorbar": {
              "outlinewidth": 0,
              "ticks": ""
             }
            },
            "type": "scattercarpet"
           }
          ],
          "scattergeo": [
           {
            "marker": {
             "colorbar": {
              "outlinewidth": 0,
              "ticks": ""
             }
            },
            "type": "scattergeo"
           }
          ],
          "scattergl": [
           {
            "marker": {
             "colorbar": {
              "outlinewidth": 0,
              "ticks": ""
             }
            },
            "type": "scattergl"
           }
          ],
          "scattermapbox": [
           {
            "marker": {
             "colorbar": {
              "outlinewidth": 0,
              "ticks": ""
             }
            },
            "type": "scattermapbox"
           }
          ],
          "scatterpolar": [
           {
            "marker": {
             "colorbar": {
              "outlinewidth": 0,
              "ticks": ""
             }
            },
            "type": "scatterpolar"
           }
          ],
          "scatterpolargl": [
           {
            "marker": {
             "colorbar": {
              "outlinewidth": 0,
              "ticks": ""
             }
            },
            "type": "scatterpolargl"
           }
          ],
          "scatterternary": [
           {
            "marker": {
             "colorbar": {
              "outlinewidth": 0,
              "ticks": ""
             }
            },
            "type": "scatterternary"
           }
          ],
          "surface": [
           {
            "colorbar": {
             "outlinewidth": 0,
             "ticks": ""
            },
            "colorscale": [
             [
              0,
              "#0d0887"
             ],
             [
              0.1111111111111111,
              "#46039f"
             ],
             [
              0.2222222222222222,
              "#7201a8"
             ],
             [
              0.3333333333333333,
              "#9c179e"
             ],
             [
              0.4444444444444444,
              "#bd3786"
             ],
             [
              0.5555555555555556,
              "#d8576b"
             ],
             [
              0.6666666666666666,
              "#ed7953"
             ],
             [
              0.7777777777777778,
              "#fb9f3a"
             ],
             [
              0.8888888888888888,
              "#fdca26"
             ],
             [
              1,
              "#f0f921"
             ]
            ],
            "type": "surface"
           }
          ],
          "table": [
           {
            "cells": {
             "fill": {
              "color": "#EBF0F8"
             },
             "line": {
              "color": "white"
             }
            },
            "header": {
             "fill": {
              "color": "#C8D4E3"
             },
             "line": {
              "color": "white"
             }
            },
            "type": "table"
           }
          ]
         },
         "layout": {
          "annotationdefaults": {
           "arrowcolor": "#2a3f5f",
           "arrowhead": 0,
           "arrowwidth": 1
          },
          "autotypenumbers": "strict",
          "coloraxis": {
           "colorbar": {
            "outlinewidth": 0,
            "ticks": ""
           }
          },
          "colorscale": {
           "diverging": [
            [
             0,
             "#8e0152"
            ],
            [
             0.1,
             "#c51b7d"
            ],
            [
             0.2,
             "#de77ae"
            ],
            [
             0.3,
             "#f1b6da"
            ],
            [
             0.4,
             "#fde0ef"
            ],
            [
             0.5,
             "#f7f7f7"
            ],
            [
             0.6,
             "#e6f5d0"
            ],
            [
             0.7,
             "#b8e186"
            ],
            [
             0.8,
             "#7fbc41"
            ],
            [
             0.9,
             "#4d9221"
            ],
            [
             1,
             "#276419"
            ]
           ],
           "sequential": [
            [
             0,
             "#0d0887"
            ],
            [
             0.1111111111111111,
             "#46039f"
            ],
            [
             0.2222222222222222,
             "#7201a8"
            ],
            [
             0.3333333333333333,
             "#9c179e"
            ],
            [
             0.4444444444444444,
             "#bd3786"
            ],
            [
             0.5555555555555556,
             "#d8576b"
            ],
            [
             0.6666666666666666,
             "#ed7953"
            ],
            [
             0.7777777777777778,
             "#fb9f3a"
            ],
            [
             0.8888888888888888,
             "#fdca26"
            ],
            [
             1,
             "#f0f921"
            ]
           ],
           "sequentialminus": [
            [
             0,
             "#0d0887"
            ],
            [
             0.1111111111111111,
             "#46039f"
            ],
            [
             0.2222222222222222,
             "#7201a8"
            ],
            [
             0.3333333333333333,
             "#9c179e"
            ],
            [
             0.4444444444444444,
             "#bd3786"
            ],
            [
             0.5555555555555556,
             "#d8576b"
            ],
            [
             0.6666666666666666,
             "#ed7953"
            ],
            [
             0.7777777777777778,
             "#fb9f3a"
            ],
            [
             0.8888888888888888,
             "#fdca26"
            ],
            [
             1,
             "#f0f921"
            ]
           ]
          },
          "colorway": [
           "#636efa",
           "#EF553B",
           "#00cc96",
           "#ab63fa",
           "#FFA15A",
           "#19d3f3",
           "#FF6692",
           "#B6E880",
           "#FF97FF",
           "#FECB52"
          ],
          "font": {
           "color": "#2a3f5f"
          },
          "geo": {
           "bgcolor": "white",
           "lakecolor": "white",
           "landcolor": "#E5ECF6",
           "showlakes": true,
           "showland": true,
           "subunitcolor": "white"
          },
          "hoverlabel": {
           "align": "left"
          },
          "hovermode": "closest",
          "mapbox": {
           "style": "light"
          },
          "paper_bgcolor": "white",
          "plot_bgcolor": "#E5ECF6",
          "polar": {
           "angularaxis": {
            "gridcolor": "white",
            "linecolor": "white",
            "ticks": ""
           },
           "bgcolor": "#E5ECF6",
           "radialaxis": {
            "gridcolor": "white",
            "linecolor": "white",
            "ticks": ""
           }
          },
          "scene": {
           "xaxis": {
            "backgroundcolor": "#E5ECF6",
            "gridcolor": "white",
            "gridwidth": 2,
            "linecolor": "white",
            "showbackground": true,
            "ticks": "",
            "zerolinecolor": "white"
           },
           "yaxis": {
            "backgroundcolor": "#E5ECF6",
            "gridcolor": "white",
            "gridwidth": 2,
            "linecolor": "white",
            "showbackground": true,
            "ticks": "",
            "zerolinecolor": "white"
           },
           "zaxis": {
            "backgroundcolor": "#E5ECF6",
            "gridcolor": "white",
            "gridwidth": 2,
            "linecolor": "white",
            "showbackground": true,
            "ticks": "",
            "zerolinecolor": "white"
           }
          },
          "shapedefaults": {
           "line": {
            "color": "#2a3f5f"
           }
          },
          "ternary": {
           "aaxis": {
            "gridcolor": "white",
            "linecolor": "white",
            "ticks": ""
           },
           "baxis": {
            "gridcolor": "white",
            "linecolor": "white",
            "ticks": ""
           },
           "bgcolor": "#E5ECF6",
           "caxis": {
            "gridcolor": "white",
            "linecolor": "white",
            "ticks": ""
           }
          },
          "title": {
           "x": 0.05
          },
          "xaxis": {
           "automargin": true,
           "gridcolor": "white",
           "linecolor": "white",
           "ticks": "",
           "title": {
            "standoff": 15
           },
           "zerolinecolor": "white",
           "zerolinewidth": 2
          },
          "yaxis": {
           "automargin": true,
           "gridcolor": "white",
           "linecolor": "white",
           "ticks": "",
           "title": {
            "standoff": 15
           },
           "zerolinecolor": "white",
           "zerolinewidth": 2
          }
         }
        },
        "xaxis": {
         "anchor": "y",
         "autorange": true,
         "domain": [
          0,
          1
         ],
         "range": [
          -1.258390981296439,
          20.25839098129644
         ],
         "title": {
          "text": "index"
         },
         "type": "linear"
        },
        "yaxis": {
         "anchor": "x",
         "domain": [
          0,
          1
         ],
         "range": [
          0.7,
          1
         ],
         "title": {
          "text": "0"
         },
         "type": "linear"
        }
       }
      },
      "image/png": "[encoded data removed]",
      "text/html": [
       "<div>                            <div id=\"2f0b36ef-fa0f-472a-831d-cb0380d7459a\" class=\"plotly-graph-div\" style=\"height:800px; width:100%;\"></div>            <script type=\"text/javascript\">                require([\"plotly\"], function(Plotly) {                    window.PLOTLYENV=window.PLOTLYENV || {};                                    if (document.getElementById(\"2f0b36ef-fa0f-472a-831d-cb0380d7459a\")) {                    Plotly.newPlot(                        \"2f0b36ef-fa0f-472a-831d-cb0380d7459a\",                        [{\"hovertemplate\":\"study=SE\\u003cbr\\u003eindex=%{x}\\u003cbr\\u003e0=%{y}\\u003cextra\\u003e\\u003c\\u002fextra\\u003e\",\"legendgroup\":\"SE\",\"line\":{\"color\":\"#636efa\",\"dash\":\"solid\"},\"marker\":{\"symbol\":\"circle\"},\"mode\":\"lines+markers\",\"name\":\"SE\",\"orientation\":\"v\",\"showlegend\":true,\"x\":[0,1,2,3,4,5,6,7,8,9,10,11,12,13,14,15,16,17,18,19],\"xaxis\":\"x\",\"y\":[0.8841148613125033,0.8699209968819255,0.8818804548114395,0.7597351726215973,0.9149049951170056,0.9296110434054191,0.9468210595862943,0.9736550527600605,0.9595500064312428,0.9468682975666671,0.9192164024023681,0.9789205823066527,0.9919570133063569,0.9858462068662788,0.9965267890946568,0.9965275573469844,0.998128250820134,0.9993262054698229,0.9999724164628343,0.9999614083249974],\"yaxis\":\"y\",\"type\":\"scatter\"},{\"hovertemplate\":\"study=SE_D\\u003cbr\\u003eindex=%{x}\\u003cbr\\u003e0=%{y}\\u003cextra\\u003e\\u003c\\u002fextra\\u003e\",\"legendgroup\":\"SE_D\",\"line\":{\"color\":\"#EF553B\",\"dash\":\"solid\"},\"marker\":{\"symbol\":\"circle\"},\"mode\":\"lines+markers\",\"name\":\"SE_D\",\"orientation\":\"v\",\"showlegend\":true,\"x\":[0,1,2,3,4,5,6,7,8,9,10,11,12,13,14,15,16,17,18,19],\"xaxis\":\"x\",\"y\":[0.7827052175039281,0.8047573825144566,0.7727747232138252,0.8975155752523056,0.9113528111622616,0.9107396767393812,0.9404128594834307,0.9316979345906092,0.9456788203953082,0.9581630523070059,0.9747159412333359,0.9816758529977297,0.9734889675994862,0.989481769362365,0.9949891658538877,0.9978167202163573,0.998542444337213,0.9983418717426622,0.9993824692267781,0.9996318527590073],\"yaxis\":\"y\",\"type\":\"scatter\"},{\"hovertemplate\":\"study=NOSE_D\\u003cbr\\u003eindex=%{x}\\u003cbr\\u003e0=%{y}\\u003cextra\\u003e\\u003c\\u002fextra\\u003e\",\"legendgroup\":\"NOSE_D\",\"line\":{\"color\":\"#00cc96\",\"dash\":\"solid\"},\"marker\":{\"symbol\":\"circle\"},\"mode\":\"lines+markers\",\"name\":\"NOSE_D\",\"orientation\":\"v\",\"showlegend\":true,\"x\":[0,1,2,3,4,5,6,7,8,9,10,11,12,13,14,15,16,17,18,19],\"xaxis\":\"x\",\"y\":[0.9153164618692897,0.7561037101995395,0.8654383646015729,0.8757501633357584,0.9368795029212332,0.4645978406949569,0.9338687852899259,0.8924034067298773,0.9154642282070425,0.9557183132253825,0.9673619280271802,0.993282824577197,0.967838843302972,0.9911609947768787,0.9990768316536953,0.9987884180548835,0.999601067060892,0.9998158741801833,0.9999509155216739,0.9999999999999998],\"yaxis\":\"y\",\"type\":\"scatter\"},{\"hovertemplate\":\"study=NOSE_NOD\\u003cbr\\u003eindex=%{x}\\u003cbr\\u003e0=%{y}\\u003cextra\\u003e\\u003c\\u002fextra\\u003e\",\"legendgroup\":\"NOSE_NOD\",\"line\":{\"color\":\"#ab63fa\",\"dash\":\"solid\"},\"marker\":{\"symbol\":\"circle\"},\"mode\":\"lines+markers\",\"name\":\"NOSE_NOD\",\"orientation\":\"v\",\"showlegend\":true,\"x\":[0,1,2,3,4,5,6,7,8,9,10,11,12,13,14,15,16,17,18,19],\"xaxis\":\"x\",\"y\":[0.8867731949116964,0.8929960946044404,0.7919286900847592,0.7600577853708548,0.8768908081296317,0.919238310673617,0.9258980241715581,0.9195721364125827,0.9332593880521644,0.9838254039141971,0.9733710107993258,0.9756191385435989,0.9734850682864343,0.9926666977349722,0.9982121784531286,0.9830701056054365,0.9980899753853134,0.9998587222117629,0.9998794680907965,1.0],\"yaxis\":\"y\",\"type\":\"scatter\"},{\"hovertemplate\":\"study=NOSE_D_DropPath\\u003cbr\\u003eindex=%{x}\\u003cbr\\u003e0=%{y}\\u003cextra\\u003e\\u003c\\u002fextra\\u003e\",\"legendgroup\":\"NOSE_D_DropPath\",\"line\":{\"color\":\"#FFA15A\",\"dash\":\"solid\"},\"marker\":{\"symbol\":\"circle\"},\"mode\":\"lines+markers\",\"name\":\"NOSE_D_DropPath\",\"orientation\":\"v\",\"showlegend\":true,\"x\":[0,1,2,3,4,5,6,7,8,9,10,11,12,13,14,15,16,17,18,19],\"xaxis\":\"x\",\"y\":[0.8926543275407655,0.7096966070467268,0.9299072661165678,0.7760459926144967,0.9216631609983253,0.7900506569612675,0.9068856904676382,0.964622446185265,0.951848460546959,0.96228746550129,0.9792870349804479,0.9763754567929762,0.9655812165587011,0.9923989949028243,0.9975974391046397,0.9985691758078812,0.9996769225129826,0.9995614735101473,0.9997853999364725,0.9999881867239879],\"yaxis\":\"y\",\"type\":\"scatter\"}],                        {\"template\":{\"data\":{\"histogram2dcontour\":[{\"type\":\"histogram2dcontour\",\"colorbar\":{\"outlinewidth\":0,\"ticks\":\"\"},\"colorscale\":[[0.0,\"#0d0887\"],[0.1111111111111111,\"#46039f\"],[0.2222222222222222,\"#7201a8\"],[0.3333333333333333,\"#9c179e\"],[0.4444444444444444,\"#bd3786\"],[0.5555555555555556,\"#d8576b\"],[0.6666666666666666,\"#ed7953\"],[0.7777777777777778,\"#fb9f3a\"],[0.8888888888888888,\"#fdca26\"],[1.0,\"#f0f921\"]]}],\"choropleth\":[{\"type\":\"choropleth\",\"colorbar\":{\"outlinewidth\":0,\"ticks\":\"\"}}],\"histogram2d\":[{\"type\":\"histogram2d\",\"colorbar\":{\"outlinewidth\":0,\"ticks\":\"\"},\"colorscale\":[[0.0,\"#0d0887\"],[0.1111111111111111,\"#46039f\"],[0.2222222222222222,\"#7201a8\"],[0.3333333333333333,\"#9c179e\"],[0.4444444444444444,\"#bd3786\"],[0.5555555555555556,\"#d8576b\"],[0.6666666666666666,\"#ed7953\"],[0.7777777777777778,\"#fb9f3a\"],[0.8888888888888888,\"#fdca26\"],[1.0,\"#f0f921\"]]}],\"heatmap\":[{\"type\":\"heatmap\",\"colorbar\":{\"outlinewidth\":0,\"ticks\":\"\"},\"colorscale\":[[0.0,\"#0d0887\"],[0.1111111111111111,\"#46039f\"],[0.2222222222222222,\"#7201a8\"],[0.3333333333333333,\"#9c179e\"],[0.4444444444444444,\"#bd3786\"],[0.5555555555555556,\"#d8576b\"],[0.6666666666666666,\"#ed7953\"],[0.7777777777777778,\"#fb9f3a\"],[0.8888888888888888,\"#fdca26\"],[1.0,\"#f0f921\"]]}],\"heatmapgl\":[{\"type\":\"heatmapgl\",\"colorbar\":{\"outlinewidth\":0,\"ticks\":\"\"},\"colorscale\":[[0.0,\"#0d0887\"],[0.1111111111111111,\"#46039f\"],[0.2222222222222222,\"#7201a8\"],[0.3333333333333333,\"#9c179e\"],[0.4444444444444444,\"#bd3786\"],[0.5555555555555556,\"#d8576b\"],[0.6666666666666666,\"#ed7953\"],[0.7777777777777778,\"#fb9f3a\"],[0.8888888888888888,\"#fdca26\"],[1.0,\"#f0f921\"]]}],\"contourcarpet\":[{\"type\":\"contourcarpet\",\"colorbar\":{\"outlinewidth\":0,\"ticks\":\"\"}}],\"contour\":[{\"type\":\"contour\",\"colorbar\":{\"outlinewidth\":0,\"ticks\":\"\"},\"colorscale\":[[0.0,\"#0d0887\"],[0.1111111111111111,\"#46039f\"],[0.2222222222222222,\"#7201a8\"],[0.3333333333333333,\"#9c179e\"],[0.4444444444444444,\"#bd3786\"],[0.5555555555555556,\"#d8576b\"],[0.6666666666666666,\"#ed7953\"],[0.7777777777777778,\"#fb9f3a\"],[0.8888888888888888,\"#fdca26\"],[1.0,\"#f0f921\"]]}],\"surface\":[{\"type\":\"surface\",\"colorbar\":{\"outlinewidth\":0,\"ticks\":\"\"},\"colorscale\":[[0.0,\"#0d0887\"],[0.1111111111111111,\"#46039f\"],[0.2222222222222222,\"#7201a8\"],[0.3333333333333333,\"#9c179e\"],[0.4444444444444444,\"#bd3786\"],[0.5555555555555556,\"#d8576b\"],[0.6666666666666666,\"#ed7953\"],[0.7777777777777778,\"#fb9f3a\"],[0.8888888888888888,\"#fdca26\"],[1.0,\"#f0f921\"]]}],\"mesh3d\":[{\"type\":\"mesh3d\",\"colorbar\":{\"outlinewidth\":0,\"ticks\":\"\"}}],\"scatter\":[{\"fillpattern\":{\"fillmode\":\"overlay\",\"size\":10,\"solidity\":0.2},\"type\":\"scatter\"}],\"parcoords\":[{\"type\":\"parcoords\",\"line\":{\"colorbar\":{\"outlinewidth\":0,\"ticks\":\"\"}}}],\"scatterpolargl\":[{\"type\":\"scatterpolargl\",\"marker\":{\"colorbar\":{\"outlinewidth\":0,\"ticks\":\"\"}}}],\"bar\":[{\"error_x\":{\"color\":\"#2a3f5f\"},\"error_y\":{\"color\":\"#2a3f5f\"},\"marker\":{\"line\":{\"color\":\"#E5ECF6\",\"width\":0.5},\"pattern\":{\"fillmode\":\"overlay\",\"size\":10,\"solidity\":0.2}},\"type\":\"bar\"}],\"scattergeo\":[{\"type\":\"scattergeo\",\"marker\":{\"colorbar\":{\"outlinewidth\":0,\"ticks\":\"\"}}}],\"scatterpolar\":[{\"type\":\"scatterpolar\",\"marker\":{\"colorbar\":{\"outlinewidth\":0,\"ticks\":\"\"}}}],\"histogram\":[{\"marker\":{\"pattern\":{\"fillmode\":\"overlay\",\"size\":10,\"solidity\":0.2}},\"type\":\"histogram\"}],\"scattergl\":[{\"type\":\"scattergl\",\"marker\":{\"colorbar\":{\"outlinewidth\":0,\"ticks\":\"\"}}}],\"scatter3d\":[{\"type\":\"scatter3d\",\"line\":{\"colorbar\":{\"outlinewidth\":0,\"ticks\":\"\"}},\"marker\":{\"colorbar\":{\"outlinewidth\":0,\"ticks\":\"\"}}}],\"scattermapbox\":[{\"type\":\"scattermapbox\",\"marker\":{\"colorbar\":{\"outlinewidth\":0,\"ticks\":\"\"}}}],\"scatterternary\":[{\"type\":\"scatterternary\",\"marker\":{\"colorbar\":{\"outlinewidth\":0,\"ticks\":\"\"}}}],\"scattercarpet\":[{\"type\":\"scattercarpet\",\"marker\":{\"colorbar\":{\"outlinewidth\":0,\"ticks\":\"\"}}}],\"carpet\":[{\"aaxis\":{\"endlinecolor\":\"#2a3f5f\",\"gridcolor\":\"white\",\"linecolor\":\"white\",\"minorgridcolor\":\"white\",\"startlinecolor\":\"#2a3f5f\"},\"baxis\":{\"endlinecolor\":\"#2a3f5f\",\"gridcolor\":\"white\",\"linecolor\":\"white\",\"minorgridcolor\":\"white\",\"startlinecolor\":\"#2a3f5f\"},\"type\":\"carpet\"}],\"table\":[{\"cells\":{\"fill\":{\"color\":\"#EBF0F8\"},\"line\":{\"color\":\"white\"}},\"header\":{\"fill\":{\"color\":\"#C8D4E3\"},\"line\":{\"color\":\"white\"}},\"type\":\"table\"}],\"barpolar\":[{\"marker\":{\"line\":{\"color\":\"#E5ECF6\",\"width\":0.5},\"pattern\":{\"fillmode\":\"overlay\",\"size\":10,\"solidity\":0.2}},\"type\":\"barpolar\"}],\"pie\":[{\"automargin\":true,\"type\":\"pie\"}]},\"layout\":{\"autotypenumbers\":\"strict\",\"colorway\":[\"#636efa\",\"#EF553B\",\"#00cc96\",\"#ab63fa\",\"#FFA15A\",\"#19d3f3\",\"#FF6692\",\"#B6E880\",\"#FF97FF\",\"#FECB52\"],\"font\":{\"color\":\"#2a3f5f\"},\"hovermode\":\"closest\",\"hoverlabel\":{\"align\":\"left\"},\"paper_bgcolor\":\"white\",\"plot_bgcolor\":\"#E5ECF6\",\"polar\":{\"bgcolor\":\"#E5ECF6\",\"angularaxis\":{\"gridcolor\":\"white\",\"linecolor\":\"white\",\"ticks\":\"\"},\"radialaxis\":{\"gridcolor\":\"white\",\"linecolor\":\"white\",\"ticks\":\"\"}},\"ternary\":{\"bgcolor\":\"#E5ECF6\",\"aaxis\":{\"gridcolor\":\"white\",\"linecolor\":\"white\",\"ticks\":\"\"},\"baxis\":{\"gridcolor\":\"white\",\"linecolor\":\"white\",\"ticks\":\"\"},\"caxis\":{\"gridcolor\":\"white\",\"linecolor\":\"white\",\"ticks\":\"\"}},\"coloraxis\":{\"colorbar\":{\"outlinewidth\":0,\"ticks\":\"\"}},\"colorscale\":{\"sequential\":[[0.0,\"#0d0887\"],[0.1111111111111111,\"#46039f\"],[0.2222222222222222,\"#7201a8\"],[0.3333333333333333,\"#9c179e\"],[0.4444444444444444,\"#bd3786\"],[0.5555555555555556,\"#d8576b\"],[0.6666666666666666,\"#ed7953\"],[0.7777777777777778,\"#fb9f3a\"],[0.8888888888888888,\"#fdca26\"],[1.0,\"#f0f921\"]],\"sequentialminus\":[[0.0,\"#0d0887\"],[0.1111111111111111,\"#46039f\"],[0.2222222222222222,\"#7201a8\"],[0.3333333333333333,\"#9c179e\"],[0.4444444444444444,\"#bd3786\"],[0.5555555555555556,\"#d8576b\"],[0.6666666666666666,\"#ed7953\"],[0.7777777777777778,\"#fb9f3a\"],[0.8888888888888888,\"#fdca26\"],[1.0,\"#f0f921\"]],\"diverging\":[[0,\"#8e0152\"],[0.1,\"#c51b7d\"],[0.2,\"#de77ae\"],[0.3,\"#f1b6da\"],[0.4,\"#fde0ef\"],[0.5,\"#f7f7f7\"],[0.6,\"#e6f5d0\"],[0.7,\"#b8e186\"],[0.8,\"#7fbc41\"],[0.9,\"#4d9221\"],[1,\"#276419\"]]},\"xaxis\":{\"gridcolor\":\"white\",\"linecolor\":\"white\",\"ticks\":\"\",\"title\":{\"standoff\":15},\"zerolinecolor\":\"white\",\"automargin\":true,\"zerolinewidth\":2},\"yaxis\":{\"gridcolor\":\"white\",\"linecolor\":\"white\",\"ticks\":\"\",\"title\":{\"standoff\":15},\"zerolinecolor\":\"white\",\"automargin\":true,\"zerolinewidth\":2},\"scene\":{\"xaxis\":{\"backgroundcolor\":\"#E5ECF6\",\"gridcolor\":\"white\",\"linecolor\":\"white\",\"showbackground\":true,\"ticks\":\"\",\"zerolinecolor\":\"white\",\"gridwidth\":2},\"yaxis\":{\"backgroundcolor\":\"#E5ECF6\",\"gridcolor\":\"white\",\"linecolor\":\"white\",\"showbackground\":true,\"ticks\":\"\",\"zerolinecolor\":\"white\",\"gridwidth\":2},\"zaxis\":{\"backgroundcolor\":\"#E5ECF6\",\"gridcolor\":\"white\",\"linecolor\":\"white\",\"showbackground\":true,\"ticks\":\"\",\"zerolinecolor\":\"white\",\"gridwidth\":2}},\"shapedefaults\":{\"line\":{\"color\":\"#2a3f5f\"}},\"annotationdefaults\":{\"arrowcolor\":\"#2a3f5f\",\"arrowhead\":0,\"arrowwidth\":1},\"geo\":{\"bgcolor\":\"white\",\"landcolor\":\"#E5ECF6\",\"subunitcolor\":\"white\",\"showland\":true,\"showlakes\":true,\"lakecolor\":\"white\"},\"title\":{\"x\":0.05},\"mapbox\":{\"style\":\"light\"}}},\"xaxis\":{\"anchor\":\"y\",\"domain\":[0.0,1.0],\"title\":{\"text\":\"index\"}},\"yaxis\":{\"anchor\":\"x\",\"domain\":[0.0,1.0],\"title\":{\"text\":\"0\"},\"range\":[0.7,1]},\"legend\":{\"title\":{\"text\":\"study\"},\"tracegroupgap\":0},\"margin\":{\"t\":60},\"height\":800},                        {\"responsive\": true}                    ).then(function(){\n",
       "                            \n",
       "var gd = document.getElementById('2f0b36ef-fa0f-472a-831d-cb0380d7459a');\n",
       "var x = new MutationObserver(function (mutations, observer) {{\n",
       "        var display = window.getComputedStyle(gd).display;\n",
       "        if (!display || display === 'none') {{\n",
       "            console.log([gd, 'removed!']);\n",
       "            Plotly.purge(gd);\n",
       "            observer.disconnect();\n",
       "        }}\n",
       "}});\n",
       "\n",
       "// Listen for the removal of the full notebook cells\n",
       "var notebookContainer = gd.closest('#notebook-container');\n",
       "if (notebookContainer) {{\n",
       "    x.observe(notebookContainer, {childList: true});\n",
       "}}\n",
       "\n",
       "// Listen for the clearing of the current output cell\n",
       "var outputEl = gd.closest('.output');\n",
       "if (outputEl) {{\n",
       "    x.observe(outputEl, {childList: true});\n",
       "}}\n",
       "\n",
       "                        })                };                });            </script>        </div>"
      ]
     },
     "metadata": {},
     "output_type": "display_data"
    }
   ],
   "source": [
    "import plotly.express as px\n",
    "scatter_df=pd.concat([corr_coeff_vainilla[\"SE\"],corr_coeff_vainilla[\"SE_D\"],corr_coeff_vainilla[\"NOSE_D\"],corr_coeff_vainilla[\"NOSE_NOD\"], corr_coeff_vainilla[\"NOSE_D_DropPath\"]])\n",
    "fig = px.line(scatter_df,x=\"index\", y=0,color='study', markers=True)\n",
    "#fig.add_scatter(x=x, y=y_std, mode='markers', name='Data2',trendline=\"ols\", marker=dict(color='green'))\n",
    "fig.update_layout(height=800)\n",
    "fig.update_yaxes(range=[0.7, 1]) \n",
    "fig.show()"
   ]
  },
  {
   "cell_type": "code",
   "execution_count": 47,
   "id": "6bd46f90-6ddd-43ab-a1ab-b511e71f9671",
   "metadata": {
    "tags": []
   },
   "outputs": [
    {
     "data": {
      "text/html": [
       "<div>\n",
       "<style scoped>\n",
       "    .dataframe tbody tr th:only-of-type {\n",
       "        vertical-align: middle;\n",
       "    }\n",
       "\n",
       "    .dataframe tbody tr th {\n",
       "        vertical-align: top;\n",
       "    }\n",
       "\n",
       "    .dataframe thead th {\n",
       "        text-align: right;\n",
       "    }\n",
       "</style>\n",
       "<table border=\"1\" class=\"dataframe\">\n",
       "  <thead>\n",
       "    <tr style=\"text-align: right;\">\n",
       "      <th></th>\n",
       "      <th>level_0</th>\n",
       "      <th>index</th>\n",
       "      <th>epoch</th>\n",
       "      <th>lr</th>\n",
       "      <th>train_acc</th>\n",
       "      <th>train_loss</th>\n",
       "      <th>best_acc</th>\n",
       "      <th>test_acc_top5</th>\n",
       "      <th>test_loss</th>\n",
       "      <th>epoch_time</th>\n",
       "      <th>name</th>\n",
       "      <th>study</th>\n",
       "    </tr>\n",
       "  </thead>\n",
       "  <tbody>\n",
       "    <tr>\n",
       "      <th>0</th>\n",
       "      <td>0</td>\n",
       "      <td>19</td>\n",
       "      <td>20</td>\n",
       "      <td>0.000062</td>\n",
       "      <td>50.28</td>\n",
       "      <td>1.50</td>\n",
       "      <td>52.12</td>\n",
       "      <td>87.22</td>\n",
       "      <td>1.48</td>\n",
       "      <td>84.96</td>\n",
       "      <td>olive_wasp</td>\n",
       "      <td>NOSE_D</td>\n",
       "    </tr>\n",
       "    <tr>\n",
       "      <th>1</th>\n",
       "      <td>1</td>\n",
       "      <td>179</td>\n",
       "      <td>20</td>\n",
       "      <td>0.000062</td>\n",
       "      <td>66.92</td>\n",
       "      <td>1.04</td>\n",
       "      <td>68.45</td>\n",
       "      <td>94.04</td>\n",
       "      <td>1.01</td>\n",
       "      <td>49.73</td>\n",
       "      <td>honest_saluki</td>\n",
       "      <td>NOSE_D</td>\n",
       "    </tr>\n",
       "    <tr>\n",
       "      <th>2</th>\n",
       "      <td>2</td>\n",
       "      <td>139</td>\n",
       "      <td>20</td>\n",
       "      <td>0.000062</td>\n",
       "      <td>72.22</td>\n",
       "      <td>0.88</td>\n",
       "      <td>72.87</td>\n",
       "      <td>95.31</td>\n",
       "      <td>0.86</td>\n",
       "      <td>50.45</td>\n",
       "      <td>zircon_toad</td>\n",
       "      <td>NOSE_D</td>\n",
       "    </tr>\n",
       "    <tr>\n",
       "      <th>3</th>\n",
       "      <td>3</td>\n",
       "      <td>199</td>\n",
       "      <td>20</td>\n",
       "      <td>0.000062</td>\n",
       "      <td>72.65</td>\n",
       "      <td>0.87</td>\n",
       "      <td>73.69</td>\n",
       "      <td>95.42</td>\n",
       "      <td>0.84</td>\n",
       "      <td>45.29</td>\n",
       "      <td>neat_puffin</td>\n",
       "      <td>NOSE_D</td>\n",
       "    </tr>\n",
       "    <tr>\n",
       "      <th>4</th>\n",
       "      <td>4</td>\n",
       "      <td>99</td>\n",
       "      <td>20</td>\n",
       "      <td>0.000062</td>\n",
       "      <td>79.15</td>\n",
       "      <td>0.66</td>\n",
       "      <td>79.15</td>\n",
       "      <td>96.95</td>\n",
       "      <td>0.68</td>\n",
       "      <td>55.19</td>\n",
       "      <td>astute_badger</td>\n",
       "      <td>NOSE_D</td>\n",
       "    </tr>\n",
       "    <tr>\n",
       "      <th>5</th>\n",
       "      <td>5</td>\n",
       "      <td>79</td>\n",
       "      <td>20</td>\n",
       "      <td>0.000062</td>\n",
       "      <td>78.70</td>\n",
       "      <td>0.68</td>\n",
       "      <td>79.37</td>\n",
       "      <td>96.85</td>\n",
       "      <td>0.68</td>\n",
       "      <td>40.92</td>\n",
       "      <td>loyal_tiger</td>\n",
       "      <td>NOSE_D</td>\n",
       "    </tr>\n",
       "    <tr>\n",
       "      <th>6</th>\n",
       "      <td>6</td>\n",
       "      <td>39</td>\n",
       "      <td>20</td>\n",
       "      <td>0.000062</td>\n",
       "      <td>81.00</td>\n",
       "      <td>0.61</td>\n",
       "      <td>80.34</td>\n",
       "      <td>97.11</td>\n",
       "      <td>0.64</td>\n",
       "      <td>62.21</td>\n",
       "      <td>hospitable_pronghorn</td>\n",
       "      <td>NOSE_D</td>\n",
       "    </tr>\n",
       "    <tr>\n",
       "      <th>7</th>\n",
       "      <td>7</td>\n",
       "      <td>159</td>\n",
       "      <td>20</td>\n",
       "      <td>0.000062</td>\n",
       "      <td>85.35</td>\n",
       "      <td>0.47</td>\n",
       "      <td>84.03</td>\n",
       "      <td>97.83</td>\n",
       "      <td>0.53</td>\n",
       "      <td>51.02</td>\n",
       "      <td>hypersonic_sambar</td>\n",
       "      <td>NOSE_D</td>\n",
       "    </tr>\n",
       "    <tr>\n",
       "      <th>8</th>\n",
       "      <td>8</td>\n",
       "      <td>59</td>\n",
       "      <td>20</td>\n",
       "      <td>0.000062</td>\n",
       "      <td>85.62</td>\n",
       "      <td>0.46</td>\n",
       "      <td>84.39</td>\n",
       "      <td>97.95</td>\n",
       "      <td>0.52</td>\n",
       "      <td>61.56</td>\n",
       "      <td>spectral_hare</td>\n",
       "      <td>NOSE_D</td>\n",
       "    </tr>\n",
       "    <tr>\n",
       "      <th>9</th>\n",
       "      <td>9</td>\n",
       "      <td>119</td>\n",
       "      <td>20</td>\n",
       "      <td>0.000062</td>\n",
       "      <td>87.78</td>\n",
       "      <td>0.39</td>\n",
       "      <td>85.92</td>\n",
       "      <td>98.35</td>\n",
       "      <td>0.47</td>\n",
       "      <td>70.71</td>\n",
       "      <td>quizzical_caiman</td>\n",
       "      <td>NOSE_D</td>\n",
       "    </tr>\n",
       "  </tbody>\n",
       "</table>\n",
       "</div>"
      ],
      "text/plain": [
       "   level_0  index  epoch        lr  train_acc  train_loss  best_acc  \\\n",
       "0        0     19     20  0.000062      50.28        1.50     52.12   \n",
       "1        1    179     20  0.000062      66.92        1.04     68.45   \n",
       "2        2    139     20  0.000062      72.22        0.88     72.87   \n",
       "3        3    199     20  0.000062      72.65        0.87     73.69   \n",
       "4        4     99     20  0.000062      79.15        0.66     79.15   \n",
       "5        5     79     20  0.000062      78.70        0.68     79.37   \n",
       "6        6     39     20  0.000062      81.00        0.61     80.34   \n",
       "7        7    159     20  0.000062      85.35        0.47     84.03   \n",
       "8        8     59     20  0.000062      85.62        0.46     84.39   \n",
       "9        9    119     20  0.000062      87.78        0.39     85.92   \n",
       "\n",
       "   test_acc_top5  test_loss  epoch_time                  name   study  \n",
       "0          87.22       1.48       84.96            olive_wasp  NOSE_D  \n",
       "1          94.04       1.01       49.73         honest_saluki  NOSE_D  \n",
       "2          95.31       0.86       50.45           zircon_toad  NOSE_D  \n",
       "3          95.42       0.84       45.29           neat_puffin  NOSE_D  \n",
       "4          96.95       0.68       55.19         astute_badger  NOSE_D  \n",
       "5          96.85       0.68       40.92           loyal_tiger  NOSE_D  \n",
       "6          97.11       0.64       62.21  hospitable_pronghorn  NOSE_D  \n",
       "7          97.83       0.53       51.02     hypersonic_sambar  NOSE_D  \n",
       "8          97.95       0.52       61.56         spectral_hare  NOSE_D  \n",
       "9          98.35       0.47       70.71      quizzical_caiman  NOSE_D  "
      ]
     },
     "execution_count": 47,
     "metadata": {},
     "output_type": "execute_result"
    }
   ],
   "source": [
    "sorted_df[\"NOSE_D\"]"
   ]
  },
  {
   "cell_type": "markdown",
   "id": "28c7589f-8191-4d10-a550-ad0f70d30fdf",
   "metadata": {},
   "source": [
    "# CIFARTile"
   ]
  },
  {
   "cell_type": "code",
   "execution_count": 176,
   "id": "9d5e54aa-708f-48e7-95b6-d314e3985a0a",
   "metadata": {
    "collapsed": true,
    "jupyter": {
     "outputs_hidden": true
    },
    "tags": []
   },
   "outputs": [
    {
     "name": "stdout",
     "output_type": "stream",
     "text": [
      "res_bottleneck_block\n",
      "{'bot_mul': 1.0, 'group_w': 16, 'se_r': 0.25, 'downsample': 'avg', 'drop_path_rate': 0.0}\n",
      "{'bot_mul': 1.0, 'group_w': 16, 'se_r': 0.25, 'downsample': 'avg', 'drop_path_rate': 0.0}\n",
      "{'bot_mul': 1.0, 'group_w': 16, 'se_r': 0.25, 'downsample': 'avg', 'drop_path_rate': 0.0}\n",
      "{'bot_mul': 1.0, 'group_w': 16, 'se_r': 0.25, 'downsample': 'avg', 'drop_path_rate': 0.0}\n",
      "{'stem_type': 'res_stem_cifar', 'stem_w': 28, 'block_type': 'res_bottleneck_block', 'depths': [1, 4, 6, 8], 'widths': [32, 64, 144, 288], 'strides': [2, 2, 2, 2], 'bot_muls': [1.0, 1.0, 1.0, 1.0], 'group_ws': [16, 16, 16, 16], 'head_w': 0, 'se_r': 0.25, 'num_classes': 20, 'downsample': 'avg', 'drop_path_rate': 0.0}\n",
      "Loading model: tests_filtered_regnet/Generation_1/steel_rook/config.yaml\n",
      "res_bottleneck_block\n",
      "res_bottleneck_block\n",
      "{'bot_mul': 1.0, 'group_w': 16, 'se_r': 0.25, 'downsample': 'avg', 'drop_path_rate': 0.0}\n",
      "{'bot_mul': 1.0, 'group_w': 16, 'se_r': 0.25, 'downsample': 'avg', 'drop_path_rate': 0.0}\n",
      "{'stem_type': 'res_stem_cifar', 'stem_w': 28, 'block_type': 'res_bottleneck_block', 'depths': [5, 8], 'widths': [64, 160], 'strides': [2, 2], 'bot_muls': [1.0, 1.0], 'group_ws': [16, 16], 'head_w': 0, 'se_r': 0.25, 'num_classes': 20, 'downsample': 'avg', 'drop_path_rate': 0.0}\n",
      "Loading model: tests_filtered_regnet/Generation_1/succinct_sloth/config.yaml\n",
      "res_bottleneck_block\n",
      "res_bottleneck_block\n",
      "{'bot_mul': 1.0, 'group_w': 8, 'se_r': 0.25, 'downsample': 'avg', 'drop_path_rate': 0.0}\n",
      "{'bot_mul': 1.0, 'group_w': 8, 'se_r': 0.25, 'downsample': 'avg', 'drop_path_rate': 0.0}\n",
      "{'bot_mul': 1.0, 'group_w': 8, 'se_r': 0.25, 'downsample': 'avg', 'drop_path_rate': 0.0}\n",
      "{'stem_type': 'res_stem_cifar', 'stem_w': 28, 'block_type': 'res_bottleneck_block', 'depths': [2, 5, 11], 'widths': [64, 184, 536], 'strides': [2, 2, 2], 'bot_muls': [1.0, 1.0, 1.0], 'group_ws': [8, 8, 8], 'head_w': 0, 'se_r': 0.25, 'num_classes': 20, 'downsample': 'avg', 'drop_path_rate': 0.0}\n",
      "Loading model: tests_filtered_regnet/Generation_1/amorphous_earthworm/config.yaml\n",
      "res_bottleneck_block\n",
      "res_bottleneck_block\n",
      "{'bot_mul': 1.0, 'group_w': 16, 'se_r': 0.25, 'downsample': 'avg', 'drop_path_rate': 0.0}\n",
      "{'bot_mul': 1.0, 'group_w': 16, 'se_r': 0.25, 'downsample': 'avg', 'drop_path_rate': 0.0}\n",
      "{'stem_type': 'res_stem_cifar', 'stem_w': 28, 'block_type': 'res_bottleneck_block', 'depths': [4, 9], 'widths': [64, 128], 'strides': [2, 2], 'bot_muls': [1.0, 1.0], 'group_ws': [16, 16], 'head_w': 0, 'se_r': 0.25, 'num_classes': 20, 'downsample': 'avg', 'drop_path_rate': 0.0}\n",
      "Loading model: tests_filtered_regnet/Generation_1/nano_caracal/config.yaml\n",
      "res_bottleneck_block\n",
      "res_bottleneck_block\n",
      "{'bot_mul': 1.0, 'group_w': 8, 'se_r': 0.25, 'downsample': 'avg', 'drop_path_rate': 0.0}\n",
      "{'bot_mul': 1.0, 'group_w': 8, 'se_r': 0.25, 'downsample': 'avg', 'drop_path_rate': 0.0}\n",
      "{'bot_mul': 1.0, 'group_w': 8, 'se_r': 0.25, 'downsample': 'avg', 'drop_path_rate': 0.0}\n",
      "{'bot_mul': 1.0, 'group_w': 8, 'se_r': 0.25, 'downsample': 'avg', 'drop_path_rate': 0.0}\n",
      "{'stem_type': 'res_stem_cifar', 'stem_w': 28, 'block_type': 'res_bottleneck_block', 'depths': [1, 4, 7, 7], 'widths': [56, 128, 280, 640], 'strides': [2, 2, 2, 2], 'bot_muls': [1.0, 1.0, 1.0, 1.0], 'group_ws': [8, 8, 8, 8], 'head_w': 0, 'se_r': 0.25, 'num_classes': 20, 'downsample': 'avg', 'drop_path_rate': 0.0}\n",
      "Loading model: tests_filtered_regnet/Generation_1/clever_bettong/config.yaml\n",
      "res_bottleneck_block\n",
      "res_bottleneck_block\n",
      "{'bot_mul': 1.0, 'group_w': 16, 'se_r': 0.25, 'downsample': 'avg', 'drop_path_rate': 0.0}\n",
      "{'bot_mul': 1.0, 'group_w': 16, 'se_r': 0.25, 'downsample': 'avg', 'drop_path_rate': 0.0}\n",
      "{'stem_type': 'res_stem_cifar', 'stem_w': 28, 'block_type': 'res_bottleneck_block', 'depths': [5, 6], 'widths': [64, 128], 'strides': [2, 2], 'bot_muls': [1.0, 1.0], 'group_ws': [16, 16], 'head_w': 0, 'se_r': 0.25, 'num_classes': 20, 'downsample': 'avg', 'drop_path_rate': 0.0}\n",
      "Loading model: tests_filtered_regnet/Generation_1/true_cat/config.yaml\n",
      "res_bottleneck_block\n",
      "res_bottleneck_block\n",
      "{'bot_mul': 1.0, 'group_w': 16, 'se_r': 0.25, 'downsample': 'avg', 'drop_path_rate': 0.0}\n",
      "{'bot_mul': 1.0, 'group_w': 16, 'se_r': 0.25, 'downsample': 'avg', 'drop_path_rate': 0.0}\n",
      "{'bot_mul': 1.0, 'group_w': 16, 'se_r': 0.25, 'downsample': 'avg', 'drop_path_rate': 0.0}\n",
      "{'bot_mul': 1.0, 'group_w': 16, 'se_r': 0.25, 'downsample': 'avg', 'drop_path_rate': 0.0}\n",
      "{'stem_type': 'res_stem_cifar', 'stem_w': 28, 'block_type': 'res_bottleneck_block', 'depths': [1, 3, 6, 7], 'widths': [32, 80, 208, 528], 'strides': [2, 2, 2, 2], 'bot_muls': [1.0, 1.0, 1.0, 1.0], 'group_ws': [16, 16, 16, 16], 'head_w': 0, 'se_r': 0.25, 'num_classes': 20, 'downsample': 'avg', 'drop_path_rate': 0.0}\n",
      "Loading model: tests_filtered_regnet/Generation_1/private_earwig/config.yaml\n",
      "res_bottleneck_block\n",
      "res_bottleneck_block\n",
      "{'bot_mul': 1.0, 'group_w': 16, 'se_r': 0.25, 'downsample': 'avg', 'drop_path_rate': 0.0}\n",
      "{'bot_mul': 1.0, 'group_w': 16, 'se_r': 0.25, 'downsample': 'avg', 'drop_path_rate': 0.0}\n",
      "{'bot_mul': 1.0, 'group_w': 16, 'se_r': 0.25, 'downsample': 'avg', 'drop_path_rate': 0.0}\n",
      "{'bot_mul': 1.0, 'group_w': 16, 'se_r': 0.25, 'downsample': 'avg', 'drop_path_rate': 0.0}\n",
      "{'stem_type': 'res_stem_cifar', 'stem_w': 28, 'block_type': 'res_bottleneck_block', 'depths': [1, 3, 7, 6], 'widths': [32, 96, 192, 416], 'strides': [2, 2, 2, 2], 'bot_muls': [1.0, 1.0, 1.0, 1.0], 'group_ws': [16, 16, 16, 16], 'head_w': 0, 'se_r': 0.25, 'num_classes': 20, 'downsample': 'avg', 'drop_path_rate': 0.0}\n",
      "Loading model: tests_filtered_regnet/Generation_1/xanthic_markhor/config.yaml\n",
      "res_bottleneck_block\n",
      "res_bottleneck_block\n",
      "{'bot_mul': 1.0, 'group_w': 8, 'se_r': 0.25, 'downsample': 'avg', 'drop_path_rate': 0.0}\n",
      "{'bot_mul': 1.0, 'group_w': 8, 'se_r': 0.25, 'downsample': 'avg', 'drop_path_rate': 0.0}\n",
      "{'bot_mul': 1.0, 'group_w': 8, 'se_r': 0.25, 'downsample': 'avg', 'drop_path_rate': 0.0}\n",
      "{'stem_type': 'res_stem_cifar', 'stem_w': 28, 'block_type': 'res_bottleneck_block', 'depths': [2, 4, 14], 'widths': [48, 136, 400], 'strides': [2, 2, 2], 'bot_muls': [1.0, 1.0, 1.0], 'group_ws': [8, 8, 8], 'head_w': 0, 'se_r': 0.25, 'num_classes': 20, 'downsample': 'avg', 'drop_path_rate': 0.0}\n",
      "Loading model: tests_filtered_regnet/Generation_1/demonic_caiman/config.yaml\n",
      "res_bottleneck_block\n",
      "res_bottleneck_block\n",
      "{'bot_mul': 1.0, 'group_w': 16, 'se_r': 0.25, 'downsample': 'avg', 'drop_path_rate': 0.0}\n",
      "{'bot_mul': 1.0, 'group_w': 16, 'se_r': 0.25, 'downsample': 'avg', 'drop_path_rate': 0.0}\n",
      "{'bot_mul': 1.0, 'group_w': 16, 'se_r': 0.25, 'downsample': 'avg', 'drop_path_rate': 0.0}\n",
      "{'bot_mul': 1.0, 'group_w': 16, 'se_r': 0.25, 'downsample': 'avg', 'drop_path_rate': 0.0}\n",
      "{'stem_type': 'res_stem_cifar', 'stem_w': 28, 'block_type': 'res_bottleneck_block', 'depths': [1, 3, 6, 6], 'widths': [32, 96, 224, 512], 'strides': [2, 2, 2, 2], 'bot_muls': [1.0, 1.0, 1.0, 1.0], 'group_ws': [16, 16, 16, 16], 'head_w': 0, 'se_r': 0.25, 'num_classes': 20, 'downsample': 'avg', 'drop_path_rate': 0.0}\n",
      "Loading model: tests_filtered_regnet/Generation_1/smoky_kagu/config.yaml\n",
      "res_bottleneck_block\n",
      "res_bottleneck_block\n",
      "{'bot_mul': 1.0, 'group_w': 16, 'se_r': 0.25, 'downsample': 'avg', 'drop_path_rate': 0.0}\n",
      "{'bot_mul': 1.0, 'group_w': 16, 'se_r': 0.25, 'downsample': 'avg', 'drop_path_rate': 0.0}\n",
      "{'bot_mul': 1.0, 'group_w': 16, 'se_r': 0.25, 'downsample': 'avg', 'drop_path_rate': 0.0}\n",
      "{'bot_mul': 1.0, 'group_w': 16, 'se_r': 0.25, 'downsample': 'avg', 'drop_path_rate': 0.0}\n",
      "{'stem_type': 'res_stem_cifar', 'stem_w': 28, 'block_type': 'res_bottleneck_block', 'depths': [1, 3, 10, 3], 'widths': [48, 128, 400, 1168], 'strides': [2, 2, 2, 2], 'bot_muls': [1.0, 1.0, 1.0, 1.0], 'group_ws': [16, 16, 16, 16], 'head_w': 0, 'se_r': 0.25, 'num_classes': 20, 'downsample': 'avg', 'drop_path_rate': 0.0}\n",
      "Loading model: tests_filtered_regnet/Generation_1/pastel_rattlesnake/config.yaml\n",
      "res_bottleneck_block\n",
      "res_bottleneck_block\n",
      "{'bot_mul': 1.0, 'group_w': 16, 'se_r': 0.25, 'downsample': 'avg', 'drop_path_rate': 0.0}\n",
      "{'bot_mul': 1.0, 'group_w': 16, 'se_r': 0.25, 'downsample': 'avg', 'drop_path_rate': 0.0}\n",
      "{'bot_mul': 1.0, 'group_w': 16, 'se_r': 0.25, 'downsample': 'avg', 'drop_path_rate': 0.0}\n",
      "{'stem_type': 'res_stem_cifar', 'stem_w': 28, 'block_type': 'res_bottleneck_block', 'depths': [1, 5, 7], 'widths': [32, 64, 192], 'strides': [2, 2, 2], 'bot_muls': [1.0, 1.0, 1.0], 'group_ws': [16, 16, 16], 'head_w': 0, 'se_r': 0.25, 'num_classes': 20, 'downsample': 'avg', 'drop_path_rate': 0.0}\n",
      "Loading model: tests_filtered_regnet/Generation_1/almond_honeybee/config.yaml\n",
      "res_bottleneck_block\n",
      "res_bottleneck_block\n",
      "{'bot_mul': 1.0, 'group_w': 8, 'se_r': 0.25, 'downsample': 'avg', 'drop_path_rate': 0.0}\n",
      "{'bot_mul': 1.0, 'group_w': 8, 'se_r': 0.25, 'downsample': 'avg', 'drop_path_rate': 0.0}\n",
      "{'bot_mul': 1.0, 'group_w': 8, 'se_r': 0.25, 'downsample': 'avg', 'drop_path_rate': 0.0}\n",
      "{'stem_type': 'res_stem_cifar', 'stem_w': 28, 'block_type': 'res_bottleneck_block', 'depths': [2, 8, 5], 'widths': [64, 144, 312], 'strides': [2, 2, 2], 'bot_muls': [1.0, 1.0, 1.0], 'group_ws': [8, 8, 8], 'head_w': 0, 'se_r': 0.25, 'num_classes': 20, 'downsample': 'avg', 'drop_path_rate': 0.0}\n",
      "Loading model: tests_filtered_regnet/Generation_1/granite_mastodon/config.yaml\n",
      "res_bottleneck_block\n",
      "res_bottleneck_block\n",
      "{'bot_mul': 1.0, 'group_w': 8, 'se_r': 0.25, 'downsample': 'avg', 'drop_path_rate': 0.0}\n",
      "{'bot_mul': 1.0, 'group_w': 8, 'se_r': 0.25, 'downsample': 'avg', 'drop_path_rate': 0.0}\n",
      "{'bot_mul': 1.0, 'group_w': 8, 'se_r': 0.25, 'downsample': 'avg', 'drop_path_rate': 0.0}\n",
      "{'bot_mul': 1.0, 'group_w': 8, 'se_r': 0.25, 'downsample': 'avg', 'drop_path_rate': 0.0}\n",
      "{'stem_type': 'res_stem_cifar', 'stem_w': 28, 'block_type': 'res_bottleneck_block', 'depths': [1, 2, 5, 12], 'widths': [48, 112, 280, 664], 'strides': [2, 2, 2, 2], 'bot_muls': [1.0, 1.0, 1.0, 1.0], 'group_ws': [8, 8, 8, 8], 'head_w': 0, 'se_r': 0.25, 'num_classes': 20, 'downsample': 'avg', 'drop_path_rate': 0.0}\n",
      "Loading model: tests_filtered_regnet/Generation_1/crafty_poodle/config.yaml\n",
      "res_bottleneck_block\n",
      "res_bottleneck_block\n",
      "{'bot_mul': 1.0, 'group_w': 8, 'se_r': 0.25, 'downsample': 'avg', 'drop_path_rate': 0.0}\n",
      "{'bot_mul': 1.0, 'group_w': 8, 'se_r': 0.25, 'downsample': 'avg', 'drop_path_rate': 0.0}\n",
      "{'bot_mul': 1.0, 'group_w': 8, 'se_r': 0.25, 'downsample': 'avg', 'drop_path_rate': 0.0}\n",
      "{'bot_mul': 1.0, 'group_w': 8, 'se_r': 0.25, 'downsample': 'avg', 'drop_path_rate': 0.0}\n",
      "{'stem_type': 'res_stem_cifar', 'stem_w': 28, 'block_type': 'res_bottleneck_block', 'depths': [1, 3, 7, 3], 'widths': [48, 120, 296, 752], 'strides': [2, 2, 2, 2], 'bot_muls': [1.0, 1.0, 1.0, 1.0], 'group_ws': [8, 8, 8, 8], 'head_w': 0, 'se_r': 0.25, 'num_classes': 20, 'downsample': 'avg', 'drop_path_rate': 0.0}\n",
      "Loading model: tests_filtered_regnet/Generation_1/lively_malamute/config.yaml\n",
      "res_bottleneck_block\n",
      "res_bottleneck_block\n",
      "{'bot_mul': 1.0, 'group_w': 16, 'se_r': 0.25, 'downsample': 'avg', 'drop_path_rate': 0.0}\n",
      "{'bot_mul': 1.0, 'group_w': 16, 'se_r': 0.25, 'downsample': 'avg', 'drop_path_rate': 0.0}\n",
      "{'bot_mul': 1.0, 'group_w': 16, 'se_r': 0.25, 'downsample': 'avg', 'drop_path_rate': 0.0}\n",
      "{'bot_mul': 1.0, 'group_w': 16, 'se_r': 0.25, 'downsample': 'avg', 'drop_path_rate': 0.0}\n",
      "{'stem_type': 'res_stem_cifar', 'stem_w': 28, 'block_type': 'res_bottleneck_block', 'depths': [1, 2, 5, 1], 'widths': [64, 112, 224, 480], 'strides': [2, 2, 2, 2], 'bot_muls': [1.0, 1.0, 1.0, 1.0], 'group_ws': [16, 16, 16, 16], 'head_w': 0, 'se_r': 0.25, 'num_classes': 20, 'downsample': 'avg', 'drop_path_rate': 0.0}\n",
      "Loading model: tests_filtered_regnet/Generation_1/miniature_eel/config.yaml\n",
      "res_bottleneck_block\n",
      "res_bottleneck_block\n",
      "{'bot_mul': 1.0, 'group_w': 16, 'se_r': 0.25, 'downsample': 'avg', 'drop_path_rate': 0.0}\n",
      "{'bot_mul': 1.0, 'group_w': 16, 'se_r': 0.25, 'downsample': 'avg', 'drop_path_rate': 0.0}\n",
      "{'bot_mul': 1.0, 'group_w': 16, 'se_r': 0.25, 'downsample': 'avg', 'drop_path_rate': 0.0}\n",
      "{'stem_type': 'res_stem_cifar', 'stem_w': 28, 'block_type': 'res_bottleneck_block', 'depths': [1, 4, 10], 'widths': [64, 176, 512], 'strides': [2, 2, 2], 'bot_muls': [1.0, 1.0, 1.0], 'group_ws': [16, 16, 16], 'head_w': 0, 'se_r': 0.25, 'num_classes': 20, 'downsample': 'avg', 'drop_path_rate': 0.0}\n",
      "Loading model: tests_filtered_regnet/Generation_1/gay_jackdaw/config.yaml\n",
      "res_bottleneck_block\n",
      "res_bottleneck_block\n",
      "{'bot_mul': 1.0, 'group_w': 8, 'se_r': 0.25, 'downsample': 'avg', 'drop_path_rate': 0.0}\n",
      "{'bot_mul': 1.0, 'group_w': 8, 'se_r': 0.25, 'downsample': 'avg', 'drop_path_rate': 0.0}\n",
      "{'bot_mul': 1.0, 'group_w': 8, 'se_r': 0.25, 'downsample': 'avg', 'drop_path_rate': 0.0}\n",
      "{'stem_type': 'res_stem_cifar', 'stem_w': 28, 'block_type': 'res_bottleneck_block', 'depths': [2, 9, 3], 'widths': [24, 64, 176], 'strides': [2, 2, 2], 'bot_muls': [1.0, 1.0, 1.0], 'group_ws': [8, 8, 8], 'head_w': 0, 'se_r': 0.25, 'num_classes': 20, 'downsample': 'avg', 'drop_path_rate': 0.0}\n",
      "Loading model: tests_filtered_regnet/Generation_1/military_ladybug/config.yaml\n",
      "res_bottleneck_block\n",
      "res_bottleneck_block\n",
      "{'bot_mul': 1.0, 'group_w': 8, 'se_r': 0.25, 'downsample': 'avg', 'drop_path_rate': 0.0}\n",
      "{'bot_mul': 1.0, 'group_w': 8, 'se_r': 0.25, 'downsample': 'avg', 'drop_path_rate': 0.0}\n",
      "{'bot_mul': 1.0, 'group_w': 8, 'se_r': 0.25, 'downsample': 'avg', 'drop_path_rate': 0.0}\n",
      "{'stem_type': 'res_stem_cifar', 'stem_w': 28, 'block_type': 'res_bottleneck_block', 'depths': [3, 8, 7], 'widths': [32, 80, 184], 'strides': [2, 2, 2], 'bot_muls': [1.0, 1.0, 1.0], 'group_ws': [8, 8, 8], 'head_w': 0, 'se_r': 0.25, 'num_classes': 20, 'downsample': 'avg', 'drop_path_rate': 0.0}\n",
      "Loading model: tests_filtered_regnet/Generation_1/viridian_swallow/config.yaml\n",
      "res_bottleneck_block\n",
      "res_bottleneck_block\n",
      "{'bot_mul': 1.0, 'group_w': 16, 'se_r': 0.25, 'downsample': 'avg', 'drop_path_rate': 0.0}\n",
      "{'bot_mul': 1.0, 'group_w': 16, 'se_r': 0.25, 'downsample': 'avg', 'drop_path_rate': 0.0}\n",
      "{'bot_mul': 1.0, 'group_w': 16, 'se_r': 0.25, 'downsample': 'avg', 'drop_path_rate': 0.0}\n",
      "{'bot_mul': 1.0, 'group_w': 16, 'se_r': 0.25, 'downsample': 'avg', 'drop_path_rate': 0.0}\n",
      "{'stem_type': 'res_stem_cifar', 'stem_w': 28, 'block_type': 'res_bottleneck_block', 'depths': [1, 2, 5, 6], 'widths': [16, 32, 96, 208], 'strides': [2, 2, 2, 2], 'bot_muls': [1.0, 1.0, 1.0, 1.0], 'group_ws': [16, 16, 16, 16], 'head_w': 0, 'se_r': 0.25, 'num_classes': 20, 'downsample': 'avg', 'drop_path_rate': 0.0}\n",
      "Loading model: tests_filtered_regnet/Generation_1/capable_bullfinch/config.yaml\n",
      "res_bottleneck_block\n",
      "res_bottleneck_block\n",
      "{'bot_mul': 1.0, 'group_w': 16, 'se_r': 0.25, 'downsample': 'avg', 'drop_path_rate': 0.0}\n",
      "{'bot_mul': 1.0, 'group_w': 16, 'se_r': 0.25, 'downsample': 'avg', 'drop_path_rate': 0.0}\n",
      "{'bot_mul': 1.0, 'group_w': 16, 'se_r': 0.25, 'downsample': 'avg', 'drop_path_rate': 0.0}\n",
      "{'stem_type': 'res_stem_cifar', 'stem_w': 28, 'block_type': 'res_bottleneck_block', 'depths': [3, 9, 10], 'widths': [48, 96, 192], 'strides': [2, 2, 2], 'bot_muls': [1.0, 1.0, 1.0], 'group_ws': [16, 16, 16], 'head_w': 0, 'se_r': 0.25, 'num_classes': 20, 'downsample': 'avg', 'drop_path_rate': 0.0}\n",
      "Loading model: tests_filtered_regnet/Generation_1/strong_gazelle/config.yaml\n",
      "res_bottleneck_block\n",
      "res_bottleneck_block\n",
      "{'bot_mul': 1.0, 'group_w': 16, 'se_r': 0.25, 'downsample': 'avg', 'drop_path_rate': 0.0}\n",
      "{'bot_mul': 1.0, 'group_w': 16, 'se_r': 0.25, 'downsample': 'avg', 'drop_path_rate': 0.0}\n",
      "{'bot_mul': 1.0, 'group_w': 16, 'se_r': 0.25, 'downsample': 'avg', 'drop_path_rate': 0.0}\n",
      "{'bot_mul': 1.0, 'group_w': 16, 'se_r': 0.25, 'downsample': 'avg', 'drop_path_rate': 0.0}\n",
      "{'bot_mul': 1.0, 'group_w': 16, 'se_r': 0.25, 'downsample': 'avg', 'drop_path_rate': 0.0}\n",
      "{'stem_type': 'res_stem_cifar', 'stem_w': 28, 'block_type': 'res_bottleneck_block', 'depths': [1, 3, 5, 11, 2], 'widths': [32, 64, 160, 352, 752], 'strides': [2, 2, 2, 2, 2], 'bot_muls': [1.0, 1.0, 1.0, 1.0, 1.0], 'group_ws': [16, 16, 16, 16, 16], 'head_w': 0, 'se_r': 0.25, 'num_classes': 20, 'downsample': 'avg', 'drop_path_rate': 0.0}\n",
      "Loading model: tests_filtered_regnet/Generation_1/umber_puma/config.yaml\n",
      "res_bottleneck_block\n",
      "res_bottleneck_block\n",
      "{'bot_mul': 1.0, 'group_w': 16, 'se_r': 0.25, 'downsample': 'avg', 'drop_path_rate': 0.0}\n",
      "{'bot_mul': 1.0, 'group_w': 16, 'se_r': 0.25, 'downsample': 'avg', 'drop_path_rate': 0.0}\n",
      "{'bot_mul': 1.0, 'group_w': 16, 'se_r': 0.25, 'downsample': 'avg', 'drop_path_rate': 0.0}\n",
      "{'stem_type': 'res_stem_cifar', 'stem_w': 28, 'block_type': 'res_bottleneck_block', 'depths': [2, 4, 3], 'widths': [48, 128, 384], 'strides': [2, 2, 2], 'bot_muls': [1.0, 1.0, 1.0], 'group_ws': [16, 16, 16], 'head_w': 0, 'se_r': 0.25, 'num_classes': 20, 'downsample': 'avg', 'drop_path_rate': 0.0}\n",
      "Loading model: tests_filtered_regnet/Generation_1/tough_goose/config.yaml\n",
      "res_bottleneck_block\n",
      "res_bottleneck_block\n",
      "{'bot_mul': 1.0, 'group_w': 8, 'se_r': 0.25, 'downsample': 'avg', 'drop_path_rate': 0.0}\n",
      "{'bot_mul': 1.0, 'group_w': 8, 'se_r': 0.25, 'downsample': 'avg', 'drop_path_rate': 0.0}\n",
      "{'bot_mul': 1.0, 'group_w': 8, 'se_r': 0.25, 'downsample': 'avg', 'drop_path_rate': 0.0}\n",
      "{'stem_type': 'res_stem_cifar', 'stem_w': 28, 'block_type': 'res_bottleneck_block', 'depths': [3, 9, 5], 'widths': [24, 64, 192], 'strides': [2, 2, 2], 'bot_muls': [1.0, 1.0, 1.0], 'group_ws': [8, 8, 8], 'head_w': 0, 'se_r': 0.25, 'num_classes': 20, 'downsample': 'avg', 'drop_path_rate': 0.0}\n",
      "Loading model: tests_filtered_regnet/Generation_1/hairy_snake/config.yaml\n",
      "res_bottleneck_block\n",
      "res_bottleneck_block\n",
      "{'bot_mul': 1.0, 'group_w': 8, 'se_r': 0.25, 'downsample': 'avg', 'drop_path_rate': 0.0}\n",
      "{'bot_mul': 1.0, 'group_w': 8, 'se_r': 0.25, 'downsample': 'avg', 'drop_path_rate': 0.0}\n",
      "{'bot_mul': 1.0, 'group_w': 8, 'se_r': 0.25, 'downsample': 'avg', 'drop_path_rate': 0.0}\n",
      "{'bot_mul': 1.0, 'group_w': 8, 'se_r': 0.25, 'downsample': 'avg', 'drop_path_rate': 0.0}\n",
      "{'bot_mul': 1.0, 'group_w': 8, 'se_r': 0.25, 'downsample': 'avg', 'drop_path_rate': 0.0}\n",
      "{'stem_type': 'res_stem_cifar', 'stem_w': 28, 'block_type': 'res_bottleneck_block', 'depths': [1, 2, 4, 10, 1], 'widths': [32, 72, 160, 368, 824], 'strides': [2, 2, 2, 2, 2], 'bot_muls': [1.0, 1.0, 1.0, 1.0, 1.0], 'group_ws': [8, 8, 8, 8, 8], 'head_w': 0, 'se_r': 0.25, 'num_classes': 20, 'downsample': 'avg', 'drop_path_rate': 0.0}\n",
      "Loading model: tests_filtered_regnet/Generation_1/daffodil_millipede/config.yaml\n",
      "res_bottleneck_block\n",
      "res_bottleneck_block\n",
      "{'bot_mul': 1.0, 'group_w': 16, 'se_r': 0.25, 'downsample': 'avg', 'drop_path_rate': 0.0}\n",
      "{'bot_mul': 1.0, 'group_w': 16, 'se_r': 0.25, 'downsample': 'avg', 'drop_path_rate': 0.0}\n",
      "{'bot_mul': 1.0, 'group_w': 16, 'se_r': 0.25, 'downsample': 'avg', 'drop_path_rate': 0.0}\n",
      "{'bot_mul': 1.0, 'group_w': 16, 'se_r': 0.25, 'downsample': 'avg', 'drop_path_rate': 0.0}\n",
      "{'stem_type': 'res_stem_cifar', 'stem_w': 28, 'block_type': 'res_bottleneck_block', 'depths': [1, 5, 11, 1], 'widths': [32, 64, 176, 480], 'strides': [2, 2, 2, 2], 'bot_muls': [1.0, 1.0, 1.0, 1.0], 'group_ws': [16, 16, 16, 16], 'head_w': 0, 'se_r': 0.25, 'num_classes': 20, 'downsample': 'avg', 'drop_path_rate': 0.0}\n",
      "Loading model: tests_filtered_regnet/Generation_1/emerald_zebu/config.yaml\n",
      "res_bottleneck_block\n",
      "res_bottleneck_block\n",
      "{'bot_mul': 1.0, 'group_w': 16, 'se_r': 0.25, 'downsample': 'avg', 'drop_path_rate': 0.0}\n",
      "{'bot_mul': 1.0, 'group_w': 16, 'se_r': 0.25, 'downsample': 'avg', 'drop_path_rate': 0.0}\n",
      "{'bot_mul': 1.0, 'group_w': 16, 'se_r': 0.25, 'downsample': 'avg', 'drop_path_rate': 0.0}\n",
      "{'stem_type': 'res_stem_cifar', 'stem_w': 28, 'block_type': 'res_bottleneck_block', 'depths': [2, 5, 7], 'widths': [64, 192, 512], 'strides': [2, 2, 2], 'bot_muls': [1.0, 1.0, 1.0], 'group_ws': [16, 16, 16], 'head_w': 0, 'se_r': 0.25, 'num_classes': 20, 'downsample': 'avg', 'drop_path_rate': 0.0}\n",
      "Loading model: tests_filtered_regnet/Generation_1/unnatural_baboon/config.yaml\n",
      "res_bottleneck_block\n",
      "res_bottleneck_block\n",
      "{'bot_mul': 1.0, 'group_w': 16, 'se_r': 0.25, 'downsample': 'avg', 'drop_path_rate': 0.0}\n",
      "{'bot_mul': 1.0, 'group_w': 16, 'se_r': 0.25, 'downsample': 'avg', 'drop_path_rate': 0.0}\n",
      "{'bot_mul': 1.0, 'group_w': 16, 'se_r': 0.25, 'downsample': 'avg', 'drop_path_rate': 0.0}\n",
      "{'bot_mul': 1.0, 'group_w': 16, 'se_r': 0.25, 'downsample': 'avg', 'drop_path_rate': 0.0}\n",
      "{'stem_type': 'res_stem_cifar', 'stem_w': 28, 'block_type': 'res_bottleneck_block', 'depths': [1, 3, 5, 3], 'widths': [48, 96, 208, 448], 'strides': [2, 2, 2, 2], 'bot_muls': [1.0, 1.0, 1.0, 1.0], 'group_ws': [16, 16, 16, 16], 'head_w': 0, 'se_r': 0.25, 'num_classes': 20, 'downsample': 'avg', 'drop_path_rate': 0.0}\n",
      "Loading model: tests_filtered_regnet/Generation_1/defiant_lynx/config.yaml\n",
      "res_bottleneck_block\n",
      "res_bottleneck_block\n",
      "{'bot_mul': 1.0, 'group_w': 16, 'se_r': 0.25, 'downsample': 'avg', 'drop_path_rate': 0.0}\n",
      "{'bot_mul': 1.0, 'group_w': 16, 'se_r': 0.25, 'downsample': 'avg', 'drop_path_rate': 0.0}\n",
      "{'stem_type': 'res_stem_cifar', 'stem_w': 28, 'block_type': 'res_bottleneck_block', 'depths': [3, 5], 'widths': [48, 128], 'strides': [2, 2], 'bot_muls': [1.0, 1.0], 'group_ws': [16, 16], 'head_w': 0, 'se_r': 0.25, 'num_classes': 20, 'downsample': 'avg', 'drop_path_rate': 0.0}\n",
      "Loading model: tests_filtered_regnet/Generation_1/striped_caribou/config.yaml\n",
      "res_bottleneck_block\n",
      "res_bottleneck_block\n",
      "{'bot_mul': 1.0, 'group_w': 16, 'se_r': 0.25, 'downsample': 'avg', 'drop_path_rate': 0.0}\n",
      "{'bot_mul': 1.0, 'group_w': 16, 'se_r': 0.25, 'downsample': 'avg', 'drop_path_rate': 0.0}\n",
      "{'bot_mul': 1.0, 'group_w': 16, 'se_r': 0.25, 'downsample': 'avg', 'drop_path_rate': 0.0}\n",
      "{'stem_type': 'res_stem_cifar', 'stem_w': 28, 'block_type': 'res_bottleneck_block', 'depths': [1, 4, 8], 'widths': [64, 160, 416], 'strides': [2, 2, 2], 'bot_muls': [1.0, 1.0, 1.0], 'group_ws': [16, 16, 16], 'head_w': 0, 'se_r': 0.25, 'num_classes': 20, 'downsample': 'avg', 'drop_path_rate': 0.0}\n",
      "Loading model: tests_filtered_regnet/Generation_1/nimble_petrel/config.yaml\n",
      "res_bottleneck_block\n",
      "res_bottleneck_block\n",
      "{'bot_mul': 1.0, 'group_w': 16, 'se_r': 0.25, 'downsample': 'avg', 'drop_path_rate': 0.0}\n",
      "{'bot_mul': 1.0, 'group_w': 16, 'se_r': 0.25, 'downsample': 'avg', 'drop_path_rate': 0.0}\n",
      "{'bot_mul': 1.0, 'group_w': 16, 'se_r': 0.25, 'downsample': 'avg', 'drop_path_rate': 0.0}\n",
      "{'bot_mul': 1.0, 'group_w': 16, 'se_r': 0.25, 'downsample': 'avg', 'drop_path_rate': 0.0}\n",
      "{'stem_type': 'res_stem_cifar', 'stem_w': 28, 'block_type': 'res_bottleneck_block', 'depths': [1, 3, 6, 10], 'widths': [32, 80, 208, 528], 'strides': [2, 2, 2, 2], 'bot_muls': [1.0, 1.0, 1.0, 1.0], 'group_ws': [16, 16, 16, 16], 'head_w': 0, 'se_r': 0.25, 'num_classes': 20, 'downsample': 'avg', 'drop_path_rate': 0.0}\n",
      "Loading model: tests_filtered_regnet/Generation_1/truthful_goldfish/config.yaml\n",
      "res_bottleneck_block\n",
      "res_bottleneck_block\n",
      "{'bot_mul': 1.0, 'group_w': 8, 'se_r': 0.25, 'downsample': 'avg', 'drop_path_rate': 0.0}\n",
      "{'bot_mul': 1.0, 'group_w': 8, 'se_r': 0.25, 'downsample': 'avg', 'drop_path_rate': 0.0}\n",
      "{'bot_mul': 1.0, 'group_w': 8, 'se_r': 0.25, 'downsample': 'avg', 'drop_path_rate': 0.0}\n",
      "{'bot_mul': 1.0, 'group_w': 8, 'se_r': 0.25, 'downsample': 'avg', 'drop_path_rate': 0.0}\n",
      "{'stem_type': 'res_stem_cifar', 'stem_w': 28, 'block_type': 'res_bottleneck_block', 'depths': [1, 3, 7, 8], 'widths': [48, 128, 336, 896], 'strides': [2, 2, 2, 2], 'bot_muls': [1.0, 1.0, 1.0, 1.0], 'group_ws': [8, 8, 8, 8], 'head_w': 0, 'se_r': 0.25, 'num_classes': 20, 'downsample': 'avg', 'drop_path_rate': 0.0}\n",
      "Loading model: tests_filtered_regnet/Generation_1/sapphire_ostrich/config.yaml\n",
      "res_bottleneck_block\n",
      "res_bottleneck_block\n",
      "{'bot_mul': 1.0, 'group_w': 16, 'se_r': 0.25, 'downsample': 'avg', 'drop_path_rate': 0.0}\n",
      "{'bot_mul': 1.0, 'group_w': 16, 'se_r': 0.25, 'downsample': 'avg', 'drop_path_rate': 0.0}\n",
      "{'bot_mul': 1.0, 'group_w': 16, 'se_r': 0.25, 'downsample': 'avg', 'drop_path_rate': 0.0}\n",
      "{'bot_mul': 1.0, 'group_w': 16, 'se_r': 0.25, 'downsample': 'avg', 'drop_path_rate': 0.0}\n",
      "{'stem_type': 'res_stem_cifar', 'stem_w': 28, 'block_type': 'res_bottleneck_block', 'depths': [1, 3, 8, 4], 'widths': [32, 96, 256, 672], 'strides': [2, 2, 2, 2], 'bot_muls': [1.0, 1.0, 1.0, 1.0], 'group_ws': [16, 16, 16, 16], 'head_w': 0, 'se_r': 0.25, 'num_classes': 20, 'downsample': 'avg', 'drop_path_rate': 0.0}\n",
      "Loading model: tests_filtered_regnet/Generation_1/warm_barnacle/config.yaml\n",
      "res_bottleneck_block\n",
      "res_bottleneck_block\n",
      "{'bot_mul': 1.0, 'group_w': 8, 'se_r': 0.25, 'downsample': 'avg', 'drop_path_rate': 0.0}\n",
      "{'bot_mul': 1.0, 'group_w': 8, 'se_r': 0.25, 'downsample': 'avg', 'drop_path_rate': 0.0}\n",
      "{'bot_mul': 1.0, 'group_w': 8, 'se_r': 0.25, 'downsample': 'avg', 'drop_path_rate': 0.0}\n",
      "{'stem_type': 'res_stem_cifar', 'stem_w': 28, 'block_type': 'res_bottleneck_block', 'depths': [2, 4, 9], 'widths': [24, 72, 192], 'strides': [2, 2, 2], 'bot_muls': [1.0, 1.0, 1.0], 'group_ws': [8, 8, 8], 'head_w': 0, 'se_r': 0.25, 'num_classes': 20, 'downsample': 'avg', 'drop_path_rate': 0.0}\n",
      "Loading model: tests_filtered_regnet/Generation_1/piquant_deer/config.yaml\n",
      "res_bottleneck_block\n",
      "res_bottleneck_block\n",
      "{'bot_mul': 1.0, 'group_w': 16, 'se_r': 0.25, 'downsample': 'avg', 'drop_path_rate': 0.0}\n",
      "{'bot_mul': 1.0, 'group_w': 16, 'se_r': 0.25, 'downsample': 'avg', 'drop_path_rate': 0.0}\n",
      "{'bot_mul': 1.0, 'group_w': 16, 'se_r': 0.25, 'downsample': 'avg', 'drop_path_rate': 0.0}\n",
      "{'stem_type': 'res_stem_cifar', 'stem_w': 28, 'block_type': 'res_bottleneck_block', 'depths': [1, 3, 5], 'widths': [64, 160, 368], 'strides': [2, 2, 2], 'bot_muls': [1.0, 1.0, 1.0], 'group_ws': [16, 16, 16], 'head_w': 0, 'se_r': 0.25, 'num_classes': 20, 'downsample': 'avg', 'drop_path_rate': 0.0}\n",
      "Loading model: tests_filtered_regnet/Generation_1/miniature_gerbil/config.yaml\n",
      "res_bottleneck_block\n",
      "res_bottleneck_block\n",
      "{'bot_mul': 1.0, 'group_w': 8, 'se_r': 0.25, 'downsample': 'avg', 'drop_path_rate': 0.0}\n",
      "{'bot_mul': 1.0, 'group_w': 8, 'se_r': 0.25, 'downsample': 'avg', 'drop_path_rate': 0.0}\n",
      "{'bot_mul': 1.0, 'group_w': 8, 'se_r': 0.25, 'downsample': 'avg', 'drop_path_rate': 0.0}\n",
      "{'stem_type': 'res_stem_cifar', 'stem_w': 28, 'block_type': 'res_bottleneck_block', 'depths': [1, 4, 10], 'widths': [56, 160, 456], 'strides': [2, 2, 2], 'bot_muls': [1.0, 1.0, 1.0], 'group_ws': [8, 8, 8], 'head_w': 0, 'se_r': 0.25, 'num_classes': 20, 'downsample': 'avg', 'drop_path_rate': 0.0}\n",
      "Loading model: tests_filtered_regnet/Generation_1/ingenious_panther/config.yaml\n",
      "res_bottleneck_block\n",
      "res_bottleneck_block\n",
      "{'bot_mul': 1.0, 'group_w': 8, 'se_r': 0.25, 'downsample': 'avg', 'drop_path_rate': 0.0}\n",
      "{'bot_mul': 1.0, 'group_w': 8, 'se_r': 0.25, 'downsample': 'avg', 'drop_path_rate': 0.0}\n",
      "{'bot_mul': 1.0, 'group_w': 8, 'se_r': 0.25, 'downsample': 'avg', 'drop_path_rate': 0.0}\n",
      "{'stem_type': 'res_stem_cifar', 'stem_w': 28, 'block_type': 'res_bottleneck_block', 'depths': [2, 6, 11], 'widths': [56, 152, 392], 'strides': [2, 2, 2], 'bot_muls': [1.0, 1.0, 1.0], 'group_ws': [8, 8, 8], 'head_w': 0, 'se_r': 0.25, 'num_classes': 20, 'downsample': 'avg', 'drop_path_rate': 0.0}\n",
      "Loading model: tests_filtered_regnet/Generation_1/dangerous_pig/config.yaml\n",
      "res_bottleneck_block\n",
      "res_bottleneck_block\n",
      "{'bot_mul': 1.0, 'group_w': 8, 'se_r': 0.25, 'downsample': 'avg', 'drop_path_rate': 0.0}\n",
      "{'bot_mul': 1.0, 'group_w': 8, 'se_r': 0.25, 'downsample': 'avg', 'drop_path_rate': 0.0}\n",
      "{'bot_mul': 1.0, 'group_w': 8, 'se_r': 0.25, 'downsample': 'avg', 'drop_path_rate': 0.0}\n",
      "{'stem_type': 'res_stem_cifar', 'stem_w': 28, 'block_type': 'res_bottleneck_block', 'depths': [2, 4, 12], 'widths': [24, 64, 192], 'strides': [2, 2, 2], 'bot_muls': [1.0, 1.0, 1.0], 'group_ws': [8, 8, 8], 'head_w': 0, 'se_r': 0.25, 'num_classes': 20, 'downsample': 'avg', 'drop_path_rate': 0.0}\n",
      "Loading model: tests_filtered_regnet/Generation_1/fearless_turkey/config.yaml\n",
      "res_bottleneck_block\n",
      "res_bottleneck_block\n",
      "{'bot_mul': 1.0, 'group_w': 16, 'se_r': 0.25, 'downsample': 'avg', 'drop_path_rate': 0.0}\n",
      "{'bot_mul': 1.0, 'group_w': 16, 'se_r': 0.25, 'downsample': 'avg', 'drop_path_rate': 0.0}\n",
      "{'bot_mul': 1.0, 'group_w': 16, 'se_r': 0.25, 'downsample': 'avg', 'drop_path_rate': 0.0}\n",
      "{'bot_mul': 1.0, 'group_w': 16, 'se_r': 0.25, 'downsample': 'avg', 'drop_path_rate': 0.0}\n",
      "{'stem_type': 'res_stem_cifar', 'stem_w': 28, 'block_type': 'res_bottleneck_block', 'depths': [1, 4, 9, 5], 'widths': [64, 128, 320, 736], 'strides': [2, 2, 2, 2], 'bot_muls': [1.0, 1.0, 1.0, 1.0], 'group_ws': [16, 16, 16, 16], 'head_w': 0, 'se_r': 0.25, 'num_classes': 20, 'downsample': 'avg', 'drop_path_rate': 0.0}\n",
      "Loading model: tests_filtered_regnet/Generation_1/crystal_mustang/config.yaml\n",
      "res_bottleneck_block\n",
      "res_bottleneck_block\n",
      "{'bot_mul': 1.0, 'group_w': 8, 'se_r': 0.25, 'downsample': 'avg', 'drop_path_rate': 0.0}\n",
      "{'bot_mul': 1.0, 'group_w': 8, 'se_r': 0.25, 'downsample': 'avg', 'drop_path_rate': 0.0}\n",
      "{'bot_mul': 1.0, 'group_w': 8, 'se_r': 0.25, 'downsample': 'avg', 'drop_path_rate': 0.0}\n",
      "{'bot_mul': 1.0, 'group_w': 8, 'se_r': 0.25, 'downsample': 'avg', 'drop_path_rate': 0.0}\n",
      "{'bot_mul': 1.0, 'group_w': 8, 'se_r': 0.25, 'downsample': 'avg', 'drop_path_rate': 0.0}\n",
      "{'stem_type': 'res_stem_cifar', 'stem_w': 28, 'block_type': 'res_bottleneck_block', 'depths': [1, 2, 5, 10, 2], 'widths': [48, 104, 232, 512, 1128], 'strides': [2, 2, 2, 2, 2], 'bot_muls': [1.0, 1.0, 1.0, 1.0, 1.0], 'group_ws': [8, 8, 8, 8, 8], 'head_w': 0, 'se_r': 0.25, 'num_classes': 20, 'downsample': 'avg', 'drop_path_rate': 0.0}\n",
      "Loading model: tests_filtered_regnet/Generation_1/independent_tanuki/config.yaml\n",
      "res_bottleneck_block\n",
      "res_bottleneck_block\n",
      "{'bot_mul': 1.0, 'group_w': 16, 'se_r': 0.25, 'downsample': 'avg', 'drop_path_rate': 0.0}\n",
      "{'bot_mul': 1.0, 'group_w': 16, 'se_r': 0.25, 'downsample': 'avg', 'drop_path_rate': 0.0}\n",
      "{'bot_mul': 1.0, 'group_w': 16, 'se_r': 0.25, 'downsample': 'avg', 'drop_path_rate': 0.0}\n",
      "{'stem_type': 'res_stem_cifar', 'stem_w': 28, 'block_type': 'res_bottleneck_block', 'depths': [2, 6, 12], 'widths': [32, 96, 240], 'strides': [2, 2, 2], 'bot_muls': [1.0, 1.0, 1.0], 'group_ws': [16, 16, 16], 'head_w': 0, 'se_r': 0.25, 'num_classes': 20, 'downsample': 'avg', 'drop_path_rate': 0.0}\n",
      "Loading model: tests_filtered_regnet/Generation_1/myrtle_boobook/config.yaml\n",
      "res_bottleneck_block\n",
      "res_bottleneck_block\n",
      "{'bot_mul': 1.0, 'group_w': 8, 'se_r': 0.25, 'downsample': 'avg', 'drop_path_rate': 0.0}\n",
      "{'bot_mul': 1.0, 'group_w': 8, 'se_r': 0.25, 'downsample': 'avg', 'drop_path_rate': 0.0}\n",
      "{'bot_mul': 1.0, 'group_w': 8, 'se_r': 0.25, 'downsample': 'avg', 'drop_path_rate': 0.0}\n",
      "{'stem_type': 'res_stem_cifar', 'stem_w': 28, 'block_type': 'res_bottleneck_block', 'depths': [1, 4, 5], 'widths': [48, 104, 224], 'strides': [2, 2, 2], 'bot_muls': [1.0, 1.0, 1.0], 'group_ws': [8, 8, 8], 'head_w': 0, 'se_r': 0.25, 'num_classes': 20, 'downsample': 'avg', 'drop_path_rate': 0.0}\n",
      "Loading model: tests_filtered_regnet/Generation_1/accomplished_axolotl/config.yaml\n",
      "res_bottleneck_block\n",
      "res_bottleneck_block\n",
      "{'bot_mul': 1.0, 'group_w': 16, 'se_r': 0.25, 'downsample': 'avg', 'drop_path_rate': 0.0}\n",
      "{'bot_mul': 1.0, 'group_w': 16, 'se_r': 0.25, 'downsample': 'avg', 'drop_path_rate': 0.0}\n",
      "{'bot_mul': 1.0, 'group_w': 16, 'se_r': 0.25, 'downsample': 'avg', 'drop_path_rate': 0.0}\n",
      "{'bot_mul': 1.0, 'group_w': 16, 'se_r': 0.25, 'downsample': 'avg', 'drop_path_rate': 0.0}\n",
      "{'stem_type': 'res_stem_cifar', 'stem_w': 28, 'block_type': 'res_bottleneck_block', 'depths': [1, 2, 4, 6], 'widths': [32, 80, 160, 352], 'strides': [2, 2, 2, 2], 'bot_muls': [1.0, 1.0, 1.0, 1.0], 'group_ws': [16, 16, 16, 16], 'head_w': 0, 'se_r': 0.25, 'num_classes': 20, 'downsample': 'avg', 'drop_path_rate': 0.0}\n",
      "Loading model: tests_filtered_regnet/Generation_1/sapphire_grouse/config.yaml\n",
      "res_bottleneck_block\n",
      "res_bottleneck_block\n",
      "{'bot_mul': 1.0, 'group_w': 16, 'se_r': 0.25, 'downsample': 'avg', 'drop_path_rate': 0.0}\n",
      "{'bot_mul': 1.0, 'group_w': 16, 'se_r': 0.25, 'downsample': 'avg', 'drop_path_rate': 0.0}\n",
      "{'bot_mul': 1.0, 'group_w': 16, 'se_r': 0.25, 'downsample': 'avg', 'drop_path_rate': 0.0}\n",
      "{'stem_type': 'res_stem_cifar', 'stem_w': 28, 'block_type': 'res_bottleneck_block', 'depths': [2, 8, 10], 'widths': [32, 64, 160], 'strides': [2, 2, 2], 'bot_muls': [1.0, 1.0, 1.0], 'group_ws': [16, 16, 16], 'head_w': 0, 'se_r': 0.25, 'num_classes': 20, 'downsample': 'avg', 'drop_path_rate': 0.0}\n",
      "Loading model: tests_filtered_regnet/Generation_1/ludicrous_foxhound/config.yaml\n",
      "res_bottleneck_block\n",
      "res_bottleneck_block\n",
      "{'bot_mul': 1.0, 'group_w': 16, 'se_r': 0.25, 'downsample': 'avg', 'drop_path_rate': 0.0}\n",
      "{'bot_mul': 1.0, 'group_w': 16, 'se_r': 0.25, 'downsample': 'avg', 'drop_path_rate': 0.0}\n",
      "{'bot_mul': 1.0, 'group_w': 16, 'se_r': 0.25, 'downsample': 'avg', 'drop_path_rate': 0.0}\n",
      "{'bot_mul': 1.0, 'group_w': 16, 'se_r': 0.25, 'downsample': 'avg', 'drop_path_rate': 0.0}\n",
      "{'stem_type': 'res_stem_cifar', 'stem_w': 28, 'block_type': 'res_bottleneck_block', 'depths': [1, 2, 6, 7], 'widths': [48, 128, 288, 752], 'strides': [2, 2, 2, 2], 'bot_muls': [1.0, 1.0, 1.0, 1.0], 'group_ws': [16, 16, 16, 16], 'head_w': 0, 'se_r': 0.25, 'num_classes': 20, 'downsample': 'avg', 'drop_path_rate': 0.0}\n",
      "Loading model: tests_filtered_regnet/Generation_1/innocent_clam/config.yaml\n",
      "res_bottleneck_block\n",
      "res_bottleneck_block\n",
      "{'bot_mul': 1.0, 'group_w': 8, 'se_r': 0.25, 'downsample': 'avg', 'drop_path_rate': 0.0}\n",
      "{'bot_mul': 1.0, 'group_w': 8, 'se_r': 0.25, 'downsample': 'avg', 'drop_path_rate': 0.0}\n",
      "{'bot_mul': 1.0, 'group_w': 8, 'se_r': 0.25, 'downsample': 'avg', 'drop_path_rate': 0.0}\n",
      "{'stem_type': 'res_stem_cifar', 'stem_w': 28, 'block_type': 'res_bottleneck_block', 'depths': [2, 6, 13], 'widths': [24, 56, 136], 'strides': [2, 2, 2], 'bot_muls': [1.0, 1.0, 1.0], 'group_ws': [8, 8, 8], 'head_w': 0, 'se_r': 0.25, 'num_classes': 20, 'downsample': 'avg', 'drop_path_rate': 0.0}\n",
      "Loading model: tests_filtered_regnet/Generation_1/organic_ferret/config.yaml\n",
      "res_bottleneck_block\n",
      "res_bottleneck_block\n",
      "{'bot_mul': 1.0, 'group_w': 8, 'se_r': 0.25, 'downsample': 'avg', 'drop_path_rate': 0.0}\n",
      "{'bot_mul': 1.0, 'group_w': 8, 'se_r': 0.25, 'downsample': 'avg', 'drop_path_rate': 0.0}\n",
      "{'bot_mul': 1.0, 'group_w': 8, 'se_r': 0.25, 'downsample': 'avg', 'drop_path_rate': 0.0}\n",
      "{'bot_mul': 1.0, 'group_w': 8, 'se_r': 0.25, 'downsample': 'avg', 'drop_path_rate': 0.0}\n",
      "{'stem_type': 'res_stem_cifar', 'stem_w': 28, 'block_type': 'res_bottleneck_block', 'depths': [1, 2, 4, 7], 'widths': [24, 56, 120, 256], 'strides': [2, 2, 2, 2], 'bot_muls': [1.0, 1.0, 1.0, 1.0], 'group_ws': [8, 8, 8, 8], 'head_w': 0, 'se_r': 0.25, 'num_classes': 20, 'downsample': 'avg', 'drop_path_rate': 0.0}\n",
      "Loading model: tests_filtered_regnet/Generation_1/inquisitive_numbat/config.yaml\n",
      "res_bottleneck_block\n",
      "res_bottleneck_block\n",
      "{'bot_mul': 1.0, 'group_w': 8, 'se_r': 0.25, 'downsample': 'avg', 'drop_path_rate': 0.0}\n",
      "{'bot_mul': 1.0, 'group_w': 8, 'se_r': 0.25, 'downsample': 'avg', 'drop_path_rate': 0.0}\n",
      "{'bot_mul': 1.0, 'group_w': 8, 'se_r': 0.25, 'downsample': 'avg', 'drop_path_rate': 0.0}\n",
      "{'stem_type': 'res_stem_cifar', 'stem_w': 28, 'block_type': 'res_bottleneck_block', 'depths': [2, 5, 8], 'widths': [32, 88, 232], 'strides': [2, 2, 2], 'bot_muls': [1.0, 1.0, 1.0], 'group_ws': [8, 8, 8], 'head_w': 0, 'se_r': 0.25, 'num_classes': 20, 'downsample': 'avg', 'drop_path_rate': 0.0}\n",
      "Loading model: tests_filtered_regnet/Generation_1/cherry_tarsier/config.yaml\n",
      "res_bottleneck_block\n",
      "res_bottleneck_block\n",
      "{'bot_mul': 1.0, 'group_w': 16, 'se_r': 0.25, 'downsample': 'avg', 'drop_path_rate': 0.0}\n",
      "{'bot_mul': 1.0, 'group_w': 16, 'se_r': 0.25, 'downsample': 'avg', 'drop_path_rate': 0.0}\n",
      "{'bot_mul': 1.0, 'group_w': 16, 'se_r': 0.25, 'downsample': 'avg', 'drop_path_rate': 0.0}\n",
      "{'bot_mul': 1.0, 'group_w': 16, 'se_r': 0.25, 'downsample': 'avg', 'drop_path_rate': 0.0}\n",
      "{'stem_type': 'res_stem_cifar', 'stem_w': 28, 'block_type': 'res_bottleneck_block', 'depths': [1, 3, 7, 9], 'widths': [32, 64, 176, 480], 'strides': [2, 2, 2, 2], 'bot_muls': [1.0, 1.0, 1.0, 1.0], 'group_ws': [16, 16, 16, 16], 'head_w': 0, 'se_r': 0.25, 'num_classes': 20, 'downsample': 'avg', 'drop_path_rate': 0.0}\n",
      "Loading model: tests_filtered_regnet/Generation_1/quick_meerkat/config.yaml\n",
      "res_bottleneck_block\n",
      "res_bottleneck_block\n",
      "{'bot_mul': 1.0, 'group_w': 8, 'se_r': 0.25, 'downsample': 'avg', 'drop_path_rate': 0.0}\n",
      "{'bot_mul': 1.0, 'group_w': 8, 'se_r': 0.25, 'downsample': 'avg', 'drop_path_rate': 0.0}\n",
      "{'bot_mul': 1.0, 'group_w': 8, 'se_r': 0.25, 'downsample': 'avg', 'drop_path_rate': 0.0}\n",
      "{'bot_mul': 1.0, 'group_w': 8, 'se_r': 0.25, 'downsample': 'avg', 'drop_path_rate': 0.0}\n",
      "{'bot_mul': 1.0, 'group_w': 8, 'se_r': 0.25, 'downsample': 'avg', 'drop_path_rate': 0.0}\n",
      "{'stem_type': 'res_stem_cifar', 'stem_w': 28, 'block_type': 'res_bottleneck_block', 'depths': [1, 2, 3, 8, 1], 'widths': [32, 72, 144, 320, 680], 'strides': [2, 2, 2, 2, 2], 'bot_muls': [1.0, 1.0, 1.0, 1.0, 1.0], 'group_ws': [8, 8, 8, 8, 8], 'head_w': 0, 'se_r': 0.25, 'num_classes': 20, 'downsample': 'avg', 'drop_path_rate': 0.0}\n",
      "Loading model: tests_filtered_regnet/Generation_1/succinct_falcon/config.yaml\n",
      "res_bottleneck_block\n"
     ]
    }
   ],
   "source": [
    "#WA,W0,WM,DEPTH=48,24,2.4,12\n",
    "test_folder=\"tests_filtered_regnet\"\n",
    "generation=1\n",
    "#config_updates=[\"REGNET.STEM_W\",32, \"MODEL.NUM_CLASSES\",20]\n",
    "config_updates=None\n",
    "models, chromosomes=regnet_space.load_generation(folder=f\"{test_folder}/Generation_{generation}\", config_updates=config_updates)\n"
   ]
  },
  {
   "cell_type": "code",
   "execution_count": 141,
   "id": "ef0fe507-0c79-4dd9-8f34-18f6d1165c26",
   "metadata": {
    "tags": []
   },
   "outputs": [
    {
     "name": "stdout",
     "output_type": "stream",
     "text": [
      "['wakeful_mongoose', 'didactic_zebu', 'lime_vulture', 'enormous_limpet', 'happy_raven', 'unselfish_ermine', 'dynamic_wasp', 'heavenly_squirrel', 'angelic_lizard', 'loutish_tiger', 'flying_capuchin', 'ultra_herring', 'whimsical_lemming', 'poetic_poodle', 'umber_binturong', 'magic_sidewinder', 'results.csv', 'agile_barracuda', 'invaluable_cormorant', 'optimal_elk', 'phenomenal_dragon']\n"
     ]
    }
   ],
   "source": [
    "folders=[\"tests_cifar_tile/Generation_1_SE_D\"]\n",
    "sorted_df={}\n",
    "corr_coeff_vainilla={}\n",
    "vainilla_students={}\n",
    "for folder in folders:\n",
    "    name=f\"{folder.split(\"/\")[1][13:]}\"\n",
    "    order_students, sorted_df[name], vainilla_students[name], corr_coeff=get_vainilla_dfs(folder, 20)\n",
    "    sorted_df[name][\"study\"]=name\n",
    "    sorted_df[name]= sorted_df[name].reset_index().reset_index()\n",
    "    corr_coeff_vainilla[name]=pd.DataFrame(corr_coeff).reset_index()\n",
    "    corr_coeff_vainilla[name][\"study\"]=name"
   ]
  },
  {
   "cell_type": "code",
   "execution_count": 17,
   "id": "bda1db3f-0da5-4195-8faf-66e1375123c5",
   "metadata": {
    "tags": []
   },
   "outputs": [],
   "source": [
    "#sorted_df[\"SE_D\"].to_csv(\"tests_cifar_tile/Generation_1_SE_D/results.csv\")"
   ]
  },
  {
   "cell_type": "code",
   "execution_count": 142,
   "id": "f244005d-4de9-42c5-be5b-e6e2e69e38f2",
   "metadata": {
    "tags": []
   },
   "outputs": [
    {
     "data": {
      "application/vnd.plotly.v1+json": {
       "config": {
        "plotlyServerURL": "https://plot.ly"
       },
       "data": [
        {
         "hovertemplate": "study=vainilla<br>best_acc=%{x}<br>test_acc=%{y}<extra></extra>",
         "legendgroup": "vainilla",
         "marker": {
          "color": "#636efa",
          "symbol": "circle"
         },
         "mode": "markers",
         "name": "vainilla",
         "orientation": "v",
         "showlegend": true,
         "type": "scatter",
         "x": [
          34.36,
          46.64,
          47.38,
          47.71,
          47.76,
          48.25,
          48.27,
          49.62,
          50.11,
          50.45,
          50.92,
          51.29,
          51.55,
          51.9,
          52.37,
          52.51,
          52.57,
          52.81,
          52.81,
          52.98
         ],
         "xaxis": "x",
         "y": [
          25.07,
          24.85,
          25.1,
          31.65,
          24.9,
          24.78,
          25.71,
          25.9,
          29.91,
          32.33,
          24.75,
          25.09,
          28.7,
          31.42,
          27.91,
          25.45,
          29.49,
          33.93,
          31.72,
          30.25
         ],
         "yaxis": "y"
        },
        {
         "hovertemplate": "<b>OLS trendline</b><br>test_acc = 0.324841 * best_acc + 11.8292<br>R<sup>2</sup>=0.185949<br><br>study=vainilla<br>best_acc=%{x}<br>test_acc=%{y} <b>(trend)</b><extra></extra>",
         "legendgroup": "vainilla",
         "marker": {
          "color": "#636efa",
          "symbol": "circle"
         },
         "mode": "lines",
         "name": "vainilla",
         "showlegend": false,
         "type": "scatter",
         "x": [
          34.36,
          46.64,
          47.38,
          47.71,
          47.76,
          48.25,
          48.27,
          49.62,
          50.11,
          50.45,
          50.92,
          51.29,
          51.55,
          51.9,
          52.37,
          52.51,
          52.57,
          52.81,
          52.81,
          52.98
         ],
         "xaxis": "x",
         "y": [
          22.990706909475325,
          26.979749009497805,
          27.220131025297206,
          27.32732841072126,
          27.343570438815817,
          27.502742314142445,
          27.50923912538027,
          27.947773883933227,
          28.106945759259858,
          28.217391550302825,
          28.370066614391632,
          28.49025762229133,
          28.574716168383013,
          28.68841036504489,
          28.8410854291337,
          28.88656310779845,
          28.906053541511916,
          28.984015276365778,
          28.984015276365778,
          29.03923817188726
         ],
         "yaxis": "y"
        }
       ],
       "layout": {
        "autosize": true,
        "legend": {
         "title": {
          "text": "study"
         },
         "tracegroupgap": 0
        },
        "margin": {
         "t": 60
        },
        "template": {
         "data": {
          "bar": [
           {
            "error_x": {
             "color": "#2a3f5f"
            },
            "error_y": {
             "color": "#2a3f5f"
            },
            "marker": {
             "line": {
              "color": "#E5ECF6",
              "width": 0.5
             },
             "pattern": {
              "fillmode": "overlay",
              "size": 10,
              "solidity": 0.2
             }
            },
            "type": "bar"
           }
          ],
          "barpolar": [
           {
            "marker": {
             "line": {
              "color": "#E5ECF6",
              "width": 0.5
             },
             "pattern": {
              "fillmode": "overlay",
              "size": 10,
              "solidity": 0.2
             }
            },
            "type": "barpolar"
           }
          ],
          "carpet": [
           {
            "aaxis": {
             "endlinecolor": "#2a3f5f",
             "gridcolor": "white",
             "linecolor": "white",
             "minorgridcolor": "white",
             "startlinecolor": "#2a3f5f"
            },
            "baxis": {
             "endlinecolor": "#2a3f5f",
             "gridcolor": "white",
             "linecolor": "white",
             "minorgridcolor": "white",
             "startlinecolor": "#2a3f5f"
            },
            "type": "carpet"
           }
          ],
          "choropleth": [
           {
            "colorbar": {
             "outlinewidth": 0,
             "ticks": ""
            },
            "type": "choropleth"
           }
          ],
          "contour": [
           {
            "colorbar": {
             "outlinewidth": 0,
             "ticks": ""
            },
            "colorscale": [
             [
              0,
              "#0d0887"
             ],
             [
              0.1111111111111111,
              "#46039f"
             ],
             [
              0.2222222222222222,
              "#7201a8"
             ],
             [
              0.3333333333333333,
              "#9c179e"
             ],
             [
              0.4444444444444444,
              "#bd3786"
             ],
             [
              0.5555555555555556,
              "#d8576b"
             ],
             [
              0.6666666666666666,
              "#ed7953"
             ],
             [
              0.7777777777777778,
              "#fb9f3a"
             ],
             [
              0.8888888888888888,
              "#fdca26"
             ],
             [
              1,
              "#f0f921"
             ]
            ],
            "type": "contour"
           }
          ],
          "contourcarpet": [
           {
            "colorbar": {
             "outlinewidth": 0,
             "ticks": ""
            },
            "type": "contourcarpet"
           }
          ],
          "heatmap": [
           {
            "colorbar": {
             "outlinewidth": 0,
             "ticks": ""
            },
            "colorscale": [
             [
              0,
              "#0d0887"
             ],
             [
              0.1111111111111111,
              "#46039f"
             ],
             [
              0.2222222222222222,
              "#7201a8"
             ],
             [
              0.3333333333333333,
              "#9c179e"
             ],
             [
              0.4444444444444444,
              "#bd3786"
             ],
             [
              0.5555555555555556,
              "#d8576b"
             ],
             [
              0.6666666666666666,
              "#ed7953"
             ],
             [
              0.7777777777777778,
              "#fb9f3a"
             ],
             [
              0.8888888888888888,
              "#fdca26"
             ],
             [
              1,
              "#f0f921"
             ]
            ],
            "type": "heatmap"
           }
          ],
          "heatmapgl": [
           {
            "colorbar": {
             "outlinewidth": 0,
             "ticks": ""
            },
            "colorscale": [
             [
              0,
              "#0d0887"
             ],
             [
              0.1111111111111111,
              "#46039f"
             ],
             [
              0.2222222222222222,
              "#7201a8"
             ],
             [
              0.3333333333333333,
              "#9c179e"
             ],
             [
              0.4444444444444444,
              "#bd3786"
             ],
             [
              0.5555555555555556,
              "#d8576b"
             ],
             [
              0.6666666666666666,
              "#ed7953"
             ],
             [
              0.7777777777777778,
              "#fb9f3a"
             ],
             [
              0.8888888888888888,
              "#fdca26"
             ],
             [
              1,
              "#f0f921"
             ]
            ],
            "type": "heatmapgl"
           }
          ],
          "histogram": [
           {
            "marker": {
             "pattern": {
              "fillmode": "overlay",
              "size": 10,
              "solidity": 0.2
             }
            },
            "type": "histogram"
           }
          ],
          "histogram2d": [
           {
            "colorbar": {
             "outlinewidth": 0,
             "ticks": ""
            },
            "colorscale": [
             [
              0,
              "#0d0887"
             ],
             [
              0.1111111111111111,
              "#46039f"
             ],
             [
              0.2222222222222222,
              "#7201a8"
             ],
             [
              0.3333333333333333,
              "#9c179e"
             ],
             [
              0.4444444444444444,
              "#bd3786"
             ],
             [
              0.5555555555555556,
              "#d8576b"
             ],
             [
              0.6666666666666666,
              "#ed7953"
             ],
             [
              0.7777777777777778,
              "#fb9f3a"
             ],
             [
              0.8888888888888888,
              "#fdca26"
             ],
             [
              1,
              "#f0f921"
             ]
            ],
            "type": "histogram2d"
           }
          ],
          "histogram2dcontour": [
           {
            "colorbar": {
             "outlinewidth": 0,
             "ticks": ""
            },
            "colorscale": [
             [
              0,
              "#0d0887"
             ],
             [
              0.1111111111111111,
              "#46039f"
             ],
             [
              0.2222222222222222,
              "#7201a8"
             ],
             [
              0.3333333333333333,
              "#9c179e"
             ],
             [
              0.4444444444444444,
              "#bd3786"
             ],
             [
              0.5555555555555556,
              "#d8576b"
             ],
             [
              0.6666666666666666,
              "#ed7953"
             ],
             [
              0.7777777777777778,
              "#fb9f3a"
             ],
             [
              0.8888888888888888,
              "#fdca26"
             ],
             [
              1,
              "#f0f921"
             ]
            ],
            "type": "histogram2dcontour"
           }
          ],
          "mesh3d": [
           {
            "colorbar": {
             "outlinewidth": 0,
             "ticks": ""
            },
            "type": "mesh3d"
           }
          ],
          "parcoords": [
           {
            "line": {
             "colorbar": {
              "outlinewidth": 0,
              "ticks": ""
             }
            },
            "type": "parcoords"
           }
          ],
          "pie": [
           {
            "automargin": true,
            "type": "pie"
           }
          ],
          "scatter": [
           {
            "fillpattern": {
             "fillmode": "overlay",
             "size": 10,
             "solidity": 0.2
            },
            "type": "scatter"
           }
          ],
          "scatter3d": [
           {
            "line": {
             "colorbar": {
              "outlinewidth": 0,
              "ticks": ""
             }
            },
            "marker": {
             "colorbar": {
              "outlinewidth": 0,
              "ticks": ""
             }
            },
            "type": "scatter3d"
           }
          ],
          "scattercarpet": [
           {
            "marker": {
             "colorbar": {
              "outlinewidth": 0,
              "ticks": ""
             }
            },
            "type": "scattercarpet"
           }
          ],
          "scattergeo": [
           {
            "marker": {
             "colorbar": {
              "outlinewidth": 0,
              "ticks": ""
             }
            },
            "type": "scattergeo"
           }
          ],
          "scattergl": [
           {
            "marker": {
             "colorbar": {
              "outlinewidth": 0,
              "ticks": ""
             }
            },
            "type": "scattergl"
           }
          ],
          "scattermapbox": [
           {
            "marker": {
             "colorbar": {
              "outlinewidth": 0,
              "ticks": ""
             }
            },
            "type": "scattermapbox"
           }
          ],
          "scatterpolar": [
           {
            "marker": {
             "colorbar": {
              "outlinewidth": 0,
              "ticks": ""
             }
            },
            "type": "scatterpolar"
           }
          ],
          "scatterpolargl": [
           {
            "marker": {
             "colorbar": {
              "outlinewidth": 0,
              "ticks": ""
             }
            },
            "type": "scatterpolargl"
           }
          ],
          "scatterternary": [
           {
            "marker": {
             "colorbar": {
              "outlinewidth": 0,
              "ticks": ""
             }
            },
            "type": "scatterternary"
           }
          ],
          "surface": [
           {
            "colorbar": {
             "outlinewidth": 0,
             "ticks": ""
            },
            "colorscale": [
             [
              0,
              "#0d0887"
             ],
             [
              0.1111111111111111,
              "#46039f"
             ],
             [
              0.2222222222222222,
              "#7201a8"
             ],
             [
              0.3333333333333333,
              "#9c179e"
             ],
             [
              0.4444444444444444,
              "#bd3786"
             ],
             [
              0.5555555555555556,
              "#d8576b"
             ],
             [
              0.6666666666666666,
              "#ed7953"
             ],
             [
              0.7777777777777778,
              "#fb9f3a"
             ],
             [
              0.8888888888888888,
              "#fdca26"
             ],
             [
              1,
              "#f0f921"
             ]
            ],
            "type": "surface"
           }
          ],
          "table": [
           {
            "cells": {
             "fill": {
              "color": "#EBF0F8"
             },
             "line": {
              "color": "white"
             }
            },
            "header": {
             "fill": {
              "color": "#C8D4E3"
             },
             "line": {
              "color": "white"
             }
            },
            "type": "table"
           }
          ]
         },
         "layout": {
          "annotationdefaults": {
           "arrowcolor": "#2a3f5f",
           "arrowhead": 0,
           "arrowwidth": 1
          },
          "autotypenumbers": "strict",
          "coloraxis": {
           "colorbar": {
            "outlinewidth": 0,
            "ticks": ""
           }
          },
          "colorscale": {
           "diverging": [
            [
             0,
             "#8e0152"
            ],
            [
             0.1,
             "#c51b7d"
            ],
            [
             0.2,
             "#de77ae"
            ],
            [
             0.3,
             "#f1b6da"
            ],
            [
             0.4,
             "#fde0ef"
            ],
            [
             0.5,
             "#f7f7f7"
            ],
            [
             0.6,
             "#e6f5d0"
            ],
            [
             0.7,
             "#b8e186"
            ],
            [
             0.8,
             "#7fbc41"
            ],
            [
             0.9,
             "#4d9221"
            ],
            [
             1,
             "#276419"
            ]
           ],
           "sequential": [
            [
             0,
             "#0d0887"
            ],
            [
             0.1111111111111111,
             "#46039f"
            ],
            [
             0.2222222222222222,
             "#7201a8"
            ],
            [
             0.3333333333333333,
             "#9c179e"
            ],
            [
             0.4444444444444444,
             "#bd3786"
            ],
            [
             0.5555555555555556,
             "#d8576b"
            ],
            [
             0.6666666666666666,
             "#ed7953"
            ],
            [
             0.7777777777777778,
             "#fb9f3a"
            ],
            [
             0.8888888888888888,
             "#fdca26"
            ],
            [
             1,
             "#f0f921"
            ]
           ],
           "sequentialminus": [
            [
             0,
             "#0d0887"
            ],
            [
             0.1111111111111111,
             "#46039f"
            ],
            [
             0.2222222222222222,
             "#7201a8"
            ],
            [
             0.3333333333333333,
             "#9c179e"
            ],
            [
             0.4444444444444444,
             "#bd3786"
            ],
            [
             0.5555555555555556,
             "#d8576b"
            ],
            [
             0.6666666666666666,
             "#ed7953"
            ],
            [
             0.7777777777777778,
             "#fb9f3a"
            ],
            [
             0.8888888888888888,
             "#fdca26"
            ],
            [
             1,
             "#f0f921"
            ]
           ]
          },
          "colorway": [
           "#636efa",
           "#EF553B",
           "#00cc96",
           "#ab63fa",
           "#FFA15A",
           "#19d3f3",
           "#FF6692",
           "#B6E880",
           "#FF97FF",
           "#FECB52"
          ],
          "font": {
           "color": "#2a3f5f"
          },
          "geo": {
           "bgcolor": "white",
           "lakecolor": "white",
           "landcolor": "#E5ECF6",
           "showlakes": true,
           "showland": true,
           "subunitcolor": "white"
          },
          "hoverlabel": {
           "align": "left"
          },
          "hovermode": "closest",
          "mapbox": {
           "style": "light"
          },
          "paper_bgcolor": "white",
          "plot_bgcolor": "#E5ECF6",
          "polar": {
           "angularaxis": {
            "gridcolor": "white",
            "linecolor": "white",
            "ticks": ""
           },
           "bgcolor": "#E5ECF6",
           "radialaxis": {
            "gridcolor": "white",
            "linecolor": "white",
            "ticks": ""
           }
          },
          "scene": {
           "xaxis": {
            "backgroundcolor": "#E5ECF6",
            "gridcolor": "white",
            "gridwidth": 2,
            "linecolor": "white",
            "showbackground": true,
            "ticks": "",
            "zerolinecolor": "white"
           },
           "yaxis": {
            "backgroundcolor": "#E5ECF6",
            "gridcolor": "white",
            "gridwidth": 2,
            "linecolor": "white",
            "showbackground": true,
            "ticks": "",
            "zerolinecolor": "white"
           },
           "zaxis": {
            "backgroundcolor": "#E5ECF6",
            "gridcolor": "white",
            "gridwidth": 2,
            "linecolor": "white",
            "showbackground": true,
            "ticks": "",
            "zerolinecolor": "white"
           }
          },
          "shapedefaults": {
           "line": {
            "color": "#2a3f5f"
           }
          },
          "ternary": {
           "aaxis": {
            "gridcolor": "white",
            "linecolor": "white",
            "ticks": ""
           },
           "baxis": {
            "gridcolor": "white",
            "linecolor": "white",
            "ticks": ""
           },
           "bgcolor": "#E5ECF6",
           "caxis": {
            "gridcolor": "white",
            "linecolor": "white",
            "ticks": ""
           }
          },
          "title": {
           "x": 0.05
          },
          "xaxis": {
           "automargin": true,
           "gridcolor": "white",
           "linecolor": "white",
           "ticks": "",
           "title": {
            "standoff": 15
           },
           "zerolinecolor": "white",
           "zerolinewidth": 2
          },
          "yaxis": {
           "automargin": true,
           "gridcolor": "white",
           "linecolor": "white",
           "ticks": "",
           "title": {
            "standoff": 15
           },
           "zerolinecolor": "white",
           "zerolinewidth": 2
          }
         }
        },
        "xaxis": {
         "anchor": "y",
         "autorange": true,
         "domain": [
          0,
          1
         ],
         "range": [
          33.154742404227214,
          54.18525759577278
         ],
         "title": {
          "text": "best_acc"
         },
         "type": "linear"
        },
        "yaxis": {
         "anchor": "x",
         "autorange": true,
         "domain": [
          0,
          1
         ],
         "range": [
          22.371236000874184,
          34.760654172896984
         ],
         "title": {
          "text": "test_acc"
         },
         "type": "linear"
        }
       }
      },
      "image/png": "[encoded data removed]",
      "text/html": [
       "<div>                            <div id=\"e66b3aba-d62a-4c57-949f-0e751fef16f3\" class=\"plotly-graph-div\" style=\"height:525px; width:100%;\"></div>            <script type=\"text/javascript\">                require([\"plotly\"], function(Plotly) {                    window.PLOTLYENV=window.PLOTLYENV || {};                                    if (document.getElementById(\"e66b3aba-d62a-4c57-949f-0e751fef16f3\")) {                    Plotly.newPlot(                        \"e66b3aba-d62a-4c57-949f-0e751fef16f3\",                        [{\"hovertemplate\":\"study=vainilla\\u003cbr\\u003ebest_acc=%{x}\\u003cbr\\u003etest_acc=%{y}\\u003cextra\\u003e\\u003c\\u002fextra\\u003e\",\"legendgroup\":\"vainilla\",\"marker\":{\"color\":\"#636efa\",\"symbol\":\"circle\"},\"mode\":\"markers\",\"name\":\"vainilla\",\"orientation\":\"v\",\"showlegend\":true,\"x\":[34.36,46.64,47.38,47.71,47.76,48.25,48.27,49.62,50.11,50.45,50.92,51.29,51.55,51.9,52.37,52.51,52.57,52.81,52.81,52.98],\"xaxis\":\"x\",\"y\":[25.07,24.85,25.1,31.65,24.9,24.78,25.71,25.9,29.91,32.33,24.75,25.09,28.7,31.42,27.91,25.45,29.49,33.93,31.72,30.25],\"yaxis\":\"y\",\"type\":\"scatter\"},{\"hovertemplate\":\"\\u003cb\\u003eOLS trendline\\u003c\\u002fb\\u003e\\u003cbr\\u003etest_acc = 0.324841 * best_acc + 11.8292\\u003cbr\\u003eR\\u003csup\\u003e2\\u003c\\u002fsup\\u003e=0.185949\\u003cbr\\u003e\\u003cbr\\u003estudy=vainilla\\u003cbr\\u003ebest_acc=%{x}\\u003cbr\\u003etest_acc=%{y} \\u003cb\\u003e(trend)\\u003c\\u002fb\\u003e\\u003cextra\\u003e\\u003c\\u002fextra\\u003e\",\"legendgroup\":\"vainilla\",\"marker\":{\"color\":\"#636efa\",\"symbol\":\"circle\"},\"mode\":\"lines\",\"name\":\"vainilla\",\"showlegend\":false,\"x\":[34.36,46.64,47.38,47.71,47.76,48.25,48.27,49.62,50.11,50.45,50.92,51.29,51.55,51.9,52.37,52.51,52.57,52.81,52.81,52.98],\"xaxis\":\"x\",\"y\":[22.990706909475325,26.979749009497805,27.220131025297206,27.32732841072126,27.343570438815817,27.502742314142445,27.50923912538027,27.947773883933227,28.106945759259858,28.217391550302825,28.370066614391632,28.49025762229133,28.574716168383013,28.68841036504489,28.8410854291337,28.88656310779845,28.906053541511916,28.984015276365778,28.984015276365778,29.03923817188726],\"yaxis\":\"y\",\"type\":\"scatter\"}],                        {\"template\":{\"data\":{\"histogram2dcontour\":[{\"type\":\"histogram2dcontour\",\"colorbar\":{\"outlinewidth\":0,\"ticks\":\"\"},\"colorscale\":[[0.0,\"#0d0887\"],[0.1111111111111111,\"#46039f\"],[0.2222222222222222,\"#7201a8\"],[0.3333333333333333,\"#9c179e\"],[0.4444444444444444,\"#bd3786\"],[0.5555555555555556,\"#d8576b\"],[0.6666666666666666,\"#ed7953\"],[0.7777777777777778,\"#fb9f3a\"],[0.8888888888888888,\"#fdca26\"],[1.0,\"#f0f921\"]]}],\"choropleth\":[{\"type\":\"choropleth\",\"colorbar\":{\"outlinewidth\":0,\"ticks\":\"\"}}],\"histogram2d\":[{\"type\":\"histogram2d\",\"colorbar\":{\"outlinewidth\":0,\"ticks\":\"\"},\"colorscale\":[[0.0,\"#0d0887\"],[0.1111111111111111,\"#46039f\"],[0.2222222222222222,\"#7201a8\"],[0.3333333333333333,\"#9c179e\"],[0.4444444444444444,\"#bd3786\"],[0.5555555555555556,\"#d8576b\"],[0.6666666666666666,\"#ed7953\"],[0.7777777777777778,\"#fb9f3a\"],[0.8888888888888888,\"#fdca26\"],[1.0,\"#f0f921\"]]}],\"heatmap\":[{\"type\":\"heatmap\",\"colorbar\":{\"outlinewidth\":0,\"ticks\":\"\"},\"colorscale\":[[0.0,\"#0d0887\"],[0.1111111111111111,\"#46039f\"],[0.2222222222222222,\"#7201a8\"],[0.3333333333333333,\"#9c179e\"],[0.4444444444444444,\"#bd3786\"],[0.5555555555555556,\"#d8576b\"],[0.6666666666666666,\"#ed7953\"],[0.7777777777777778,\"#fb9f3a\"],[0.8888888888888888,\"#fdca26\"],[1.0,\"#f0f921\"]]}],\"heatmapgl\":[{\"type\":\"heatmapgl\",\"colorbar\":{\"outlinewidth\":0,\"ticks\":\"\"},\"colorscale\":[[0.0,\"#0d0887\"],[0.1111111111111111,\"#46039f\"],[0.2222222222222222,\"#7201a8\"],[0.3333333333333333,\"#9c179e\"],[0.4444444444444444,\"#bd3786\"],[0.5555555555555556,\"#d8576b\"],[0.6666666666666666,\"#ed7953\"],[0.7777777777777778,\"#fb9f3a\"],[0.8888888888888888,\"#fdca26\"],[1.0,\"#f0f921\"]]}],\"contourcarpet\":[{\"type\":\"contourcarpet\",\"colorbar\":{\"outlinewidth\":0,\"ticks\":\"\"}}],\"contour\":[{\"type\":\"contour\",\"colorbar\":{\"outlinewidth\":0,\"ticks\":\"\"},\"colorscale\":[[0.0,\"#0d0887\"],[0.1111111111111111,\"#46039f\"],[0.2222222222222222,\"#7201a8\"],[0.3333333333333333,\"#9c179e\"],[0.4444444444444444,\"#bd3786\"],[0.5555555555555556,\"#d8576b\"],[0.6666666666666666,\"#ed7953\"],[0.7777777777777778,\"#fb9f3a\"],[0.8888888888888888,\"#fdca26\"],[1.0,\"#f0f921\"]]}],\"surface\":[{\"type\":\"surface\",\"colorbar\":{\"outlinewidth\":0,\"ticks\":\"\"},\"colorscale\":[[0.0,\"#0d0887\"],[0.1111111111111111,\"#46039f\"],[0.2222222222222222,\"#7201a8\"],[0.3333333333333333,\"#9c179e\"],[0.4444444444444444,\"#bd3786\"],[0.5555555555555556,\"#d8576b\"],[0.6666666666666666,\"#ed7953\"],[0.7777777777777778,\"#fb9f3a\"],[0.8888888888888888,\"#fdca26\"],[1.0,\"#f0f921\"]]}],\"mesh3d\":[{\"type\":\"mesh3d\",\"colorbar\":{\"outlinewidth\":0,\"ticks\":\"\"}}],\"scatter\":[{\"fillpattern\":{\"fillmode\":\"overlay\",\"size\":10,\"solidity\":0.2},\"type\":\"scatter\"}],\"parcoords\":[{\"type\":\"parcoords\",\"line\":{\"colorbar\":{\"outlinewidth\":0,\"ticks\":\"\"}}}],\"scatterpolargl\":[{\"type\":\"scatterpolargl\",\"marker\":{\"colorbar\":{\"outlinewidth\":0,\"ticks\":\"\"}}}],\"bar\":[{\"error_x\":{\"color\":\"#2a3f5f\"},\"error_y\":{\"color\":\"#2a3f5f\"},\"marker\":{\"line\":{\"color\":\"#E5ECF6\",\"width\":0.5},\"pattern\":{\"fillmode\":\"overlay\",\"size\":10,\"solidity\":0.2}},\"type\":\"bar\"}],\"scattergeo\":[{\"type\":\"scattergeo\",\"marker\":{\"colorbar\":{\"outlinewidth\":0,\"ticks\":\"\"}}}],\"scatterpolar\":[{\"type\":\"scatterpolar\",\"marker\":{\"colorbar\":{\"outlinewidth\":0,\"ticks\":\"\"}}}],\"histogram\":[{\"marker\":{\"pattern\":{\"fillmode\":\"overlay\",\"size\":10,\"solidity\":0.2}},\"type\":\"histogram\"}],\"scattergl\":[{\"type\":\"scattergl\",\"marker\":{\"colorbar\":{\"outlinewidth\":0,\"ticks\":\"\"}}}],\"scatter3d\":[{\"type\":\"scatter3d\",\"line\":{\"colorbar\":{\"outlinewidth\":0,\"ticks\":\"\"}},\"marker\":{\"colorbar\":{\"outlinewidth\":0,\"ticks\":\"\"}}}],\"scattermapbox\":[{\"type\":\"scattermapbox\",\"marker\":{\"colorbar\":{\"outlinewidth\":0,\"ticks\":\"\"}}}],\"scatterternary\":[{\"type\":\"scatterternary\",\"marker\":{\"colorbar\":{\"outlinewidth\":0,\"ticks\":\"\"}}}],\"scattercarpet\":[{\"type\":\"scattercarpet\",\"marker\":{\"colorbar\":{\"outlinewidth\":0,\"ticks\":\"\"}}}],\"carpet\":[{\"aaxis\":{\"endlinecolor\":\"#2a3f5f\",\"gridcolor\":\"white\",\"linecolor\":\"white\",\"minorgridcolor\":\"white\",\"startlinecolor\":\"#2a3f5f\"},\"baxis\":{\"endlinecolor\":\"#2a3f5f\",\"gridcolor\":\"white\",\"linecolor\":\"white\",\"minorgridcolor\":\"white\",\"startlinecolor\":\"#2a3f5f\"},\"type\":\"carpet\"}],\"table\":[{\"cells\":{\"fill\":{\"color\":\"#EBF0F8\"},\"line\":{\"color\":\"white\"}},\"header\":{\"fill\":{\"color\":\"#C8D4E3\"},\"line\":{\"color\":\"white\"}},\"type\":\"table\"}],\"barpolar\":[{\"marker\":{\"line\":{\"color\":\"#E5ECF6\",\"width\":0.5},\"pattern\":{\"fillmode\":\"overlay\",\"size\":10,\"solidity\":0.2}},\"type\":\"barpolar\"}],\"pie\":[{\"automargin\":true,\"type\":\"pie\"}]},\"layout\":{\"autotypenumbers\":\"strict\",\"colorway\":[\"#636efa\",\"#EF553B\",\"#00cc96\",\"#ab63fa\",\"#FFA15A\",\"#19d3f3\",\"#FF6692\",\"#B6E880\",\"#FF97FF\",\"#FECB52\"],\"font\":{\"color\":\"#2a3f5f\"},\"hovermode\":\"closest\",\"hoverlabel\":{\"align\":\"left\"},\"paper_bgcolor\":\"white\",\"plot_bgcolor\":\"#E5ECF6\",\"polar\":{\"bgcolor\":\"#E5ECF6\",\"angularaxis\":{\"gridcolor\":\"white\",\"linecolor\":\"white\",\"ticks\":\"\"},\"radialaxis\":{\"gridcolor\":\"white\",\"linecolor\":\"white\",\"ticks\":\"\"}},\"ternary\":{\"bgcolor\":\"#E5ECF6\",\"aaxis\":{\"gridcolor\":\"white\",\"linecolor\":\"white\",\"ticks\":\"\"},\"baxis\":{\"gridcolor\":\"white\",\"linecolor\":\"white\",\"ticks\":\"\"},\"caxis\":{\"gridcolor\":\"white\",\"linecolor\":\"white\",\"ticks\":\"\"}},\"coloraxis\":{\"colorbar\":{\"outlinewidth\":0,\"ticks\":\"\"}},\"colorscale\":{\"sequential\":[[0.0,\"#0d0887\"],[0.1111111111111111,\"#46039f\"],[0.2222222222222222,\"#7201a8\"],[0.3333333333333333,\"#9c179e\"],[0.4444444444444444,\"#bd3786\"],[0.5555555555555556,\"#d8576b\"],[0.6666666666666666,\"#ed7953\"],[0.7777777777777778,\"#fb9f3a\"],[0.8888888888888888,\"#fdca26\"],[1.0,\"#f0f921\"]],\"sequentialminus\":[[0.0,\"#0d0887\"],[0.1111111111111111,\"#46039f\"],[0.2222222222222222,\"#7201a8\"],[0.3333333333333333,\"#9c179e\"],[0.4444444444444444,\"#bd3786\"],[0.5555555555555556,\"#d8576b\"],[0.6666666666666666,\"#ed7953\"],[0.7777777777777778,\"#fb9f3a\"],[0.8888888888888888,\"#fdca26\"],[1.0,\"#f0f921\"]],\"diverging\":[[0,\"#8e0152\"],[0.1,\"#c51b7d\"],[0.2,\"#de77ae\"],[0.3,\"#f1b6da\"],[0.4,\"#fde0ef\"],[0.5,\"#f7f7f7\"],[0.6,\"#e6f5d0\"],[0.7,\"#b8e186\"],[0.8,\"#7fbc41\"],[0.9,\"#4d9221\"],[1,\"#276419\"]]},\"xaxis\":{\"gridcolor\":\"white\",\"linecolor\":\"white\",\"ticks\":\"\",\"title\":{\"standoff\":15},\"zerolinecolor\":\"white\",\"automargin\":true,\"zerolinewidth\":2},\"yaxis\":{\"gridcolor\":\"white\",\"linecolor\":\"white\",\"ticks\":\"\",\"title\":{\"standoff\":15},\"zerolinecolor\":\"white\",\"automargin\":true,\"zerolinewidth\":2},\"scene\":{\"xaxis\":{\"backgroundcolor\":\"#E5ECF6\",\"gridcolor\":\"white\",\"linecolor\":\"white\",\"showbackground\":true,\"ticks\":\"\",\"zerolinecolor\":\"white\",\"gridwidth\":2},\"yaxis\":{\"backgroundcolor\":\"#E5ECF6\",\"gridcolor\":\"white\",\"linecolor\":\"white\",\"showbackground\":true,\"ticks\":\"\",\"zerolinecolor\":\"white\",\"gridwidth\":2},\"zaxis\":{\"backgroundcolor\":\"#E5ECF6\",\"gridcolor\":\"white\",\"linecolor\":\"white\",\"showbackground\":true,\"ticks\":\"\",\"zerolinecolor\":\"white\",\"gridwidth\":2}},\"shapedefaults\":{\"line\":{\"color\":\"#2a3f5f\"}},\"annotationdefaults\":{\"arrowcolor\":\"#2a3f5f\",\"arrowhead\":0,\"arrowwidth\":1},\"geo\":{\"bgcolor\":\"white\",\"landcolor\":\"#E5ECF6\",\"subunitcolor\":\"white\",\"showland\":true,\"showlakes\":true,\"lakecolor\":\"white\"},\"title\":{\"x\":0.05},\"mapbox\":{\"style\":\"light\"}}},\"xaxis\":{\"anchor\":\"y\",\"domain\":[0.0,1.0],\"title\":{\"text\":\"best_acc\"}},\"yaxis\":{\"anchor\":\"x\",\"domain\":[0.0,1.0],\"title\":{\"text\":\"test_acc\"}},\"legend\":{\"title\":{\"text\":\"study\"},\"tracegroupgap\":0},\"margin\":{\"t\":60}},                        {\"responsive\": true}                    ).then(function(){\n",
       "                            \n",
       "var gd = document.getElementById('e66b3aba-d62a-4c57-949f-0e751fef16f3');\n",
       "var x = new MutationObserver(function (mutations, observer) {{\n",
       "        var display = window.getComputedStyle(gd).display;\n",
       "        if (!display || display === 'none') {{\n",
       "            console.log([gd, 'removed!']);\n",
       "            Plotly.purge(gd);\n",
       "            observer.disconnect();\n",
       "        }}\n",
       "}});\n",
       "\n",
       "// Listen for the removal of the full notebook cells\n",
       "var notebookContainer = gd.closest('#notebook-container');\n",
       "if (notebookContainer) {{\n",
       "    x.observe(notebookContainer, {childList: true});\n",
       "}}\n",
       "\n",
       "// Listen for the clearing of the current output cell\n",
       "var outputEl = gd.closest('.output');\n",
       "if (outputEl) {{\n",
       "    x.observe(outputEl, {childList: true});\n",
       "}}\n",
       "\n",
       "                        })                };                });            </script>        </div>"
      ]
     },
     "metadata": {},
     "output_type": "display_data"
    }
   ],
   "source": [
    "scatter_df=vainilla_students[\"SE_D\"][0]\n",
    "scatter_df=pd.merge(scatter_df, sorted_df[\"SE_D\"][[\"name\",\"best_acc\"]], on=\"name\")\n",
    "import plotly.express as px\n",
    "fig = px.scatter(scatter_df,x=\"best_acc\", y=\"test_acc\",color='study', trendline=\"ols\")\n",
    "#fig.add_scatter(x=x, y=y_std, mode='markers', name='Data2',trendline=\"ols\", marker=dict(color='green'))\n",
    "fig.show()"
   ]
  },
  {
   "cell_type": "code",
   "execution_count": 45,
   "id": "aa89c21d-02c4-4ac0-b3af-31d0512b61d4",
   "metadata": {
    "tags": []
   },
   "outputs": [
    {
     "data": {
      "text/html": [
       "<div>\n",
       "<style scoped>\n",
       "    .dataframe tbody tr th:only-of-type {\n",
       "        vertical-align: middle;\n",
       "    }\n",
       "\n",
       "    .dataframe tbody tr th {\n",
       "        vertical-align: top;\n",
       "    }\n",
       "\n",
       "    .dataframe thead th {\n",
       "        text-align: right;\n",
       "    }\n",
       "</style>\n",
       "<table border=\"1\" class=\"dataframe\">\n",
       "  <thead>\n",
       "    <tr style=\"text-align: right;\">\n",
       "      <th></th>\n",
       "      <th>level_0</th>\n",
       "      <th>index</th>\n",
       "      <th>epoch</th>\n",
       "      <th>lr</th>\n",
       "      <th>train_acc</th>\n",
       "      <th>train_loss</th>\n",
       "      <th>best_acc</th>\n",
       "      <th>test_acc_top5</th>\n",
       "      <th>test_loss</th>\n",
       "      <th>epoch_time</th>\n",
       "      <th>name</th>\n",
       "      <th>study</th>\n",
       "    </tr>\n",
       "  </thead>\n",
       "  <tbody>\n",
       "    <tr>\n",
       "      <th>0</th>\n",
       "      <td>0</td>\n",
       "      <td>18</td>\n",
       "      <td>19</td>\n",
       "      <td>0.000245</td>\n",
       "      <td>34.12</td>\n",
       "      <td>1.33</td>\n",
       "      <td>34.36</td>\n",
       "      <td>60.33</td>\n",
       "      <td>1.36</td>\n",
       "      <td>99.20</td>\n",
       "      <td>wakeful_mongoose</td>\n",
       "      <td>SE_D</td>\n",
       "    </tr>\n",
       "    <tr>\n",
       "      <th>1</th>\n",
       "      <td>1</td>\n",
       "      <td>198</td>\n",
       "      <td>19</td>\n",
       "      <td>0.000245</td>\n",
       "      <td>46.03</td>\n",
       "      <td>1.13</td>\n",
       "      <td>46.64</td>\n",
       "      <td>74.61</td>\n",
       "      <td>1.13</td>\n",
       "      <td>57.74</td>\n",
       "      <td>loutish_tiger</td>\n",
       "      <td>SE_D</td>\n",
       "    </tr>\n",
       "    <tr>\n",
       "      <th>2</th>\n",
       "      <td>2</td>\n",
       "      <td>158</td>\n",
       "      <td>19</td>\n",
       "      <td>0.000245</td>\n",
       "      <td>47.68</td>\n",
       "      <td>1.11</td>\n",
       "      <td>47.38</td>\n",
       "      <td>75.10</td>\n",
       "      <td>1.23</td>\n",
       "      <td>97.15</td>\n",
       "      <td>heavenly_squirrel</td>\n",
       "      <td>SE_D</td>\n",
       "    </tr>\n",
       "    <tr>\n",
       "      <th>3</th>\n",
       "      <td>3</td>\n",
       "      <td>37</td>\n",
       "      <td>18</td>\n",
       "      <td>0.000545</td>\n",
       "      <td>48.02</td>\n",
       "      <td>1.10</td>\n",
       "      <td>47.71</td>\n",
       "      <td>75.91</td>\n",
       "      <td>1.11</td>\n",
       "      <td>58.32</td>\n",
       "      <td>didactic_zebu</td>\n",
       "      <td>SE_D</td>\n",
       "    </tr>\n",
       "    <tr>\n",
       "      <th>4</th>\n",
       "      <td>4</td>\n",
       "      <td>219</td>\n",
       "      <td>20</td>\n",
       "      <td>0.000062</td>\n",
       "      <td>47.29</td>\n",
       "      <td>1.12</td>\n",
       "      <td>47.76</td>\n",
       "      <td>75.88</td>\n",
       "      <td>1.11</td>\n",
       "      <td>79.02</td>\n",
       "      <td>flying_capuchin</td>\n",
       "      <td>SE_D</td>\n",
       "    </tr>\n",
       "    <tr>\n",
       "      <th>5</th>\n",
       "      <td>5</td>\n",
       "      <td>139</td>\n",
       "      <td>20</td>\n",
       "      <td>0.000062</td>\n",
       "      <td>48.78</td>\n",
       "      <td>1.09</td>\n",
       "      <td>48.25</td>\n",
       "      <td>76.26</td>\n",
       "      <td>1.11</td>\n",
       "      <td>87.65</td>\n",
       "      <td>dynamic_wasp</td>\n",
       "      <td>SE_D</td>\n",
       "    </tr>\n",
       "    <tr>\n",
       "      <th>6</th>\n",
       "      <td>6</td>\n",
       "      <td>319</td>\n",
       "      <td>20</td>\n",
       "      <td>0.000062</td>\n",
       "      <td>49.48</td>\n",
       "      <td>1.08</td>\n",
       "      <td>48.27</td>\n",
       "      <td>75.87</td>\n",
       "      <td>1.19</td>\n",
       "      <td>108.61</td>\n",
       "      <td>magic_sidewinder</td>\n",
       "      <td>SE_D</td>\n",
       "    </tr>\n",
       "    <tr>\n",
       "      <th>7</th>\n",
       "      <td>7</td>\n",
       "      <td>78</td>\n",
       "      <td>19</td>\n",
       "      <td>0.000245</td>\n",
       "      <td>50.59</td>\n",
       "      <td>1.05</td>\n",
       "      <td>49.62</td>\n",
       "      <td>77.84</td>\n",
       "      <td>1.07</td>\n",
       "      <td>89.99</td>\n",
       "      <td>enormous_limpet</td>\n",
       "      <td>SE_D</td>\n",
       "    </tr>\n",
       "    <tr>\n",
       "      <th>8</th>\n",
       "      <td>8</td>\n",
       "      <td>98</td>\n",
       "      <td>19</td>\n",
       "      <td>0.000245</td>\n",
       "      <td>50.80</td>\n",
       "      <td>1.06</td>\n",
       "      <td>50.11</td>\n",
       "      <td>77.89</td>\n",
       "      <td>1.58</td>\n",
       "      <td>114.49</td>\n",
       "      <td>happy_raven</td>\n",
       "      <td>SE_D</td>\n",
       "    </tr>\n",
       "    <tr>\n",
       "      <th>9</th>\n",
       "      <td>9</td>\n",
       "      <td>398</td>\n",
       "      <td>19</td>\n",
       "      <td>0.000245</td>\n",
       "      <td>51.16</td>\n",
       "      <td>1.05</td>\n",
       "      <td>50.45</td>\n",
       "      <td>78.41</td>\n",
       "      <td>1.07</td>\n",
       "      <td>59.70</td>\n",
       "      <td>phenomenal_dragon</td>\n",
       "      <td>SE_D</td>\n",
       "    </tr>\n",
       "    <tr>\n",
       "      <th>10</th>\n",
       "      <td>10</td>\n",
       "      <td>339</td>\n",
       "      <td>20</td>\n",
       "      <td>0.000062</td>\n",
       "      <td>51.77</td>\n",
       "      <td>1.03</td>\n",
       "      <td>50.92</td>\n",
       "      <td>78.77</td>\n",
       "      <td>1.06</td>\n",
       "      <td>148.25</td>\n",
       "      <td>agile_barracuda</td>\n",
       "      <td>SE_D</td>\n",
       "    </tr>\n",
       "    <tr>\n",
       "      <th>11</th>\n",
       "      <td>11</td>\n",
       "      <td>358</td>\n",
       "      <td>19</td>\n",
       "      <td>0.000245</td>\n",
       "      <td>52.37</td>\n",
       "      <td>1.02</td>\n",
       "      <td>51.29</td>\n",
       "      <td>78.89</td>\n",
       "      <td>1.47</td>\n",
       "      <td>130.76</td>\n",
       "      <td>invaluable_cormorant</td>\n",
       "      <td>SE_D</td>\n",
       "    </tr>\n",
       "    <tr>\n",
       "      <th>12</th>\n",
       "      <td>12</td>\n",
       "      <td>297</td>\n",
       "      <td>18</td>\n",
       "      <td>0.000545</td>\n",
       "      <td>51.28</td>\n",
       "      <td>1.04</td>\n",
       "      <td>51.55</td>\n",
       "      <td>79.06</td>\n",
       "      <td>1.06</td>\n",
       "      <td>97.41</td>\n",
       "      <td>umber_binturong</td>\n",
       "      <td>SE_D</td>\n",
       "    </tr>\n",
       "    <tr>\n",
       "      <th>13</th>\n",
       "      <td>13</td>\n",
       "      <td>379</td>\n",
       "      <td>20</td>\n",
       "      <td>0.000062</td>\n",
       "      <td>52.73</td>\n",
       "      <td>1.02</td>\n",
       "      <td>51.90</td>\n",
       "      <td>79.75</td>\n",
       "      <td>1.04</td>\n",
       "      <td>66.56</td>\n",
       "      <td>optimal_elk</td>\n",
       "      <td>SE_D</td>\n",
       "    </tr>\n",
       "    <tr>\n",
       "      <th>14</th>\n",
       "      <td>14</td>\n",
       "      <td>257</td>\n",
       "      <td>18</td>\n",
       "      <td>0.000545</td>\n",
       "      <td>52.38</td>\n",
       "      <td>1.03</td>\n",
       "      <td>52.37</td>\n",
       "      <td>79.72</td>\n",
       "      <td>1.04</td>\n",
       "      <td>78.08</td>\n",
       "      <td>whimsical_lemming</td>\n",
       "      <td>SE_D</td>\n",
       "    </tr>\n",
       "    <tr>\n",
       "      <th>15</th>\n",
       "      <td>15</td>\n",
       "      <td>118</td>\n",
       "      <td>19</td>\n",
       "      <td>0.000245</td>\n",
       "      <td>56.76</td>\n",
       "      <td>0.95</td>\n",
       "      <td>52.51</td>\n",
       "      <td>79.69</td>\n",
       "      <td>1.75</td>\n",
       "      <td>124.92</td>\n",
       "      <td>unselfish_ermine</td>\n",
       "      <td>SE_D</td>\n",
       "    </tr>\n",
       "    <tr>\n",
       "      <th>16</th>\n",
       "      <td>16</td>\n",
       "      <td>58</td>\n",
       "      <td>19</td>\n",
       "      <td>0.000245</td>\n",
       "      <td>52.74</td>\n",
       "      <td>1.02</td>\n",
       "      <td>52.57</td>\n",
       "      <td>79.88</td>\n",
       "      <td>1.03</td>\n",
       "      <td>102.76</td>\n",
       "      <td>lime_vulture</td>\n",
       "      <td>SE_D</td>\n",
       "    </tr>\n",
       "    <tr>\n",
       "      <th>17</th>\n",
       "      <td>17</td>\n",
       "      <td>178</td>\n",
       "      <td>19</td>\n",
       "      <td>0.000245</td>\n",
       "      <td>53.73</td>\n",
       "      <td>1.00</td>\n",
       "      <td>52.81</td>\n",
       "      <td>80.63</td>\n",
       "      <td>1.02</td>\n",
       "      <td>70.45</td>\n",
       "      <td>angelic_lizard</td>\n",
       "      <td>SE_D</td>\n",
       "    </tr>\n",
       "    <tr>\n",
       "      <th>18</th>\n",
       "      <td>18</td>\n",
       "      <td>279</td>\n",
       "      <td>20</td>\n",
       "      <td>0.000062</td>\n",
       "      <td>52.84</td>\n",
       "      <td>1.02</td>\n",
       "      <td>52.81</td>\n",
       "      <td>80.14</td>\n",
       "      <td>1.03</td>\n",
       "      <td>85.15</td>\n",
       "      <td>poetic_poodle</td>\n",
       "      <td>SE_D</td>\n",
       "    </tr>\n",
       "    <tr>\n",
       "      <th>19</th>\n",
       "      <td>19</td>\n",
       "      <td>238</td>\n",
       "      <td>19</td>\n",
       "      <td>0.000245</td>\n",
       "      <td>54.86</td>\n",
       "      <td>0.98</td>\n",
       "      <td>52.98</td>\n",
       "      <td>80.36</td>\n",
       "      <td>1.15</td>\n",
       "      <td>115.71</td>\n",
       "      <td>ultra_herring</td>\n",
       "      <td>SE_D</td>\n",
       "    </tr>\n",
       "  </tbody>\n",
       "</table>\n",
       "</div>"
      ],
      "text/plain": [
       "    level_0  index  epoch        lr  train_acc  train_loss  best_acc  \\\n",
       "0         0     18     19  0.000245      34.12        1.33     34.36   \n",
       "1         1    198     19  0.000245      46.03        1.13     46.64   \n",
       "2         2    158     19  0.000245      47.68        1.11     47.38   \n",
       "3         3     37     18  0.000545      48.02        1.10     47.71   \n",
       "4         4    219     20  0.000062      47.29        1.12     47.76   \n",
       "5         5    139     20  0.000062      48.78        1.09     48.25   \n",
       "6         6    319     20  0.000062      49.48        1.08     48.27   \n",
       "7         7     78     19  0.000245      50.59        1.05     49.62   \n",
       "8         8     98     19  0.000245      50.80        1.06     50.11   \n",
       "9         9    398     19  0.000245      51.16        1.05     50.45   \n",
       "10       10    339     20  0.000062      51.77        1.03     50.92   \n",
       "11       11    358     19  0.000245      52.37        1.02     51.29   \n",
       "12       12    297     18  0.000545      51.28        1.04     51.55   \n",
       "13       13    379     20  0.000062      52.73        1.02     51.90   \n",
       "14       14    257     18  0.000545      52.38        1.03     52.37   \n",
       "15       15    118     19  0.000245      56.76        0.95     52.51   \n",
       "16       16     58     19  0.000245      52.74        1.02     52.57   \n",
       "17       17    178     19  0.000245      53.73        1.00     52.81   \n",
       "18       18    279     20  0.000062      52.84        1.02     52.81   \n",
       "19       19    238     19  0.000245      54.86        0.98     52.98   \n",
       "\n",
       "    test_acc_top5  test_loss  epoch_time                  name study  \n",
       "0           60.33       1.36       99.20      wakeful_mongoose  SE_D  \n",
       "1           74.61       1.13       57.74         loutish_tiger  SE_D  \n",
       "2           75.10       1.23       97.15     heavenly_squirrel  SE_D  \n",
       "3           75.91       1.11       58.32         didactic_zebu  SE_D  \n",
       "4           75.88       1.11       79.02       flying_capuchin  SE_D  \n",
       "5           76.26       1.11       87.65          dynamic_wasp  SE_D  \n",
       "6           75.87       1.19      108.61      magic_sidewinder  SE_D  \n",
       "7           77.84       1.07       89.99       enormous_limpet  SE_D  \n",
       "8           77.89       1.58      114.49           happy_raven  SE_D  \n",
       "9           78.41       1.07       59.70     phenomenal_dragon  SE_D  \n",
       "10          78.77       1.06      148.25       agile_barracuda  SE_D  \n",
       "11          78.89       1.47      130.76  invaluable_cormorant  SE_D  \n",
       "12          79.06       1.06       97.41       umber_binturong  SE_D  \n",
       "13          79.75       1.04       66.56           optimal_elk  SE_D  \n",
       "14          79.72       1.04       78.08     whimsical_lemming  SE_D  \n",
       "15          79.69       1.75      124.92      unselfish_ermine  SE_D  \n",
       "16          79.88       1.03      102.76          lime_vulture  SE_D  \n",
       "17          80.63       1.02       70.45        angelic_lizard  SE_D  \n",
       "18          80.14       1.03       85.15         poetic_poodle  SE_D  \n",
       "19          80.36       1.15      115.71         ultra_herring  SE_D  "
      ]
     },
     "execution_count": 45,
     "metadata": {},
     "output_type": "execute_result"
    }
   ],
   "source": [
    "sorted_df[\"SE_D\"]"
   ]
  },
  {
   "cell_type": "code",
   "execution_count": 18,
   "id": "9dc8842d-5837-4c27-b733-2e702569dd21",
   "metadata": {
    "tags": []
   },
   "outputs": [
    {
     "data": {
      "text/html": [
       "<div>\n",
       "<style scoped>\n",
       "    .dataframe tbody tr th:only-of-type {\n",
       "        vertical-align: middle;\n",
       "    }\n",
       "\n",
       "    .dataframe tbody tr th {\n",
       "        vertical-align: top;\n",
       "    }\n",
       "\n",
       "    .dataframe thead th {\n",
       "        text-align: right;\n",
       "    }\n",
       "</style>\n",
       "<table border=\"1\" class=\"dataframe\">\n",
       "  <thead>\n",
       "    <tr style=\"text-align: right;\">\n",
       "      <th></th>\n",
       "      <th>index</th>\n",
       "      <th>0</th>\n",
       "      <th>study</th>\n",
       "    </tr>\n",
       "  </thead>\n",
       "  <tbody>\n",
       "    <tr>\n",
       "      <th>0</th>\n",
       "      <td>0</td>\n",
       "      <td>0.431218</td>\n",
       "      <td>SE_D</td>\n",
       "    </tr>\n",
       "    <tr>\n",
       "      <th>1</th>\n",
       "      <td>1</td>\n",
       "      <td>0.520268</td>\n",
       "      <td>SE_D</td>\n",
       "    </tr>\n",
       "    <tr>\n",
       "      <th>2</th>\n",
       "      <td>2</td>\n",
       "      <td>0.694358</td>\n",
       "      <td>SE_D</td>\n",
       "    </tr>\n",
       "    <tr>\n",
       "      <th>3</th>\n",
       "      <td>3</td>\n",
       "      <td>0.702453</td>\n",
       "      <td>SE_D</td>\n",
       "    </tr>\n",
       "    <tr>\n",
       "      <th>4</th>\n",
       "      <td>4</td>\n",
       "      <td>0.782447</td>\n",
       "      <td>SE_D</td>\n",
       "    </tr>\n",
       "    <tr>\n",
       "      <th>5</th>\n",
       "      <td>5</td>\n",
       "      <td>0.925774</td>\n",
       "      <td>SE_D</td>\n",
       "    </tr>\n",
       "    <tr>\n",
       "      <th>6</th>\n",
       "      <td>6</td>\n",
       "      <td>0.918044</td>\n",
       "      <td>SE_D</td>\n",
       "    </tr>\n",
       "    <tr>\n",
       "      <th>7</th>\n",
       "      <td>7</td>\n",
       "      <td>0.888181</td>\n",
       "      <td>SE_D</td>\n",
       "    </tr>\n",
       "    <tr>\n",
       "      <th>8</th>\n",
       "      <td>8</td>\n",
       "      <td>0.939186</td>\n",
       "      <td>SE_D</td>\n",
       "    </tr>\n",
       "    <tr>\n",
       "      <th>9</th>\n",
       "      <td>9</td>\n",
       "      <td>0.976391</td>\n",
       "      <td>SE_D</td>\n",
       "    </tr>\n",
       "    <tr>\n",
       "      <th>10</th>\n",
       "      <td>10</td>\n",
       "      <td>0.968793</td>\n",
       "      <td>SE_D</td>\n",
       "    </tr>\n",
       "    <tr>\n",
       "      <th>11</th>\n",
       "      <td>11</td>\n",
       "      <td>0.956283</td>\n",
       "      <td>SE_D</td>\n",
       "    </tr>\n",
       "    <tr>\n",
       "      <th>12</th>\n",
       "      <td>12</td>\n",
       "      <td>0.961321</td>\n",
       "      <td>SE_D</td>\n",
       "    </tr>\n",
       "    <tr>\n",
       "      <th>13</th>\n",
       "      <td>13</td>\n",
       "      <td>0.993168</td>\n",
       "      <td>SE_D</td>\n",
       "    </tr>\n",
       "    <tr>\n",
       "      <th>14</th>\n",
       "      <td>14</td>\n",
       "      <td>0.991921</td>\n",
       "      <td>SE_D</td>\n",
       "    </tr>\n",
       "    <tr>\n",
       "      <th>15</th>\n",
       "      <td>15</td>\n",
       "      <td>0.996535</td>\n",
       "      <td>SE_D</td>\n",
       "    </tr>\n",
       "    <tr>\n",
       "      <th>16</th>\n",
       "      <td>16</td>\n",
       "      <td>0.997022</td>\n",
       "      <td>SE_D</td>\n",
       "    </tr>\n",
       "    <tr>\n",
       "      <th>17</th>\n",
       "      <td>17</td>\n",
       "      <td>0.998195</td>\n",
       "      <td>SE_D</td>\n",
       "    </tr>\n",
       "    <tr>\n",
       "      <th>18</th>\n",
       "      <td>18</td>\n",
       "      <td>0.999272</td>\n",
       "      <td>SE_D</td>\n",
       "    </tr>\n",
       "    <tr>\n",
       "      <th>19</th>\n",
       "      <td>19</td>\n",
       "      <td>0.999783</td>\n",
       "      <td>SE_D</td>\n",
       "    </tr>\n",
       "  </tbody>\n",
       "</table>\n",
       "</div>"
      ],
      "text/plain": [
       "    index         0 study\n",
       "0       0  0.431218  SE_D\n",
       "1       1  0.520268  SE_D\n",
       "2       2  0.694358  SE_D\n",
       "3       3  0.702453  SE_D\n",
       "4       4  0.782447  SE_D\n",
       "5       5  0.925774  SE_D\n",
       "6       6  0.918044  SE_D\n",
       "7       7  0.888181  SE_D\n",
       "8       8  0.939186  SE_D\n",
       "9       9  0.976391  SE_D\n",
       "10     10  0.968793  SE_D\n",
       "11     11  0.956283  SE_D\n",
       "12     12  0.961321  SE_D\n",
       "13     13  0.993168  SE_D\n",
       "14     14  0.991921  SE_D\n",
       "15     15  0.996535  SE_D\n",
       "16     16  0.997022  SE_D\n",
       "17     17  0.998195  SE_D\n",
       "18     18  0.999272  SE_D\n",
       "19     19  0.999783  SE_D"
      ]
     },
     "execution_count": 18,
     "metadata": {},
     "output_type": "execute_result"
    }
   ],
   "source": [
    "corr_coeff_vainilla[name]"
   ]
  },
  {
   "cell_type": "code",
   "execution_count": 173,
   "id": "91bb7334-06dd-446c-94fa-fb4bde2c6fa6",
   "metadata": {
    "tags": []
   },
   "outputs": [],
   "source": [
    "def scatter_results(chromosomes,columny,columnx=\"flops\",results_path=None):\n",
    "    \"\"\"\n",
    "    Creates a scatter plot of FLOPS (Floating Point Operations Per Second) versus a specified column's values\n",
    "    for each chromosome.\n",
    "\n",
    "    Args:\n",
    "        chromosomes (dict): A dictionary where keys represent chromosome names and values represent\n",
    "            information about the chromosome, including FLOPS ('flops'), WA ('Width slope'), W0 ('Initial width'), WM ('Width multiplier'), DEPTH ('Total depth')m.\n",
    "        column (str): The name of the column from the chromosome information to plot against FLOPS.\n",
    "\n",
    "    Returns:\n",
    "        plotly.graph_objs._figure.Figure: A Plotly figure displaying a scatter plot of FLOPS versus\n",
    "            the specified column's values for each chromosome.\n",
    "\n",
    "    \"\"\"\n",
    "    chromosomes_df=pd.DataFrame(chromosomes).T.reset_index().rename(columns={\"index\":\"name\"})\n",
    "    if results_path is not None:\n",
    "        results_df=pd.read_csv(results_path, index_col=0)[[\"name\",\"best_acc\",\"epoch_time\"]]\n",
    "        chromosomes_df=pd.merge(chromosomes_df,results_df, on=\"name\", how=\"left\")\n",
    "    chromosomes_df[\"W0/WA\"]=chromosomes_df[\"W0\"]/chromosomes_df[\"WA\"]\n",
    "    chromosomes_df[\"W0/WA\"]=chromosomes_df[\"W0/WA\"].round(2)\n",
    "    fig = go.Figure(data=go.Scatter(\n",
    "        x=chromosomes_df[columnx],\n",
    "        y=chromosomes_df[columny],\n",
    "        mode='markers',\n",
    "        #marker=dict(\n",
    "        #    size=2,\n",
    "            #color=np.random.randn(500), #set color equal to a variable\n",
    "            #colorscale='Viridis', # one of plotly colorscales\n",
    "            #showscale=True\n",
    "        #),\n",
    "        marker=dict(\n",
    "            size=10\n",
    "        ),\n",
    "        text=chromosomes_df['name']\n",
    "    ))\n",
    "    layout = go.Layout(\n",
    "        title='',\n",
    "        xaxis=dict(title=columnx),\n",
    "        yaxis=dict(title=columny),\n",
    "        template=\"presentation\"\n",
    "    )\n",
    "    fig.layout=layout\n",
    "    return fig"
   ]
  },
  {
   "cell_type": "code",
   "execution_count": 156,
   "id": "2c19b0d9-62f8-4733-b46a-9e25468ff77b",
   "metadata": {
    "tags": []
   },
   "outputs": [
    {
     "data": {
      "application/vnd.plotly.v1+json": {
       "config": {
        "plotlyServerURL": "https://plot.ly"
       },
       "data": [
        {
         "marker": {
          "size": 10
         },
         "mode": "markers",
         "text": [
          "olive_wasp",
          "hospitable_pronghorn",
          "spectral_hare",
          "loyal_tiger",
          "astute_badger",
          "quizzical_caiman",
          "zircon_toad",
          "hypersonic_sambar",
          "honest_saluki",
          "neat_puffin"
         ],
         "type": "scatter",
         "x": [
          52.12,
          80.34,
          84.39,
          79.37,
          79.15,
          85.92,
          72.87,
          84.03,
          68.45,
          73.69
         ],
         "y": [
          0.16666666666666666,
          1.6666666666666667,
          1.4,
          1,
          1.5,
          1.1666666666666667,
          0.4,
          1.6666666666666667,
          1,
          3
         ]
        }
       ],
       "layout": {
        "autosize": true,
        "template": {
         "data": {
          "pie": [
           {
            "automargin": true,
            "type": "pie"
           }
          ],
          "scatter": [
           {
            "line": {
             "width": 3
            },
            "marker": {
             "size": 9
            },
            "type": "scatter"
           }
          ],
          "scatter3d": [
           {
            "line": {
             "width": 3
            },
            "marker": {
             "size": 9
            },
            "type": "scatter3d"
           }
          ],
          "scattergeo": [
           {
            "line": {
             "width": 3
            },
            "marker": {
             "size": 9
            },
            "type": "scattergeo"
           }
          ],
          "scattergl": [
           {
            "line": {
             "width": 3
            },
            "marker": {
             "size": 9
            },
            "type": "scattergl"
           }
          ],
          "scatterpolar": [
           {
            "line": {
             "width": 3
            },
            "marker": {
             "size": 9
            },
            "type": "scatterpolar"
           }
          ],
          "scatterpolargl": [
           {
            "line": {
             "width": 3
            },
            "marker": {
             "size": 9
            },
            "type": "scatterpolargl"
           }
          ],
          "scatterternary": [
           {
            "line": {
             "width": 3
            },
            "marker": {
             "size": 9
            },
            "type": "scatterternary"
           }
          ],
          "table": [
           {
            "cells": {
             "height": 30
            },
            "header": {
             "height": 36
            },
            "type": "table"
           }
          ]
         },
         "layout": {
          "font": {
           "size": 18
          },
          "xaxis": {
           "title": {
            "standoff": 15
           }
          },
          "yaxis": {
           "title": {
            "standoff": 15
           }
          }
         }
        },
        "title": {
         "text": ""
        },
        "xaxis": {
         "autorange": true,
         "range": [
          49.749315413691725,
          88.29068458630827
         ],
         "title": {
          "text": "best_acc"
         },
         "type": "linear"
        },
        "yaxis": {
         "autorange": true,
         "range": [
          -0.12235228539576368,
          3.2890189520624302
         ],
         "title": {
          "text": "W0/WA"
         },
         "type": "linear"
        }
       }
      },
      "image/png": "[encoded data removed]",
      "text/html": [
       "<div>                            <div id=\"254c2994-66bd-4405-a464-2bf65bade64e\" class=\"plotly-graph-div\" style=\"height:525px; width:100%;\"></div>            <script type=\"text/javascript\">                require([\"plotly\"], function(Plotly) {                    window.PLOTLYENV=window.PLOTLYENV || {};                                    if (document.getElementById(\"254c2994-66bd-4405-a464-2bf65bade64e\")) {                    Plotly.newPlot(                        \"254c2994-66bd-4405-a464-2bf65bade64e\",                        [{\"marker\":{\"size\":10},\"mode\":\"markers\",\"text\":[\"olive_wasp\",\"hospitable_pronghorn\",\"spectral_hare\",\"loyal_tiger\",\"astute_badger\",\"quizzical_caiman\",\"zircon_toad\",\"hypersonic_sambar\",\"honest_saluki\",\"neat_puffin\"],\"x\":[52.12,80.34,84.39,79.37,79.15,85.92,72.87,84.03,68.45,73.69],\"y\":[0.16666666666666666,1.6666666666666667,1.4,1.0,1.5,1.1666666666666667,0.4,1.6666666666666667,1.0,3.0],\"type\":\"scatter\"}],                        {\"template\":{\"data\":{\"pie\":[{\"automargin\":true,\"type\":\"pie\"}],\"scatter3d\":[{\"line\":{\"width\":3},\"marker\":{\"size\":9},\"type\":\"scatter3d\"}],\"scattergeo\":[{\"line\":{\"width\":3},\"marker\":{\"size\":9},\"type\":\"scattergeo\"}],\"scattergl\":[{\"line\":{\"width\":3},\"marker\":{\"size\":9},\"type\":\"scattergl\"}],\"scatterpolargl\":[{\"line\":{\"width\":3},\"marker\":{\"size\":9},\"type\":\"scatterpolargl\"}],\"scatterpolar\":[{\"line\":{\"width\":3},\"marker\":{\"size\":9},\"type\":\"scatterpolar\"}],\"scatter\":[{\"line\":{\"width\":3},\"marker\":{\"size\":9},\"type\":\"scatter\"}],\"scatterternary\":[{\"line\":{\"width\":3},\"marker\":{\"size\":9},\"type\":\"scatterternary\"}],\"table\":[{\"cells\":{\"height\":30},\"header\":{\"height\":36},\"type\":\"table\"}]},\"layout\":{\"font\":{\"size\":18},\"xaxis\":{\"title\":{\"standoff\":15}},\"yaxis\":{\"title\":{\"standoff\":15}}}},\"title\":{\"text\":\"\"},\"xaxis\":{\"title\":{\"text\":\"best_acc\"}},\"yaxis\":{\"title\":{\"text\":\"W0\\u002fWA\"}}},                        {\"responsive\": true}                    ).then(function(){\n",
       "                            \n",
       "var gd = document.getElementById('254c2994-66bd-4405-a464-2bf65bade64e');\n",
       "var x = new MutationObserver(function (mutations, observer) {{\n",
       "        var display = window.getComputedStyle(gd).display;\n",
       "        if (!display || display === 'none') {{\n",
       "            console.log([gd, 'removed!']);\n",
       "            Plotly.purge(gd);\n",
       "            observer.disconnect();\n",
       "        }}\n",
       "}});\n",
       "\n",
       "// Listen for the removal of the full notebook cells\n",
       "var notebookContainer = gd.closest('#notebook-container');\n",
       "if (notebookContainer) {{\n",
       "    x.observe(notebookContainer, {childList: true});\n",
       "}}\n",
       "\n",
       "// Listen for the clearing of the current output cell\n",
       "var outputEl = gd.closest('.output');\n",
       "if (outputEl) {{\n",
       "    x.observe(outputEl, {childList: true});\n",
       "}}\n",
       "\n",
       "                        })                };                });            </script>        </div>"
      ]
     },
     "metadata": {},
     "output_type": "display_data"
    }
   ],
   "source": [
    "scatter_results(chromosomes,  \"W0/WA\",\"best_acc\",\"tests_one_model/Generation_1_NOSE_D/results.csv\")"
   ]
  },
  {
   "cell_type": "code",
   "execution_count": 154,
   "id": "63867fec-24b5-430c-974a-4b0b15d4d500",
   "metadata": {},
   "outputs": [
    {
     "data": {
      "application/vnd.plotly.v1+json": {
       "config": {
        "plotlyServerURL": "https://plot.ly"
       },
       "data": [
        {
         "marker": {
          "size": 10
         },
         "mode": "markers",
         "text": [
          "wakeful_mongoose",
          "didactic_zebu",
          "lime_vulture",
          "enormous_limpet",
          "happy_raven",
          "unselfish_ermine",
          "dynamic_wasp",
          "heavenly_squirrel",
          "angelic_lizard",
          "loutish_tiger",
          "flying_capuchin",
          "ultra_herring",
          "whimsical_lemming",
          "poetic_poodle",
          "umber_binturong",
          "magic_sidewinder",
          "agile_barracuda",
          "invaluable_cormorant",
          "optimal_elk",
          "phenomenal_dragon"
         ],
         "type": "scatter",
         "x": [
          34.36,
          47.71,
          52.57,
          49.62,
          50.11,
          52.51,
          48.25,
          47.38,
          52.81,
          46.64,
          47.76,
          52.98,
          52.37,
          52.81,
          51.55,
          48.27,
          50.92,
          51.29,
          51.9,
          50.45
         ],
         "y": [
          0.6,
          0.16666666666666666,
          3,
          1.25,
          1,
          0.6666666666666666,
          0.6666666666666666,
          0.3333333333333333,
          1.3333333333333333,
          1,
          2,
          2.3333333333333335,
          6,
          4,
          4,
          0.3333333333333333,
          7,
          3,
          1,
          0.4
         ]
        }
       ],
       "layout": {
        "autosize": true,
        "template": {
         "data": {
          "pie": [
           {
            "automargin": true,
            "type": "pie"
           }
          ],
          "scatter": [
           {
            "line": {
             "width": 3
            },
            "marker": {
             "size": 9
            },
            "type": "scatter"
           }
          ],
          "scatter3d": [
           {
            "line": {
             "width": 3
            },
            "marker": {
             "size": 9
            },
            "type": "scatter3d"
           }
          ],
          "scattergeo": [
           {
            "line": {
             "width": 3
            },
            "marker": {
             "size": 9
            },
            "type": "scattergeo"
           }
          ],
          "scattergl": [
           {
            "line": {
             "width": 3
            },
            "marker": {
             "size": 9
            },
            "type": "scattergl"
           }
          ],
          "scatterpolar": [
           {
            "line": {
             "width": 3
            },
            "marker": {
             "size": 9
            },
            "type": "scatterpolar"
           }
          ],
          "scatterpolargl": [
           {
            "line": {
             "width": 3
            },
            "marker": {
             "size": 9
            },
            "type": "scatterpolargl"
           }
          ],
          "scatterternary": [
           {
            "line": {
             "width": 3
            },
            "marker": {
             "size": 9
            },
            "type": "scatterternary"
           }
          ],
          "table": [
           {
            "cells": {
             "height": 30
            },
            "header": {
             "height": 36
            },
            "type": "table"
           }
          ]
         },
         "layout": {
          "font": {
           "size": 18
          },
          "xaxis": {
           "title": {
            "standoff": 15
           }
          },
          "yaxis": {
           "title": {
            "standoff": 15
           }
          }
         }
        },
        "title": {
         "text": ""
        },
        "xaxis": {
         "autorange": true,
         "range": [
          33.05401931961361,
          54.28598068038639
         ],
         "title": {
          "text": "best_acc"
         },
         "type": "linear"
        },
        "yaxis": {
         "autorange": true,
         "range": [
          -0.5303790412486065,
          7.697045707915273
         ],
         "title": {
          "text": "W0/WA"
         },
         "type": "linear"
        }
       }
      },
      "image/png": "[encoded data removed]",
      "text/html": [
       "<div>                            <div id=\"b5285f98-2390-4dd3-8525-c62b910faed0\" class=\"plotly-graph-div\" style=\"height:525px; width:100%;\"></div>            <script type=\"text/javascript\">                require([\"plotly\"], function(Plotly) {                    window.PLOTLYENV=window.PLOTLYENV || {};                                    if (document.getElementById(\"b5285f98-2390-4dd3-8525-c62b910faed0\")) {                    Plotly.newPlot(                        \"b5285f98-2390-4dd3-8525-c62b910faed0\",                        [{\"marker\":{\"size\":10},\"mode\":\"markers\",\"text\":[\"wakeful_mongoose\",\"didactic_zebu\",\"lime_vulture\",\"enormous_limpet\",\"happy_raven\",\"unselfish_ermine\",\"dynamic_wasp\",\"heavenly_squirrel\",\"angelic_lizard\",\"loutish_tiger\",\"flying_capuchin\",\"ultra_herring\",\"whimsical_lemming\",\"poetic_poodle\",\"umber_binturong\",\"magic_sidewinder\",\"agile_barracuda\",\"invaluable_cormorant\",\"optimal_elk\",\"phenomenal_dragon\"],\"x\":[34.36,47.71,52.57,49.62,50.11,52.51,48.25,47.38,52.81,46.64,47.76,52.98,52.37,52.81,51.55,48.27,50.92,51.29,51.9,50.45],\"y\":[0.6,0.16666666666666666,3.0,1.25,1.0,0.6666666666666666,0.6666666666666666,0.3333333333333333,1.3333333333333333,1.0,2.0,2.3333333333333335,6.0,4.0,4.0,0.3333333333333333,7.0,3.0,1.0,0.4],\"type\":\"scatter\"}],                        {\"template\":{\"data\":{\"pie\":[{\"automargin\":true,\"type\":\"pie\"}],\"scatter3d\":[{\"line\":{\"width\":3},\"marker\":{\"size\":9},\"type\":\"scatter3d\"}],\"scattergeo\":[{\"line\":{\"width\":3},\"marker\":{\"size\":9},\"type\":\"scattergeo\"}],\"scattergl\":[{\"line\":{\"width\":3},\"marker\":{\"size\":9},\"type\":\"scattergl\"}],\"scatterpolargl\":[{\"line\":{\"width\":3},\"marker\":{\"size\":9},\"type\":\"scatterpolargl\"}],\"scatterpolar\":[{\"line\":{\"width\":3},\"marker\":{\"size\":9},\"type\":\"scatterpolar\"}],\"scatter\":[{\"line\":{\"width\":3},\"marker\":{\"size\":9},\"type\":\"scatter\"}],\"scatterternary\":[{\"line\":{\"width\":3},\"marker\":{\"size\":9},\"type\":\"scatterternary\"}],\"table\":[{\"cells\":{\"height\":30},\"header\":{\"height\":36},\"type\":\"table\"}]},\"layout\":{\"font\":{\"size\":18},\"xaxis\":{\"title\":{\"standoff\":15}},\"yaxis\":{\"title\":{\"standoff\":15}}}},\"title\":{\"text\":\"\"},\"xaxis\":{\"title\":{\"text\":\"best_acc\"}},\"yaxis\":{\"title\":{\"text\":\"W0\\u002fWA\"}}},                        {\"responsive\": true}                    ).then(function(){\n",
       "                            \n",
       "var gd = document.getElementById('b5285f98-2390-4dd3-8525-c62b910faed0');\n",
       "var x = new MutationObserver(function (mutations, observer) {{\n",
       "        var display = window.getComputedStyle(gd).display;\n",
       "        if (!display || display === 'none') {{\n",
       "            console.log([gd, 'removed!']);\n",
       "            Plotly.purge(gd);\n",
       "            observer.disconnect();\n",
       "        }}\n",
       "}});\n",
       "\n",
       "// Listen for the removal of the full notebook cells\n",
       "var notebookContainer = gd.closest('#notebook-container');\n",
       "if (notebookContainer) {{\n",
       "    x.observe(notebookContainer, {childList: true});\n",
       "}}\n",
       "\n",
       "// Listen for the clearing of the current output cell\n",
       "var outputEl = gd.closest('.output');\n",
       "if (outputEl) {{\n",
       "    x.observe(outputEl, {childList: true});\n",
       "}}\n",
       "\n",
       "                        })                };                });            </script>        </div>"
      ]
     },
     "metadata": {},
     "output_type": "display_data"
    }
   ],
   "source": [
    "scatter_results(chromosomes,  \"W0/WA\",\"best_acc\",\"tests_cifar_tile/Generation_1_SE_D/results.csv\")"
   ]
  },
  {
   "cell_type": "code",
   "execution_count": 182,
   "id": "bbfa9d4d-807d-47c5-af1b-69001f08b289",
   "metadata": {
    "tags": []
   },
   "outputs": [
    {
     "data": {
      "text/plain": [
       "{'ws': [32, 64, 144, 288],\n",
       " 'bs': [1.0, 1.0, 1.0, 1.0],\n",
       " 'gs': [16, 16, 16, 16],\n",
       " 'ds': [1, 4, 6, 8],\n",
       " 'num_stages': 4,\n",
       " 'total_size_mb': 9.592525482177734,\n",
       " 'h': 1,\n",
       " 'w': 1,\n",
       " 'flops': 385139,\n",
       " 'params': 2514623,\n",
       " 'acts': 4275,\n",
       " 'WA': 16.0,\n",
       " 'W0': 32,\n",
       " 'WM': 2.0999999999999996,\n",
       " 'DEPTH': 19,\n",
       " 'GROUP_W': 16}"
      ]
     },
     "execution_count": 182,
     "metadata": {},
     "output_type": "execute_result"
    }
   ],
   "source": [
    "chromosomes[list(chromosomes.keys())[0]]"
   ]
  },
  {
   "cell_type": "code",
   "execution_count": 11,
   "id": "e2dc2109-cd79-470b-83ad-e2fb992e46be",
   "metadata": {
    "tags": []
   },
   "outputs": [],
   "source": [
    "def _generate_regnet(w_a, w_0, w_m, d, q=8):\n",
    "        \"\"\"Generates per stage widths and depths from RegNet parameters.\"\"\"\n",
    "        assert w_a >= 0 and w_0 > 0 and w_m > 1 and w_0 % q == 0\n",
    "        # Generate continuous per-block ws\n",
    "        ws_cont = np.arange(d) * w_a + w_0\n",
    "        print(\"ws_cont: \",ws_cont)\n",
    "        # Generate quantized per-block ws\n",
    "        ks = np.round(np.log(ws_cont / w_0) / np.log(w_m))\n",
    "        print(\"ks: \",ks)\n",
    "        #print(\"ks: \",ks)\n",
    "        ws_all = w_0 * np.power(w_m, ks)\n",
    "        ws_all = np.round(np.divide(ws_all, q)).astype(int) * q\n",
    "        print(\"ws_all:\", ws_all)\n",
    "        # Generate per stage ws and ds (assumes ws_all are sorted)\n",
    "        ws, ds = np.unique(ws_all, return_counts=True)\n",
    "        # Compute number of actual stages and total possible stages\n",
    "        num_stages, total_stages = len(ws), ks.max() + 1\n",
    "        print(\"num_stages\", num_stages)\n",
    "        print(\"total_stages\",total_stages)\n",
    "        # Convert numpy arrays to lists and return\n",
    "        ws, ds, ws_all, ws_cont = (x.tolist() for x in (ws, ds, ws_all, ws_cont))\n",
    "        return ws, ds, num_stages, total_stages, ws_all, ws_cont"
   ]
  },
  {
   "cell_type": "code",
   "execution_count": 158,
   "id": "34e44250-d027-4576-b4a1-ab0a82c12cf1",
   "metadata": {
    "tags": []
   },
   "outputs": [
    {
     "data": {
      "text/plain": [
       "{'ws': [8, 72, 144, 288, 592, 1216],\n",
       " 'bs': [1.0, 1.0, 1.0, 1.0, 1.0, 1.0],\n",
       " 'gs': [8, 8, 8, 8, 8, 8],\n",
       " 'ds': [1, 1, 3, 4, 9, 2],\n",
       " 'num_stages': 6,\n",
       " 'total_size_mb': 62.95697021484375,\n",
       " 'h': 1,\n",
       " 'w': 1,\n",
       " 'flops': 2793680,\n",
       " 'params': 16503792,\n",
       " 'acts': 11504,\n",
       " 'WA': 48.0,\n",
       " 'W0': 8,\n",
       " 'WM': 2.05,\n",
       " 'DEPTH': 20,\n",
       " 'GROUP_W': 8}"
      ]
     },
     "execution_count": 158,
     "metadata": {},
     "output_type": "execute_result"
    }
   ],
   "source": [
    "\n",
    "chromosomes[\"olive_wasp\"]\n",
    "#chromosomes[\"honest_saluki\"]\n",
    "#chromosomes[\"zircon_toad\"]\n",
    "#chromosomes[\"hypersonic_sambar\"]\n",
    "#hypersonic_zambar\n",
    "#quizzical_caiman"
   ]
  },
  {
   "cell_type": "code",
   "execution_count": 167,
   "id": "221b9c94-71ba-4956-8288-118db8b25c0c",
   "metadata": {
    "tags": []
   },
   "outputs": [
    {
     "name": "stdout",
     "output_type": "stream",
     "text": [
      "ws_cont:  [ 64 128 192 256 320 384 448 512 576 640 704 768 832 896]\n",
      "ks:  [0. 1. 2. 2. 2. 2. 3. 3. 3. 3. 3. 3. 4. 4.]\n",
      "ws_all: [  64  128  272  272  272  272  552  552  552  552  552  552 1128 1128]\n",
      "num_stages 5\n",
      "total_stages 5.0\n"
     ]
    },
    {
     "data": {
      "text/plain": [
       "([64, 128, 272, 552, 1128],\n",
       " [1, 1, 4, 6, 2],\n",
       " 5,\n",
       " 5.0,\n",
       " [64, 128, 272, 272, 272, 272, 552, 552, 552, 552, 552, 552, 1128, 1128],\n",
       " [64, 128, 192, 256, 320, 384, 448, 512, 576, 640, 704, 768, 832, 896])"
      ]
     },
     "execution_count": 167,
     "metadata": {},
     "output_type": "execute_result"
    }
   ],
   "source": [
    "_generate_regnet(64, 64, 2.05, 14, q=8)"
   ]
  },
  {
   "cell_type": "code",
   "execution_count": 130,
   "id": "7087ea2b-0af1-4691-a32b-3b9027d0dd46",
   "metadata": {
    "tags": []
   },
   "outputs": [
    {
     "name": "stdout",
     "output_type": "stream",
     "text": [
      "ws_cont:  [ 32  72 112 152 192 232 272 312 352 392 432 472 512 552]\n",
      "ks:  [0. 1. 2. 2. 2. 3. 3. 3. 3. 3. 3. 3. 4. 4.]\n",
      "ws_all: [ 32  72 152 152 152 344 344 344 344 344 344 344 752 752]\n",
      "num_stages 5\n",
      "total_stages 5.0\n"
     ]
    },
    {
     "data": {
      "text/plain": [
       "([32, 72, 152, 344, 752],\n",
       " [1, 1, 3, 7, 2],\n",
       " 5,\n",
       " 5.0,\n",
       " [32, 72, 152, 152, 152, 344, 344, 344, 344, 344, 344, 344, 752, 752],\n",
       " [32, 72, 112, 152, 192, 232, 272, 312, 352, 392, 432, 472, 512, 552])"
      ]
     },
     "execution_count": 130,
     "metadata": {},
     "output_type": "execute_result"
    }
   ],
   "source": [
    "_generate_regnet(40, 32, 2.2, 14, q=8)"
   ]
  },
  {
   "cell_type": "code",
   "execution_count": null,
   "id": "a16c5cf2-67eb-43b7-b878-775d2844fc4d",
   "metadata": {},
   "outputs": [],
   "source": []
  }
 ],
 "metadata": {
  "kernelspec": {
   "display_name": "Python [conda env:pytorch-2.2.0]",
   "language": "python",
   "name": "conda-env-pytorch-2.2.0-py"
  },
  "language_info": {
   "codemirror_mode": {
    "name": "ipython",
    "version": 3
   },
   "file_extension": ".py",
   "mimetype": "text/x-python",
   "name": "python",
   "nbconvert_exporter": "python",
   "pygments_lexer": "ipython3",
   "version": "3.12.1"
  }
 },
 "nbformat": 4,
 "nbformat_minor": 5
}
