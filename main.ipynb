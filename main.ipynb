{
 "cells": [
  {
   "cell_type": "code",
   "execution_count": 1,
   "id": "60d87b27-27c8-4845-bdd7-ba6b4823de87",
   "metadata": {
    "tags": []
   },
   "outputs": [
    {
     "name": "stdout",
     "output_type": "stream",
     "text": [
      "===========================================================================\n",
      "=============    Your Unseen Data 2024 Submission is running     =============\n",
      "===========================================================================\n",
      "========== Dataset   Caitie   =============================================\n",
      "  Metadata:\n",
      "   - num_classes         : 4\n",
      "   - input_shape         : [49260, 3, 64, 64]\n",
      "   - codename            : Caitie\n",
      "   - benchmark           : 47.008\n",
      "   - time_remaining      : 7185.19859957695\n",
      "\n",
      "=== Processing Data ===\n",
      "  Allotted compute time remaining: ~1h,59m,45s\n",
      "[RandomCrop(size=(64, 64), padding=[4, 4, 4, 4], pad_if_needed=False, fill=0, padding_mode=constant), RandomHorizontalFlip(p=0.5)]\n",
      "[Normalize(mean=[tensor(-0.2695), tensor(-0.2762), tensor(-0.2390)], std=[tensor(1.1456), tensor(1.1417), tensor(1.0874)], inplace=False)]\n",
      "[Normalize(mean=[tensor(-0.2695), tensor(-0.2762), tensor(-0.2390)], std=[tensor(1.1456), tensor(1.1417), tensor(1.0874)], inplace=False)]\n",
      "\n",
      "=== Performing NAS ===\n",
      "  Allotted compute time remaining: ~1h,59m,38s\n",
      "[Errno 2] No such file or directory: 'configs/search_space/config.yaml'\n"
     ]
    }
   ],
   "source": [
    "!python our_submission/main.py"
   ]
  },
  {
   "cell_type": "code",
   "execution_count": 2,
   "id": "537634a4-de47-4035-9bcf-1c231b2c625f",
   "metadata": {
    "tags": []
   },
   "outputs": [
    {
     "name": "stderr",
     "output_type": "stream",
     "text": [
      "/home/hpc/iwb3/iwb3021h/.local/lib/python3.12/site-packages/tqdm/auto.py:21: TqdmWarning: IProgress not found. Please update jupyter and ipywidgets. See https://ipywidgets.readthedocs.io/en/stable/user_install.html\n",
      "  from .autonotebook import tqdm as notebook_tqdm\n"
     ]
    }
   ],
   "source": [
    "import nas"
   ]
  },
  {
   "cell_type": "code",
   "execution_count": null,
   "id": "fce1753a-968a-43bf-bf5c-b310027c082e",
   "metadata": {},
   "outputs": [],
   "source": []
  }
 ],
 "metadata": {
  "kernelspec": {
   "display_name": "Python [conda env:pytorch-2.2.0]",
   "language": "python",
   "name": "conda-env-pytorch-2.2.0-py"
  },
  "language_info": {
   "codemirror_mode": {
    "name": "ipython",
    "version": 3
   },
   "file_extension": ".py",
   "mimetype": "text/x-python",
   "name": "python",
   "nbconvert_exporter": "python",
   "pygments_lexer": "ipython3",
   "version": "3.12.1"
  }
 },
 "nbformat": 4,
 "nbformat_minor": 5
}
