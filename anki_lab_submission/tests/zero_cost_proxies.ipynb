{
 "cells": [
  {
   "cell_type": "code",
   "execution_count": 1,
   "id": "8d8162e9-f891-4e74-a169-1fd39e6cd604",
   "metadata": {
    "tags": []
   },
   "outputs": [
    {
     "name": "stderr",
     "output_type": "stream",
     "text": [
      "/home/hpc/iwb3/iwb3021h/.local/lib/python3.12/site-packages/tqdm/auto.py:21: TqdmWarning: IProgress not found. Please update jupyter and ipywidgets. See https://ipywidgets.readthedocs.io/en/stable/user_install.html\n",
      "  from .autonotebook import tqdm as notebook_tqdm\n"
     ]
    }
   ],
   "source": [
    "import sys\n",
    "from torchsummary import summary\n",
    "import functools\n",
    "import ast\n",
    "import torch\n",
    "import random\n",
    "import numpy as np\n",
    "import icecream as ic\n",
    "import time\n",
    "from IPython.display import clear_output\n",
    "import matplotlib.pyplot as plt\n",
    "sys.path.append(\"../../\")\n",
    "sys.path.append(\"../\")\n",
    "####### Dataset ############\n",
    "from data_processor import DataProcessor\n",
    "######## Search space #########\n",
    "from search_space.RegNet import RegNet\n",
    "from search_space.utils import create_widths_plot, scatter_results, get_generation_dfs\n",
    "######## Training ###############\n",
    "from trainer import Trainer, TrainerDistillation\n",
    "from utils.train_cfg import get_cfg, show_cfg\n",
    "###################################################\n",
    "random_seed = 1\n",
    "random.seed(random_seed)\n",
    "# Set seed for NumPy\n",
    "np.random.seed(random_seed)\n",
    "# Set seed for PyTorch\n",
    "torch.manual_seed(random_seed)\n",
    "torch.cuda.manual_seed_all(random_seed)\n",
    "# Additional steps if using CuDNN (optional, for GPU acceleration)\n",
    "torch.backends.cudnn.deterministic = True\n",
    "torch.backends.cudnn.benchmark = False\n",
    "device = torch.device(\"cuda\" if torch.cuda.is_available() else \"cpu\")\n",
    "import os\n",
    "from datetime import datetime\n",
    "import itertools\n",
    "import pandas as pd\n",
    "import json\n",
    "from io import StringIO\n",
    "from coolname import generate_slug\n",
    "from sklearn.metrics import accuracy_score\n",
    "import torch.multiprocessing as mp"
   ]
  },
  {
   "cell_type": "code",
   "execution_count": 2,
   "id": "50069289-0f40-4994-bf26-08bd16165b90",
   "metadata": {
    "tags": []
   },
   "outputs": [],
   "source": [
    "def load_dataset_metadata(dataset_path):\n",
    "    with open(os.path.join(dataset_path, 'metadata'), \"r\") as f:\n",
    "        metadata = json.load(f)\n",
    "    return metadata\n",
    "# load dataset from file\n",
    "def load_datasets(data_path, truncate):\n",
    "    data_path = '../../datasets/'+data_path\n",
    "    train_x = np.load(os.path.join(data_path,'train_x.npy'))\n",
    "    train_y = np.load(os.path.join(data_path,'train_y.npy'))\n",
    "    valid_x = np.load(os.path.join(data_path,'valid_x.npy'))\n",
    "    valid_y = np.load(os.path.join(data_path,'valid_y.npy'))\n",
    "    test_x = np.load(os.path.join(data_path,'test_x.npy'))\n",
    "    metadata = load_dataset_metadata(data_path)\n",
    "\n",
    "    if truncate:\n",
    "        train_x = train_x[:64]\n",
    "        train_y = train_y[:64]\n",
    "        valid_x = valid_x[:64]\n",
    "        valid_y = valid_y[:64]\n",
    "        test_x = test_x[:64]\n",
    "\n",
    "    return (train_x, train_y), \\\n",
    "           (valid_x, valid_y), \\\n",
    "           (test_x), metadata\n",
    "\n",
    "def validation(model, val_loader):\n",
    "    model.eval()\n",
    "    correct = 0\n",
    "    total = 0\n",
    "\n",
    "    with torch.no_grad():\n",
    "        for images, labels in val_loader:\n",
    "            images, labels = images.to(device), labels.to(device)\n",
    "            outputs = model(images)\n",
    "            _, predicted = torch.max(outputs, 1)\n",
    "            total += labels.size(0)\n",
    "            correct += (predicted == labels).sum().item()\n",
    "\n",
    "    # 4. Calculate Accuracy\n",
    "    accuracy = correct / total\n",
    "    print('Accuracy on the test set: {:.2f}%'.format(accuracy * 100))"
   ]
  },
  {
   "cell_type": "code",
   "execution_count": 3,
   "id": "ea16d92d-5b0a-41dd-ac77-9dffb6792bc9",
   "metadata": {
    "tags": []
   },
   "outputs": [
    {
     "name": "stderr",
     "output_type": "stream",
     "text": [
      "/apps/jupyterhub/jh3.1.1-py3.11/envs/pytorch-2.2.0/lib/python3.12/site-packages/torchvision/transforms/v2/_deprecated.py:41: UserWarning: The transform `ToTensor()` is deprecated and will be removed in a future release. Instead, please use `v2.Compose([v2.ToImage(), v2.ToDtype(torch.float32, scale=True)])`.\n",
      "  warnings.warn(\n",
      "ic| self.x.shape: torch.Size([45000, 3, 64, 64])\n",
      "ic| self.x.shape: torch.Size([15000, 3, 64, 64])\n",
      "ic| self.x.shape: torch.Size([10000, 3, 64, 64])\n"
     ]
    },
    {
     "data": {
      "text/plain": [
       "{'num_classes': 4,\n",
       " 'input_shape': [49260, 3, 64, 64],\n",
       " 'codename': 'Caitie',\n",
       " 'benchmark': 47.008,\n",
       " 'select_augment': False,\n",
       " 'train_config_path': 'anki_lab_submission/configs/train/augmentations_adam.yaml'}"
      ]
     },
     "execution_count": 3,
     "metadata": {},
     "output_type": "execute_result"
    }
   ],
   "source": [
    "Dataset=\"CIFARTile\"\n",
    "(train_x, train_y), (valid_x, valid_y), (test_x), metadata = load_datasets(Dataset, truncate=False)\n",
    "test_y = np.load(os.path.join('../../datasets/'+Dataset,'test_y.npy'))\n",
    "metadata[\"select_augment\"]=False\n",
    "data_processor = DataProcessor(train_x[:], train_y[:], valid_x, valid_y, test_x, metadata)\n",
    "train_loader, valid_loader, test_loader = data_processor.process()\n",
    "\n",
    "\n",
    "metadata"
   ]
  },
  {
   "cell_type": "code",
   "execution_count": 4,
   "id": "81a75f8a-ccb2-43e0-b9f6-822cb451c5c9",
   "metadata": {
    "tags": []
   },
   "outputs": [],
   "source": [
    "current_transforms=train_loader.dataset.transform.transforms"
   ]
  },
  {
   "cell_type": "code",
   "execution_count": 5,
   "id": "a8192f51-d715-4ac8-bb5c-1ad7ff898e61",
   "metadata": {
    "tags": []
   },
   "outputs": [],
   "source": [
    "from torchvision.transforms import v2\n",
    "class RandomPixelChange:\n",
    "    def __init__(self, change_prob=0.1):\n",
    "        self.change_prob = change_prob\n",
    "    \n",
    "    def __call__(self, img):\n",
    "        # Convert image to numpy array\n",
    "        img_array = np.array(img).astype(np.float32)\n",
    "        \n",
    "        # Normalize the array to [0, 1]\n",
    "        img_array = (img_array - img_array.min()) / (img_array.max() - img_array.min())#\n",
    "        \n",
    "        unique_values=np.unique(img_array)\n",
    "        \n",
    "        # Generate a random mask with the same shape as img_array\n",
    "        mask = np.random.rand(*img_array.shape) < self.change_prob\n",
    "        \n",
    "        # Apply the mask to randomly change the pixels to any of the unique values\n",
    "        random_values = np.random.choice(unique_values, size=img_array.shape)\n",
    "        img_array[mask] = random_values[mask]\n",
    "        \n",
    "        return img_array.transpose(1, 2, 0)\n",
    "\n",
    "C,H,W=metadata['input_shape'][1:4]\n",
    "PH,PW=int(H/8),int(W/8)\n",
    "poss_augs= [               [],\n",
    "                [RandomPixelChange(0.01), v2.ToTensor()],\n",
    "                [RandomPixelChange(0.05), v2.ToTensor()],\n",
    "                [RandomPixelChange(0.01), v2.ToTensor(), v2.RandomHorizontalFlip(),v2.RandomVerticalFlip()],\n",
    "                [RandomPixelChange(0.01), v2.ToTensor(), v2.RandomCrop((H,W), padding=(PH,PW))],\n",
    "                [v2.RandomHorizontalFlip(),v2.RandomVerticalFlip()],\n",
    "                [v2.RandomErasing(p=0.2, scale=(0.05, 0.2), ratio=(0.3, 3.3))],\n",
    "                [v2.RandomErasing(p=0.2, scale=(0.02, 0.2), ratio=(0.3, 3.3)), v2.RandomCrop((H,W), padding=(PH,PW))],\n",
    "                [v2.RandomCrop((H,W), padding=(PH,PW))],\n",
    "                [v2.RandomErasing(p=0.2, scale=(0.02, 0.2), ratio=(0.3, 3.3)),v2.RandomCrop((H,W), padding=(PH,PW)),v2.RandomHorizontalFlip()]\n",
    "           ]\n",
    "\n",
    "poss_augs=   [             [],  # No augmentation\n",
    "\n",
    "                [RandomPixelChange(0.02), v2.ToTensor()],\n",
    "                [RandomPixelChange(0.05), v2.ToTensor()],\n",
    "                [RandomPixelChange(0.01), v2.ToTensor(), v2.RandomHorizontalFlip(),v2.RandomVerticalFlip()],\n",
    "                [RandomPixelChange(0.01), v2.ToTensor(), v2.RandomCrop((H,W), padding=(PH,PW))],\n",
    "\n",
    "                [v2.RandomHorizontalFlip(), v2.RandomVerticalFlip()],\n",
    "                [ v2.RandomCrop((H,W), padding=(PH,PW)),\n",
    "                v2.RandomHorizontalFlip()],\n",
    "                [v2.RandomGrayscale(p=0.2),v2.RandomErasing(p=0.1, scale=(0.02, 0.33), ratio=(0.3, 3.3))],\n",
    "                [ v2.RandomCrop((H,W), padding=(PH,PW)),\n",
    "                v2.RandomHorizontalFlip(), v2.RandomGrayscale(p=0.1),v2.RandomErasing(p=0.1, scale=(0.02, 0.33), ratio=(0.3, 3.3))]\n",
    "                               ]\n"
   ]
  },
  {
   "cell_type": "code",
   "execution_count": 6,
   "id": "47ba2d22-4405-47fb-a0da-1ec0df7c2a17",
   "metadata": {
    "tags": []
   },
   "outputs": [],
   "source": [
    "train_loader.shuffle=False"
   ]
  },
  {
   "cell_type": "code",
   "execution_count": 7,
   "id": "58450024-da7d-4f95-92e9-f0e1455832d2",
   "metadata": {
    "tags": []
   },
   "outputs": [],
   "source": [
    "aug=7\n",
    "train_loader.dataset.transform=v2.Compose(poss_augs[aug]+[current_transforms[-1]])\n"
   ]
  },
  {
   "cell_type": "code",
   "execution_count": 8,
   "id": "b69171e0-5980-40cf-8ed8-4c13c98848ae",
   "metadata": {
    "tags": []
   },
   "outputs": [
    {
     "data": {
      "text/plain": [
       "[RandomGrayscale(p=0.2),\n",
       " RandomErasing(p=0.1, scale=(0.02, 0.33), ratio=(0.3, 3.3), value=[0.0], inplace=False),\n",
       " Normalize(mean=tensor([-0.2695, -0.2762, -0.2390]), std=tensor([1.1456, 1.1417, 1.0874]))]"
      ]
     },
     "execution_count": 8,
     "metadata": {},
     "output_type": "execute_result"
    }
   ],
   "source": [
    "train_loader.dataset.transform.transforms"
   ]
  },
  {
   "cell_type": "code",
   "execution_count": 9,
   "id": "45545083-9d74-4231-b633-11d8f4720113",
   "metadata": {
    "tags": []
   },
   "outputs": [],
   "source": [
    "#os.mkdir(\"zcost_proxies/results/augs\")               \n",
    "#df_syn.to_csv(f\"zcost_proxies/results/augs/gutenberg_t{aug}.csv\")"
   ]
  },
  {
   "cell_type": "code",
   "execution_count": 11,
   "id": "cfbe8a74-54aa-4dd0-83a9-1976cffe21d6",
   "metadata": {
    "tags": []
   },
   "outputs": [],
   "source": [
    "rg=RegNet(metadata,\n",
    "                    W0=[16, 120, 8],\n",
    "                    WA=[16, 64, 8],\n",
    "                    WM=[2.05,2.9,0.05],\n",
    "                    D=[8,22,1], \n",
    "                    G=[8,8,8], \n",
    "                    base_config=f\"../configs/search_space/config.yaml\")"
   ]
  },
  {
   "cell_type": "code",
   "execution_count": 12,
   "id": "78d6137c-42aa-4c71-8cdd-c7137ed7a7b4",
   "metadata": {
    "tags": []
   },
   "outputs": [],
   "source": [
    "current_time=datetime.now().strftime(\"%d_%m_%Y_%H_%M\")\n",
    "#folder=f\"/home/woody/iwb3/iwb3021h/NAS_COMPETITION_RESULTS/stages_pool\"\n",
    "folder=f\"/home/woody/iwb3/iwb3021h/NAS_COMPETITION_RESULTS/classifier_train\"\n",
    "\n",
    "dataset=metadata[\"codename\"]\n",
    "#models, chromosomes=rg.load_generation(folder+\"/\"+dataset)\n",
    "#models, chromosomes=rg.create_random_generation(save_folder=test_folder,gen=None, size=1, config_updates=None)"
   ]
  },
  {
   "cell_type": "code",
   "execution_count": 50,
   "id": "a648ac41-7c38-431a-b533-97b699cc784c",
   "metadata": {
    "tags": []
   },
   "outputs": [],
   "source": [
    "import json\n",
    "with open(f'/home/woody/iwb3/iwb3021h/NAS_COMPETITION_RESULTS/augmentations_test/{dataset}/augmentation_results.json', 'r') as file:\n",
    "    data = json.load(file)\n",
    "    \n",
    "val_scores_df=pd.DataFrame(data).T.sort_values(by=\"val_acc\").reset_index().rename(columns={\"index\":\"aug\"})\n",
    "val_scores_df.aug=val_scores_df.aug.astype(int)\n",
    "\n",
    "aug_dfs=[]\n",
    "for aug in [0,2,3,4,5,6,7,8]:\n",
    "    df=pd.read_csv(f\"zcost_proxies/results/augs/{dataset}_t{aug}.csv\",index_col=0)[[\"fisher\",\"grad_norm\",\"jacob_cov\",\"plain\",\"snip\",\"synflow\"]].median().reset_index().set_index(\"index\").T\n",
    "    df[\"aug\"]=aug\n",
    "    aug_dfs.append(df)\n",
    "aug_dfs=pd.concat(aug_dfs)\n",
    "\n",
    "aug_merged=pd.merge(aug_dfs,val_scores_df[[\"aug\",\"val_acc\",\"train_acc\"]],on=\"aug\" ).sort_values(by=\"val_acc\")"
   ]
  },
  {
   "cell_type": "code",
   "execution_count": 51,
   "id": "baea7dbc-ab64-4b10-81a3-5a8c0a7c88a4",
   "metadata": {
    "tags": []
   },
   "outputs": [
    {
     "data": {
      "text/html": [
       "<div>\n",
       "<style scoped>\n",
       "    .dataframe tbody tr th:only-of-type {\n",
       "        vertical-align: middle;\n",
       "    }\n",
       "\n",
       "    .dataframe tbody tr th {\n",
       "        vertical-align: top;\n",
       "    }\n",
       "\n",
       "    .dataframe thead th {\n",
       "        text-align: right;\n",
       "    }\n",
       "</style>\n",
       "<table border=\"1\" class=\"dataframe\">\n",
       "  <thead>\n",
       "    <tr style=\"text-align: right;\">\n",
       "      <th></th>\n",
       "      <th>aug</th>\n",
       "      <th>val_acc</th>\n",
       "      <th>train_acc</th>\n",
       "      <th>epoch_time</th>\n",
       "    </tr>\n",
       "  </thead>\n",
       "  <tbody>\n",
       "    <tr>\n",
       "      <th>0</th>\n",
       "      <td>1</td>\n",
       "      <td>26.500000</td>\n",
       "      <td>41.457443</td>\n",
       "      <td>30.256330</td>\n",
       "    </tr>\n",
       "    <tr>\n",
       "      <th>1</th>\n",
       "      <td>4</td>\n",
       "      <td>26.966667</td>\n",
       "      <td>50.643250</td>\n",
       "      <td>34.261710</td>\n",
       "    </tr>\n",
       "    <tr>\n",
       "      <th>2</th>\n",
       "      <td>2</td>\n",
       "      <td>29.106667</td>\n",
       "      <td>44.718216</td>\n",
       "      <td>30.842927</td>\n",
       "    </tr>\n",
       "    <tr>\n",
       "      <th>3</th>\n",
       "      <td>3</td>\n",
       "      <td>30.126667</td>\n",
       "      <td>44.037125</td>\n",
       "      <td>32.754755</td>\n",
       "    </tr>\n",
       "    <tr>\n",
       "      <th>4</th>\n",
       "      <td>0</td>\n",
       "      <td>46.806667</td>\n",
       "      <td>59.666576</td>\n",
       "      <td>9.626233</td>\n",
       "    </tr>\n",
       "    <tr>\n",
       "      <th>5</th>\n",
       "      <td>7</td>\n",
       "      <td>48.426666</td>\n",
       "      <td>61.433849</td>\n",
       "      <td>12.399353</td>\n",
       "    </tr>\n",
       "    <tr>\n",
       "      <th>6</th>\n",
       "      <td>5</td>\n",
       "      <td>58.466667</td>\n",
       "      <td>73.896011</td>\n",
       "      <td>12.167558</td>\n",
       "    </tr>\n",
       "    <tr>\n",
       "      <th>7</th>\n",
       "      <td>8</td>\n",
       "      <td>68.386665</td>\n",
       "      <td>70.136665</td>\n",
       "      <td>17.430750</td>\n",
       "    </tr>\n",
       "    <tr>\n",
       "      <th>8</th>\n",
       "      <td>6</td>\n",
       "      <td>69.053337</td>\n",
       "      <td>75.442932</td>\n",
       "      <td>15.319733</td>\n",
       "    </tr>\n",
       "  </tbody>\n",
       "</table>\n",
       "</div>"
      ],
      "text/plain": [
       "   aug    val_acc  train_acc  epoch_time\n",
       "0    1  26.500000  41.457443   30.256330\n",
       "1    4  26.966667  50.643250   34.261710\n",
       "2    2  29.106667  44.718216   30.842927\n",
       "3    3  30.126667  44.037125   32.754755\n",
       "4    0  46.806667  59.666576    9.626233\n",
       "5    7  48.426666  61.433849   12.399353\n",
       "6    5  58.466667  73.896011   12.167558\n",
       "7    8  68.386665  70.136665   17.430750\n",
       "8    6  69.053337  75.442932   15.319733"
      ]
     },
     "execution_count": 51,
     "metadata": {},
     "output_type": "execute_result"
    }
   ],
   "source": [
    "val_scores_df"
   ]
  },
  {
   "cell_type": "code",
   "execution_count": 52,
   "id": "a4887666-ee5e-4fd5-be50-cbed363c3014",
   "metadata": {
    "tags": []
   },
   "outputs": [
    {
     "name": "stdout",
     "output_type": "stream",
     "text": [
      "fisher\n",
      "0.14285714285714288\n",
      "grad_norm\n",
      "0.4285714285714286\n",
      "jacob_cov\n",
      "0.0\n",
      "plain\n",
      "0.19047619047619052\n",
      "snip\n",
      "0.261904761904762\n",
      "synflow\n",
      "0.3233590907165799\n"
     ]
    }
   ],
   "source": [
    "for metric in [\"fisher\",\"grad_norm\",\"jacob_cov\",\"plain\",\"snip\",\"synflow\"]:\n",
    "    print(metric)\n",
    "    corr, _=spearmanr(aug_merged[metric],aug_merged[\"val_acc\"])\n",
    "    print(corr)"
   ]
  },
  {
   "cell_type": "code",
   "execution_count": 53,
   "id": "540d8a74-5b4b-4a38-824c-30a075b18d7b",
   "metadata": {
    "tags": []
   },
   "outputs": [
    {
     "data": {
      "text/html": [
       "<div>\n",
       "<style scoped>\n",
       "    .dataframe tbody tr th:only-of-type {\n",
       "        vertical-align: middle;\n",
       "    }\n",
       "\n",
       "    .dataframe tbody tr th {\n",
       "        vertical-align: top;\n",
       "    }\n",
       "\n",
       "    .dataframe thead th {\n",
       "        text-align: right;\n",
       "    }\n",
       "</style>\n",
       "<table border=\"1\" class=\"dataframe\">\n",
       "  <thead>\n",
       "    <tr style=\"text-align: right;\">\n",
       "      <th></th>\n",
       "      <th>fisher</th>\n",
       "      <th>grad_norm</th>\n",
       "      <th>jacob_cov</th>\n",
       "      <th>plain</th>\n",
       "      <th>snip</th>\n",
       "      <th>synflow</th>\n",
       "      <th>aug</th>\n",
       "      <th>val_acc</th>\n",
       "      <th>train_acc</th>\n",
       "    </tr>\n",
       "  </thead>\n",
       "  <tbody>\n",
       "    <tr>\n",
       "      <th>3</th>\n",
       "      <td>0.035559</td>\n",
       "      <td>20.254367</td>\n",
       "      <td>-129.006691</td>\n",
       "      <td>0.052259</td>\n",
       "      <td>80.543282</td>\n",
       "      <td>3.953281e+39</td>\n",
       "      <td>4</td>\n",
       "      <td>26.966667</td>\n",
       "      <td>50.643250</td>\n",
       "    </tr>\n",
       "    <tr>\n",
       "      <th>1</th>\n",
       "      <td>0.027626</td>\n",
       "      <td>19.811438</td>\n",
       "      <td>-128.941599</td>\n",
       "      <td>0.060183</td>\n",
       "      <td>72.616066</td>\n",
       "      <td>4.209597e+39</td>\n",
       "      <td>2</td>\n",
       "      <td>29.106667</td>\n",
       "      <td>44.718216</td>\n",
       "    </tr>\n",
       "    <tr>\n",
       "      <th>2</th>\n",
       "      <td>0.096594</td>\n",
       "      <td>33.491844</td>\n",
       "      <td>-128.995591</td>\n",
       "      <td>0.083029</td>\n",
       "      <td>155.533325</td>\n",
       "      <td>7.703862e+41</td>\n",
       "      <td>3</td>\n",
       "      <td>30.126667</td>\n",
       "      <td>44.037125</td>\n",
       "    </tr>\n",
       "    <tr>\n",
       "      <th>0</th>\n",
       "      <td>0.058657</td>\n",
       "      <td>33.105900</td>\n",
       "      <td>-129.009727</td>\n",
       "      <td>0.054275</td>\n",
       "      <td>159.422134</td>\n",
       "      <td>7.577779e+41</td>\n",
       "      <td>0</td>\n",
       "      <td>46.806667</td>\n",
       "      <td>59.666576</td>\n",
       "    </tr>\n",
       "    <tr>\n",
       "      <th>6</th>\n",
       "      <td>0.024783</td>\n",
       "      <td>20.433469</td>\n",
       "      <td>-128.994126</td>\n",
       "      <td>0.063075</td>\n",
       "      <td>83.771671</td>\n",
       "      <td>4.221342e+39</td>\n",
       "      <td>7</td>\n",
       "      <td>48.426666</td>\n",
       "      <td>61.433849</td>\n",
       "    </tr>\n",
       "    <tr>\n",
       "      <th>4</th>\n",
       "      <td>0.024656</td>\n",
       "      <td>19.721895</td>\n",
       "      <td>-128.978208</td>\n",
       "      <td>0.066911</td>\n",
       "      <td>79.816074</td>\n",
       "      <td>3.953281e+39</td>\n",
       "      <td>5</td>\n",
       "      <td>58.466667</td>\n",
       "      <td>73.896011</td>\n",
       "    </tr>\n",
       "    <tr>\n",
       "      <th>7</th>\n",
       "      <td>0.060178</td>\n",
       "      <td>33.147995</td>\n",
       "      <td>-129.002461</td>\n",
       "      <td>0.050118</td>\n",
       "      <td>152.232651</td>\n",
       "      <td>7.340520e+41</td>\n",
       "      <td>8</td>\n",
       "      <td>68.386665</td>\n",
       "      <td>70.136665</td>\n",
       "    </tr>\n",
       "    <tr>\n",
       "      <th>5</th>\n",
       "      <td>0.060679</td>\n",
       "      <td>33.594887</td>\n",
       "      <td>-128.997395</td>\n",
       "      <td>0.069126</td>\n",
       "      <td>153.365326</td>\n",
       "      <td>7.628238e+41</td>\n",
       "      <td>6</td>\n",
       "      <td>69.053337</td>\n",
       "      <td>75.442932</td>\n",
       "    </tr>\n",
       "  </tbody>\n",
       "</table>\n",
       "</div>"
      ],
      "text/plain": [
       "     fisher  grad_norm   jacob_cov     plain        snip       synflow  aug  \\\n",
       "3  0.035559  20.254367 -129.006691  0.052259   80.543282  3.953281e+39    4   \n",
       "1  0.027626  19.811438 -128.941599  0.060183   72.616066  4.209597e+39    2   \n",
       "2  0.096594  33.491844 -128.995591  0.083029  155.533325  7.703862e+41    3   \n",
       "0  0.058657  33.105900 -129.009727  0.054275  159.422134  7.577779e+41    0   \n",
       "6  0.024783  20.433469 -128.994126  0.063075   83.771671  4.221342e+39    7   \n",
       "4  0.024656  19.721895 -128.978208  0.066911   79.816074  3.953281e+39    5   \n",
       "7  0.060178  33.147995 -129.002461  0.050118  152.232651  7.340520e+41    8   \n",
       "5  0.060679  33.594887 -128.997395  0.069126  153.365326  7.628238e+41    6   \n",
       "\n",
       "     val_acc  train_acc  \n",
       "3  26.966667  50.643250  \n",
       "1  29.106667  44.718216  \n",
       "2  30.126667  44.037125  \n",
       "0  46.806667  59.666576  \n",
       "6  48.426666  61.433849  \n",
       "4  58.466667  73.896011  \n",
       "7  68.386665  70.136665  \n",
       "5  69.053337  75.442932  "
      ]
     },
     "execution_count": 53,
     "metadata": {},
     "output_type": "execute_result"
    }
   ],
   "source": [
    "aug_merged"
   ]
  },
  {
   "cell_type": "code",
   "execution_count": 13,
   "id": "19acfa11-4530-48b8-83e5-42a703d868ca",
   "metadata": {
    "tags": []
   },
   "outputs": [],
   "source": [
    "import json\n",
    "import os\n",
    "\n",
    "import kaleido\n",
    "import pandas as pd\n",
    "import numpy as np\n",
    "import plotly.graph_objects as go\n",
    "######## Search space #########\n",
    "import sys\n",
    "sys.path.append(\"../\")\n",
    "from search_space.RegNet import RegNet\n",
    "from search_space.utils import create_widths_plot, scatter_results\n",
    "# Initialize an empty list to store dictionaries\n",
    "def results_to_df(path, name):\n",
    "    data = []\n",
    "    # Open the text file\n",
    "    with open(path, 'r') as file:\n",
    "        lines = file.readlines()\n",
    "        # Initialize an empty dictionary to store data for each block\n",
    "        block_data = {}\n",
    "        for line in lines:\n",
    "            # If the line contains dashes, it indicates the end of a block\n",
    "            if '-------------------------' in line:\n",
    "                # If block_data is not empty, add it to the list of data dictionaries\n",
    "                if block_data:\n",
    "                    data.append(block_data)\n",
    "                    # Reset block_data for the next block\n",
    "                    block_data = {}\n",
    "            elif 'best_acc' in line:\n",
    "                continue\n",
    "            else:\n",
    "                # Split the line by ':'\n",
    "                #print(line)\n",
    "                key, value = line.strip().split(': ')\n",
    "                # Store the key-value pair in the block_data dictionary\n",
    "                block_data[key] = value\n",
    "\n",
    "    # Create a DataFrame from the list of dictionaries\n",
    "    df = pd.DataFrame(data)\n",
    "\n",
    "    # Convert columns to appropriate data types if needed\n",
    "    df['epoch'] = df['epoch'].astype(int)\n",
    "    df['lr'] = df['lr'].astype(float)\n",
    "    df['train_acc'] = df['train_acc'].astype(float)\n",
    "    df['train_loss'] = df['train_loss'].astype(float)\n",
    "    df['test_acc'] = df['test_acc'].astype(float)\n",
    "    df['test_acc_top5'] = df['test_acc_top5'].astype(float)\n",
    "    df['test_loss'] = df['test_loss'].astype(float)\n",
    "    df['epoch_time'] = df['epoch_time'].astype(float)\n",
    "    df=df.assign(name=name)\n",
    "    \n",
    "    return df\n",
    "\n",
    "metadata_dict={}\n",
    "metadata_dict[\"Caitie\"]={'num_classes': 4,\n",
    "                         'input_shape': [49260, 3, 64, 64],\n",
    "                         'codename': 'Caitie',\n",
    "                         'benchmark': 47.008,\n",
    "                         }\n",
    "metadata_dict[\"Adaline\"]={'num_classes': 20,\n",
    "                         'input_shape': [50000, 3, 28, 28],\n",
    "                         'codename': 'Adaline',\n",
    "                         'benchmark': 89.85}\n",
    "metadata_dict[\"Chester\"]={'input_shape': [49998, 12, 8, 8],\n",
    "                         'codename': 'Chester',\n",
    "                         'benchmark': 57.826,\n",
    "                         'num_classes': 3}\n",
    "metadata_dict[\"Gutenberg\"]={'input_shape': [45000, 1, 27, 18],\n",
    "                         'codename': 'Gutenberg',\n",
    "                         'benchmark': 40.98,\n",
    "                         'num_classes': 6}\n",
    "metadata_dict[\"LaMelo\"]={'num_classes': 10,\n",
    "                         'codename': 'LaMelo',\n",
    "                         'input_shape': [50000, 1, 24, 24],\n",
    "                         'benchmark': 85.2}\n",
    "metadata_dict[\"Mateo\"]={'num_classes': 10,\n",
    "                         'input_shape': [50000, 3, 28, 28],\n",
    "                         'codename': 'Mateo',\n",
    "                         'benchmark': 90.87}\n",
    "metadata_dict[\"Sadie\"]={'input_shape': [50000, 3, 64, 64],\n",
    "                         'codename': 'Sadie',\n",
    "                         'benchmark': 80.33,\n",
    "                         'num_classes': 10}\n",
    "metadata_dict[\"Sokoto\"]={'input_shape': [50000, 1, 9, 9],\n",
    "                         'codename': 'Sokoto',\n",
    "                         'benchmark': 0.0,\n",
    "                         'num_classes': 9}\n",
    "def get_predictor_data_from_folder(base_folder,studies):\n",
    "\n",
    "    \n",
    "    train_data=[]\n",
    "    for study_name in studies: \n",
    "        \n",
    "\n",
    "        metadata=metadata_dict[study_name]\n",
    "        rg=RegNet(metadata,\n",
    "                        W0=[16, 120, 8],\n",
    "                        WA=[16, 64, 8],\n",
    "                        WM=[2.05,2.9,0.05],\n",
    "                        D=[8,22,1], \n",
    "                        G=[8,8,8], \n",
    "                        base_config=f\"../configs/search_space/config.yaml\")\n",
    "        data=[]\n",
    "        study_folder=f\"{base_folder}/{study_name}\"\n",
    "        subjects= os.listdir(study_folder)\n",
    "\n",
    "        subjects=[subject for subject in subjects if os.path.isdir(f\"{study_folder}/{subject}\")]\n",
    "        print(subjects)\n",
    "        for name in subjects:\n",
    "            try:\n",
    "                test_acc=results_to_df(f\"{study_folder}/{name}/worklog.txt\", f\"{name}\")[[\"epoch\",\"test_acc\",\"name\"]]\n",
    "                #test_acc=test_acc.rename(columns={\"test_acc\":\"acc\",\"test_loss\":\"test_acc\"})\n",
    "                #print(test_acc.columns)\n",
    "                if len(test_acc)>49:\n",
    "                    test_acc_piv = test_acc[[\"epoch\",\"test_acc\",\"name\"]].pivot(index='name', columns='epoch', values='test_acc').add_prefix(\"epoch_\").reset_index()\n",
    "                    test_acc_piv[\"best_acc\"]=test_acc[\"test_acc\"].max()\n",
    "                    \n",
    "                    model, info=rg.load_model(config_file=f\"{study_folder}/{name}/config.yaml\")\n",
    "                    test_acc_piv[\"gen\"]=1\n",
    "                    test_acc_piv[\"num_stages\"]=info[\"num_stages\"]\n",
    "                    test_acc_piv[\"params\"]=info[\"params\"]\n",
    "                    test_acc_piv[\"WA\"]=info[\"WA\"]\n",
    "                    test_acc_piv[\"W0\"]=info[\"W0\"]\n",
    "                    test_acc_piv[\"WM\"]=info[\"WM\"]\n",
    "                    test_acc_piv[\"DEPTH\"]=info[\"DEPTH\"]\n",
    "                    test_acc_piv[\"num_classes\"]=metadata[\"num_classes\"]\n",
    "                    test_acc_piv[\"num_channels\"]=metadata[\"input_shape\"][1]\n",
    "                    test_acc_piv[\"benchmark\"]=metadata[\"benchmark\"]\n",
    "                    \n",
    "                    #print(info)\n",
    "                    data.append(test_acc_piv)\n",
    "            except:\n",
    "                    pass\n",
    "\n",
    "        data=pd.concat(data)\n",
    "        train_data.append(data)\n",
    "    train_data=pd.concat(train_data)\n",
    "    return train_data\n",
    "    "
   ]
  },
  {
   "cell_type": "code",
   "execution_count": 14,
   "id": "f9d1904b-dee8-41e0-9ce7-93a68f751083",
   "metadata": {
    "tags": []
   },
   "outputs": [
    {
     "data": {
      "text/plain": [
       "'/home/woody/iwb3/iwb3021h/NAS_COMPETITION_RESULTS/classifier_train'"
      ]
     },
     "execution_count": 14,
     "metadata": {},
     "output_type": "execute_result"
    }
   ],
   "source": [
    "\n",
    "folder"
   ]
  },
  {
   "cell_type": "code",
   "execution_count": 15,
   "id": "38e53f07-9f61-431c-9f00-bf3883712365",
   "metadata": {
    "tags": []
   },
   "outputs": [
    {
     "name": "stdout",
     "output_type": "stream",
     "text": [
      "['masked_earthworm', 'daffy_mongrel', 'wandering_tody', 'uber_bat', 'vivacious_eel', 'lush_chimpanzee', 'ultra_vulture', 'olive_hoatzin', 'antique_taipan', 'tremendous_pony', 'independent_chowchow', 'micro_pug', 'cerulean_galago', 'capable_mussel', 'fuzzy_magpie', 'magic_pheasant', 'charming_dachshund', 'invisible_stork', 'sapphire_seagull', 'axiomatic_vole', 'snobbish_curassow', 'vengeful_otter', 'ochre_grebe', 'imposing_walrus', 'lurking_chowchow', 'holistic_marten', 'spectral_flamingo', 'ruddy_rhino', 'aboriginal_okapi', 'slick_penguin', 'imperial_oyster', 'cherry_rook', 'adept_sponge', 'adaptable_weasel', 'loyal_macaque', 'amber_jackdaw', 'polar_harrier', 'giga_seal', 'calculating_coyote', 'gabby_kangaroo', 'manipulative_cormorant', 'steady_kakapo', 'obedient_curassow', 'cooperative_tench', 'prudent_caribou', 'radiant_raptor', 'impressive_agouti', 'placid_peacock', 'rose_mackerel', 'glittering_wildcat', 'inventive_horse', 'devious_cicada', 'delicate_lemur', 'certain_mastodon', 'abiding_turaco', 'mature_locust', 'elegant_aardwark', 'fiery_heron', 'didactic_turkey', 'heavenly_moose', 'lyrical_skylark', 'helpful_horse', 'impressive_binturong', 'emerald_earthworm', 'jumping_nuthatch', 'just_salmon', 'deft_alpaca', 'innocent_barnacle', 'adept_orangutan', 'incredible_cat', 'capable_carp', 'apricot_jerboa', 'flying_tody', 'large_mustang', 'certain_porpoise', 'gleaming_spoonbill', 'bold_mouse', 'idealistic_crayfish', 'diamond_tench', 'cocky_gerbil', 'esoteric_husky', 'carrot_chameleon', 'gentle_kakapo', 'ingenious_puffin', 'imposing_wildcat', 'fanatic_chicken', 'busy_lemur', 'benign_jackrabbit', 'honest_chamois', 'adept_weasel', 'bizarre_grouse', 'abstract_spoonbill', 'fancy_kestrel', 'axiomatic_wallaby', 'fearless_manatee', 'competent_bee', 'dancing_angelfish', 'daffodil_mackerel', 'jovial_mammoth', 'fluorescent_mussel', 'asparagus_mammoth', 'astute_ape', 'happy_hedgehog', 'expert_tody', 'beige_panther', 'dashing_sidewinder', 'divergent_mole', 'delicate_swift', 'honest_sloth', 'able_griffin', 'azure_asp', 'logical_pudu', 'dazzling_polecat', 'acrid_echidna', 'cherry_mastiff', 'dramatic_impala', 'gigantic_chihuahua', 'hilarious_dragon', 'able_fennec']\n",
      "Loading model: /home/woody/iwb3/iwb3021h/NAS_COMPETITION_RESULTS/classifier_train/Caitie/masked_earthworm/config.yaml\n",
      "Loading model: /home/woody/iwb3/iwb3021h/NAS_COMPETITION_RESULTS/classifier_train/Caitie/daffy_mongrel/config.yaml\n",
      "Loading model: /home/woody/iwb3/iwb3021h/NAS_COMPETITION_RESULTS/classifier_train/Caitie/wandering_tody/config.yaml\n",
      "Loading model: /home/woody/iwb3/iwb3021h/NAS_COMPETITION_RESULTS/classifier_train/Caitie/uber_bat/config.yaml\n",
      "Loading model: /home/woody/iwb3/iwb3021h/NAS_COMPETITION_RESULTS/classifier_train/Caitie/vivacious_eel/config.yaml\n",
      "Loading model: /home/woody/iwb3/iwb3021h/NAS_COMPETITION_RESULTS/classifier_train/Caitie/lush_chimpanzee/config.yaml\n",
      "Loading model: /home/woody/iwb3/iwb3021h/NAS_COMPETITION_RESULTS/classifier_train/Caitie/ultra_vulture/config.yaml\n",
      "Loading model: /home/woody/iwb3/iwb3021h/NAS_COMPETITION_RESULTS/classifier_train/Caitie/olive_hoatzin/config.yaml\n",
      "Loading model: /home/woody/iwb3/iwb3021h/NAS_COMPETITION_RESULTS/classifier_train/Caitie/antique_taipan/config.yaml\n",
      "Loading model: /home/woody/iwb3/iwb3021h/NAS_COMPETITION_RESULTS/classifier_train/Caitie/tremendous_pony/config.yaml\n",
      "Loading model: /home/woody/iwb3/iwb3021h/NAS_COMPETITION_RESULTS/classifier_train/Caitie/independent_chowchow/config.yaml\n",
      "Loading model: /home/woody/iwb3/iwb3021h/NAS_COMPETITION_RESULTS/classifier_train/Caitie/micro_pug/config.yaml\n",
      "Loading model: /home/woody/iwb3/iwb3021h/NAS_COMPETITION_RESULTS/classifier_train/Caitie/cerulean_galago/config.yaml\n",
      "Loading model: /home/woody/iwb3/iwb3021h/NAS_COMPETITION_RESULTS/classifier_train/Caitie/capable_mussel/config.yaml\n",
      "Loading model: /home/woody/iwb3/iwb3021h/NAS_COMPETITION_RESULTS/classifier_train/Caitie/fuzzy_magpie/config.yaml\n",
      "Loading model: /home/woody/iwb3/iwb3021h/NAS_COMPETITION_RESULTS/classifier_train/Caitie/magic_pheasant/config.yaml\n",
      "Loading model: /home/woody/iwb3/iwb3021h/NAS_COMPETITION_RESULTS/classifier_train/Caitie/charming_dachshund/config.yaml\n",
      "Loading model: /home/woody/iwb3/iwb3021h/NAS_COMPETITION_RESULTS/classifier_train/Caitie/invisible_stork/config.yaml\n",
      "Loading model: /home/woody/iwb3/iwb3021h/NAS_COMPETITION_RESULTS/classifier_train/Caitie/sapphire_seagull/config.yaml\n",
      "Loading model: /home/woody/iwb3/iwb3021h/NAS_COMPETITION_RESULTS/classifier_train/Caitie/axiomatic_vole/config.yaml\n",
      "Loading model: /home/woody/iwb3/iwb3021h/NAS_COMPETITION_RESULTS/classifier_train/Caitie/snobbish_curassow/config.yaml\n",
      "Loading model: /home/woody/iwb3/iwb3021h/NAS_COMPETITION_RESULTS/classifier_train/Caitie/vengeful_otter/config.yaml\n",
      "Loading model: /home/woody/iwb3/iwb3021h/NAS_COMPETITION_RESULTS/classifier_train/Caitie/ochre_grebe/config.yaml\n",
      "Loading model: /home/woody/iwb3/iwb3021h/NAS_COMPETITION_RESULTS/classifier_train/Caitie/imposing_walrus/config.yaml\n",
      "Loading model: /home/woody/iwb3/iwb3021h/NAS_COMPETITION_RESULTS/classifier_train/Caitie/lurking_chowchow/config.yaml\n",
      "Loading model: /home/woody/iwb3/iwb3021h/NAS_COMPETITION_RESULTS/classifier_train/Caitie/holistic_marten/config.yaml\n",
      "Loading model: /home/woody/iwb3/iwb3021h/NAS_COMPETITION_RESULTS/classifier_train/Caitie/spectral_flamingo/config.yaml\n",
      "Loading model: /home/woody/iwb3/iwb3021h/NAS_COMPETITION_RESULTS/classifier_train/Caitie/ruddy_rhino/config.yaml\n",
      "Loading model: /home/woody/iwb3/iwb3021h/NAS_COMPETITION_RESULTS/classifier_train/Caitie/aboriginal_okapi/config.yaml\n",
      "Loading model: /home/woody/iwb3/iwb3021h/NAS_COMPETITION_RESULTS/classifier_train/Caitie/slick_penguin/config.yaml\n",
      "Loading model: /home/woody/iwb3/iwb3021h/NAS_COMPETITION_RESULTS/classifier_train/Caitie/imperial_oyster/config.yaml\n",
      "Loading model: /home/woody/iwb3/iwb3021h/NAS_COMPETITION_RESULTS/classifier_train/Caitie/cherry_rook/config.yaml\n",
      "Loading model: /home/woody/iwb3/iwb3021h/NAS_COMPETITION_RESULTS/classifier_train/Caitie/adept_sponge/config.yaml\n",
      "Loading model: /home/woody/iwb3/iwb3021h/NAS_COMPETITION_RESULTS/classifier_train/Caitie/adaptable_weasel/config.yaml\n",
      "Loading model: /home/woody/iwb3/iwb3021h/NAS_COMPETITION_RESULTS/classifier_train/Caitie/loyal_macaque/config.yaml\n",
      "Loading model: /home/woody/iwb3/iwb3021h/NAS_COMPETITION_RESULTS/classifier_train/Caitie/amber_jackdaw/config.yaml\n",
      "Loading model: /home/woody/iwb3/iwb3021h/NAS_COMPETITION_RESULTS/classifier_train/Caitie/polar_harrier/config.yaml\n",
      "Loading model: /home/woody/iwb3/iwb3021h/NAS_COMPETITION_RESULTS/classifier_train/Caitie/giga_seal/config.yaml\n",
      "Loading model: /home/woody/iwb3/iwb3021h/NAS_COMPETITION_RESULTS/classifier_train/Caitie/calculating_coyote/config.yaml\n",
      "Loading model: /home/woody/iwb3/iwb3021h/NAS_COMPETITION_RESULTS/classifier_train/Caitie/manipulative_cormorant/config.yaml\n",
      "Loading model: /home/woody/iwb3/iwb3021h/NAS_COMPETITION_RESULTS/classifier_train/Caitie/steady_kakapo/config.yaml\n",
      "Loading model: /home/woody/iwb3/iwb3021h/NAS_COMPETITION_RESULTS/classifier_train/Caitie/obedient_curassow/config.yaml\n",
      "Loading model: /home/woody/iwb3/iwb3021h/NAS_COMPETITION_RESULTS/classifier_train/Caitie/cooperative_tench/config.yaml\n",
      "Loading model: /home/woody/iwb3/iwb3021h/NAS_COMPETITION_RESULTS/classifier_train/Caitie/prudent_caribou/config.yaml\n",
      "Loading model: /home/woody/iwb3/iwb3021h/NAS_COMPETITION_RESULTS/classifier_train/Caitie/radiant_raptor/config.yaml\n",
      "Loading model: /home/woody/iwb3/iwb3021h/NAS_COMPETITION_RESULTS/classifier_train/Caitie/impressive_agouti/config.yaml\n",
      "Loading model: /home/woody/iwb3/iwb3021h/NAS_COMPETITION_RESULTS/classifier_train/Caitie/placid_peacock/config.yaml\n",
      "Loading model: /home/woody/iwb3/iwb3021h/NAS_COMPETITION_RESULTS/classifier_train/Caitie/rose_mackerel/config.yaml\n",
      "Loading model: /home/woody/iwb3/iwb3021h/NAS_COMPETITION_RESULTS/classifier_train/Caitie/glittering_wildcat/config.yaml\n",
      "Loading model: /home/woody/iwb3/iwb3021h/NAS_COMPETITION_RESULTS/classifier_train/Caitie/inventive_horse/config.yaml\n",
      "Loading model: /home/woody/iwb3/iwb3021h/NAS_COMPETITION_RESULTS/classifier_train/Caitie/devious_cicada/config.yaml\n",
      "Loading model: /home/woody/iwb3/iwb3021h/NAS_COMPETITION_RESULTS/classifier_train/Caitie/delicate_lemur/config.yaml\n",
      "Loading model: /home/woody/iwb3/iwb3021h/NAS_COMPETITION_RESULTS/classifier_train/Caitie/certain_mastodon/config.yaml\n",
      "Loading model: /home/woody/iwb3/iwb3021h/NAS_COMPETITION_RESULTS/classifier_train/Caitie/abiding_turaco/config.yaml\n",
      "Loading model: /home/woody/iwb3/iwb3021h/NAS_COMPETITION_RESULTS/classifier_train/Caitie/mature_locust/config.yaml\n",
      "Loading model: /home/woody/iwb3/iwb3021h/NAS_COMPETITION_RESULTS/classifier_train/Caitie/elegant_aardwark/config.yaml\n",
      "Loading model: /home/woody/iwb3/iwb3021h/NAS_COMPETITION_RESULTS/classifier_train/Caitie/fiery_heron/config.yaml\n",
      "Loading model: /home/woody/iwb3/iwb3021h/NAS_COMPETITION_RESULTS/classifier_train/Caitie/didactic_turkey/config.yaml\n",
      "Loading model: /home/woody/iwb3/iwb3021h/NAS_COMPETITION_RESULTS/classifier_train/Caitie/heavenly_moose/config.yaml\n",
      "Loading model: /home/woody/iwb3/iwb3021h/NAS_COMPETITION_RESULTS/classifier_train/Caitie/lyrical_skylark/config.yaml\n",
      "Loading model: /home/woody/iwb3/iwb3021h/NAS_COMPETITION_RESULTS/classifier_train/Caitie/helpful_horse/config.yaml\n",
      "Loading model: /home/woody/iwb3/iwb3021h/NAS_COMPETITION_RESULTS/classifier_train/Caitie/impressive_binturong/config.yaml\n",
      "Loading model: /home/woody/iwb3/iwb3021h/NAS_COMPETITION_RESULTS/classifier_train/Caitie/emerald_earthworm/config.yaml\n",
      "Loading model: /home/woody/iwb3/iwb3021h/NAS_COMPETITION_RESULTS/classifier_train/Caitie/jumping_nuthatch/config.yaml\n",
      "Loading model: /home/woody/iwb3/iwb3021h/NAS_COMPETITION_RESULTS/classifier_train/Caitie/just_salmon/config.yaml\n",
      "Loading model: /home/woody/iwb3/iwb3021h/NAS_COMPETITION_RESULTS/classifier_train/Caitie/deft_alpaca/config.yaml\n",
      "Loading model: /home/woody/iwb3/iwb3021h/NAS_COMPETITION_RESULTS/classifier_train/Caitie/innocent_barnacle/config.yaml\n",
      "Loading model: /home/woody/iwb3/iwb3021h/NAS_COMPETITION_RESULTS/classifier_train/Caitie/adept_orangutan/config.yaml\n",
      "Loading model: /home/woody/iwb3/iwb3021h/NAS_COMPETITION_RESULTS/classifier_train/Caitie/incredible_cat/config.yaml\n",
      "Loading model: /home/woody/iwb3/iwb3021h/NAS_COMPETITION_RESULTS/classifier_train/Caitie/capable_carp/config.yaml\n",
      "Loading model: /home/woody/iwb3/iwb3021h/NAS_COMPETITION_RESULTS/classifier_train/Caitie/apricot_jerboa/config.yaml\n",
      "Loading model: /home/woody/iwb3/iwb3021h/NAS_COMPETITION_RESULTS/classifier_train/Caitie/flying_tody/config.yaml\n",
      "Loading model: /home/woody/iwb3/iwb3021h/NAS_COMPETITION_RESULTS/classifier_train/Caitie/large_mustang/config.yaml\n",
      "Loading model: /home/woody/iwb3/iwb3021h/NAS_COMPETITION_RESULTS/classifier_train/Caitie/certain_porpoise/config.yaml\n",
      "Loading model: /home/woody/iwb3/iwb3021h/NAS_COMPETITION_RESULTS/classifier_train/Caitie/gleaming_spoonbill/config.yaml\n",
      "Loading model: /home/woody/iwb3/iwb3021h/NAS_COMPETITION_RESULTS/classifier_train/Caitie/bold_mouse/config.yaml\n",
      "Loading model: /home/woody/iwb3/iwb3021h/NAS_COMPETITION_RESULTS/classifier_train/Caitie/idealistic_crayfish/config.yaml\n",
      "Loading model: /home/woody/iwb3/iwb3021h/NAS_COMPETITION_RESULTS/classifier_train/Caitie/diamond_tench/config.yaml\n",
      "Loading model: /home/woody/iwb3/iwb3021h/NAS_COMPETITION_RESULTS/classifier_train/Caitie/cocky_gerbil/config.yaml\n",
      "Loading model: /home/woody/iwb3/iwb3021h/NAS_COMPETITION_RESULTS/classifier_train/Caitie/esoteric_husky/config.yaml\n",
      "Loading model: /home/woody/iwb3/iwb3021h/NAS_COMPETITION_RESULTS/classifier_train/Caitie/carrot_chameleon/config.yaml\n",
      "Loading model: /home/woody/iwb3/iwb3021h/NAS_COMPETITION_RESULTS/classifier_train/Caitie/gentle_kakapo/config.yaml\n",
      "Loading model: /home/woody/iwb3/iwb3021h/NAS_COMPETITION_RESULTS/classifier_train/Caitie/ingenious_puffin/config.yaml\n",
      "Loading model: /home/woody/iwb3/iwb3021h/NAS_COMPETITION_RESULTS/classifier_train/Caitie/imposing_wildcat/config.yaml\n",
      "Loading model: /home/woody/iwb3/iwb3021h/NAS_COMPETITION_RESULTS/classifier_train/Caitie/fanatic_chicken/config.yaml\n",
      "Loading model: /home/woody/iwb3/iwb3021h/NAS_COMPETITION_RESULTS/classifier_train/Caitie/busy_lemur/config.yaml\n",
      "Loading model: /home/woody/iwb3/iwb3021h/NAS_COMPETITION_RESULTS/classifier_train/Caitie/benign_jackrabbit/config.yaml\n",
      "Loading model: /home/woody/iwb3/iwb3021h/NAS_COMPETITION_RESULTS/classifier_train/Caitie/honest_chamois/config.yaml\n",
      "Loading model: /home/woody/iwb3/iwb3021h/NAS_COMPETITION_RESULTS/classifier_train/Caitie/adept_weasel/config.yaml\n",
      "Loading model: /home/woody/iwb3/iwb3021h/NAS_COMPETITION_RESULTS/classifier_train/Caitie/bizarre_grouse/config.yaml\n",
      "Loading model: /home/woody/iwb3/iwb3021h/NAS_COMPETITION_RESULTS/classifier_train/Caitie/abstract_spoonbill/config.yaml\n",
      "Loading model: /home/woody/iwb3/iwb3021h/NAS_COMPETITION_RESULTS/classifier_train/Caitie/fancy_kestrel/config.yaml\n",
      "Loading model: /home/woody/iwb3/iwb3021h/NAS_COMPETITION_RESULTS/classifier_train/Caitie/fearless_manatee/config.yaml\n",
      "Loading model: /home/woody/iwb3/iwb3021h/NAS_COMPETITION_RESULTS/classifier_train/Caitie/competent_bee/config.yaml\n",
      "Loading model: /home/woody/iwb3/iwb3021h/NAS_COMPETITION_RESULTS/classifier_train/Caitie/dancing_angelfish/config.yaml\n",
      "Loading model: /home/woody/iwb3/iwb3021h/NAS_COMPETITION_RESULTS/classifier_train/Caitie/daffodil_mackerel/config.yaml\n",
      "Loading model: /home/woody/iwb3/iwb3021h/NAS_COMPETITION_RESULTS/classifier_train/Caitie/jovial_mammoth/config.yaml\n",
      "Loading model: /home/woody/iwb3/iwb3021h/NAS_COMPETITION_RESULTS/classifier_train/Caitie/fluorescent_mussel/config.yaml\n",
      "Loading model: /home/woody/iwb3/iwb3021h/NAS_COMPETITION_RESULTS/classifier_train/Caitie/asparagus_mammoth/config.yaml\n",
      "Loading model: /home/woody/iwb3/iwb3021h/NAS_COMPETITION_RESULTS/classifier_train/Caitie/astute_ape/config.yaml\n",
      "Loading model: /home/woody/iwb3/iwb3021h/NAS_COMPETITION_RESULTS/classifier_train/Caitie/happy_hedgehog/config.yaml\n",
      "Loading model: /home/woody/iwb3/iwb3021h/NAS_COMPETITION_RESULTS/classifier_train/Caitie/expert_tody/config.yaml\n",
      "Loading model: /home/woody/iwb3/iwb3021h/NAS_COMPETITION_RESULTS/classifier_train/Caitie/beige_panther/config.yaml\n",
      "Loading model: /home/woody/iwb3/iwb3021h/NAS_COMPETITION_RESULTS/classifier_train/Caitie/dashing_sidewinder/config.yaml\n",
      "Loading model: /home/woody/iwb3/iwb3021h/NAS_COMPETITION_RESULTS/classifier_train/Caitie/divergent_mole/config.yaml\n",
      "Loading model: /home/woody/iwb3/iwb3021h/NAS_COMPETITION_RESULTS/classifier_train/Caitie/delicate_swift/config.yaml\n",
      "Loading model: /home/woody/iwb3/iwb3021h/NAS_COMPETITION_RESULTS/classifier_train/Caitie/honest_sloth/config.yaml\n",
      "Loading model: /home/woody/iwb3/iwb3021h/NAS_COMPETITION_RESULTS/classifier_train/Caitie/able_griffin/config.yaml\n",
      "Loading model: /home/woody/iwb3/iwb3021h/NAS_COMPETITION_RESULTS/classifier_train/Caitie/azure_asp/config.yaml\n",
      "Loading model: /home/woody/iwb3/iwb3021h/NAS_COMPETITION_RESULTS/classifier_train/Caitie/logical_pudu/config.yaml\n",
      "Loading model: /home/woody/iwb3/iwb3021h/NAS_COMPETITION_RESULTS/classifier_train/Caitie/dazzling_polecat/config.yaml\n",
      "Loading model: /home/woody/iwb3/iwb3021h/NAS_COMPETITION_RESULTS/classifier_train/Caitie/acrid_echidna/config.yaml\n",
      "Loading model: /home/woody/iwb3/iwb3021h/NAS_COMPETITION_RESULTS/classifier_train/Caitie/cherry_mastiff/config.yaml\n",
      "Loading model: /home/woody/iwb3/iwb3021h/NAS_COMPETITION_RESULTS/classifier_train/Caitie/dramatic_impala/config.yaml\n",
      "Loading model: /home/woody/iwb3/iwb3021h/NAS_COMPETITION_RESULTS/classifier_train/Caitie/gigantic_chihuahua/config.yaml\n",
      "Loading model: /home/woody/iwb3/iwb3021h/NAS_COMPETITION_RESULTS/classifier_train/Caitie/hilarious_dragon/config.yaml\n",
      "Loading model: /home/woody/iwb3/iwb3021h/NAS_COMPETITION_RESULTS/classifier_train/Caitie/able_fennec/config.yaml\n"
     ]
    }
   ],
   "source": [
    "train_data=get_predictor_data_from_folder(base_folder=folder,\n",
    "                                          studies=[dataset])\n",
    "#test_data=get_predictor_data_from_folder(base_folder=\"/home/woody/iwb3/iwb3021h/NAS_COMPETITION_RESULTS/classifier_train\",\n",
    "#                                         studies=test_studies)"
   ]
  },
  {
   "cell_type": "code",
   "execution_count": 16,
   "id": "aa16e232-440d-467f-832c-b9e9d8310a34",
   "metadata": {
    "tags": []
   },
   "outputs": [],
   "source": [
    "test_names=train_data.name.unique()[:]"
   ]
  },
  {
   "cell_type": "code",
   "execution_count": 17,
   "id": "3d9dcfd2-dd80-4d2e-ae3d-675cf756182a",
   "metadata": {
    "tags": []
   },
   "outputs": [
    {
     "data": {
      "text/plain": [
       "118"
      ]
     },
     "execution_count": 17,
     "metadata": {},
     "output_type": "execute_result"
    }
   ],
   "source": [
    "len(valid_loader)"
   ]
  },
  {
   "cell_type": "code",
   "execution_count": 18,
   "id": "3c9d0a0f-2dbd-4568-b3cb-175b72319748",
   "metadata": {},
   "outputs": [],
   "source": [
    "import torch.nn as nn\n",
    "import types\n",
    "import copy\n",
    "import torch.nn.functional as F\n",
    "from zcost_proxies.predictive import find_measures"
   ]
  },
  {
   "cell_type": "code",
   "execution_count": 19,
   "id": "5a37646f-abbd-4b50-9221-599c29f90959",
   "metadata": {
    "tags": []
   },
   "outputs": [
    {
     "data": {
      "text/plain": [
       "{'num_classes': 4,\n",
       " 'input_shape': [49260, 3, 64, 64],\n",
       " 'codename': 'Caitie',\n",
       " 'benchmark': 47.008,\n",
       " 'select_augment': False,\n",
       " 'train_config_path': 'anki_lab_submission/configs/train/augmentations_adam.yaml'}"
      ]
     },
     "execution_count": 19,
     "metadata": {},
     "output_type": "execute_result"
    }
   ],
   "source": [
    "metadata"
   ]
  },
  {
   "cell_type": "code",
   "execution_count": 20,
   "id": "054c94fe-7513-45b0-b04b-cb0b64c95e23",
   "metadata": {
    "tags": []
   },
   "outputs": [],
   "source": [
    "from torch.utils.data import DataLoader, TensorDataset\n",
    "train_loader_iter = iter(train_loader)\n",
    "\n",
    "# Number of batches to extract\n",
    "num_batches =1\n",
    "\n",
    "# Initialize lists to hold the inputs and targets from the first 5 batches\n",
    "inputs_list = []\n",
    "targets_list = []\n",
    "\n",
    "for _ in range(num_batches):\n",
    "    inputs, targets = next(train_loader_iter)  # Get the next batch\n",
    "    inputs_list.append(inputs)\n",
    "    targets_list.append(targets)\n",
    "\n",
    "# Concatenate the inputs and targets across the batches\n",
    "inputs = torch.cat(inputs_list)\n",
    "targets = torch.cat(targets_list)\n",
    "\n",
    "# Create a new TensorDataset from the selected data\n",
    "new_dataset = TensorDataset(inputs, targets)\n",
    "\n",
    "# Create a new DataLoader from this new dataset\n",
    "new_valid_loader = DataLoader(new_dataset, batch_size=train_loader.batch_size, shuffle=True)\n",
    "#train_loader.batch_size"
   ]
  },
  {
   "cell_type": "code",
   "execution_count": null,
   "id": "7826bdc4-daa7-4691-a8b0-913cb0c5d501",
   "metadata": {
    "tags": []
   },
   "outputs": [],
   "source": []
  },
  {
   "cell_type": "code",
   "execution_count": 21,
   "id": "6222d74b-47c2-4dea-adff-6138a58a1299",
   "metadata": {
    "tags": []
   },
   "outputs": [],
   "source": [
    "# Number of batches to extract\n",
    "num_batches =5\n",
    "\n",
    "# Initialize lists to hold the inputs and targets from the first 5 batches\n",
    "inputs_list = []\n",
    "targets_list = []\n",
    "\n",
    "for _ in range(num_batches):\n",
    "    inputs, targets = next(train_loader_iter)  # Get the next batch\n",
    "    inputs_list.append(inputs)\n",
    "    targets_list.append(targets)\n",
    "\n",
    "# Concatenate the inputs and targets across the batches\n",
    "inputs = torch.cat(inputs_list)\n",
    "targets = torch.cat(targets_list)\n",
    "\n",
    "# Create a new TensorDataset from the selected data\n",
    "new_dataset = TensorDataset(inputs, targets)\n",
    "\n",
    "# Create a new DataLoader from this new dataset\n",
    "new_valid_loader_grasp = DataLoader(new_dataset, batch_size=train_loader.batch_size, shuffle=True)\n",
    "#train_loader.batch_size\n"
   ]
  },
  {
   "cell_type": "code",
   "execution_count": 22,
   "id": "ec122aa6-21e6-4937-aea0-c955b4a5a257",
   "metadata": {
    "tags": []
   },
   "outputs": [],
   "source": [
    "#len(syn_scores.keys())\n",
    "#model_name"
   ]
  },
  {
   "cell_type": "code",
   "execution_count": 23,
   "id": "0a4a98d4-26e7-4b50-b9f8-67b076d1790c",
   "metadata": {
    "tags": []
   },
   "outputs": [],
   "source": [
    "del train_loader\n",
    "del valid_loader"
   ]
  },
  {
   "cell_type": "code",
   "execution_count": 24,
   "id": "33e80ea9-e89f-40a8-b65d-6510609ecdeb",
   "metadata": {
    "tags": []
   },
   "outputs": [],
   "source": [
    "def load_stages_pool(pool_folders):\n",
    "    df_results_list=[]\n",
    "    for pool_folder in pool_folders:\n",
    "        df_results=pd.read_csv(f\"{pool_folder}/df_blocks_pool.csv\", index_col=0)\n",
    "        df_results=df_results[df_results.dataset!=metadata[\"codename\"]]\n",
    "        df_results[\"dataset\"]=pool_folder+df_results[\"dataset\"]\n",
    "        df_results_list.append(df_results)\n",
    "    df_results=pd.concat(df_results_list)\n",
    "    #df_results.to_csv(\"initial_pool.csv\")\n",
    "    return df_results\n",
    "\n",
    "def transfer_weights(model,model_name,total_pool_individuals,rg):\n",
    "        n_access={}\n",
    "\n",
    "        print(\"Model Name: \",model_name)\n",
    "        print(\"#######################\")\n",
    "        pool_models={}\n",
    "        pool_chroms={}\n",
    "        for stage, info in total_pool_individuals[model_name].items():\n",
    "            name, transfer_dataset=info\n",
    "\n",
    "            weights_file=f\"{transfer_dataset}/{name}/student_best\"\n",
    "            config_file=f\"{transfer_dataset}/{name}/config.yaml\"\n",
    "            if os.path.exists(weights_file):\n",
    "                pool_models[stage],pool_chroms[stage]=rg.load_model(config_file=config_file, weights_file=weights_file)\n",
    "            else:\n",
    "                ic(f\"Weights file does not exits {weights_file}\")\n",
    "                pool_chroms[stage]=None\n",
    "        chrom=chromosomes[model_name]\n",
    "        n_access[model_name]=0\n",
    "        for stage in range(1,chrom[\"num_stages\"]+1):\n",
    "            if pool_chroms[stage] is not None:\n",
    "                max_block=min(chrom[\"ds\"][stage-1], pool_chroms[stage][\"ds\"][stage-1])\n",
    "                print(\"###### MAX BLOCK #####: \",max_block)\n",
    "                for block in range(1,max_block+1):\n",
    "                    print(\"Block: \", block)\n",
    "                    model_part = eval(f\"model.s{stage}.b{block}\")\n",
    "                    orig_part = eval(f\"pool_models[stage].s{stage}.b{block}.state_dict()\")\n",
    "\n",
    "                    for key in model_part.state_dict().keys():\n",
    "\n",
    "                        tensor = orig_part[key]\n",
    "                        tensor_shape = tensor.shape\n",
    "\n",
    "                        tensor_student_shape=model_part.state_dict()[key].shape\n",
    "                        if tensor_shape==tensor_student_shape:\n",
    "                            #print(key)\n",
    "                            #print(tensor_shape)\n",
    "                            n_access[model_name]=n_access[model_name]+1\n",
    "\n",
    "\n",
    "                            keys = key.split('.')\n",
    "\n",
    "                            # Access the specific layer that contains the weight attribute\n",
    "                            param = functools.reduce(getattr, keys[:-1], model_part)\n",
    "                            #print(param.requires_grad)\n",
    "                            #param.weight.requires_grad=False\n",
    "                            # Use setattr to update the .data attribute of the weight tensor\n",
    "                            getattr(param, keys[-1]).data = tensor.clone()\n",
    "            else:\n",
    "                ic(f\"Stage {stage} is None\")\n",
    "        print(n_access)    \n",
    "        rg=RegNet(metadata,\n",
    "                        W0=[16, 120, 8],\n",
    "                        WA=[16, 64, 8],\n",
    "                        WM=[2.05,2.9,0.05],\n",
    "                        D=[8,22,1], \n",
    "                        G=[8,8,8], \n",
    "                        base_config=f\"../configs/search_space/config.yaml\")\n",
    "        return model\n",
    "\n",
    "preloaded=False\n",
    "if preloaded:\n",
    "    pool_stages_df=load_stages_pool(\n",
    "            #pool_folders= [\"/home/woody/iwb3/iwb3021h/NAS_COMPETITION_RESULTS/classifier_train/\"]\n",
    "            pool_folders= [\"/home/woody/iwb3/iwb3021h/NAS_COMPETITION_RESULTS/stages_pool/\"])\n",
    "            #]) if self.pretrained_pool else pd.DataFrame()\n",
    "        \n",
    "\n",
    "    df_models=pd.DataFrame(chromosomes).T[[\"ws\",\"ds\",\"num_stages\", \"DEPTH\"]]\n",
    "    total_pool_individuals={}\n",
    "\n",
    "    for model_name in list(chromosomes.keys()):\n",
    "        df_current_model=df_models.loc[model_name]\n",
    "\n",
    "        filtered_dfs=[]\n",
    "        df_results_aux=pool_stages_df.drop(columns=[\"ws\",\"ds\"])\n",
    "        df_results_aux[\"diff_stages\"]=abs(df_results_aux[\"num_stages\"]-df_current_model[\"num_stages\"])\n",
    "        df_results_aux[\"diff_depth\"]=abs(df_results_aux[\"DEPTH\"]-df_current_model[\"DEPTH\"])\n",
    "\n",
    "        for stage in range(1, df_current_model[\"num_stages\"]+1):\n",
    "            df_results_aux[f\"diff_ws{stage}\"]=abs(df_results_aux[f\"ws{stage}\"]-df_current_model[\"ws\"][stage-1])\n",
    "            df_results_aux[f\"diff_d{stage}\"]=abs(df_results_aux[f\"ds{stage}\"]-df_current_model[\"ds\"][stage-1])\n",
    "\n",
    "        for stage in range(1, df_current_model[\"num_stages\"]+1):\n",
    "            if stage==1:\n",
    "                df_results_aux=df_results_aux.sort_values([\"diff_ws1\",\"diff_d1\",\"diff_stages\",\"diff_ws2\",\"diff_depth\"])\n",
    "            else:\n",
    "                df_results_aux=df_results_aux.sort_values([f\"diff_ws{stage}\",f\"diff_d{stage}\",f\"diff_ws{stage-1}\",\"diff_stages\", \"diff_depth\"])\n",
    "\n",
    "            if stage==1:\n",
    "                first_row_values = df_results_aux[[\"diff_stages\", f\"diff_ws{stage}\", f\"diff_d{stage}\"]].iloc[0]\n",
    "                # Filter the DataFrame based on these values\n",
    "                filtered_df = df_results_aux[\n",
    "                    (df_results_aux[\"diff_stages\"] == first_row_values[\"diff_stages\"]) &\n",
    "                    (df_results_aux[f\"diff_ws{stage}\"] == first_row_values[f\"diff_ws{stage}\"]) &\n",
    "                    (df_results_aux[f\"diff_d{stage}\"] == first_row_values[f\"diff_d{stage}\"])\n",
    "                ]\n",
    "            else:\n",
    "                first_row_values = df_results_aux[[\"diff_stages\",f\"diff_ws{stage-1}\", f\"diff_ws{stage}\", f\"diff_d{stage}\"]].iloc[0]\n",
    "                # Filter the DataFrame based on these values\n",
    "                filtered_df = df_results_aux[\n",
    "                    (df_results_aux[\"diff_stages\"] == first_row_values[\"diff_stages\"]) &\n",
    "                    (df_results_aux[f\"diff_ws{stage-1}\"] == first_row_values[f\"diff_ws{stage-1}\"]) &\n",
    "                    (df_results_aux[f\"diff_ws{stage}\"] == first_row_values[f\"diff_ws{stage}\"]) &\n",
    "                    (df_results_aux[f\"diff_d{stage}\"] == first_row_values[f\"diff_d{stage}\"])\n",
    "                ]\n",
    "            filtered_dfs.append(filtered_df)\n",
    "\n",
    "        pool_individuals={}\n",
    "        items=[]\n",
    "        for idx, stage_df in enumerate(filtered_dfs):\n",
    "            items.append(dict(zip(stage_df.index.tolist(),stage_df.dataset.tolist())))\n",
    "        for idx, item in enumerate(items):\n",
    "            for i in range(0,len(items)):\n",
    "                if i !=idx:\n",
    "                    common_items = item.items() & items[i].items()\n",
    "                    #print(common_items)\n",
    "                    if common_items:\n",
    "                        pool_individuals[idx+1]=next(iter(common_items))\n",
    "                        break\n",
    "            if idx+1 not in pool_individuals:\n",
    "                 pool_individuals[idx+1]=next(iter(item.items()))\n",
    "        total_pool_individuals[model_name]=pool_individuals  \n"
   ]
  },
  {
   "cell_type": "code",
   "execution_count": 25,
   "id": "a00fb5af-f652-4018-b367-357ded104509",
   "metadata": {
    "tags": []
   },
   "outputs": [
    {
     "data": {
      "text/plain": [
       "0"
      ]
     },
     "execution_count": 25,
     "metadata": {},
     "output_type": "execute_result"
    }
   ],
   "source": [
    "#del models\n",
    "import gc\n",
    "gc.collect()"
   ]
  },
  {
   "cell_type": "code",
   "execution_count": 26,
   "id": "f0b86a18-be85-49c8-92db-991e90bdb543",
   "metadata": {
    "tags": []
   },
   "outputs": [],
   "source": [
    "#total_pool_individuals"
   ]
  },
  {
   "cell_type": "code",
   "execution_count": 27,
   "id": "ad0bf75f-9471-458f-847d-6e16c5a2727e",
   "metadata": {
    "tags": []
   },
   "outputs": [
    {
     "name": "stdout",
     "output_type": "stream",
     "text": [
      "Loading model: /home/woody/iwb3/iwb3021h/NAS_COMPETITION_RESULTS/classifier_train/Caitie/invisible_stork/config.yaml\n"
     ]
    },
    {
     "name": "stderr",
     "output_type": "stream",
     "text": [
      "/apps/jupyterhub/jh3.1.1-py3.11/envs/pytorch-2.2.0/lib/python3.12/site-packages/torch/nn/modules/module.py:1352: UserWarning: Using a non-full backward hook when the forward contains multiple autograd Nodes is deprecated and will be removed in future versions. This hook will be missing some grad_input. Please use register_full_backward_hook to get the documented behavior.\n",
      "  warnings.warn(\"Using a non-full backward hook when the forward contains multiple autograd Nodes \"\n"
     ]
    },
    {
     "name": "stdout",
     "output_type": "stream",
     "text": [
      "Loading model: /home/woody/iwb3/iwb3021h/NAS_COMPETITION_RESULTS/classifier_train/Caitie/flying_tody/config.yaml\n",
      "Loading model: /home/woody/iwb3/iwb3021h/NAS_COMPETITION_RESULTS/classifier_train/Caitie/honest_sloth/config.yaml\n",
      "Loading model: /home/woody/iwb3/iwb3021h/NAS_COMPETITION_RESULTS/classifier_train/Caitie/happy_hedgehog/config.yaml\n",
      "Loading model: /home/woody/iwb3/iwb3021h/NAS_COMPETITION_RESULTS/classifier_train/Caitie/daffodil_mackerel/config.yaml\n",
      "Loading model: /home/woody/iwb3/iwb3021h/NAS_COMPETITION_RESULTS/classifier_train/Caitie/antique_taipan/config.yaml\n",
      "Loading model: /home/woody/iwb3/iwb3021h/NAS_COMPETITION_RESULTS/classifier_train/Caitie/adept_sponge/config.yaml\n",
      "Loading model: /home/woody/iwb3/iwb3021h/NAS_COMPETITION_RESULTS/classifier_train/Caitie/magic_pheasant/config.yaml\n",
      "Loading model: /home/woody/iwb3/iwb3021h/NAS_COMPETITION_RESULTS/classifier_train/Caitie/emerald_earthworm/config.yaml\n",
      "Loading model: /home/woody/iwb3/iwb3021h/NAS_COMPETITION_RESULTS/classifier_train/Caitie/fiery_heron/config.yaml\n",
      "Loading model: /home/woody/iwb3/iwb3021h/NAS_COMPETITION_RESULTS/classifier_train/Caitie/lyrical_skylark/config.yaml\n",
      "Loading model: /home/woody/iwb3/iwb3021h/NAS_COMPETITION_RESULTS/classifier_train/Caitie/ingenious_puffin/config.yaml\n",
      "Loading model: /home/woody/iwb3/iwb3021h/NAS_COMPETITION_RESULTS/classifier_train/Caitie/rose_mackerel/config.yaml\n",
      "Loading model: /home/woody/iwb3/iwb3021h/NAS_COMPETITION_RESULTS/classifier_train/Caitie/asparagus_mammoth/config.yaml\n",
      "Loading model: /home/woody/iwb3/iwb3021h/NAS_COMPETITION_RESULTS/classifier_train/Caitie/spectral_flamingo/config.yaml\n",
      "Loading model: /home/woody/iwb3/iwb3021h/NAS_COMPETITION_RESULTS/classifier_train/Caitie/cerulean_galago/config.yaml\n",
      "Loading model: /home/woody/iwb3/iwb3021h/NAS_COMPETITION_RESULTS/classifier_train/Caitie/impressive_binturong/config.yaml\n",
      "Loading model: /home/woody/iwb3/iwb3021h/NAS_COMPETITION_RESULTS/classifier_train/Caitie/uber_bat/config.yaml\n",
      "Loading model: /home/woody/iwb3/iwb3021h/NAS_COMPETITION_RESULTS/classifier_train/Caitie/cherry_mastiff/config.yaml\n",
      "Loading model: /home/woody/iwb3/iwb3021h/NAS_COMPETITION_RESULTS/classifier_train/Caitie/divergent_mole/config.yaml\n"
     ]
    }
   ],
   "source": [
    "import gc\n",
    "individuals=os.listdir(folder+\"/\"+dataset)\n",
    "individuals=[ind for ind in individuals if os.path.isdir(os.path.join(folder+\"/\"+dataset, ind)) and \".ipynb\" not in ind]\n",
    "#individuals = random.sample(individuals, 20)\n",
    "individuals=['invisible_stork',\n",
    " 'flying_tody',\n",
    " 'honest_sloth',\n",
    " 'happy_hedgehog',\n",
    " 'daffodil_mackerel',\n",
    " 'antique_taipan',\n",
    " 'adept_sponge',\n",
    " 'magic_pheasant',\n",
    " 'emerald_earthworm',\n",
    " 'fiery_heron',\n",
    " 'lyrical_skylark',\n",
    " 'ingenious_puffin',\n",
    " 'rose_mackerel',\n",
    " 'asparagus_mammoth',\n",
    " 'spectral_flamingo',\n",
    " 'cerulean_galago',\n",
    " 'impressive_binturong',\n",
    " 'uber_bat',\n",
    " 'cherry_mastiff',\n",
    " 'divergent_mole']\n",
    "syn_scores={}\n",
    "measures=[\"fisher\",\"grad_norm\",\"jacob_cov\",\"plain\",\"snip\",\"synflow\"]\n",
    "for individual in individuals:\n",
    "                gc.collect\n",
    "                ind_config=f\"{folder}/{dataset}/{individual}/config.yaml\"\n",
    "                \n",
    "                model_aux, _=rg.load_model(config_file=ind_config)\n",
    "                if preloaded:\n",
    "                    model_aux=transfer_weights(model_aux,individual,total_pool_individuals,rg)\n",
    "                syn_scores[individual]=find_measures(model_aux.to(\"cuda\"), new_valid_loader, (\"random\",len(new_valid_loader),metadata[\"num_classes\"]), \"cuda\", F.cross_entropy, measures )\n",
    "                \n",
    "                syn_scores[individual][\"grasp\"]=find_measures(model_aux.to(\"cuda\"), new_valid_loader_grasp, (\"grasp\",len(new_valid_loader_grasp),metadata[\"num_classes\"]), \"cuda\", F.cross_entropy, [\"grasp\"] )[\"grasp\"]\n",
    "                del model_aux\n",
    "                gc.collect\n"
   ]
  },
  {
   "cell_type": "code",
   "execution_count": 28,
   "id": "9eb0a735-7210-4558-b300-840af166fbf2",
   "metadata": {
    "tags": []
   },
   "outputs": [],
   "source": [
    "#import gc\n",
    "#gc.collect\n",
    "#syn_scores={}\n",
    "#measures=[\"fisher\",\"grad_norm\",\"jacob_cov\",\"plain\",\"snip\",\"synflow\"]\n",
    "#model_names=models.keys()\n",
    "#for model_name in model_names:\n",
    "#    if model_name in test_names:\n",
    "#                syn_scores[model_name]=find_measures(models[model_name].to(\"cuda\"), new_valid_loader, (\"random\",len(new_valid_loader),metadata[\"num_classes\"]), \"cuda\", F.cross_entropy, measures )\n",
    "#for model_name in model_names:\n",
    "#            syn_scores[model_name][\"grasp\"]=find_measures(models[model_name].to(\"cuda\"), new_valid_loader_grasp, (\"grasp\",len(new_valid_loader_grasp),metadata[\"num_classes\"]), \"cuda\", F.cross_entropy, [\"grasp\"] )[\"grasp\"]"
   ]
  },
  {
   "cell_type": "code",
   "execution_count": null,
   "id": "ab74dd09-640e-4c6e-9c41-9d050bfa5650",
   "metadata": {},
   "outputs": [],
   "source": []
  },
  {
   "cell_type": "code",
   "execution_count": 29,
   "id": "7d0309ef-91da-4991-b08a-d98a9a85a80f",
   "metadata": {
    "tags": []
   },
   "outputs": [],
   "source": [
    "df_syn=pd.DataFrame(syn_scores).T.reset_index().rename(columns={\"index\":\"name\"})"
   ]
  },
  {
   "cell_type": "code",
   "execution_count": 30,
   "id": "e1f5fd59-41f6-43de-af0d-5aac03d7c642",
   "metadata": {
    "tags": []
   },
   "outputs": [
    {
     "data": {
      "text/plain": [
       "'Caitie'"
      ]
     },
     "execution_count": 30,
     "metadata": {},
     "output_type": "execute_result"
    }
   ],
   "source": [
    "dataset"
   ]
  },
  {
   "cell_type": "code",
   "execution_count": 31,
   "id": "1d575cac-2110-43bc-84f4-479f253c93f5",
   "metadata": {
    "tags": []
   },
   "outputs": [
    {
     "data": {
      "text/html": [
       "<div>\n",
       "<style scoped>\n",
       "    .dataframe tbody tr th:only-of-type {\n",
       "        vertical-align: middle;\n",
       "    }\n",
       "\n",
       "    .dataframe tbody tr th {\n",
       "        vertical-align: top;\n",
       "    }\n",
       "\n",
       "    .dataframe thead th {\n",
       "        text-align: right;\n",
       "    }\n",
       "</style>\n",
       "<table border=\"1\" class=\"dataframe\">\n",
       "  <thead>\n",
       "    <tr style=\"text-align: right;\">\n",
       "      <th></th>\n",
       "      <th>name</th>\n",
       "      <th>fisher</th>\n",
       "      <th>grad_norm</th>\n",
       "      <th>jacob_cov</th>\n",
       "      <th>plain</th>\n",
       "      <th>snip</th>\n",
       "      <th>synflow</th>\n",
       "      <th>grasp</th>\n",
       "    </tr>\n",
       "  </thead>\n",
       "  <tbody>\n",
       "    <tr>\n",
       "      <th>0</th>\n",
       "      <td>invisible_stork</td>\n",
       "      <td>0.339233</td>\n",
       "      <td>84.290810</td>\n",
       "      <td>-128.997664</td>\n",
       "      <td>0.485008</td>\n",
       "      <td>471.623199</td>\n",
       "      <td>7.658091e+53</td>\n",
       "      <td>452.466675</td>\n",
       "    </tr>\n",
       "    <tr>\n",
       "      <th>1</th>\n",
       "      <td>flying_tody</td>\n",
       "      <td>0.374094</td>\n",
       "      <td>74.006508</td>\n",
       "      <td>-129.038862</td>\n",
       "      <td>0.219872</td>\n",
       "      <td>461.849274</td>\n",
       "      <td>7.738844e+44</td>\n",
       "      <td>-31.790359</td>\n",
       "    </tr>\n",
       "    <tr>\n",
       "      <th>2</th>\n",
       "      <td>honest_sloth</td>\n",
       "      <td>0.033570</td>\n",
       "      <td>34.882095</td>\n",
       "      <td>-128.937010</td>\n",
       "      <td>0.440140</td>\n",
       "      <td>104.055290</td>\n",
       "      <td>1.053582e+62</td>\n",
       "      <td>-283.224792</td>\n",
       "    </tr>\n",
       "    <tr>\n",
       "      <th>3</th>\n",
       "      <td>happy_hedgehog</td>\n",
       "      <td>0.010436</td>\n",
       "      <td>12.571413</td>\n",
       "      <td>-128.968272</td>\n",
       "      <td>0.065830</td>\n",
       "      <td>50.609318</td>\n",
       "      <td>5.313791e+26</td>\n",
       "      <td>-20.939426</td>\n",
       "    </tr>\n",
       "    <tr>\n",
       "      <th>4</th>\n",
       "      <td>daffodil_mackerel</td>\n",
       "      <td>0.007966</td>\n",
       "      <td>10.402874</td>\n",
       "      <td>-128.927893</td>\n",
       "      <td>0.117669</td>\n",
       "      <td>40.887486</td>\n",
       "      <td>3.653219e+26</td>\n",
       "      <td>-14.876703</td>\n",
       "    </tr>\n",
       "    <tr>\n",
       "      <th>5</th>\n",
       "      <td>antique_taipan</td>\n",
       "      <td>0.010136</td>\n",
       "      <td>10.139218</td>\n",
       "      <td>-128.965507</td>\n",
       "      <td>-0.000652</td>\n",
       "      <td>54.411110</td>\n",
       "      <td>1.008409e+27</td>\n",
       "      <td>-11.496610</td>\n",
       "    </tr>\n",
       "    <tr>\n",
       "      <th>6</th>\n",
       "      <td>adept_sponge</td>\n",
       "      <td>0.033991</td>\n",
       "      <td>21.128340</td>\n",
       "      <td>-128.971173</td>\n",
       "      <td>0.011180</td>\n",
       "      <td>84.503319</td>\n",
       "      <td>4.368664e+39</td>\n",
       "      <td>-32.607731</td>\n",
       "    </tr>\n",
       "    <tr>\n",
       "      <th>7</th>\n",
       "      <td>magic_pheasant</td>\n",
       "      <td>1.268663</td>\n",
       "      <td>136.207245</td>\n",
       "      <td>-129.067484</td>\n",
       "      <td>0.302429</td>\n",
       "      <td>606.091431</td>\n",
       "      <td>1.602603e+54</td>\n",
       "      <td>3363.930176</td>\n",
       "    </tr>\n",
       "    <tr>\n",
       "      <th>8</th>\n",
       "      <td>emerald_earthworm</td>\n",
       "      <td>0.002175</td>\n",
       "      <td>4.758973</td>\n",
       "      <td>-128.855985</td>\n",
       "      <td>0.006413</td>\n",
       "      <td>16.976585</td>\n",
       "      <td>1.968052e+23</td>\n",
       "      <td>-0.337536</td>\n",
       "    </tr>\n",
       "    <tr>\n",
       "      <th>9</th>\n",
       "      <td>fiery_heron</td>\n",
       "      <td>0.111277</td>\n",
       "      <td>29.826088</td>\n",
       "      <td>-129.370680</td>\n",
       "      <td>0.115150</td>\n",
       "      <td>95.391579</td>\n",
       "      <td>7.873368e+44</td>\n",
       "      <td>374.936279</td>\n",
       "    </tr>\n",
       "    <tr>\n",
       "      <th>10</th>\n",
       "      <td>lyrical_skylark</td>\n",
       "      <td>0.011243</td>\n",
       "      <td>13.250108</td>\n",
       "      <td>-129.025070</td>\n",
       "      <td>0.057316</td>\n",
       "      <td>54.345139</td>\n",
       "      <td>7.102761e+31</td>\n",
       "      <td>-2.796352</td>\n",
       "    </tr>\n",
       "    <tr>\n",
       "      <th>11</th>\n",
       "      <td>ingenious_puffin</td>\n",
       "      <td>0.027172</td>\n",
       "      <td>27.886860</td>\n",
       "      <td>-128.882305</td>\n",
       "      <td>0.192485</td>\n",
       "      <td>91.771538</td>\n",
       "      <td>2.301706e+59</td>\n",
       "      <td>-33.630600</td>\n",
       "    </tr>\n",
       "    <tr>\n",
       "      <th>12</th>\n",
       "      <td>rose_mackerel</td>\n",
       "      <td>0.281642</td>\n",
       "      <td>72.945198</td>\n",
       "      <td>-129.014253</td>\n",
       "      <td>0.060319</td>\n",
       "      <td>339.011383</td>\n",
       "      <td>2.533506e+57</td>\n",
       "      <td>850.405762</td>\n",
       "    </tr>\n",
       "    <tr>\n",
       "      <th>13</th>\n",
       "      <td>asparagus_mammoth</td>\n",
       "      <td>4.807892</td>\n",
       "      <td>236.178848</td>\n",
       "      <td>-129.032097</td>\n",
       "      <td>-0.341567</td>\n",
       "      <td>1393.496948</td>\n",
       "      <td>7.809049e+64</td>\n",
       "      <td>15839.566406</td>\n",
       "    </tr>\n",
       "    <tr>\n",
       "      <th>14</th>\n",
       "      <td>spectral_flamingo</td>\n",
       "      <td>0.022393</td>\n",
       "      <td>17.374041</td>\n",
       "      <td>-129.008362</td>\n",
       "      <td>0.017321</td>\n",
       "      <td>77.891281</td>\n",
       "      <td>4.074019e+39</td>\n",
       "      <td>39.335049</td>\n",
       "    </tr>\n",
       "    <tr>\n",
       "      <th>15</th>\n",
       "      <td>cerulean_galago</td>\n",
       "      <td>0.010693</td>\n",
       "      <td>11.462951</td>\n",
       "      <td>-128.990588</td>\n",
       "      <td>-0.000023</td>\n",
       "      <td>40.106934</td>\n",
       "      <td>7.503804e+30</td>\n",
       "      <td>-27.528362</td>\n",
       "    </tr>\n",
       "    <tr>\n",
       "      <th>16</th>\n",
       "      <td>impressive_binturong</td>\n",
       "      <td>0.012378</td>\n",
       "      <td>13.206054</td>\n",
       "      <td>-128.944454</td>\n",
       "      <td>0.026935</td>\n",
       "      <td>58.651211</td>\n",
       "      <td>2.892519e+29</td>\n",
       "      <td>-17.254631</td>\n",
       "    </tr>\n",
       "    <tr>\n",
       "      <th>17</th>\n",
       "      <td>uber_bat</td>\n",
       "      <td>0.054573</td>\n",
       "      <td>25.989874</td>\n",
       "      <td>-129.037391</td>\n",
       "      <td>0.036742</td>\n",
       "      <td>152.927353</td>\n",
       "      <td>2.622048e+41</td>\n",
       "      <td>23.206848</td>\n",
       "    </tr>\n",
       "    <tr>\n",
       "      <th>18</th>\n",
       "      <td>cherry_mastiff</td>\n",
       "      <td>0.019817</td>\n",
       "      <td>19.738598</td>\n",
       "      <td>-128.940606</td>\n",
       "      <td>0.112149</td>\n",
       "      <td>83.040024</td>\n",
       "      <td>2.789768e+33</td>\n",
       "      <td>-25.957006</td>\n",
       "    </tr>\n",
       "    <tr>\n",
       "      <th>19</th>\n",
       "      <td>divergent_mole</td>\n",
       "      <td>0.016264</td>\n",
       "      <td>16.095659</td>\n",
       "      <td>-129.067997</td>\n",
       "      <td>0.095093</td>\n",
       "      <td>52.866371</td>\n",
       "      <td>5.392794e+33</td>\n",
       "      <td>-37.061474</td>\n",
       "    </tr>\n",
       "  </tbody>\n",
       "</table>\n",
       "</div>"
      ],
      "text/plain": [
       "                    name    fisher   grad_norm   jacob_cov     plain  \\\n",
       "0        invisible_stork  0.339233   84.290810 -128.997664  0.485008   \n",
       "1            flying_tody  0.374094   74.006508 -129.038862  0.219872   \n",
       "2           honest_sloth  0.033570   34.882095 -128.937010  0.440140   \n",
       "3         happy_hedgehog  0.010436   12.571413 -128.968272  0.065830   \n",
       "4      daffodil_mackerel  0.007966   10.402874 -128.927893  0.117669   \n",
       "5         antique_taipan  0.010136   10.139218 -128.965507 -0.000652   \n",
       "6           adept_sponge  0.033991   21.128340 -128.971173  0.011180   \n",
       "7         magic_pheasant  1.268663  136.207245 -129.067484  0.302429   \n",
       "8      emerald_earthworm  0.002175    4.758973 -128.855985  0.006413   \n",
       "9            fiery_heron  0.111277   29.826088 -129.370680  0.115150   \n",
       "10       lyrical_skylark  0.011243   13.250108 -129.025070  0.057316   \n",
       "11      ingenious_puffin  0.027172   27.886860 -128.882305  0.192485   \n",
       "12         rose_mackerel  0.281642   72.945198 -129.014253  0.060319   \n",
       "13     asparagus_mammoth  4.807892  236.178848 -129.032097 -0.341567   \n",
       "14     spectral_flamingo  0.022393   17.374041 -129.008362  0.017321   \n",
       "15       cerulean_galago  0.010693   11.462951 -128.990588 -0.000023   \n",
       "16  impressive_binturong  0.012378   13.206054 -128.944454  0.026935   \n",
       "17              uber_bat  0.054573   25.989874 -129.037391  0.036742   \n",
       "18        cherry_mastiff  0.019817   19.738598 -128.940606  0.112149   \n",
       "19        divergent_mole  0.016264   16.095659 -129.067997  0.095093   \n",
       "\n",
       "           snip       synflow         grasp  \n",
       "0    471.623199  7.658091e+53    452.466675  \n",
       "1    461.849274  7.738844e+44    -31.790359  \n",
       "2    104.055290  1.053582e+62   -283.224792  \n",
       "3     50.609318  5.313791e+26    -20.939426  \n",
       "4     40.887486  3.653219e+26    -14.876703  \n",
       "5     54.411110  1.008409e+27    -11.496610  \n",
       "6     84.503319  4.368664e+39    -32.607731  \n",
       "7    606.091431  1.602603e+54   3363.930176  \n",
       "8     16.976585  1.968052e+23     -0.337536  \n",
       "9     95.391579  7.873368e+44    374.936279  \n",
       "10    54.345139  7.102761e+31     -2.796352  \n",
       "11    91.771538  2.301706e+59    -33.630600  \n",
       "12   339.011383  2.533506e+57    850.405762  \n",
       "13  1393.496948  7.809049e+64  15839.566406  \n",
       "14    77.891281  4.074019e+39     39.335049  \n",
       "15    40.106934  7.503804e+30    -27.528362  \n",
       "16    58.651211  2.892519e+29    -17.254631  \n",
       "17   152.927353  2.622048e+41     23.206848  \n",
       "18    83.040024  2.789768e+33    -25.957006  \n",
       "19    52.866371  5.392794e+33    -37.061474  "
      ]
     },
     "execution_count": 31,
     "metadata": {},
     "output_type": "execute_result"
    }
   ],
   "source": [
    "df_syn"
   ]
  },
  {
   "cell_type": "code",
   "execution_count": 32,
   "id": "d6c1f4f8-7f1b-4833-9c1c-135605d85ba5",
   "metadata": {
    "tags": []
   },
   "outputs": [],
   "source": [
    "#df_syn.to_csv(f\"zcost_proxies/results/{dataset}_clf_train.csv\")"
   ]
  },
  {
   "cell_type": "code",
   "execution_count": 33,
   "id": "c1ce790b-3331-4c52-a409-9e3937efed21",
   "metadata": {
    "tags": []
   },
   "outputs": [],
   "source": [
    "sorted_df=train_data[train_data.name.isin(test_names)].sort_values(by=\"best_acc\",ascending=False)[[\"name\",\"best_acc\"]]\n",
    "df_syn=pd.merge(df_syn, sorted_df[[\"name\",\"best_acc\"]], on=\"name\")\n",
    "df_syn=df_syn.sort_values(by=\"best_acc\",ascending=False)"
   ]
  },
  {
   "cell_type": "code",
   "execution_count": 34,
   "id": "6e3e61d8-2b6d-4229-b30d-85504615d787",
   "metadata": {
    "tags": []
   },
   "outputs": [],
   "source": [
    "for metric in [\"grasp\",\"fisher\",\"grad_norm\",\"jacob_cov\",\"plain\",\"snip\",\"synflow\"]:\n",
    "    if metric==\"jacob_cov\":\n",
    "        df_syn[f\"rank_{metric}\"]=df_syn[metric].rank(ascending=False).astype(int)\n",
    "    else:\n",
    "        df_syn[f\"rank_{metric}\"]=df_syn[metric].rank().astype(int)"
   ]
  },
  {
   "cell_type": "code",
   "execution_count": 35,
   "id": "561b4829-d462-4aca-9ac0-5a187092918c",
   "metadata": {
    "tags": []
   },
   "outputs": [
    {
     "data": {
      "text/plain": [
       "0      8\n",
       "13    10\n",
       "1      9\n",
       "5      1\n",
       "17     6\n",
       "11     4\n",
       "18     3\n",
       "12     7\n",
       "10     4\n",
       "16     2\n",
       "dtype: int64"
      ]
     },
     "execution_count": 35,
     "metadata": {},
     "output_type": "execute_result"
    }
   ],
   "source": [
    "df_syn.head(10)[[\"rank_jacob_cov\",\"rank_snip\",\"rank_grad_norm\"]].sum(axis=1).rank(ascending=True).astype(int)"
   ]
  },
  {
   "cell_type": "code",
   "execution_count": 36,
   "id": "fe43441c-8364-454e-b251-8c6265937108",
   "metadata": {
    "tags": []
   },
   "outputs": [
    {
     "data": {
      "text/html": [
       "<div>\n",
       "<style scoped>\n",
       "    .dataframe tbody tr th:only-of-type {\n",
       "        vertical-align: middle;\n",
       "    }\n",
       "\n",
       "    .dataframe tbody tr th {\n",
       "        vertical-align: top;\n",
       "    }\n",
       "\n",
       "    .dataframe thead th {\n",
       "        text-align: right;\n",
       "    }\n",
       "</style>\n",
       "<table border=\"1\" class=\"dataframe\">\n",
       "  <thead>\n",
       "    <tr style=\"text-align: right;\">\n",
       "      <th></th>\n",
       "      <th>name</th>\n",
       "      <th>fisher</th>\n",
       "      <th>grad_norm</th>\n",
       "      <th>jacob_cov</th>\n",
       "      <th>plain</th>\n",
       "      <th>snip</th>\n",
       "      <th>synflow</th>\n",
       "      <th>grasp</th>\n",
       "      <th>best_acc</th>\n",
       "      <th>rank_grasp</th>\n",
       "      <th>rank_fisher</th>\n",
       "      <th>rank_grad_norm</th>\n",
       "      <th>rank_jacob_cov</th>\n",
       "      <th>rank_plain</th>\n",
       "      <th>rank_snip</th>\n",
       "      <th>rank_synflow</th>\n",
       "    </tr>\n",
       "  </thead>\n",
       "  <tbody>\n",
       "    <tr>\n",
       "      <th>0</th>\n",
       "      <td>invisible_stork</td>\n",
       "      <td>0.339233</td>\n",
       "      <td>84.290810</td>\n",
       "      <td>-128.997664</td>\n",
       "      <td>0.485008</td>\n",
       "      <td>471.623199</td>\n",
       "      <td>7.658091e+53</td>\n",
       "      <td>452.466675</td>\n",
       "      <td>90.55</td>\n",
       "      <td>17</td>\n",
       "      <td>17</td>\n",
       "      <td>18</td>\n",
       "      <td>11</td>\n",
       "      <td>20</td>\n",
       "      <td>18</td>\n",
       "      <td>15</td>\n",
       "    </tr>\n",
       "    <tr>\n",
       "      <th>13</th>\n",
       "      <td>asparagus_mammoth</td>\n",
       "      <td>4.807892</td>\n",
       "      <td>236.178848</td>\n",
       "      <td>-129.032097</td>\n",
       "      <td>-0.341567</td>\n",
       "      <td>1393.496948</td>\n",
       "      <td>7.809049e+64</td>\n",
       "      <td>15839.566406</td>\n",
       "      <td>88.02</td>\n",
       "      <td>20</td>\n",
       "      <td>20</td>\n",
       "      <td>20</td>\n",
       "      <td>15</td>\n",
       "      <td>1</td>\n",
       "      <td>20</td>\n",
       "      <td>20</td>\n",
       "    </tr>\n",
       "    <tr>\n",
       "      <th>1</th>\n",
       "      <td>flying_tody</td>\n",
       "      <td>0.374094</td>\n",
       "      <td>74.006508</td>\n",
       "      <td>-129.038862</td>\n",
       "      <td>0.219872</td>\n",
       "      <td>461.849274</td>\n",
       "      <td>7.738844e+44</td>\n",
       "      <td>-31.790359</td>\n",
       "      <td>87.58</td>\n",
       "      <td>5</td>\n",
       "      <td>18</td>\n",
       "      <td>17</td>\n",
       "      <td>17</td>\n",
       "      <td>17</td>\n",
       "      <td>17</td>\n",
       "      <td>13</td>\n",
       "    </tr>\n",
       "    <tr>\n",
       "      <th>5</th>\n",
       "      <td>antique_taipan</td>\n",
       "      <td>0.010136</td>\n",
       "      <td>10.139218</td>\n",
       "      <td>-128.965507</td>\n",
       "      <td>-0.000652</td>\n",
       "      <td>54.411110</td>\n",
       "      <td>1.008409e+27</td>\n",
       "      <td>-11.496610</td>\n",
       "      <td>86.85</td>\n",
       "      <td>11</td>\n",
       "      <td>3</td>\n",
       "      <td>2</td>\n",
       "      <td>7</td>\n",
       "      <td>2</td>\n",
       "      <td>7</td>\n",
       "      <td>4</td>\n",
       "    </tr>\n",
       "    <tr>\n",
       "      <th>17</th>\n",
       "      <td>uber_bat</td>\n",
       "      <td>0.054573</td>\n",
       "      <td>25.989874</td>\n",
       "      <td>-129.037391</td>\n",
       "      <td>0.036742</td>\n",
       "      <td>152.927353</td>\n",
       "      <td>2.622048e+41</td>\n",
       "      <td>23.206848</td>\n",
       "      <td>86.51</td>\n",
       "      <td>14</td>\n",
       "      <td>14</td>\n",
       "      <td>12</td>\n",
       "      <td>16</td>\n",
       "      <td>8</td>\n",
       "      <td>15</td>\n",
       "      <td>12</td>\n",
       "    </tr>\n",
       "    <tr>\n",
       "      <th>11</th>\n",
       "      <td>ingenious_puffin</td>\n",
       "      <td>0.027172</td>\n",
       "      <td>27.886860</td>\n",
       "      <td>-128.882305</td>\n",
       "      <td>0.192485</td>\n",
       "      <td>91.771538</td>\n",
       "      <td>2.301706e+59</td>\n",
       "      <td>-33.630600</td>\n",
       "      <td>86.19</td>\n",
       "      <td>3</td>\n",
       "      <td>11</td>\n",
       "      <td>13</td>\n",
       "      <td>2</td>\n",
       "      <td>16</td>\n",
       "      <td>12</td>\n",
       "      <td>18</td>\n",
       "    </tr>\n",
       "    <tr>\n",
       "      <th>18</th>\n",
       "      <td>cherry_mastiff</td>\n",
       "      <td>0.019817</td>\n",
       "      <td>19.738598</td>\n",
       "      <td>-128.940606</td>\n",
       "      <td>0.112149</td>\n",
       "      <td>83.040024</td>\n",
       "      <td>2.789768e+33</td>\n",
       "      <td>-25.957006</td>\n",
       "      <td>85.60</td>\n",
       "      <td>7</td>\n",
       "      <td>9</td>\n",
       "      <td>10</td>\n",
       "      <td>5</td>\n",
       "      <td>13</td>\n",
       "      <td>10</td>\n",
       "      <td>8</td>\n",
       "    </tr>\n",
       "    <tr>\n",
       "      <th>12</th>\n",
       "      <td>rose_mackerel</td>\n",
       "      <td>0.281642</td>\n",
       "      <td>72.945198</td>\n",
       "      <td>-129.014253</td>\n",
       "      <td>0.060319</td>\n",
       "      <td>339.011383</td>\n",
       "      <td>2.533506e+57</td>\n",
       "      <td>850.405762</td>\n",
       "      <td>85.51</td>\n",
       "      <td>18</td>\n",
       "      <td>16</td>\n",
       "      <td>16</td>\n",
       "      <td>13</td>\n",
       "      <td>10</td>\n",
       "      <td>16</td>\n",
       "      <td>17</td>\n",
       "    </tr>\n",
       "    <tr>\n",
       "      <th>10</th>\n",
       "      <td>lyrical_skylark</td>\n",
       "      <td>0.011243</td>\n",
       "      <td>13.250108</td>\n",
       "      <td>-129.025070</td>\n",
       "      <td>0.057316</td>\n",
       "      <td>54.345139</td>\n",
       "      <td>7.102761e+31</td>\n",
       "      <td>-2.796352</td>\n",
       "      <td>85.42</td>\n",
       "      <td>12</td>\n",
       "      <td>6</td>\n",
       "      <td>7</td>\n",
       "      <td>14</td>\n",
       "      <td>9</td>\n",
       "      <td>6</td>\n",
       "      <td>7</td>\n",
       "    </tr>\n",
       "    <tr>\n",
       "      <th>16</th>\n",
       "      <td>impressive_binturong</td>\n",
       "      <td>0.012378</td>\n",
       "      <td>13.206054</td>\n",
       "      <td>-128.944454</td>\n",
       "      <td>0.026935</td>\n",
       "      <td>58.651211</td>\n",
       "      <td>2.892519e+29</td>\n",
       "      <td>-17.254631</td>\n",
       "      <td>84.69</td>\n",
       "      <td>9</td>\n",
       "      <td>7</td>\n",
       "      <td>6</td>\n",
       "      <td>6</td>\n",
       "      <td>7</td>\n",
       "      <td>8</td>\n",
       "      <td>5</td>\n",
       "    </tr>\n",
       "  </tbody>\n",
       "</table>\n",
       "</div>"
      ],
      "text/plain": [
       "                    name    fisher   grad_norm   jacob_cov     plain  \\\n",
       "0        invisible_stork  0.339233   84.290810 -128.997664  0.485008   \n",
       "13     asparagus_mammoth  4.807892  236.178848 -129.032097 -0.341567   \n",
       "1            flying_tody  0.374094   74.006508 -129.038862  0.219872   \n",
       "5         antique_taipan  0.010136   10.139218 -128.965507 -0.000652   \n",
       "17              uber_bat  0.054573   25.989874 -129.037391  0.036742   \n",
       "11      ingenious_puffin  0.027172   27.886860 -128.882305  0.192485   \n",
       "18        cherry_mastiff  0.019817   19.738598 -128.940606  0.112149   \n",
       "12         rose_mackerel  0.281642   72.945198 -129.014253  0.060319   \n",
       "10       lyrical_skylark  0.011243   13.250108 -129.025070  0.057316   \n",
       "16  impressive_binturong  0.012378   13.206054 -128.944454  0.026935   \n",
       "\n",
       "           snip       synflow         grasp  best_acc  rank_grasp  \\\n",
       "0    471.623199  7.658091e+53    452.466675     90.55          17   \n",
       "13  1393.496948  7.809049e+64  15839.566406     88.02          20   \n",
       "1    461.849274  7.738844e+44    -31.790359     87.58           5   \n",
       "5     54.411110  1.008409e+27    -11.496610     86.85          11   \n",
       "17   152.927353  2.622048e+41     23.206848     86.51          14   \n",
       "11    91.771538  2.301706e+59    -33.630600     86.19           3   \n",
       "18    83.040024  2.789768e+33    -25.957006     85.60           7   \n",
       "12   339.011383  2.533506e+57    850.405762     85.51          18   \n",
       "10    54.345139  7.102761e+31     -2.796352     85.42          12   \n",
       "16    58.651211  2.892519e+29    -17.254631     84.69           9   \n",
       "\n",
       "    rank_fisher  rank_grad_norm  rank_jacob_cov  rank_plain  rank_snip  \\\n",
       "0            17              18              11          20         18   \n",
       "13           20              20              15           1         20   \n",
       "1            18              17              17          17         17   \n",
       "5             3               2               7           2          7   \n",
       "17           14              12              16           8         15   \n",
       "11           11              13               2          16         12   \n",
       "18            9              10               5          13         10   \n",
       "12           16              16              13          10         16   \n",
       "10            6               7              14           9          6   \n",
       "16            7               6               6           7          8   \n",
       "\n",
       "    rank_synflow  \n",
       "0             15  \n",
       "13            20  \n",
       "1             13  \n",
       "5              4  \n",
       "17            12  \n",
       "11            18  \n",
       "18             8  \n",
       "12            17  \n",
       "10             7  \n",
       "16             5  "
      ]
     },
     "execution_count": 36,
     "metadata": {},
     "output_type": "execute_result"
    }
   ],
   "source": [
    "df_syn.head(10)"
   ]
  },
  {
   "cell_type": "code",
   "execution_count": 37,
   "id": "8056a184-453b-400a-b4e4-350ca734a0a2",
   "metadata": {
    "tags": []
   },
   "outputs": [],
   "source": [
    "from scipy.stats import spearmanr\n",
    "dict_spearman={}\n",
    "dict_pearson={}\n",
    "for metric in [\"grasp\",\"fisher\",\"grad_norm\",\"jacob_cov\",\"plain\",\"snip\",\"synflow\"]:\n",
    "#for metric in [\"snip\"]:\n",
    "        spearman_corr, _ = spearmanr(df_syn['best_acc'],df_syn[f\"{metric}\"])\n",
    "        pearson_corr= df_syn['best_acc'].corr(df_syn[metric])\n",
    "        \n",
    "        dict_spearman[metric]=spearman_corr\n",
    "        dict_pearson[metric]=pearson_corr"
   ]
  },
  {
   "cell_type": "code",
   "execution_count": 38,
   "id": "367a30eb-919a-4df7-8241-6844bb51b3fc",
   "metadata": {
    "tags": []
   },
   "outputs": [],
   "source": [
    "corr_df=pd.DataFrame([dict_spearman])\n",
    "corr_df[\"dataset\"]=dataset"
   ]
  },
  {
   "cell_type": "code",
   "execution_count": 39,
   "id": "0d1cedc9-bdea-4607-842b-fc015f542563",
   "metadata": {
    "tags": []
   },
   "outputs": [
    {
     "data": {
      "text/html": [
       "<div>\n",
       "<style scoped>\n",
       "    .dataframe tbody tr th:only-of-type {\n",
       "        vertical-align: middle;\n",
       "    }\n",
       "\n",
       "    .dataframe tbody tr th {\n",
       "        vertical-align: top;\n",
       "    }\n",
       "\n",
       "    .dataframe thead th {\n",
       "        text-align: right;\n",
       "    }\n",
       "</style>\n",
       "<table border=\"1\" class=\"dataframe\">\n",
       "  <thead>\n",
       "    <tr style=\"text-align: right;\">\n",
       "      <th></th>\n",
       "      <th>grasp</th>\n",
       "      <th>fisher</th>\n",
       "      <th>grad_norm</th>\n",
       "      <th>jacob_cov</th>\n",
       "      <th>plain</th>\n",
       "      <th>snip</th>\n",
       "      <th>synflow</th>\n",
       "      <th>dataset</th>\n",
       "    </tr>\n",
       "  </thead>\n",
       "  <tbody>\n",
       "    <tr>\n",
       "      <th>0</th>\n",
       "      <td>0.269173</td>\n",
       "      <td>0.362406</td>\n",
       "      <td>0.347368</td>\n",
       "      <td>-0.067669</td>\n",
       "      <td>-0.052632</td>\n",
       "      <td>0.482707</td>\n",
       "      <td>0.245113</td>\n",
       "      <td>Caitie</td>\n",
       "    </tr>\n",
       "  </tbody>\n",
       "</table>\n",
       "</div>"
      ],
      "text/plain": [
       "      grasp    fisher  grad_norm  jacob_cov     plain      snip   synflow  \\\n",
       "0  0.269173  0.362406   0.347368  -0.067669 -0.052632  0.482707  0.245113   \n",
       "\n",
       "  dataset  \n",
       "0  Caitie  "
      ]
     },
     "execution_count": 39,
     "metadata": {},
     "output_type": "execute_result"
    }
   ],
   "source": [
    "corr_df #aug6"
   ]
  },
  {
   "cell_type": "code",
   "execution_count": 40,
   "id": "323a3d19-3531-4990-aa79-50a7cac77588",
   "metadata": {
    "tags": []
   },
   "outputs": [
    {
     "data": {
      "text/html": [
       "<div>\n",
       "<style scoped>\n",
       "    .dataframe tbody tr th:only-of-type {\n",
       "        vertical-align: middle;\n",
       "    }\n",
       "\n",
       "    .dataframe tbody tr th {\n",
       "        vertical-align: top;\n",
       "    }\n",
       "\n",
       "    .dataframe thead th {\n",
       "        text-align: right;\n",
       "    }\n",
       "</style>\n",
       "<table border=\"1\" class=\"dataframe\">\n",
       "  <thead>\n",
       "    <tr style=\"text-align: right;\">\n",
       "      <th></th>\n",
       "      <th>grasp</th>\n",
       "      <th>fisher</th>\n",
       "      <th>grad_norm</th>\n",
       "      <th>jacob_cov</th>\n",
       "      <th>plain</th>\n",
       "      <th>snip</th>\n",
       "      <th>synflow</th>\n",
       "      <th>dataset</th>\n",
       "    </tr>\n",
       "  </thead>\n",
       "  <tbody>\n",
       "    <tr>\n",
       "      <th>0</th>\n",
       "      <td>0.269173</td>\n",
       "      <td>0.362406</td>\n",
       "      <td>0.347368</td>\n",
       "      <td>-0.067669</td>\n",
       "      <td>-0.052632</td>\n",
       "      <td>0.482707</td>\n",
       "      <td>0.245113</td>\n",
       "      <td>Caitie</td>\n",
       "    </tr>\n",
       "  </tbody>\n",
       "</table>\n",
       "</div>"
      ],
      "text/plain": [
       "      grasp    fisher  grad_norm  jacob_cov     plain      snip   synflow  \\\n",
       "0  0.269173  0.362406   0.347368  -0.067669 -0.052632  0.482707  0.245113   \n",
       "\n",
       "  dataset  \n",
       "0  Caitie  "
      ]
     },
     "execution_count": 40,
     "metadata": {},
     "output_type": "execute_result"
    }
   ],
   "source": [
    "corr_df #aug9"
   ]
  },
  {
   "cell_type": "code",
   "execution_count": 41,
   "id": "9fe041bd-7f67-4fbe-b2db-31bf8bc02e49",
   "metadata": {
    "tags": []
   },
   "outputs": [],
   "source": [
    "df_syn.to_csv(f\"zcost_proxies/results/augs/{dataset}_t{aug}.csv\")"
   ]
  },
  {
   "cell_type": "code",
   "execution_count": 42,
   "id": "f5917952-0dd9-422c-8375-d0d6073de5c6",
   "metadata": {
    "tags": []
   },
   "outputs": [
    {
     "data": {
      "text/html": [
       "<div>\n",
       "<style scoped>\n",
       "    .dataframe tbody tr th:only-of-type {\n",
       "        vertical-align: middle;\n",
       "    }\n",
       "\n",
       "    .dataframe tbody tr th {\n",
       "        vertical-align: top;\n",
       "    }\n",
       "\n",
       "    .dataframe thead th {\n",
       "        text-align: right;\n",
       "    }\n",
       "</style>\n",
       "<table border=\"1\" class=\"dataframe\">\n",
       "  <thead>\n",
       "    <tr style=\"text-align: right;\">\n",
       "      <th></th>\n",
       "      <th>grasp</th>\n",
       "      <th>fisher</th>\n",
       "      <th>grad_norm</th>\n",
       "      <th>jacob_cov</th>\n",
       "      <th>plain</th>\n",
       "      <th>snip</th>\n",
       "      <th>synflow</th>\n",
       "      <th>dataset</th>\n",
       "    </tr>\n",
       "  </thead>\n",
       "  <tbody>\n",
       "    <tr>\n",
       "      <th>0</th>\n",
       "      <td>-0.413534</td>\n",
       "      <td>0.369925</td>\n",
       "      <td>0.44812</td>\n",
       "      <td>0.085714</td>\n",
       "      <td>0.009023</td>\n",
       "      <td>0.478195</td>\n",
       "      <td>0.245113</td>\n",
       "      <td>Caitie</td>\n",
       "    </tr>\n",
       "  </tbody>\n",
       "</table>\n",
       "</div>"
      ],
      "text/plain": [
       "      grasp    fisher  grad_norm  jacob_cov     plain      snip   synflow  \\\n",
       "0 -0.413534  0.369925    0.44812   0.085714  0.009023  0.478195  0.245113   \n",
       "\n",
       "  dataset  \n",
       "0  Caitie  "
      ]
     },
     "execution_count": 42,
     "metadata": {},
     "output_type": "execute_result"
    }
   ],
   "source": [
    "corr_df #aug5"
   ]
  },
  {
   "cell_type": "code",
   "execution_count": 38,
   "id": "3f370e7f-ccd2-4fad-9ac7-ef5513530378",
   "metadata": {
    "tags": []
   },
   "outputs": [
    {
     "data": {
      "text/html": [
       "<div>\n",
       "<style scoped>\n",
       "    .dataframe tbody tr th:only-of-type {\n",
       "        vertical-align: middle;\n",
       "    }\n",
       "\n",
       "    .dataframe tbody tr th {\n",
       "        vertical-align: top;\n",
       "    }\n",
       "\n",
       "    .dataframe thead th {\n",
       "        text-align: right;\n",
       "    }\n",
       "</style>\n",
       "<table border=\"1\" class=\"dataframe\">\n",
       "  <thead>\n",
       "    <tr style=\"text-align: right;\">\n",
       "      <th></th>\n",
       "      <th>grasp</th>\n",
       "      <th>fisher</th>\n",
       "      <th>grad_norm</th>\n",
       "      <th>jacob_cov</th>\n",
       "      <th>plain</th>\n",
       "      <th>snip</th>\n",
       "      <th>synflow</th>\n",
       "      <th>dataset</th>\n",
       "    </tr>\n",
       "  </thead>\n",
       "  <tbody>\n",
       "    <tr>\n",
       "      <th>0</th>\n",
       "      <td>0.085487</td>\n",
       "      <td>-0.5661</td>\n",
       "      <td>-0.542704</td>\n",
       "      <td>0.359396</td>\n",
       "      <td>0.082358</td>\n",
       "      <td>-0.522087</td>\n",
       "      <td>-0.37394</td>\n",
       "      <td>Gutenberg</td>\n",
       "    </tr>\n",
       "  </tbody>\n",
       "</table>\n",
       "</div>"
      ],
      "text/plain": [
       "      grasp  fisher  grad_norm  jacob_cov     plain      snip  synflow  \\\n",
       "0  0.085487 -0.5661  -0.542704   0.359396  0.082358 -0.522087 -0.37394   \n",
       "\n",
       "     dataset  \n",
       "0  Gutenberg  "
      ]
     },
     "execution_count": 38,
     "metadata": {},
     "output_type": "execute_result"
    }
   ],
   "source": [
    "corr_df #aug0"
   ]
  },
  {
   "cell_type": "code",
   "execution_count": 31,
   "id": "d6f9a1b7-2282-40dd-81b7-709020795bf3",
   "metadata": {
    "tags": []
   },
   "outputs": [
    {
     "data": {
      "text/html": [
       "<div>\n",
       "<style scoped>\n",
       "    .dataframe tbody tr th:only-of-type {\n",
       "        vertical-align: middle;\n",
       "    }\n",
       "\n",
       "    .dataframe tbody tr th {\n",
       "        vertical-align: top;\n",
       "    }\n",
       "\n",
       "    .dataframe thead th {\n",
       "        text-align: right;\n",
       "    }\n",
       "</style>\n",
       "<table border=\"1\" class=\"dataframe\">\n",
       "  <thead>\n",
       "    <tr style=\"text-align: right;\">\n",
       "      <th></th>\n",
       "      <th>grasp</th>\n",
       "      <th>fisher</th>\n",
       "      <th>grad_norm</th>\n",
       "      <th>jacob_cov</th>\n",
       "      <th>plain</th>\n",
       "      <th>snip</th>\n",
       "      <th>synflow</th>\n",
       "      <th>dataset</th>\n",
       "    </tr>\n",
       "  </thead>\n",
       "  <tbody>\n",
       "    <tr>\n",
       "      <th>0</th>\n",
       "      <td>-0.099231</td>\n",
       "      <td>-0.561821</td>\n",
       "      <td>-0.546281</td>\n",
       "      <td>0.228095</td>\n",
       "      <td>0.053812</td>\n",
       "      <td>-0.518833</td>\n",
       "      <td>-0.374568</td>\n",
       "      <td>Gutenberg</td>\n",
       "    </tr>\n",
       "  </tbody>\n",
       "</table>\n",
       "</div>"
      ],
      "text/plain": [
       "      grasp    fisher  grad_norm  jacob_cov     plain      snip   synflow  \\\n",
       "0 -0.099231 -0.561821  -0.546281   0.228095  0.053812 -0.518833 -0.374568   \n",
       "\n",
       "     dataset  \n",
       "0  Gutenberg  "
      ]
     },
     "execution_count": 31,
     "metadata": {},
     "output_type": "execute_result"
    }
   ],
   "source": [
    "corr_df # Aug 1-best"
   ]
  },
  {
   "cell_type": "code",
   "execution_count": 28,
   "id": "0c3edafb-2a11-4396-870e-7ea32f97b9a5",
   "metadata": {
    "tags": []
   },
   "outputs": [],
   "source": [
    "#corr_df.to_csv(f\"zcost_proxies/results/corr_{dataset}_clf_train.csv\")"
   ]
  },
  {
   "cell_type": "code",
   "execution_count": 19,
   "id": "e12d6155-a769-4dcf-885c-4cf84c8ab456",
   "metadata": {
    "tags": []
   },
   "outputs": [],
   "source": [
    "#merged_df=pd.merge(sorted_df, df_syn, on=\"name\")"
   ]
  },
  {
   "cell_type": "code",
   "execution_count": 20,
   "id": "95509f75-18e9-4381-b35b-65096b02d239",
   "metadata": {
    "tags": []
   },
   "outputs": [],
   "source": [
    "#correlation = merged_df['best_acc'].corr(merged_df[measure])"
   ]
  },
  {
   "cell_type": "code",
   "execution_count": 25,
   "id": "a43f54e4-b9b4-404f-ad60-3f03fc93ac29",
   "metadata": {
    "tags": []
   },
   "outputs": [],
   "source": [
    "#merged_df.to_csv(f\"zcost_proxies/results/{dataset}_{measure}.csv\")"
   ]
  },
  {
   "cell_type": "code",
   "execution_count": 24,
   "id": "200ce4b3-7eae-4064-969a-37352840d33a",
   "metadata": {
    "tags": []
   },
   "outputs": [],
   "source": [
    "import os \n",
    "import pandas as pd\n",
    "from scipy.stats import spearmanr\n",
    "\n",
    "\n",
    "#zcost_tests=os.listdir(\"zcost_proxies/results\")\n",
    "#zcost_results={}\n",
    "#for dataset in [\"Sadie\",\"Chester\",\"Caitie\",\"Adaline\",\"Mateo\",\"LaMelo\",\"Gutenberg\"]:\n",
    "#    for metric in [\"grasp\",\"fisher\",\"grad_norm\",\"jacob_cov\",\"plain\",\"snip\",\"synflow\"]:\n",
    "#        if metric==\"grasp\":\n",
    "#            zcost_results[dataset]=pd.read_csv(f\"zcost_proxies/results/{dataset}_{metric}.csv\",  index_col=0)\n",
    "#        else:\n",
    "#            zcost_results[dataset]=pd.merge(zcost_results[dataset], pd.read_csv(f\"zcost_proxies/results/{dataset}_{metric}.csv\",  index_col=0), on=[\"name\",\"best_acc\"])\n",
    "\n",
    "\n"
   ]
  },
  {
   "cell_type": "code",
   "execution_count": 28,
   "id": "94f54c68-561a-4776-83d8-1b5c43e25fcf",
   "metadata": {
    "tags": []
   },
   "outputs": [
    {
     "data": {
      "text/html": [
       "<div>\n",
       "<style scoped>\n",
       "    .dataframe tbody tr th:only-of-type {\n",
       "        vertical-align: middle;\n",
       "    }\n",
       "\n",
       "    .dataframe tbody tr th {\n",
       "        vertical-align: top;\n",
       "    }\n",
       "\n",
       "    .dataframe thead th {\n",
       "        text-align: right;\n",
       "    }\n",
       "</style>\n",
       "<table border=\"1\" class=\"dataframe\">\n",
       "  <thead>\n",
       "    <tr style=\"text-align: right;\">\n",
       "      <th></th>\n",
       "      <th>name</th>\n",
       "      <th>best_acc</th>\n",
       "      <th>grasp</th>\n",
       "      <th>fisher</th>\n",
       "      <th>grad_norm</th>\n",
       "      <th>jacob_cov</th>\n",
       "      <th>plain</th>\n",
       "      <th>snip</th>\n",
       "      <th>synflow</th>\n",
       "    </tr>\n",
       "  </thead>\n",
       "  <tbody>\n",
       "    <tr>\n",
       "      <th>0</th>\n",
       "      <td>amiable_smilodon</td>\n",
       "      <td>45.59</td>\n",
       "      <td>-4.865093e+00</td>\n",
       "      <td>0.000240</td>\n",
       "      <td>4.193594</td>\n",
       "      <td>-171.818468</td>\n",
       "      <td>0.026084</td>\n",
       "      <td>14.846945</td>\n",
       "      <td>2.626478e+27</td>\n",
       "    </tr>\n",
       "    <tr>\n",
       "      <th>1</th>\n",
       "      <td>gray_rook</td>\n",
       "      <td>45.41</td>\n",
       "      <td>-6.889699e+00</td>\n",
       "      <td>0.000358</td>\n",
       "      <td>6.276265</td>\n",
       "      <td>-169.545503</td>\n",
       "      <td>0.068283</td>\n",
       "      <td>20.947876</td>\n",
       "      <td>1.136812e+28</td>\n",
       "    </tr>\n",
       "    <tr>\n",
       "      <th>2</th>\n",
       "      <td>therapeutic_frigatebird</td>\n",
       "      <td>45.05</td>\n",
       "      <td>-1.185284e+02</td>\n",
       "      <td>0.018245</td>\n",
       "      <td>40.447296</td>\n",
       "      <td>-168.105102</td>\n",
       "      <td>0.333708</td>\n",
       "      <td>215.554825</td>\n",
       "      <td>7.448070e+39</td>\n",
       "    </tr>\n",
       "    <tr>\n",
       "      <th>3</th>\n",
       "      <td>gabby_cicada</td>\n",
       "      <td>45.03</td>\n",
       "      <td>-1.174461e+01</td>\n",
       "      <td>0.001429</td>\n",
       "      <td>11.530313</td>\n",
       "      <td>-169.126857</td>\n",
       "      <td>0.122268</td>\n",
       "      <td>50.786087</td>\n",
       "      <td>6.370824e+25</td>\n",
       "    </tr>\n",
       "    <tr>\n",
       "      <th>4</th>\n",
       "      <td>juicy_uakari</td>\n",
       "      <td>44.98</td>\n",
       "      <td>-1.849897e+01</td>\n",
       "      <td>0.002271</td>\n",
       "      <td>17.028513</td>\n",
       "      <td>-172.179546</td>\n",
       "      <td>0.274916</td>\n",
       "      <td>59.343403</td>\n",
       "      <td>6.997983e+46</td>\n",
       "    </tr>\n",
       "    <tr>\n",
       "      <th>...</th>\n",
       "      <td>...</td>\n",
       "      <td>...</td>\n",
       "      <td>...</td>\n",
       "      <td>...</td>\n",
       "      <td>...</td>\n",
       "      <td>...</td>\n",
       "      <td>...</td>\n",
       "      <td>...</td>\n",
       "      <td>...</td>\n",
       "    </tr>\n",
       "    <tr>\n",
       "      <th>115</th>\n",
       "      <td>vegan_ibex</td>\n",
       "      <td>37.37</td>\n",
       "      <td>-1.031781e+05</td>\n",
       "      <td>2.715285</td>\n",
       "      <td>427.664185</td>\n",
       "      <td>-173.611636</td>\n",
       "      <td>0.066207</td>\n",
       "      <td>2591.159912</td>\n",
       "      <td>3.181107e+53</td>\n",
       "    </tr>\n",
       "    <tr>\n",
       "      <th>116</th>\n",
       "      <td>strong_finch</td>\n",
       "      <td>36.62</td>\n",
       "      <td>-4.024987e+03</td>\n",
       "      <td>0.111312</td>\n",
       "      <td>75.767044</td>\n",
       "      <td>-185.093349</td>\n",
       "      <td>0.043577</td>\n",
       "      <td>266.725708</td>\n",
       "      <td>6.682875e+53</td>\n",
       "    </tr>\n",
       "    <tr>\n",
       "      <th>117</th>\n",
       "      <td>passionate_hornet</td>\n",
       "      <td>35.10</td>\n",
       "      <td>-9.242286e+05</td>\n",
       "      <td>4.975990</td>\n",
       "      <td>567.270508</td>\n",
       "      <td>-175.737715</td>\n",
       "      <td>-0.321018</td>\n",
       "      <td>3039.721191</td>\n",
       "      <td>9.436595e+56</td>\n",
       "    </tr>\n",
       "    <tr>\n",
       "      <th>118</th>\n",
       "      <td>dainty_bandicoot</td>\n",
       "      <td>30.45</td>\n",
       "      <td>-8.481015e+06</td>\n",
       "      <td>26.774305</td>\n",
       "      <td>1419.851196</td>\n",
       "      <td>-170.106191</td>\n",
       "      <td>3.499987</td>\n",
       "      <td>9144.043945</td>\n",
       "      <td>2.162435e+57</td>\n",
       "    </tr>\n",
       "    <tr>\n",
       "      <th>119</th>\n",
       "      <td>spiritual_raptor</td>\n",
       "      <td>28.61</td>\n",
       "      <td>-4.113152e+06</td>\n",
       "      <td>33.050945</td>\n",
       "      <td>1528.885742</td>\n",
       "      <td>-167.591001</td>\n",
       "      <td>-1.251755</td>\n",
       "      <td>10050.590820</td>\n",
       "      <td>7.530806e+54</td>\n",
       "    </tr>\n",
       "  </tbody>\n",
       "</table>\n",
       "<p>120 rows × 9 columns</p>\n",
       "</div>"
      ],
      "text/plain": [
       "                        name  best_acc         grasp     fisher    grad_norm  \\\n",
       "0           amiable_smilodon     45.59 -4.865093e+00   0.000240     4.193594   \n",
       "1                  gray_rook     45.41 -6.889699e+00   0.000358     6.276265   \n",
       "2    therapeutic_frigatebird     45.05 -1.185284e+02   0.018245    40.447296   \n",
       "3               gabby_cicada     45.03 -1.174461e+01   0.001429    11.530313   \n",
       "4               juicy_uakari     44.98 -1.849897e+01   0.002271    17.028513   \n",
       "..                       ...       ...           ...        ...          ...   \n",
       "115               vegan_ibex     37.37 -1.031781e+05   2.715285   427.664185   \n",
       "116             strong_finch     36.62 -4.024987e+03   0.111312    75.767044   \n",
       "117        passionate_hornet     35.10 -9.242286e+05   4.975990   567.270508   \n",
       "118         dainty_bandicoot     30.45 -8.481015e+06  26.774305  1419.851196   \n",
       "119         spiritual_raptor     28.61 -4.113152e+06  33.050945  1528.885742   \n",
       "\n",
       "      jacob_cov     plain          snip       synflow  \n",
       "0   -171.818468  0.026084     14.846945  2.626478e+27  \n",
       "1   -169.545503  0.068283     20.947876  1.136812e+28  \n",
       "2   -168.105102  0.333708    215.554825  7.448070e+39  \n",
       "3   -169.126857  0.122268     50.786087  6.370824e+25  \n",
       "4   -172.179546  0.274916     59.343403  6.997983e+46  \n",
       "..          ...       ...           ...           ...  \n",
       "115 -173.611636  0.066207   2591.159912  3.181107e+53  \n",
       "116 -185.093349  0.043577    266.725708  6.682875e+53  \n",
       "117 -175.737715 -0.321018   3039.721191  9.436595e+56  \n",
       "118 -170.106191  3.499987   9144.043945  2.162435e+57  \n",
       "119 -167.591001 -1.251755  10050.590820  7.530806e+54  \n",
       "\n",
       "[120 rows x 9 columns]"
      ]
     },
     "execution_count": 28,
     "metadata": {},
     "output_type": "execute_result"
    }
   ],
   "source": [
    "zcost_results[\"Gutenberg\"]"
   ]
  },
  {
   "cell_type": "code",
   "execution_count": 25,
   "id": "a78ae8b3-0eb5-4629-beee-e37a06f5d1c6",
   "metadata": {
    "tags": []
   },
   "outputs": [],
   "source": [
    "#dict_spearman={}\n",
    "#dict_pearson={}\n",
    "#for dataset in [\"Sadie\",\"Chester\",\"Caitie\",\"Adaline\",\"Mateo\",\"LaMelo\",\"Gutenberg\"]:\n",
    "#    dict_spearman[dataset]={}\n",
    "#    dict_pearson[dataset]={}\n",
    "#    for metric in [\"grasp\",\"fisher\",\"grad_norm\",\"jacob_cov\",\"plain\",\"snip\",\"synflow\"]:\n",
    "#        spearman_corr, _ = spearmanr(zcost_results[dataset]['best_acc'],zcost_results[dataset][metric])\n",
    "#        pearson_corr= zcost_results[dataset]['best_acc'].corr(zcost_results[dataset][metric])\n",
    "#        \n",
    "#        dict_spearman[dataset][metric]=spearman_corr\n",
    "#        dict_pearson[dataset][metric]=pearson_corr"
   ]
  },
  {
   "cell_type": "code",
   "execution_count": 26,
   "id": "aa236949-f9b0-46a0-869c-2c5c73ef0798",
   "metadata": {
    "tags": []
   },
   "outputs": [],
   "source": [
    "corr_dfs=[]\n",
    "for dataset in [\"Sadie\",\"Chester\",\"Caitie\",\"Adaline\",\"Mateo\",\"LaMelo\",\"Gutenberg\"]:\n",
    "    corr_dfs.append(pd.read_csv(f\"zcost_proxies/results/corr_{dataset}.csv\", index_col=0))"
   ]
  },
  {
   "cell_type": "code",
   "execution_count": 28,
   "id": "6d822d6b-271c-42d5-8cda-413bc4dd789e",
   "metadata": {
    "tags": []
   },
   "outputs": [],
   "source": [
    "corr_dfs=pd.concat(corr_dfs).set_index(\"dataset\").T"
   ]
  },
  {
   "cell_type": "code",
   "execution_count": 29,
   "id": "878088d5-69b3-4980-a229-513afc9f4b51",
   "metadata": {
    "tags": []
   },
   "outputs": [
    {
     "data": {
      "text/html": [
       "<div>\n",
       "<style scoped>\n",
       "    .dataframe tbody tr th:only-of-type {\n",
       "        vertical-align: middle;\n",
       "    }\n",
       "\n",
       "    .dataframe tbody tr th {\n",
       "        vertical-align: top;\n",
       "    }\n",
       "\n",
       "    .dataframe thead th {\n",
       "        text-align: right;\n",
       "    }\n",
       "</style>\n",
       "<table border=\"1\" class=\"dataframe\">\n",
       "  <thead>\n",
       "    <tr style=\"text-align: right;\">\n",
       "      <th>dataset</th>\n",
       "      <th>Sadie</th>\n",
       "      <th>Chester</th>\n",
       "      <th>Caitie</th>\n",
       "      <th>Adaline</th>\n",
       "      <th>Mateo</th>\n",
       "      <th>LaMelo</th>\n",
       "      <th>Gutenberg</th>\n",
       "    </tr>\n",
       "  </thead>\n",
       "  <tbody>\n",
       "    <tr>\n",
       "      <th>grasp</th>\n",
       "      <td>-0.015370</td>\n",
       "      <td>-0.031674</td>\n",
       "      <td>-0.056426</td>\n",
       "      <td>0.017826</td>\n",
       "      <td>0.075161</td>\n",
       "      <td>0.096642</td>\n",
       "      <td>0.085339</td>\n",
       "    </tr>\n",
       "    <tr>\n",
       "      <th>fisher</th>\n",
       "      <td>-0.299095</td>\n",
       "      <td>-0.396435</td>\n",
       "      <td>0.244160</td>\n",
       "      <td>-0.320120</td>\n",
       "      <td>-0.257678</td>\n",
       "      <td>-0.394138</td>\n",
       "      <td>-0.430577</td>\n",
       "    </tr>\n",
       "    <tr>\n",
       "      <th>grad_norm</th>\n",
       "      <td>-0.311202</td>\n",
       "      <td>-0.387656</td>\n",
       "      <td>0.272185</td>\n",
       "      <td>-0.298897</td>\n",
       "      <td>-0.231163</td>\n",
       "      <td>-0.365825</td>\n",
       "      <td>-0.402824</td>\n",
       "    </tr>\n",
       "    <tr>\n",
       "      <th>jacob_cov</th>\n",
       "      <td>0.705298</td>\n",
       "      <td>-0.034257</td>\n",
       "      <td>0.301509</td>\n",
       "      <td>0.698369</td>\n",
       "      <td>0.718633</td>\n",
       "      <td>0.390085</td>\n",
       "      <td>0.488031</td>\n",
       "    </tr>\n",
       "    <tr>\n",
       "      <th>plain</th>\n",
       "      <td>0.047703</td>\n",
       "      <td>0.071265</td>\n",
       "      <td>0.198465</td>\n",
       "      <td>0.157651</td>\n",
       "      <td>-0.026278</td>\n",
       "      <td>0.018055</td>\n",
       "      <td>0.119690</td>\n",
       "    </tr>\n",
       "    <tr>\n",
       "      <th>snip</th>\n",
       "      <td>-0.254757</td>\n",
       "      <td>-0.375072</td>\n",
       "      <td>0.338454</td>\n",
       "      <td>-0.268118</td>\n",
       "      <td>-0.198280</td>\n",
       "      <td>-0.330324</td>\n",
       "      <td>-0.363375</td>\n",
       "    </tr>\n",
       "    <tr>\n",
       "      <th>synflow</th>\n",
       "      <td>-0.208974</td>\n",
       "      <td>-0.328032</td>\n",
       "      <td>0.302363</td>\n",
       "      <td>-0.020706</td>\n",
       "      <td>0.022250</td>\n",
       "      <td>-0.078566</td>\n",
       "      <td>-0.301963</td>\n",
       "    </tr>\n",
       "  </tbody>\n",
       "</table>\n",
       "</div>"
      ],
      "text/plain": [
       "dataset       Sadie   Chester    Caitie   Adaline     Mateo    LaMelo  \\\n",
       "grasp     -0.015370 -0.031674 -0.056426  0.017826  0.075161  0.096642   \n",
       "fisher    -0.299095 -0.396435  0.244160 -0.320120 -0.257678 -0.394138   \n",
       "grad_norm -0.311202 -0.387656  0.272185 -0.298897 -0.231163 -0.365825   \n",
       "jacob_cov  0.705298 -0.034257  0.301509  0.698369  0.718633  0.390085   \n",
       "plain      0.047703  0.071265  0.198465  0.157651 -0.026278  0.018055   \n",
       "snip      -0.254757 -0.375072  0.338454 -0.268118 -0.198280 -0.330324   \n",
       "synflow   -0.208974 -0.328032  0.302363 -0.020706  0.022250 -0.078566   \n",
       "\n",
       "dataset    Gutenberg  \n",
       "grasp       0.085339  \n",
       "fisher     -0.430577  \n",
       "grad_norm  -0.402824  \n",
       "jacob_cov   0.488031  \n",
       "plain       0.119690  \n",
       "snip       -0.363375  \n",
       "synflow    -0.301963  "
      ]
     },
     "execution_count": 29,
     "metadata": {},
     "output_type": "execute_result"
    }
   ],
   "source": [
    "corr_dfs"
   ]
  },
  {
   "cell_type": "code",
   "execution_count": null,
   "id": "c0f6b296-6f34-4e24-ac00-c58e2af026da",
   "metadata": {},
   "outputs": [],
   "source": []
  },
  {
   "cell_type": "code",
   "execution_count": 34,
   "id": "b4b2c4ae-4a99-4a67-9bd9-dd148687ac7d",
   "metadata": {
    "tags": []
   },
   "outputs": [
    {
     "data": {
      "application/vnd.plotly.v1+json": {
       "config": {
        "plotlyServerURL": "https://plot.ly"
       },
       "data": [
        {
         "marker": {
          "color": [
           "#1f77b4",
           "#ff7f0e",
           "#2ca02c",
           "#d62728",
           "#9467bd",
           "blue",
           "orange",
           "red"
          ]
         },
         "name": "Sadie",
         "showlegend": false,
         "text": [
          -0.0153703684446437,
          -0.2990953988890124,
          -0.3112019638946393,
          0.7052977590778057,
          0.0477034800221714,
          -0.2547573632434051,
          -0.208973767597126
         ],
         "textposition": "outside",
         "texttemplate": "%{text:.2f}",
         "type": "bar",
         "x": [
          "grasp",
          "fisher",
          "grad_norm",
          "jacob_cov",
          "plain",
          "snip",
          "synflow"
         ],
         "xaxis": "x",
         "y": [
          -0.0153703684446437,
          -0.2990953988890124,
          -0.3112019638946393,
          0.7052977590778057,
          0.0477034800221714,
          -0.2547573632434051,
          -0.208973767597126
         ],
         "yaxis": "y"
        },
        {
         "marker": {
          "color": [
           "#1f77b4",
           "#ff7f0e",
           "#2ca02c",
           "#d62728",
           "#9467bd",
           "blue",
           "orange",
           "red"
          ]
         },
         "name": "Chester",
         "showlegend": false,
         "text": [
          -0.0316735482175316,
          -0.3964350332267981,
          -0.3876563105106574,
          -0.0342571596498135,
          0.0712646153404433,
          -0.3750716225663163,
          -0.3280318369995272
         ],
         "textposition": "outside",
         "texttemplate": "%{text:.2f}",
         "type": "bar",
         "x": [
          "grasp",
          "fisher",
          "grad_norm",
          "jacob_cov",
          "plain",
          "snip",
          "synflow"
         ],
         "xaxis": "x2",
         "y": [
          -0.0316735482175316,
          -0.3964350332267981,
          -0.3876563105106574,
          -0.0342571596498135,
          0.0712646153404433,
          -0.3750716225663163,
          -0.3280318369995272
         ],
         "yaxis": "y2"
        },
        {
         "marker": {
          "color": [
           "#1f77b4",
           "#ff7f0e",
           "#2ca02c",
           "#d62728",
           "#9467bd",
           "blue",
           "orange",
           "red"
          ]
         },
         "name": "Caitie",
         "showlegend": false,
         "text": [
          -0.0564261180211917,
          0.2441600164405775,
          0.2721851023142161,
          0.3015089116795598,
          0.1984654556929499,
          0.3384541773251736,
          0.3023633350293659
         ],
         "textposition": "outside",
         "texttemplate": "%{text:.2f}",
         "type": "bar",
         "x": [
          "grasp",
          "fisher",
          "grad_norm",
          "jacob_cov",
          "plain",
          "snip",
          "synflow"
         ],
         "xaxis": "x3",
         "y": [
          -0.0564261180211917,
          0.2441600164405775,
          0.2721851023142161,
          0.3015089116795598,
          0.1984654556929499,
          0.3384541773251736,
          0.3023633350293659
         ],
         "yaxis": "y3"
        },
        {
         "marker": {
          "color": [
           "#1f77b4",
           "#ff7f0e",
           "#2ca02c",
           "#d62728",
           "#9467bd",
           "blue",
           "orange",
           "red"
          ]
         },
         "name": "Adaline",
         "showlegend": false,
         "text": [
          0.0178258605268478,
          -0.3201197861544484,
          -0.2988968326852331,
          0.6983689222739364,
          0.1576511529595525,
          -0.2681178291504966,
          -0.0207060903153823
         ],
         "textposition": "outside",
         "texttemplate": "%{text:.2f}",
         "type": "bar",
         "x": [
          "grasp",
          "fisher",
          "grad_norm",
          "jacob_cov",
          "plain",
          "snip",
          "synflow"
         ],
         "xaxis": "x4",
         "y": [
          0.0178258605268478,
          -0.3201197861544484,
          -0.2988968326852331,
          0.6983689222739364,
          0.1576511529595525,
          -0.2681178291504966,
          -0.0207060903153823
         ],
         "yaxis": "y4"
        },
        {
         "marker": {
          "color": [
           "#1f77b4",
           "#ff7f0e",
           "#2ca02c",
           "#d62728",
           "#9467bd",
           "blue",
           "orange",
           "red"
          ]
         },
         "name": "Mateo",
         "showlegend": false,
         "text": [
          0.075160658196889,
          -0.2576778098327018,
          -0.2311633882953341,
          0.7186328514518887,
          -0.026278274757467,
          -0.1982799491941771,
          0.022249888512104
         ],
         "textposition": "outside",
         "texttemplate": "%{text:.2f}",
         "type": "bar",
         "x": [
          "grasp",
          "fisher",
          "grad_norm",
          "jacob_cov",
          "plain",
          "snip",
          "synflow"
         ],
         "xaxis": "x5",
         "y": [
          0.075160658196889,
          -0.2576778098327018,
          -0.2311633882953341,
          0.7186328514518887,
          -0.026278274757467,
          -0.1982799491941771,
          0.022249888512104
         ],
         "yaxis": "y5"
        },
        {
         "marker": {
          "color": [
           "#1f77b4",
           "#ff7f0e",
           "#2ca02c",
           "#d62728",
           "#9467bd",
           "blue",
           "orange",
           "red"
          ]
         },
         "name": "LaMelo",
         "showlegend": false,
         "text": [
          0.0966418949406922,
          -0.3941380756832373,
          -0.3658251154815964,
          0.3900854294726013,
          0.0180545909589514,
          -0.3303236568600614,
          -0.0785664677544368
         ],
         "textposition": "outside",
         "texttemplate": "%{text:.2f}",
         "type": "bar",
         "x": [
          "grasp",
          "fisher",
          "grad_norm",
          "jacob_cov",
          "plain",
          "snip",
          "synflow"
         ],
         "xaxis": "x6",
         "y": [
          0.0966418949406922,
          -0.3941380756832373,
          -0.3658251154815964,
          0.3900854294726013,
          0.0180545909589514,
          -0.3303236568600614,
          -0.0785664677544368
         ],
         "yaxis": "y6"
        },
        {
         "marker": {
          "color": [
           "#1f77b4",
           "#ff7f0e",
           "#2ca02c",
           "#d62728",
           "#9467bd",
           "blue",
           "orange",
           "red"
          ]
         },
         "name": "Gutenberg",
         "showlegend": false,
         "text": [
          0.0853390469627543,
          -0.4305768495706101,
          -0.4028239104388179,
          0.4880308508137911,
          0.1196897588908262,
          -0.3633752882494835,
          -0.3019625344274433
         ],
         "textposition": "outside",
         "texttemplate": "%{text:.2f}",
         "type": "bar",
         "x": [
          "grasp",
          "fisher",
          "grad_norm",
          "jacob_cov",
          "plain",
          "snip",
          "synflow"
         ],
         "xaxis": "x7",
         "y": [
          0.0853390469627543,
          -0.4305768495706101,
          -0.4028239104388179,
          0.4880308508137911,
          0.1196897588908262,
          -0.3633752882494835,
          -0.3019625344274433
         ],
         "yaxis": "y7"
        }
       ],
       "layout": {
        "annotations": [
         {
          "font": {
           "size": 16
          },
          "showarrow": false,
          "text": "Sadie",
          "x": 0.14444444444444446,
          "xanchor": "center",
          "xref": "paper",
          "y": 1,
          "yanchor": "bottom",
          "yref": "paper"
         },
         {
          "font": {
           "size": 16
          },
          "showarrow": false,
          "text": "Chester",
          "x": 0.5,
          "xanchor": "center",
          "xref": "paper",
          "y": 1,
          "yanchor": "bottom",
          "yref": "paper"
         },
         {
          "font": {
           "size": 16
          },
          "showarrow": false,
          "text": "Caitie",
          "x": 0.8555555555555556,
          "xanchor": "center",
          "xref": "paper",
          "y": 1,
          "yanchor": "bottom",
          "yref": "paper"
         },
         {
          "font": {
           "size": 16
          },
          "showarrow": false,
          "text": "Adaline",
          "x": 0.14444444444444446,
          "xanchor": "center",
          "xref": "paper",
          "y": 0.6111111111111112,
          "yanchor": "bottom",
          "yref": "paper"
         },
         {
          "font": {
           "size": 16
          },
          "showarrow": false,
          "text": "Mateo",
          "x": 0.5,
          "xanchor": "center",
          "xref": "paper",
          "y": 0.6111111111111112,
          "yanchor": "bottom",
          "yref": "paper"
         },
         {
          "font": {
           "size": 16
          },
          "showarrow": false,
          "text": "LaMelo",
          "x": 0.8555555555555556,
          "xanchor": "center",
          "xref": "paper",
          "y": 0.6111111111111112,
          "yanchor": "bottom",
          "yref": "paper"
         },
         {
          "font": {
           "size": 16
          },
          "showarrow": false,
          "text": "Gutenberg",
          "x": 0.14444444444444446,
          "xanchor": "center",
          "xref": "paper",
          "y": 0.22222222222222224,
          "yanchor": "bottom",
          "yref": "paper"
         }
        ],
        "height": 800,
        "margin": {
         "b": 40,
         "l": 40,
         "r": 40,
         "t": 80
        },
        "showlegend": false,
        "template": {
         "data": {
          "bar": [
           {
            "error_x": {
             "color": "#2a3f5f"
            },
            "error_y": {
             "color": "#2a3f5f"
            },
            "marker": {
             "line": {
              "color": "#E5ECF6",
              "width": 0.5
             },
             "pattern": {
              "fillmode": "overlay",
              "size": 10,
              "solidity": 0.2
             }
            },
            "type": "bar"
           }
          ],
          "barpolar": [
           {
            "marker": {
             "line": {
              "color": "#E5ECF6",
              "width": 0.5
             },
             "pattern": {
              "fillmode": "overlay",
              "size": 10,
              "solidity": 0.2
             }
            },
            "type": "barpolar"
           }
          ],
          "carpet": [
           {
            "aaxis": {
             "endlinecolor": "#2a3f5f",
             "gridcolor": "white",
             "linecolor": "white",
             "minorgridcolor": "white",
             "startlinecolor": "#2a3f5f"
            },
            "baxis": {
             "endlinecolor": "#2a3f5f",
             "gridcolor": "white",
             "linecolor": "white",
             "minorgridcolor": "white",
             "startlinecolor": "#2a3f5f"
            },
            "type": "carpet"
           }
          ],
          "choropleth": [
           {
            "colorbar": {
             "outlinewidth": 0,
             "ticks": ""
            },
            "type": "choropleth"
           }
          ],
          "contour": [
           {
            "colorbar": {
             "outlinewidth": 0,
             "ticks": ""
            },
            "colorscale": [
             [
              0,
              "#0d0887"
             ],
             [
              0.1111111111111111,
              "#46039f"
             ],
             [
              0.2222222222222222,
              "#7201a8"
             ],
             [
              0.3333333333333333,
              "#9c179e"
             ],
             [
              0.4444444444444444,
              "#bd3786"
             ],
             [
              0.5555555555555556,
              "#d8576b"
             ],
             [
              0.6666666666666666,
              "#ed7953"
             ],
             [
              0.7777777777777778,
              "#fb9f3a"
             ],
             [
              0.8888888888888888,
              "#fdca26"
             ],
             [
              1,
              "#f0f921"
             ]
            ],
            "type": "contour"
           }
          ],
          "contourcarpet": [
           {
            "colorbar": {
             "outlinewidth": 0,
             "ticks": ""
            },
            "type": "contourcarpet"
           }
          ],
          "heatmap": [
           {
            "colorbar": {
             "outlinewidth": 0,
             "ticks": ""
            },
            "colorscale": [
             [
              0,
              "#0d0887"
             ],
             [
              0.1111111111111111,
              "#46039f"
             ],
             [
              0.2222222222222222,
              "#7201a8"
             ],
             [
              0.3333333333333333,
              "#9c179e"
             ],
             [
              0.4444444444444444,
              "#bd3786"
             ],
             [
              0.5555555555555556,
              "#d8576b"
             ],
             [
              0.6666666666666666,
              "#ed7953"
             ],
             [
              0.7777777777777778,
              "#fb9f3a"
             ],
             [
              0.8888888888888888,
              "#fdca26"
             ],
             [
              1,
              "#f0f921"
             ]
            ],
            "type": "heatmap"
           }
          ],
          "heatmapgl": [
           {
            "colorbar": {
             "outlinewidth": 0,
             "ticks": ""
            },
            "colorscale": [
             [
              0,
              "#0d0887"
             ],
             [
              0.1111111111111111,
              "#46039f"
             ],
             [
              0.2222222222222222,
              "#7201a8"
             ],
             [
              0.3333333333333333,
              "#9c179e"
             ],
             [
              0.4444444444444444,
              "#bd3786"
             ],
             [
              0.5555555555555556,
              "#d8576b"
             ],
             [
              0.6666666666666666,
              "#ed7953"
             ],
             [
              0.7777777777777778,
              "#fb9f3a"
             ],
             [
              0.8888888888888888,
              "#fdca26"
             ],
             [
              1,
              "#f0f921"
             ]
            ],
            "type": "heatmapgl"
           }
          ],
          "histogram": [
           {
            "marker": {
             "pattern": {
              "fillmode": "overlay",
              "size": 10,
              "solidity": 0.2
             }
            },
            "type": "histogram"
           }
          ],
          "histogram2d": [
           {
            "colorbar": {
             "outlinewidth": 0,
             "ticks": ""
            },
            "colorscale": [
             [
              0,
              "#0d0887"
             ],
             [
              0.1111111111111111,
              "#46039f"
             ],
             [
              0.2222222222222222,
              "#7201a8"
             ],
             [
              0.3333333333333333,
              "#9c179e"
             ],
             [
              0.4444444444444444,
              "#bd3786"
             ],
             [
              0.5555555555555556,
              "#d8576b"
             ],
             [
              0.6666666666666666,
              "#ed7953"
             ],
             [
              0.7777777777777778,
              "#fb9f3a"
             ],
             [
              0.8888888888888888,
              "#fdca26"
             ],
             [
              1,
              "#f0f921"
             ]
            ],
            "type": "histogram2d"
           }
          ],
          "histogram2dcontour": [
           {
            "colorbar": {
             "outlinewidth": 0,
             "ticks": ""
            },
            "colorscale": [
             [
              0,
              "#0d0887"
             ],
             [
              0.1111111111111111,
              "#46039f"
             ],
             [
              0.2222222222222222,
              "#7201a8"
             ],
             [
              0.3333333333333333,
              "#9c179e"
             ],
             [
              0.4444444444444444,
              "#bd3786"
             ],
             [
              0.5555555555555556,
              "#d8576b"
             ],
             [
              0.6666666666666666,
              "#ed7953"
             ],
             [
              0.7777777777777778,
              "#fb9f3a"
             ],
             [
              0.8888888888888888,
              "#fdca26"
             ],
             [
              1,
              "#f0f921"
             ]
            ],
            "type": "histogram2dcontour"
           }
          ],
          "mesh3d": [
           {
            "colorbar": {
             "outlinewidth": 0,
             "ticks": ""
            },
            "type": "mesh3d"
           }
          ],
          "parcoords": [
           {
            "line": {
             "colorbar": {
              "outlinewidth": 0,
              "ticks": ""
             }
            },
            "type": "parcoords"
           }
          ],
          "pie": [
           {
            "automargin": true,
            "type": "pie"
           }
          ],
          "scatter": [
           {
            "fillpattern": {
             "fillmode": "overlay",
             "size": 10,
             "solidity": 0.2
            },
            "type": "scatter"
           }
          ],
          "scatter3d": [
           {
            "line": {
             "colorbar": {
              "outlinewidth": 0,
              "ticks": ""
             }
            },
            "marker": {
             "colorbar": {
              "outlinewidth": 0,
              "ticks": ""
             }
            },
            "type": "scatter3d"
           }
          ],
          "scattercarpet": [
           {
            "marker": {
             "colorbar": {
              "outlinewidth": 0,
              "ticks": ""
             }
            },
            "type": "scattercarpet"
           }
          ],
          "scattergeo": [
           {
            "marker": {
             "colorbar": {
              "outlinewidth": 0,
              "ticks": ""
             }
            },
            "type": "scattergeo"
           }
          ],
          "scattergl": [
           {
            "marker": {
             "colorbar": {
              "outlinewidth": 0,
              "ticks": ""
             }
            },
            "type": "scattergl"
           }
          ],
          "scattermapbox": [
           {
            "marker": {
             "colorbar": {
              "outlinewidth": 0,
              "ticks": ""
             }
            },
            "type": "scattermapbox"
           }
          ],
          "scatterpolar": [
           {
            "marker": {
             "colorbar": {
              "outlinewidth": 0,
              "ticks": ""
             }
            },
            "type": "scatterpolar"
           }
          ],
          "scatterpolargl": [
           {
            "marker": {
             "colorbar": {
              "outlinewidth": 0,
              "ticks": ""
             }
            },
            "type": "scatterpolargl"
           }
          ],
          "scatterternary": [
           {
            "marker": {
             "colorbar": {
              "outlinewidth": 0,
              "ticks": ""
             }
            },
            "type": "scatterternary"
           }
          ],
          "surface": [
           {
            "colorbar": {
             "outlinewidth": 0,
             "ticks": ""
            },
            "colorscale": [
             [
              0,
              "#0d0887"
             ],
             [
              0.1111111111111111,
              "#46039f"
             ],
             [
              0.2222222222222222,
              "#7201a8"
             ],
             [
              0.3333333333333333,
              "#9c179e"
             ],
             [
              0.4444444444444444,
              "#bd3786"
             ],
             [
              0.5555555555555556,
              "#d8576b"
             ],
             [
              0.6666666666666666,
              "#ed7953"
             ],
             [
              0.7777777777777778,
              "#fb9f3a"
             ],
             [
              0.8888888888888888,
              "#fdca26"
             ],
             [
              1,
              "#f0f921"
             ]
            ],
            "type": "surface"
           }
          ],
          "table": [
           {
            "cells": {
             "fill": {
              "color": "#EBF0F8"
             },
             "line": {
              "color": "white"
             }
            },
            "header": {
             "fill": {
              "color": "#C8D4E3"
             },
             "line": {
              "color": "white"
             }
            },
            "type": "table"
           }
          ]
         },
         "layout": {
          "annotationdefaults": {
           "arrowcolor": "#2a3f5f",
           "arrowhead": 0,
           "arrowwidth": 1
          },
          "autotypenumbers": "strict",
          "coloraxis": {
           "colorbar": {
            "outlinewidth": 0,
            "ticks": ""
           }
          },
          "colorscale": {
           "diverging": [
            [
             0,
             "#8e0152"
            ],
            [
             0.1,
             "#c51b7d"
            ],
            [
             0.2,
             "#de77ae"
            ],
            [
             0.3,
             "#f1b6da"
            ],
            [
             0.4,
             "#fde0ef"
            ],
            [
             0.5,
             "#f7f7f7"
            ],
            [
             0.6,
             "#e6f5d0"
            ],
            [
             0.7,
             "#b8e186"
            ],
            [
             0.8,
             "#7fbc41"
            ],
            [
             0.9,
             "#4d9221"
            ],
            [
             1,
             "#276419"
            ]
           ],
           "sequential": [
            [
             0,
             "#0d0887"
            ],
            [
             0.1111111111111111,
             "#46039f"
            ],
            [
             0.2222222222222222,
             "#7201a8"
            ],
            [
             0.3333333333333333,
             "#9c179e"
            ],
            [
             0.4444444444444444,
             "#bd3786"
            ],
            [
             0.5555555555555556,
             "#d8576b"
            ],
            [
             0.6666666666666666,
             "#ed7953"
            ],
            [
             0.7777777777777778,
             "#fb9f3a"
            ],
            [
             0.8888888888888888,
             "#fdca26"
            ],
            [
             1,
             "#f0f921"
            ]
           ],
           "sequentialminus": [
            [
             0,
             "#0d0887"
            ],
            [
             0.1111111111111111,
             "#46039f"
            ],
            [
             0.2222222222222222,
             "#7201a8"
            ],
            [
             0.3333333333333333,
             "#9c179e"
            ],
            [
             0.4444444444444444,
             "#bd3786"
            ],
            [
             0.5555555555555556,
             "#d8576b"
            ],
            [
             0.6666666666666666,
             "#ed7953"
            ],
            [
             0.7777777777777778,
             "#fb9f3a"
            ],
            [
             0.8888888888888888,
             "#fdca26"
            ],
            [
             1,
             "#f0f921"
            ]
           ]
          },
          "colorway": [
           "#636efa",
           "#EF553B",
           "#00cc96",
           "#ab63fa",
           "#FFA15A",
           "#19d3f3",
           "#FF6692",
           "#B6E880",
           "#FF97FF",
           "#FECB52"
          ],
          "font": {
           "color": "#2a3f5f"
          },
          "geo": {
           "bgcolor": "white",
           "lakecolor": "white",
           "landcolor": "#E5ECF6",
           "showlakes": true,
           "showland": true,
           "subunitcolor": "white"
          },
          "hoverlabel": {
           "align": "left"
          },
          "hovermode": "closest",
          "mapbox": {
           "style": "light"
          },
          "paper_bgcolor": "white",
          "plot_bgcolor": "#E5ECF6",
          "polar": {
           "angularaxis": {
            "gridcolor": "white",
            "linecolor": "white",
            "ticks": ""
           },
           "bgcolor": "#E5ECF6",
           "radialaxis": {
            "gridcolor": "white",
            "linecolor": "white",
            "ticks": ""
           }
          },
          "scene": {
           "xaxis": {
            "backgroundcolor": "#E5ECF6",
            "gridcolor": "white",
            "gridwidth": 2,
            "linecolor": "white",
            "showbackground": true,
            "ticks": "",
            "zerolinecolor": "white"
           },
           "yaxis": {
            "backgroundcolor": "#E5ECF6",
            "gridcolor": "white",
            "gridwidth": 2,
            "linecolor": "white",
            "showbackground": true,
            "ticks": "",
            "zerolinecolor": "white"
           },
           "zaxis": {
            "backgroundcolor": "#E5ECF6",
            "gridcolor": "white",
            "gridwidth": 2,
            "linecolor": "white",
            "showbackground": true,
            "ticks": "",
            "zerolinecolor": "white"
           }
          },
          "shapedefaults": {
           "line": {
            "color": "#2a3f5f"
           }
          },
          "ternary": {
           "aaxis": {
            "gridcolor": "white",
            "linecolor": "white",
            "ticks": ""
           },
           "baxis": {
            "gridcolor": "white",
            "linecolor": "white",
            "ticks": ""
           },
           "bgcolor": "#E5ECF6",
           "caxis": {
            "gridcolor": "white",
            "linecolor": "white",
            "ticks": ""
           }
          },
          "title": {
           "x": 0.05
          },
          "xaxis": {
           "automargin": true,
           "gridcolor": "white",
           "linecolor": "white",
           "ticks": "",
           "title": {
            "standoff": 15
           },
           "zerolinecolor": "white",
           "zerolinewidth": 2
          },
          "yaxis": {
           "automargin": true,
           "gridcolor": "white",
           "linecolor": "white",
           "ticks": "",
           "title": {
            "standoff": 15
           },
           "zerolinecolor": "white",
           "zerolinewidth": 2
          }
         }
        },
        "title": {
         "text": "Spearmann correlation of each zero cost metric"
        },
        "width": 1000,
        "xaxis": {
         "anchor": "y",
         "autorange": true,
         "domain": [
          0,
          0.2888888888888889
         ],
         "range": [
          -0.5,
          6.5
         ],
         "type": "category"
        },
        "xaxis2": {
         "anchor": "y2",
         "autorange": true,
         "domain": [
          0.35555555555555557,
          0.6444444444444445
         ],
         "range": [
          -0.5,
          6.5
         ],
         "type": "category"
        },
        "xaxis3": {
         "anchor": "y3",
         "autorange": true,
         "domain": [
          0.7111111111111111,
          1
         ],
         "range": [
          -0.5,
          6.5
         ],
         "type": "category"
        },
        "xaxis4": {
         "anchor": "y4",
         "autorange": true,
         "domain": [
          0,
          0.2888888888888889
         ],
         "range": [
          -0.5,
          6.5
         ],
         "type": "category"
        },
        "xaxis5": {
         "anchor": "y5",
         "autorange": true,
         "domain": [
          0.35555555555555557,
          0.6444444444444445
         ],
         "range": [
          -0.5,
          6.5
         ],
         "type": "category"
        },
        "xaxis6": {
         "anchor": "y6",
         "autorange": true,
         "domain": [
          0.7111111111111111,
          1
         ],
         "range": [
          -0.5,
          6.5
         ],
         "type": "category"
        },
        "xaxis7": {
         "anchor": "y7",
         "autorange": true,
         "domain": [
          0,
          0.2888888888888889
         ],
         "range": [
          -0.5,
          6.5
         ],
         "type": "category"
        },
        "xaxis8": {
         "anchor": "y8",
         "domain": [
          0.35555555555555557,
          0.6444444444444445
         ]
        },
        "xaxis9": {
         "anchor": "y9",
         "domain": [
          0.7111111111111111,
          1
         ]
        },
        "yaxis": {
         "anchor": "x",
         "domain": [
          0.7777777777777778,
          1
         ],
         "range": [
          -0.2956418656999073,
          0.7405626470316959
         ],
         "type": "linear"
        },
        "yaxis2": {
         "anchor": "x2",
         "domain": [
          0.7777777777777778,
          1
         ],
         "range": [
          -0.37661328156545815,
          0.07482784610746547
         ],
         "type": "linear"
        },
        "yaxis3": {
         "anchor": "x3",
         "domain": [
          0.7777777777777778,
          1
         ],
         "range": [
          -0.053604812120132114,
          0.35537688619143226
         ],
         "type": "linear"
        },
        "yaxis4": {
         "anchor": "x4",
         "domain": [
          0.3888888888888889,
          0.6111111111111112
         ],
         "range": [
          -0.30411379684672596,
          0.7332873683876333
         ],
         "type": "linear"
        },
        "yaxis5": {
         "anchor": "x5",
         "domain": [
          0.3888888888888889,
          0.6111111111111112
         ],
         "range": [
          -0.24479391934106667,
          0.7545644940244832
         ],
         "type": "linear"
        },
        "yaxis6": {
         "anchor": "x6",
         "domain": [
          0.3888888888888889,
          0.6111111111111112
         ],
         "range": [
          -0.3744311718990754,
          0.40958970094623137
         ],
         "type": "linear"
        },
        "yaxis7": {
         "anchor": "x7",
         "domain": [
          0,
          0.22222222222222224
         ],
         "range": [
          -0.40904800709207956,
          0.5124323933544807
         ],
         "type": "linear"
        },
        "yaxis8": {
         "anchor": "x8",
         "domain": [
          0,
          0.22222222222222224
         ]
        },
        "yaxis9": {
         "anchor": "x9",
         "domain": [
          0,
          0.22222222222222224
         ]
        }
       }
      },
      "image/png": "[encoded data removed]",
      "text/html": [
       "<div>                            <div id=\"01731939-54e2-4341-b580-0f06eecc9e12\" class=\"plotly-graph-div\" style=\"height:800px; width:1000px;\"></div>            <script type=\"text/javascript\">                require([\"plotly\"], function(Plotly) {                    window.PLOTLYENV=window.PLOTLYENV || {};                                    if (document.getElementById(\"01731939-54e2-4341-b580-0f06eecc9e12\")) {                    Plotly.newPlot(                        \"01731939-54e2-4341-b580-0f06eecc9e12\",                        [{\"marker\":{\"color\":[\"#1f77b4\",\"#ff7f0e\",\"#2ca02c\",\"#d62728\",\"#9467bd\",\"blue\",\"orange\",\"red\"]},\"name\":\"Sadie\",\"showlegend\":false,\"text\":[-0.0153703684446437,-0.2990953988890124,-0.3112019638946393,0.7052977590778057,0.0477034800221714,-0.2547573632434051,-0.208973767597126],\"textposition\":\"outside\",\"texttemplate\":\"%{text:.2f}\",\"x\":[\"grasp\",\"fisher\",\"grad_norm\",\"jacob_cov\",\"plain\",\"snip\",\"synflow\"],\"y\":[-0.0153703684446437,-0.2990953988890124,-0.3112019638946393,0.7052977590778057,0.0477034800221714,-0.2547573632434051,-0.208973767597126],\"type\":\"bar\",\"xaxis\":\"x\",\"yaxis\":\"y\"},{\"marker\":{\"color\":[\"#1f77b4\",\"#ff7f0e\",\"#2ca02c\",\"#d62728\",\"#9467bd\",\"blue\",\"orange\",\"red\"]},\"name\":\"Chester\",\"showlegend\":false,\"text\":[-0.0316735482175316,-0.3964350332267981,-0.3876563105106574,-0.0342571596498135,0.0712646153404433,-0.3750716225663163,-0.3280318369995272],\"textposition\":\"outside\",\"texttemplate\":\"%{text:.2f}\",\"x\":[\"grasp\",\"fisher\",\"grad_norm\",\"jacob_cov\",\"plain\",\"snip\",\"synflow\"],\"y\":[-0.0316735482175316,-0.3964350332267981,-0.3876563105106574,-0.0342571596498135,0.0712646153404433,-0.3750716225663163,-0.3280318369995272],\"type\":\"bar\",\"xaxis\":\"x2\",\"yaxis\":\"y2\"},{\"marker\":{\"color\":[\"#1f77b4\",\"#ff7f0e\",\"#2ca02c\",\"#d62728\",\"#9467bd\",\"blue\",\"orange\",\"red\"]},\"name\":\"Caitie\",\"showlegend\":false,\"text\":[-0.0564261180211917,0.2441600164405775,0.2721851023142161,0.3015089116795598,0.1984654556929499,0.3384541773251736,0.3023633350293659],\"textposition\":\"outside\",\"texttemplate\":\"%{text:.2f}\",\"x\":[\"grasp\",\"fisher\",\"grad_norm\",\"jacob_cov\",\"plain\",\"snip\",\"synflow\"],\"y\":[-0.0564261180211917,0.2441600164405775,0.2721851023142161,0.3015089116795598,0.1984654556929499,0.3384541773251736,0.3023633350293659],\"type\":\"bar\",\"xaxis\":\"x3\",\"yaxis\":\"y3\"},{\"marker\":{\"color\":[\"#1f77b4\",\"#ff7f0e\",\"#2ca02c\",\"#d62728\",\"#9467bd\",\"blue\",\"orange\",\"red\"]},\"name\":\"Adaline\",\"showlegend\":false,\"text\":[0.0178258605268478,-0.3201197861544484,-0.2988968326852331,0.6983689222739364,0.1576511529595525,-0.2681178291504966,-0.0207060903153823],\"textposition\":\"outside\",\"texttemplate\":\"%{text:.2f}\",\"x\":[\"grasp\",\"fisher\",\"grad_norm\",\"jacob_cov\",\"plain\",\"snip\",\"synflow\"],\"y\":[0.0178258605268478,-0.3201197861544484,-0.2988968326852331,0.6983689222739364,0.1576511529595525,-0.2681178291504966,-0.0207060903153823],\"type\":\"bar\",\"xaxis\":\"x4\",\"yaxis\":\"y4\"},{\"marker\":{\"color\":[\"#1f77b4\",\"#ff7f0e\",\"#2ca02c\",\"#d62728\",\"#9467bd\",\"blue\",\"orange\",\"red\"]},\"name\":\"Mateo\",\"showlegend\":false,\"text\":[0.075160658196889,-0.2576778098327018,-0.2311633882953341,0.7186328514518887,-0.026278274757467,-0.1982799491941771,0.022249888512104],\"textposition\":\"outside\",\"texttemplate\":\"%{text:.2f}\",\"x\":[\"grasp\",\"fisher\",\"grad_norm\",\"jacob_cov\",\"plain\",\"snip\",\"synflow\"],\"y\":[0.075160658196889,-0.2576778098327018,-0.2311633882953341,0.7186328514518887,-0.026278274757467,-0.1982799491941771,0.022249888512104],\"type\":\"bar\",\"xaxis\":\"x5\",\"yaxis\":\"y5\"},{\"marker\":{\"color\":[\"#1f77b4\",\"#ff7f0e\",\"#2ca02c\",\"#d62728\",\"#9467bd\",\"blue\",\"orange\",\"red\"]},\"name\":\"LaMelo\",\"showlegend\":false,\"text\":[0.0966418949406922,-0.3941380756832373,-0.3658251154815964,0.3900854294726013,0.0180545909589514,-0.3303236568600614,-0.0785664677544368],\"textposition\":\"outside\",\"texttemplate\":\"%{text:.2f}\",\"x\":[\"grasp\",\"fisher\",\"grad_norm\",\"jacob_cov\",\"plain\",\"snip\",\"synflow\"],\"y\":[0.0966418949406922,-0.3941380756832373,-0.3658251154815964,0.3900854294726013,0.0180545909589514,-0.3303236568600614,-0.0785664677544368],\"type\":\"bar\",\"xaxis\":\"x6\",\"yaxis\":\"y6\"},{\"marker\":{\"color\":[\"#1f77b4\",\"#ff7f0e\",\"#2ca02c\",\"#d62728\",\"#9467bd\",\"blue\",\"orange\",\"red\"]},\"name\":\"Gutenberg\",\"showlegend\":false,\"text\":[0.0853390469627543,-0.4305768495706101,-0.4028239104388179,0.4880308508137911,0.1196897588908262,-0.3633752882494835,-0.3019625344274433],\"textposition\":\"outside\",\"texttemplate\":\"%{text:.2f}\",\"x\":[\"grasp\",\"fisher\",\"grad_norm\",\"jacob_cov\",\"plain\",\"snip\",\"synflow\"],\"y\":[0.0853390469627543,-0.4305768495706101,-0.4028239104388179,0.4880308508137911,0.1196897588908262,-0.3633752882494835,-0.3019625344274433],\"type\":\"bar\",\"xaxis\":\"x7\",\"yaxis\":\"y7\"}],                        {\"template\":{\"data\":{\"histogram2dcontour\":[{\"type\":\"histogram2dcontour\",\"colorbar\":{\"outlinewidth\":0,\"ticks\":\"\"},\"colorscale\":[[0.0,\"#0d0887\"],[0.1111111111111111,\"#46039f\"],[0.2222222222222222,\"#7201a8\"],[0.3333333333333333,\"#9c179e\"],[0.4444444444444444,\"#bd3786\"],[0.5555555555555556,\"#d8576b\"],[0.6666666666666666,\"#ed7953\"],[0.7777777777777778,\"#fb9f3a\"],[0.8888888888888888,\"#fdca26\"],[1.0,\"#f0f921\"]]}],\"choropleth\":[{\"type\":\"choropleth\",\"colorbar\":{\"outlinewidth\":0,\"ticks\":\"\"}}],\"histogram2d\":[{\"type\":\"histogram2d\",\"colorbar\":{\"outlinewidth\":0,\"ticks\":\"\"},\"colorscale\":[[0.0,\"#0d0887\"],[0.1111111111111111,\"#46039f\"],[0.2222222222222222,\"#7201a8\"],[0.3333333333333333,\"#9c179e\"],[0.4444444444444444,\"#bd3786\"],[0.5555555555555556,\"#d8576b\"],[0.6666666666666666,\"#ed7953\"],[0.7777777777777778,\"#fb9f3a\"],[0.8888888888888888,\"#fdca26\"],[1.0,\"#f0f921\"]]}],\"heatmap\":[{\"type\":\"heatmap\",\"colorbar\":{\"outlinewidth\":0,\"ticks\":\"\"},\"colorscale\":[[0.0,\"#0d0887\"],[0.1111111111111111,\"#46039f\"],[0.2222222222222222,\"#7201a8\"],[0.3333333333333333,\"#9c179e\"],[0.4444444444444444,\"#bd3786\"],[0.5555555555555556,\"#d8576b\"],[0.6666666666666666,\"#ed7953\"],[0.7777777777777778,\"#fb9f3a\"],[0.8888888888888888,\"#fdca26\"],[1.0,\"#f0f921\"]]}],\"heatmapgl\":[{\"type\":\"heatmapgl\",\"colorbar\":{\"outlinewidth\":0,\"ticks\":\"\"},\"colorscale\":[[0.0,\"#0d0887\"],[0.1111111111111111,\"#46039f\"],[0.2222222222222222,\"#7201a8\"],[0.3333333333333333,\"#9c179e\"],[0.4444444444444444,\"#bd3786\"],[0.5555555555555556,\"#d8576b\"],[0.6666666666666666,\"#ed7953\"],[0.7777777777777778,\"#fb9f3a\"],[0.8888888888888888,\"#fdca26\"],[1.0,\"#f0f921\"]]}],\"contourcarpet\":[{\"type\":\"contourcarpet\",\"colorbar\":{\"outlinewidth\":0,\"ticks\":\"\"}}],\"contour\":[{\"type\":\"contour\",\"colorbar\":{\"outlinewidth\":0,\"ticks\":\"\"},\"colorscale\":[[0.0,\"#0d0887\"],[0.1111111111111111,\"#46039f\"],[0.2222222222222222,\"#7201a8\"],[0.3333333333333333,\"#9c179e\"],[0.4444444444444444,\"#bd3786\"],[0.5555555555555556,\"#d8576b\"],[0.6666666666666666,\"#ed7953\"],[0.7777777777777778,\"#fb9f3a\"],[0.8888888888888888,\"#fdca26\"],[1.0,\"#f0f921\"]]}],\"surface\":[{\"type\":\"surface\",\"colorbar\":{\"outlinewidth\":0,\"ticks\":\"\"},\"colorscale\":[[0.0,\"#0d0887\"],[0.1111111111111111,\"#46039f\"],[0.2222222222222222,\"#7201a8\"],[0.3333333333333333,\"#9c179e\"],[0.4444444444444444,\"#bd3786\"],[0.5555555555555556,\"#d8576b\"],[0.6666666666666666,\"#ed7953\"],[0.7777777777777778,\"#fb9f3a\"],[0.8888888888888888,\"#fdca26\"],[1.0,\"#f0f921\"]]}],\"mesh3d\":[{\"type\":\"mesh3d\",\"colorbar\":{\"outlinewidth\":0,\"ticks\":\"\"}}],\"scatter\":[{\"fillpattern\":{\"fillmode\":\"overlay\",\"size\":10,\"solidity\":0.2},\"type\":\"scatter\"}],\"parcoords\":[{\"type\":\"parcoords\",\"line\":{\"colorbar\":{\"outlinewidth\":0,\"ticks\":\"\"}}}],\"scatterpolargl\":[{\"type\":\"scatterpolargl\",\"marker\":{\"colorbar\":{\"outlinewidth\":0,\"ticks\":\"\"}}}],\"bar\":[{\"error_x\":{\"color\":\"#2a3f5f\"},\"error_y\":{\"color\":\"#2a3f5f\"},\"marker\":{\"line\":{\"color\":\"#E5ECF6\",\"width\":0.5},\"pattern\":{\"fillmode\":\"overlay\",\"size\":10,\"solidity\":0.2}},\"type\":\"bar\"}],\"scattergeo\":[{\"type\":\"scattergeo\",\"marker\":{\"colorbar\":{\"outlinewidth\":0,\"ticks\":\"\"}}}],\"scatterpolar\":[{\"type\":\"scatterpolar\",\"marker\":{\"colorbar\":{\"outlinewidth\":0,\"ticks\":\"\"}}}],\"histogram\":[{\"marker\":{\"pattern\":{\"fillmode\":\"overlay\",\"size\":10,\"solidity\":0.2}},\"type\":\"histogram\"}],\"scattergl\":[{\"type\":\"scattergl\",\"marker\":{\"colorbar\":{\"outlinewidth\":0,\"ticks\":\"\"}}}],\"scatter3d\":[{\"type\":\"scatter3d\",\"line\":{\"colorbar\":{\"outlinewidth\":0,\"ticks\":\"\"}},\"marker\":{\"colorbar\":{\"outlinewidth\":0,\"ticks\":\"\"}}}],\"scattermapbox\":[{\"type\":\"scattermapbox\",\"marker\":{\"colorbar\":{\"outlinewidth\":0,\"ticks\":\"\"}}}],\"scatterternary\":[{\"type\":\"scatterternary\",\"marker\":{\"colorbar\":{\"outlinewidth\":0,\"ticks\":\"\"}}}],\"scattercarpet\":[{\"type\":\"scattercarpet\",\"marker\":{\"colorbar\":{\"outlinewidth\":0,\"ticks\":\"\"}}}],\"carpet\":[{\"aaxis\":{\"endlinecolor\":\"#2a3f5f\",\"gridcolor\":\"white\",\"linecolor\":\"white\",\"minorgridcolor\":\"white\",\"startlinecolor\":\"#2a3f5f\"},\"baxis\":{\"endlinecolor\":\"#2a3f5f\",\"gridcolor\":\"white\",\"linecolor\":\"white\",\"minorgridcolor\":\"white\",\"startlinecolor\":\"#2a3f5f\"},\"type\":\"carpet\"}],\"table\":[{\"cells\":{\"fill\":{\"color\":\"#EBF0F8\"},\"line\":{\"color\":\"white\"}},\"header\":{\"fill\":{\"color\":\"#C8D4E3\"},\"line\":{\"color\":\"white\"}},\"type\":\"table\"}],\"barpolar\":[{\"marker\":{\"line\":{\"color\":\"#E5ECF6\",\"width\":0.5},\"pattern\":{\"fillmode\":\"overlay\",\"size\":10,\"solidity\":0.2}},\"type\":\"barpolar\"}],\"pie\":[{\"automargin\":true,\"type\":\"pie\"}]},\"layout\":{\"autotypenumbers\":\"strict\",\"colorway\":[\"#636efa\",\"#EF553B\",\"#00cc96\",\"#ab63fa\",\"#FFA15A\",\"#19d3f3\",\"#FF6692\",\"#B6E880\",\"#FF97FF\",\"#FECB52\"],\"font\":{\"color\":\"#2a3f5f\"},\"hovermode\":\"closest\",\"hoverlabel\":{\"align\":\"left\"},\"paper_bgcolor\":\"white\",\"plot_bgcolor\":\"#E5ECF6\",\"polar\":{\"bgcolor\":\"#E5ECF6\",\"angularaxis\":{\"gridcolor\":\"white\",\"linecolor\":\"white\",\"ticks\":\"\"},\"radialaxis\":{\"gridcolor\":\"white\",\"linecolor\":\"white\",\"ticks\":\"\"}},\"ternary\":{\"bgcolor\":\"#E5ECF6\",\"aaxis\":{\"gridcolor\":\"white\",\"linecolor\":\"white\",\"ticks\":\"\"},\"baxis\":{\"gridcolor\":\"white\",\"linecolor\":\"white\",\"ticks\":\"\"},\"caxis\":{\"gridcolor\":\"white\",\"linecolor\":\"white\",\"ticks\":\"\"}},\"coloraxis\":{\"colorbar\":{\"outlinewidth\":0,\"ticks\":\"\"}},\"colorscale\":{\"sequential\":[[0.0,\"#0d0887\"],[0.1111111111111111,\"#46039f\"],[0.2222222222222222,\"#7201a8\"],[0.3333333333333333,\"#9c179e\"],[0.4444444444444444,\"#bd3786\"],[0.5555555555555556,\"#d8576b\"],[0.6666666666666666,\"#ed7953\"],[0.7777777777777778,\"#fb9f3a\"],[0.8888888888888888,\"#fdca26\"],[1.0,\"#f0f921\"]],\"sequentialminus\":[[0.0,\"#0d0887\"],[0.1111111111111111,\"#46039f\"],[0.2222222222222222,\"#7201a8\"],[0.3333333333333333,\"#9c179e\"],[0.4444444444444444,\"#bd3786\"],[0.5555555555555556,\"#d8576b\"],[0.6666666666666666,\"#ed7953\"],[0.7777777777777778,\"#fb9f3a\"],[0.8888888888888888,\"#fdca26\"],[1.0,\"#f0f921\"]],\"diverging\":[[0,\"#8e0152\"],[0.1,\"#c51b7d\"],[0.2,\"#de77ae\"],[0.3,\"#f1b6da\"],[0.4,\"#fde0ef\"],[0.5,\"#f7f7f7\"],[0.6,\"#e6f5d0\"],[0.7,\"#b8e186\"],[0.8,\"#7fbc41\"],[0.9,\"#4d9221\"],[1,\"#276419\"]]},\"xaxis\":{\"gridcolor\":\"white\",\"linecolor\":\"white\",\"ticks\":\"\",\"title\":{\"standoff\":15},\"zerolinecolor\":\"white\",\"automargin\":true,\"zerolinewidth\":2},\"yaxis\":{\"gridcolor\":\"white\",\"linecolor\":\"white\",\"ticks\":\"\",\"title\":{\"standoff\":15},\"zerolinecolor\":\"white\",\"automargin\":true,\"zerolinewidth\":2},\"scene\":{\"xaxis\":{\"backgroundcolor\":\"#E5ECF6\",\"gridcolor\":\"white\",\"linecolor\":\"white\",\"showbackground\":true,\"ticks\":\"\",\"zerolinecolor\":\"white\",\"gridwidth\":2},\"yaxis\":{\"backgroundcolor\":\"#E5ECF6\",\"gridcolor\":\"white\",\"linecolor\":\"white\",\"showbackground\":true,\"ticks\":\"\",\"zerolinecolor\":\"white\",\"gridwidth\":2},\"zaxis\":{\"backgroundcolor\":\"#E5ECF6\",\"gridcolor\":\"white\",\"linecolor\":\"white\",\"showbackground\":true,\"ticks\":\"\",\"zerolinecolor\":\"white\",\"gridwidth\":2}},\"shapedefaults\":{\"line\":{\"color\":\"#2a3f5f\"}},\"annotationdefaults\":{\"arrowcolor\":\"#2a3f5f\",\"arrowhead\":0,\"arrowwidth\":1},\"geo\":{\"bgcolor\":\"white\",\"landcolor\":\"#E5ECF6\",\"subunitcolor\":\"white\",\"showland\":true,\"showlakes\":true,\"lakecolor\":\"white\"},\"title\":{\"x\":0.05},\"mapbox\":{\"style\":\"light\"}}},\"xaxis\":{\"anchor\":\"y\",\"domain\":[0.0,0.2888888888888889]},\"yaxis\":{\"anchor\":\"x\",\"domain\":[0.7777777777777778,1.0],\"range\":[-0.2956418656999073,0.7405626470316959]},\"xaxis2\":{\"anchor\":\"y2\",\"domain\":[0.35555555555555557,0.6444444444444445]},\"yaxis2\":{\"anchor\":\"x2\",\"domain\":[0.7777777777777778,1.0],\"range\":[-0.37661328156545815,0.07482784610746547]},\"xaxis3\":{\"anchor\":\"y3\",\"domain\":[0.7111111111111111,1.0]},\"yaxis3\":{\"anchor\":\"x3\",\"domain\":[0.7777777777777778,1.0],\"range\":[-0.053604812120132114,0.35537688619143226]},\"xaxis4\":{\"anchor\":\"y4\",\"domain\":[0.0,0.2888888888888889]},\"yaxis4\":{\"anchor\":\"x4\",\"domain\":[0.3888888888888889,0.6111111111111112],\"range\":[-0.30411379684672596,0.7332873683876333]},\"xaxis5\":{\"anchor\":\"y5\",\"domain\":[0.35555555555555557,0.6444444444444445]},\"yaxis5\":{\"anchor\":\"x5\",\"domain\":[0.3888888888888889,0.6111111111111112],\"range\":[-0.24479391934106667,0.7545644940244832]},\"xaxis6\":{\"anchor\":\"y6\",\"domain\":[0.7111111111111111,1.0]},\"yaxis6\":{\"anchor\":\"x6\",\"domain\":[0.3888888888888889,0.6111111111111112],\"range\":[-0.3744311718990754,0.40958970094623137]},\"xaxis7\":{\"anchor\":\"y7\",\"domain\":[0.0,0.2888888888888889]},\"yaxis7\":{\"anchor\":\"x7\",\"domain\":[0.0,0.22222222222222224],\"range\":[-0.40904800709207956,0.5124323933544807]},\"xaxis8\":{\"anchor\":\"y8\",\"domain\":[0.35555555555555557,0.6444444444444445]},\"yaxis8\":{\"anchor\":\"x8\",\"domain\":[0.0,0.22222222222222224]},\"xaxis9\":{\"anchor\":\"y9\",\"domain\":[0.7111111111111111,1.0]},\"yaxis9\":{\"anchor\":\"x9\",\"domain\":[0.0,0.22222222222222224]},\"annotations\":[{\"font\":{\"size\":16},\"showarrow\":false,\"text\":\"Sadie\",\"x\":0.14444444444444446,\"xanchor\":\"center\",\"xref\":\"paper\",\"y\":1.0,\"yanchor\":\"bottom\",\"yref\":\"paper\"},{\"font\":{\"size\":16},\"showarrow\":false,\"text\":\"Chester\",\"x\":0.5,\"xanchor\":\"center\",\"xref\":\"paper\",\"y\":1.0,\"yanchor\":\"bottom\",\"yref\":\"paper\"},{\"font\":{\"size\":16},\"showarrow\":false,\"text\":\"Caitie\",\"x\":0.8555555555555556,\"xanchor\":\"center\",\"xref\":\"paper\",\"y\":1.0,\"yanchor\":\"bottom\",\"yref\":\"paper\"},{\"font\":{\"size\":16},\"showarrow\":false,\"text\":\"Adaline\",\"x\":0.14444444444444446,\"xanchor\":\"center\",\"xref\":\"paper\",\"y\":0.6111111111111112,\"yanchor\":\"bottom\",\"yref\":\"paper\"},{\"font\":{\"size\":16},\"showarrow\":false,\"text\":\"Mateo\",\"x\":0.5,\"xanchor\":\"center\",\"xref\":\"paper\",\"y\":0.6111111111111112,\"yanchor\":\"bottom\",\"yref\":\"paper\"},{\"font\":{\"size\":16},\"showarrow\":false,\"text\":\"LaMelo\",\"x\":0.8555555555555556,\"xanchor\":\"center\",\"xref\":\"paper\",\"y\":0.6111111111111112,\"yanchor\":\"bottom\",\"yref\":\"paper\"},{\"font\":{\"size\":16},\"showarrow\":false,\"text\":\"Gutenberg\",\"x\":0.14444444444444446,\"xanchor\":\"center\",\"xref\":\"paper\",\"y\":0.22222222222222224,\"yanchor\":\"bottom\",\"yref\":\"paper\"}],\"title\":{\"text\":\"Spearmann correlation of each zero cost metric\"},\"margin\":{\"t\":80,\"b\":40,\"l\":40,\"r\":40},\"height\":800,\"width\":1000,\"showlegend\":false},                        {\"responsive\": true}                    ).then(function(){\n",
       "                            \n",
       "var gd = document.getElementById('01731939-54e2-4341-b580-0f06eecc9e12');\n",
       "var x = new MutationObserver(function (mutations, observer) {{\n",
       "        var display = window.getComputedStyle(gd).display;\n",
       "        if (!display || display === 'none') {{\n",
       "            console.log([gd, 'removed!']);\n",
       "            Plotly.purge(gd);\n",
       "            observer.disconnect();\n",
       "        }}\n",
       "}});\n",
       "\n",
       "// Listen for the removal of the full notebook cells\n",
       "var notebookContainer = gd.closest('#notebook-container');\n",
       "if (notebookContainer) {{\n",
       "    x.observe(notebookContainer, {childList: true});\n",
       "}}\n",
       "\n",
       "// Listen for the clearing of the current output cell\n",
       "var outputEl = gd.closest('.output');\n",
       "if (outputEl) {{\n",
       "    x.observe(outputEl, {childList: true});\n",
       "}}\n",
       "\n",
       "                        })                };                });            </script>        </div>"
      ]
     },
     "metadata": {},
     "output_type": "display_data"
    }
   ],
   "source": [
    "import plotly.subplots as sp\n",
    "import plotly.graph_objects as go\n",
    "\n",
    "fig = sp.make_subplots(rows=3, cols=3, subplot_titles=corr_dfs.columns)\n",
    "\n",
    "# Defining the colors for each index\n",
    "colors = ['#1f77b4', '#ff7f0e', '#2ca02c', '#d62728', '#9467bd',\"blue\",\"orange\",\"red\"]\n",
    "\n",
    "# Adding traces for each column and displaying the scores on top of each bar\n",
    "for i, column in enumerate(corr_dfs.columns):\n",
    "    row = i // 3 + 1\n",
    "    col = i % 3 + 1\n",
    "    fig.add_trace(\n",
    "        go.Bar(\n",
    "            x=corr_dfs.index, \n",
    "            y=corr_dfs[column], \n",
    "            name=column, \n",
    "            marker_color=colors, \n",
    "            showlegend=False,\n",
    "            text=corr_dfs[column],  # Display the score values\n",
    "            textposition='outside',  # Position the text outside the bars\n",
    "            texttemplate='%{text:.2f}',  # Format the text to 2 decimal places\n",
    "        ),\n",
    "        row=row, col=col\n",
    "    )\n",
    "\n",
    "# Automatically set y-axis range for each subplot based on the min and max values\n",
    "for i, column in enumerate(corr_dfs.columns):\n",
    "    row = i // 3 + 1\n",
    "    col = i % 3 + 1\n",
    "    min_val = corr_dfs[column].min()\n",
    "    max_val = corr_dfs[column].max()\n",
    "    # Adding some padding to the range\n",
    "    fig.update_yaxes(range=[min_val * 0.95, max_val * 1.05], row=row, col=col)\n",
    "\n",
    "# Update layout\n",
    "fig.update_layout(\n",
    "    height=800, \n",
    "    width=1000, \n",
    "    title_text=\"Spearmann correlation of each zero cost metric\", \n",
    "    showlegend=False,\n",
    "    margin=dict(t=80, b=40, l=40, r=40)  # Adjust margins for better spacing\n",
    ")\n",
    "\n",
    "# Show plot\n",
    "fig.show()"
   ]
  },
  {
   "cell_type": "code",
   "execution_count": 26,
   "id": "76e7159e-b55c-4ad2-9ad8-f85a87014bf0",
   "metadata": {
    "tags": []
   },
   "outputs": [
    {
     "data": {
      "text/html": [
       "<div>\n",
       "<style scoped>\n",
       "    .dataframe tbody tr th:only-of-type {\n",
       "        vertical-align: middle;\n",
       "    }\n",
       "\n",
       "    .dataframe tbody tr th {\n",
       "        vertical-align: top;\n",
       "    }\n",
       "\n",
       "    .dataframe thead th {\n",
       "        text-align: right;\n",
       "    }\n",
       "</style>\n",
       "<table border=\"1\" class=\"dataframe\">\n",
       "  <thead>\n",
       "    <tr style=\"text-align: right;\">\n",
       "      <th></th>\n",
       "      <th>grasp</th>\n",
       "      <th>fisher</th>\n",
       "      <th>grad_norm</th>\n",
       "      <th>jacob_cov</th>\n",
       "      <th>plain</th>\n",
       "      <th>snip</th>\n",
       "      <th>synflow</th>\n",
       "      <th>dataset</th>\n",
       "    </tr>\n",
       "  </thead>\n",
       "  <tbody>\n",
       "    <tr>\n",
       "      <th>0</th>\n",
       "      <td>0.027921</td>\n",
       "      <td>-0.389183</td>\n",
       "      <td>-0.363203</td>\n",
       "      <td>0.315912</td>\n",
       "      <td>-0.215401</td>\n",
       "      <td>-0.327441</td>\n",
       "      <td>-0.078879</td>\n",
       "      <td>LaMelo</td>\n",
       "    </tr>\n",
       "  </tbody>\n",
       "</table>\n",
       "</div>"
      ],
      "text/plain": [
       "      grasp    fisher  grad_norm  jacob_cov     plain      snip   synflow  \\\n",
       "0  0.027921 -0.389183  -0.363203   0.315912 -0.215401 -0.327441 -0.078879   \n",
       "\n",
       "  dataset  \n",
       "0  LaMelo  "
      ]
     },
     "execution_count": 26,
     "metadata": {},
     "output_type": "execute_result"
    }
   ],
   "source": [
    "corr_df"
   ]
  },
  {
   "cell_type": "code",
   "execution_count": 27,
   "id": "05108b9f-7552-477b-bdc5-fd5c5b2db672",
   "metadata": {
    "tags": []
   },
   "outputs": [
    {
     "data": {
      "text/html": [
       "<div>\n",
       "<style scoped>\n",
       "    .dataframe tbody tr th:only-of-type {\n",
       "        vertical-align: middle;\n",
       "    }\n",
       "\n",
       "    .dataframe tbody tr th {\n",
       "        vertical-align: top;\n",
       "    }\n",
       "\n",
       "    .dataframe thead th {\n",
       "        text-align: right;\n",
       "    }\n",
       "</style>\n",
       "<table border=\"1\" class=\"dataframe\">\n",
       "  <thead>\n",
       "    <tr style=\"text-align: right;\">\n",
       "      <th></th>\n",
       "      <th>grasp</th>\n",
       "      <th>fisher</th>\n",
       "      <th>grad_norm</th>\n",
       "      <th>jacob_cov</th>\n",
       "      <th>plain</th>\n",
       "      <th>snip</th>\n",
       "      <th>synflow</th>\n",
       "      <th>dataset</th>\n",
       "    </tr>\n",
       "  </thead>\n",
       "  <tbody>\n",
       "    <tr>\n",
       "      <th>0</th>\n",
       "      <td>0.009081</td>\n",
       "      <td>-0.394204</td>\n",
       "      <td>-0.364255</td>\n",
       "      <td>0.25582</td>\n",
       "      <td>-0.10449</td>\n",
       "      <td>-0.324191</td>\n",
       "      <td>-0.078566</td>\n",
       "      <td>LaMelo</td>\n",
       "    </tr>\n",
       "  </tbody>\n",
       "</table>\n",
       "</div>"
      ],
      "text/plain": [
       "      grasp    fisher  grad_norm  jacob_cov    plain      snip   synflow  \\\n",
       "0  0.009081 -0.394204  -0.364255    0.25582 -0.10449 -0.324191 -0.078566   \n",
       "\n",
       "  dataset  \n",
       "0  LaMelo  "
      ]
     },
     "execution_count": 27,
     "metadata": {},
     "output_type": "execute_result"
    }
   ],
   "source": [
    "corr_df"
   ]
  },
  {
   "cell_type": "code",
   "execution_count": null,
   "id": "cd71d2c8-5088-46d0-9c30-177a61af6eea",
   "metadata": {},
   "outputs": [],
   "source": []
  }
 ],
 "metadata": {
  "kernelspec": {
   "display_name": "Python [conda env:pytorch-2.2.0]",
   "language": "python",
   "name": "conda-env-pytorch-2.2.0-py"
  },
  "language_info": {
   "codemirror_mode": {
    "name": "ipython",
    "version": 3
   },
   "file_extension": ".py",
   "mimetype": "text/x-python",
   "name": "python",
   "nbconvert_exporter": "python",
   "pygments_lexer": "ipython3",
   "version": "3.12.1"
  }
 },
 "nbformat": 4,
 "nbformat_minor": 5
}
