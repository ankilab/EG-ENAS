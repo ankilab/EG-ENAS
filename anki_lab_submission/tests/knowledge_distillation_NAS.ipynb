{
 "cells": [
  {
   "cell_type": "code",
   "execution_count": 1,
   "id": "1a3feaae-35d2-4405-9391-30cd29c287c8",
   "metadata": {
    "tags": []
   },
   "outputs": [
    {
     "name": "stderr",
     "output_type": "stream",
     "text": [
      "/home/hpc/iwb3/iwb3021h/.local/lib/python3.12/site-packages/tqdm/auto.py:21: TqdmWarning: IProgress not found. Please update jupyter and ipywidgets. See https://ipywidgets.readthedocs.io/en/stable/user_install.html\n",
      "  from .autonotebook import tqdm as notebook_tqdm\n"
     ]
    }
   ],
   "source": [
    "import sys\n",
    "from torchsummary import summary\n",
    "import ast\n",
    "import torch\n",
    "import random\n",
    "import numpy as np\n",
    "import time\n",
    "from IPython.display import clear_output\n",
    "import matplotlib.pyplot as plt\n",
    "sys.path.append(\"../../\")\n",
    "sys.path.append(\"../\")\n",
    "####### Dataset ############\n",
    "from data_processor import DataProcessor\n",
    "######## Search space #########\n",
    "from search_space.RegNet import RegNet\n",
    "from search_space.utils import create_widths_plot, scatter_results, get_generation_dfs\n",
    "######## Training ###############\n",
    "from trainer import Trainer, TrainerDistillation\n",
    "from utils.train_cfg import get_cfg, show_cfg\n",
    "###################################################\n",
    "random_seed = 1\n",
    "random.seed(random_seed)\n",
    "# Set seed for NumPy\n",
    "np.random.seed(random_seed)\n",
    "# Set seed for PyTorch\n",
    "torch.manual_seed(random_seed)\n",
    "torch.cuda.manual_seed_all(random_seed)\n",
    "# Additional steps if using CuDNN (optional, for GPU acceleration)\n",
    "torch.backends.cudnn.deterministic = True\n",
    "torch.backends.cudnn.benchmark = False\n",
    "device = torch.device(\"cuda\" if torch.cuda.is_available() else \"cpu\")\n",
    "import os\n",
    "from datetime import datetime\n",
    "import itertools\n",
    "import pandas as pd\n",
    "import json\n",
    "from io import StringIO\n",
    "from coolname import generate_slug\n",
    "from sklearn.metrics import accuracy_score\n",
    "import torch.multiprocessing as mp"
   ]
  },
  {
   "cell_type": "markdown",
   "id": "2e44ae1f-9fcc-42b6-8a3b-8a502c9ccf15",
   "metadata": {},
   "source": [
    "# Load dataset"
   ]
  },
  {
   "cell_type": "code",
   "execution_count": 2,
   "id": "df08bad4-9d31-4a3c-80ac-af16603bc57b",
   "metadata": {
    "tags": []
   },
   "outputs": [],
   "source": [
    "def load_dataset_metadata(dataset_path):\n",
    "    with open(os.path.join(dataset_path, 'metadata'), \"r\") as f:\n",
    "        metadata = json.load(f)\n",
    "    return metadata\n",
    "# load dataset from file\n",
    "def load_datasets(data_path, truncate):\n",
    "    data_path = '../../datasets/'+data_path\n",
    "    train_x = np.load(os.path.join(data_path,'train_x.npy'))\n",
    "    train_y = np.load(os.path.join(data_path,'train_y.npy'))\n",
    "    valid_x = np.load(os.path.join(data_path,'valid_x.npy'))\n",
    "    valid_y = np.load(os.path.join(data_path,'valid_y.npy'))\n",
    "    test_x = np.load(os.path.join(data_path,'test_x.npy'))\n",
    "    metadata = load_dataset_metadata(data_path)\n",
    "\n",
    "    if truncate:\n",
    "        train_x = train_x[:64]\n",
    "        train_y = train_y[:64]\n",
    "        valid_x = valid_x[:64]\n",
    "        valid_y = valid_y[:64]\n",
    "        test_x = test_x[:64]\n",
    "\n",
    "    return (train_x, train_y), \\\n",
    "           (valid_x, valid_y), \\\n",
    "           (test_x), metadata\n",
    "\n",
    "def validation(model, val_loader):\n",
    "    model.eval()\n",
    "    correct = 0\n",
    "    total = 0\n",
    "\n",
    "    with torch.no_grad():\n",
    "        for images, labels in val_loader:\n",
    "            images, labels = images.to(device), labels.to(device)\n",
    "            outputs = model(images)\n",
    "            _, predicted = torch.max(outputs, 1)\n",
    "            total += labels.size(0)\n",
    "            correct += (predicted == labels).sum().item()\n",
    "\n",
    "    # 4. Calculate Accuracy\n",
    "    accuracy = correct / total\n",
    "    print('Accuracy on the test set: {:.2f}%'.format(accuracy * 100))"
   ]
  },
  {
   "cell_type": "code",
   "execution_count": 3,
   "id": "6d881af8-a907-46d8-83f7-d2978e2b45a3",
   "metadata": {
    "tags": []
   },
   "outputs": [
    {
     "name": "stderr",
     "output_type": "stream",
     "text": [
      "/apps/jupyterhub/jh3.1.1-py3.11/envs/pytorch-2.2.0/lib/python3.12/site-packages/torchvision/transforms/v2/_deprecated.py:41: UserWarning: The transform `ToTensor()` is deprecated and will be removed in a future release. Instead, please use `v2.Compose([v2.ToImage(), v2.ToDtype(torch.float32, scale=True)])`.\n",
      "  warnings.warn(\n"
     ]
    },
    {
     "data": {
      "text/plain": [
       "{'input_shape': [45000, 1, 27, 18],\n",
       " 'codename': 'Gutenberg',\n",
       " 'benchmark': 40.98,\n",
       " 'num_classes': 6,\n",
       " 'select_augment': False,\n",
       " 'train_config_path': '../configs/train/augmentations_adam.yaml'}"
      ]
     },
     "execution_count": 3,
     "metadata": {},
     "output_type": "execute_result"
    }
   ],
   "source": [
    "Dataset=\"Gutenberg\"\n",
    "(train_x, train_y), (valid_x, valid_y), (test_x), metadata = load_datasets(Dataset, truncate=False)\n",
    "test_y = np.load(os.path.join('../../datasets/'+Dataset,'test_y.npy'))\n",
    "metadata[\"select_augment\"]=False\n",
    "data_processor = DataProcessor(train_x[:], train_y[:], valid_x, valid_y, test_x, metadata)\n",
    "train_loader, valid_loader, test_loader = data_processor.process()\n",
    "\n",
    "\n",
    "metadata"
   ]
  },
  {
   "cell_type": "code",
   "execution_count": 4,
   "id": "941cedd0-a728-416f-9fd6-5b80e5b5ba86",
   "metadata": {
    "tags": []
   },
   "outputs": [
    {
     "data": {
      "text/plain": [
       "<matplotlib.image.AxesImage at 0x7fc4a66a0380>"
      ]
     },
     "execution_count": 4,
     "metadata": {},
     "output_type": "execute_result"
    },
    {
     "data": {
      "image/png": "[encoded data removed]",
      "text/plain": [
       "<Figure size 640x480 with 1 Axes>"
      ]
     },
     "metadata": {},
     "output_type": "display_data"
    }
   ],
   "source": [
    "img=next(iter(train_loader))[0][0]\n",
    "img=img.numpy().transpose(1, 2, 0)\n",
    "plt.imshow(img)"
   ]
  },
  {
   "cell_type": "markdown",
   "id": "394894d6-8ced-423d-9322-234d052133ef",
   "metadata": {},
   "source": [
    "# Load search space and population"
   ]
  },
  {
   "cell_type": "code",
   "execution_count": 5,
   "id": "26a09d25-921c-4017-a275-455c985eced1",
   "metadata": {
    "tags": []
   },
   "outputs": [],
   "source": [
    "rg=regnet_space=RegNet(metadata,\n",
    "                    W0=[16, 120, 8],\n",
    "                    WA=[16, 64, 8],\n",
    "                    WM=[2.05,2.9,0.05],\n",
    "                    D=[8,22,1], \n",
    "                    G=[8,8,8], \n",
    "                    base_config=f\"../configs/search_space/config.yaml\")"
   ]
  },
  {
   "cell_type": "code",
   "execution_count": 6,
   "id": "17e8d543-1a95-4791-a8fc-12d4e6ecd18a",
   "metadata": {
    "collapsed": true,
    "jupyter": {
     "outputs_hidden": true
    },
    "tags": []
   },
   "outputs": [
    {
     "name": "stdout",
     "output_type": "stream",
     "text": [
      "Loading model: /home/woody/iwb3/iwb3021h/NAS_COMPETITION_RESULTS/classifier_train/Gutenberg/asparagus_doberman/config.yaml\n",
      "Loading model: /home/woody/iwb3/iwb3021h/NAS_COMPETITION_RESULTS/classifier_train/Gutenberg/icy_muskox/config.yaml\n",
      "Loading model: /home/woody/iwb3/iwb3021h/NAS_COMPETITION_RESULTS/classifier_train/Gutenberg/quantum_vole/config.yaml\n",
      "Loading model: /home/woody/iwb3/iwb3021h/NAS_COMPETITION_RESULTS/classifier_train/Gutenberg/blazing_jaguarundi/config.yaml\n",
      "Loading model: /home/woody/iwb3/iwb3021h/NAS_COMPETITION_RESULTS/classifier_train/Gutenberg/miniature_chinchilla/config.yaml\n",
      "Loading model: /home/woody/iwb3/iwb3021h/NAS_COMPETITION_RESULTS/classifier_train/Gutenberg/steel_teal/config.yaml\n",
      "Loading model: /home/woody/iwb3/iwb3021h/NAS_COMPETITION_RESULTS/classifier_train/Gutenberg/artichoke_tarsier/config.yaml\n",
      "Loading model: /home/woody/iwb3/iwb3021h/NAS_COMPETITION_RESULTS/classifier_train/Gutenberg/charcoal_dormouse/config.yaml\n",
      "Loading model: /home/woody/iwb3/iwb3021h/NAS_COMPETITION_RESULTS/classifier_train/Gutenberg/analytic_seriema/config.yaml\n",
      "Loading model: /home/woody/iwb3/iwb3021h/NAS_COMPETITION_RESULTS/classifier_train/Gutenberg/cornflower_toucan/config.yaml\n",
      "Loading model: /home/woody/iwb3/iwb3021h/NAS_COMPETITION_RESULTS/classifier_train/Gutenberg/sensible_dinosaur/config.yaml\n",
      "Loading model: /home/woody/iwb3/iwb3021h/NAS_COMPETITION_RESULTS/classifier_train/Gutenberg/lively_beaver/config.yaml\n",
      "Loading model: /home/woody/iwb3/iwb3021h/NAS_COMPETITION_RESULTS/classifier_train/Gutenberg/enchanted_shellfish/config.yaml\n",
      "Loading model: /home/woody/iwb3/iwb3021h/NAS_COMPETITION_RESULTS/classifier_train/Gutenberg/succinct_spider/config.yaml\n",
      "Loading model: /home/woody/iwb3/iwb3021h/NAS_COMPETITION_RESULTS/classifier_train/Gutenberg/hopeful_elephant/config.yaml\n",
      "Loading model: /home/woody/iwb3/iwb3021h/NAS_COMPETITION_RESULTS/classifier_train/Gutenberg/uncovered_albatross/config.yaml\n",
      "Loading model: /home/woody/iwb3/iwb3021h/NAS_COMPETITION_RESULTS/classifier_train/Gutenberg/discreet_poodle/config.yaml\n",
      "Loading model: /home/woody/iwb3/iwb3021h/NAS_COMPETITION_RESULTS/classifier_train/Gutenberg/huge_kagu/config.yaml\n",
      "Loading model: /home/woody/iwb3/iwb3021h/NAS_COMPETITION_RESULTS/classifier_train/Gutenberg/gorgeous_turaco/config.yaml\n",
      "Loading model: /home/woody/iwb3/iwb3021h/NAS_COMPETITION_RESULTS/classifier_train/Gutenberg/quiet_cuckoo/config.yaml\n",
      "Loading model: /home/woody/iwb3/iwb3021h/NAS_COMPETITION_RESULTS/classifier_train/Gutenberg/annoying_numbat/config.yaml\n",
      "Loading model: /home/woody/iwb3/iwb3021h/NAS_COMPETITION_RESULTS/classifier_train/Gutenberg/ambitious_silkworm/config.yaml\n",
      "Loading model: /home/woody/iwb3/iwb3021h/NAS_COMPETITION_RESULTS/classifier_train/Gutenberg/dashing_raven/config.yaml\n",
      "Loading model: /home/woody/iwb3/iwb3021h/NAS_COMPETITION_RESULTS/classifier_train/Gutenberg/chirpy_rook/config.yaml\n",
      "Loading model: /home/woody/iwb3/iwb3021h/NAS_COMPETITION_RESULTS/classifier_train/Gutenberg/mega_vicugna/config.yaml\n",
      "Loading model: /home/woody/iwb3/iwb3021h/NAS_COMPETITION_RESULTS/classifier_train/Gutenberg/uptight_hornet/config.yaml\n",
      "Loading model: /home/woody/iwb3/iwb3021h/NAS_COMPETITION_RESULTS/classifier_train/Gutenberg/hilarious_rabbit/config.yaml\n",
      "Loading model: /home/woody/iwb3/iwb3021h/NAS_COMPETITION_RESULTS/classifier_train/Gutenberg/modest_fennec/config.yaml\n",
      "Loading model: /home/woody/iwb3/iwb3021h/NAS_COMPETITION_RESULTS/classifier_train/Gutenberg/poetic_albatross/config.yaml\n",
      "Loading model: /home/woody/iwb3/iwb3021h/NAS_COMPETITION_RESULTS/classifier_train/Gutenberg/capable_python/config.yaml\n",
      "Loading model: /home/woody/iwb3/iwb3021h/NAS_COMPETITION_RESULTS/classifier_train/Gutenberg/messy_nautilus/config.yaml\n",
      "Loading model: /home/woody/iwb3/iwb3021h/NAS_COMPETITION_RESULTS/classifier_train/Gutenberg/attentive_rottweiler/config.yaml\n",
      "Loading model: /home/woody/iwb3/iwb3021h/NAS_COMPETITION_RESULTS/classifier_train/Gutenberg/statuesque_oarfish/config.yaml\n",
      "Loading model: /home/woody/iwb3/iwb3021h/NAS_COMPETITION_RESULTS/classifier_train/Gutenberg/manipulative_puma/config.yaml\n",
      "Loading model: /home/woody/iwb3/iwb3021h/NAS_COMPETITION_RESULTS/classifier_train/Gutenberg/stirring_rat/config.yaml\n",
      "Loading model: /home/woody/iwb3/iwb3021h/NAS_COMPETITION_RESULTS/classifier_train/Gutenberg/snobbish_fox/config.yaml\n",
      "Loading model: /home/woody/iwb3/iwb3021h/NAS_COMPETITION_RESULTS/classifier_train/Gutenberg/alluring_bulldog/config.yaml\n",
      "Loading model: /home/woody/iwb3/iwb3021h/NAS_COMPETITION_RESULTS/classifier_train/Gutenberg/orthodox_wrasse/config.yaml\n",
      "Loading model: /home/woody/iwb3/iwb3021h/NAS_COMPETITION_RESULTS/classifier_train/Gutenberg/hypnotic_cobra/config.yaml\n",
      "Loading model: /home/woody/iwb3/iwb3021h/NAS_COMPETITION_RESULTS/classifier_train/Gutenberg/mighty_sunfish/config.yaml\n",
      "Loading model: /home/woody/iwb3/iwb3021h/NAS_COMPETITION_RESULTS/classifier_train/Gutenberg/teal_ibis/config.yaml\n",
      "Loading model: /home/woody/iwb3/iwb3021h/NAS_COMPETITION_RESULTS/classifier_train/Gutenberg/radical_macaque/config.yaml\n",
      "Loading model: /home/woody/iwb3/iwb3021h/NAS_COMPETITION_RESULTS/classifier_train/Gutenberg/statuesque_pug/config.yaml\n",
      "Loading model: /home/woody/iwb3/iwb3021h/NAS_COMPETITION_RESULTS/classifier_train/Gutenberg/merciful_swine/config.yaml\n",
      "Loading model: /home/woody/iwb3/iwb3021h/NAS_COMPETITION_RESULTS/classifier_train/Gutenberg/sloppy_beaver/config.yaml\n",
      "Loading model: /home/woody/iwb3/iwb3021h/NAS_COMPETITION_RESULTS/classifier_train/Gutenberg/fantastic_crocodile/config.yaml\n",
      "Loading model: /home/woody/iwb3/iwb3021h/NAS_COMPETITION_RESULTS/classifier_train/Gutenberg/classy_vole/config.yaml\n",
      "Loading model: /home/woody/iwb3/iwb3021h/NAS_COMPETITION_RESULTS/classifier_train/Gutenberg/muscular_bumblebee/config.yaml\n",
      "Loading model: /home/woody/iwb3/iwb3021h/NAS_COMPETITION_RESULTS/classifier_train/Gutenberg/groovy_narwhal/config.yaml\n",
      "Loading model: /home/woody/iwb3/iwb3021h/NAS_COMPETITION_RESULTS/classifier_train/Gutenberg/paper_frigatebird/config.yaml\n",
      "Loading model: /home/woody/iwb3/iwb3021h/NAS_COMPETITION_RESULTS/classifier_train/Gutenberg/red_manatee/config.yaml\n",
      "Loading model: /home/woody/iwb3/iwb3021h/NAS_COMPETITION_RESULTS/classifier_train/Gutenberg/solid_curassow/config.yaml\n",
      "Loading model: /home/woody/iwb3/iwb3021h/NAS_COMPETITION_RESULTS/classifier_train/Gutenberg/knowing_trout/config.yaml\n",
      "Loading model: /home/woody/iwb3/iwb3021h/NAS_COMPETITION_RESULTS/classifier_train/Gutenberg/curly_guillemot/config.yaml\n",
      "Loading model: /home/woody/iwb3/iwb3021h/NAS_COMPETITION_RESULTS/classifier_train/Gutenberg/jovial_grouse/config.yaml\n",
      "Loading model: /home/woody/iwb3/iwb3021h/NAS_COMPETITION_RESULTS/classifier_train/Gutenberg/flat_barnacle/config.yaml\n",
      "Loading model: /home/woody/iwb3/iwb3021h/NAS_COMPETITION_RESULTS/classifier_train/Gutenberg/dazzling_tapir/config.yaml\n",
      "Loading model: /home/woody/iwb3/iwb3021h/NAS_COMPETITION_RESULTS/classifier_train/Gutenberg/nimble_bull/config.yaml\n",
      "Loading model: /home/woody/iwb3/iwb3021h/NAS_COMPETITION_RESULTS/classifier_train/Gutenberg/petite_limpet/config.yaml\n",
      "Loading model: /home/woody/iwb3/iwb3021h/NAS_COMPETITION_RESULTS/classifier_train/Gutenberg/fragrant_mouflon/config.yaml\n",
      "Loading model: /home/woody/iwb3/iwb3021h/NAS_COMPETITION_RESULTS/classifier_train/Gutenberg/didactic_kittiwake/config.yaml\n",
      "Loading model: /home/woody/iwb3/iwb3021h/NAS_COMPETITION_RESULTS/classifier_train/Gutenberg/almond_anaconda/config.yaml\n",
      "Loading model: /home/woody/iwb3/iwb3021h/NAS_COMPETITION_RESULTS/classifier_train/Gutenberg/tunneling_chinchilla/config.yaml\n",
      "Loading model: /home/woody/iwb3/iwb3021h/NAS_COMPETITION_RESULTS/classifier_train/Gutenberg/humongous_cobra/config.yaml\n",
      "Loading model: /home/woody/iwb3/iwb3021h/NAS_COMPETITION_RESULTS/classifier_train/Gutenberg/remarkable_caribou/config.yaml\n",
      "Loading model: /home/woody/iwb3/iwb3021h/NAS_COMPETITION_RESULTS/classifier_train/Gutenberg/bold_grebe/config.yaml\n",
      "Loading model: /home/woody/iwb3/iwb3021h/NAS_COMPETITION_RESULTS/classifier_train/Gutenberg/rebel_bandicoot/config.yaml\n",
      "Loading model: /home/woody/iwb3/iwb3021h/NAS_COMPETITION_RESULTS/classifier_train/Gutenberg/mysterious_mushroom/config.yaml\n",
      "Loading model: /home/woody/iwb3/iwb3021h/NAS_COMPETITION_RESULTS/classifier_train/Gutenberg/wisteria_snail/config.yaml\n",
      "Loading model: /home/woody/iwb3/iwb3021h/NAS_COMPETITION_RESULTS/classifier_train/Gutenberg/heavenly_dormouse/config.yaml\n",
      "Loading model: /home/woody/iwb3/iwb3021h/NAS_COMPETITION_RESULTS/classifier_train/Gutenberg/lurking_chinchilla/config.yaml\n",
      "Loading model: /home/woody/iwb3/iwb3021h/NAS_COMPETITION_RESULTS/classifier_train/Gutenberg/unnatural_stork/config.yaml\n",
      "Loading model: /home/woody/iwb3/iwb3021h/NAS_COMPETITION_RESULTS/classifier_train/Gutenberg/astute_deer/config.yaml\n",
      "Loading model: /home/woody/iwb3/iwb3021h/NAS_COMPETITION_RESULTS/classifier_train/Gutenberg/passionate_condor/config.yaml\n",
      "Loading model: /home/woody/iwb3/iwb3021h/NAS_COMPETITION_RESULTS/classifier_train/Gutenberg/stirring_tuna/config.yaml\n",
      "Loading model: /home/woody/iwb3/iwb3021h/NAS_COMPETITION_RESULTS/classifier_train/Gutenberg/refreshing_junglefowl/config.yaml\n",
      "Loading model: /home/woody/iwb3/iwb3021h/NAS_COMPETITION_RESULTS/classifier_train/Gutenberg/intelligent_nautilus/config.yaml\n",
      "Loading model: /home/woody/iwb3/iwb3021h/NAS_COMPETITION_RESULTS/classifier_train/Gutenberg/brawny_echidna/config.yaml\n",
      "Loading model: /home/woody/iwb3/iwb3021h/NAS_COMPETITION_RESULTS/classifier_train/Gutenberg/rugged_mouflon/config.yaml\n",
      "Loading model: /home/woody/iwb3/iwb3021h/NAS_COMPETITION_RESULTS/classifier_train/Gutenberg/conscious_goose/config.yaml\n",
      "Loading model: /home/woody/iwb3/iwb3021h/NAS_COMPETITION_RESULTS/classifier_train/Gutenberg/caped_stallion/config.yaml\n",
      "Loading model: /home/woody/iwb3/iwb3021h/NAS_COMPETITION_RESULTS/classifier_train/Gutenberg/tremendous_kittiwake/config.yaml\n",
      "Loading model: /home/woody/iwb3/iwb3021h/NAS_COMPETITION_RESULTS/classifier_train/Gutenberg/bulky_wombat/config.yaml\n",
      "Loading model: /home/woody/iwb3/iwb3021h/NAS_COMPETITION_RESULTS/classifier_train/Gutenberg/enchanted_narwhal/config.yaml\n",
      "Loading model: /home/woody/iwb3/iwb3021h/NAS_COMPETITION_RESULTS/classifier_train/Gutenberg/pristine_oyster/config.yaml\n",
      "Loading model: /home/woody/iwb3/iwb3021h/NAS_COMPETITION_RESULTS/classifier_train/Gutenberg/charming_sambar/config.yaml\n",
      "Loading model: /home/woody/iwb3/iwb3021h/NAS_COMPETITION_RESULTS/classifier_train/Gutenberg/naughty_fossa/config.yaml\n",
      "Loading model: /home/woody/iwb3/iwb3021h/NAS_COMPETITION_RESULTS/classifier_train/Gutenberg/ultra_centipede/config.yaml\n",
      "Loading model: /home/woody/iwb3/iwb3021h/NAS_COMPETITION_RESULTS/classifier_train/Gutenberg/delicate_heron/config.yaml\n",
      "Loading model: /home/woody/iwb3/iwb3021h/NAS_COMPETITION_RESULTS/classifier_train/Gutenberg/magic_alligator/config.yaml\n",
      "Loading model: /home/woody/iwb3/iwb3021h/NAS_COMPETITION_RESULTS/classifier_train/Gutenberg/bright_nuthatch/config.yaml\n",
      "Loading model: /home/woody/iwb3/iwb3021h/NAS_COMPETITION_RESULTS/classifier_train/Gutenberg/holistic_bird/config.yaml\n",
      "Loading model: /home/woody/iwb3/iwb3021h/NAS_COMPETITION_RESULTS/classifier_train/Gutenberg/active_sawfish/config.yaml\n",
      "Loading model: /home/woody/iwb3/iwb3021h/NAS_COMPETITION_RESULTS/classifier_train/Gutenberg/refreshing_toucan/config.yaml\n",
      "Loading model: /home/woody/iwb3/iwb3021h/NAS_COMPETITION_RESULTS/classifier_train/Gutenberg/victorious_slug/config.yaml\n",
      "Loading model: /home/woody/iwb3/iwb3021h/NAS_COMPETITION_RESULTS/classifier_train/Gutenberg/vigilant_pronghorn/config.yaml\n",
      "Loading model: /home/woody/iwb3/iwb3021h/NAS_COMPETITION_RESULTS/classifier_train/Gutenberg/greedy_avocet/config.yaml\n",
      "Loading model: /home/woody/iwb3/iwb3021h/NAS_COMPETITION_RESULTS/classifier_train/Gutenberg/fast_sawfish/config.yaml\n",
      "Loading model: /home/woody/iwb3/iwb3021h/NAS_COMPETITION_RESULTS/classifier_train/Gutenberg/nickel_chipmunk/config.yaml\n",
      "Loading model: /home/woody/iwb3/iwb3021h/NAS_COMPETITION_RESULTS/classifier_train/Gutenberg/horned_caiman/config.yaml\n",
      "Loading model: /home/woody/iwb3/iwb3021h/NAS_COMPETITION_RESULTS/classifier_train/Gutenberg/denim_wrasse/config.yaml\n",
      "Loading model: /home/woody/iwb3/iwb3021h/NAS_COMPETITION_RESULTS/classifier_train/Gutenberg/fabulous_caribou/config.yaml\n",
      "Loading model: /home/woody/iwb3/iwb3021h/NAS_COMPETITION_RESULTS/classifier_train/Gutenberg/portable_pigeon/config.yaml\n",
      "Loading model: /home/woody/iwb3/iwb3021h/NAS_COMPETITION_RESULTS/classifier_train/Gutenberg/divergent_goose/config.yaml\n",
      "Loading model: /home/woody/iwb3/iwb3021h/NAS_COMPETITION_RESULTS/classifier_train/Gutenberg/victorious_jackrabbit/config.yaml\n",
      "Loading model: /home/woody/iwb3/iwb3021h/NAS_COMPETITION_RESULTS/classifier_train/Gutenberg/scrupulous_chimpanzee/config.yaml\n",
      "Loading model: /home/woody/iwb3/iwb3021h/NAS_COMPETITION_RESULTS/classifier_train/Gutenberg/deft_manul/config.yaml\n",
      "Loading model: /home/woody/iwb3/iwb3021h/NAS_COMPETITION_RESULTS/classifier_train/Gutenberg/powerful_macaque/config.yaml\n",
      "Loading model: /home/woody/iwb3/iwb3021h/NAS_COMPETITION_RESULTS/classifier_train/Gutenberg/quaint_loon/config.yaml\n",
      "Loading model: /home/woody/iwb3/iwb3021h/NAS_COMPETITION_RESULTS/classifier_train/Gutenberg/massive_raccoon/config.yaml\n",
      "Loading model: /home/woody/iwb3/iwb3021h/NAS_COMPETITION_RESULTS/classifier_train/Gutenberg/huge_urchin/config.yaml\n",
      "Loading model: /home/woody/iwb3/iwb3021h/NAS_COMPETITION_RESULTS/classifier_train/Gutenberg/nice_fennec/config.yaml\n",
      "Loading model: /home/woody/iwb3/iwb3021h/NAS_COMPETITION_RESULTS/classifier_train/Gutenberg/rebel_cuttlefish/config.yaml\n",
      "Loading model: /home/woody/iwb3/iwb3021h/NAS_COMPETITION_RESULTS/classifier_train/Gutenberg/victorious_narwhal/config.yaml\n",
      "Loading model: /home/woody/iwb3/iwb3021h/NAS_COMPETITION_RESULTS/classifier_train/Gutenberg/fervent_booby/config.yaml\n",
      "Loading model: /home/woody/iwb3/iwb3021h/NAS_COMPETITION_RESULTS/classifier_train/Gutenberg/blazing_mustang/config.yaml\n",
      "Loading model: /home/woody/iwb3/iwb3021h/NAS_COMPETITION_RESULTS/classifier_train/Gutenberg/rapid_prawn/config.yaml\n",
      "Loading model: /home/woody/iwb3/iwb3021h/NAS_COMPETITION_RESULTS/classifier_train/Gutenberg/scrupulous_starfish/config.yaml\n",
      "Loading model: /home/woody/iwb3/iwb3021h/NAS_COMPETITION_RESULTS/classifier_train/Gutenberg/xanthic_pogona/config.yaml\n",
      "Loading model: /home/woody/iwb3/iwb3021h/NAS_COMPETITION_RESULTS/classifier_train/Gutenberg/hot_prawn/config.yaml\n"
     ]
    }
   ],
   "source": [
    "folder=f\"/home/woody/iwb3/iwb3021h/NAS_COMPETITION_RESULTS/classifier_train/{Dataset}\"\n",
    "trained_models, chromosomes=rg.load_generation(folder)"
   ]
  },
  {
   "cell_type": "code",
   "execution_count": null,
   "id": "1b03ee60-d9ea-44ce-9910-229d9065e41b",
   "metadata": {},
   "outputs": [],
   "source": [
    "#model_best, info_best, _= regnet.load_model(\"output/test_regnet_cifar100/RegNetY800MF\", weights_file=\"output/test_regnet_cifar100/RegNetY800MF/student_best\")\n",
    "#summary(model_best, (3,32,32))"
   ]
  },
  {
   "cell_type": "code",
   "execution_count": null,
   "id": "27d22921-1b75-4d14-93dd-46fe173a3e1b",
   "metadata": {},
   "outputs": [],
   "source": [
    "#rg.create_widths_plot(chromosomes)"
   ]
  },
  {
   "cell_type": "markdown",
   "id": "d20190f9-6c5e-419b-bc10-e09b9591be9e",
   "metadata": {},
   "source": [
    "# Load teacher (regnet)"
   ]
  },
  {
   "cell_type": "code",
   "execution_count": 7,
   "id": "458804df-d09e-4692-9466-7f3544c64cbc",
   "metadata": {
    "collapsed": true,
    "jupyter": {
     "outputs_hidden": true
    },
    "tags": []
   },
   "outputs": [
    {
     "data": {
      "text/plain": [
       "ResNet(\n",
       "  (conv1): Conv2d(1, 64, kernel_size=(7, 7), stride=(2, 2), padding=(3, 3), bias=False)\n",
       "  (bn1): BatchNorm2d(64, eps=1e-05, momentum=0.1, affine=True, track_running_stats=True)\n",
       "  (relu): ReLU(inplace=True)\n",
       "  (maxpool): MaxPool2d(kernel_size=3, stride=2, padding=1, dilation=1, ceil_mode=False)\n",
       "  (layer1): Sequential(\n",
       "    (0): BasicBlock(\n",
       "      (conv1): Conv2d(64, 64, kernel_size=(3, 3), stride=(1, 1), padding=(1, 1), bias=False)\n",
       "      (bn1): BatchNorm2d(64, eps=1e-05, momentum=0.1, affine=True, track_running_stats=True)\n",
       "      (relu): ReLU(inplace=True)\n",
       "      (conv2): Conv2d(64, 64, kernel_size=(3, 3), stride=(1, 1), padding=(1, 1), bias=False)\n",
       "      (bn2): BatchNorm2d(64, eps=1e-05, momentum=0.1, affine=True, track_running_stats=True)\n",
       "    )\n",
       "    (1): BasicBlock(\n",
       "      (conv1): Conv2d(64, 64, kernel_size=(3, 3), stride=(1, 1), padding=(1, 1), bias=False)\n",
       "      (bn1): BatchNorm2d(64, eps=1e-05, momentum=0.1, affine=True, track_running_stats=True)\n",
       "      (relu): ReLU(inplace=True)\n",
       "      (conv2): Conv2d(64, 64, kernel_size=(3, 3), stride=(1, 1), padding=(1, 1), bias=False)\n",
       "      (bn2): BatchNorm2d(64, eps=1e-05, momentum=0.1, affine=True, track_running_stats=True)\n",
       "    )\n",
       "  )\n",
       "  (layer2): Sequential(\n",
       "    (0): BasicBlock(\n",
       "      (conv1): Conv2d(64, 128, kernel_size=(3, 3), stride=(2, 2), padding=(1, 1), bias=False)\n",
       "      (bn1): BatchNorm2d(128, eps=1e-05, momentum=0.1, affine=True, track_running_stats=True)\n",
       "      (relu): ReLU(inplace=True)\n",
       "      (conv2): Conv2d(128, 128, kernel_size=(3, 3), stride=(1, 1), padding=(1, 1), bias=False)\n",
       "      (bn2): BatchNorm2d(128, eps=1e-05, momentum=0.1, affine=True, track_running_stats=True)\n",
       "      (downsample): Sequential(\n",
       "        (0): Conv2d(64, 128, kernel_size=(1, 1), stride=(2, 2), bias=False)\n",
       "        (1): BatchNorm2d(128, eps=1e-05, momentum=0.1, affine=True, track_running_stats=True)\n",
       "      )\n",
       "    )\n",
       "    (1): BasicBlock(\n",
       "      (conv1): Conv2d(128, 128, kernel_size=(3, 3), stride=(1, 1), padding=(1, 1), bias=False)\n",
       "      (bn1): BatchNorm2d(128, eps=1e-05, momentum=0.1, affine=True, track_running_stats=True)\n",
       "      (relu): ReLU(inplace=True)\n",
       "      (conv2): Conv2d(128, 128, kernel_size=(3, 3), stride=(1, 1), padding=(1, 1), bias=False)\n",
       "      (bn2): BatchNorm2d(128, eps=1e-05, momentum=0.1, affine=True, track_running_stats=True)\n",
       "    )\n",
       "  )\n",
       "  (layer3): Sequential(\n",
       "    (0): BasicBlock(\n",
       "      (conv1): Conv2d(128, 256, kernel_size=(3, 3), stride=(2, 2), padding=(1, 1), bias=False)\n",
       "      (bn1): BatchNorm2d(256, eps=1e-05, momentum=0.1, affine=True, track_running_stats=True)\n",
       "      (relu): ReLU(inplace=True)\n",
       "      (conv2): Conv2d(256, 256, kernel_size=(3, 3), stride=(1, 1), padding=(1, 1), bias=False)\n",
       "      (bn2): BatchNorm2d(256, eps=1e-05, momentum=0.1, affine=True, track_running_stats=True)\n",
       "      (downsample): Sequential(\n",
       "        (0): Conv2d(128, 256, kernel_size=(1, 1), stride=(2, 2), bias=False)\n",
       "        (1): BatchNorm2d(256, eps=1e-05, momentum=0.1, affine=True, track_running_stats=True)\n",
       "      )\n",
       "    )\n",
       "    (1): BasicBlock(\n",
       "      (conv1): Conv2d(256, 256, kernel_size=(3, 3), stride=(1, 1), padding=(1, 1), bias=False)\n",
       "      (bn1): BatchNorm2d(256, eps=1e-05, momentum=0.1, affine=True, track_running_stats=True)\n",
       "      (relu): ReLU(inplace=True)\n",
       "      (conv2): Conv2d(256, 256, kernel_size=(3, 3), stride=(1, 1), padding=(1, 1), bias=False)\n",
       "      (bn2): BatchNorm2d(256, eps=1e-05, momentum=0.1, affine=True, track_running_stats=True)\n",
       "    )\n",
       "  )\n",
       "  (layer4): Sequential(\n",
       "    (0): BasicBlock(\n",
       "      (conv1): Conv2d(256, 512, kernel_size=(3, 3), stride=(2, 2), padding=(1, 1), bias=False)\n",
       "      (bn1): BatchNorm2d(512, eps=1e-05, momentum=0.1, affine=True, track_running_stats=True)\n",
       "      (relu): ReLU(inplace=True)\n",
       "      (conv2): Conv2d(512, 512, kernel_size=(3, 3), stride=(1, 1), padding=(1, 1), bias=False)\n",
       "      (bn2): BatchNorm2d(512, eps=1e-05, momentum=0.1, affine=True, track_running_stats=True)\n",
       "      (downsample): Sequential(\n",
       "        (0): Conv2d(256, 512, kernel_size=(1, 1), stride=(2, 2), bias=False)\n",
       "        (1): BatchNorm2d(512, eps=1e-05, momentum=0.1, affine=True, track_running_stats=True)\n",
       "      )\n",
       "    )\n",
       "    (1): BasicBlock(\n",
       "      (conv1): Conv2d(512, 512, kernel_size=(3, 3), stride=(1, 1), padding=(1, 1), bias=False)\n",
       "      (bn1): BatchNorm2d(512, eps=1e-05, momentum=0.1, affine=True, track_running_stats=True)\n",
       "      (relu): ReLU(inplace=True)\n",
       "      (conv2): Conv2d(512, 512, kernel_size=(3, 3), stride=(1, 1), padding=(1, 1), bias=False)\n",
       "      (bn2): BatchNorm2d(512, eps=1e-05, momentum=0.1, affine=True, track_running_stats=True)\n",
       "    )\n",
       "  )\n",
       "  (avgpool): AdaptiveAvgPool2d(output_size=(1, 1))\n",
       "  (fc): Linear(in_features=512, out_features=6, bias=True)\n",
       ")"
      ]
     },
     "execution_count": 7,
     "metadata": {},
     "output_type": "execute_result"
    }
   ],
   "source": [
    "import torchvision.models as models\n",
    "from utils.train_cfg import load_checkpoint\n",
    "\n",
    "weights_file=\"results/full_training_evonas/augmentations_test/Gutenberg/aug_0/student_best\"\n",
    "teacher = models.resnet18(weights=None)\n",
    "new_conv1 = torch.nn.Conv2d(in_channels=metadata[\"input_shape\"][1], \n",
    "                          out_channels=teacher.conv1.out_channels, \n",
    "                          kernel_size=teacher.conv1.kernel_size, \n",
    "                          stride=teacher.conv1.stride, \n",
    "                          padding=teacher.conv1.padding, \n",
    "                          bias=teacher.conv1.bias)\n",
    "# Replace the first convolutional layer\n",
    "teacher.conv1 = new_conv1\n",
    "teacher.fc = torch.nn.Linear(512, metadata['num_classes'])\n",
    "state = load_checkpoint(weights_file)\n",
    "teacher.load_state_dict(state[\"model\"])\n",
    "teacher.to(device)\n",
    "\n"
   ]
  },
  {
   "cell_type": "markdown",
   "id": "d6b4131f-d0cf-4471-95f4-229fea5123b0",
   "metadata": {},
   "source": [
    "# Train student"
   ]
  },
  {
   "cell_type": "code",
   "execution_count": 8,
   "id": "9ce64ba0-2ca9-4323-8a2d-158f04287d19",
   "metadata": {
    "tags": []
   },
   "outputs": [],
   "source": [
    "metadata[\"train_config_path\"]='../configs/train/regnet_distillation.yaml'"
   ]
  },
  {
   "cell_type": "code",
   "execution_count": 9,
   "id": "82698688-039a-4983-a476-9c2f611be99b",
   "metadata": {
    "tags": []
   },
   "outputs": [],
   "source": [
    "student= 'asparagus_doberman'"
   ]
  },
  {
   "cell_type": "code",
   "execution_count": 10,
   "id": "1503b233-e2f4-4a01-a144-1f7790e8c8b3",
   "metadata": {},
   "outputs": [
    {
     "name": "stderr",
     "output_type": "stream",
     "text": [
      "ic| 'Distiller created'\n",
      "ic| self.cfg.DISTILLER.TYPE: 'KD'\n",
      "Exception ignored in: <bound method IPythonKernel._clean_thread_parent_frames of <ipykernel.ipkernel.IPythonKernel object at 0x7fc6135f7f80>>\n",
      "Traceback (most recent call last):\n",
      "  File \"/apps/jupyterhub/jh3.1.1-py3.11/envs/pytorch-2.2.0/lib/python3.12/site-packages/ipykernel/ipkernel.py\", line 770, in _clean_thread_parent_frames\n",
      "    def _clean_thread_parent_frames(\n",
      "\n",
      "KeyboardInterrupt: \n"
     ]
    },
    {
     "ename": "KeyboardInterrupt",
     "evalue": "",
     "output_type": "error",
     "traceback": [
      "\u001b[0;31m---------------------------------------------------------------------------\u001b[0m",
      "\u001b[0;31mKeyboardInterrupt\u001b[0m                         Traceback (most recent call last)",
      "Cell \u001b[0;32mIn[10], line 6\u001b[0m\n\u001b[1;32m      4\u001b[0m metadata[\u001b[38;5;124m\"\u001b[39m\u001b[38;5;124mexperiment_name\u001b[39m\u001b[38;5;124m\"\u001b[39m]\u001b[38;5;241m=\u001b[39m\u001b[38;5;124mf\u001b[39m\u001b[38;5;124m\"\u001b[39m\u001b[38;5;124mresults/kd/resnet18/\u001b[39m\u001b[38;5;132;01m{\u001b[39;00mstudent\u001b[38;5;132;01m}\u001b[39;00m\u001b[38;5;124m\"\u001b[39m\n\u001b[1;32m      5\u001b[0m trainer\u001b[38;5;241m=\u001b[39mTrainerDistillation(trained_models[student], device, train_loader, valid_loader, metadata, teachers\u001b[38;5;241m=\u001b[39m[teacher]) \n\u001b[0;32m----> 6\u001b[0m \u001b[43mtrainer\u001b[49m\u001b[38;5;241;43m.\u001b[39;49m\u001b[43mtrain\u001b[49m\u001b[43m(\u001b[49m\u001b[43m)\u001b[49m\n\u001b[1;32m      7\u001b[0m torch\u001b[38;5;241m.\u001b[39mcuda\u001b[38;5;241m.\u001b[39mempty_cache()\n\u001b[1;32m      8\u001b[0m gc\u001b[38;5;241m.\u001b[39mcollect()\n",
      "File \u001b[0;32m~/NAS_CHALLENGE/NAS_Challenge_AutoML_2024/anki_lab_submission/tests/../trainer.py:183\u001b[0m, in \u001b[0;36mTrainerDistillation.train\u001b[0;34m(self, return_acc)\u001b[0m\n\u001b[1;32m    181\u001b[0m \u001b[38;5;66;03m#ic(\"start training\")\u001b[39;00m\n\u001b[1;32m    182\u001b[0m \u001b[38;5;28;01mwhile\u001b[39;00m epoch \u001b[38;5;241m<\u001b[39m \u001b[38;5;28mself\u001b[39m\u001b[38;5;241m.\u001b[39mcfg\u001b[38;5;241m.\u001b[39mSOLVER\u001b[38;5;241m.\u001b[39mEPOCHS \u001b[38;5;241m+\u001b[39m \u001b[38;5;241m1\u001b[39m:\n\u001b[0;32m--> 183\u001b[0m     \u001b[38;5;28;43mself\u001b[39;49m\u001b[38;5;241;43m.\u001b[39;49m\u001b[43mtrain_epoch\u001b[49m\u001b[43m(\u001b[49m\u001b[43mepoch\u001b[49m\u001b[43m)\u001b[49m\n\u001b[1;32m    184\u001b[0m     epoch \u001b[38;5;241m+\u001b[39m\u001b[38;5;241m=\u001b[39m \u001b[38;5;241m1\u001b[39m\n\u001b[1;32m    185\u001b[0m \u001b[38;5;28mprint\u001b[39m(log_msg(\u001b[38;5;124m\"\u001b[39m\u001b[38;5;124mBest accuracy:\u001b[39m\u001b[38;5;132;01m{}\u001b[39;00m\u001b[38;5;124m\"\u001b[39m\u001b[38;5;241m.\u001b[39mformat(\u001b[38;5;28mself\u001b[39m\u001b[38;5;241m.\u001b[39mbest_acc), \u001b[38;5;124m\"\u001b[39m\u001b[38;5;124mEVAL\u001b[39m\u001b[38;5;124m\"\u001b[39m))\n",
      "File \u001b[0;32m~/NAS_CHALLENGE/NAS_Challenge_AutoML_2024/anki_lab_submission/tests/../trainer.py:215\u001b[0m, in \u001b[0;36mTrainerDistillation.train_epoch\u001b[0;34m(self, epoch)\u001b[0m\n\u001b[1;32m    213\u001b[0m \u001b[38;5;28mself\u001b[39m\u001b[38;5;241m.\u001b[39mdistiller\u001b[38;5;241m.\u001b[39mtrain()\n\u001b[1;32m    214\u001b[0m \u001b[38;5;28;01mfor\u001b[39;00m idx, data \u001b[38;5;129;01min\u001b[39;00m \u001b[38;5;28menumerate\u001b[39m(\u001b[38;5;28mself\u001b[39m\u001b[38;5;241m.\u001b[39mtrain_loader):\n\u001b[0;32m--> 215\u001b[0m     msg \u001b[38;5;241m=\u001b[39m \u001b[38;5;28;43mself\u001b[39;49m\u001b[38;5;241;43m.\u001b[39;49m\u001b[43mtrain_iter\u001b[49m\u001b[43m(\u001b[49m\u001b[43mdata\u001b[49m\u001b[43m,\u001b[49m\u001b[43m \u001b[49m\u001b[43mepoch\u001b[49m\u001b[43m,\u001b[49m\u001b[43m \u001b[49m\u001b[43mtrain_meters\u001b[49m\u001b[43m)\u001b[49m\n\u001b[1;32m    216\u001b[0m     \u001b[38;5;66;03m#ic(idx)\u001b[39;00m\n\u001b[1;32m    217\u001b[0m \u001b[38;5;66;03m#    pbar.set_description(log_msg(msg, \"TRAIN\"))\u001b[39;00m\n\u001b[1;32m    218\u001b[0m \u001b[38;5;66;03m#    pbar.update()\u001b[39;00m\n\u001b[1;32m    219\u001b[0m     \u001b[38;5;28;01mif\u001b[39;00m epoch\u001b[38;5;241m==\u001b[39m\u001b[38;5;241m1\u001b[39m \u001b[38;5;129;01mand\u001b[39;00m \u001b[38;5;28mself\u001b[39m\u001b[38;5;241m.\u001b[39mcfg\u001b[38;5;241m.\u001b[39mSOLVER\u001b[38;5;241m.\u001b[39mWARMUP:\n",
      "File \u001b[0;32m~/NAS_CHALLENGE/NAS_Challenge_AutoML_2024/anki_lab_submission/tests/../trainer.py:273\u001b[0m, in \u001b[0;36mTrainerDistillation.train_iter\u001b[0;34m(self, data, epoch, train_meters)\u001b[0m\n\u001b[1;32m    271\u001b[0m \u001b[38;5;66;03m# backward\u001b[39;00m\n\u001b[1;32m    272\u001b[0m loss \u001b[38;5;241m=\u001b[39m \u001b[38;5;28msum\u001b[39m([l\u001b[38;5;241m.\u001b[39mmean() \u001b[38;5;28;01mfor\u001b[39;00m l \u001b[38;5;129;01min\u001b[39;00m losses_dict\u001b[38;5;241m.\u001b[39mvalues()])\n\u001b[0;32m--> 273\u001b[0m \u001b[43mloss\u001b[49m\u001b[38;5;241;43m.\u001b[39;49m\u001b[43mbackward\u001b[49m\u001b[43m(\u001b[49m\u001b[43m)\u001b[49m\n\u001b[1;32m    274\u001b[0m \u001b[38;5;28mself\u001b[39m\u001b[38;5;241m.\u001b[39moptimizer\u001b[38;5;241m.\u001b[39mstep()\n\u001b[1;32m    275\u001b[0m train_meters[\u001b[38;5;124m\"\u001b[39m\u001b[38;5;124mtraining_time\u001b[39m\u001b[38;5;124m\"\u001b[39m]\u001b[38;5;241m.\u001b[39mupdate(time\u001b[38;5;241m.\u001b[39mtime() \u001b[38;5;241m-\u001b[39m train_start_time)\n",
      "File \u001b[0;32m/apps/jupyterhub/jh3.1.1-py3.11/envs/pytorch-2.2.0/lib/python3.12/site-packages/torch/_tensor.py:522\u001b[0m, in \u001b[0;36mTensor.backward\u001b[0;34m(self, gradient, retain_graph, create_graph, inputs)\u001b[0m\n\u001b[1;32m    512\u001b[0m \u001b[38;5;28;01mif\u001b[39;00m has_torch_function_unary(\u001b[38;5;28mself\u001b[39m):\n\u001b[1;32m    513\u001b[0m     \u001b[38;5;28;01mreturn\u001b[39;00m handle_torch_function(\n\u001b[1;32m    514\u001b[0m         Tensor\u001b[38;5;241m.\u001b[39mbackward,\n\u001b[1;32m    515\u001b[0m         (\u001b[38;5;28mself\u001b[39m,),\n\u001b[0;32m   (...)\u001b[0m\n\u001b[1;32m    520\u001b[0m         inputs\u001b[38;5;241m=\u001b[39minputs,\n\u001b[1;32m    521\u001b[0m     )\n\u001b[0;32m--> 522\u001b[0m \u001b[43mtorch\u001b[49m\u001b[38;5;241;43m.\u001b[39;49m\u001b[43mautograd\u001b[49m\u001b[38;5;241;43m.\u001b[39;49m\u001b[43mbackward\u001b[49m\u001b[43m(\u001b[49m\n\u001b[1;32m    523\u001b[0m \u001b[43m    \u001b[49m\u001b[38;5;28;43mself\u001b[39;49m\u001b[43m,\u001b[49m\u001b[43m \u001b[49m\u001b[43mgradient\u001b[49m\u001b[43m,\u001b[49m\u001b[43m \u001b[49m\u001b[43mretain_graph\u001b[49m\u001b[43m,\u001b[49m\u001b[43m \u001b[49m\u001b[43mcreate_graph\u001b[49m\u001b[43m,\u001b[49m\u001b[43m \u001b[49m\u001b[43minputs\u001b[49m\u001b[38;5;241;43m=\u001b[39;49m\u001b[43minputs\u001b[49m\n\u001b[1;32m    524\u001b[0m \u001b[43m\u001b[49m\u001b[43m)\u001b[49m\n",
      "File \u001b[0;32m/apps/jupyterhub/jh3.1.1-py3.11/envs/pytorch-2.2.0/lib/python3.12/site-packages/torch/autograd/__init__.py:266\u001b[0m, in \u001b[0;36mbackward\u001b[0;34m(tensors, grad_tensors, retain_graph, create_graph, grad_variables, inputs)\u001b[0m\n\u001b[1;32m    261\u001b[0m     retain_graph \u001b[38;5;241m=\u001b[39m create_graph\n\u001b[1;32m    263\u001b[0m \u001b[38;5;66;03m# The reason we repeat the same comment below is that\u001b[39;00m\n\u001b[1;32m    264\u001b[0m \u001b[38;5;66;03m# some Python versions print out the first line of a multi-line function\u001b[39;00m\n\u001b[1;32m    265\u001b[0m \u001b[38;5;66;03m# calls in the traceback and some print out the last line\u001b[39;00m\n\u001b[0;32m--> 266\u001b[0m \u001b[43mVariable\u001b[49m\u001b[38;5;241;43m.\u001b[39;49m\u001b[43m_execution_engine\u001b[49m\u001b[38;5;241;43m.\u001b[39;49m\u001b[43mrun_backward\u001b[49m\u001b[43m(\u001b[49m\u001b[43m  \u001b[49m\u001b[38;5;66;43;03m# Calls into the C++ engine to run the backward pass\u001b[39;49;00m\n\u001b[1;32m    267\u001b[0m \u001b[43m    \u001b[49m\u001b[43mtensors\u001b[49m\u001b[43m,\u001b[49m\n\u001b[1;32m    268\u001b[0m \u001b[43m    \u001b[49m\u001b[43mgrad_tensors_\u001b[49m\u001b[43m,\u001b[49m\n\u001b[1;32m    269\u001b[0m \u001b[43m    \u001b[49m\u001b[43mretain_graph\u001b[49m\u001b[43m,\u001b[49m\n\u001b[1;32m    270\u001b[0m \u001b[43m    \u001b[49m\u001b[43mcreate_graph\u001b[49m\u001b[43m,\u001b[49m\n\u001b[1;32m    271\u001b[0m \u001b[43m    \u001b[49m\u001b[43minputs\u001b[49m\u001b[43m,\u001b[49m\n\u001b[1;32m    272\u001b[0m \u001b[43m    \u001b[49m\u001b[43mallow_unreachable\u001b[49m\u001b[38;5;241;43m=\u001b[39;49m\u001b[38;5;28;43;01mTrue\u001b[39;49;00m\u001b[43m,\u001b[49m\n\u001b[1;32m    273\u001b[0m \u001b[43m    \u001b[49m\u001b[43maccumulate_grad\u001b[49m\u001b[38;5;241;43m=\u001b[39;49m\u001b[38;5;28;43;01mTrue\u001b[39;49;00m\u001b[43m,\u001b[49m\n\u001b[1;32m    274\u001b[0m \u001b[43m\u001b[49m\u001b[43m)\u001b[49m\n",
      "\u001b[0;31mKeyboardInterrupt\u001b[0m: "
     ]
    }
   ],
   "source": [
    "from IPython.display import clear_output\n",
    "\n",
    "####################################################\n",
    "metadata[\"experiment_name\"]=f\"results/kd/resnet18/{student}\"\n",
    "trainer=TrainerDistillation(trained_models[student], device, train_loader, valid_loader, metadata, teachers=[teacher]) \n",
    "trainer.train()\n",
    "torch.cuda.empty_cache()\n",
    "gc.collect()\n",
    "clear_output(wait=True)"
   ]
  },
  {
   "cell_type": "code",
   "execution_count": null,
   "id": "28327bd5-fed2-4066-a9a8-99c30d8773a9",
   "metadata": {},
   "outputs": [],
   "source": []
  }
 ],
 "metadata": {
  "kernelspec": {
   "display_name": "Python [conda env:pytorch-2.2.0]",
   "language": "python",
   "name": "conda-env-pytorch-2.2.0-py"
  },
  "language_info": {
   "codemirror_mode": {
    "name": "ipython",
    "version": 3
   },
   "file_extension": ".py",
   "mimetype": "text/x-python",
   "name": "python",
   "nbconvert_exporter": "python",
   "pygments_lexer": "ipython3",
   "version": "3.12.1"
  }
 },
 "nbformat": 4,
 "nbformat_minor": 5
}
