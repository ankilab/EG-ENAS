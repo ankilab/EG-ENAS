{
 "cells": [
  {
   "cell_type": "code",
   "execution_count": 2,
   "id": "1a3feaae-35d2-4405-9391-30cd29c287c8",
   "metadata": {
    "tags": []
   },
   "outputs": [],
   "source": [
    "import sys\n",
    "from torchsummary import summary\n",
    "import ast\n",
    "import torch\n",
    "import random\n",
    "import numpy as np\n",
    "import time\n",
    "from IPython.display import clear_output\n",
    "import matplotlib.pyplot as plt\n",
    "sys.path.append(\"../../\")\n",
    "sys.path.append(\"../\")\n",
    "####### Dataset ############\n",
    "from data_processor import DataProcessor\n",
    "######## Search space #########\n",
    "from search_space.RegNet import RegNet\n",
    "from search_space.utils import create_widths_plot, scatter_results, get_generation_dfs\n",
    "######## Training ###############\n",
    "from trainer import Trainer, TrainerDistillation\n",
    "from utils.train_cfg import get_cfg, show_cfg\n",
    "###################################################\n",
    "random_seed = 1\n",
    "random.seed(random_seed)\n",
    "# Set seed for NumPy\n",
    "np.random.seed(random_seed)\n",
    "# Set seed for PyTorch\n",
    "torch.manual_seed(random_seed)\n",
    "torch.cuda.manual_seed_all(random_seed)\n",
    "# Additional steps if using CuDNN (optional, for GPU acceleration)\n",
    "torch.backends.cudnn.deterministic = True\n",
    "torch.backends.cudnn.benchmark = False\n",
    "device = torch.device(\"cuda\" if torch.cuda.is_available() else \"cpu\")\n",
    "import os\n",
    "from datetime import datetime\n",
    "import itertools\n",
    "import pandas as pd\n",
    "import json\n",
    "from io import StringIO\n",
    "from coolname import generate_slug\n",
    "from sklearn.metrics import accuracy_score\n",
    "import torch.multiprocessing as mp"
   ]
  },
  {
   "cell_type": "markdown",
   "id": "2e44ae1f-9fcc-42b6-8a3b-8a502c9ccf15",
   "metadata": {},
   "source": [
    "# Load dataset"
   ]
  },
  {
   "cell_type": "code",
   "execution_count": 3,
   "id": "df08bad4-9d31-4a3c-80ac-af16603bc57b",
   "metadata": {
    "tags": []
   },
   "outputs": [],
   "source": [
    "def load_dataset_metadata(dataset_path):\n",
    "    with open(os.path.join(dataset_path, 'metadata'), \"r\") as f:\n",
    "        metadata = json.load(f)\n",
    "    return metadata\n",
    "# load dataset from file\n",
    "def load_datasets(data_path, truncate):\n",
    "    data_path = '../../datasets/'+data_path\n",
    "    train_x = np.load(os.path.join(data_path,'train_x.npy'))\n",
    "    train_y = np.load(os.path.join(data_path,'train_y.npy'))\n",
    "    valid_x = np.load(os.path.join(data_path,'valid_x.npy'))\n",
    "    valid_y = np.load(os.path.join(data_path,'valid_y.npy'))\n",
    "    test_x = np.load(os.path.join(data_path,'test_x.npy'))\n",
    "    metadata = load_dataset_metadata(data_path)\n",
    "\n",
    "    if truncate:\n",
    "        train_x = train_x[:64]\n",
    "        train_y = train_y[:64]\n",
    "        valid_x = valid_x[:64]\n",
    "        valid_y = valid_y[:64]\n",
    "        test_x = test_x[:64]\n",
    "\n",
    "    return (train_x, train_y), \\\n",
    "           (valid_x, valid_y), \\\n",
    "           (test_x), metadata\n",
    "\n",
    "def validation(model, val_loader):\n",
    "    model.eval()\n",
    "    correct = 0\n",
    "    total = 0\n",
    "\n",
    "    with torch.no_grad():\n",
    "        for images, labels in val_loader:\n",
    "            images, labels = images.to(device), labels.to(device)\n",
    "            outputs = model(images)\n",
    "            _, predicted = torch.max(outputs, 1)\n",
    "            total += labels.size(0)\n",
    "            correct += (predicted == labels).sum().item()\n",
    "\n",
    "    # 4. Calculate Accuracy\n",
    "    accuracy = correct / total\n",
    "    print('Accuracy on the test set: {:.2f}%'.format(accuracy * 100))"
   ]
  },
  {
   "cell_type": "code",
   "execution_count": 4,
   "id": "6d881af8-a907-46d8-83f7-d2978e2b45a3",
   "metadata": {
    "tags": []
   },
   "outputs": [
    {
     "name": "stderr",
     "output_type": "stream",
     "text": [
      "/apps/jupyterhub/jh3.1.1-py3.11/envs/pytorch-2.2.0/lib/python3.12/site-packages/torchvision/transforms/v2/_deprecated.py:41: UserWarning: The transform `ToTensor()` is deprecated and will be removed in a future release. Instead, please use `v2.Compose([v2.ToImage(), v2.ToDtype(torch.float32, scale=True)])`.\n",
      "  warnings.warn(\n"
     ]
    },
    {
     "data": {
      "text/plain": [
       "{'input_shape': [45000, 1, 27, 18],\n",
       " 'codename': 'Gutenberg',\n",
       " 'benchmark': 40.98,\n",
       " 'num_classes': 6,\n",
       " 'select_augment': False,\n",
       " 'train_config_path': 'configs/train/augmentations_adam.yaml'}"
      ]
     },
     "execution_count": 4,
     "metadata": {},
     "output_type": "execute_result"
    }
   ],
   "source": [
    "Dataset=\"Gutenberg\"\n",
    "(train_x, train_y), (valid_x, valid_y), (test_x), metadata = load_datasets(Dataset, truncate=False)\n",
    "test_y = np.load(os.path.join('../../datasets/'+Dataset,'test_y.npy'))\n",
    "metadata[\"select_augment\"]=False\n",
    "data_processor = DataProcessor(train_x[:], train_y[:], valid_x, valid_y, test_x, metadata)\n",
    "train_loader, valid_loader, test_loader = data_processor.process()\n",
    "\n",
    "\n",
    "metadata"
   ]
  },
  {
   "cell_type": "code",
   "execution_count": 5,
   "id": "941cedd0-a728-416f-9fd6-5b80e5b5ba86",
   "metadata": {
    "tags": []
   },
   "outputs": [
    {
     "data": {
      "text/plain": [
       "<matplotlib.image.AxesImage at 0x7ff14023fb00>"
      ]
     },
     "execution_count": 5,
     "metadata": {},
     "output_type": "execute_result"
    },
    {
     "data": {
      "image/png": "[encoded data removed]",
      "text/plain": [
       "<Figure size 640x480 with 1 Axes>"
      ]
     },
     "metadata": {},
     "output_type": "display_data"
    }
   ],
   "source": [
    "img=next(iter(train_loader))[0][0]\n",
    "img=img.numpy().transpose(1, 2, 0)\n",
    "plt.imshow(img)"
   ]
  },
  {
   "cell_type": "markdown",
   "id": "394894d6-8ced-423d-9322-234d052133ef",
   "metadata": {},
   "source": [
    "# Load search space and population"
   ]
  },
  {
   "cell_type": "code",
   "execution_count": 6,
   "id": "26a09d25-921c-4017-a275-455c985eced1",
   "metadata": {
    "tags": []
   },
   "outputs": [],
   "source": [
    "rg=regnet_space=RegNet(metadata,\n",
    "                    W0=[16, 120, 8],\n",
    "                    WA=[16, 64, 8],\n",
    "                    WM=[2.05,2.9,0.05],\n",
    "                    D=[8,22,1], \n",
    "                    G=[8,8,8], \n",
    "                    base_config=f\"../configs/search_space/config.yaml\")"
   ]
  },
  {
   "cell_type": "code",
   "execution_count": 8,
   "id": "17e8d543-1a95-4791-a8fc-12d4e6ecd18a",
   "metadata": {
    "collapsed": true,
    "jupyter": {
     "outputs_hidden": true
    },
    "tags": []
   },
   "outputs": [
    {
     "name": "stdout",
     "output_type": "stream",
     "text": [
      "Loading model: /home/woody/iwb3/iwb3021h/NAS_COMPETITION_RESULTS/classifier_train/Gutenberg/asparagus_doberman/config.yaml\n",
      "Loading model: /home/woody/iwb3/iwb3021h/NAS_COMPETITION_RESULTS/classifier_train/Gutenberg/icy_muskox/config.yaml\n",
      "Loading model: /home/woody/iwb3/iwb3021h/NAS_COMPETITION_RESULTS/classifier_train/Gutenberg/quantum_vole/config.yaml\n",
      "Loading model: /home/woody/iwb3/iwb3021h/NAS_COMPETITION_RESULTS/classifier_train/Gutenberg/blazing_jaguarundi/config.yaml\n",
      "Loading model: /home/woody/iwb3/iwb3021h/NAS_COMPETITION_RESULTS/classifier_train/Gutenberg/miniature_chinchilla/config.yaml\n",
      "Loading model: /home/woody/iwb3/iwb3021h/NAS_COMPETITION_RESULTS/classifier_train/Gutenberg/steel_teal/config.yaml\n",
      "Loading model: /home/woody/iwb3/iwb3021h/NAS_COMPETITION_RESULTS/classifier_train/Gutenberg/artichoke_tarsier/config.yaml\n",
      "Loading model: /home/woody/iwb3/iwb3021h/NAS_COMPETITION_RESULTS/classifier_train/Gutenberg/charcoal_dormouse/config.yaml\n",
      "Loading model: /home/woody/iwb3/iwb3021h/NAS_COMPETITION_RESULTS/classifier_train/Gutenberg/analytic_seriema/config.yaml\n",
      "Loading model: /home/woody/iwb3/iwb3021h/NAS_COMPETITION_RESULTS/classifier_train/Gutenberg/cornflower_toucan/config.yaml\n",
      "Loading model: /home/woody/iwb3/iwb3021h/NAS_COMPETITION_RESULTS/classifier_train/Gutenberg/sensible_dinosaur/config.yaml\n",
      "Loading model: /home/woody/iwb3/iwb3021h/NAS_COMPETITION_RESULTS/classifier_train/Gutenberg/lively_beaver/config.yaml\n",
      "Loading model: /home/woody/iwb3/iwb3021h/NAS_COMPETITION_RESULTS/classifier_train/Gutenberg/enchanted_shellfish/config.yaml\n",
      "Loading model: /home/woody/iwb3/iwb3021h/NAS_COMPETITION_RESULTS/classifier_train/Gutenberg/succinct_spider/config.yaml\n",
      "Loading model: /home/woody/iwb3/iwb3021h/NAS_COMPETITION_RESULTS/classifier_train/Gutenberg/hopeful_elephant/config.yaml\n",
      "Loading model: /home/woody/iwb3/iwb3021h/NAS_COMPETITION_RESULTS/classifier_train/Gutenberg/uncovered_albatross/config.yaml\n",
      "Loading model: /home/woody/iwb3/iwb3021h/NAS_COMPETITION_RESULTS/classifier_train/Gutenberg/discreet_poodle/config.yaml\n",
      "Loading model: /home/woody/iwb3/iwb3021h/NAS_COMPETITION_RESULTS/classifier_train/Gutenberg/huge_kagu/config.yaml\n",
      "Loading model: /home/woody/iwb3/iwb3021h/NAS_COMPETITION_RESULTS/classifier_train/Gutenberg/gorgeous_turaco/config.yaml\n",
      "Loading model: /home/woody/iwb3/iwb3021h/NAS_COMPETITION_RESULTS/classifier_train/Gutenberg/quiet_cuckoo/config.yaml\n",
      "Loading model: /home/woody/iwb3/iwb3021h/NAS_COMPETITION_RESULTS/classifier_train/Gutenberg/annoying_numbat/config.yaml\n",
      "Loading model: /home/woody/iwb3/iwb3021h/NAS_COMPETITION_RESULTS/classifier_train/Gutenberg/ambitious_silkworm/config.yaml\n",
      "Loading model: /home/woody/iwb3/iwb3021h/NAS_COMPETITION_RESULTS/classifier_train/Gutenberg/dashing_raven/config.yaml\n",
      "Loading model: /home/woody/iwb3/iwb3021h/NAS_COMPETITION_RESULTS/classifier_train/Gutenberg/chirpy_rook/config.yaml\n",
      "Loading model: /home/woody/iwb3/iwb3021h/NAS_COMPETITION_RESULTS/classifier_train/Gutenberg/mega_vicugna/config.yaml\n",
      "Loading model: /home/woody/iwb3/iwb3021h/NAS_COMPETITION_RESULTS/classifier_train/Gutenberg/uptight_hornet/config.yaml\n",
      "Loading model: /home/woody/iwb3/iwb3021h/NAS_COMPETITION_RESULTS/classifier_train/Gutenberg/hilarious_rabbit/config.yaml\n",
      "Loading model: /home/woody/iwb3/iwb3021h/NAS_COMPETITION_RESULTS/classifier_train/Gutenberg/modest_fennec/config.yaml\n",
      "Loading model: /home/woody/iwb3/iwb3021h/NAS_COMPETITION_RESULTS/classifier_train/Gutenberg/poetic_albatross/config.yaml\n",
      "Loading model: /home/woody/iwb3/iwb3021h/NAS_COMPETITION_RESULTS/classifier_train/Gutenberg/capable_python/config.yaml\n",
      "Loading model: /home/woody/iwb3/iwb3021h/NAS_COMPETITION_RESULTS/classifier_train/Gutenberg/messy_nautilus/config.yaml\n",
      "Loading model: /home/woody/iwb3/iwb3021h/NAS_COMPETITION_RESULTS/classifier_train/Gutenberg/attentive_rottweiler/config.yaml\n",
      "Loading model: /home/woody/iwb3/iwb3021h/NAS_COMPETITION_RESULTS/classifier_train/Gutenberg/statuesque_oarfish/config.yaml\n",
      "Loading model: /home/woody/iwb3/iwb3021h/NAS_COMPETITION_RESULTS/classifier_train/Gutenberg/manipulative_puma/config.yaml\n",
      "Loading model: /home/woody/iwb3/iwb3021h/NAS_COMPETITION_RESULTS/classifier_train/Gutenberg/stirring_rat/config.yaml\n",
      "Loading model: /home/woody/iwb3/iwb3021h/NAS_COMPETITION_RESULTS/classifier_train/Gutenberg/snobbish_fox/config.yaml\n",
      "Loading model: /home/woody/iwb3/iwb3021h/NAS_COMPETITION_RESULTS/classifier_train/Gutenberg/alluring_bulldog/config.yaml\n",
      "Loading model: /home/woody/iwb3/iwb3021h/NAS_COMPETITION_RESULTS/classifier_train/Gutenberg/orthodox_wrasse/config.yaml\n",
      "Loading model: /home/woody/iwb3/iwb3021h/NAS_COMPETITION_RESULTS/classifier_train/Gutenberg/hypnotic_cobra/config.yaml\n",
      "Loading model: /home/woody/iwb3/iwb3021h/NAS_COMPETITION_RESULTS/classifier_train/Gutenberg/mighty_sunfish/config.yaml\n",
      "Loading model: /home/woody/iwb3/iwb3021h/NAS_COMPETITION_RESULTS/classifier_train/Gutenberg/teal_ibis/config.yaml\n",
      "Loading model: /home/woody/iwb3/iwb3021h/NAS_COMPETITION_RESULTS/classifier_train/Gutenberg/radical_macaque/config.yaml\n",
      "Loading model: /home/woody/iwb3/iwb3021h/NAS_COMPETITION_RESULTS/classifier_train/Gutenberg/statuesque_pug/config.yaml\n",
      "Loading model: /home/woody/iwb3/iwb3021h/NAS_COMPETITION_RESULTS/classifier_train/Gutenberg/merciful_swine/config.yaml\n",
      "Loading model: /home/woody/iwb3/iwb3021h/NAS_COMPETITION_RESULTS/classifier_train/Gutenberg/sloppy_beaver/config.yaml\n",
      "Loading model: /home/woody/iwb3/iwb3021h/NAS_COMPETITION_RESULTS/classifier_train/Gutenberg/fantastic_crocodile/config.yaml\n",
      "Loading model: /home/woody/iwb3/iwb3021h/NAS_COMPETITION_RESULTS/classifier_train/Gutenberg/classy_vole/config.yaml\n",
      "Loading model: /home/woody/iwb3/iwb3021h/NAS_COMPETITION_RESULTS/classifier_train/Gutenberg/muscular_bumblebee/config.yaml\n",
      "Loading model: /home/woody/iwb3/iwb3021h/NAS_COMPETITION_RESULTS/classifier_train/Gutenberg/groovy_narwhal/config.yaml\n",
      "Loading model: /home/woody/iwb3/iwb3021h/NAS_COMPETITION_RESULTS/classifier_train/Gutenberg/paper_frigatebird/config.yaml\n",
      "Loading model: /home/woody/iwb3/iwb3021h/NAS_COMPETITION_RESULTS/classifier_train/Gutenberg/red_manatee/config.yaml\n",
      "Loading model: /home/woody/iwb3/iwb3021h/NAS_COMPETITION_RESULTS/classifier_train/Gutenberg/solid_curassow/config.yaml\n",
      "Loading model: /home/woody/iwb3/iwb3021h/NAS_COMPETITION_RESULTS/classifier_train/Gutenberg/knowing_trout/config.yaml\n",
      "Loading model: /home/woody/iwb3/iwb3021h/NAS_COMPETITION_RESULTS/classifier_train/Gutenberg/curly_guillemot/config.yaml\n",
      "Loading model: /home/woody/iwb3/iwb3021h/NAS_COMPETITION_RESULTS/classifier_train/Gutenberg/jovial_grouse/config.yaml\n",
      "Loading model: /home/woody/iwb3/iwb3021h/NAS_COMPETITION_RESULTS/classifier_train/Gutenberg/flat_barnacle/config.yaml\n",
      "Loading model: /home/woody/iwb3/iwb3021h/NAS_COMPETITION_RESULTS/classifier_train/Gutenberg/dazzling_tapir/config.yaml\n",
      "Loading model: /home/woody/iwb3/iwb3021h/NAS_COMPETITION_RESULTS/classifier_train/Gutenberg/nimble_bull/config.yaml\n",
      "Loading model: /home/woody/iwb3/iwb3021h/NAS_COMPETITION_RESULTS/classifier_train/Gutenberg/petite_limpet/config.yaml\n",
      "Loading model: /home/woody/iwb3/iwb3021h/NAS_COMPETITION_RESULTS/classifier_train/Gutenberg/fragrant_mouflon/config.yaml\n",
      "Loading model: /home/woody/iwb3/iwb3021h/NAS_COMPETITION_RESULTS/classifier_train/Gutenberg/didactic_kittiwake/config.yaml\n",
      "Loading model: /home/woody/iwb3/iwb3021h/NAS_COMPETITION_RESULTS/classifier_train/Gutenberg/almond_anaconda/config.yaml\n",
      "Loading model: /home/woody/iwb3/iwb3021h/NAS_COMPETITION_RESULTS/classifier_train/Gutenberg/tunneling_chinchilla/config.yaml\n",
      "Loading model: /home/woody/iwb3/iwb3021h/NAS_COMPETITION_RESULTS/classifier_train/Gutenberg/humongous_cobra/config.yaml\n",
      "Loading model: /home/woody/iwb3/iwb3021h/NAS_COMPETITION_RESULTS/classifier_train/Gutenberg/remarkable_caribou/config.yaml\n",
      "Loading model: /home/woody/iwb3/iwb3021h/NAS_COMPETITION_RESULTS/classifier_train/Gutenberg/bold_grebe/config.yaml\n",
      "Loading model: /home/woody/iwb3/iwb3021h/NAS_COMPETITION_RESULTS/classifier_train/Gutenberg/rebel_bandicoot/config.yaml\n",
      "Loading model: /home/woody/iwb3/iwb3021h/NAS_COMPETITION_RESULTS/classifier_train/Gutenberg/mysterious_mushroom/config.yaml\n",
      "Loading model: /home/woody/iwb3/iwb3021h/NAS_COMPETITION_RESULTS/classifier_train/Gutenberg/wisteria_snail/config.yaml\n",
      "Loading model: /home/woody/iwb3/iwb3021h/NAS_COMPETITION_RESULTS/classifier_train/Gutenberg/heavenly_dormouse/config.yaml\n",
      "Loading model: /home/woody/iwb3/iwb3021h/NAS_COMPETITION_RESULTS/classifier_train/Gutenberg/lurking_chinchilla/config.yaml\n",
      "Loading model: /home/woody/iwb3/iwb3021h/NAS_COMPETITION_RESULTS/classifier_train/Gutenberg/unnatural_stork/config.yaml\n",
      "Loading model: /home/woody/iwb3/iwb3021h/NAS_COMPETITION_RESULTS/classifier_train/Gutenberg/astute_deer/config.yaml\n",
      "Loading model: /home/woody/iwb3/iwb3021h/NAS_COMPETITION_RESULTS/classifier_train/Gutenberg/passionate_condor/config.yaml\n",
      "Loading model: /home/woody/iwb3/iwb3021h/NAS_COMPETITION_RESULTS/classifier_train/Gutenberg/stirring_tuna/config.yaml\n",
      "Loading model: /home/woody/iwb3/iwb3021h/NAS_COMPETITION_RESULTS/classifier_train/Gutenberg/refreshing_junglefowl/config.yaml\n",
      "Loading model: /home/woody/iwb3/iwb3021h/NAS_COMPETITION_RESULTS/classifier_train/Gutenberg/intelligent_nautilus/config.yaml\n",
      "Loading model: /home/woody/iwb3/iwb3021h/NAS_COMPETITION_RESULTS/classifier_train/Gutenberg/brawny_echidna/config.yaml\n",
      "Loading model: /home/woody/iwb3/iwb3021h/NAS_COMPETITION_RESULTS/classifier_train/Gutenberg/rugged_mouflon/config.yaml\n",
      "Loading model: /home/woody/iwb3/iwb3021h/NAS_COMPETITION_RESULTS/classifier_train/Gutenberg/conscious_goose/config.yaml\n",
      "Loading model: /home/woody/iwb3/iwb3021h/NAS_COMPETITION_RESULTS/classifier_train/Gutenberg/caped_stallion/config.yaml\n",
      "Loading model: /home/woody/iwb3/iwb3021h/NAS_COMPETITION_RESULTS/classifier_train/Gutenberg/tremendous_kittiwake/config.yaml\n",
      "Loading model: /home/woody/iwb3/iwb3021h/NAS_COMPETITION_RESULTS/classifier_train/Gutenberg/bulky_wombat/config.yaml\n",
      "Loading model: /home/woody/iwb3/iwb3021h/NAS_COMPETITION_RESULTS/classifier_train/Gutenberg/enchanted_narwhal/config.yaml\n",
      "Loading model: /home/woody/iwb3/iwb3021h/NAS_COMPETITION_RESULTS/classifier_train/Gutenberg/pristine_oyster/config.yaml\n",
      "Loading model: /home/woody/iwb3/iwb3021h/NAS_COMPETITION_RESULTS/classifier_train/Gutenberg/charming_sambar/config.yaml\n",
      "Loading model: /home/woody/iwb3/iwb3021h/NAS_COMPETITION_RESULTS/classifier_train/Gutenberg/naughty_fossa/config.yaml\n",
      "Loading model: /home/woody/iwb3/iwb3021h/NAS_COMPETITION_RESULTS/classifier_train/Gutenberg/ultra_centipede/config.yaml\n",
      "Loading model: /home/woody/iwb3/iwb3021h/NAS_COMPETITION_RESULTS/classifier_train/Gutenberg/delicate_heron/config.yaml\n",
      "Loading model: /home/woody/iwb3/iwb3021h/NAS_COMPETITION_RESULTS/classifier_train/Gutenberg/magic_alligator/config.yaml\n",
      "Loading model: /home/woody/iwb3/iwb3021h/NAS_COMPETITION_RESULTS/classifier_train/Gutenberg/bright_nuthatch/config.yaml\n",
      "Loading model: /home/woody/iwb3/iwb3021h/NAS_COMPETITION_RESULTS/classifier_train/Gutenberg/holistic_bird/config.yaml\n",
      "Loading model: /home/woody/iwb3/iwb3021h/NAS_COMPETITION_RESULTS/classifier_train/Gutenberg/active_sawfish/config.yaml\n",
      "Loading model: /home/woody/iwb3/iwb3021h/NAS_COMPETITION_RESULTS/classifier_train/Gutenberg/refreshing_toucan/config.yaml\n",
      "Loading model: /home/woody/iwb3/iwb3021h/NAS_COMPETITION_RESULTS/classifier_train/Gutenberg/victorious_slug/config.yaml\n",
      "Loading model: /home/woody/iwb3/iwb3021h/NAS_COMPETITION_RESULTS/classifier_train/Gutenberg/vigilant_pronghorn/config.yaml\n",
      "Loading model: /home/woody/iwb3/iwb3021h/NAS_COMPETITION_RESULTS/classifier_train/Gutenberg/greedy_avocet/config.yaml\n",
      "Loading model: /home/woody/iwb3/iwb3021h/NAS_COMPETITION_RESULTS/classifier_train/Gutenberg/fast_sawfish/config.yaml\n",
      "Loading model: /home/woody/iwb3/iwb3021h/NAS_COMPETITION_RESULTS/classifier_train/Gutenberg/nickel_chipmunk/config.yaml\n",
      "Loading model: /home/woody/iwb3/iwb3021h/NAS_COMPETITION_RESULTS/classifier_train/Gutenberg/horned_caiman/config.yaml\n",
      "Loading model: /home/woody/iwb3/iwb3021h/NAS_COMPETITION_RESULTS/classifier_train/Gutenberg/denim_wrasse/config.yaml\n",
      "Loading model: /home/woody/iwb3/iwb3021h/NAS_COMPETITION_RESULTS/classifier_train/Gutenberg/fabulous_caribou/config.yaml\n",
      "Loading model: /home/woody/iwb3/iwb3021h/NAS_COMPETITION_RESULTS/classifier_train/Gutenberg/portable_pigeon/config.yaml\n",
      "Loading model: /home/woody/iwb3/iwb3021h/NAS_COMPETITION_RESULTS/classifier_train/Gutenberg/divergent_goose/config.yaml\n",
      "Loading model: /home/woody/iwb3/iwb3021h/NAS_COMPETITION_RESULTS/classifier_train/Gutenberg/victorious_jackrabbit/config.yaml\n",
      "Loading model: /home/woody/iwb3/iwb3021h/NAS_COMPETITION_RESULTS/classifier_train/Gutenberg/scrupulous_chimpanzee/config.yaml\n",
      "Loading model: /home/woody/iwb3/iwb3021h/NAS_COMPETITION_RESULTS/classifier_train/Gutenberg/deft_manul/config.yaml\n",
      "Loading model: /home/woody/iwb3/iwb3021h/NAS_COMPETITION_RESULTS/classifier_train/Gutenberg/powerful_macaque/config.yaml\n",
      "Loading model: /home/woody/iwb3/iwb3021h/NAS_COMPETITION_RESULTS/classifier_train/Gutenberg/quaint_loon/config.yaml\n",
      "Loading model: /home/woody/iwb3/iwb3021h/NAS_COMPETITION_RESULTS/classifier_train/Gutenberg/massive_raccoon/config.yaml\n",
      "Loading model: /home/woody/iwb3/iwb3021h/NAS_COMPETITION_RESULTS/classifier_train/Gutenberg/huge_urchin/config.yaml\n",
      "Loading model: /home/woody/iwb3/iwb3021h/NAS_COMPETITION_RESULTS/classifier_train/Gutenberg/nice_fennec/config.yaml\n",
      "Loading model: /home/woody/iwb3/iwb3021h/NAS_COMPETITION_RESULTS/classifier_train/Gutenberg/rebel_cuttlefish/config.yaml\n",
      "Loading model: /home/woody/iwb3/iwb3021h/NAS_COMPETITION_RESULTS/classifier_train/Gutenberg/victorious_narwhal/config.yaml\n",
      "Loading model: /home/woody/iwb3/iwb3021h/NAS_COMPETITION_RESULTS/classifier_train/Gutenberg/fervent_booby/config.yaml\n",
      "Loading model: /home/woody/iwb3/iwb3021h/NAS_COMPETITION_RESULTS/classifier_train/Gutenberg/blazing_mustang/config.yaml\n",
      "Loading model: /home/woody/iwb3/iwb3021h/NAS_COMPETITION_RESULTS/classifier_train/Gutenberg/rapid_prawn/config.yaml\n",
      "Loading model: /home/woody/iwb3/iwb3021h/NAS_COMPETITION_RESULTS/classifier_train/Gutenberg/scrupulous_starfish/config.yaml\n",
      "Loading model: /home/woody/iwb3/iwb3021h/NAS_COMPETITION_RESULTS/classifier_train/Gutenberg/xanthic_pogona/config.yaml\n",
      "Loading model: /home/woody/iwb3/iwb3021h/NAS_COMPETITION_RESULTS/classifier_train/Gutenberg/hot_prawn/config.yaml\n"
     ]
    },
    {
     "ename": "ValueError",
     "evalue": "not enough values to unpack (expected 3, got 2)",
     "output_type": "error",
     "traceback": [
      "\u001b[0;31m---------------------------------------------------------------------------\u001b[0m",
      "\u001b[0;31mValueError\u001b[0m                                Traceback (most recent call last)",
      "Cell \u001b[0;32mIn[8], line 2\u001b[0m\n\u001b[1;32m      1\u001b[0m folder\u001b[38;5;241m=\u001b[39m\u001b[38;5;124mf\u001b[39m\u001b[38;5;124m\"\u001b[39m\u001b[38;5;124m/home/woody/iwb3/iwb3021h/NAS_COMPETITION_RESULTS/classifier_train/\u001b[39m\u001b[38;5;132;01m{\u001b[39;00mDataset\u001b[38;5;132;01m}\u001b[39;00m\u001b[38;5;124m\"\u001b[39m\n\u001b[0;32m----> 2\u001b[0m models, chromosomes, configs\u001b[38;5;241m=\u001b[39mrg\u001b[38;5;241m.\u001b[39mload_generation(folder)\n",
      "\u001b[0;31mValueError\u001b[0m: not enough values to unpack (expected 3, got 2)"
     ]
    }
   ],
   "source": [
    "folder=f\"/home/woody/iwb3/iwb3021h/NAS_COMPETITION_RESULTS/classifier_train/{Dataset}\"\n",
    "models, chromosomes, configs=rg.load_generation(folder)"
   ]
  },
  {
   "cell_type": "code",
   "execution_count": null,
   "id": "1b03ee60-d9ea-44ce-9910-229d9065e41b",
   "metadata": {},
   "outputs": [],
   "source": [
    "#model_best, info_best, _= regnet.load_model(\"output/test_regnet_cifar100/RegNetY800MF\", weights_file=\"output/test_regnet_cifar100/RegNetY800MF/student_best\")\n",
    "#summary(model_best, (3,32,32))"
   ]
  },
  {
   "cell_type": "code",
   "execution_count": null,
   "id": "27d22921-1b75-4d14-93dd-46fe173a3e1b",
   "metadata": {},
   "outputs": [],
   "source": [
    "#rg.create_widths_plot(chromosomes)"
   ]
  },
  {
   "cell_type": "markdown",
   "id": "d20190f9-6c5e-419b-bc10-e09b9591be9e",
   "metadata": {},
   "source": [
    "# Train teacher (regnet)"
   ]
  },
  {
   "cell_type": "code",
   "execution_count": 9,
   "id": "458804df-d09e-4692-9466-7f3544c64cbc",
   "metadata": {
    "tags": []
   },
   "outputs": [],
   "source": [
    "#"
   ]
  },
  {
   "cell_type": "markdown",
   "id": "d6b4131f-d0cf-4471-95f4-229fea5123b0",
   "metadata": {},
   "source": [
    "# Train student"
   ]
  },
  {
   "cell_type": "code",
   "execution_count": 10,
   "id": "0758ede6-cfdf-44c3-8c30-3f8fb3c41d4e",
   "metadata": {
    "tags": []
   },
   "outputs": [],
   "source": [
    "from distillation.config import get_cfg"
   ]
  },
  {
   "cell_type": "code",
   "execution_count": null,
   "id": "1503b233-e2f4-4a01-a144-1f7790e8c8b3",
   "metadata": {},
   "outputs": [],
   "source": [
    "# Set seed for Python random module\n",
    "import random\n",
    "import numpy as np\n",
    "import time\n",
    "from IPython.display import clear_output\n",
    "\n",
    "def train_model(student,model_student, teachers=None, configs=None):\n",
    "    #try:\n",
    "        clear_output(wait=True)\n",
    "        cfg_dist=get_cfg()\n",
    "\n",
    "        student_from_nas=True\n",
    "        teacher_from_nas=True\n",
    "\n",
    "        cfg_path=\"../configs/distillation/cifar100/parent_to_offspring_parentsKD.yaml\"\n",
    "        \n",
    "        #cfg_path=\"../configs/distillation/cifar100/vainilla_generation.yaml\"\n",
    "        #cfg_path=\"../configs/cifar100/resnet32x4_ind1.yaml\"\n",
    "        cfg_dist.merge_from_file(cfg_path)\n",
    "        #####################################\n",
    "        cfg_dist.EXPERIMENT.LOGIT_STAND = True\n",
    "        kd_weight = [9]\n",
    "        base_temp = 3\n",
    "        cfg_dist.SOLVER.CUDA = True\n",
    "        cfg_dist.LOG.WANDB = False\n",
    "        \n",
    "        #if cfg_dist.DISTILLER.TYPE!=\"NONE\":\n",
    "            \n",
    "\n",
    "        if cfg_dist.EXPERIMENT.LOGIT_STAND:\n",
    "                if cfg_dist.DISTILLER.TYPE == 'KD':\n",
    "                    cfg_dist.KD.LOSS.KD_WEIGHT = kd_weight[0]\n",
    "                    cfg_dist.KD.TEMPERATURE = base_temp\n",
    "                elif cfg_dist.DISTILLER.TYPE == 'ParentsKD':\n",
    "                    cfg_dist.KD.LOSS.KD_WEIGHT = kd_weight\n",
    "                    cfg_dist.KD.TEMPERATURE = base_temp\n",
    "                    cfg_dist.KD.LOSS.KD_EPOCHS= 2\n",
    "                    cfg_dist.KD.LOSS.KD_REDUCTION=True\n",
    "                elif cfg_dist.DISTILLER.TYPE == 'DKD':\n",
    "                    cfg_dist.DKD.ALPHA = cfg_dist.DKD.ALPHA * kd_weight[0]\n",
    "                    cfg_dist.DKD.BETA = cfg_dist.DKD.ALPHA * kd_weight[0]\n",
    "                    cfg_dist.KD.TEMPERATURE = base_temp\n",
    "                    cfg_dist.DKD.WARMUP=1\n",
    "                elif cfg_dist.DISTILLER.TYPE == 'MLKD':\n",
    "                    cfg_dist.KD.LOSS.KD_WEIGHT = kd_weight[0]\n",
    "                    cfg_dist.KD.TEMPERATURE = base_temp\n",
    "            \n",
    "        cfg_dist.freeze()\n",
    "        show_cfg(cfg_dist)\n",
    "        time.sleep(2)\n",
    "        ##############################################\n",
    "\n",
    "        if teacher_from_nas:\n",
    "            if cfg_dist.DISTILLER.TYPE==\"ParentsKD\":\n",
    "                for teacher_name in teachers.keys():\n",
    "                    print(\"Teacher name/parent: \", teacher_name)\n",
    "                print(\"Student :\",student)\n",
    "                time.sleep(2)\n",
    "                experiment_name = f\"parent_{student}_{\"_\".join(list(teachers.keys()))}_{cfg_dist.DISTILLER.TYPE}_{\"_\".join(map(str,kd_weight))}_{base_temp}_lr05\"\n",
    "            else:    \n",
    "                experiment_name = f\"parent_{student}_{\"_\".join(list(teachers.keys()))}_{cfg_dist.DISTILLER.TYPE}_{\"_\".join(map(str,kd_weight))}_{base_temp}_lr05\"\n",
    "                teacher_name=list(teachers.keys())[0]\n",
    "                print(\"Teacher name/parent: \", teacher_name)\n",
    "                print(\"Student :\",student)\n",
    "                time.sleep(2)\n",
    "        else:\n",
    "            if cfg_dist.DISTILLER.TYPE==\"NONE\":\n",
    "                experiment_name = f\"{student}\"\n",
    "            else:\n",
    "                experiment_name = f\"parent_{student}_{\"_\".join(list(teachers.keys()))}_{\"_\".join(map(str,kd_weight))}\"\n",
    "\n",
    "\n",
    "\n",
    "        tags = cfg_dist.EXPERIMENT.TAG.split(\",\")\n",
    "        experiment_name = os.path.join(cfg_dist.EXPERIMENT.PROJECT, experiment_name)\n",
    "        print(experiment_name)\n",
    "        #############################################\n",
    "        if cfg_dist.DISTILLER.TYPE == 'MLKD':\n",
    "            train_loader, val_loader, num_data, num_classes = get_dataset_strong(cfg_dist)\n",
    "        else:\n",
    "            train_loader, val_loader, num_data, num_classes = get_dataset(cfg_dist)\n",
    "\n",
    "        print(cfg_dist.DISTILLER.TYPE)\n",
    "        ############################################\n",
    "        if cfg_dist.DISTILLER.TYPE == \"NONE\":\n",
    "            distiller = distiller_dict[cfg_dist.DISTILLER.TYPE](model_student)\n",
    "        else:\n",
    "            if not teacher_from_nas:\n",
    "                if cfg_dist.DISTILLER.TYPE !=\"ParentsKD\":\n",
    "                    print(log_msg(\"Loading teacher model\", \"INFO\"))\n",
    "                    net, pretrain_model_path = cifar_model_dict[cfg_dist.DISTILLER.TEACHER]\n",
    "                    assert (\n",
    "                        pretrain_model_path is not None\n",
    "                    ), \"no pretrain model for teacher {}\".format(cfg_dist.DISTILLER.TEACHER)\n",
    "                    model_teacher = net(num_classes=num_classes)\n",
    "                    model_teacher.load_state_dict(load_checkpoint(pretrain_model_path)[\"model\"])\n",
    "                    model_teacher.to(device)\n",
    "                else:\n",
    "                    model_teacher=[]\n",
    "                    for teacher_name in teachers.keys():\n",
    "                        print(teacher_name)\n",
    "                        print(log_msg(\"Loading teacher model\", \"INFO\"))\n",
    "                        time.sleep(2)\n",
    "                        net, pretrain_model_path = cifar_model_dict[teacher_name]\n",
    "                        assert (\n",
    "                            pretrain_model_path is not None\n",
    "                        ), \"no pretrain model for teacher {}\".format(teacher_name)\n",
    "                        model = net(num_classes=num_classes)\n",
    "                        model.load_state_dict(load_checkpoint(pretrain_model_path)[\"model\"])\n",
    "                        model.to(device)\n",
    "                        model_teacher.append(model)\n",
    "\n",
    "            else:\n",
    "                input_tensor=next(iter(train_loader))[0]\n",
    "                model_teacher=[]\n",
    "                for teacher_name, teacher_model in teachers.items():\n",
    "                    print(teacher_name)\n",
    "                    time.sleep(2)                     \n",
    "                    model_teacher.append(teacher_model)\n",
    "                if cfg_dist.DISTILLER.TYPE != \"ParentsKD\":\n",
    "                    model_teacher=model_teacher[0]\n",
    "\n",
    "\n",
    "            if cfg_dist.DISTILLER.TYPE == \"CRD\":\n",
    "                distiller = distiller_dict[cfg_dist.DISTILLER.TYPE](\n",
    "                    model_student, model_teacher, cfg_dist, num_data\n",
    "                )\n",
    "            else:\n",
    "                distiller = distiller_dict[cfg_dist.DISTILLER.TYPE](\n",
    "                    model_student, model_teacher, cfg_dist\n",
    "                )\n",
    "        #########################################################\n",
    "        if cfg_dist.SOLVER.CUDA:\n",
    "            distiller = torch.nn.DataParallel(distiller.cuda())\n",
    "        else:\n",
    "            distiller = torch.nn.DataParallel(distiller)\n",
    "        ####################################################\n",
    "        trainer = trainer_dict[cfg_dist.SOLVER.TRAINER](\n",
    "            experiment_name, distiller, train_loader, val_loader, cfg_dist\n",
    "        )\n",
    "\n",
    "        clear_output(wait=True)\n",
    "        trainer.train(resume=False)\n",
    "        \n",
    "        ##################################################\n",
    "        if configs is not None:\n",
    "            output_file_path = f\"output/{experiment_name}/config_model.yaml\"\n",
    "            with open(output_file_path, \"w\") as f:\n",
    "              f.write(configs[student].dump()) \n",
    "\n",
    "        output_file_path = f\"output/{experiment_name}/config_dist.yaml\"\n",
    "        with open(output_file_path, \"w\") as f:\n",
    "          f.write(cfg_dist.dump()) \n",
    "        ################## Save configs ################\n",
    "        print(f\"Error with model {student}\")\n"
   ]
  }
 ],
 "metadata": {
  "kernelspec": {
   "display_name": "Python [conda env:pytorch-2.2.0]",
   "language": "python",
   "name": "conda-env-pytorch-2.2.0-py"
  },
  "language_info": {
   "codemirror_mode": {
    "name": "ipython",
    "version": 3
   },
   "file_extension": ".py",
   "mimetype": "text/x-python",
   "name": "python",
   "nbconvert_exporter": "python",
   "pygments_lexer": "ipython3",
   "version": "3.12.1"
  }
 },
 "nbformat": 4,
 "nbformat_minor": 5
}
