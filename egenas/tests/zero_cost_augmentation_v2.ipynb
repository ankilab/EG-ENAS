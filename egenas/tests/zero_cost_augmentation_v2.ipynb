{
 "cells": [
  {
   "cell_type": "code",
   "execution_count": 1,
   "id": "160b7747-f007-488f-a4e1-29fec95c5305",
   "metadata": {
    "tags": []
   },
   "outputs": [
    {
     "name": "stderr",
     "output_type": "stream",
     "text": [
      "/home/hpc/iwb3/iwb3021h/.local/lib/python3.12/site-packages/tqdm/auto.py:21: TqdmWarning: IProgress not found. Please update jupyter and ipywidgets. See https://ipywidgets.readthedocs.io/en/stable/user_install.html\n",
      "  from .autonotebook import tqdm as notebook_tqdm\n"
     ]
    }
   ],
   "source": [
    "import sys\n",
    "from torchsummary import summary\n",
    "import functools\n",
    "import ast\n",
    "import torch\n",
    "import random\n",
    "import numpy as np\n",
    "import icecream as ic\n",
    "import time\n",
    "from IPython.display import clear_output\n",
    "import matplotlib.pyplot as plt\n",
    "sys.path.append(\"../../\")\n",
    "sys.path.append(\"../\")\n",
    "####### Dataset ############\n",
    "from data_processor import DataProcessor\n",
    "######## Search space #########\n",
    "from search_space.RegNet import RegNet\n",
    "from search_space.utils import create_widths_plot, scatter_results, get_generation_dfs\n",
    "######## Training ###############\n",
    "from trainer import Trainer, TrainerDistillation\n",
    "from utils.train_cfg import get_cfg, show_cfg\n",
    "###################################################\n",
    "random_seed = 1\n",
    "random.seed(random_seed)\n",
    "# Set seed for NumPy\n",
    "np.random.seed(random_seed)\n",
    "# Set seed for PyTorch\n",
    "torch.manual_seed(random_seed)\n",
    "torch.cuda.manual_seed_all(random_seed)\n",
    "# Additional steps if using CuDNN (optional, for GPU acceleration)\n",
    "torch.backends.cudnn.deterministic = True\n",
    "torch.backends.cudnn.benchmark = False\n",
    "device = torch.device(\"cuda\" if torch.cuda.is_available() else \"cpu\")\n",
    "import os\n",
    "from datetime import datetime\n",
    "import itertools\n",
    "import pandas as pd\n",
    "import json\n",
    "from io import StringIO\n",
    "from coolname import generate_slug\n",
    "from sklearn.metrics import accuracy_score\n",
    "import torch.multiprocessing as mp\n",
    "\n",
    "\n",
    "import torch.nn as nn\n",
    "import types\n",
    "import copy\n",
    "import torch.nn.functional as F\n",
    "from zcost_proxies.predictive import find_measures"
   ]
  },
  {
   "cell_type": "code",
   "execution_count": 7,
   "id": "2a0c6dff-8ea3-4193-8707-e3c89639e98c",
   "metadata": {
    "tags": []
   },
   "outputs": [],
   "source": [
    "def load_dataset_metadata(dataset_path):\n",
    "    with open(os.path.join(dataset_path, 'metadata'), \"r\") as f:\n",
    "        metadata = json.load(f)\n",
    "        \n",
    "    return metadata\n",
    "# load dataset from file\n",
    "def load_datasets(data_path, truncate):\n",
    "    data_path = '../../datasets_val/'+data_path\n",
    "    train_x = np.load(os.path.join(data_path,'train_x.npy'))\n",
    "    train_y = np.load(os.path.join(data_path,'train_y.npy'))\n",
    "    valid_x = np.load(os.path.join(data_path,'valid_x.npy'))\n",
    "    valid_y = np.load(os.path.join(data_path,'valid_y.npy'))\n",
    "    test_x = np.load(os.path.join(data_path,'test_x.npy'))\n",
    "    metadata = load_dataset_metadata(data_path)\n",
    "\n",
    "    if truncate:\n",
    "        train_x = train_x[:64]\n",
    "        train_y = train_y[:64]\n",
    "        valid_x = valid_x[:64]\n",
    "        valid_y = valid_y[:64]\n",
    "        test_x = test_x[:64]\n",
    "\n",
    "    return (train_x, train_y), \\\n",
    "           (valid_x, valid_y), \\\n",
    "           (test_x), metadata\n",
    "\n",
    "def validation(model, val_loader):\n",
    "    model.eval()\n",
    "    correct = 0\n",
    "    total = 0\n",
    "\n",
    "    with torch.no_grad():\n",
    "        for images, labels in val_loader:\n",
    "            images, labels = images.to(device), labels.to(device)\n",
    "            outputs = model(images)\n",
    "            _, predicted = torch.max(outputs, 1)\n",
    "            total += labels.size(0)\n",
    "            correct += (predicted == labels).sum().item()\n",
    "\n",
    "    # 4. Calculate Accuracy\n",
    "    accuracy = correct / total\n",
    "    print('Accuracy on the test set: {:.2f}%'.format(accuracy * 100))"
   ]
  },
  {
   "cell_type": "code",
   "execution_count": 8,
   "id": "72951f43-6e04-4b6c-af5a-6ca54c26b366",
   "metadata": {
    "tags": []
   },
   "outputs": [],
   "source": [
    "import json\n",
    "import os\n",
    "\n",
    "import kaleido\n",
    "import pandas as pd\n",
    "import numpy as np\n",
    "import plotly.graph_objects as go\n",
    "######## Search space #########\n",
    "import sys\n",
    "sys.path.append(\"../\")\n",
    "from search_space.RegNet import RegNet\n",
    "from search_space.utils import create_widths_plot, scatter_results\n",
    "# Initialize an empty list to store dictionaries\n",
    "def results_to_df(path, name):\n",
    "    data = []\n",
    "    # Open the text file\n",
    "    with open(path, 'r') as file:\n",
    "        lines = file.readlines()\n",
    "        # Initialize an empty dictionary to store data for each block\n",
    "        block_data = {}\n",
    "        for line in lines:\n",
    "            # If the line contains dashes, it indicates the end of a block\n",
    "            if '-------------------------' in line:\n",
    "                # If block_data is not empty, add it to the list of data dictionaries\n",
    "                if block_data:\n",
    "                    data.append(block_data)\n",
    "                    # Reset block_data for the next block\n",
    "                    block_data = {}\n",
    "            elif 'best_acc' in line:\n",
    "                continue\n",
    "            else:\n",
    "                # Split the line by ':'\n",
    "                #print(line)\n",
    "                key, value = line.strip().split(': ')\n",
    "                # Store the key-value pair in the block_data dictionary\n",
    "                block_data[key] = value\n",
    "\n",
    "    # Create a DataFrame from the list of dictionaries\n",
    "    df = pd.DataFrame(data)\n",
    "\n",
    "    # Convert columns to appropriate data types if needed\n",
    "    df['epoch'] = df['epoch'].astype(int)\n",
    "    df['lr'] = df['lr'].astype(float)\n",
    "    df['train_acc'] = df['train_acc'].astype(float)\n",
    "    df['train_loss'] = df['train_loss'].astype(float)\n",
    "    df['test_acc'] = df['test_acc'].astype(float)\n",
    "    df['test_acc_top5'] = df['test_acc_top5'].astype(float)\n",
    "    df['test_loss'] = df['test_loss'].astype(float)\n",
    "    df['epoch_time'] = df['epoch_time'].astype(float)\n",
    "    df=df.assign(name=name)\n",
    "    \n",
    "    return df\n",
    "\n",
    "metadata_dict={}\n",
    "metadata_dict[\"Caitie\"]={'num_classes': 4,\n",
    "                         'input_shape': [49260, 3, 64, 64],\n",
    "                         'codename': 'Caitie',\n",
    "                         'benchmark': 47.008,\n",
    "                         }\n",
    "metadata_dict[\"Adaline\"]={'num_classes': 20,\n",
    "                         'input_shape': [50000, 3, 28, 28],\n",
    "                         'codename': 'Adaline',\n",
    "                         'benchmark': 89.85}\n",
    "metadata_dict[\"Chester\"]={'input_shape': [49998, 12, 8, 8],\n",
    "                         'codename': 'Chester',\n",
    "                         'benchmark': 57.826,\n",
    "                         'num_classes': 3}\n",
    "metadata_dict[\"Gutenberg\"]={'input_shape': [45000, 1, 27, 18],\n",
    "                         'codename': 'Gutenberg',\n",
    "                         'benchmark': 40.98,\n",
    "                         'num_classes': 6}\n",
    "metadata_dict[\"LaMelo\"]={'num_classes': 10,\n",
    "                         'codename': 'LaMelo',\n",
    "                         'input_shape': [50000, 1, 24, 24],\n",
    "                         'benchmark': 85.2}\n",
    "metadata_dict[\"Mateo\"]={'num_classes': 10,\n",
    "                         'input_shape': [50000, 3, 28, 28],\n",
    "                         'codename': 'Mateo',\n",
    "                         'benchmark': 90.87}\n",
    "metadata_dict[\"Sadie\"]={'input_shape': [50000, 3, 64, 64],\n",
    "                         'codename': 'Sadie',\n",
    "                         'benchmark': 80.33,\n",
    "                         'num_classes': 10}\n",
    "metadata_dict[\"Sokoto\"]={'input_shape': [50000, 1, 9, 9],\n",
    "                         'codename': 'Sokoto',\n",
    "                         'benchmark': 0.0,\n",
    "                         'num_classes': 9}\n",
    "metadata_dict[\"CIFAR10\"]={\n",
    "                            \"input_shape\": [50000, 3, 32, 32],  \n",
    "                            \"codename\": \"CIFAR10\",             \n",
    "                            \"benchmark\": 90.65,                 \n",
    "                            \"num_classes\": 10                  \n",
    "                        }\n",
    "def get_predictor_data_from_folder(base_folder,studies):\n",
    "\n",
    "    \n",
    "    train_data=[]\n",
    "    for study_name in studies: \n",
    "        \n",
    "\n",
    "        metadata=metadata_dict[study_name]\n",
    "        rg=RegNet(metadata,\n",
    "                        W0=[16, 120, 8],\n",
    "                        WA=[16, 64, 8],\n",
    "                        WM=[2.05,2.9,0.05],\n",
    "                        D=[8,22,1], \n",
    "                        G=[8,8,8], \n",
    "                        base_config=f\"../configs/search_space/config.yaml\")\n",
    "        data=[]\n",
    "        study_folder=f\"{base_folder}/{study_name}\"\n",
    "        subjects= os.listdir(study_folder)\n",
    "\n",
    "        subjects=[subject for subject in subjects if os.path.isdir(f\"{study_folder}/{subject}\")]\n",
    "        print(subjects)\n",
    "        for name in subjects:\n",
    "            try:\n",
    "                test_acc=results_to_df(f\"{study_folder}/{name}/worklog.txt\", f\"{name}\")[[\"epoch\",\"test_acc\",\"name\"]]\n",
    "                #test_acc=test_acc.rename(columns={\"test_acc\":\"acc\",\"test_loss\":\"test_acc\"})\n",
    "                #print(test_acc.columns)\n",
    "                if len(test_acc)>49:\n",
    "                    test_acc_piv = test_acc[[\"epoch\",\"test_acc\",\"name\"]].pivot(index='name', columns='epoch', values='test_acc').add_prefix(\"epoch_\").reset_index()\n",
    "                    test_acc_piv[\"best_acc\"]=test_acc[\"test_acc\"].max()\n",
    "                    \n",
    "                    model, info=rg.load_model(config_file=f\"{study_folder}/{name}/config.yaml\")\n",
    "                    test_acc_piv[\"gen\"]=1\n",
    "                    test_acc_piv[\"num_stages\"]=info[\"num_stages\"]\n",
    "                    test_acc_piv[\"params\"]=info[\"params\"]\n",
    "                    test_acc_piv[\"WA\"]=info[\"WA\"]\n",
    "                    test_acc_piv[\"W0\"]=info[\"W0\"]\n",
    "                    test_acc_piv[\"WM\"]=info[\"WM\"]\n",
    "                    test_acc_piv[\"DEPTH\"]=info[\"DEPTH\"]\n",
    "                    test_acc_piv[\"num_classes\"]=metadata[\"num_classes\"]\n",
    "                    test_acc_piv[\"num_channels\"]=metadata[\"input_shape\"][1]\n",
    "                    test_acc_piv[\"benchmark\"]=metadata[\"benchmark\"]\n",
    "                    \n",
    "                    #print(info)\n",
    "                    data.append(test_acc_piv)\n",
    "            except:\n",
    "                    pass\n",
    "\n",
    "        data=pd.concat(data)\n",
    "        train_data.append(data)\n",
    "    train_data=pd.concat(train_data)\n",
    "    return train_data\n",
    "    "
   ]
  },
  {
   "cell_type": "code",
   "execution_count": 9,
   "id": "99b7feae-6146-462d-b831-b4a511468cf3",
   "metadata": {
    "tags": []
   },
   "outputs": [],
   "source": [
    "from torchvision.transforms import v2\n",
    "class RandomPixelChange:\n",
    "    def __init__(self, change_prob=0.1):\n",
    "        self.change_prob = change_prob\n",
    "    \n",
    "    def __call__(self, img):\n",
    "        # Convert image to numpy array\n",
    "        img_array = np.array(img).astype(np.float32)\n",
    "        \n",
    "        # Normalize the array to [0, 1]\n",
    "        img_array = (img_array - img_array.min()) / (img_array.max() - img_array.min())#\n",
    "        \n",
    "        unique_values=np.unique(img_array)\n",
    "        \n",
    "        # Generate a random mask with the same shape as img_array\n",
    "        mask = np.random.rand(*img_array.shape) < self.change_prob\n",
    "        \n",
    "        # Apply the mask to randomly change the pixels to any of the unique values\n",
    "        random_values = np.random.choice(unique_values, size=img_array.shape)\n",
    "        img_array[mask] = random_values[mask]\n",
    "        \n",
    "        return img_array.transpose(1, 2, 0)\n",
    "\n"
   ]
  },
  {
   "cell_type": "code",
   "execution_count": 13,
   "id": "67cec3c1-3826-47ae-ac55-eb63e8e8a992",
   "metadata": {
    "tags": []
   },
   "outputs": [
    {
     "name": "stderr",
     "output_type": "stream",
     "text": [
      "ic| self.select_augment: 'None'\n",
      "ic| f\"selected transform {train_transform}\": 'selected transform []'\n",
      "ic| self.x.shape: torch.Size([45000, 1, 27, 18])\n",
      "ic| self.x.shape: torch.Size([15000, 1, 27, 18])\n",
      "ic| self.x.shape: torch.Size([6000, 1, 27, 18])\n"
     ]
    }
   ],
   "source": [
    "Dataset=\"Gutenberg\"\n",
    "(train_x, train_y), (valid_x, valid_y), (test_x), metadata = load_datasets(Dataset, truncate=False)\n",
    "test_y = np.load(os.path.join('../../datasets_val/'+Dataset,'test_y.npy'))\n",
    "select_augment=\"None\"\n",
    "data_processor = DataProcessor(train_x[:], train_y[:], valid_x, valid_y, test_x, metadata, select_augment)\n",
    "train_loader, valid_loader, test_loader = data_processor.process()\n",
    "\n",
    "\n",
    "metadata\n",
    "dataset=metadata[\"codename\"]"
   ]
  },
  {
   "cell_type": "code",
   "execution_count": 14,
   "id": "1ec84a9d-5c23-4048-adb1-3a76e3632532",
   "metadata": {
    "tags": []
   },
   "outputs": [],
   "source": [
    "rg=RegNet(metadata,\n",
    "                    W0=[16, 120, 8],\n",
    "                    WA=[16, 64, 8],\n",
    "                    WM=[2.05,2.9,0.05],\n",
    "                    D=[8,22,1], \n",
    "                    G=[8,8,8], \n",
    "                    base_config=f\"../configs/search_space/config.yaml\")\n",
    "\n",
    "folder=f\"/home/woody/iwb3/iwb3021h/NAS_COMPETITION_RESULTS/stages_pool\"\n"
   ]
  },
  {
   "cell_type": "code",
   "execution_count": 15,
   "id": "a021fc6f-c279-4190-ad5b-061e18b0adae",
   "metadata": {
    "tags": []
   },
   "outputs": [
    {
     "name": "stderr",
     "output_type": "stream",
     "text": [
      "/apps/jupyterhub/jh3.1.1-py3.11/envs/pytorch-2.2.0/lib/python3.12/site-packages/torchvision/transforms/v2/_deprecated.py:41: UserWarning: The transform `ToTensor()` is deprecated and will be removed in a future release. Instead, please use `v2.Compose([v2.ToImage(), v2.ToDtype(torch.float32, scale=True)])`.\n",
      "  warnings.warn(\n"
     ]
    }
   ],
   "source": [
    "unique_values=np.unique(valid_loader.dataset.x[0])\n",
    "C,H,W=metadata['input_shape'][1:4]\n",
    "PH,PW=int(H/8),int(W/8)\n",
    "poss_augs= [\n",
    "\n",
    "        [],\n",
    "        [v2.RandAugment(magnitude=9)],\n",
    "        [v2.RandAugment(magnitude=5)],\n",
    "        [v2.RandAugment(magnitude=1)],\n",
    "        [v2.TrivialAugmentWide(num_magnitude_bins=31)],\n",
    "        [v2.TrivialAugmentWide(num_magnitude_bins=15)],\n",
    "        [v2.AugMix(severity=3)],\n",
    "        [v2.AugMix(severity=1)],\n",
    "        ##########################\n",
    "        [v2.RandomHorizontalFlip(),v2.RandomVerticalFlip()],\n",
    "        [v2.RandomErasing(p=0.2, scale=(0.05, 0.2), ratio=(0.3, 3.3)), v2.RandomHorizontalFlip(),v2.RandomVerticalFlip()],\n",
    "        [v2.RandomErasing(p=0.2, scale=(0.05, 0.2), ratio=(0.3, 3.3))],\n",
    "        [v2.RandomErasing(p=0.2, scale=(0.02, 0.2), ratio=(0.3, 3.3)), v2.RandomCrop((H,W), padding=(PH,PW))],\n",
    "        [v2.RandomCrop((H,W), padding=(PH,PW))],\n",
    "        [v2.RandomCrop((H,W), padding=(PH,PW)), v2.RandomHorizontalFlip(),v2.RandomVerticalFlip()],\n",
    "        [v2.RandomErasing(p=0.2, scale=(0.02, 0.2), ratio=(0.3, 3.3)),v2.RandomCrop((H,W), padding=(PH,PW)),v2.RandomHorizontalFlip()],\n",
    "        ###########################################################\n",
    "        [RandomPixelChange(0.01), v2.ToTensor()],\n",
    "        [RandomPixelChange(0.025), v2.ToTensor()],\n",
    "        [RandomPixelChange(0.05), v2.ToTensor()],\n",
    "        [RandomPixelChange(0.01), v2.ToTensor(), v2.RandomHorizontalFlip(),v2.RandomVerticalFlip()],\n",
    "        [RandomPixelChange(0.01), v2.ToTensor(),v2.RandomErasing(p=0.2, scale=(0.05, 0.2), ratio=(0.3, 3.3))],\n",
    "        [RandomPixelChange(0.01), v2.ToTensor(), v2.RandomCrop((H,W), padding=(PH,PW))],\n",
    "        [RandomPixelChange(0.01), v2.ToTensor(),v2.RandomHorizontalFlip(),v2.RandomVerticalFlip(), v2.RandomErasing(p=0.2, scale=(0.05, 0.2), ratio=(0.3, 3.3))]\n",
    "\n",
    "    ]\n",
    "\n"
   ]
  },
  {
   "cell_type": "code",
   "execution_count": 16,
   "id": "3d206270-4343-467f-903b-884f6413c01c",
   "metadata": {
    "collapsed": true,
    "jupyter": {
     "outputs_hidden": true
    },
    "tags": []
   },
   "outputs": [
    {
     "name": "stdout",
     "output_type": "stream",
     "text": [
      "['provocative_skua', 'passionate_hornet', 'rousing_cuckoo', 'modest_snail', 'glossy_fennec', 'versed_duck', 'giga_jackrabbit', 'amigurumi_camel', 'splendid_duck', 'amiable_smilodon', 'sweet_cat', 'handsome_eel', 'roaring_chameleon', 'meticulous_oyster', 'cunning_bandicoot', 'invaluable_leopard', 'organic_limpet', 'voracious_kagu', 'macho_seriema', 'clay_honeybee', 'jolly_spoonbill', 'loose_python', 'peach_marmot', 'graceful_flamingo', 'enthusiastic_binturong', 'xanthic_serval', 'spiritual_raptor', 'beige_limpet', 'dark_tuatara', 'therapeutic_frigatebird', 'prophetic_grouse', 'solid_chicken', 'tidy_silkworm', 'strong_finch', 'perfect_waxbill', 'crystal_walrus', 'pragmatic_roadrunner', 'aspiring_toad', 'muscular_poodle', 'fanatic_cheetah', 'nano_ibis', 'peridot_starling', 'maize_bulldog', 'stirring_seal', 'cherry_tapir', 'olivine_goat', 'fascinating_tarsier', 'married_bonobo', 'magic_deer', 'neat_termite', 'peridot_baboon', 'nice_leech', 'modest_hound', 'muscular_bullmastiff', 'refined_tarantula', 'zircon_toucan', 'successful_mastiff', 'mega_frog', 'monumental_bumblebee', 'gray_rook', 'glorious_impala', 'sceptical_lobster', 'tall_robin', 'amphibian_copperhead', 'bronze_donkey', 'flying_beetle', 'foamy_mandrill', 'adorable_trout', 'valiant_peccary', 'daring_gharial', 'striped_bittern', 'dainty_bandicoot', 'golden_scorpion', 'mindful_chipmunk', 'vegan_ibex', 'vigorous_otter', 'solid_tuna', 'demonic_owl', 'cornflower_potoo', 'sophisticated_beluga', 'unbiased_cuttlefish', 'banana_jackrabbit', 'bulky_raccoon', 'ultramarine_starling', 'gabby_cicada', 'berserk_fox', 'delectable_caracal', 'daring_scallop', 'attentive_octopus', 'sturdy_quail', 'thistle_centipede', 'mauve_bat', 'charming_mantis', 'mini_caterpillar', 'super_bullfrog', 'teal_chamois', 'ultramarine_salmon', 'juicy_uakari', 'vagabond_oyster', 'paper_jackrabbit', 'wooden_kestrel', 'unnatural_fulmar', 'delectable_octopus', 'sandy_mouse', 'tremendous_herring', 'large_carp', 'diligent_skua', 'cautious_vicugna', 'prudent_crab', 'shaggy_chipmunk', 'auspicious_mouflon', 'offbeat_goat', 'prompt_raccoon', 'diligent_wombat', 'sweet_cougar', 'tomato_leech', 'rapid_rattlesnake', 'glorious_jellyfish', 'adept_ladybug', 'serious_ara']\n",
      "Loading model: /home/woody/iwb3/iwb3021h/NAS_COMPETITION_RESULTS/stages_pool/Gutenberg/provocative_skua/config.yaml\n",
      "Loading model: /home/woody/iwb3/iwb3021h/NAS_COMPETITION_RESULTS/stages_pool/Gutenberg/passionate_hornet/config.yaml\n",
      "Loading model: /home/woody/iwb3/iwb3021h/NAS_COMPETITION_RESULTS/stages_pool/Gutenberg/rousing_cuckoo/config.yaml\n",
      "Loading model: /home/woody/iwb3/iwb3021h/NAS_COMPETITION_RESULTS/stages_pool/Gutenberg/modest_snail/config.yaml\n",
      "Loading model: /home/woody/iwb3/iwb3021h/NAS_COMPETITION_RESULTS/stages_pool/Gutenberg/glossy_fennec/config.yaml\n",
      "Loading model: /home/woody/iwb3/iwb3021h/NAS_COMPETITION_RESULTS/stages_pool/Gutenberg/versed_duck/config.yaml\n",
      "Loading model: /home/woody/iwb3/iwb3021h/NAS_COMPETITION_RESULTS/stages_pool/Gutenberg/giga_jackrabbit/config.yaml\n",
      "Loading model: /home/woody/iwb3/iwb3021h/NAS_COMPETITION_RESULTS/stages_pool/Gutenberg/amigurumi_camel/config.yaml\n",
      "Loading model: /home/woody/iwb3/iwb3021h/NAS_COMPETITION_RESULTS/stages_pool/Gutenberg/splendid_duck/config.yaml\n",
      "Loading model: /home/woody/iwb3/iwb3021h/NAS_COMPETITION_RESULTS/stages_pool/Gutenberg/amiable_smilodon/config.yaml\n",
      "Loading model: /home/woody/iwb3/iwb3021h/NAS_COMPETITION_RESULTS/stages_pool/Gutenberg/sweet_cat/config.yaml\n",
      "Loading model: /home/woody/iwb3/iwb3021h/NAS_COMPETITION_RESULTS/stages_pool/Gutenberg/handsome_eel/config.yaml\n",
      "Loading model: /home/woody/iwb3/iwb3021h/NAS_COMPETITION_RESULTS/stages_pool/Gutenberg/roaring_chameleon/config.yaml\n",
      "Loading model: /home/woody/iwb3/iwb3021h/NAS_COMPETITION_RESULTS/stages_pool/Gutenberg/meticulous_oyster/config.yaml\n",
      "Loading model: /home/woody/iwb3/iwb3021h/NAS_COMPETITION_RESULTS/stages_pool/Gutenberg/cunning_bandicoot/config.yaml\n",
      "Loading model: /home/woody/iwb3/iwb3021h/NAS_COMPETITION_RESULTS/stages_pool/Gutenberg/invaluable_leopard/config.yaml\n",
      "Loading model: /home/woody/iwb3/iwb3021h/NAS_COMPETITION_RESULTS/stages_pool/Gutenberg/organic_limpet/config.yaml\n",
      "Loading model: /home/woody/iwb3/iwb3021h/NAS_COMPETITION_RESULTS/stages_pool/Gutenberg/voracious_kagu/config.yaml\n",
      "Loading model: /home/woody/iwb3/iwb3021h/NAS_COMPETITION_RESULTS/stages_pool/Gutenberg/macho_seriema/config.yaml\n",
      "Loading model: /home/woody/iwb3/iwb3021h/NAS_COMPETITION_RESULTS/stages_pool/Gutenberg/clay_honeybee/config.yaml\n",
      "Loading model: /home/woody/iwb3/iwb3021h/NAS_COMPETITION_RESULTS/stages_pool/Gutenberg/jolly_spoonbill/config.yaml\n",
      "Loading model: /home/woody/iwb3/iwb3021h/NAS_COMPETITION_RESULTS/stages_pool/Gutenberg/loose_python/config.yaml\n",
      "Loading model: /home/woody/iwb3/iwb3021h/NAS_COMPETITION_RESULTS/stages_pool/Gutenberg/peach_marmot/config.yaml\n",
      "Loading model: /home/woody/iwb3/iwb3021h/NAS_COMPETITION_RESULTS/stages_pool/Gutenberg/graceful_flamingo/config.yaml\n",
      "Loading model: /home/woody/iwb3/iwb3021h/NAS_COMPETITION_RESULTS/stages_pool/Gutenberg/enthusiastic_binturong/config.yaml\n",
      "Loading model: /home/woody/iwb3/iwb3021h/NAS_COMPETITION_RESULTS/stages_pool/Gutenberg/xanthic_serval/config.yaml\n",
      "Loading model: /home/woody/iwb3/iwb3021h/NAS_COMPETITION_RESULTS/stages_pool/Gutenberg/spiritual_raptor/config.yaml\n",
      "Loading model: /home/woody/iwb3/iwb3021h/NAS_COMPETITION_RESULTS/stages_pool/Gutenberg/beige_limpet/config.yaml\n",
      "Loading model: /home/woody/iwb3/iwb3021h/NAS_COMPETITION_RESULTS/stages_pool/Gutenberg/dark_tuatara/config.yaml\n",
      "Loading model: /home/woody/iwb3/iwb3021h/NAS_COMPETITION_RESULTS/stages_pool/Gutenberg/therapeutic_frigatebird/config.yaml\n",
      "Loading model: /home/woody/iwb3/iwb3021h/NAS_COMPETITION_RESULTS/stages_pool/Gutenberg/prophetic_grouse/config.yaml\n",
      "Loading model: /home/woody/iwb3/iwb3021h/NAS_COMPETITION_RESULTS/stages_pool/Gutenberg/solid_chicken/config.yaml\n",
      "Loading model: /home/woody/iwb3/iwb3021h/NAS_COMPETITION_RESULTS/stages_pool/Gutenberg/tidy_silkworm/config.yaml\n",
      "Loading model: /home/woody/iwb3/iwb3021h/NAS_COMPETITION_RESULTS/stages_pool/Gutenberg/strong_finch/config.yaml\n",
      "Loading model: /home/woody/iwb3/iwb3021h/NAS_COMPETITION_RESULTS/stages_pool/Gutenberg/perfect_waxbill/config.yaml\n",
      "Loading model: /home/woody/iwb3/iwb3021h/NAS_COMPETITION_RESULTS/stages_pool/Gutenberg/crystal_walrus/config.yaml\n",
      "Loading model: /home/woody/iwb3/iwb3021h/NAS_COMPETITION_RESULTS/stages_pool/Gutenberg/pragmatic_roadrunner/config.yaml\n",
      "Loading model: /home/woody/iwb3/iwb3021h/NAS_COMPETITION_RESULTS/stages_pool/Gutenberg/aspiring_toad/config.yaml\n",
      "Loading model: /home/woody/iwb3/iwb3021h/NAS_COMPETITION_RESULTS/stages_pool/Gutenberg/muscular_poodle/config.yaml\n",
      "Loading model: /home/woody/iwb3/iwb3021h/NAS_COMPETITION_RESULTS/stages_pool/Gutenberg/fanatic_cheetah/config.yaml\n",
      "Loading model: /home/woody/iwb3/iwb3021h/NAS_COMPETITION_RESULTS/stages_pool/Gutenberg/nano_ibis/config.yaml\n",
      "Loading model: /home/woody/iwb3/iwb3021h/NAS_COMPETITION_RESULTS/stages_pool/Gutenberg/peridot_starling/config.yaml\n",
      "Loading model: /home/woody/iwb3/iwb3021h/NAS_COMPETITION_RESULTS/stages_pool/Gutenberg/maize_bulldog/config.yaml\n",
      "Loading model: /home/woody/iwb3/iwb3021h/NAS_COMPETITION_RESULTS/stages_pool/Gutenberg/stirring_seal/config.yaml\n",
      "Loading model: /home/woody/iwb3/iwb3021h/NAS_COMPETITION_RESULTS/stages_pool/Gutenberg/cherry_tapir/config.yaml\n",
      "Loading model: /home/woody/iwb3/iwb3021h/NAS_COMPETITION_RESULTS/stages_pool/Gutenberg/olivine_goat/config.yaml\n",
      "Loading model: /home/woody/iwb3/iwb3021h/NAS_COMPETITION_RESULTS/stages_pool/Gutenberg/fascinating_tarsier/config.yaml\n",
      "Loading model: /home/woody/iwb3/iwb3021h/NAS_COMPETITION_RESULTS/stages_pool/Gutenberg/married_bonobo/config.yaml\n",
      "Loading model: /home/woody/iwb3/iwb3021h/NAS_COMPETITION_RESULTS/stages_pool/Gutenberg/magic_deer/config.yaml\n",
      "Loading model: /home/woody/iwb3/iwb3021h/NAS_COMPETITION_RESULTS/stages_pool/Gutenberg/neat_termite/config.yaml\n",
      "Loading model: /home/woody/iwb3/iwb3021h/NAS_COMPETITION_RESULTS/stages_pool/Gutenberg/peridot_baboon/config.yaml\n",
      "Loading model: /home/woody/iwb3/iwb3021h/NAS_COMPETITION_RESULTS/stages_pool/Gutenberg/nice_leech/config.yaml\n",
      "Loading model: /home/woody/iwb3/iwb3021h/NAS_COMPETITION_RESULTS/stages_pool/Gutenberg/modest_hound/config.yaml\n",
      "Loading model: /home/woody/iwb3/iwb3021h/NAS_COMPETITION_RESULTS/stages_pool/Gutenberg/muscular_bullmastiff/config.yaml\n",
      "Loading model: /home/woody/iwb3/iwb3021h/NAS_COMPETITION_RESULTS/stages_pool/Gutenberg/refined_tarantula/config.yaml\n",
      "Loading model: /home/woody/iwb3/iwb3021h/NAS_COMPETITION_RESULTS/stages_pool/Gutenberg/zircon_toucan/config.yaml\n",
      "Loading model: /home/woody/iwb3/iwb3021h/NAS_COMPETITION_RESULTS/stages_pool/Gutenberg/successful_mastiff/config.yaml\n",
      "Loading model: /home/woody/iwb3/iwb3021h/NAS_COMPETITION_RESULTS/stages_pool/Gutenberg/mega_frog/config.yaml\n",
      "Loading model: /home/woody/iwb3/iwb3021h/NAS_COMPETITION_RESULTS/stages_pool/Gutenberg/monumental_bumblebee/config.yaml\n",
      "Loading model: /home/woody/iwb3/iwb3021h/NAS_COMPETITION_RESULTS/stages_pool/Gutenberg/gray_rook/config.yaml\n",
      "Loading model: /home/woody/iwb3/iwb3021h/NAS_COMPETITION_RESULTS/stages_pool/Gutenberg/glorious_impala/config.yaml\n",
      "Loading model: /home/woody/iwb3/iwb3021h/NAS_COMPETITION_RESULTS/stages_pool/Gutenberg/sceptical_lobster/config.yaml\n",
      "Loading model: /home/woody/iwb3/iwb3021h/NAS_COMPETITION_RESULTS/stages_pool/Gutenberg/tall_robin/config.yaml\n",
      "Loading model: /home/woody/iwb3/iwb3021h/NAS_COMPETITION_RESULTS/stages_pool/Gutenberg/amphibian_copperhead/config.yaml\n",
      "Loading model: /home/woody/iwb3/iwb3021h/NAS_COMPETITION_RESULTS/stages_pool/Gutenberg/bronze_donkey/config.yaml\n",
      "Loading model: /home/woody/iwb3/iwb3021h/NAS_COMPETITION_RESULTS/stages_pool/Gutenberg/flying_beetle/config.yaml\n",
      "Loading model: /home/woody/iwb3/iwb3021h/NAS_COMPETITION_RESULTS/stages_pool/Gutenberg/foamy_mandrill/config.yaml\n",
      "Loading model: /home/woody/iwb3/iwb3021h/NAS_COMPETITION_RESULTS/stages_pool/Gutenberg/adorable_trout/config.yaml\n",
      "Loading model: /home/woody/iwb3/iwb3021h/NAS_COMPETITION_RESULTS/stages_pool/Gutenberg/valiant_peccary/config.yaml\n",
      "Loading model: /home/woody/iwb3/iwb3021h/NAS_COMPETITION_RESULTS/stages_pool/Gutenberg/daring_gharial/config.yaml\n",
      "Loading model: /home/woody/iwb3/iwb3021h/NAS_COMPETITION_RESULTS/stages_pool/Gutenberg/striped_bittern/config.yaml\n",
      "Loading model: /home/woody/iwb3/iwb3021h/NAS_COMPETITION_RESULTS/stages_pool/Gutenberg/dainty_bandicoot/config.yaml\n",
      "Loading model: /home/woody/iwb3/iwb3021h/NAS_COMPETITION_RESULTS/stages_pool/Gutenberg/golden_scorpion/config.yaml\n",
      "Loading model: /home/woody/iwb3/iwb3021h/NAS_COMPETITION_RESULTS/stages_pool/Gutenberg/mindful_chipmunk/config.yaml\n",
      "Loading model: /home/woody/iwb3/iwb3021h/NAS_COMPETITION_RESULTS/stages_pool/Gutenberg/vegan_ibex/config.yaml\n",
      "Loading model: /home/woody/iwb3/iwb3021h/NAS_COMPETITION_RESULTS/stages_pool/Gutenberg/vigorous_otter/config.yaml\n",
      "Loading model: /home/woody/iwb3/iwb3021h/NAS_COMPETITION_RESULTS/stages_pool/Gutenberg/solid_tuna/config.yaml\n",
      "Loading model: /home/woody/iwb3/iwb3021h/NAS_COMPETITION_RESULTS/stages_pool/Gutenberg/demonic_owl/config.yaml\n",
      "Loading model: /home/woody/iwb3/iwb3021h/NAS_COMPETITION_RESULTS/stages_pool/Gutenberg/cornflower_potoo/config.yaml\n",
      "Loading model: /home/woody/iwb3/iwb3021h/NAS_COMPETITION_RESULTS/stages_pool/Gutenberg/sophisticated_beluga/config.yaml\n",
      "Loading model: /home/woody/iwb3/iwb3021h/NAS_COMPETITION_RESULTS/stages_pool/Gutenberg/unbiased_cuttlefish/config.yaml\n",
      "Loading model: /home/woody/iwb3/iwb3021h/NAS_COMPETITION_RESULTS/stages_pool/Gutenberg/banana_jackrabbit/config.yaml\n",
      "Loading model: /home/woody/iwb3/iwb3021h/NAS_COMPETITION_RESULTS/stages_pool/Gutenberg/bulky_raccoon/config.yaml\n",
      "Loading model: /home/woody/iwb3/iwb3021h/NAS_COMPETITION_RESULTS/stages_pool/Gutenberg/ultramarine_starling/config.yaml\n",
      "Loading model: /home/woody/iwb3/iwb3021h/NAS_COMPETITION_RESULTS/stages_pool/Gutenberg/gabby_cicada/config.yaml\n",
      "Loading model: /home/woody/iwb3/iwb3021h/NAS_COMPETITION_RESULTS/stages_pool/Gutenberg/berserk_fox/config.yaml\n",
      "Loading model: /home/woody/iwb3/iwb3021h/NAS_COMPETITION_RESULTS/stages_pool/Gutenberg/delectable_caracal/config.yaml\n",
      "Loading model: /home/woody/iwb3/iwb3021h/NAS_COMPETITION_RESULTS/stages_pool/Gutenberg/daring_scallop/config.yaml\n",
      "Loading model: /home/woody/iwb3/iwb3021h/NAS_COMPETITION_RESULTS/stages_pool/Gutenberg/attentive_octopus/config.yaml\n",
      "Loading model: /home/woody/iwb3/iwb3021h/NAS_COMPETITION_RESULTS/stages_pool/Gutenberg/sturdy_quail/config.yaml\n",
      "Loading model: /home/woody/iwb3/iwb3021h/NAS_COMPETITION_RESULTS/stages_pool/Gutenberg/thistle_centipede/config.yaml\n",
      "Loading model: /home/woody/iwb3/iwb3021h/NAS_COMPETITION_RESULTS/stages_pool/Gutenberg/mauve_bat/config.yaml\n",
      "Loading model: /home/woody/iwb3/iwb3021h/NAS_COMPETITION_RESULTS/stages_pool/Gutenberg/charming_mantis/config.yaml\n",
      "Loading model: /home/woody/iwb3/iwb3021h/NAS_COMPETITION_RESULTS/stages_pool/Gutenberg/mini_caterpillar/config.yaml\n",
      "Loading model: /home/woody/iwb3/iwb3021h/NAS_COMPETITION_RESULTS/stages_pool/Gutenberg/super_bullfrog/config.yaml\n",
      "Loading model: /home/woody/iwb3/iwb3021h/NAS_COMPETITION_RESULTS/stages_pool/Gutenberg/teal_chamois/config.yaml\n",
      "Loading model: /home/woody/iwb3/iwb3021h/NAS_COMPETITION_RESULTS/stages_pool/Gutenberg/ultramarine_salmon/config.yaml\n",
      "Loading model: /home/woody/iwb3/iwb3021h/NAS_COMPETITION_RESULTS/stages_pool/Gutenberg/juicy_uakari/config.yaml\n",
      "Loading model: /home/woody/iwb3/iwb3021h/NAS_COMPETITION_RESULTS/stages_pool/Gutenberg/vagabond_oyster/config.yaml\n",
      "Loading model: /home/woody/iwb3/iwb3021h/NAS_COMPETITION_RESULTS/stages_pool/Gutenberg/paper_jackrabbit/config.yaml\n",
      "Loading model: /home/woody/iwb3/iwb3021h/NAS_COMPETITION_RESULTS/stages_pool/Gutenberg/wooden_kestrel/config.yaml\n",
      "Loading model: /home/woody/iwb3/iwb3021h/NAS_COMPETITION_RESULTS/stages_pool/Gutenberg/unnatural_fulmar/config.yaml\n",
      "Loading model: /home/woody/iwb3/iwb3021h/NAS_COMPETITION_RESULTS/stages_pool/Gutenberg/delectable_octopus/config.yaml\n",
      "Loading model: /home/woody/iwb3/iwb3021h/NAS_COMPETITION_RESULTS/stages_pool/Gutenberg/sandy_mouse/config.yaml\n",
      "Loading model: /home/woody/iwb3/iwb3021h/NAS_COMPETITION_RESULTS/stages_pool/Gutenberg/tremendous_herring/config.yaml\n",
      "Loading model: /home/woody/iwb3/iwb3021h/NAS_COMPETITION_RESULTS/stages_pool/Gutenberg/large_carp/config.yaml\n",
      "Loading model: /home/woody/iwb3/iwb3021h/NAS_COMPETITION_RESULTS/stages_pool/Gutenberg/diligent_skua/config.yaml\n",
      "Loading model: /home/woody/iwb3/iwb3021h/NAS_COMPETITION_RESULTS/stages_pool/Gutenberg/cautious_vicugna/config.yaml\n",
      "Loading model: /home/woody/iwb3/iwb3021h/NAS_COMPETITION_RESULTS/stages_pool/Gutenberg/prudent_crab/config.yaml\n",
      "Loading model: /home/woody/iwb3/iwb3021h/NAS_COMPETITION_RESULTS/stages_pool/Gutenberg/shaggy_chipmunk/config.yaml\n",
      "Loading model: /home/woody/iwb3/iwb3021h/NAS_COMPETITION_RESULTS/stages_pool/Gutenberg/auspicious_mouflon/config.yaml\n",
      "Loading model: /home/woody/iwb3/iwb3021h/NAS_COMPETITION_RESULTS/stages_pool/Gutenberg/offbeat_goat/config.yaml\n",
      "Loading model: /home/woody/iwb3/iwb3021h/NAS_COMPETITION_RESULTS/stages_pool/Gutenberg/prompt_raccoon/config.yaml\n",
      "Loading model: /home/woody/iwb3/iwb3021h/NAS_COMPETITION_RESULTS/stages_pool/Gutenberg/diligent_wombat/config.yaml\n",
      "Loading model: /home/woody/iwb3/iwb3021h/NAS_COMPETITION_RESULTS/stages_pool/Gutenberg/sweet_cougar/config.yaml\n",
      "Loading model: /home/woody/iwb3/iwb3021h/NAS_COMPETITION_RESULTS/stages_pool/Gutenberg/tomato_leech/config.yaml\n",
      "Loading model: /home/woody/iwb3/iwb3021h/NAS_COMPETITION_RESULTS/stages_pool/Gutenberg/rapid_rattlesnake/config.yaml\n",
      "Loading model: /home/woody/iwb3/iwb3021h/NAS_COMPETITION_RESULTS/stages_pool/Gutenberg/glorious_jellyfish/config.yaml\n",
      "Loading model: /home/woody/iwb3/iwb3021h/NAS_COMPETITION_RESULTS/stages_pool/Gutenberg/adept_ladybug/config.yaml\n",
      "Loading model: /home/woody/iwb3/iwb3021h/NAS_COMPETITION_RESULTS/stages_pool/Gutenberg/serious_ara/config.yaml\n"
     ]
    }
   ],
   "source": [
    "train_data=get_predictor_data_from_folder(base_folder=folder,\n",
    "                                          studies=[dataset])"
   ]
  },
  {
   "cell_type": "code",
   "execution_count": null,
   "id": "2f95232e-95c3-4a08-9674-15818b1b6ded",
   "metadata": {
    "tags": []
   },
   "outputs": [],
   "source": [
    "train_data"
   ]
  },
  {
   "cell_type": "code",
   "execution_count": 17,
   "id": "1181bc82-eca1-4ff3-b056-123db6bc0051",
   "metadata": {
    "tags": []
   },
   "outputs": [],
   "source": [
    "individuals=os.listdir(folder+\"/\"+dataset)\n",
    "individuals=[ind for ind in individuals if os.path.isdir(os.path.join(folder+\"/\"+dataset, ind)) and \".ipynb\" not in ind]\n",
    "individuals = random.sample(individuals, 10)"
   ]
  },
  {
   "cell_type": "code",
   "execution_count": 18,
   "id": "0340719c-7ede-4e55-bbcd-690185661b80",
   "metadata": {
    "tags": []
   },
   "outputs": [],
   "source": [
    "preload_models=False\n",
    "if preload_models:\n",
    "    models={}\n",
    "    for individual in individuals:\n",
    "            ind_config=f\"{folder}/{dataset}/{individual}/config.yaml\"\n",
    "            models[individual], _=rg.load_model(config_file=ind_config)\n",
    "#models, chromosomes=rg.load_generation(folder+\"/\"+dataset)"
   ]
  },
  {
   "cell_type": "code",
   "execution_count": 19,
   "id": "fdc30e34-c09f-428c-bae1-0a69e7cfca49",
   "metadata": {
    "collapsed": true,
    "jupyter": {
     "outputs_hidden": true
    },
    "tags": []
   },
   "outputs": [
    {
     "name": "stderr",
     "output_type": "stream",
     "text": [
      "ic| '#############'\n",
      "ic| aug: 0\n",
      "ic| train_loader.dataset.transform.transforms: [Normalize(mean=tensor([0.0370]), std=tensor([0.1889]))]\n",
      "ic| len(new_valid_loader): 1\n"
     ]
    },
    {
     "name": "stdout",
     "output_type": "stream",
     "text": [
      "Loading model: /home/woody/iwb3/iwb3021h/NAS_COMPETITION_RESULTS/stages_pool/Gutenberg/voracious_kagu/config.yaml\n"
     ]
    },
    {
     "name": "stderr",
     "output_type": "stream",
     "text": [
      "/apps/jupyterhub/jh3.1.1-py3.11/envs/pytorch-2.2.0/lib/python3.12/site-packages/torch/nn/modules/module.py:1352: UserWarning: Using a non-full backward hook when the forward contains multiple autograd Nodes is deprecated and will be removed in future versions. This hook will be missing some grad_input. Please use register_full_backward_hook to get the documented behavior.\n",
      "  warnings.warn(\"Using a non-full backward hook when the forward contains multiple autograd Nodes \"\n",
      "ic| len(new_valid_loader): 1\n"
     ]
    },
    {
     "name": "stdout",
     "output_type": "stream",
     "text": [
      "Loading model: /home/woody/iwb3/iwb3021h/NAS_COMPETITION_RESULTS/stages_pool/Gutenberg/golden_scorpion/config.yaml\n"
     ]
    },
    {
     "name": "stderr",
     "output_type": "stream",
     "text": [
      "ic| len(new_valid_loader): 1\n"
     ]
    },
    {
     "name": "stdout",
     "output_type": "stream",
     "text": [
      "Loading model: /home/woody/iwb3/iwb3021h/NAS_COMPETITION_RESULTS/stages_pool/Gutenberg/prudent_crab/config.yaml\n"
     ]
    },
    {
     "name": "stderr",
     "output_type": "stream",
     "text": [
      "ic| len(new_valid_loader): 1\n"
     ]
    },
    {
     "name": "stdout",
     "output_type": "stream",
     "text": [
      "Loading model: /home/woody/iwb3/iwb3021h/NAS_COMPETITION_RESULTS/stages_pool/Gutenberg/delectable_octopus/config.yaml\n"
     ]
    },
    {
     "name": "stderr",
     "output_type": "stream",
     "text": [
      "ic| len(new_valid_loader): 1\n"
     ]
    },
    {
     "name": "stdout",
     "output_type": "stream",
     "text": [
      "Loading model: /home/woody/iwb3/iwb3021h/NAS_COMPETITION_RESULTS/stages_pool/Gutenberg/juicy_uakari/config.yaml\n"
     ]
    },
    {
     "name": "stderr",
     "output_type": "stream",
     "text": [
      "ic| len(new_valid_loader): 1\n"
     ]
    },
    {
     "name": "stdout",
     "output_type": "stream",
     "text": [
      "Loading model: /home/woody/iwb3/iwb3021h/NAS_COMPETITION_RESULTS/stages_pool/Gutenberg/splendid_duck/config.yaml\n"
     ]
    },
    {
     "name": "stderr",
     "output_type": "stream",
     "text": [
      "ic| len(new_valid_loader): 1\n"
     ]
    },
    {
     "name": "stdout",
     "output_type": "stream",
     "text": [
      "Loading model: /home/woody/iwb3/iwb3021h/NAS_COMPETITION_RESULTS/stages_pool/Gutenberg/tidy_silkworm/config.yaml\n"
     ]
    },
    {
     "name": "stderr",
     "output_type": "stream",
     "text": [
      "ic| len(new_valid_loader): 1\n"
     ]
    },
    {
     "name": "stdout",
     "output_type": "stream",
     "text": [
      "Loading model: /home/woody/iwb3/iwb3021h/NAS_COMPETITION_RESULTS/stages_pool/Gutenberg/invaluable_leopard/config.yaml\n"
     ]
    },
    {
     "name": "stderr",
     "output_type": "stream",
     "text": [
      "ic| len(new_valid_loader): 1\n"
     ]
    },
    {
     "name": "stdout",
     "output_type": "stream",
     "text": [
      "Loading model: /home/woody/iwb3/iwb3021h/NAS_COMPETITION_RESULTS/stages_pool/Gutenberg/amphibian_copperhead/config.yaml\n"
     ]
    },
    {
     "name": "stderr",
     "output_type": "stream",
     "text": [
      "ic| len(new_valid_loader): 1\n"
     ]
    },
    {
     "name": "stdout",
     "output_type": "stream",
     "text": [
      "Loading model: /home/woody/iwb3/iwb3021h/NAS_COMPETITION_RESULTS/stages_pool/Gutenberg/mega_frog/config.yaml\n"
     ]
    },
    {
     "name": "stderr",
     "output_type": "stream",
     "text": [
      "ic| len(new_valid_loader): 1\n"
     ]
    },
    {
     "name": "stdout",
     "output_type": "stream",
     "text": [
      "Loading model: /home/woody/iwb3/iwb3021h/NAS_COMPETITION_RESULTS/stages_pool/Gutenberg/voracious_kagu/config.yaml\n"
     ]
    },
    {
     "name": "stderr",
     "output_type": "stream",
     "text": [
      "/apps/jupyterhub/jh3.1.1-py3.11/envs/pytorch-2.2.0/lib/python3.12/site-packages/torch/nn/modules/module.py:1352: UserWarning: Using a non-full backward hook when the forward contains multiple autograd Nodes is deprecated and will be removed in future versions. This hook will be missing some grad_input. Please use register_full_backward_hook to get the documented behavior.\n",
      "  warnings.warn(\"Using a non-full backward hook when the forward contains multiple autograd Nodes \"\n",
      "ic| len(new_valid_loader): 1\n"
     ]
    },
    {
     "name": "stdout",
     "output_type": "stream",
     "text": [
      "Loading model: /home/woody/iwb3/iwb3021h/NAS_COMPETITION_RESULTS/stages_pool/Gutenberg/golden_scorpion/config.yaml\n"
     ]
    },
    {
     "name": "stderr",
     "output_type": "stream",
     "text": [
      "ic| len(new_valid_loader): 1\n"
     ]
    },
    {
     "name": "stdout",
     "output_type": "stream",
     "text": [
      "Loading model: /home/woody/iwb3/iwb3021h/NAS_COMPETITION_RESULTS/stages_pool/Gutenberg/prudent_crab/config.yaml\n"
     ]
    },
    {
     "name": "stderr",
     "output_type": "stream",
     "text": [
      "ic| len(new_valid_loader): 1\n"
     ]
    },
    {
     "name": "stdout",
     "output_type": "stream",
     "text": [
      "Loading model: /home/woody/iwb3/iwb3021h/NAS_COMPETITION_RESULTS/stages_pool/Gutenberg/delectable_octopus/config.yaml\n"
     ]
    },
    {
     "name": "stderr",
     "output_type": "stream",
     "text": [
      "ic| len(new_valid_loader): 1\n"
     ]
    },
    {
     "name": "stdout",
     "output_type": "stream",
     "text": [
      "Loading model: /home/woody/iwb3/iwb3021h/NAS_COMPETITION_RESULTS/stages_pool/Gutenberg/juicy_uakari/config.yaml\n"
     ]
    },
    {
     "name": "stderr",
     "output_type": "stream",
     "text": [
      "ic| len(new_valid_loader): 1\n"
     ]
    },
    {
     "name": "stdout",
     "output_type": "stream",
     "text": [
      "Loading model: /home/woody/iwb3/iwb3021h/NAS_COMPETITION_RESULTS/stages_pool/Gutenberg/splendid_duck/config.yaml\n"
     ]
    },
    {
     "name": "stderr",
     "output_type": "stream",
     "text": [
      "ic| len(new_valid_loader): 1\n"
     ]
    },
    {
     "name": "stdout",
     "output_type": "stream",
     "text": [
      "Loading model: /home/woody/iwb3/iwb3021h/NAS_COMPETITION_RESULTS/stages_pool/Gutenberg/tidy_silkworm/config.yaml\n"
     ]
    },
    {
     "name": "stderr",
     "output_type": "stream",
     "text": [
      "ic| len(new_valid_loader): 1\n"
     ]
    },
    {
     "name": "stdout",
     "output_type": "stream",
     "text": [
      "Loading model: /home/woody/iwb3/iwb3021h/NAS_COMPETITION_RESULTS/stages_pool/Gutenberg/invaluable_leopard/config.yaml\n"
     ]
    },
    {
     "name": "stderr",
     "output_type": "stream",
     "text": [
      "ic| len(new_valid_loader): 1\n"
     ]
    },
    {
     "name": "stdout",
     "output_type": "stream",
     "text": [
      "Loading model: /home/woody/iwb3/iwb3021h/NAS_COMPETITION_RESULTS/stages_pool/Gutenberg/amphibian_copperhead/config.yaml\n"
     ]
    },
    {
     "name": "stderr",
     "output_type": "stream",
     "text": [
      "ic| len(new_valid_loader): 1\n"
     ]
    },
    {
     "name": "stdout",
     "output_type": "stream",
     "text": [
      "Loading model: /home/woody/iwb3/iwb3021h/NAS_COMPETITION_RESULTS/stages_pool/Gutenberg/mega_frog/config.yaml\n"
     ]
    },
    {
     "name": "stderr",
     "output_type": "stream",
     "text": [
      "ic| len(new_valid_loader): 1\n"
     ]
    },
    {
     "name": "stdout",
     "output_type": "stream",
     "text": [
      "Loading model: /home/woody/iwb3/iwb3021h/NAS_COMPETITION_RESULTS/stages_pool/Gutenberg/voracious_kagu/config.yaml\n"
     ]
    },
    {
     "name": "stderr",
     "output_type": "stream",
     "text": [
      "/apps/jupyterhub/jh3.1.1-py3.11/envs/pytorch-2.2.0/lib/python3.12/site-packages/torch/nn/modules/module.py:1352: UserWarning: Using a non-full backward hook when the forward contains multiple autograd Nodes is deprecated and will be removed in future versions. This hook will be missing some grad_input. Please use register_full_backward_hook to get the documented behavior.\n",
      "  warnings.warn(\"Using a non-full backward hook when the forward contains multiple autograd Nodes \"\n",
      "ic| len(new_valid_loader): 1\n"
     ]
    },
    {
     "name": "stdout",
     "output_type": "stream",
     "text": [
      "Loading model: /home/woody/iwb3/iwb3021h/NAS_COMPETITION_RESULTS/stages_pool/Gutenberg/golden_scorpion/config.yaml\n"
     ]
    },
    {
     "name": "stderr",
     "output_type": "stream",
     "text": [
      "ic| len(new_valid_loader): 1\n"
     ]
    },
    {
     "name": "stdout",
     "output_type": "stream",
     "text": [
      "Loading model: /home/woody/iwb3/iwb3021h/NAS_COMPETITION_RESULTS/stages_pool/Gutenberg/prudent_crab/config.yaml\n"
     ]
    },
    {
     "name": "stderr",
     "output_type": "stream",
     "text": [
      "ic| len(new_valid_loader): 1\n"
     ]
    },
    {
     "name": "stdout",
     "output_type": "stream",
     "text": [
      "Loading model: /home/woody/iwb3/iwb3021h/NAS_COMPETITION_RESULTS/stages_pool/Gutenberg/delectable_octopus/config.yaml\n"
     ]
    },
    {
     "name": "stderr",
     "output_type": "stream",
     "text": [
      "ic| len(new_valid_loader): 1\n"
     ]
    },
    {
     "name": "stdout",
     "output_type": "stream",
     "text": [
      "Loading model: /home/woody/iwb3/iwb3021h/NAS_COMPETITION_RESULTS/stages_pool/Gutenberg/juicy_uakari/config.yaml\n"
     ]
    },
    {
     "name": "stderr",
     "output_type": "stream",
     "text": [
      "ic| len(new_valid_loader): 1\n"
     ]
    },
    {
     "name": "stdout",
     "output_type": "stream",
     "text": [
      "Loading model: /home/woody/iwb3/iwb3021h/NAS_COMPETITION_RESULTS/stages_pool/Gutenberg/splendid_duck/config.yaml\n"
     ]
    },
    {
     "name": "stderr",
     "output_type": "stream",
     "text": [
      "ic| len(new_valid_loader): 1\n"
     ]
    },
    {
     "name": "stdout",
     "output_type": "stream",
     "text": [
      "Loading model: /home/woody/iwb3/iwb3021h/NAS_COMPETITION_RESULTS/stages_pool/Gutenberg/tidy_silkworm/config.yaml\n"
     ]
    },
    {
     "name": "stderr",
     "output_type": "stream",
     "text": [
      "ic| len(new_valid_loader): 1\n"
     ]
    },
    {
     "name": "stdout",
     "output_type": "stream",
     "text": [
      "Loading model: /home/woody/iwb3/iwb3021h/NAS_COMPETITION_RESULTS/stages_pool/Gutenberg/invaluable_leopard/config.yaml\n"
     ]
    },
    {
     "name": "stderr",
     "output_type": "stream",
     "text": [
      "ic| len(new_valid_loader): 1\n"
     ]
    },
    {
     "name": "stdout",
     "output_type": "stream",
     "text": [
      "Loading model: /home/woody/iwb3/iwb3021h/NAS_COMPETITION_RESULTS/stages_pool/Gutenberg/amphibian_copperhead/config.yaml\n"
     ]
    },
    {
     "name": "stderr",
     "output_type": "stream",
     "text": [
      "ic| len(new_valid_loader): 1\n"
     ]
    },
    {
     "name": "stdout",
     "output_type": "stream",
     "text": [
      "Loading model: /home/woody/iwb3/iwb3021h/NAS_COMPETITION_RESULTS/stages_pool/Gutenberg/mega_frog/config.yaml\n"
     ]
    },
    {
     "name": "stderr",
     "output_type": "stream",
     "text": [
      "ic| len(new_valid_loader): 1\n"
     ]
    },
    {
     "name": "stdout",
     "output_type": "stream",
     "text": [
      "Loading model: /home/woody/iwb3/iwb3021h/NAS_COMPETITION_RESULTS/stages_pool/Gutenberg/voracious_kagu/config.yaml\n"
     ]
    },
    {
     "name": "stderr",
     "output_type": "stream",
     "text": [
      "/apps/jupyterhub/jh3.1.1-py3.11/envs/pytorch-2.2.0/lib/python3.12/site-packages/torch/nn/modules/module.py:1352: UserWarning: Using a non-full backward hook when the forward contains multiple autograd Nodes is deprecated and will be removed in future versions. This hook will be missing some grad_input. Please use register_full_backward_hook to get the documented behavior.\n",
      "  warnings.warn(\"Using a non-full backward hook when the forward contains multiple autograd Nodes \"\n",
      "ic| len(new_valid_loader): 1\n"
     ]
    },
    {
     "name": "stdout",
     "output_type": "stream",
     "text": [
      "Loading model: /home/woody/iwb3/iwb3021h/NAS_COMPETITION_RESULTS/stages_pool/Gutenberg/golden_scorpion/config.yaml\n"
     ]
    },
    {
     "name": "stderr",
     "output_type": "stream",
     "text": [
      "ic| len(new_valid_loader): 1\n"
     ]
    },
    {
     "name": "stdout",
     "output_type": "stream",
     "text": [
      "Loading model: /home/woody/iwb3/iwb3021h/NAS_COMPETITION_RESULTS/stages_pool/Gutenberg/prudent_crab/config.yaml\n"
     ]
    },
    {
     "name": "stderr",
     "output_type": "stream",
     "text": [
      "ic| len(new_valid_loader): 1\n"
     ]
    },
    {
     "name": "stdout",
     "output_type": "stream",
     "text": [
      "Loading model: /home/woody/iwb3/iwb3021h/NAS_COMPETITION_RESULTS/stages_pool/Gutenberg/delectable_octopus/config.yaml\n"
     ]
    },
    {
     "name": "stderr",
     "output_type": "stream",
     "text": [
      "ic| len(new_valid_loader): 1\n"
     ]
    },
    {
     "name": "stdout",
     "output_type": "stream",
     "text": [
      "Loading model: /home/woody/iwb3/iwb3021h/NAS_COMPETITION_RESULTS/stages_pool/Gutenberg/juicy_uakari/config.yaml\n"
     ]
    },
    {
     "name": "stderr",
     "output_type": "stream",
     "text": [
      "ic| len(new_valid_loader): 1\n"
     ]
    },
    {
     "name": "stdout",
     "output_type": "stream",
     "text": [
      "Loading model: /home/woody/iwb3/iwb3021h/NAS_COMPETITION_RESULTS/stages_pool/Gutenberg/splendid_duck/config.yaml\n"
     ]
    },
    {
     "name": "stderr",
     "output_type": "stream",
     "text": [
      "ic| len(new_valid_loader): 1\n"
     ]
    },
    {
     "name": "stdout",
     "output_type": "stream",
     "text": [
      "Loading model: /home/woody/iwb3/iwb3021h/NAS_COMPETITION_RESULTS/stages_pool/Gutenberg/tidy_silkworm/config.yaml\n"
     ]
    },
    {
     "name": "stderr",
     "output_type": "stream",
     "text": [
      "ic| len(new_valid_loader): 1\n"
     ]
    },
    {
     "name": "stdout",
     "output_type": "stream",
     "text": [
      "Loading model: /home/woody/iwb3/iwb3021h/NAS_COMPETITION_RESULTS/stages_pool/Gutenberg/invaluable_leopard/config.yaml\n"
     ]
    },
    {
     "name": "stderr",
     "output_type": "stream",
     "text": [
      "ic| len(new_valid_loader): 1\n"
     ]
    },
    {
     "name": "stdout",
     "output_type": "stream",
     "text": [
      "Loading model: /home/woody/iwb3/iwb3021h/NAS_COMPETITION_RESULTS/stages_pool/Gutenberg/amphibian_copperhead/config.yaml\n"
     ]
    },
    {
     "name": "stderr",
     "output_type": "stream",
     "text": [
      "ic| len(new_valid_loader): 1\n"
     ]
    },
    {
     "name": "stdout",
     "output_type": "stream",
     "text": [
      "Loading model: /home/woody/iwb3/iwb3021h/NAS_COMPETITION_RESULTS/stages_pool/Gutenberg/mega_frog/config.yaml\n"
     ]
    },
    {
     "name": "stderr",
     "output_type": "stream",
     "text": [
      "ic| len(new_valid_loader): 1\n"
     ]
    },
    {
     "name": "stdout",
     "output_type": "stream",
     "text": [
      "Loading model: /home/woody/iwb3/iwb3021h/NAS_COMPETITION_RESULTS/stages_pool/Gutenberg/voracious_kagu/config.yaml\n"
     ]
    },
    {
     "name": "stderr",
     "output_type": "stream",
     "text": [
      "/apps/jupyterhub/jh3.1.1-py3.11/envs/pytorch-2.2.0/lib/python3.12/site-packages/torch/nn/modules/module.py:1352: UserWarning: Using a non-full backward hook when the forward contains multiple autograd Nodes is deprecated and will be removed in future versions. This hook will be missing some grad_input. Please use register_full_backward_hook to get the documented behavior.\n",
      "  warnings.warn(\"Using a non-full backward hook when the forward contains multiple autograd Nodes \"\n",
      "ic| len(new_valid_loader): 1\n"
     ]
    },
    {
     "name": "stdout",
     "output_type": "stream",
     "text": [
      "Loading model: /home/woody/iwb3/iwb3021h/NAS_COMPETITION_RESULTS/stages_pool/Gutenberg/golden_scorpion/config.yaml\n"
     ]
    },
    {
     "name": "stderr",
     "output_type": "stream",
     "text": [
      "ic| len(new_valid_loader): 1\n"
     ]
    },
    {
     "name": "stdout",
     "output_type": "stream",
     "text": [
      "Loading model: /home/woody/iwb3/iwb3021h/NAS_COMPETITION_RESULTS/stages_pool/Gutenberg/prudent_crab/config.yaml\n"
     ]
    },
    {
     "name": "stderr",
     "output_type": "stream",
     "text": [
      "ic| len(new_valid_loader): 1\n"
     ]
    },
    {
     "name": "stdout",
     "output_type": "stream",
     "text": [
      "Loading model: /home/woody/iwb3/iwb3021h/NAS_COMPETITION_RESULTS/stages_pool/Gutenberg/delectable_octopus/config.yaml\n"
     ]
    },
    {
     "name": "stderr",
     "output_type": "stream",
     "text": [
      "ic| len(new_valid_loader): 1\n"
     ]
    },
    {
     "name": "stdout",
     "output_type": "stream",
     "text": [
      "Loading model: /home/woody/iwb3/iwb3021h/NAS_COMPETITION_RESULTS/stages_pool/Gutenberg/juicy_uakari/config.yaml\n"
     ]
    },
    {
     "name": "stderr",
     "output_type": "stream",
     "text": [
      "ic| len(new_valid_loader): 1\n"
     ]
    },
    {
     "name": "stdout",
     "output_type": "stream",
     "text": [
      "Loading model: /home/woody/iwb3/iwb3021h/NAS_COMPETITION_RESULTS/stages_pool/Gutenberg/splendid_duck/config.yaml\n"
     ]
    },
    {
     "name": "stderr",
     "output_type": "stream",
     "text": [
      "ic| len(new_valid_loader): 1\n"
     ]
    },
    {
     "name": "stdout",
     "output_type": "stream",
     "text": [
      "Loading model: /home/woody/iwb3/iwb3021h/NAS_COMPETITION_RESULTS/stages_pool/Gutenberg/tidy_silkworm/config.yaml\n"
     ]
    },
    {
     "name": "stderr",
     "output_type": "stream",
     "text": [
      "ic| len(new_valid_loader): 1\n"
     ]
    },
    {
     "name": "stdout",
     "output_type": "stream",
     "text": [
      "Loading model: /home/woody/iwb3/iwb3021h/NAS_COMPETITION_RESULTS/stages_pool/Gutenberg/invaluable_leopard/config.yaml\n"
     ]
    },
    {
     "name": "stderr",
     "output_type": "stream",
     "text": [
      "ic| len(new_valid_loader): 1\n"
     ]
    },
    {
     "name": "stdout",
     "output_type": "stream",
     "text": [
      "Loading model: /home/woody/iwb3/iwb3021h/NAS_COMPETITION_RESULTS/stages_pool/Gutenberg/amphibian_copperhead/config.yaml\n"
     ]
    },
    {
     "name": "stderr",
     "output_type": "stream",
     "text": [
      "ic| len(new_valid_loader): 1\n"
     ]
    },
    {
     "name": "stdout",
     "output_type": "stream",
     "text": [
      "Loading model: /home/woody/iwb3/iwb3021h/NAS_COMPETITION_RESULTS/stages_pool/Gutenberg/mega_frog/config.yaml\n"
     ]
    },
    {
     "name": "stderr",
     "output_type": "stream",
     "text": [
      "ic| '#############'\n",
      "ic| aug: 1\n",
      "ic| train_loader.dataset.transform.transforms: [RandAugment(interpolation=InterpolationMode.NEAREST, num_ops=2, magnitude=9, num_magnitude_bins=31),\n",
      "                                                Normalize(mean=tensor([0.0370]), std=tensor([0.1889]))]\n",
      "ic| len(new_valid_loader): 1\n"
     ]
    },
    {
     "name": "stdout",
     "output_type": "stream",
     "text": [
      "Loading model: /home/woody/iwb3/iwb3021h/NAS_COMPETITION_RESULTS/stages_pool/Gutenberg/voracious_kagu/config.yaml\n"
     ]
    },
    {
     "name": "stderr",
     "output_type": "stream",
     "text": [
      "/apps/jupyterhub/jh3.1.1-py3.11/envs/pytorch-2.2.0/lib/python3.12/site-packages/torch/nn/modules/module.py:1352: UserWarning: Using a non-full backward hook when the forward contains multiple autograd Nodes is deprecated and will be removed in future versions. This hook will be missing some grad_input. Please use register_full_backward_hook to get the documented behavior.\n",
      "  warnings.warn(\"Using a non-full backward hook when the forward contains multiple autograd Nodes \"\n",
      "ic| len(new_valid_loader): 1\n"
     ]
    },
    {
     "name": "stdout",
     "output_type": "stream",
     "text": [
      "Loading model: /home/woody/iwb3/iwb3021h/NAS_COMPETITION_RESULTS/stages_pool/Gutenberg/golden_scorpion/config.yaml\n"
     ]
    },
    {
     "name": "stderr",
     "output_type": "stream",
     "text": [
      "ic| len(new_valid_loader): 1\n"
     ]
    },
    {
     "name": "stdout",
     "output_type": "stream",
     "text": [
      "Loading model: /home/woody/iwb3/iwb3021h/NAS_COMPETITION_RESULTS/stages_pool/Gutenberg/prudent_crab/config.yaml\n"
     ]
    },
    {
     "name": "stderr",
     "output_type": "stream",
     "text": [
      "ic| len(new_valid_loader): 1\n"
     ]
    },
    {
     "name": "stdout",
     "output_type": "stream",
     "text": [
      "Loading model: /home/woody/iwb3/iwb3021h/NAS_COMPETITION_RESULTS/stages_pool/Gutenberg/delectable_octopus/config.yaml\n"
     ]
    },
    {
     "name": "stderr",
     "output_type": "stream",
     "text": [
      "ic| len(new_valid_loader): 1\n"
     ]
    },
    {
     "name": "stdout",
     "output_type": "stream",
     "text": [
      "Loading model: /home/woody/iwb3/iwb3021h/NAS_COMPETITION_RESULTS/stages_pool/Gutenberg/juicy_uakari/config.yaml\n"
     ]
    },
    {
     "name": "stderr",
     "output_type": "stream",
     "text": [
      "ic| len(new_valid_loader): 1\n"
     ]
    },
    {
     "name": "stdout",
     "output_type": "stream",
     "text": [
      "Loading model: /home/woody/iwb3/iwb3021h/NAS_COMPETITION_RESULTS/stages_pool/Gutenberg/splendid_duck/config.yaml\n"
     ]
    },
    {
     "name": "stderr",
     "output_type": "stream",
     "text": [
      "ic| len(new_valid_loader): 1\n"
     ]
    },
    {
     "name": "stdout",
     "output_type": "stream",
     "text": [
      "Loading model: /home/woody/iwb3/iwb3021h/NAS_COMPETITION_RESULTS/stages_pool/Gutenberg/tidy_silkworm/config.yaml\n"
     ]
    },
    {
     "name": "stderr",
     "output_type": "stream",
     "text": [
      "ic| len(new_valid_loader): 1\n"
     ]
    },
    {
     "name": "stdout",
     "output_type": "stream",
     "text": [
      "Loading model: /home/woody/iwb3/iwb3021h/NAS_COMPETITION_RESULTS/stages_pool/Gutenberg/invaluable_leopard/config.yaml\n"
     ]
    },
    {
     "name": "stderr",
     "output_type": "stream",
     "text": [
      "ic| len(new_valid_loader): 1\n"
     ]
    },
    {
     "name": "stdout",
     "output_type": "stream",
     "text": [
      "Loading model: /home/woody/iwb3/iwb3021h/NAS_COMPETITION_RESULTS/stages_pool/Gutenberg/amphibian_copperhead/config.yaml\n"
     ]
    },
    {
     "name": "stderr",
     "output_type": "stream",
     "text": [
      "ic| len(new_valid_loader): 1\n"
     ]
    },
    {
     "name": "stdout",
     "output_type": "stream",
     "text": [
      "Loading model: /home/woody/iwb3/iwb3021h/NAS_COMPETITION_RESULTS/stages_pool/Gutenberg/mega_frog/config.yaml\n"
     ]
    },
    {
     "name": "stderr",
     "output_type": "stream",
     "text": [
      "ic| len(new_valid_loader): 1\n"
     ]
    },
    {
     "name": "stdout",
     "output_type": "stream",
     "text": [
      "Loading model: /home/woody/iwb3/iwb3021h/NAS_COMPETITION_RESULTS/stages_pool/Gutenberg/voracious_kagu/config.yaml\n"
     ]
    },
    {
     "name": "stderr",
     "output_type": "stream",
     "text": [
      "/apps/jupyterhub/jh3.1.1-py3.11/envs/pytorch-2.2.0/lib/python3.12/site-packages/torch/nn/modules/module.py:1352: UserWarning: Using a non-full backward hook when the forward contains multiple autograd Nodes is deprecated and will be removed in future versions. This hook will be missing some grad_input. Please use register_full_backward_hook to get the documented behavior.\n",
      "  warnings.warn(\"Using a non-full backward hook when the forward contains multiple autograd Nodes \"\n",
      "ic| len(new_valid_loader): 1\n"
     ]
    },
    {
     "name": "stdout",
     "output_type": "stream",
     "text": [
      "Loading model: /home/woody/iwb3/iwb3021h/NAS_COMPETITION_RESULTS/stages_pool/Gutenberg/golden_scorpion/config.yaml\n"
     ]
    },
    {
     "name": "stderr",
     "output_type": "stream",
     "text": [
      "ic| len(new_valid_loader): 1\n"
     ]
    },
    {
     "name": "stdout",
     "output_type": "stream",
     "text": [
      "Loading model: /home/woody/iwb3/iwb3021h/NAS_COMPETITION_RESULTS/stages_pool/Gutenberg/prudent_crab/config.yaml\n"
     ]
    },
    {
     "name": "stderr",
     "output_type": "stream",
     "text": [
      "ic| len(new_valid_loader): 1\n"
     ]
    },
    {
     "name": "stdout",
     "output_type": "stream",
     "text": [
      "Loading model: /home/woody/iwb3/iwb3021h/NAS_COMPETITION_RESULTS/stages_pool/Gutenberg/delectable_octopus/config.yaml\n"
     ]
    },
    {
     "name": "stderr",
     "output_type": "stream",
     "text": [
      "ic| len(new_valid_loader): 1\n"
     ]
    },
    {
     "name": "stdout",
     "output_type": "stream",
     "text": [
      "Loading model: /home/woody/iwb3/iwb3021h/NAS_COMPETITION_RESULTS/stages_pool/Gutenberg/juicy_uakari/config.yaml\n"
     ]
    },
    {
     "name": "stderr",
     "output_type": "stream",
     "text": [
      "ic| len(new_valid_loader): 1\n"
     ]
    },
    {
     "name": "stdout",
     "output_type": "stream",
     "text": [
      "Loading model: /home/woody/iwb3/iwb3021h/NAS_COMPETITION_RESULTS/stages_pool/Gutenberg/splendid_duck/config.yaml\n"
     ]
    },
    {
     "name": "stderr",
     "output_type": "stream",
     "text": [
      "ic| len(new_valid_loader): 1\n"
     ]
    },
    {
     "name": "stdout",
     "output_type": "stream",
     "text": [
      "Loading model: /home/woody/iwb3/iwb3021h/NAS_COMPETITION_RESULTS/stages_pool/Gutenberg/tidy_silkworm/config.yaml\n"
     ]
    },
    {
     "name": "stderr",
     "output_type": "stream",
     "text": [
      "ic| len(new_valid_loader): 1\n"
     ]
    },
    {
     "name": "stdout",
     "output_type": "stream",
     "text": [
      "Loading model: /home/woody/iwb3/iwb3021h/NAS_COMPETITION_RESULTS/stages_pool/Gutenberg/invaluable_leopard/config.yaml\n"
     ]
    },
    {
     "name": "stderr",
     "output_type": "stream",
     "text": [
      "ic| len(new_valid_loader): 1\n"
     ]
    },
    {
     "name": "stdout",
     "output_type": "stream",
     "text": [
      "Loading model: /home/woody/iwb3/iwb3021h/NAS_COMPETITION_RESULTS/stages_pool/Gutenberg/amphibian_copperhead/config.yaml\n"
     ]
    },
    {
     "name": "stderr",
     "output_type": "stream",
     "text": [
      "ic| len(new_valid_loader): 1\n"
     ]
    },
    {
     "name": "stdout",
     "output_type": "stream",
     "text": [
      "Loading model: /home/woody/iwb3/iwb3021h/NAS_COMPETITION_RESULTS/stages_pool/Gutenberg/mega_frog/config.yaml\n"
     ]
    },
    {
     "name": "stderr",
     "output_type": "stream",
     "text": [
      "ic| len(new_valid_loader): 1\n"
     ]
    },
    {
     "name": "stdout",
     "output_type": "stream",
     "text": [
      "Loading model: /home/woody/iwb3/iwb3021h/NAS_COMPETITION_RESULTS/stages_pool/Gutenberg/voracious_kagu/config.yaml\n"
     ]
    },
    {
     "name": "stderr",
     "output_type": "stream",
     "text": [
      "/apps/jupyterhub/jh3.1.1-py3.11/envs/pytorch-2.2.0/lib/python3.12/site-packages/torch/nn/modules/module.py:1352: UserWarning: Using a non-full backward hook when the forward contains multiple autograd Nodes is deprecated and will be removed in future versions. This hook will be missing some grad_input. Please use register_full_backward_hook to get the documented behavior.\n",
      "  warnings.warn(\"Using a non-full backward hook when the forward contains multiple autograd Nodes \"\n",
      "ic| len(new_valid_loader): 1\n"
     ]
    },
    {
     "name": "stdout",
     "output_type": "stream",
     "text": [
      "Loading model: /home/woody/iwb3/iwb3021h/NAS_COMPETITION_RESULTS/stages_pool/Gutenberg/golden_scorpion/config.yaml\n"
     ]
    },
    {
     "name": "stderr",
     "output_type": "stream",
     "text": [
      "ic| len(new_valid_loader): 1\n"
     ]
    },
    {
     "name": "stdout",
     "output_type": "stream",
     "text": [
      "Loading model: /home/woody/iwb3/iwb3021h/NAS_COMPETITION_RESULTS/stages_pool/Gutenberg/prudent_crab/config.yaml\n"
     ]
    },
    {
     "name": "stderr",
     "output_type": "stream",
     "text": [
      "ic| len(new_valid_loader): 1\n"
     ]
    },
    {
     "name": "stdout",
     "output_type": "stream",
     "text": [
      "Loading model: /home/woody/iwb3/iwb3021h/NAS_COMPETITION_RESULTS/stages_pool/Gutenberg/delectable_octopus/config.yaml\n"
     ]
    },
    {
     "name": "stderr",
     "output_type": "stream",
     "text": [
      "ic| len(new_valid_loader): 1\n"
     ]
    },
    {
     "name": "stdout",
     "output_type": "stream",
     "text": [
      "Loading model: /home/woody/iwb3/iwb3021h/NAS_COMPETITION_RESULTS/stages_pool/Gutenberg/juicy_uakari/config.yaml\n"
     ]
    },
    {
     "name": "stderr",
     "output_type": "stream",
     "text": [
      "ic| len(new_valid_loader): 1\n"
     ]
    },
    {
     "name": "stdout",
     "output_type": "stream",
     "text": [
      "Loading model: /home/woody/iwb3/iwb3021h/NAS_COMPETITION_RESULTS/stages_pool/Gutenberg/splendid_duck/config.yaml\n"
     ]
    },
    {
     "name": "stderr",
     "output_type": "stream",
     "text": [
      "ic| len(new_valid_loader): 1\n"
     ]
    },
    {
     "name": "stdout",
     "output_type": "stream",
     "text": [
      "Loading model: /home/woody/iwb3/iwb3021h/NAS_COMPETITION_RESULTS/stages_pool/Gutenberg/tidy_silkworm/config.yaml\n"
     ]
    },
    {
     "name": "stderr",
     "output_type": "stream",
     "text": [
      "ic| len(new_valid_loader): 1\n"
     ]
    },
    {
     "name": "stdout",
     "output_type": "stream",
     "text": [
      "Loading model: /home/woody/iwb3/iwb3021h/NAS_COMPETITION_RESULTS/stages_pool/Gutenberg/invaluable_leopard/config.yaml\n"
     ]
    },
    {
     "name": "stderr",
     "output_type": "stream",
     "text": [
      "ic| len(new_valid_loader): 1\n"
     ]
    },
    {
     "name": "stdout",
     "output_type": "stream",
     "text": [
      "Loading model: /home/woody/iwb3/iwb3021h/NAS_COMPETITION_RESULTS/stages_pool/Gutenberg/amphibian_copperhead/config.yaml\n"
     ]
    },
    {
     "name": "stderr",
     "output_type": "stream",
     "text": [
      "ic| len(new_valid_loader): 1\n"
     ]
    },
    {
     "name": "stdout",
     "output_type": "stream",
     "text": [
      "Loading model: /home/woody/iwb3/iwb3021h/NAS_COMPETITION_RESULTS/stages_pool/Gutenberg/mega_frog/config.yaml\n"
     ]
    },
    {
     "name": "stderr",
     "output_type": "stream",
     "text": [
      "ic| len(new_valid_loader): 1\n"
     ]
    },
    {
     "name": "stdout",
     "output_type": "stream",
     "text": [
      "Loading model: /home/woody/iwb3/iwb3021h/NAS_COMPETITION_RESULTS/stages_pool/Gutenberg/voracious_kagu/config.yaml\n"
     ]
    },
    {
     "name": "stderr",
     "output_type": "stream",
     "text": [
      "/apps/jupyterhub/jh3.1.1-py3.11/envs/pytorch-2.2.0/lib/python3.12/site-packages/torch/nn/modules/module.py:1352: UserWarning: Using a non-full backward hook when the forward contains multiple autograd Nodes is deprecated and will be removed in future versions. This hook will be missing some grad_input. Please use register_full_backward_hook to get the documented behavior.\n",
      "  warnings.warn(\"Using a non-full backward hook when the forward contains multiple autograd Nodes \"\n",
      "ic| len(new_valid_loader): 1\n"
     ]
    },
    {
     "name": "stdout",
     "output_type": "stream",
     "text": [
      "Loading model: /home/woody/iwb3/iwb3021h/NAS_COMPETITION_RESULTS/stages_pool/Gutenberg/golden_scorpion/config.yaml\n"
     ]
    },
    {
     "name": "stderr",
     "output_type": "stream",
     "text": [
      "ic| len(new_valid_loader): 1\n"
     ]
    },
    {
     "name": "stdout",
     "output_type": "stream",
     "text": [
      "Loading model: /home/woody/iwb3/iwb3021h/NAS_COMPETITION_RESULTS/stages_pool/Gutenberg/prudent_crab/config.yaml\n"
     ]
    },
    {
     "name": "stderr",
     "output_type": "stream",
     "text": [
      "ic| len(new_valid_loader): 1\n"
     ]
    },
    {
     "name": "stdout",
     "output_type": "stream",
     "text": [
      "Loading model: /home/woody/iwb3/iwb3021h/NAS_COMPETITION_RESULTS/stages_pool/Gutenberg/delectable_octopus/config.yaml\n"
     ]
    },
    {
     "name": "stderr",
     "output_type": "stream",
     "text": [
      "ic| len(new_valid_loader): 1\n"
     ]
    },
    {
     "name": "stdout",
     "output_type": "stream",
     "text": [
      "Loading model: /home/woody/iwb3/iwb3021h/NAS_COMPETITION_RESULTS/stages_pool/Gutenberg/juicy_uakari/config.yaml\n"
     ]
    },
    {
     "name": "stderr",
     "output_type": "stream",
     "text": [
      "ic| len(new_valid_loader): 1\n"
     ]
    },
    {
     "name": "stdout",
     "output_type": "stream",
     "text": [
      "Loading model: /home/woody/iwb3/iwb3021h/NAS_COMPETITION_RESULTS/stages_pool/Gutenberg/splendid_duck/config.yaml\n"
     ]
    },
    {
     "name": "stderr",
     "output_type": "stream",
     "text": [
      "ic| len(new_valid_loader): 1\n"
     ]
    },
    {
     "name": "stdout",
     "output_type": "stream",
     "text": [
      "Loading model: /home/woody/iwb3/iwb3021h/NAS_COMPETITION_RESULTS/stages_pool/Gutenberg/tidy_silkworm/config.yaml\n"
     ]
    },
    {
     "name": "stderr",
     "output_type": "stream",
     "text": [
      "ic| len(new_valid_loader): 1\n"
     ]
    },
    {
     "name": "stdout",
     "output_type": "stream",
     "text": [
      "Loading model: /home/woody/iwb3/iwb3021h/NAS_COMPETITION_RESULTS/stages_pool/Gutenberg/invaluable_leopard/config.yaml\n"
     ]
    },
    {
     "name": "stderr",
     "output_type": "stream",
     "text": [
      "ic| len(new_valid_loader): 1\n"
     ]
    },
    {
     "name": "stdout",
     "output_type": "stream",
     "text": [
      "Loading model: /home/woody/iwb3/iwb3021h/NAS_COMPETITION_RESULTS/stages_pool/Gutenberg/amphibian_copperhead/config.yaml\n"
     ]
    },
    {
     "name": "stderr",
     "output_type": "stream",
     "text": [
      "ic| len(new_valid_loader): 1\n"
     ]
    },
    {
     "name": "stdout",
     "output_type": "stream",
     "text": [
      "Loading model: /home/woody/iwb3/iwb3021h/NAS_COMPETITION_RESULTS/stages_pool/Gutenberg/mega_frog/config.yaml\n"
     ]
    },
    {
     "name": "stderr",
     "output_type": "stream",
     "text": [
      "ic| len(new_valid_loader): 1\n"
     ]
    },
    {
     "name": "stdout",
     "output_type": "stream",
     "text": [
      "Loading model: /home/woody/iwb3/iwb3021h/NAS_COMPETITION_RESULTS/stages_pool/Gutenberg/voracious_kagu/config.yaml\n"
     ]
    },
    {
     "name": "stderr",
     "output_type": "stream",
     "text": [
      "/apps/jupyterhub/jh3.1.1-py3.11/envs/pytorch-2.2.0/lib/python3.12/site-packages/torch/nn/modules/module.py:1352: UserWarning: Using a non-full backward hook when the forward contains multiple autograd Nodes is deprecated and will be removed in future versions. This hook will be missing some grad_input. Please use register_full_backward_hook to get the documented behavior.\n",
      "  warnings.warn(\"Using a non-full backward hook when the forward contains multiple autograd Nodes \"\n",
      "ic| len(new_valid_loader): 1\n"
     ]
    },
    {
     "name": "stdout",
     "output_type": "stream",
     "text": [
      "Loading model: /home/woody/iwb3/iwb3021h/NAS_COMPETITION_RESULTS/stages_pool/Gutenberg/golden_scorpion/config.yaml\n"
     ]
    },
    {
     "name": "stderr",
     "output_type": "stream",
     "text": [
      "ic| len(new_valid_loader): 1\n"
     ]
    },
    {
     "name": "stdout",
     "output_type": "stream",
     "text": [
      "Loading model: /home/woody/iwb3/iwb3021h/NAS_COMPETITION_RESULTS/stages_pool/Gutenberg/prudent_crab/config.yaml\n"
     ]
    },
    {
     "name": "stderr",
     "output_type": "stream",
     "text": [
      "ic| len(new_valid_loader): 1\n"
     ]
    },
    {
     "name": "stdout",
     "output_type": "stream",
     "text": [
      "Loading model: /home/woody/iwb3/iwb3021h/NAS_COMPETITION_RESULTS/stages_pool/Gutenberg/delectable_octopus/config.yaml\n"
     ]
    },
    {
     "name": "stderr",
     "output_type": "stream",
     "text": [
      "ic| len(new_valid_loader): 1\n"
     ]
    },
    {
     "name": "stdout",
     "output_type": "stream",
     "text": [
      "Loading model: /home/woody/iwb3/iwb3021h/NAS_COMPETITION_RESULTS/stages_pool/Gutenberg/juicy_uakari/config.yaml\n"
     ]
    },
    {
     "name": "stderr",
     "output_type": "stream",
     "text": [
      "ic| len(new_valid_loader): 1\n"
     ]
    },
    {
     "name": "stdout",
     "output_type": "stream",
     "text": [
      "Loading model: /home/woody/iwb3/iwb3021h/NAS_COMPETITION_RESULTS/stages_pool/Gutenberg/splendid_duck/config.yaml\n"
     ]
    },
    {
     "name": "stderr",
     "output_type": "stream",
     "text": [
      "ic| len(new_valid_loader): 1\n"
     ]
    },
    {
     "name": "stdout",
     "output_type": "stream",
     "text": [
      "Loading model: /home/woody/iwb3/iwb3021h/NAS_COMPETITION_RESULTS/stages_pool/Gutenberg/tidy_silkworm/config.yaml\n"
     ]
    },
    {
     "name": "stderr",
     "output_type": "stream",
     "text": [
      "ic| len(new_valid_loader): 1\n"
     ]
    },
    {
     "name": "stdout",
     "output_type": "stream",
     "text": [
      "Loading model: /home/woody/iwb3/iwb3021h/NAS_COMPETITION_RESULTS/stages_pool/Gutenberg/invaluable_leopard/config.yaml\n"
     ]
    },
    {
     "name": "stderr",
     "output_type": "stream",
     "text": [
      "ic| len(new_valid_loader): 1\n"
     ]
    },
    {
     "name": "stdout",
     "output_type": "stream",
     "text": [
      "Loading model: /home/woody/iwb3/iwb3021h/NAS_COMPETITION_RESULTS/stages_pool/Gutenberg/amphibian_copperhead/config.yaml\n"
     ]
    },
    {
     "name": "stderr",
     "output_type": "stream",
     "text": [
      "ic| len(new_valid_loader): 1\n"
     ]
    },
    {
     "name": "stdout",
     "output_type": "stream",
     "text": [
      "Loading model: /home/woody/iwb3/iwb3021h/NAS_COMPETITION_RESULTS/stages_pool/Gutenberg/mega_frog/config.yaml\n"
     ]
    },
    {
     "name": "stderr",
     "output_type": "stream",
     "text": [
      "ic| '#############'\n",
      "ic| aug: 2\n",
      "ic| train_loader.dataset.transform.transforms: [RandAugment(interpolation=InterpolationMode.NEAREST, num_ops=2, magnitude=5, num_magnitude_bins=31),\n",
      "                                                Normalize(mean=tensor([0.0370]), std=tensor([0.1889]))]\n",
      "ic| len(new_valid_loader): 1\n"
     ]
    },
    {
     "name": "stdout",
     "output_type": "stream",
     "text": [
      "Loading model: /home/woody/iwb3/iwb3021h/NAS_COMPETITION_RESULTS/stages_pool/Gutenberg/voracious_kagu/config.yaml\n"
     ]
    },
    {
     "name": "stderr",
     "output_type": "stream",
     "text": [
      "/apps/jupyterhub/jh3.1.1-py3.11/envs/pytorch-2.2.0/lib/python3.12/site-packages/torch/nn/modules/module.py:1352: UserWarning: Using a non-full backward hook when the forward contains multiple autograd Nodes is deprecated and will be removed in future versions. This hook will be missing some grad_input. Please use register_full_backward_hook to get the documented behavior.\n",
      "  warnings.warn(\"Using a non-full backward hook when the forward contains multiple autograd Nodes \"\n",
      "ic| len(new_valid_loader): 1\n"
     ]
    },
    {
     "name": "stdout",
     "output_type": "stream",
     "text": [
      "Loading model: /home/woody/iwb3/iwb3021h/NAS_COMPETITION_RESULTS/stages_pool/Gutenberg/golden_scorpion/config.yaml\n"
     ]
    },
    {
     "name": "stderr",
     "output_type": "stream",
     "text": [
      "ic| len(new_valid_loader): 1\n"
     ]
    },
    {
     "name": "stdout",
     "output_type": "stream",
     "text": [
      "Loading model: /home/woody/iwb3/iwb3021h/NAS_COMPETITION_RESULTS/stages_pool/Gutenberg/prudent_crab/config.yaml\n"
     ]
    },
    {
     "name": "stderr",
     "output_type": "stream",
     "text": [
      "ic| len(new_valid_loader): 1\n"
     ]
    },
    {
     "name": "stdout",
     "output_type": "stream",
     "text": [
      "Loading model: /home/woody/iwb3/iwb3021h/NAS_COMPETITION_RESULTS/stages_pool/Gutenberg/delectable_octopus/config.yaml\n"
     ]
    },
    {
     "name": "stderr",
     "output_type": "stream",
     "text": [
      "ic| len(new_valid_loader): 1\n"
     ]
    },
    {
     "name": "stdout",
     "output_type": "stream",
     "text": [
      "Loading model: /home/woody/iwb3/iwb3021h/NAS_COMPETITION_RESULTS/stages_pool/Gutenberg/juicy_uakari/config.yaml\n"
     ]
    },
    {
     "name": "stderr",
     "output_type": "stream",
     "text": [
      "ic| len(new_valid_loader): 1\n"
     ]
    },
    {
     "name": "stdout",
     "output_type": "stream",
     "text": [
      "Loading model: /home/woody/iwb3/iwb3021h/NAS_COMPETITION_RESULTS/stages_pool/Gutenberg/splendid_duck/config.yaml\n"
     ]
    },
    {
     "name": "stderr",
     "output_type": "stream",
     "text": [
      "ic| len(new_valid_loader): 1\n"
     ]
    },
    {
     "name": "stdout",
     "output_type": "stream",
     "text": [
      "Loading model: /home/woody/iwb3/iwb3021h/NAS_COMPETITION_RESULTS/stages_pool/Gutenberg/tidy_silkworm/config.yaml\n"
     ]
    },
    {
     "name": "stderr",
     "output_type": "stream",
     "text": [
      "ic| len(new_valid_loader): 1\n"
     ]
    },
    {
     "name": "stdout",
     "output_type": "stream",
     "text": [
      "Loading model: /home/woody/iwb3/iwb3021h/NAS_COMPETITION_RESULTS/stages_pool/Gutenberg/invaluable_leopard/config.yaml\n"
     ]
    },
    {
     "name": "stderr",
     "output_type": "stream",
     "text": [
      "ic| len(new_valid_loader): 1\n"
     ]
    },
    {
     "name": "stdout",
     "output_type": "stream",
     "text": [
      "Loading model: /home/woody/iwb3/iwb3021h/NAS_COMPETITION_RESULTS/stages_pool/Gutenberg/amphibian_copperhead/config.yaml\n"
     ]
    },
    {
     "name": "stderr",
     "output_type": "stream",
     "text": [
      "ic| len(new_valid_loader): 1\n"
     ]
    },
    {
     "name": "stdout",
     "output_type": "stream",
     "text": [
      "Loading model: /home/woody/iwb3/iwb3021h/NAS_COMPETITION_RESULTS/stages_pool/Gutenberg/mega_frog/config.yaml\n"
     ]
    },
    {
     "name": "stderr",
     "output_type": "stream",
     "text": [
      "ic| len(new_valid_loader): 1\n"
     ]
    },
    {
     "name": "stdout",
     "output_type": "stream",
     "text": [
      "Loading model: /home/woody/iwb3/iwb3021h/NAS_COMPETITION_RESULTS/stages_pool/Gutenberg/voracious_kagu/config.yaml\n"
     ]
    },
    {
     "name": "stderr",
     "output_type": "stream",
     "text": [
      "/apps/jupyterhub/jh3.1.1-py3.11/envs/pytorch-2.2.0/lib/python3.12/site-packages/torch/nn/modules/module.py:1352: UserWarning: Using a non-full backward hook when the forward contains multiple autograd Nodes is deprecated and will be removed in future versions. This hook will be missing some grad_input. Please use register_full_backward_hook to get the documented behavior.\n",
      "  warnings.warn(\"Using a non-full backward hook when the forward contains multiple autograd Nodes \"\n",
      "ic| len(new_valid_loader): 1\n"
     ]
    },
    {
     "name": "stdout",
     "output_type": "stream",
     "text": [
      "Loading model: /home/woody/iwb3/iwb3021h/NAS_COMPETITION_RESULTS/stages_pool/Gutenberg/golden_scorpion/config.yaml\n"
     ]
    },
    {
     "name": "stderr",
     "output_type": "stream",
     "text": [
      "ic| len(new_valid_loader): 1\n"
     ]
    },
    {
     "name": "stdout",
     "output_type": "stream",
     "text": [
      "Loading model: /home/woody/iwb3/iwb3021h/NAS_COMPETITION_RESULTS/stages_pool/Gutenberg/prudent_crab/config.yaml\n"
     ]
    },
    {
     "name": "stderr",
     "output_type": "stream",
     "text": [
      "ic| len(new_valid_loader): 1\n"
     ]
    },
    {
     "name": "stdout",
     "output_type": "stream",
     "text": [
      "Loading model: /home/woody/iwb3/iwb3021h/NAS_COMPETITION_RESULTS/stages_pool/Gutenberg/delectable_octopus/config.yaml\n"
     ]
    },
    {
     "name": "stderr",
     "output_type": "stream",
     "text": [
      "ic| len(new_valid_loader): 1\n"
     ]
    },
    {
     "name": "stdout",
     "output_type": "stream",
     "text": [
      "Loading model: /home/woody/iwb3/iwb3021h/NAS_COMPETITION_RESULTS/stages_pool/Gutenberg/juicy_uakari/config.yaml\n"
     ]
    },
    {
     "name": "stderr",
     "output_type": "stream",
     "text": [
      "ic| len(new_valid_loader): 1\n"
     ]
    },
    {
     "name": "stdout",
     "output_type": "stream",
     "text": [
      "Loading model: /home/woody/iwb3/iwb3021h/NAS_COMPETITION_RESULTS/stages_pool/Gutenberg/splendid_duck/config.yaml\n"
     ]
    },
    {
     "name": "stderr",
     "output_type": "stream",
     "text": [
      "ic| len(new_valid_loader): 1\n"
     ]
    },
    {
     "name": "stdout",
     "output_type": "stream",
     "text": [
      "Loading model: /home/woody/iwb3/iwb3021h/NAS_COMPETITION_RESULTS/stages_pool/Gutenberg/tidy_silkworm/config.yaml\n"
     ]
    },
    {
     "name": "stderr",
     "output_type": "stream",
     "text": [
      "ic| len(new_valid_loader): 1\n"
     ]
    },
    {
     "name": "stdout",
     "output_type": "stream",
     "text": [
      "Loading model: /home/woody/iwb3/iwb3021h/NAS_COMPETITION_RESULTS/stages_pool/Gutenberg/invaluable_leopard/config.yaml\n"
     ]
    },
    {
     "name": "stderr",
     "output_type": "stream",
     "text": [
      "ic| len(new_valid_loader): 1\n"
     ]
    },
    {
     "name": "stdout",
     "output_type": "stream",
     "text": [
      "Loading model: /home/woody/iwb3/iwb3021h/NAS_COMPETITION_RESULTS/stages_pool/Gutenberg/amphibian_copperhead/config.yaml\n"
     ]
    },
    {
     "name": "stderr",
     "output_type": "stream",
     "text": [
      "ic| len(new_valid_loader): 1\n"
     ]
    },
    {
     "name": "stdout",
     "output_type": "stream",
     "text": [
      "Loading model: /home/woody/iwb3/iwb3021h/NAS_COMPETITION_RESULTS/stages_pool/Gutenberg/mega_frog/config.yaml\n"
     ]
    },
    {
     "name": "stderr",
     "output_type": "stream",
     "text": [
      "ic| len(new_valid_loader): 1\n"
     ]
    },
    {
     "name": "stdout",
     "output_type": "stream",
     "text": [
      "Loading model: /home/woody/iwb3/iwb3021h/NAS_COMPETITION_RESULTS/stages_pool/Gutenberg/voracious_kagu/config.yaml\n"
     ]
    },
    {
     "name": "stderr",
     "output_type": "stream",
     "text": [
      "/apps/jupyterhub/jh3.1.1-py3.11/envs/pytorch-2.2.0/lib/python3.12/site-packages/torch/nn/modules/module.py:1352: UserWarning: Using a non-full backward hook when the forward contains multiple autograd Nodes is deprecated and will be removed in future versions. This hook will be missing some grad_input. Please use register_full_backward_hook to get the documented behavior.\n",
      "  warnings.warn(\"Using a non-full backward hook when the forward contains multiple autograd Nodes \"\n",
      "ic| len(new_valid_loader): 1\n"
     ]
    },
    {
     "name": "stdout",
     "output_type": "stream",
     "text": [
      "Loading model: /home/woody/iwb3/iwb3021h/NAS_COMPETITION_RESULTS/stages_pool/Gutenberg/golden_scorpion/config.yaml\n"
     ]
    },
    {
     "name": "stderr",
     "output_type": "stream",
     "text": [
      "ic| len(new_valid_loader): 1\n"
     ]
    },
    {
     "name": "stdout",
     "output_type": "stream",
     "text": [
      "Loading model: /home/woody/iwb3/iwb3021h/NAS_COMPETITION_RESULTS/stages_pool/Gutenberg/prudent_crab/config.yaml\n"
     ]
    },
    {
     "name": "stderr",
     "output_type": "stream",
     "text": [
      "ic| len(new_valid_loader): 1\n"
     ]
    },
    {
     "name": "stdout",
     "output_type": "stream",
     "text": [
      "Loading model: /home/woody/iwb3/iwb3021h/NAS_COMPETITION_RESULTS/stages_pool/Gutenberg/delectable_octopus/config.yaml\n"
     ]
    },
    {
     "name": "stderr",
     "output_type": "stream",
     "text": [
      "ic| len(new_valid_loader): 1\n"
     ]
    },
    {
     "name": "stdout",
     "output_type": "stream",
     "text": [
      "Loading model: /home/woody/iwb3/iwb3021h/NAS_COMPETITION_RESULTS/stages_pool/Gutenberg/juicy_uakari/config.yaml\n"
     ]
    },
    {
     "name": "stderr",
     "output_type": "stream",
     "text": [
      "ic| len(new_valid_loader): 1\n"
     ]
    },
    {
     "name": "stdout",
     "output_type": "stream",
     "text": [
      "Loading model: /home/woody/iwb3/iwb3021h/NAS_COMPETITION_RESULTS/stages_pool/Gutenberg/splendid_duck/config.yaml\n"
     ]
    },
    {
     "name": "stderr",
     "output_type": "stream",
     "text": [
      "ic| len(new_valid_loader): 1\n"
     ]
    },
    {
     "name": "stdout",
     "output_type": "stream",
     "text": [
      "Loading model: /home/woody/iwb3/iwb3021h/NAS_COMPETITION_RESULTS/stages_pool/Gutenberg/tidy_silkworm/config.yaml\n"
     ]
    },
    {
     "name": "stderr",
     "output_type": "stream",
     "text": [
      "ic| len(new_valid_loader): 1\n"
     ]
    },
    {
     "name": "stdout",
     "output_type": "stream",
     "text": [
      "Loading model: /home/woody/iwb3/iwb3021h/NAS_COMPETITION_RESULTS/stages_pool/Gutenberg/invaluable_leopard/config.yaml\n"
     ]
    },
    {
     "name": "stderr",
     "output_type": "stream",
     "text": [
      "ic| len(new_valid_loader): 1\n"
     ]
    },
    {
     "name": "stdout",
     "output_type": "stream",
     "text": [
      "Loading model: /home/woody/iwb3/iwb3021h/NAS_COMPETITION_RESULTS/stages_pool/Gutenberg/amphibian_copperhead/config.yaml\n"
     ]
    },
    {
     "name": "stderr",
     "output_type": "stream",
     "text": [
      "ic| len(new_valid_loader): 1\n"
     ]
    },
    {
     "name": "stdout",
     "output_type": "stream",
     "text": [
      "Loading model: /home/woody/iwb3/iwb3021h/NAS_COMPETITION_RESULTS/stages_pool/Gutenberg/mega_frog/config.yaml\n"
     ]
    },
    {
     "name": "stderr",
     "output_type": "stream",
     "text": [
      "ic| len(new_valid_loader): 1\n"
     ]
    },
    {
     "name": "stdout",
     "output_type": "stream",
     "text": [
      "Loading model: /home/woody/iwb3/iwb3021h/NAS_COMPETITION_RESULTS/stages_pool/Gutenberg/voracious_kagu/config.yaml\n"
     ]
    },
    {
     "name": "stderr",
     "output_type": "stream",
     "text": [
      "/apps/jupyterhub/jh3.1.1-py3.11/envs/pytorch-2.2.0/lib/python3.12/site-packages/torch/nn/modules/module.py:1352: UserWarning: Using a non-full backward hook when the forward contains multiple autograd Nodes is deprecated and will be removed in future versions. This hook will be missing some grad_input. Please use register_full_backward_hook to get the documented behavior.\n",
      "  warnings.warn(\"Using a non-full backward hook when the forward contains multiple autograd Nodes \"\n",
      "ic| len(new_valid_loader): 1\n"
     ]
    },
    {
     "name": "stdout",
     "output_type": "stream",
     "text": [
      "Loading model: /home/woody/iwb3/iwb3021h/NAS_COMPETITION_RESULTS/stages_pool/Gutenberg/golden_scorpion/config.yaml\n"
     ]
    },
    {
     "name": "stderr",
     "output_type": "stream",
     "text": [
      "ic| len(new_valid_loader): 1\n"
     ]
    },
    {
     "name": "stdout",
     "output_type": "stream",
     "text": [
      "Loading model: /home/woody/iwb3/iwb3021h/NAS_COMPETITION_RESULTS/stages_pool/Gutenberg/prudent_crab/config.yaml\n"
     ]
    },
    {
     "name": "stderr",
     "output_type": "stream",
     "text": [
      "ic| len(new_valid_loader): 1\n"
     ]
    },
    {
     "name": "stdout",
     "output_type": "stream",
     "text": [
      "Loading model: /home/woody/iwb3/iwb3021h/NAS_COMPETITION_RESULTS/stages_pool/Gutenberg/delectable_octopus/config.yaml\n"
     ]
    },
    {
     "name": "stderr",
     "output_type": "stream",
     "text": [
      "ic| len(new_valid_loader): 1\n"
     ]
    },
    {
     "name": "stdout",
     "output_type": "stream",
     "text": [
      "Loading model: /home/woody/iwb3/iwb3021h/NAS_COMPETITION_RESULTS/stages_pool/Gutenberg/juicy_uakari/config.yaml\n"
     ]
    },
    {
     "name": "stderr",
     "output_type": "stream",
     "text": [
      "ic| len(new_valid_loader): 1\n"
     ]
    },
    {
     "name": "stdout",
     "output_type": "stream",
     "text": [
      "Loading model: /home/woody/iwb3/iwb3021h/NAS_COMPETITION_RESULTS/stages_pool/Gutenberg/splendid_duck/config.yaml\n"
     ]
    },
    {
     "name": "stderr",
     "output_type": "stream",
     "text": [
      "ic| len(new_valid_loader): 1\n"
     ]
    },
    {
     "name": "stdout",
     "output_type": "stream",
     "text": [
      "Loading model: /home/woody/iwb3/iwb3021h/NAS_COMPETITION_RESULTS/stages_pool/Gutenberg/tidy_silkworm/config.yaml\n"
     ]
    },
    {
     "name": "stderr",
     "output_type": "stream",
     "text": [
      "ic| len(new_valid_loader): 1\n"
     ]
    },
    {
     "name": "stdout",
     "output_type": "stream",
     "text": [
      "Loading model: /home/woody/iwb3/iwb3021h/NAS_COMPETITION_RESULTS/stages_pool/Gutenberg/invaluable_leopard/config.yaml\n"
     ]
    },
    {
     "name": "stderr",
     "output_type": "stream",
     "text": [
      "ic| len(new_valid_loader): 1\n"
     ]
    },
    {
     "name": "stdout",
     "output_type": "stream",
     "text": [
      "Loading model: /home/woody/iwb3/iwb3021h/NAS_COMPETITION_RESULTS/stages_pool/Gutenberg/amphibian_copperhead/config.yaml\n"
     ]
    },
    {
     "name": "stderr",
     "output_type": "stream",
     "text": [
      "ic| len(new_valid_loader): 1\n"
     ]
    },
    {
     "name": "stdout",
     "output_type": "stream",
     "text": [
      "Loading model: /home/woody/iwb3/iwb3021h/NAS_COMPETITION_RESULTS/stages_pool/Gutenberg/mega_frog/config.yaml\n"
     ]
    },
    {
     "name": "stderr",
     "output_type": "stream",
     "text": [
      "ic| len(new_valid_loader): 1\n"
     ]
    },
    {
     "name": "stdout",
     "output_type": "stream",
     "text": [
      "Loading model: /home/woody/iwb3/iwb3021h/NAS_COMPETITION_RESULTS/stages_pool/Gutenberg/voracious_kagu/config.yaml\n"
     ]
    },
    {
     "name": "stderr",
     "output_type": "stream",
     "text": [
      "/apps/jupyterhub/jh3.1.1-py3.11/envs/pytorch-2.2.0/lib/python3.12/site-packages/torch/nn/modules/module.py:1352: UserWarning: Using a non-full backward hook when the forward contains multiple autograd Nodes is deprecated and will be removed in future versions. This hook will be missing some grad_input. Please use register_full_backward_hook to get the documented behavior.\n",
      "  warnings.warn(\"Using a non-full backward hook when the forward contains multiple autograd Nodes \"\n",
      "ic| len(new_valid_loader): 1\n"
     ]
    },
    {
     "name": "stdout",
     "output_type": "stream",
     "text": [
      "Loading model: /home/woody/iwb3/iwb3021h/NAS_COMPETITION_RESULTS/stages_pool/Gutenberg/golden_scorpion/config.yaml\n"
     ]
    },
    {
     "name": "stderr",
     "output_type": "stream",
     "text": [
      "ic| len(new_valid_loader): 1\n"
     ]
    },
    {
     "name": "stdout",
     "output_type": "stream",
     "text": [
      "Loading model: /home/woody/iwb3/iwb3021h/NAS_COMPETITION_RESULTS/stages_pool/Gutenberg/prudent_crab/config.yaml\n"
     ]
    },
    {
     "name": "stderr",
     "output_type": "stream",
     "text": [
      "ic| len(new_valid_loader): 1\n"
     ]
    },
    {
     "name": "stdout",
     "output_type": "stream",
     "text": [
      "Loading model: /home/woody/iwb3/iwb3021h/NAS_COMPETITION_RESULTS/stages_pool/Gutenberg/delectable_octopus/config.yaml\n"
     ]
    },
    {
     "name": "stderr",
     "output_type": "stream",
     "text": [
      "ic| len(new_valid_loader): 1\n"
     ]
    },
    {
     "name": "stdout",
     "output_type": "stream",
     "text": [
      "Loading model: /home/woody/iwb3/iwb3021h/NAS_COMPETITION_RESULTS/stages_pool/Gutenberg/juicy_uakari/config.yaml\n"
     ]
    },
    {
     "name": "stderr",
     "output_type": "stream",
     "text": [
      "ic| len(new_valid_loader): 1\n"
     ]
    },
    {
     "name": "stdout",
     "output_type": "stream",
     "text": [
      "Loading model: /home/woody/iwb3/iwb3021h/NAS_COMPETITION_RESULTS/stages_pool/Gutenberg/splendid_duck/config.yaml\n"
     ]
    },
    {
     "name": "stderr",
     "output_type": "stream",
     "text": [
      "ic| len(new_valid_loader): 1\n"
     ]
    },
    {
     "name": "stdout",
     "output_type": "stream",
     "text": [
      "Loading model: /home/woody/iwb3/iwb3021h/NAS_COMPETITION_RESULTS/stages_pool/Gutenberg/tidy_silkworm/config.yaml\n"
     ]
    },
    {
     "name": "stderr",
     "output_type": "stream",
     "text": [
      "ic| len(new_valid_loader): 1\n"
     ]
    },
    {
     "name": "stdout",
     "output_type": "stream",
     "text": [
      "Loading model: /home/woody/iwb3/iwb3021h/NAS_COMPETITION_RESULTS/stages_pool/Gutenberg/invaluable_leopard/config.yaml\n"
     ]
    },
    {
     "name": "stderr",
     "output_type": "stream",
     "text": [
      "ic| len(new_valid_loader): 1\n"
     ]
    },
    {
     "name": "stdout",
     "output_type": "stream",
     "text": [
      "Loading model: /home/woody/iwb3/iwb3021h/NAS_COMPETITION_RESULTS/stages_pool/Gutenberg/amphibian_copperhead/config.yaml\n"
     ]
    },
    {
     "name": "stderr",
     "output_type": "stream",
     "text": [
      "ic| len(new_valid_loader): 1\n"
     ]
    },
    {
     "name": "stdout",
     "output_type": "stream",
     "text": [
      "Loading model: /home/woody/iwb3/iwb3021h/NAS_COMPETITION_RESULTS/stages_pool/Gutenberg/mega_frog/config.yaml\n"
     ]
    },
    {
     "name": "stderr",
     "output_type": "stream",
     "text": [
      "ic| '#############'\n",
      "ic| aug: 3\n",
      "ic| train_loader.dataset.transform.transforms: [RandAugment(interpolation=InterpolationMode.NEAREST, num_ops=2, magnitude=1, num_magnitude_bins=31),\n",
      "                                                Normalize(mean=tensor([0.0370]), std=tensor([0.1889]))]\n",
      "ic| len(new_valid_loader): 1\n"
     ]
    },
    {
     "name": "stdout",
     "output_type": "stream",
     "text": [
      "Loading model: /home/woody/iwb3/iwb3021h/NAS_COMPETITION_RESULTS/stages_pool/Gutenberg/voracious_kagu/config.yaml\n"
     ]
    },
    {
     "name": "stderr",
     "output_type": "stream",
     "text": [
      "/apps/jupyterhub/jh3.1.1-py3.11/envs/pytorch-2.2.0/lib/python3.12/site-packages/torch/nn/modules/module.py:1352: UserWarning: Using a non-full backward hook when the forward contains multiple autograd Nodes is deprecated and will be removed in future versions. This hook will be missing some grad_input. Please use register_full_backward_hook to get the documented behavior.\n",
      "  warnings.warn(\"Using a non-full backward hook when the forward contains multiple autograd Nodes \"\n",
      "ic| len(new_valid_loader): 1\n"
     ]
    },
    {
     "name": "stdout",
     "output_type": "stream",
     "text": [
      "Loading model: /home/woody/iwb3/iwb3021h/NAS_COMPETITION_RESULTS/stages_pool/Gutenberg/golden_scorpion/config.yaml\n"
     ]
    },
    {
     "name": "stderr",
     "output_type": "stream",
     "text": [
      "ic| len(new_valid_loader): 1\n"
     ]
    },
    {
     "name": "stdout",
     "output_type": "stream",
     "text": [
      "Loading model: /home/woody/iwb3/iwb3021h/NAS_COMPETITION_RESULTS/stages_pool/Gutenberg/prudent_crab/config.yaml\n"
     ]
    },
    {
     "name": "stderr",
     "output_type": "stream",
     "text": [
      "ic| len(new_valid_loader): 1\n"
     ]
    },
    {
     "name": "stdout",
     "output_type": "stream",
     "text": [
      "Loading model: /home/woody/iwb3/iwb3021h/NAS_COMPETITION_RESULTS/stages_pool/Gutenberg/delectable_octopus/config.yaml\n"
     ]
    },
    {
     "name": "stderr",
     "output_type": "stream",
     "text": [
      "ic| len(new_valid_loader): 1\n"
     ]
    },
    {
     "name": "stdout",
     "output_type": "stream",
     "text": [
      "Loading model: /home/woody/iwb3/iwb3021h/NAS_COMPETITION_RESULTS/stages_pool/Gutenberg/juicy_uakari/config.yaml\n"
     ]
    },
    {
     "name": "stderr",
     "output_type": "stream",
     "text": [
      "ic| len(new_valid_loader): 1\n"
     ]
    },
    {
     "name": "stdout",
     "output_type": "stream",
     "text": [
      "Loading model: /home/woody/iwb3/iwb3021h/NAS_COMPETITION_RESULTS/stages_pool/Gutenberg/splendid_duck/config.yaml\n"
     ]
    },
    {
     "name": "stderr",
     "output_type": "stream",
     "text": [
      "ic| len(new_valid_loader): 1\n"
     ]
    },
    {
     "name": "stdout",
     "output_type": "stream",
     "text": [
      "Loading model: /home/woody/iwb3/iwb3021h/NAS_COMPETITION_RESULTS/stages_pool/Gutenberg/tidy_silkworm/config.yaml\n"
     ]
    },
    {
     "name": "stderr",
     "output_type": "stream",
     "text": [
      "ic| len(new_valid_loader): 1\n"
     ]
    },
    {
     "name": "stdout",
     "output_type": "stream",
     "text": [
      "Loading model: /home/woody/iwb3/iwb3021h/NAS_COMPETITION_RESULTS/stages_pool/Gutenberg/invaluable_leopard/config.yaml\n"
     ]
    },
    {
     "name": "stderr",
     "output_type": "stream",
     "text": [
      "ic| len(new_valid_loader): 1\n"
     ]
    },
    {
     "name": "stdout",
     "output_type": "stream",
     "text": [
      "Loading model: /home/woody/iwb3/iwb3021h/NAS_COMPETITION_RESULTS/stages_pool/Gutenberg/amphibian_copperhead/config.yaml\n"
     ]
    },
    {
     "name": "stderr",
     "output_type": "stream",
     "text": [
      "ic| len(new_valid_loader): 1\n"
     ]
    },
    {
     "name": "stdout",
     "output_type": "stream",
     "text": [
      "Loading model: /home/woody/iwb3/iwb3021h/NAS_COMPETITION_RESULTS/stages_pool/Gutenberg/mega_frog/config.yaml\n"
     ]
    },
    {
     "name": "stderr",
     "output_type": "stream",
     "text": [
      "ic| len(new_valid_loader): 1\n"
     ]
    },
    {
     "name": "stdout",
     "output_type": "stream",
     "text": [
      "Loading model: /home/woody/iwb3/iwb3021h/NAS_COMPETITION_RESULTS/stages_pool/Gutenberg/voracious_kagu/config.yaml\n"
     ]
    },
    {
     "name": "stderr",
     "output_type": "stream",
     "text": [
      "/apps/jupyterhub/jh3.1.1-py3.11/envs/pytorch-2.2.0/lib/python3.12/site-packages/torch/nn/modules/module.py:1352: UserWarning: Using a non-full backward hook when the forward contains multiple autograd Nodes is deprecated and will be removed in future versions. This hook will be missing some grad_input. Please use register_full_backward_hook to get the documented behavior.\n",
      "  warnings.warn(\"Using a non-full backward hook when the forward contains multiple autograd Nodes \"\n",
      "ic| len(new_valid_loader): 1\n"
     ]
    },
    {
     "name": "stdout",
     "output_type": "stream",
     "text": [
      "Loading model: /home/woody/iwb3/iwb3021h/NAS_COMPETITION_RESULTS/stages_pool/Gutenberg/golden_scorpion/config.yaml\n"
     ]
    },
    {
     "name": "stderr",
     "output_type": "stream",
     "text": [
      "ic| len(new_valid_loader): 1\n"
     ]
    },
    {
     "name": "stdout",
     "output_type": "stream",
     "text": [
      "Loading model: /home/woody/iwb3/iwb3021h/NAS_COMPETITION_RESULTS/stages_pool/Gutenberg/prudent_crab/config.yaml\n"
     ]
    },
    {
     "name": "stderr",
     "output_type": "stream",
     "text": [
      "ic| len(new_valid_loader): 1\n"
     ]
    },
    {
     "name": "stdout",
     "output_type": "stream",
     "text": [
      "Loading model: /home/woody/iwb3/iwb3021h/NAS_COMPETITION_RESULTS/stages_pool/Gutenberg/delectable_octopus/config.yaml\n"
     ]
    },
    {
     "name": "stderr",
     "output_type": "stream",
     "text": [
      "ic| len(new_valid_loader): 1\n"
     ]
    },
    {
     "name": "stdout",
     "output_type": "stream",
     "text": [
      "Loading model: /home/woody/iwb3/iwb3021h/NAS_COMPETITION_RESULTS/stages_pool/Gutenberg/juicy_uakari/config.yaml\n"
     ]
    },
    {
     "name": "stderr",
     "output_type": "stream",
     "text": [
      "ic| len(new_valid_loader): 1\n"
     ]
    },
    {
     "name": "stdout",
     "output_type": "stream",
     "text": [
      "Loading model: /home/woody/iwb3/iwb3021h/NAS_COMPETITION_RESULTS/stages_pool/Gutenberg/splendid_duck/config.yaml\n"
     ]
    },
    {
     "name": "stderr",
     "output_type": "stream",
     "text": [
      "ic| len(new_valid_loader): 1\n"
     ]
    },
    {
     "name": "stdout",
     "output_type": "stream",
     "text": [
      "Loading model: /home/woody/iwb3/iwb3021h/NAS_COMPETITION_RESULTS/stages_pool/Gutenberg/tidy_silkworm/config.yaml\n"
     ]
    },
    {
     "name": "stderr",
     "output_type": "stream",
     "text": [
      "ic| len(new_valid_loader): 1\n"
     ]
    },
    {
     "name": "stdout",
     "output_type": "stream",
     "text": [
      "Loading model: /home/woody/iwb3/iwb3021h/NAS_COMPETITION_RESULTS/stages_pool/Gutenberg/invaluable_leopard/config.yaml\n"
     ]
    },
    {
     "name": "stderr",
     "output_type": "stream",
     "text": [
      "ic| len(new_valid_loader): 1\n"
     ]
    },
    {
     "name": "stdout",
     "output_type": "stream",
     "text": [
      "Loading model: /home/woody/iwb3/iwb3021h/NAS_COMPETITION_RESULTS/stages_pool/Gutenberg/amphibian_copperhead/config.yaml\n"
     ]
    },
    {
     "name": "stderr",
     "output_type": "stream",
     "text": [
      "ic| len(new_valid_loader): 1\n"
     ]
    },
    {
     "name": "stdout",
     "output_type": "stream",
     "text": [
      "Loading model: /home/woody/iwb3/iwb3021h/NAS_COMPETITION_RESULTS/stages_pool/Gutenberg/mega_frog/config.yaml\n"
     ]
    },
    {
     "name": "stderr",
     "output_type": "stream",
     "text": [
      "ic| len(new_valid_loader): 1\n"
     ]
    },
    {
     "name": "stdout",
     "output_type": "stream",
     "text": [
      "Loading model: /home/woody/iwb3/iwb3021h/NAS_COMPETITION_RESULTS/stages_pool/Gutenberg/voracious_kagu/config.yaml\n"
     ]
    },
    {
     "name": "stderr",
     "output_type": "stream",
     "text": [
      "/apps/jupyterhub/jh3.1.1-py3.11/envs/pytorch-2.2.0/lib/python3.12/site-packages/torch/nn/modules/module.py:1352: UserWarning: Using a non-full backward hook when the forward contains multiple autograd Nodes is deprecated and will be removed in future versions. This hook will be missing some grad_input. Please use register_full_backward_hook to get the documented behavior.\n",
      "  warnings.warn(\"Using a non-full backward hook when the forward contains multiple autograd Nodes \"\n",
      "ic| len(new_valid_loader): 1\n"
     ]
    },
    {
     "name": "stdout",
     "output_type": "stream",
     "text": [
      "Loading model: /home/woody/iwb3/iwb3021h/NAS_COMPETITION_RESULTS/stages_pool/Gutenberg/golden_scorpion/config.yaml\n"
     ]
    },
    {
     "name": "stderr",
     "output_type": "stream",
     "text": [
      "ic| len(new_valid_loader): 1\n"
     ]
    },
    {
     "name": "stdout",
     "output_type": "stream",
     "text": [
      "Loading model: /home/woody/iwb3/iwb3021h/NAS_COMPETITION_RESULTS/stages_pool/Gutenberg/prudent_crab/config.yaml\n"
     ]
    },
    {
     "name": "stderr",
     "output_type": "stream",
     "text": [
      "ic| len(new_valid_loader): 1\n"
     ]
    },
    {
     "name": "stdout",
     "output_type": "stream",
     "text": [
      "Loading model: /home/woody/iwb3/iwb3021h/NAS_COMPETITION_RESULTS/stages_pool/Gutenberg/delectable_octopus/config.yaml\n"
     ]
    },
    {
     "name": "stderr",
     "output_type": "stream",
     "text": [
      "ic| len(new_valid_loader): 1\n"
     ]
    },
    {
     "name": "stdout",
     "output_type": "stream",
     "text": [
      "Loading model: /home/woody/iwb3/iwb3021h/NAS_COMPETITION_RESULTS/stages_pool/Gutenberg/juicy_uakari/config.yaml\n"
     ]
    },
    {
     "name": "stderr",
     "output_type": "stream",
     "text": [
      "ic| len(new_valid_loader): 1\n"
     ]
    },
    {
     "name": "stdout",
     "output_type": "stream",
     "text": [
      "Loading model: /home/woody/iwb3/iwb3021h/NAS_COMPETITION_RESULTS/stages_pool/Gutenberg/splendid_duck/config.yaml\n"
     ]
    },
    {
     "name": "stderr",
     "output_type": "stream",
     "text": [
      "ic| len(new_valid_loader): 1\n"
     ]
    },
    {
     "name": "stdout",
     "output_type": "stream",
     "text": [
      "Loading model: /home/woody/iwb3/iwb3021h/NAS_COMPETITION_RESULTS/stages_pool/Gutenberg/tidy_silkworm/config.yaml\n"
     ]
    },
    {
     "name": "stderr",
     "output_type": "stream",
     "text": [
      "ic| len(new_valid_loader): 1\n"
     ]
    },
    {
     "name": "stdout",
     "output_type": "stream",
     "text": [
      "Loading model: /home/woody/iwb3/iwb3021h/NAS_COMPETITION_RESULTS/stages_pool/Gutenberg/invaluable_leopard/config.yaml\n"
     ]
    },
    {
     "name": "stderr",
     "output_type": "stream",
     "text": [
      "ic| len(new_valid_loader): 1\n"
     ]
    },
    {
     "name": "stdout",
     "output_type": "stream",
     "text": [
      "Loading model: /home/woody/iwb3/iwb3021h/NAS_COMPETITION_RESULTS/stages_pool/Gutenberg/amphibian_copperhead/config.yaml\n"
     ]
    },
    {
     "name": "stderr",
     "output_type": "stream",
     "text": [
      "ic| len(new_valid_loader): 1\n"
     ]
    },
    {
     "name": "stdout",
     "output_type": "stream",
     "text": [
      "Loading model: /home/woody/iwb3/iwb3021h/NAS_COMPETITION_RESULTS/stages_pool/Gutenberg/mega_frog/config.yaml\n"
     ]
    },
    {
     "name": "stderr",
     "output_type": "stream",
     "text": [
      "ic| len(new_valid_loader): 1\n"
     ]
    },
    {
     "name": "stdout",
     "output_type": "stream",
     "text": [
      "Loading model: /home/woody/iwb3/iwb3021h/NAS_COMPETITION_RESULTS/stages_pool/Gutenberg/voracious_kagu/config.yaml\n"
     ]
    },
    {
     "name": "stderr",
     "output_type": "stream",
     "text": [
      "/apps/jupyterhub/jh3.1.1-py3.11/envs/pytorch-2.2.0/lib/python3.12/site-packages/torch/nn/modules/module.py:1352: UserWarning: Using a non-full backward hook when the forward contains multiple autograd Nodes is deprecated and will be removed in future versions. This hook will be missing some grad_input. Please use register_full_backward_hook to get the documented behavior.\n",
      "  warnings.warn(\"Using a non-full backward hook when the forward contains multiple autograd Nodes \"\n",
      "ic| len(new_valid_loader): 1\n"
     ]
    },
    {
     "name": "stdout",
     "output_type": "stream",
     "text": [
      "Loading model: /home/woody/iwb3/iwb3021h/NAS_COMPETITION_RESULTS/stages_pool/Gutenberg/golden_scorpion/config.yaml\n"
     ]
    },
    {
     "name": "stderr",
     "output_type": "stream",
     "text": [
      "ic| len(new_valid_loader): 1\n"
     ]
    },
    {
     "name": "stdout",
     "output_type": "stream",
     "text": [
      "Loading model: /home/woody/iwb3/iwb3021h/NAS_COMPETITION_RESULTS/stages_pool/Gutenberg/prudent_crab/config.yaml\n"
     ]
    },
    {
     "name": "stderr",
     "output_type": "stream",
     "text": [
      "ic| len(new_valid_loader): 1\n"
     ]
    },
    {
     "name": "stdout",
     "output_type": "stream",
     "text": [
      "Loading model: /home/woody/iwb3/iwb3021h/NAS_COMPETITION_RESULTS/stages_pool/Gutenberg/delectable_octopus/config.yaml\n"
     ]
    },
    {
     "name": "stderr",
     "output_type": "stream",
     "text": [
      "ic| len(new_valid_loader): 1\n"
     ]
    },
    {
     "name": "stdout",
     "output_type": "stream",
     "text": [
      "Loading model: /home/woody/iwb3/iwb3021h/NAS_COMPETITION_RESULTS/stages_pool/Gutenberg/juicy_uakari/config.yaml\n"
     ]
    },
    {
     "name": "stderr",
     "output_type": "stream",
     "text": [
      "ic| len(new_valid_loader): 1\n"
     ]
    },
    {
     "name": "stdout",
     "output_type": "stream",
     "text": [
      "Loading model: /home/woody/iwb3/iwb3021h/NAS_COMPETITION_RESULTS/stages_pool/Gutenberg/splendid_duck/config.yaml\n"
     ]
    },
    {
     "name": "stderr",
     "output_type": "stream",
     "text": [
      "ic| len(new_valid_loader): 1\n"
     ]
    },
    {
     "name": "stdout",
     "output_type": "stream",
     "text": [
      "Loading model: /home/woody/iwb3/iwb3021h/NAS_COMPETITION_RESULTS/stages_pool/Gutenberg/tidy_silkworm/config.yaml\n"
     ]
    },
    {
     "name": "stderr",
     "output_type": "stream",
     "text": [
      "ic| len(new_valid_loader): 1\n"
     ]
    },
    {
     "name": "stdout",
     "output_type": "stream",
     "text": [
      "Loading model: /home/woody/iwb3/iwb3021h/NAS_COMPETITION_RESULTS/stages_pool/Gutenberg/invaluable_leopard/config.yaml\n"
     ]
    },
    {
     "name": "stderr",
     "output_type": "stream",
     "text": [
      "ic| len(new_valid_loader): 1\n"
     ]
    },
    {
     "name": "stdout",
     "output_type": "stream",
     "text": [
      "Loading model: /home/woody/iwb3/iwb3021h/NAS_COMPETITION_RESULTS/stages_pool/Gutenberg/amphibian_copperhead/config.yaml\n"
     ]
    },
    {
     "name": "stderr",
     "output_type": "stream",
     "text": [
      "ic| len(new_valid_loader): 1\n"
     ]
    },
    {
     "name": "stdout",
     "output_type": "stream",
     "text": [
      "Loading model: /home/woody/iwb3/iwb3021h/NAS_COMPETITION_RESULTS/stages_pool/Gutenberg/mega_frog/config.yaml\n"
     ]
    },
    {
     "name": "stderr",
     "output_type": "stream",
     "text": [
      "ic| len(new_valid_loader): 1\n"
     ]
    },
    {
     "name": "stdout",
     "output_type": "stream",
     "text": [
      "Loading model: /home/woody/iwb3/iwb3021h/NAS_COMPETITION_RESULTS/stages_pool/Gutenberg/voracious_kagu/config.yaml\n"
     ]
    },
    {
     "name": "stderr",
     "output_type": "stream",
     "text": [
      "/apps/jupyterhub/jh3.1.1-py3.11/envs/pytorch-2.2.0/lib/python3.12/site-packages/torch/nn/modules/module.py:1352: UserWarning: Using a non-full backward hook when the forward contains multiple autograd Nodes is deprecated and will be removed in future versions. This hook will be missing some grad_input. Please use register_full_backward_hook to get the documented behavior.\n",
      "  warnings.warn(\"Using a non-full backward hook when the forward contains multiple autograd Nodes \"\n",
      "ic| len(new_valid_loader): 1\n"
     ]
    },
    {
     "name": "stdout",
     "output_type": "stream",
     "text": [
      "Loading model: /home/woody/iwb3/iwb3021h/NAS_COMPETITION_RESULTS/stages_pool/Gutenberg/golden_scorpion/config.yaml\n"
     ]
    },
    {
     "name": "stderr",
     "output_type": "stream",
     "text": [
      "ic| len(new_valid_loader): 1\n"
     ]
    },
    {
     "name": "stdout",
     "output_type": "stream",
     "text": [
      "Loading model: /home/woody/iwb3/iwb3021h/NAS_COMPETITION_RESULTS/stages_pool/Gutenberg/prudent_crab/config.yaml\n"
     ]
    },
    {
     "name": "stderr",
     "output_type": "stream",
     "text": [
      "ic| len(new_valid_loader): 1\n"
     ]
    },
    {
     "name": "stdout",
     "output_type": "stream",
     "text": [
      "Loading model: /home/woody/iwb3/iwb3021h/NAS_COMPETITION_RESULTS/stages_pool/Gutenberg/delectable_octopus/config.yaml\n"
     ]
    },
    {
     "name": "stderr",
     "output_type": "stream",
     "text": [
      "ic| len(new_valid_loader): 1\n"
     ]
    },
    {
     "name": "stdout",
     "output_type": "stream",
     "text": [
      "Loading model: /home/woody/iwb3/iwb3021h/NAS_COMPETITION_RESULTS/stages_pool/Gutenberg/juicy_uakari/config.yaml\n"
     ]
    },
    {
     "name": "stderr",
     "output_type": "stream",
     "text": [
      "ic| len(new_valid_loader): 1\n"
     ]
    },
    {
     "name": "stdout",
     "output_type": "stream",
     "text": [
      "Loading model: /home/woody/iwb3/iwb3021h/NAS_COMPETITION_RESULTS/stages_pool/Gutenberg/splendid_duck/config.yaml\n"
     ]
    },
    {
     "name": "stderr",
     "output_type": "stream",
     "text": [
      "ic| len(new_valid_loader): 1\n"
     ]
    },
    {
     "name": "stdout",
     "output_type": "stream",
     "text": [
      "Loading model: /home/woody/iwb3/iwb3021h/NAS_COMPETITION_RESULTS/stages_pool/Gutenberg/tidy_silkworm/config.yaml\n"
     ]
    },
    {
     "name": "stderr",
     "output_type": "stream",
     "text": [
      "ic| len(new_valid_loader): 1\n"
     ]
    },
    {
     "name": "stdout",
     "output_type": "stream",
     "text": [
      "Loading model: /home/woody/iwb3/iwb3021h/NAS_COMPETITION_RESULTS/stages_pool/Gutenberg/invaluable_leopard/config.yaml\n"
     ]
    },
    {
     "name": "stderr",
     "output_type": "stream",
     "text": [
      "ic| len(new_valid_loader): 1\n"
     ]
    },
    {
     "name": "stdout",
     "output_type": "stream",
     "text": [
      "Loading model: /home/woody/iwb3/iwb3021h/NAS_COMPETITION_RESULTS/stages_pool/Gutenberg/amphibian_copperhead/config.yaml\n"
     ]
    },
    {
     "name": "stderr",
     "output_type": "stream",
     "text": [
      "ic| len(new_valid_loader): 1\n"
     ]
    },
    {
     "name": "stdout",
     "output_type": "stream",
     "text": [
      "Loading model: /home/woody/iwb3/iwb3021h/NAS_COMPETITION_RESULTS/stages_pool/Gutenberg/mega_frog/config.yaml\n"
     ]
    },
    {
     "name": "stderr",
     "output_type": "stream",
     "text": [
      "ic| '#############'\n",
      "ic| aug: 4\n",
      "ic| train_loader.dataset.transform.transforms: [TrivialAugmentWide(interpolation=InterpolationMode.NEAREST, num_magnitude_bins=31),\n",
      "                                                Normalize(mean=tensor([0.0370]), std=tensor([0.1889]))]\n",
      "ic| len(new_valid_loader): 1\n"
     ]
    },
    {
     "name": "stdout",
     "output_type": "stream",
     "text": [
      "Loading model: /home/woody/iwb3/iwb3021h/NAS_COMPETITION_RESULTS/stages_pool/Gutenberg/voracious_kagu/config.yaml\n"
     ]
    },
    {
     "name": "stderr",
     "output_type": "stream",
     "text": [
      "/apps/jupyterhub/jh3.1.1-py3.11/envs/pytorch-2.2.0/lib/python3.12/site-packages/torch/nn/modules/module.py:1352: UserWarning: Using a non-full backward hook when the forward contains multiple autograd Nodes is deprecated and will be removed in future versions. This hook will be missing some grad_input. Please use register_full_backward_hook to get the documented behavior.\n",
      "  warnings.warn(\"Using a non-full backward hook when the forward contains multiple autograd Nodes \"\n",
      "ic| len(new_valid_loader): 1\n"
     ]
    },
    {
     "name": "stdout",
     "output_type": "stream",
     "text": [
      "Loading model: /home/woody/iwb3/iwb3021h/NAS_COMPETITION_RESULTS/stages_pool/Gutenberg/golden_scorpion/config.yaml\n"
     ]
    },
    {
     "name": "stderr",
     "output_type": "stream",
     "text": [
      "ic| len(new_valid_loader): 1\n"
     ]
    },
    {
     "name": "stdout",
     "output_type": "stream",
     "text": [
      "Loading model: /home/woody/iwb3/iwb3021h/NAS_COMPETITION_RESULTS/stages_pool/Gutenberg/prudent_crab/config.yaml\n"
     ]
    },
    {
     "name": "stderr",
     "output_type": "stream",
     "text": [
      "ic| len(new_valid_loader): 1\n"
     ]
    },
    {
     "name": "stdout",
     "output_type": "stream",
     "text": [
      "Loading model: /home/woody/iwb3/iwb3021h/NAS_COMPETITION_RESULTS/stages_pool/Gutenberg/delectable_octopus/config.yaml\n"
     ]
    },
    {
     "name": "stderr",
     "output_type": "stream",
     "text": [
      "ic| len(new_valid_loader): 1\n"
     ]
    },
    {
     "name": "stdout",
     "output_type": "stream",
     "text": [
      "Loading model: /home/woody/iwb3/iwb3021h/NAS_COMPETITION_RESULTS/stages_pool/Gutenberg/juicy_uakari/config.yaml\n"
     ]
    },
    {
     "name": "stderr",
     "output_type": "stream",
     "text": [
      "ic| len(new_valid_loader): 1\n"
     ]
    },
    {
     "name": "stdout",
     "output_type": "stream",
     "text": [
      "Loading model: /home/woody/iwb3/iwb3021h/NAS_COMPETITION_RESULTS/stages_pool/Gutenberg/splendid_duck/config.yaml\n"
     ]
    },
    {
     "name": "stderr",
     "output_type": "stream",
     "text": [
      "ic| len(new_valid_loader): 1\n"
     ]
    },
    {
     "name": "stdout",
     "output_type": "stream",
     "text": [
      "Loading model: /home/woody/iwb3/iwb3021h/NAS_COMPETITION_RESULTS/stages_pool/Gutenberg/tidy_silkworm/config.yaml\n"
     ]
    },
    {
     "name": "stderr",
     "output_type": "stream",
     "text": [
      "ic| len(new_valid_loader): 1\n"
     ]
    },
    {
     "name": "stdout",
     "output_type": "stream",
     "text": [
      "Loading model: /home/woody/iwb3/iwb3021h/NAS_COMPETITION_RESULTS/stages_pool/Gutenberg/invaluable_leopard/config.yaml\n"
     ]
    },
    {
     "name": "stderr",
     "output_type": "stream",
     "text": [
      "ic| len(new_valid_loader): 1\n"
     ]
    },
    {
     "name": "stdout",
     "output_type": "stream",
     "text": [
      "Loading model: /home/woody/iwb3/iwb3021h/NAS_COMPETITION_RESULTS/stages_pool/Gutenberg/amphibian_copperhead/config.yaml\n"
     ]
    },
    {
     "name": "stderr",
     "output_type": "stream",
     "text": [
      "ic| len(new_valid_loader): 1\n"
     ]
    },
    {
     "name": "stdout",
     "output_type": "stream",
     "text": [
      "Loading model: /home/woody/iwb3/iwb3021h/NAS_COMPETITION_RESULTS/stages_pool/Gutenberg/mega_frog/config.yaml\n"
     ]
    },
    {
     "name": "stderr",
     "output_type": "stream",
     "text": [
      "ic| len(new_valid_loader): 1\n"
     ]
    },
    {
     "name": "stdout",
     "output_type": "stream",
     "text": [
      "Loading model: /home/woody/iwb3/iwb3021h/NAS_COMPETITION_RESULTS/stages_pool/Gutenberg/voracious_kagu/config.yaml\n"
     ]
    },
    {
     "name": "stderr",
     "output_type": "stream",
     "text": [
      "/apps/jupyterhub/jh3.1.1-py3.11/envs/pytorch-2.2.0/lib/python3.12/site-packages/torch/nn/modules/module.py:1352: UserWarning: Using a non-full backward hook when the forward contains multiple autograd Nodes is deprecated and will be removed in future versions. This hook will be missing some grad_input. Please use register_full_backward_hook to get the documented behavior.\n",
      "  warnings.warn(\"Using a non-full backward hook when the forward contains multiple autograd Nodes \"\n",
      "ic| len(new_valid_loader): 1\n"
     ]
    },
    {
     "name": "stdout",
     "output_type": "stream",
     "text": [
      "Loading model: /home/woody/iwb3/iwb3021h/NAS_COMPETITION_RESULTS/stages_pool/Gutenberg/golden_scorpion/config.yaml\n"
     ]
    },
    {
     "name": "stderr",
     "output_type": "stream",
     "text": [
      "ic| len(new_valid_loader): 1\n"
     ]
    },
    {
     "name": "stdout",
     "output_type": "stream",
     "text": [
      "Loading model: /home/woody/iwb3/iwb3021h/NAS_COMPETITION_RESULTS/stages_pool/Gutenberg/prudent_crab/config.yaml\n"
     ]
    },
    {
     "name": "stderr",
     "output_type": "stream",
     "text": [
      "ic| len(new_valid_loader): 1\n"
     ]
    },
    {
     "name": "stdout",
     "output_type": "stream",
     "text": [
      "Loading model: /home/woody/iwb3/iwb3021h/NAS_COMPETITION_RESULTS/stages_pool/Gutenberg/delectable_octopus/config.yaml\n"
     ]
    },
    {
     "name": "stderr",
     "output_type": "stream",
     "text": [
      "ic| len(new_valid_loader): 1\n"
     ]
    },
    {
     "name": "stdout",
     "output_type": "stream",
     "text": [
      "Loading model: /home/woody/iwb3/iwb3021h/NAS_COMPETITION_RESULTS/stages_pool/Gutenberg/juicy_uakari/config.yaml\n"
     ]
    },
    {
     "name": "stderr",
     "output_type": "stream",
     "text": [
      "ic| len(new_valid_loader): 1\n"
     ]
    },
    {
     "name": "stdout",
     "output_type": "stream",
     "text": [
      "Loading model: /home/woody/iwb3/iwb3021h/NAS_COMPETITION_RESULTS/stages_pool/Gutenberg/splendid_duck/config.yaml\n"
     ]
    },
    {
     "name": "stderr",
     "output_type": "stream",
     "text": [
      "ic| len(new_valid_loader): 1\n"
     ]
    },
    {
     "name": "stdout",
     "output_type": "stream",
     "text": [
      "Loading model: /home/woody/iwb3/iwb3021h/NAS_COMPETITION_RESULTS/stages_pool/Gutenberg/tidy_silkworm/config.yaml\n"
     ]
    },
    {
     "name": "stderr",
     "output_type": "stream",
     "text": [
      "ic| len(new_valid_loader): 1\n"
     ]
    },
    {
     "name": "stdout",
     "output_type": "stream",
     "text": [
      "Loading model: /home/woody/iwb3/iwb3021h/NAS_COMPETITION_RESULTS/stages_pool/Gutenberg/invaluable_leopard/config.yaml\n"
     ]
    },
    {
     "name": "stderr",
     "output_type": "stream",
     "text": [
      "ic| len(new_valid_loader): 1\n"
     ]
    },
    {
     "name": "stdout",
     "output_type": "stream",
     "text": [
      "Loading model: /home/woody/iwb3/iwb3021h/NAS_COMPETITION_RESULTS/stages_pool/Gutenberg/amphibian_copperhead/config.yaml\n"
     ]
    },
    {
     "name": "stderr",
     "output_type": "stream",
     "text": [
      "ic| len(new_valid_loader): 1\n"
     ]
    },
    {
     "name": "stdout",
     "output_type": "stream",
     "text": [
      "Loading model: /home/woody/iwb3/iwb3021h/NAS_COMPETITION_RESULTS/stages_pool/Gutenberg/mega_frog/config.yaml\n"
     ]
    },
    {
     "name": "stderr",
     "output_type": "stream",
     "text": [
      "ic| len(new_valid_loader): 1\n"
     ]
    },
    {
     "name": "stdout",
     "output_type": "stream",
     "text": [
      "Loading model: /home/woody/iwb3/iwb3021h/NAS_COMPETITION_RESULTS/stages_pool/Gutenberg/voracious_kagu/config.yaml\n"
     ]
    },
    {
     "name": "stderr",
     "output_type": "stream",
     "text": [
      "/apps/jupyterhub/jh3.1.1-py3.11/envs/pytorch-2.2.0/lib/python3.12/site-packages/torch/nn/modules/module.py:1352: UserWarning: Using a non-full backward hook when the forward contains multiple autograd Nodes is deprecated and will be removed in future versions. This hook will be missing some grad_input. Please use register_full_backward_hook to get the documented behavior.\n",
      "  warnings.warn(\"Using a non-full backward hook when the forward contains multiple autograd Nodes \"\n",
      "ic| len(new_valid_loader): 1\n"
     ]
    },
    {
     "name": "stdout",
     "output_type": "stream",
     "text": [
      "Loading model: /home/woody/iwb3/iwb3021h/NAS_COMPETITION_RESULTS/stages_pool/Gutenberg/golden_scorpion/config.yaml\n"
     ]
    },
    {
     "name": "stderr",
     "output_type": "stream",
     "text": [
      "ic| len(new_valid_loader): 1\n"
     ]
    },
    {
     "name": "stdout",
     "output_type": "stream",
     "text": [
      "Loading model: /home/woody/iwb3/iwb3021h/NAS_COMPETITION_RESULTS/stages_pool/Gutenberg/prudent_crab/config.yaml\n"
     ]
    },
    {
     "name": "stderr",
     "output_type": "stream",
     "text": [
      "ic| len(new_valid_loader): 1\n"
     ]
    },
    {
     "name": "stdout",
     "output_type": "stream",
     "text": [
      "Loading model: /home/woody/iwb3/iwb3021h/NAS_COMPETITION_RESULTS/stages_pool/Gutenberg/delectable_octopus/config.yaml\n"
     ]
    },
    {
     "name": "stderr",
     "output_type": "stream",
     "text": [
      "ic| len(new_valid_loader): 1\n"
     ]
    },
    {
     "name": "stdout",
     "output_type": "stream",
     "text": [
      "Loading model: /home/woody/iwb3/iwb3021h/NAS_COMPETITION_RESULTS/stages_pool/Gutenberg/juicy_uakari/config.yaml\n"
     ]
    },
    {
     "name": "stderr",
     "output_type": "stream",
     "text": [
      "ic| len(new_valid_loader): 1\n"
     ]
    },
    {
     "name": "stdout",
     "output_type": "stream",
     "text": [
      "Loading model: /home/woody/iwb3/iwb3021h/NAS_COMPETITION_RESULTS/stages_pool/Gutenberg/splendid_duck/config.yaml\n"
     ]
    },
    {
     "name": "stderr",
     "output_type": "stream",
     "text": [
      "ic| len(new_valid_loader): 1\n"
     ]
    },
    {
     "name": "stdout",
     "output_type": "stream",
     "text": [
      "Loading model: /home/woody/iwb3/iwb3021h/NAS_COMPETITION_RESULTS/stages_pool/Gutenberg/tidy_silkworm/config.yaml\n"
     ]
    },
    {
     "name": "stderr",
     "output_type": "stream",
     "text": [
      "ic| len(new_valid_loader): 1\n"
     ]
    },
    {
     "name": "stdout",
     "output_type": "stream",
     "text": [
      "Loading model: /home/woody/iwb3/iwb3021h/NAS_COMPETITION_RESULTS/stages_pool/Gutenberg/invaluable_leopard/config.yaml\n"
     ]
    },
    {
     "name": "stderr",
     "output_type": "stream",
     "text": [
      "ic| len(new_valid_loader): 1\n"
     ]
    },
    {
     "name": "stdout",
     "output_type": "stream",
     "text": [
      "Loading model: /home/woody/iwb3/iwb3021h/NAS_COMPETITION_RESULTS/stages_pool/Gutenberg/amphibian_copperhead/config.yaml\n"
     ]
    },
    {
     "name": "stderr",
     "output_type": "stream",
     "text": [
      "ic| len(new_valid_loader): 1\n"
     ]
    },
    {
     "name": "stdout",
     "output_type": "stream",
     "text": [
      "Loading model: /home/woody/iwb3/iwb3021h/NAS_COMPETITION_RESULTS/stages_pool/Gutenberg/mega_frog/config.yaml\n"
     ]
    },
    {
     "name": "stderr",
     "output_type": "stream",
     "text": [
      "ic| len(new_valid_loader): 1\n"
     ]
    },
    {
     "name": "stdout",
     "output_type": "stream",
     "text": [
      "Loading model: /home/woody/iwb3/iwb3021h/NAS_COMPETITION_RESULTS/stages_pool/Gutenberg/voracious_kagu/config.yaml\n"
     ]
    },
    {
     "name": "stderr",
     "output_type": "stream",
     "text": [
      "/apps/jupyterhub/jh3.1.1-py3.11/envs/pytorch-2.2.0/lib/python3.12/site-packages/torch/nn/modules/module.py:1352: UserWarning: Using a non-full backward hook when the forward contains multiple autograd Nodes is deprecated and will be removed in future versions. This hook will be missing some grad_input. Please use register_full_backward_hook to get the documented behavior.\n",
      "  warnings.warn(\"Using a non-full backward hook when the forward contains multiple autograd Nodes \"\n",
      "ic| len(new_valid_loader): 1\n"
     ]
    },
    {
     "name": "stdout",
     "output_type": "stream",
     "text": [
      "Loading model: /home/woody/iwb3/iwb3021h/NAS_COMPETITION_RESULTS/stages_pool/Gutenberg/golden_scorpion/config.yaml\n"
     ]
    },
    {
     "name": "stderr",
     "output_type": "stream",
     "text": [
      "ic| len(new_valid_loader): 1\n"
     ]
    },
    {
     "name": "stdout",
     "output_type": "stream",
     "text": [
      "Loading model: /home/woody/iwb3/iwb3021h/NAS_COMPETITION_RESULTS/stages_pool/Gutenberg/prudent_crab/config.yaml\n"
     ]
    },
    {
     "name": "stderr",
     "output_type": "stream",
     "text": [
      "ic| len(new_valid_loader): 1\n"
     ]
    },
    {
     "name": "stdout",
     "output_type": "stream",
     "text": [
      "Loading model: /home/woody/iwb3/iwb3021h/NAS_COMPETITION_RESULTS/stages_pool/Gutenberg/delectable_octopus/config.yaml\n"
     ]
    },
    {
     "name": "stderr",
     "output_type": "stream",
     "text": [
      "ic| len(new_valid_loader): 1\n"
     ]
    },
    {
     "name": "stdout",
     "output_type": "stream",
     "text": [
      "Loading model: /home/woody/iwb3/iwb3021h/NAS_COMPETITION_RESULTS/stages_pool/Gutenberg/juicy_uakari/config.yaml\n"
     ]
    },
    {
     "name": "stderr",
     "output_type": "stream",
     "text": [
      "ic| len(new_valid_loader): 1\n"
     ]
    },
    {
     "name": "stdout",
     "output_type": "stream",
     "text": [
      "Loading model: /home/woody/iwb3/iwb3021h/NAS_COMPETITION_RESULTS/stages_pool/Gutenberg/splendid_duck/config.yaml\n"
     ]
    },
    {
     "name": "stderr",
     "output_type": "stream",
     "text": [
      "ic| len(new_valid_loader): 1\n"
     ]
    },
    {
     "name": "stdout",
     "output_type": "stream",
     "text": [
      "Loading model: /home/woody/iwb3/iwb3021h/NAS_COMPETITION_RESULTS/stages_pool/Gutenberg/tidy_silkworm/config.yaml\n"
     ]
    },
    {
     "name": "stderr",
     "output_type": "stream",
     "text": [
      "ic| len(new_valid_loader): 1\n"
     ]
    },
    {
     "name": "stdout",
     "output_type": "stream",
     "text": [
      "Loading model: /home/woody/iwb3/iwb3021h/NAS_COMPETITION_RESULTS/stages_pool/Gutenberg/invaluable_leopard/config.yaml\n"
     ]
    },
    {
     "name": "stderr",
     "output_type": "stream",
     "text": [
      "ic| len(new_valid_loader): 1\n"
     ]
    },
    {
     "name": "stdout",
     "output_type": "stream",
     "text": [
      "Loading model: /home/woody/iwb3/iwb3021h/NAS_COMPETITION_RESULTS/stages_pool/Gutenberg/amphibian_copperhead/config.yaml\n"
     ]
    },
    {
     "name": "stderr",
     "output_type": "stream",
     "text": [
      "ic| len(new_valid_loader): 1\n"
     ]
    },
    {
     "name": "stdout",
     "output_type": "stream",
     "text": [
      "Loading model: /home/woody/iwb3/iwb3021h/NAS_COMPETITION_RESULTS/stages_pool/Gutenberg/mega_frog/config.yaml\n"
     ]
    },
    {
     "name": "stderr",
     "output_type": "stream",
     "text": [
      "ic| len(new_valid_loader): 1\n"
     ]
    },
    {
     "name": "stdout",
     "output_type": "stream",
     "text": [
      "Loading model: /home/woody/iwb3/iwb3021h/NAS_COMPETITION_RESULTS/stages_pool/Gutenberg/voracious_kagu/config.yaml\n"
     ]
    },
    {
     "name": "stderr",
     "output_type": "stream",
     "text": [
      "/apps/jupyterhub/jh3.1.1-py3.11/envs/pytorch-2.2.0/lib/python3.12/site-packages/torch/nn/modules/module.py:1352: UserWarning: Using a non-full backward hook when the forward contains multiple autograd Nodes is deprecated and will be removed in future versions. This hook will be missing some grad_input. Please use register_full_backward_hook to get the documented behavior.\n",
      "  warnings.warn(\"Using a non-full backward hook when the forward contains multiple autograd Nodes \"\n",
      "ic| len(new_valid_loader): 1\n"
     ]
    },
    {
     "name": "stdout",
     "output_type": "stream",
     "text": [
      "Loading model: /home/woody/iwb3/iwb3021h/NAS_COMPETITION_RESULTS/stages_pool/Gutenberg/golden_scorpion/config.yaml\n"
     ]
    },
    {
     "name": "stderr",
     "output_type": "stream",
     "text": [
      "ic| len(new_valid_loader): 1\n"
     ]
    },
    {
     "name": "stdout",
     "output_type": "stream",
     "text": [
      "Loading model: /home/woody/iwb3/iwb3021h/NAS_COMPETITION_RESULTS/stages_pool/Gutenberg/prudent_crab/config.yaml\n"
     ]
    },
    {
     "name": "stderr",
     "output_type": "stream",
     "text": [
      "ic| len(new_valid_loader): 1\n"
     ]
    },
    {
     "name": "stdout",
     "output_type": "stream",
     "text": [
      "Loading model: /home/woody/iwb3/iwb3021h/NAS_COMPETITION_RESULTS/stages_pool/Gutenberg/delectable_octopus/config.yaml\n"
     ]
    },
    {
     "name": "stderr",
     "output_type": "stream",
     "text": [
      "ic| len(new_valid_loader): 1\n"
     ]
    },
    {
     "name": "stdout",
     "output_type": "stream",
     "text": [
      "Loading model: /home/woody/iwb3/iwb3021h/NAS_COMPETITION_RESULTS/stages_pool/Gutenberg/juicy_uakari/config.yaml\n"
     ]
    },
    {
     "name": "stderr",
     "output_type": "stream",
     "text": [
      "ic| len(new_valid_loader): 1\n"
     ]
    },
    {
     "name": "stdout",
     "output_type": "stream",
     "text": [
      "Loading model: /home/woody/iwb3/iwb3021h/NAS_COMPETITION_RESULTS/stages_pool/Gutenberg/splendid_duck/config.yaml\n"
     ]
    },
    {
     "name": "stderr",
     "output_type": "stream",
     "text": [
      "ic| len(new_valid_loader): 1\n"
     ]
    },
    {
     "name": "stdout",
     "output_type": "stream",
     "text": [
      "Loading model: /home/woody/iwb3/iwb3021h/NAS_COMPETITION_RESULTS/stages_pool/Gutenberg/tidy_silkworm/config.yaml\n"
     ]
    },
    {
     "name": "stderr",
     "output_type": "stream",
     "text": [
      "ic| len(new_valid_loader): 1\n"
     ]
    },
    {
     "name": "stdout",
     "output_type": "stream",
     "text": [
      "Loading model: /home/woody/iwb3/iwb3021h/NAS_COMPETITION_RESULTS/stages_pool/Gutenberg/invaluable_leopard/config.yaml\n"
     ]
    },
    {
     "name": "stderr",
     "output_type": "stream",
     "text": [
      "ic| len(new_valid_loader): 1\n"
     ]
    },
    {
     "name": "stdout",
     "output_type": "stream",
     "text": [
      "Loading model: /home/woody/iwb3/iwb3021h/NAS_COMPETITION_RESULTS/stages_pool/Gutenberg/amphibian_copperhead/config.yaml\n"
     ]
    },
    {
     "name": "stderr",
     "output_type": "stream",
     "text": [
      "ic| len(new_valid_loader): 1\n"
     ]
    },
    {
     "name": "stdout",
     "output_type": "stream",
     "text": [
      "Loading model: /home/woody/iwb3/iwb3021h/NAS_COMPETITION_RESULTS/stages_pool/Gutenberg/mega_frog/config.yaml\n"
     ]
    },
    {
     "name": "stderr",
     "output_type": "stream",
     "text": [
      "ic| '#############'\n",
      "ic| aug: 5\n",
      "ic| train_loader.dataset.transform.transforms: [TrivialAugmentWide(interpolation=InterpolationMode.NEAREST, num_magnitude_bins=15),\n",
      "                                                Normalize(mean=tensor([0.0370]), std=tensor([0.1889]))]\n",
      "ic| len(new_valid_loader): 1\n"
     ]
    },
    {
     "name": "stdout",
     "output_type": "stream",
     "text": [
      "Loading model: /home/woody/iwb3/iwb3021h/NAS_COMPETITION_RESULTS/stages_pool/Gutenberg/voracious_kagu/config.yaml\n"
     ]
    },
    {
     "name": "stderr",
     "output_type": "stream",
     "text": [
      "/apps/jupyterhub/jh3.1.1-py3.11/envs/pytorch-2.2.0/lib/python3.12/site-packages/torch/nn/modules/module.py:1352: UserWarning: Using a non-full backward hook when the forward contains multiple autograd Nodes is deprecated and will be removed in future versions. This hook will be missing some grad_input. Please use register_full_backward_hook to get the documented behavior.\n",
      "  warnings.warn(\"Using a non-full backward hook when the forward contains multiple autograd Nodes \"\n",
      "ic| len(new_valid_loader): 1\n"
     ]
    },
    {
     "name": "stdout",
     "output_type": "stream",
     "text": [
      "Loading model: /home/woody/iwb3/iwb3021h/NAS_COMPETITION_RESULTS/stages_pool/Gutenberg/golden_scorpion/config.yaml\n"
     ]
    },
    {
     "name": "stderr",
     "output_type": "stream",
     "text": [
      "ic| len(new_valid_loader): 1\n"
     ]
    },
    {
     "name": "stdout",
     "output_type": "stream",
     "text": [
      "Loading model: /home/woody/iwb3/iwb3021h/NAS_COMPETITION_RESULTS/stages_pool/Gutenberg/prudent_crab/config.yaml\n"
     ]
    },
    {
     "name": "stderr",
     "output_type": "stream",
     "text": [
      "ic| len(new_valid_loader): 1\n"
     ]
    },
    {
     "name": "stdout",
     "output_type": "stream",
     "text": [
      "Loading model: /home/woody/iwb3/iwb3021h/NAS_COMPETITION_RESULTS/stages_pool/Gutenberg/delectable_octopus/config.yaml\n"
     ]
    },
    {
     "name": "stderr",
     "output_type": "stream",
     "text": [
      "ic| len(new_valid_loader): 1\n"
     ]
    },
    {
     "name": "stdout",
     "output_type": "stream",
     "text": [
      "Loading model: /home/woody/iwb3/iwb3021h/NAS_COMPETITION_RESULTS/stages_pool/Gutenberg/juicy_uakari/config.yaml\n"
     ]
    },
    {
     "name": "stderr",
     "output_type": "stream",
     "text": [
      "ic| len(new_valid_loader): 1\n"
     ]
    },
    {
     "name": "stdout",
     "output_type": "stream",
     "text": [
      "Loading model: /home/woody/iwb3/iwb3021h/NAS_COMPETITION_RESULTS/stages_pool/Gutenberg/splendid_duck/config.yaml\n"
     ]
    },
    {
     "name": "stderr",
     "output_type": "stream",
     "text": [
      "ic| len(new_valid_loader): 1\n"
     ]
    },
    {
     "name": "stdout",
     "output_type": "stream",
     "text": [
      "Loading model: /home/woody/iwb3/iwb3021h/NAS_COMPETITION_RESULTS/stages_pool/Gutenberg/tidy_silkworm/config.yaml\n"
     ]
    },
    {
     "name": "stderr",
     "output_type": "stream",
     "text": [
      "ic| len(new_valid_loader): 1\n"
     ]
    },
    {
     "name": "stdout",
     "output_type": "stream",
     "text": [
      "Loading model: /home/woody/iwb3/iwb3021h/NAS_COMPETITION_RESULTS/stages_pool/Gutenberg/invaluable_leopard/config.yaml\n"
     ]
    },
    {
     "name": "stderr",
     "output_type": "stream",
     "text": [
      "ic| len(new_valid_loader): 1\n"
     ]
    },
    {
     "name": "stdout",
     "output_type": "stream",
     "text": [
      "Loading model: /home/woody/iwb3/iwb3021h/NAS_COMPETITION_RESULTS/stages_pool/Gutenberg/amphibian_copperhead/config.yaml\n"
     ]
    },
    {
     "name": "stderr",
     "output_type": "stream",
     "text": [
      "ic| len(new_valid_loader): 1\n"
     ]
    },
    {
     "name": "stdout",
     "output_type": "stream",
     "text": [
      "Loading model: /home/woody/iwb3/iwb3021h/NAS_COMPETITION_RESULTS/stages_pool/Gutenberg/mega_frog/config.yaml\n"
     ]
    },
    {
     "name": "stderr",
     "output_type": "stream",
     "text": [
      "ic| len(new_valid_loader): 1\n"
     ]
    },
    {
     "name": "stdout",
     "output_type": "stream",
     "text": [
      "Loading model: /home/woody/iwb3/iwb3021h/NAS_COMPETITION_RESULTS/stages_pool/Gutenberg/voracious_kagu/config.yaml\n"
     ]
    },
    {
     "name": "stderr",
     "output_type": "stream",
     "text": [
      "/apps/jupyterhub/jh3.1.1-py3.11/envs/pytorch-2.2.0/lib/python3.12/site-packages/torch/nn/modules/module.py:1352: UserWarning: Using a non-full backward hook when the forward contains multiple autograd Nodes is deprecated and will be removed in future versions. This hook will be missing some grad_input. Please use register_full_backward_hook to get the documented behavior.\n",
      "  warnings.warn(\"Using a non-full backward hook when the forward contains multiple autograd Nodes \"\n",
      "ic| len(new_valid_loader): 1\n"
     ]
    },
    {
     "name": "stdout",
     "output_type": "stream",
     "text": [
      "Loading model: /home/woody/iwb3/iwb3021h/NAS_COMPETITION_RESULTS/stages_pool/Gutenberg/golden_scorpion/config.yaml\n"
     ]
    },
    {
     "name": "stderr",
     "output_type": "stream",
     "text": [
      "ic| len(new_valid_loader): 1\n"
     ]
    },
    {
     "name": "stdout",
     "output_type": "stream",
     "text": [
      "Loading model: /home/woody/iwb3/iwb3021h/NAS_COMPETITION_RESULTS/stages_pool/Gutenberg/prudent_crab/config.yaml\n"
     ]
    },
    {
     "name": "stderr",
     "output_type": "stream",
     "text": [
      "ic| len(new_valid_loader): 1\n"
     ]
    },
    {
     "name": "stdout",
     "output_type": "stream",
     "text": [
      "Loading model: /home/woody/iwb3/iwb3021h/NAS_COMPETITION_RESULTS/stages_pool/Gutenberg/delectable_octopus/config.yaml\n"
     ]
    },
    {
     "name": "stderr",
     "output_type": "stream",
     "text": [
      "ic| len(new_valid_loader): 1\n"
     ]
    },
    {
     "name": "stdout",
     "output_type": "stream",
     "text": [
      "Loading model: /home/woody/iwb3/iwb3021h/NAS_COMPETITION_RESULTS/stages_pool/Gutenberg/juicy_uakari/config.yaml\n"
     ]
    },
    {
     "name": "stderr",
     "output_type": "stream",
     "text": [
      "ic| len(new_valid_loader): 1\n"
     ]
    },
    {
     "name": "stdout",
     "output_type": "stream",
     "text": [
      "Loading model: /home/woody/iwb3/iwb3021h/NAS_COMPETITION_RESULTS/stages_pool/Gutenberg/splendid_duck/config.yaml\n"
     ]
    },
    {
     "name": "stderr",
     "output_type": "stream",
     "text": [
      "ic| len(new_valid_loader): 1\n"
     ]
    },
    {
     "name": "stdout",
     "output_type": "stream",
     "text": [
      "Loading model: /home/woody/iwb3/iwb3021h/NAS_COMPETITION_RESULTS/stages_pool/Gutenberg/tidy_silkworm/config.yaml\n"
     ]
    },
    {
     "name": "stderr",
     "output_type": "stream",
     "text": [
      "ic| len(new_valid_loader): 1\n"
     ]
    },
    {
     "name": "stdout",
     "output_type": "stream",
     "text": [
      "Loading model: /home/woody/iwb3/iwb3021h/NAS_COMPETITION_RESULTS/stages_pool/Gutenberg/invaluable_leopard/config.yaml\n"
     ]
    },
    {
     "name": "stderr",
     "output_type": "stream",
     "text": [
      "ic| len(new_valid_loader): 1\n"
     ]
    },
    {
     "name": "stdout",
     "output_type": "stream",
     "text": [
      "Loading model: /home/woody/iwb3/iwb3021h/NAS_COMPETITION_RESULTS/stages_pool/Gutenberg/amphibian_copperhead/config.yaml\n"
     ]
    },
    {
     "name": "stderr",
     "output_type": "stream",
     "text": [
      "ic| len(new_valid_loader): 1\n"
     ]
    },
    {
     "name": "stdout",
     "output_type": "stream",
     "text": [
      "Loading model: /home/woody/iwb3/iwb3021h/NAS_COMPETITION_RESULTS/stages_pool/Gutenberg/mega_frog/config.yaml\n"
     ]
    },
    {
     "name": "stderr",
     "output_type": "stream",
     "text": [
      "ic| len(new_valid_loader): 1\n"
     ]
    },
    {
     "name": "stdout",
     "output_type": "stream",
     "text": [
      "Loading model: /home/woody/iwb3/iwb3021h/NAS_COMPETITION_RESULTS/stages_pool/Gutenberg/voracious_kagu/config.yaml\n"
     ]
    },
    {
     "name": "stderr",
     "output_type": "stream",
     "text": [
      "/apps/jupyterhub/jh3.1.1-py3.11/envs/pytorch-2.2.0/lib/python3.12/site-packages/torch/nn/modules/module.py:1352: UserWarning: Using a non-full backward hook when the forward contains multiple autograd Nodes is deprecated and will be removed in future versions. This hook will be missing some grad_input. Please use register_full_backward_hook to get the documented behavior.\n",
      "  warnings.warn(\"Using a non-full backward hook when the forward contains multiple autograd Nodes \"\n",
      "ic| len(new_valid_loader): 1\n"
     ]
    },
    {
     "name": "stdout",
     "output_type": "stream",
     "text": [
      "Loading model: /home/woody/iwb3/iwb3021h/NAS_COMPETITION_RESULTS/stages_pool/Gutenberg/golden_scorpion/config.yaml\n"
     ]
    },
    {
     "name": "stderr",
     "output_type": "stream",
     "text": [
      "ic| len(new_valid_loader): 1\n"
     ]
    },
    {
     "name": "stdout",
     "output_type": "stream",
     "text": [
      "Loading model: /home/woody/iwb3/iwb3021h/NAS_COMPETITION_RESULTS/stages_pool/Gutenberg/prudent_crab/config.yaml\n"
     ]
    },
    {
     "name": "stderr",
     "output_type": "stream",
     "text": [
      "ic| len(new_valid_loader): 1\n"
     ]
    },
    {
     "name": "stdout",
     "output_type": "stream",
     "text": [
      "Loading model: /home/woody/iwb3/iwb3021h/NAS_COMPETITION_RESULTS/stages_pool/Gutenberg/delectable_octopus/config.yaml\n"
     ]
    },
    {
     "name": "stderr",
     "output_type": "stream",
     "text": [
      "ic| len(new_valid_loader): 1\n"
     ]
    },
    {
     "name": "stdout",
     "output_type": "stream",
     "text": [
      "Loading model: /home/woody/iwb3/iwb3021h/NAS_COMPETITION_RESULTS/stages_pool/Gutenberg/juicy_uakari/config.yaml\n"
     ]
    },
    {
     "name": "stderr",
     "output_type": "stream",
     "text": [
      "ic| len(new_valid_loader): 1\n"
     ]
    },
    {
     "name": "stdout",
     "output_type": "stream",
     "text": [
      "Loading model: /home/woody/iwb3/iwb3021h/NAS_COMPETITION_RESULTS/stages_pool/Gutenberg/splendid_duck/config.yaml\n"
     ]
    },
    {
     "name": "stderr",
     "output_type": "stream",
     "text": [
      "ic| len(new_valid_loader): 1\n"
     ]
    },
    {
     "name": "stdout",
     "output_type": "stream",
     "text": [
      "Loading model: /home/woody/iwb3/iwb3021h/NAS_COMPETITION_RESULTS/stages_pool/Gutenberg/tidy_silkworm/config.yaml\n"
     ]
    },
    {
     "name": "stderr",
     "output_type": "stream",
     "text": [
      "ic| len(new_valid_loader): 1\n"
     ]
    },
    {
     "name": "stdout",
     "output_type": "stream",
     "text": [
      "Loading model: /home/woody/iwb3/iwb3021h/NAS_COMPETITION_RESULTS/stages_pool/Gutenberg/invaluable_leopard/config.yaml\n"
     ]
    },
    {
     "name": "stderr",
     "output_type": "stream",
     "text": [
      "ic| len(new_valid_loader): 1\n"
     ]
    },
    {
     "name": "stdout",
     "output_type": "stream",
     "text": [
      "Loading model: /home/woody/iwb3/iwb3021h/NAS_COMPETITION_RESULTS/stages_pool/Gutenberg/amphibian_copperhead/config.yaml\n"
     ]
    },
    {
     "name": "stderr",
     "output_type": "stream",
     "text": [
      "ic| len(new_valid_loader): 1\n"
     ]
    },
    {
     "name": "stdout",
     "output_type": "stream",
     "text": [
      "Loading model: /home/woody/iwb3/iwb3021h/NAS_COMPETITION_RESULTS/stages_pool/Gutenberg/mega_frog/config.yaml\n"
     ]
    },
    {
     "name": "stderr",
     "output_type": "stream",
     "text": [
      "ic| len(new_valid_loader): 1\n"
     ]
    },
    {
     "name": "stdout",
     "output_type": "stream",
     "text": [
      "Loading model: /home/woody/iwb3/iwb3021h/NAS_COMPETITION_RESULTS/stages_pool/Gutenberg/voracious_kagu/config.yaml\n"
     ]
    },
    {
     "name": "stderr",
     "output_type": "stream",
     "text": [
      "/apps/jupyterhub/jh3.1.1-py3.11/envs/pytorch-2.2.0/lib/python3.12/site-packages/torch/nn/modules/module.py:1352: UserWarning: Using a non-full backward hook when the forward contains multiple autograd Nodes is deprecated and will be removed in future versions. This hook will be missing some grad_input. Please use register_full_backward_hook to get the documented behavior.\n",
      "  warnings.warn(\"Using a non-full backward hook when the forward contains multiple autograd Nodes \"\n",
      "ic| len(new_valid_loader): 1\n"
     ]
    },
    {
     "name": "stdout",
     "output_type": "stream",
     "text": [
      "Loading model: /home/woody/iwb3/iwb3021h/NAS_COMPETITION_RESULTS/stages_pool/Gutenberg/golden_scorpion/config.yaml\n"
     ]
    },
    {
     "name": "stderr",
     "output_type": "stream",
     "text": [
      "ic| len(new_valid_loader): 1\n"
     ]
    },
    {
     "name": "stdout",
     "output_type": "stream",
     "text": [
      "Loading model: /home/woody/iwb3/iwb3021h/NAS_COMPETITION_RESULTS/stages_pool/Gutenberg/prudent_crab/config.yaml\n"
     ]
    },
    {
     "name": "stderr",
     "output_type": "stream",
     "text": [
      "ic| len(new_valid_loader): 1\n"
     ]
    },
    {
     "name": "stdout",
     "output_type": "stream",
     "text": [
      "Loading model: /home/woody/iwb3/iwb3021h/NAS_COMPETITION_RESULTS/stages_pool/Gutenberg/delectable_octopus/config.yaml\n"
     ]
    },
    {
     "name": "stderr",
     "output_type": "stream",
     "text": [
      "ic| len(new_valid_loader): 1\n"
     ]
    },
    {
     "name": "stdout",
     "output_type": "stream",
     "text": [
      "Loading model: /home/woody/iwb3/iwb3021h/NAS_COMPETITION_RESULTS/stages_pool/Gutenberg/juicy_uakari/config.yaml\n"
     ]
    },
    {
     "name": "stderr",
     "output_type": "stream",
     "text": [
      "ic| len(new_valid_loader): 1\n"
     ]
    },
    {
     "name": "stdout",
     "output_type": "stream",
     "text": [
      "Loading model: /home/woody/iwb3/iwb3021h/NAS_COMPETITION_RESULTS/stages_pool/Gutenberg/splendid_duck/config.yaml\n"
     ]
    },
    {
     "name": "stderr",
     "output_type": "stream",
     "text": [
      "ic| len(new_valid_loader): 1\n"
     ]
    },
    {
     "name": "stdout",
     "output_type": "stream",
     "text": [
      "Loading model: /home/woody/iwb3/iwb3021h/NAS_COMPETITION_RESULTS/stages_pool/Gutenberg/tidy_silkworm/config.yaml\n"
     ]
    },
    {
     "name": "stderr",
     "output_type": "stream",
     "text": [
      "ic| len(new_valid_loader): 1\n"
     ]
    },
    {
     "name": "stdout",
     "output_type": "stream",
     "text": [
      "Loading model: /home/woody/iwb3/iwb3021h/NAS_COMPETITION_RESULTS/stages_pool/Gutenberg/invaluable_leopard/config.yaml\n"
     ]
    },
    {
     "name": "stderr",
     "output_type": "stream",
     "text": [
      "ic| len(new_valid_loader): 1\n"
     ]
    },
    {
     "name": "stdout",
     "output_type": "stream",
     "text": [
      "Loading model: /home/woody/iwb3/iwb3021h/NAS_COMPETITION_RESULTS/stages_pool/Gutenberg/amphibian_copperhead/config.yaml\n"
     ]
    },
    {
     "name": "stderr",
     "output_type": "stream",
     "text": [
      "ic| len(new_valid_loader): 1\n"
     ]
    },
    {
     "name": "stdout",
     "output_type": "stream",
     "text": [
      "Loading model: /home/woody/iwb3/iwb3021h/NAS_COMPETITION_RESULTS/stages_pool/Gutenberg/mega_frog/config.yaml\n"
     ]
    },
    {
     "name": "stderr",
     "output_type": "stream",
     "text": [
      "ic| len(new_valid_loader): 1\n"
     ]
    },
    {
     "name": "stdout",
     "output_type": "stream",
     "text": [
      "Loading model: /home/woody/iwb3/iwb3021h/NAS_COMPETITION_RESULTS/stages_pool/Gutenberg/voracious_kagu/config.yaml\n"
     ]
    },
    {
     "name": "stderr",
     "output_type": "stream",
     "text": [
      "/apps/jupyterhub/jh3.1.1-py3.11/envs/pytorch-2.2.0/lib/python3.12/site-packages/torch/nn/modules/module.py:1352: UserWarning: Using a non-full backward hook when the forward contains multiple autograd Nodes is deprecated and will be removed in future versions. This hook will be missing some grad_input. Please use register_full_backward_hook to get the documented behavior.\n",
      "  warnings.warn(\"Using a non-full backward hook when the forward contains multiple autograd Nodes \"\n",
      "ic| len(new_valid_loader): 1\n"
     ]
    },
    {
     "name": "stdout",
     "output_type": "stream",
     "text": [
      "Loading model: /home/woody/iwb3/iwb3021h/NAS_COMPETITION_RESULTS/stages_pool/Gutenberg/golden_scorpion/config.yaml\n"
     ]
    },
    {
     "name": "stderr",
     "output_type": "stream",
     "text": [
      "ic| len(new_valid_loader): 1\n"
     ]
    },
    {
     "name": "stdout",
     "output_type": "stream",
     "text": [
      "Loading model: /home/woody/iwb3/iwb3021h/NAS_COMPETITION_RESULTS/stages_pool/Gutenberg/prudent_crab/config.yaml\n"
     ]
    },
    {
     "name": "stderr",
     "output_type": "stream",
     "text": [
      "ic| len(new_valid_loader): 1\n"
     ]
    },
    {
     "name": "stdout",
     "output_type": "stream",
     "text": [
      "Loading model: /home/woody/iwb3/iwb3021h/NAS_COMPETITION_RESULTS/stages_pool/Gutenberg/delectable_octopus/config.yaml\n"
     ]
    },
    {
     "name": "stderr",
     "output_type": "stream",
     "text": [
      "ic| len(new_valid_loader): 1\n"
     ]
    },
    {
     "name": "stdout",
     "output_type": "stream",
     "text": [
      "Loading model: /home/woody/iwb3/iwb3021h/NAS_COMPETITION_RESULTS/stages_pool/Gutenberg/juicy_uakari/config.yaml\n"
     ]
    },
    {
     "name": "stderr",
     "output_type": "stream",
     "text": [
      "ic| len(new_valid_loader): 1\n"
     ]
    },
    {
     "name": "stdout",
     "output_type": "stream",
     "text": [
      "Loading model: /home/woody/iwb3/iwb3021h/NAS_COMPETITION_RESULTS/stages_pool/Gutenberg/splendid_duck/config.yaml\n"
     ]
    },
    {
     "name": "stderr",
     "output_type": "stream",
     "text": [
      "ic| len(new_valid_loader): 1\n"
     ]
    },
    {
     "name": "stdout",
     "output_type": "stream",
     "text": [
      "Loading model: /home/woody/iwb3/iwb3021h/NAS_COMPETITION_RESULTS/stages_pool/Gutenberg/tidy_silkworm/config.yaml\n"
     ]
    },
    {
     "name": "stderr",
     "output_type": "stream",
     "text": [
      "ic| len(new_valid_loader): 1\n"
     ]
    },
    {
     "name": "stdout",
     "output_type": "stream",
     "text": [
      "Loading model: /home/woody/iwb3/iwb3021h/NAS_COMPETITION_RESULTS/stages_pool/Gutenberg/invaluable_leopard/config.yaml\n"
     ]
    },
    {
     "name": "stderr",
     "output_type": "stream",
     "text": [
      "Exception ignored in: <bound method IPythonKernel._clean_thread_parent_frames of <ipykernel.ipkernel.IPythonKernel object at 0x7f59e3f85f40>>\n",
      "Traceback (most recent call last):\n",
      "  File \"/apps/jupyterhub/jh3.1.1-py3.11/envs/pytorch-2.2.0/lib/python3.12/site-packages/ipykernel/ipkernel.py\", line 770, in _clean_thread_parent_frames\n",
      "    def _clean_thread_parent_frames(\n",
      "\n",
      "KeyboardInterrupt: \n",
      "ic| len(new_valid_loader): 1\n"
     ]
    },
    {
     "name": "stdout",
     "output_type": "stream",
     "text": [
      "Loading model: /home/woody/iwb3/iwb3021h/NAS_COMPETITION_RESULTS/stages_pool/Gutenberg/amphibian_copperhead/config.yaml\n"
     ]
    },
    {
     "name": "stderr",
     "output_type": "stream",
     "text": [
      "ic| len(new_valid_loader): 1\n"
     ]
    },
    {
     "name": "stdout",
     "output_type": "stream",
     "text": [
      "Loading model: /home/woody/iwb3/iwb3021h/NAS_COMPETITION_RESULTS/stages_pool/Gutenberg/mega_frog/config.yaml\n"
     ]
    },
    {
     "name": "stderr",
     "output_type": "stream",
     "text": [
      "ic| '#############'\n",
      "ic| aug: 6\n",
      "ic| train_loader.dataset.transform.transforms: [AugMix(interpolation=InterpolationMode.BILINEAR, severity=3, mixture_width=3, chain_depth=-1, alpha=1.0, all_ops=True),\n",
      "                                                Normalize(mean=tensor([0.0370]), std=tensor([0.1889]))]\n",
      "ic| len(new_valid_loader): 1\n"
     ]
    },
    {
     "name": "stdout",
     "output_type": "stream",
     "text": [
      "Loading model: /home/woody/iwb3/iwb3021h/NAS_COMPETITION_RESULTS/stages_pool/Gutenberg/voracious_kagu/config.yaml\n"
     ]
    },
    {
     "name": "stderr",
     "output_type": "stream",
     "text": [
      "/apps/jupyterhub/jh3.1.1-py3.11/envs/pytorch-2.2.0/lib/python3.12/site-packages/torch/nn/modules/module.py:1352: UserWarning: Using a non-full backward hook when the forward contains multiple autograd Nodes is deprecated and will be removed in future versions. This hook will be missing some grad_input. Please use register_full_backward_hook to get the documented behavior.\n",
      "  warnings.warn(\"Using a non-full backward hook when the forward contains multiple autograd Nodes \"\n",
      "ic| len(new_valid_loader): 1\n"
     ]
    },
    {
     "name": "stdout",
     "output_type": "stream",
     "text": [
      "Loading model: /home/woody/iwb3/iwb3021h/NAS_COMPETITION_RESULTS/stages_pool/Gutenberg/golden_scorpion/config.yaml\n"
     ]
    },
    {
     "name": "stderr",
     "output_type": "stream",
     "text": [
      "ic| len(new_valid_loader): 1\n"
     ]
    },
    {
     "name": "stdout",
     "output_type": "stream",
     "text": [
      "Loading model: /home/woody/iwb3/iwb3021h/NAS_COMPETITION_RESULTS/stages_pool/Gutenberg/prudent_crab/config.yaml\n"
     ]
    },
    {
     "name": "stderr",
     "output_type": "stream",
     "text": [
      "ic| len(new_valid_loader): 1\n"
     ]
    },
    {
     "name": "stdout",
     "output_type": "stream",
     "text": [
      "Loading model: /home/woody/iwb3/iwb3021h/NAS_COMPETITION_RESULTS/stages_pool/Gutenberg/delectable_octopus/config.yaml\n"
     ]
    },
    {
     "name": "stderr",
     "output_type": "stream",
     "text": [
      "ic| len(new_valid_loader): 1\n"
     ]
    },
    {
     "name": "stdout",
     "output_type": "stream",
     "text": [
      "Loading model: /home/woody/iwb3/iwb3021h/NAS_COMPETITION_RESULTS/stages_pool/Gutenberg/juicy_uakari/config.yaml\n"
     ]
    },
    {
     "name": "stderr",
     "output_type": "stream",
     "text": [
      "ic| len(new_valid_loader): 1\n"
     ]
    },
    {
     "name": "stdout",
     "output_type": "stream",
     "text": [
      "Loading model: /home/woody/iwb3/iwb3021h/NAS_COMPETITION_RESULTS/stages_pool/Gutenberg/splendid_duck/config.yaml\n"
     ]
    },
    {
     "name": "stderr",
     "output_type": "stream",
     "text": [
      "ic| len(new_valid_loader): 1\n"
     ]
    },
    {
     "name": "stdout",
     "output_type": "stream",
     "text": [
      "Loading model: /home/woody/iwb3/iwb3021h/NAS_COMPETITION_RESULTS/stages_pool/Gutenberg/tidy_silkworm/config.yaml\n"
     ]
    },
    {
     "name": "stderr",
     "output_type": "stream",
     "text": [
      "ic| len(new_valid_loader): 1\n"
     ]
    },
    {
     "name": "stdout",
     "output_type": "stream",
     "text": [
      "Loading model: /home/woody/iwb3/iwb3021h/NAS_COMPETITION_RESULTS/stages_pool/Gutenberg/invaluable_leopard/config.yaml\n"
     ]
    },
    {
     "name": "stderr",
     "output_type": "stream",
     "text": [
      "ic| len(new_valid_loader): 1\n"
     ]
    },
    {
     "name": "stdout",
     "output_type": "stream",
     "text": [
      "Loading model: /home/woody/iwb3/iwb3021h/NAS_COMPETITION_RESULTS/stages_pool/Gutenberg/amphibian_copperhead/config.yaml\n"
     ]
    },
    {
     "name": "stderr",
     "output_type": "stream",
     "text": [
      "ic| len(new_valid_loader): 1\n"
     ]
    },
    {
     "name": "stdout",
     "output_type": "stream",
     "text": [
      "Loading model: /home/woody/iwb3/iwb3021h/NAS_COMPETITION_RESULTS/stages_pool/Gutenberg/mega_frog/config.yaml\n"
     ]
    },
    {
     "name": "stderr",
     "output_type": "stream",
     "text": [
      "ic| len(new_valid_loader): 1\n"
     ]
    },
    {
     "name": "stdout",
     "output_type": "stream",
     "text": [
      "Loading model: /home/woody/iwb3/iwb3021h/NAS_COMPETITION_RESULTS/stages_pool/Gutenberg/voracious_kagu/config.yaml\n"
     ]
    },
    {
     "name": "stderr",
     "output_type": "stream",
     "text": [
      "/apps/jupyterhub/jh3.1.1-py3.11/envs/pytorch-2.2.0/lib/python3.12/site-packages/torch/nn/modules/module.py:1352: UserWarning: Using a non-full backward hook when the forward contains multiple autograd Nodes is deprecated and will be removed in future versions. This hook will be missing some grad_input. Please use register_full_backward_hook to get the documented behavior.\n",
      "  warnings.warn(\"Using a non-full backward hook when the forward contains multiple autograd Nodes \"\n",
      "ic| len(new_valid_loader): 1\n"
     ]
    },
    {
     "name": "stdout",
     "output_type": "stream",
     "text": [
      "Loading model: /home/woody/iwb3/iwb3021h/NAS_COMPETITION_RESULTS/stages_pool/Gutenberg/golden_scorpion/config.yaml\n"
     ]
    },
    {
     "name": "stderr",
     "output_type": "stream",
     "text": [
      "ic| len(new_valid_loader): 1\n"
     ]
    },
    {
     "name": "stdout",
     "output_type": "stream",
     "text": [
      "Loading model: /home/woody/iwb3/iwb3021h/NAS_COMPETITION_RESULTS/stages_pool/Gutenberg/prudent_crab/config.yaml\n"
     ]
    },
    {
     "name": "stderr",
     "output_type": "stream",
     "text": [
      "ic| len(new_valid_loader): 1\n"
     ]
    },
    {
     "name": "stdout",
     "output_type": "stream",
     "text": [
      "Loading model: /home/woody/iwb3/iwb3021h/NAS_COMPETITION_RESULTS/stages_pool/Gutenberg/delectable_octopus/config.yaml\n"
     ]
    },
    {
     "name": "stderr",
     "output_type": "stream",
     "text": [
      "ic| len(new_valid_loader): 1\n"
     ]
    },
    {
     "name": "stdout",
     "output_type": "stream",
     "text": [
      "Loading model: /home/woody/iwb3/iwb3021h/NAS_COMPETITION_RESULTS/stages_pool/Gutenberg/juicy_uakari/config.yaml\n"
     ]
    },
    {
     "name": "stderr",
     "output_type": "stream",
     "text": [
      "ic| len(new_valid_loader): 1\n"
     ]
    },
    {
     "name": "stdout",
     "output_type": "stream",
     "text": [
      "Loading model: /home/woody/iwb3/iwb3021h/NAS_COMPETITION_RESULTS/stages_pool/Gutenberg/splendid_duck/config.yaml\n"
     ]
    },
    {
     "name": "stderr",
     "output_type": "stream",
     "text": [
      "ic| len(new_valid_loader): 1\n"
     ]
    },
    {
     "name": "stdout",
     "output_type": "stream",
     "text": [
      "Loading model: /home/woody/iwb3/iwb3021h/NAS_COMPETITION_RESULTS/stages_pool/Gutenberg/tidy_silkworm/config.yaml\n"
     ]
    },
    {
     "name": "stderr",
     "output_type": "stream",
     "text": [
      "ic| len(new_valid_loader): 1\n"
     ]
    },
    {
     "name": "stdout",
     "output_type": "stream",
     "text": [
      "Loading model: /home/woody/iwb3/iwb3021h/NAS_COMPETITION_RESULTS/stages_pool/Gutenberg/invaluable_leopard/config.yaml\n"
     ]
    },
    {
     "name": "stderr",
     "output_type": "stream",
     "text": [
      "ic| len(new_valid_loader): 1\n"
     ]
    },
    {
     "name": "stdout",
     "output_type": "stream",
     "text": [
      "Loading model: /home/woody/iwb3/iwb3021h/NAS_COMPETITION_RESULTS/stages_pool/Gutenberg/amphibian_copperhead/config.yaml\n"
     ]
    },
    {
     "name": "stderr",
     "output_type": "stream",
     "text": [
      "ic| len(new_valid_loader): 1\n"
     ]
    },
    {
     "name": "stdout",
     "output_type": "stream",
     "text": [
      "Loading model: /home/woody/iwb3/iwb3021h/NAS_COMPETITION_RESULTS/stages_pool/Gutenberg/mega_frog/config.yaml\n"
     ]
    },
    {
     "name": "stderr",
     "output_type": "stream",
     "text": [
      "ic| len(new_valid_loader): 1\n"
     ]
    },
    {
     "name": "stdout",
     "output_type": "stream",
     "text": [
      "Loading model: /home/woody/iwb3/iwb3021h/NAS_COMPETITION_RESULTS/stages_pool/Gutenberg/voracious_kagu/config.yaml\n"
     ]
    },
    {
     "name": "stderr",
     "output_type": "stream",
     "text": [
      "/apps/jupyterhub/jh3.1.1-py3.11/envs/pytorch-2.2.0/lib/python3.12/site-packages/torch/nn/modules/module.py:1352: UserWarning: Using a non-full backward hook when the forward contains multiple autograd Nodes is deprecated and will be removed in future versions. This hook will be missing some grad_input. Please use register_full_backward_hook to get the documented behavior.\n",
      "  warnings.warn(\"Using a non-full backward hook when the forward contains multiple autograd Nodes \"\n",
      "ic| len(new_valid_loader): 1\n"
     ]
    },
    {
     "name": "stdout",
     "output_type": "stream",
     "text": [
      "Loading model: /home/woody/iwb3/iwb3021h/NAS_COMPETITION_RESULTS/stages_pool/Gutenberg/golden_scorpion/config.yaml\n"
     ]
    },
    {
     "name": "stderr",
     "output_type": "stream",
     "text": [
      "ic| len(new_valid_loader): 1\n"
     ]
    },
    {
     "name": "stdout",
     "output_type": "stream",
     "text": [
      "Loading model: /home/woody/iwb3/iwb3021h/NAS_COMPETITION_RESULTS/stages_pool/Gutenberg/prudent_crab/config.yaml\n"
     ]
    },
    {
     "name": "stderr",
     "output_type": "stream",
     "text": [
      "ic| len(new_valid_loader): 1\n"
     ]
    },
    {
     "name": "stdout",
     "output_type": "stream",
     "text": [
      "Loading model: /home/woody/iwb3/iwb3021h/NAS_COMPETITION_RESULTS/stages_pool/Gutenberg/delectable_octopus/config.yaml\n"
     ]
    },
    {
     "name": "stderr",
     "output_type": "stream",
     "text": [
      "ic| len(new_valid_loader): 1\n"
     ]
    },
    {
     "name": "stdout",
     "output_type": "stream",
     "text": [
      "Loading model: /home/woody/iwb3/iwb3021h/NAS_COMPETITION_RESULTS/stages_pool/Gutenberg/juicy_uakari/config.yaml\n"
     ]
    },
    {
     "name": "stderr",
     "output_type": "stream",
     "text": [
      "ic| len(new_valid_loader): 1\n"
     ]
    },
    {
     "name": "stdout",
     "output_type": "stream",
     "text": [
      "Loading model: /home/woody/iwb3/iwb3021h/NAS_COMPETITION_RESULTS/stages_pool/Gutenberg/splendid_duck/config.yaml\n"
     ]
    },
    {
     "name": "stderr",
     "output_type": "stream",
     "text": [
      "ic| len(new_valid_loader): 1\n"
     ]
    },
    {
     "name": "stdout",
     "output_type": "stream",
     "text": [
      "Loading model: /home/woody/iwb3/iwb3021h/NAS_COMPETITION_RESULTS/stages_pool/Gutenberg/tidy_silkworm/config.yaml\n"
     ]
    },
    {
     "name": "stderr",
     "output_type": "stream",
     "text": [
      "ic| len(new_valid_loader): 1\n"
     ]
    },
    {
     "name": "stdout",
     "output_type": "stream",
     "text": [
      "Loading model: /home/woody/iwb3/iwb3021h/NAS_COMPETITION_RESULTS/stages_pool/Gutenberg/invaluable_leopard/config.yaml\n"
     ]
    },
    {
     "name": "stderr",
     "output_type": "stream",
     "text": [
      "ic| len(new_valid_loader): 1\n"
     ]
    },
    {
     "name": "stdout",
     "output_type": "stream",
     "text": [
      "Loading model: /home/woody/iwb3/iwb3021h/NAS_COMPETITION_RESULTS/stages_pool/Gutenberg/amphibian_copperhead/config.yaml\n"
     ]
    },
    {
     "name": "stderr",
     "output_type": "stream",
     "text": [
      "ic| len(new_valid_loader): 1\n"
     ]
    },
    {
     "name": "stdout",
     "output_type": "stream",
     "text": [
      "Loading model: /home/woody/iwb3/iwb3021h/NAS_COMPETITION_RESULTS/stages_pool/Gutenberg/mega_frog/config.yaml\n"
     ]
    },
    {
     "name": "stderr",
     "output_type": "stream",
     "text": [
      "ic| len(new_valid_loader): 1\n"
     ]
    },
    {
     "name": "stdout",
     "output_type": "stream",
     "text": [
      "Loading model: /home/woody/iwb3/iwb3021h/NAS_COMPETITION_RESULTS/stages_pool/Gutenberg/voracious_kagu/config.yaml\n"
     ]
    },
    {
     "name": "stderr",
     "output_type": "stream",
     "text": [
      "/apps/jupyterhub/jh3.1.1-py3.11/envs/pytorch-2.2.0/lib/python3.12/site-packages/torch/nn/modules/module.py:1352: UserWarning: Using a non-full backward hook when the forward contains multiple autograd Nodes is deprecated and will be removed in future versions. This hook will be missing some grad_input. Please use register_full_backward_hook to get the documented behavior.\n",
      "  warnings.warn(\"Using a non-full backward hook when the forward contains multiple autograd Nodes \"\n",
      "ic| len(new_valid_loader): 1\n"
     ]
    },
    {
     "name": "stdout",
     "output_type": "stream",
     "text": [
      "Loading model: /home/woody/iwb3/iwb3021h/NAS_COMPETITION_RESULTS/stages_pool/Gutenberg/golden_scorpion/config.yaml\n"
     ]
    },
    {
     "name": "stderr",
     "output_type": "stream",
     "text": [
      "ic| len(new_valid_loader): 1\n"
     ]
    },
    {
     "name": "stdout",
     "output_type": "stream",
     "text": [
      "Loading model: /home/woody/iwb3/iwb3021h/NAS_COMPETITION_RESULTS/stages_pool/Gutenberg/prudent_crab/config.yaml\n"
     ]
    },
    {
     "name": "stderr",
     "output_type": "stream",
     "text": [
      "ic| len(new_valid_loader): 1\n"
     ]
    },
    {
     "name": "stdout",
     "output_type": "stream",
     "text": [
      "Loading model: /home/woody/iwb3/iwb3021h/NAS_COMPETITION_RESULTS/stages_pool/Gutenberg/delectable_octopus/config.yaml\n"
     ]
    },
    {
     "name": "stderr",
     "output_type": "stream",
     "text": [
      "ic| len(new_valid_loader): 1\n"
     ]
    },
    {
     "name": "stdout",
     "output_type": "stream",
     "text": [
      "Loading model: /home/woody/iwb3/iwb3021h/NAS_COMPETITION_RESULTS/stages_pool/Gutenberg/juicy_uakari/config.yaml\n"
     ]
    },
    {
     "name": "stderr",
     "output_type": "stream",
     "text": [
      "ic| len(new_valid_loader): 1\n"
     ]
    },
    {
     "name": "stdout",
     "output_type": "stream",
     "text": [
      "Loading model: /home/woody/iwb3/iwb3021h/NAS_COMPETITION_RESULTS/stages_pool/Gutenberg/splendid_duck/config.yaml\n"
     ]
    },
    {
     "name": "stderr",
     "output_type": "stream",
     "text": [
      "ic| len(new_valid_loader): 1\n"
     ]
    },
    {
     "name": "stdout",
     "output_type": "stream",
     "text": [
      "Loading model: /home/woody/iwb3/iwb3021h/NAS_COMPETITION_RESULTS/stages_pool/Gutenberg/tidy_silkworm/config.yaml\n"
     ]
    },
    {
     "name": "stderr",
     "output_type": "stream",
     "text": [
      "ic| len(new_valid_loader): 1\n"
     ]
    },
    {
     "name": "stdout",
     "output_type": "stream",
     "text": [
      "Loading model: /home/woody/iwb3/iwb3021h/NAS_COMPETITION_RESULTS/stages_pool/Gutenberg/invaluable_leopard/config.yaml\n"
     ]
    },
    {
     "name": "stderr",
     "output_type": "stream",
     "text": [
      "ic| len(new_valid_loader): 1\n"
     ]
    },
    {
     "name": "stdout",
     "output_type": "stream",
     "text": [
      "Loading model: /home/woody/iwb3/iwb3021h/NAS_COMPETITION_RESULTS/stages_pool/Gutenberg/amphibian_copperhead/config.yaml\n"
     ]
    },
    {
     "name": "stderr",
     "output_type": "stream",
     "text": [
      "ic| len(new_valid_loader): 1\n"
     ]
    },
    {
     "name": "stdout",
     "output_type": "stream",
     "text": [
      "Loading model: /home/woody/iwb3/iwb3021h/NAS_COMPETITION_RESULTS/stages_pool/Gutenberg/mega_frog/config.yaml\n"
     ]
    },
    {
     "name": "stderr",
     "output_type": "stream",
     "text": [
      "ic| len(new_valid_loader): 1\n"
     ]
    },
    {
     "name": "stdout",
     "output_type": "stream",
     "text": [
      "Loading model: /home/woody/iwb3/iwb3021h/NAS_COMPETITION_RESULTS/stages_pool/Gutenberg/voracious_kagu/config.yaml\n"
     ]
    },
    {
     "name": "stderr",
     "output_type": "stream",
     "text": [
      "/apps/jupyterhub/jh3.1.1-py3.11/envs/pytorch-2.2.0/lib/python3.12/site-packages/torch/nn/modules/module.py:1352: UserWarning: Using a non-full backward hook when the forward contains multiple autograd Nodes is deprecated and will be removed in future versions. This hook will be missing some grad_input. Please use register_full_backward_hook to get the documented behavior.\n",
      "  warnings.warn(\"Using a non-full backward hook when the forward contains multiple autograd Nodes \"\n",
      "ic| len(new_valid_loader): 1\n"
     ]
    },
    {
     "name": "stdout",
     "output_type": "stream",
     "text": [
      "Loading model: /home/woody/iwb3/iwb3021h/NAS_COMPETITION_RESULTS/stages_pool/Gutenberg/golden_scorpion/config.yaml\n"
     ]
    },
    {
     "name": "stderr",
     "output_type": "stream",
     "text": [
      "ic| len(new_valid_loader): 1\n"
     ]
    },
    {
     "name": "stdout",
     "output_type": "stream",
     "text": [
      "Loading model: /home/woody/iwb3/iwb3021h/NAS_COMPETITION_RESULTS/stages_pool/Gutenberg/prudent_crab/config.yaml\n"
     ]
    },
    {
     "name": "stderr",
     "output_type": "stream",
     "text": [
      "ic| len(new_valid_loader): 1\n"
     ]
    },
    {
     "name": "stdout",
     "output_type": "stream",
     "text": [
      "Loading model: /home/woody/iwb3/iwb3021h/NAS_COMPETITION_RESULTS/stages_pool/Gutenberg/delectable_octopus/config.yaml\n"
     ]
    },
    {
     "name": "stderr",
     "output_type": "stream",
     "text": [
      "ic| len(new_valid_loader): 1\n"
     ]
    },
    {
     "name": "stdout",
     "output_type": "stream",
     "text": [
      "Loading model: /home/woody/iwb3/iwb3021h/NAS_COMPETITION_RESULTS/stages_pool/Gutenberg/juicy_uakari/config.yaml\n"
     ]
    },
    {
     "name": "stderr",
     "output_type": "stream",
     "text": [
      "ic| len(new_valid_loader): 1\n"
     ]
    },
    {
     "name": "stdout",
     "output_type": "stream",
     "text": [
      "Loading model: /home/woody/iwb3/iwb3021h/NAS_COMPETITION_RESULTS/stages_pool/Gutenberg/splendid_duck/config.yaml\n"
     ]
    },
    {
     "name": "stderr",
     "output_type": "stream",
     "text": [
      "ic| len(new_valid_loader): 1\n"
     ]
    },
    {
     "name": "stdout",
     "output_type": "stream",
     "text": [
      "Loading model: /home/woody/iwb3/iwb3021h/NAS_COMPETITION_RESULTS/stages_pool/Gutenberg/tidy_silkworm/config.yaml\n"
     ]
    },
    {
     "name": "stderr",
     "output_type": "stream",
     "text": [
      "ic| len(new_valid_loader): 1\n"
     ]
    },
    {
     "name": "stdout",
     "output_type": "stream",
     "text": [
      "Loading model: /home/woody/iwb3/iwb3021h/NAS_COMPETITION_RESULTS/stages_pool/Gutenberg/invaluable_leopard/config.yaml\n"
     ]
    },
    {
     "name": "stderr",
     "output_type": "stream",
     "text": [
      "ic| len(new_valid_loader): 1\n"
     ]
    },
    {
     "name": "stdout",
     "output_type": "stream",
     "text": [
      "Loading model: /home/woody/iwb3/iwb3021h/NAS_COMPETITION_RESULTS/stages_pool/Gutenberg/amphibian_copperhead/config.yaml\n"
     ]
    },
    {
     "name": "stderr",
     "output_type": "stream",
     "text": [
      "ic| len(new_valid_loader): 1\n"
     ]
    },
    {
     "name": "stdout",
     "output_type": "stream",
     "text": [
      "Loading model: /home/woody/iwb3/iwb3021h/NAS_COMPETITION_RESULTS/stages_pool/Gutenberg/mega_frog/config.yaml\n"
     ]
    },
    {
     "name": "stderr",
     "output_type": "stream",
     "text": [
      "ic| '#############'\n",
      "ic| aug: 7\n",
      "ic| train_loader.dataset.transform.transforms: [AugMix(interpolation=InterpolationMode.BILINEAR, severity=1, mixture_width=3, chain_depth=-1, alpha=1.0, all_ops=True),\n",
      "                                                Normalize(mean=tensor([0.0370]), std=tensor([0.1889]))]\n",
      "ic| len(new_valid_loader): 1\n"
     ]
    },
    {
     "name": "stdout",
     "output_type": "stream",
     "text": [
      "Loading model: /home/woody/iwb3/iwb3021h/NAS_COMPETITION_RESULTS/stages_pool/Gutenberg/voracious_kagu/config.yaml\n"
     ]
    },
    {
     "name": "stderr",
     "output_type": "stream",
     "text": [
      "/apps/jupyterhub/jh3.1.1-py3.11/envs/pytorch-2.2.0/lib/python3.12/site-packages/torch/nn/modules/module.py:1352: UserWarning: Using a non-full backward hook when the forward contains multiple autograd Nodes is deprecated and will be removed in future versions. This hook will be missing some grad_input. Please use register_full_backward_hook to get the documented behavior.\n",
      "  warnings.warn(\"Using a non-full backward hook when the forward contains multiple autograd Nodes \"\n",
      "ic| len(new_valid_loader): 1\n"
     ]
    },
    {
     "name": "stdout",
     "output_type": "stream",
     "text": [
      "Loading model: /home/woody/iwb3/iwb3021h/NAS_COMPETITION_RESULTS/stages_pool/Gutenberg/golden_scorpion/config.yaml\n"
     ]
    },
    {
     "name": "stderr",
     "output_type": "stream",
     "text": [
      "ic| len(new_valid_loader): 1\n"
     ]
    },
    {
     "name": "stdout",
     "output_type": "stream",
     "text": [
      "Loading model: /home/woody/iwb3/iwb3021h/NAS_COMPETITION_RESULTS/stages_pool/Gutenberg/prudent_crab/config.yaml\n"
     ]
    },
    {
     "name": "stderr",
     "output_type": "stream",
     "text": [
      "ic| len(new_valid_loader): 1\n"
     ]
    },
    {
     "name": "stdout",
     "output_type": "stream",
     "text": [
      "Loading model: /home/woody/iwb3/iwb3021h/NAS_COMPETITION_RESULTS/stages_pool/Gutenberg/delectable_octopus/config.yaml\n"
     ]
    },
    {
     "name": "stderr",
     "output_type": "stream",
     "text": [
      "ic| len(new_valid_loader): 1\n"
     ]
    },
    {
     "name": "stdout",
     "output_type": "stream",
     "text": [
      "Loading model: /home/woody/iwb3/iwb3021h/NAS_COMPETITION_RESULTS/stages_pool/Gutenberg/juicy_uakari/config.yaml\n"
     ]
    },
    {
     "name": "stderr",
     "output_type": "stream",
     "text": [
      "ic| len(new_valid_loader): 1\n"
     ]
    },
    {
     "name": "stdout",
     "output_type": "stream",
     "text": [
      "Loading model: /home/woody/iwb3/iwb3021h/NAS_COMPETITION_RESULTS/stages_pool/Gutenberg/splendid_duck/config.yaml\n"
     ]
    },
    {
     "name": "stderr",
     "output_type": "stream",
     "text": [
      "ic| len(new_valid_loader): 1\n"
     ]
    },
    {
     "name": "stdout",
     "output_type": "stream",
     "text": [
      "Loading model: /home/woody/iwb3/iwb3021h/NAS_COMPETITION_RESULTS/stages_pool/Gutenberg/tidy_silkworm/config.yaml\n"
     ]
    },
    {
     "name": "stderr",
     "output_type": "stream",
     "text": [
      "ic| len(new_valid_loader): 1\n"
     ]
    },
    {
     "name": "stdout",
     "output_type": "stream",
     "text": [
      "Loading model: /home/woody/iwb3/iwb3021h/NAS_COMPETITION_RESULTS/stages_pool/Gutenberg/invaluable_leopard/config.yaml\n"
     ]
    },
    {
     "name": "stderr",
     "output_type": "stream",
     "text": [
      "ic| len(new_valid_loader): 1\n"
     ]
    },
    {
     "name": "stdout",
     "output_type": "stream",
     "text": [
      "Loading model: /home/woody/iwb3/iwb3021h/NAS_COMPETITION_RESULTS/stages_pool/Gutenberg/amphibian_copperhead/config.yaml\n"
     ]
    },
    {
     "name": "stderr",
     "output_type": "stream",
     "text": [
      "ic| len(new_valid_loader): 1\n"
     ]
    },
    {
     "name": "stdout",
     "output_type": "stream",
     "text": [
      "Loading model: /home/woody/iwb3/iwb3021h/NAS_COMPETITION_RESULTS/stages_pool/Gutenberg/mega_frog/config.yaml\n"
     ]
    },
    {
     "name": "stderr",
     "output_type": "stream",
     "text": [
      "ic| len(new_valid_loader): 1\n"
     ]
    },
    {
     "name": "stdout",
     "output_type": "stream",
     "text": [
      "Loading model: /home/woody/iwb3/iwb3021h/NAS_COMPETITION_RESULTS/stages_pool/Gutenberg/voracious_kagu/config.yaml\n"
     ]
    },
    {
     "name": "stderr",
     "output_type": "stream",
     "text": [
      "/apps/jupyterhub/jh3.1.1-py3.11/envs/pytorch-2.2.0/lib/python3.12/site-packages/torch/nn/modules/module.py:1352: UserWarning: Using a non-full backward hook when the forward contains multiple autograd Nodes is deprecated and will be removed in future versions. This hook will be missing some grad_input. Please use register_full_backward_hook to get the documented behavior.\n",
      "  warnings.warn(\"Using a non-full backward hook when the forward contains multiple autograd Nodes \"\n",
      "ic| len(new_valid_loader): 1\n"
     ]
    },
    {
     "name": "stdout",
     "output_type": "stream",
     "text": [
      "Loading model: /home/woody/iwb3/iwb3021h/NAS_COMPETITION_RESULTS/stages_pool/Gutenberg/golden_scorpion/config.yaml\n"
     ]
    },
    {
     "name": "stderr",
     "output_type": "stream",
     "text": [
      "ic| len(new_valid_loader): 1\n"
     ]
    },
    {
     "name": "stdout",
     "output_type": "stream",
     "text": [
      "Loading model: /home/woody/iwb3/iwb3021h/NAS_COMPETITION_RESULTS/stages_pool/Gutenberg/prudent_crab/config.yaml\n"
     ]
    },
    {
     "name": "stderr",
     "output_type": "stream",
     "text": [
      "ic| len(new_valid_loader): 1\n"
     ]
    },
    {
     "name": "stdout",
     "output_type": "stream",
     "text": [
      "Loading model: /home/woody/iwb3/iwb3021h/NAS_COMPETITION_RESULTS/stages_pool/Gutenberg/delectable_octopus/config.yaml\n"
     ]
    },
    {
     "name": "stderr",
     "output_type": "stream",
     "text": [
      "ic| len(new_valid_loader): 1\n"
     ]
    },
    {
     "name": "stdout",
     "output_type": "stream",
     "text": [
      "Loading model: /home/woody/iwb3/iwb3021h/NAS_COMPETITION_RESULTS/stages_pool/Gutenberg/juicy_uakari/config.yaml\n"
     ]
    },
    {
     "name": "stderr",
     "output_type": "stream",
     "text": [
      "ic| len(new_valid_loader): 1\n"
     ]
    },
    {
     "name": "stdout",
     "output_type": "stream",
     "text": [
      "Loading model: /home/woody/iwb3/iwb3021h/NAS_COMPETITION_RESULTS/stages_pool/Gutenberg/splendid_duck/config.yaml\n"
     ]
    },
    {
     "name": "stderr",
     "output_type": "stream",
     "text": [
      "ic| len(new_valid_loader): 1\n"
     ]
    },
    {
     "name": "stdout",
     "output_type": "stream",
     "text": [
      "Loading model: /home/woody/iwb3/iwb3021h/NAS_COMPETITION_RESULTS/stages_pool/Gutenberg/tidy_silkworm/config.yaml\n"
     ]
    },
    {
     "name": "stderr",
     "output_type": "stream",
     "text": [
      "ic| len(new_valid_loader): 1\n"
     ]
    },
    {
     "name": "stdout",
     "output_type": "stream",
     "text": [
      "Loading model: /home/woody/iwb3/iwb3021h/NAS_COMPETITION_RESULTS/stages_pool/Gutenberg/invaluable_leopard/config.yaml\n"
     ]
    },
    {
     "name": "stderr",
     "output_type": "stream",
     "text": [
      "ic| len(new_valid_loader): 1\n"
     ]
    },
    {
     "name": "stdout",
     "output_type": "stream",
     "text": [
      "Loading model: /home/woody/iwb3/iwb3021h/NAS_COMPETITION_RESULTS/stages_pool/Gutenberg/amphibian_copperhead/config.yaml\n"
     ]
    },
    {
     "name": "stderr",
     "output_type": "stream",
     "text": [
      "ic| len(new_valid_loader): 1\n"
     ]
    },
    {
     "name": "stdout",
     "output_type": "stream",
     "text": [
      "Loading model: /home/woody/iwb3/iwb3021h/NAS_COMPETITION_RESULTS/stages_pool/Gutenberg/mega_frog/config.yaml\n"
     ]
    },
    {
     "name": "stderr",
     "output_type": "stream",
     "text": [
      "ic| len(new_valid_loader): 1\n"
     ]
    },
    {
     "name": "stdout",
     "output_type": "stream",
     "text": [
      "Loading model: /home/woody/iwb3/iwb3021h/NAS_COMPETITION_RESULTS/stages_pool/Gutenberg/voracious_kagu/config.yaml\n"
     ]
    },
    {
     "name": "stderr",
     "output_type": "stream",
     "text": [
      "/apps/jupyterhub/jh3.1.1-py3.11/envs/pytorch-2.2.0/lib/python3.12/site-packages/torch/nn/modules/module.py:1352: UserWarning: Using a non-full backward hook when the forward contains multiple autograd Nodes is deprecated and will be removed in future versions. This hook will be missing some grad_input. Please use register_full_backward_hook to get the documented behavior.\n",
      "  warnings.warn(\"Using a non-full backward hook when the forward contains multiple autograd Nodes \"\n",
      "ic| len(new_valid_loader): 1\n"
     ]
    },
    {
     "name": "stdout",
     "output_type": "stream",
     "text": [
      "Loading model: /home/woody/iwb3/iwb3021h/NAS_COMPETITION_RESULTS/stages_pool/Gutenberg/golden_scorpion/config.yaml\n"
     ]
    },
    {
     "name": "stderr",
     "output_type": "stream",
     "text": [
      "ic| len(new_valid_loader): 1\n"
     ]
    },
    {
     "name": "stdout",
     "output_type": "stream",
     "text": [
      "Loading model: /home/woody/iwb3/iwb3021h/NAS_COMPETITION_RESULTS/stages_pool/Gutenberg/prudent_crab/config.yaml\n"
     ]
    },
    {
     "name": "stderr",
     "output_type": "stream",
     "text": [
      "ic| len(new_valid_loader): 1\n"
     ]
    },
    {
     "name": "stdout",
     "output_type": "stream",
     "text": [
      "Loading model: /home/woody/iwb3/iwb3021h/NAS_COMPETITION_RESULTS/stages_pool/Gutenberg/delectable_octopus/config.yaml\n"
     ]
    },
    {
     "name": "stderr",
     "output_type": "stream",
     "text": [
      "ic| len(new_valid_loader): 1\n"
     ]
    },
    {
     "name": "stdout",
     "output_type": "stream",
     "text": [
      "Loading model: /home/woody/iwb3/iwb3021h/NAS_COMPETITION_RESULTS/stages_pool/Gutenberg/juicy_uakari/config.yaml\n"
     ]
    },
    {
     "name": "stderr",
     "output_type": "stream",
     "text": [
      "ic| len(new_valid_loader): 1\n"
     ]
    },
    {
     "name": "stdout",
     "output_type": "stream",
     "text": [
      "Loading model: /home/woody/iwb3/iwb3021h/NAS_COMPETITION_RESULTS/stages_pool/Gutenberg/splendid_duck/config.yaml\n"
     ]
    },
    {
     "name": "stderr",
     "output_type": "stream",
     "text": [
      "ic| len(new_valid_loader): 1\n"
     ]
    },
    {
     "name": "stdout",
     "output_type": "stream",
     "text": [
      "Loading model: /home/woody/iwb3/iwb3021h/NAS_COMPETITION_RESULTS/stages_pool/Gutenberg/tidy_silkworm/config.yaml\n"
     ]
    },
    {
     "name": "stderr",
     "output_type": "stream",
     "text": [
      "ic| len(new_valid_loader): 1\n"
     ]
    },
    {
     "name": "stdout",
     "output_type": "stream",
     "text": [
      "Loading model: /home/woody/iwb3/iwb3021h/NAS_COMPETITION_RESULTS/stages_pool/Gutenberg/invaluable_leopard/config.yaml\n"
     ]
    },
    {
     "name": "stderr",
     "output_type": "stream",
     "text": [
      "ic| len(new_valid_loader): 1\n"
     ]
    },
    {
     "name": "stdout",
     "output_type": "stream",
     "text": [
      "Loading model: /home/woody/iwb3/iwb3021h/NAS_COMPETITION_RESULTS/stages_pool/Gutenberg/amphibian_copperhead/config.yaml\n"
     ]
    },
    {
     "name": "stderr",
     "output_type": "stream",
     "text": [
      "ic| len(new_valid_loader): 1\n"
     ]
    },
    {
     "name": "stdout",
     "output_type": "stream",
     "text": [
      "Loading model: /home/woody/iwb3/iwb3021h/NAS_COMPETITION_RESULTS/stages_pool/Gutenberg/mega_frog/config.yaml\n"
     ]
    },
    {
     "name": "stderr",
     "output_type": "stream",
     "text": [
      "ic| len(new_valid_loader): 1\n"
     ]
    },
    {
     "name": "stdout",
     "output_type": "stream",
     "text": [
      "Loading model: /home/woody/iwb3/iwb3021h/NAS_COMPETITION_RESULTS/stages_pool/Gutenberg/voracious_kagu/config.yaml\n"
     ]
    },
    {
     "name": "stderr",
     "output_type": "stream",
     "text": [
      "/apps/jupyterhub/jh3.1.1-py3.11/envs/pytorch-2.2.0/lib/python3.12/site-packages/torch/nn/modules/module.py:1352: UserWarning: Using a non-full backward hook when the forward contains multiple autograd Nodes is deprecated and will be removed in future versions. This hook will be missing some grad_input. Please use register_full_backward_hook to get the documented behavior.\n",
      "  warnings.warn(\"Using a non-full backward hook when the forward contains multiple autograd Nodes \"\n",
      "ic| len(new_valid_loader): 1\n"
     ]
    },
    {
     "name": "stdout",
     "output_type": "stream",
     "text": [
      "Loading model: /home/woody/iwb3/iwb3021h/NAS_COMPETITION_RESULTS/stages_pool/Gutenberg/golden_scorpion/config.yaml\n"
     ]
    },
    {
     "name": "stderr",
     "output_type": "stream",
     "text": [
      "ic| len(new_valid_loader): 1\n"
     ]
    },
    {
     "name": "stdout",
     "output_type": "stream",
     "text": [
      "Loading model: /home/woody/iwb3/iwb3021h/NAS_COMPETITION_RESULTS/stages_pool/Gutenberg/prudent_crab/config.yaml\n"
     ]
    },
    {
     "name": "stderr",
     "output_type": "stream",
     "text": [
      "ic| len(new_valid_loader): 1\n"
     ]
    },
    {
     "name": "stdout",
     "output_type": "stream",
     "text": [
      "Loading model: /home/woody/iwb3/iwb3021h/NAS_COMPETITION_RESULTS/stages_pool/Gutenberg/delectable_octopus/config.yaml\n"
     ]
    },
    {
     "name": "stderr",
     "output_type": "stream",
     "text": [
      "ic| len(new_valid_loader): 1\n"
     ]
    },
    {
     "name": "stdout",
     "output_type": "stream",
     "text": [
      "Loading model: /home/woody/iwb3/iwb3021h/NAS_COMPETITION_RESULTS/stages_pool/Gutenberg/juicy_uakari/config.yaml\n"
     ]
    },
    {
     "name": "stderr",
     "output_type": "stream",
     "text": [
      "ic| len(new_valid_loader): 1\n"
     ]
    },
    {
     "name": "stdout",
     "output_type": "stream",
     "text": [
      "Loading model: /home/woody/iwb3/iwb3021h/NAS_COMPETITION_RESULTS/stages_pool/Gutenberg/splendid_duck/config.yaml\n"
     ]
    },
    {
     "name": "stderr",
     "output_type": "stream",
     "text": [
      "ic| len(new_valid_loader): 1\n"
     ]
    },
    {
     "name": "stdout",
     "output_type": "stream",
     "text": [
      "Loading model: /home/woody/iwb3/iwb3021h/NAS_COMPETITION_RESULTS/stages_pool/Gutenberg/tidy_silkworm/config.yaml\n"
     ]
    },
    {
     "name": "stderr",
     "output_type": "stream",
     "text": [
      "ic| len(new_valid_loader): 1\n"
     ]
    },
    {
     "name": "stdout",
     "output_type": "stream",
     "text": [
      "Loading model: /home/woody/iwb3/iwb3021h/NAS_COMPETITION_RESULTS/stages_pool/Gutenberg/invaluable_leopard/config.yaml\n"
     ]
    },
    {
     "name": "stderr",
     "output_type": "stream",
     "text": [
      "ic| len(new_valid_loader): 1\n"
     ]
    },
    {
     "name": "stdout",
     "output_type": "stream",
     "text": [
      "Loading model: /home/woody/iwb3/iwb3021h/NAS_COMPETITION_RESULTS/stages_pool/Gutenberg/amphibian_copperhead/config.yaml\n"
     ]
    },
    {
     "name": "stderr",
     "output_type": "stream",
     "text": [
      "ic| len(new_valid_loader): 1\n"
     ]
    },
    {
     "name": "stdout",
     "output_type": "stream",
     "text": [
      "Loading model: /home/woody/iwb3/iwb3021h/NAS_COMPETITION_RESULTS/stages_pool/Gutenberg/mega_frog/config.yaml\n"
     ]
    },
    {
     "name": "stderr",
     "output_type": "stream",
     "text": [
      "ic| len(new_valid_loader): 1\n"
     ]
    },
    {
     "name": "stdout",
     "output_type": "stream",
     "text": [
      "Loading model: /home/woody/iwb3/iwb3021h/NAS_COMPETITION_RESULTS/stages_pool/Gutenberg/voracious_kagu/config.yaml\n"
     ]
    },
    {
     "name": "stderr",
     "output_type": "stream",
     "text": [
      "/apps/jupyterhub/jh3.1.1-py3.11/envs/pytorch-2.2.0/lib/python3.12/site-packages/torch/nn/modules/module.py:1352: UserWarning: Using a non-full backward hook when the forward contains multiple autograd Nodes is deprecated and will be removed in future versions. This hook will be missing some grad_input. Please use register_full_backward_hook to get the documented behavior.\n",
      "  warnings.warn(\"Using a non-full backward hook when the forward contains multiple autograd Nodes \"\n",
      "ic| len(new_valid_loader): 1\n"
     ]
    },
    {
     "name": "stdout",
     "output_type": "stream",
     "text": [
      "Loading model: /home/woody/iwb3/iwb3021h/NAS_COMPETITION_RESULTS/stages_pool/Gutenberg/golden_scorpion/config.yaml\n"
     ]
    },
    {
     "name": "stderr",
     "output_type": "stream",
     "text": [
      "ic| len(new_valid_loader): 1\n"
     ]
    },
    {
     "name": "stdout",
     "output_type": "stream",
     "text": [
      "Loading model: /home/woody/iwb3/iwb3021h/NAS_COMPETITION_RESULTS/stages_pool/Gutenberg/prudent_crab/config.yaml\n"
     ]
    },
    {
     "name": "stderr",
     "output_type": "stream",
     "text": [
      "ic| len(new_valid_loader): 1\n"
     ]
    },
    {
     "name": "stdout",
     "output_type": "stream",
     "text": [
      "Loading model: /home/woody/iwb3/iwb3021h/NAS_COMPETITION_RESULTS/stages_pool/Gutenberg/delectable_octopus/config.yaml\n"
     ]
    },
    {
     "name": "stderr",
     "output_type": "stream",
     "text": [
      "ic| len(new_valid_loader): 1\n"
     ]
    },
    {
     "name": "stdout",
     "output_type": "stream",
     "text": [
      "Loading model: /home/woody/iwb3/iwb3021h/NAS_COMPETITION_RESULTS/stages_pool/Gutenberg/juicy_uakari/config.yaml\n"
     ]
    },
    {
     "name": "stderr",
     "output_type": "stream",
     "text": [
      "ic| len(new_valid_loader): 1\n"
     ]
    },
    {
     "name": "stdout",
     "output_type": "stream",
     "text": [
      "Loading model: /home/woody/iwb3/iwb3021h/NAS_COMPETITION_RESULTS/stages_pool/Gutenberg/splendid_duck/config.yaml\n"
     ]
    },
    {
     "name": "stderr",
     "output_type": "stream",
     "text": [
      "ic| len(new_valid_loader): 1\n"
     ]
    },
    {
     "name": "stdout",
     "output_type": "stream",
     "text": [
      "Loading model: /home/woody/iwb3/iwb3021h/NAS_COMPETITION_RESULTS/stages_pool/Gutenberg/tidy_silkworm/config.yaml\n"
     ]
    },
    {
     "name": "stderr",
     "output_type": "stream",
     "text": [
      "ic| len(new_valid_loader): 1\n"
     ]
    },
    {
     "name": "stdout",
     "output_type": "stream",
     "text": [
      "Loading model: /home/woody/iwb3/iwb3021h/NAS_COMPETITION_RESULTS/stages_pool/Gutenberg/invaluable_leopard/config.yaml\n"
     ]
    },
    {
     "name": "stderr",
     "output_type": "stream",
     "text": [
      "ic| len(new_valid_loader): 1\n"
     ]
    },
    {
     "name": "stdout",
     "output_type": "stream",
     "text": [
      "Loading model: /home/woody/iwb3/iwb3021h/NAS_COMPETITION_RESULTS/stages_pool/Gutenberg/amphibian_copperhead/config.yaml\n"
     ]
    },
    {
     "name": "stderr",
     "output_type": "stream",
     "text": [
      "ic| len(new_valid_loader): 1\n"
     ]
    },
    {
     "name": "stdout",
     "output_type": "stream",
     "text": [
      "Loading model: /home/woody/iwb3/iwb3021h/NAS_COMPETITION_RESULTS/stages_pool/Gutenberg/mega_frog/config.yaml\n"
     ]
    },
    {
     "name": "stderr",
     "output_type": "stream",
     "text": [
      "ic| '#############'\n",
      "ic| aug: 8\n",
      "ic| train_loader.dataset.transform.transforms: [RandomHorizontalFlip(p=0.5),\n",
      "                                                RandomVerticalFlip(p=0.5),\n",
      "                                                Normalize(mean=tensor([0.0370]), std=tensor([0.1889]))]\n",
      "ic| len(new_valid_loader): 1\n"
     ]
    },
    {
     "name": "stdout",
     "output_type": "stream",
     "text": [
      "Loading model: /home/woody/iwb3/iwb3021h/NAS_COMPETITION_RESULTS/stages_pool/Gutenberg/voracious_kagu/config.yaml\n"
     ]
    },
    {
     "name": "stderr",
     "output_type": "stream",
     "text": [
      "/apps/jupyterhub/jh3.1.1-py3.11/envs/pytorch-2.2.0/lib/python3.12/site-packages/torch/nn/modules/module.py:1352: UserWarning: Using a non-full backward hook when the forward contains multiple autograd Nodes is deprecated and will be removed in future versions. This hook will be missing some grad_input. Please use register_full_backward_hook to get the documented behavior.\n",
      "  warnings.warn(\"Using a non-full backward hook when the forward contains multiple autograd Nodes \"\n",
      "ic| len(new_valid_loader): 1\n"
     ]
    },
    {
     "name": "stdout",
     "output_type": "stream",
     "text": [
      "Loading model: /home/woody/iwb3/iwb3021h/NAS_COMPETITION_RESULTS/stages_pool/Gutenberg/golden_scorpion/config.yaml\n"
     ]
    },
    {
     "name": "stderr",
     "output_type": "stream",
     "text": [
      "ic| len(new_valid_loader): 1\n"
     ]
    },
    {
     "name": "stdout",
     "output_type": "stream",
     "text": [
      "Loading model: /home/woody/iwb3/iwb3021h/NAS_COMPETITION_RESULTS/stages_pool/Gutenberg/prudent_crab/config.yaml\n"
     ]
    },
    {
     "name": "stderr",
     "output_type": "stream",
     "text": [
      "ic| len(new_valid_loader): 1\n"
     ]
    },
    {
     "name": "stdout",
     "output_type": "stream",
     "text": [
      "Loading model: /home/woody/iwb3/iwb3021h/NAS_COMPETITION_RESULTS/stages_pool/Gutenberg/delectable_octopus/config.yaml\n"
     ]
    },
    {
     "name": "stderr",
     "output_type": "stream",
     "text": [
      "ic| len(new_valid_loader): 1\n"
     ]
    },
    {
     "name": "stdout",
     "output_type": "stream",
     "text": [
      "Loading model: /home/woody/iwb3/iwb3021h/NAS_COMPETITION_RESULTS/stages_pool/Gutenberg/juicy_uakari/config.yaml\n"
     ]
    },
    {
     "name": "stderr",
     "output_type": "stream",
     "text": [
      "ic| len(new_valid_loader): 1\n"
     ]
    },
    {
     "name": "stdout",
     "output_type": "stream",
     "text": [
      "Loading model: /home/woody/iwb3/iwb3021h/NAS_COMPETITION_RESULTS/stages_pool/Gutenberg/splendid_duck/config.yaml\n"
     ]
    },
    {
     "name": "stderr",
     "output_type": "stream",
     "text": [
      "ic| len(new_valid_loader): 1\n"
     ]
    },
    {
     "name": "stdout",
     "output_type": "stream",
     "text": [
      "Loading model: /home/woody/iwb3/iwb3021h/NAS_COMPETITION_RESULTS/stages_pool/Gutenberg/tidy_silkworm/config.yaml\n"
     ]
    },
    {
     "name": "stderr",
     "output_type": "stream",
     "text": [
      "ic| len(new_valid_loader): 1\n"
     ]
    },
    {
     "name": "stdout",
     "output_type": "stream",
     "text": [
      "Loading model: /home/woody/iwb3/iwb3021h/NAS_COMPETITION_RESULTS/stages_pool/Gutenberg/invaluable_leopard/config.yaml\n"
     ]
    },
    {
     "name": "stderr",
     "output_type": "stream",
     "text": [
      "ic| len(new_valid_loader): 1\n"
     ]
    },
    {
     "name": "stdout",
     "output_type": "stream",
     "text": [
      "Loading model: /home/woody/iwb3/iwb3021h/NAS_COMPETITION_RESULTS/stages_pool/Gutenberg/amphibian_copperhead/config.yaml\n"
     ]
    },
    {
     "name": "stderr",
     "output_type": "stream",
     "text": [
      "ic| len(new_valid_loader): 1\n"
     ]
    },
    {
     "name": "stdout",
     "output_type": "stream",
     "text": [
      "Loading model: /home/woody/iwb3/iwb3021h/NAS_COMPETITION_RESULTS/stages_pool/Gutenberg/mega_frog/config.yaml\n"
     ]
    },
    {
     "name": "stderr",
     "output_type": "stream",
     "text": [
      "ic| len(new_valid_loader): 1\n"
     ]
    },
    {
     "name": "stdout",
     "output_type": "stream",
     "text": [
      "Loading model: /home/woody/iwb3/iwb3021h/NAS_COMPETITION_RESULTS/stages_pool/Gutenberg/voracious_kagu/config.yaml\n"
     ]
    },
    {
     "name": "stderr",
     "output_type": "stream",
     "text": [
      "/apps/jupyterhub/jh3.1.1-py3.11/envs/pytorch-2.2.0/lib/python3.12/site-packages/torch/nn/modules/module.py:1352: UserWarning: Using a non-full backward hook when the forward contains multiple autograd Nodes is deprecated and will be removed in future versions. This hook will be missing some grad_input. Please use register_full_backward_hook to get the documented behavior.\n",
      "  warnings.warn(\"Using a non-full backward hook when the forward contains multiple autograd Nodes \"\n",
      "ic| len(new_valid_loader): 1\n"
     ]
    },
    {
     "name": "stdout",
     "output_type": "stream",
     "text": [
      "Loading model: /home/woody/iwb3/iwb3021h/NAS_COMPETITION_RESULTS/stages_pool/Gutenberg/golden_scorpion/config.yaml\n"
     ]
    },
    {
     "name": "stderr",
     "output_type": "stream",
     "text": [
      "ic| len(new_valid_loader): 1\n"
     ]
    },
    {
     "name": "stdout",
     "output_type": "stream",
     "text": [
      "Loading model: /home/woody/iwb3/iwb3021h/NAS_COMPETITION_RESULTS/stages_pool/Gutenberg/prudent_crab/config.yaml\n"
     ]
    },
    {
     "name": "stderr",
     "output_type": "stream",
     "text": [
      "ic| len(new_valid_loader): 1\n"
     ]
    },
    {
     "name": "stdout",
     "output_type": "stream",
     "text": [
      "Loading model: /home/woody/iwb3/iwb3021h/NAS_COMPETITION_RESULTS/stages_pool/Gutenberg/delectable_octopus/config.yaml\n"
     ]
    },
    {
     "name": "stderr",
     "output_type": "stream",
     "text": [
      "ic| len(new_valid_loader): 1\n"
     ]
    },
    {
     "name": "stdout",
     "output_type": "stream",
     "text": [
      "Loading model: /home/woody/iwb3/iwb3021h/NAS_COMPETITION_RESULTS/stages_pool/Gutenberg/juicy_uakari/config.yaml\n"
     ]
    },
    {
     "name": "stderr",
     "output_type": "stream",
     "text": [
      "ic| len(new_valid_loader): 1\n"
     ]
    },
    {
     "name": "stdout",
     "output_type": "stream",
     "text": [
      "Loading model: /home/woody/iwb3/iwb3021h/NAS_COMPETITION_RESULTS/stages_pool/Gutenberg/splendid_duck/config.yaml\n"
     ]
    },
    {
     "name": "stderr",
     "output_type": "stream",
     "text": [
      "ic| len(new_valid_loader): 1\n"
     ]
    },
    {
     "name": "stdout",
     "output_type": "stream",
     "text": [
      "Loading model: /home/woody/iwb3/iwb3021h/NAS_COMPETITION_RESULTS/stages_pool/Gutenberg/tidy_silkworm/config.yaml\n"
     ]
    },
    {
     "name": "stderr",
     "output_type": "stream",
     "text": [
      "ic| len(new_valid_loader): 1\n"
     ]
    },
    {
     "name": "stdout",
     "output_type": "stream",
     "text": [
      "Loading model: /home/woody/iwb3/iwb3021h/NAS_COMPETITION_RESULTS/stages_pool/Gutenberg/invaluable_leopard/config.yaml\n"
     ]
    },
    {
     "name": "stderr",
     "output_type": "stream",
     "text": [
      "ic| len(new_valid_loader): 1\n"
     ]
    },
    {
     "name": "stdout",
     "output_type": "stream",
     "text": [
      "Loading model: /home/woody/iwb3/iwb3021h/NAS_COMPETITION_RESULTS/stages_pool/Gutenberg/amphibian_copperhead/config.yaml\n"
     ]
    },
    {
     "name": "stderr",
     "output_type": "stream",
     "text": [
      "ic| len(new_valid_loader): 1\n"
     ]
    },
    {
     "name": "stdout",
     "output_type": "stream",
     "text": [
      "Loading model: /home/woody/iwb3/iwb3021h/NAS_COMPETITION_RESULTS/stages_pool/Gutenberg/mega_frog/config.yaml\n"
     ]
    },
    {
     "name": "stderr",
     "output_type": "stream",
     "text": [
      "ic| len(new_valid_loader): 1\n"
     ]
    },
    {
     "name": "stdout",
     "output_type": "stream",
     "text": [
      "Loading model: /home/woody/iwb3/iwb3021h/NAS_COMPETITION_RESULTS/stages_pool/Gutenberg/voracious_kagu/config.yaml\n"
     ]
    },
    {
     "name": "stderr",
     "output_type": "stream",
     "text": [
      "/apps/jupyterhub/jh3.1.1-py3.11/envs/pytorch-2.2.0/lib/python3.12/site-packages/torch/nn/modules/module.py:1352: UserWarning: Using a non-full backward hook when the forward contains multiple autograd Nodes is deprecated and will be removed in future versions. This hook will be missing some grad_input. Please use register_full_backward_hook to get the documented behavior.\n",
      "  warnings.warn(\"Using a non-full backward hook when the forward contains multiple autograd Nodes \"\n",
      "ic| len(new_valid_loader): 1\n"
     ]
    },
    {
     "name": "stdout",
     "output_type": "stream",
     "text": [
      "Loading model: /home/woody/iwb3/iwb3021h/NAS_COMPETITION_RESULTS/stages_pool/Gutenberg/golden_scorpion/config.yaml\n"
     ]
    },
    {
     "name": "stderr",
     "output_type": "stream",
     "text": [
      "ic| len(new_valid_loader): 1\n"
     ]
    },
    {
     "name": "stdout",
     "output_type": "stream",
     "text": [
      "Loading model: /home/woody/iwb3/iwb3021h/NAS_COMPETITION_RESULTS/stages_pool/Gutenberg/prudent_crab/config.yaml\n"
     ]
    },
    {
     "name": "stderr",
     "output_type": "stream",
     "text": [
      "ic| len(new_valid_loader): 1\n"
     ]
    },
    {
     "name": "stdout",
     "output_type": "stream",
     "text": [
      "Loading model: /home/woody/iwb3/iwb3021h/NAS_COMPETITION_RESULTS/stages_pool/Gutenberg/delectable_octopus/config.yaml\n"
     ]
    },
    {
     "name": "stderr",
     "output_type": "stream",
     "text": [
      "ic| len(new_valid_loader): 1\n"
     ]
    },
    {
     "name": "stdout",
     "output_type": "stream",
     "text": [
      "Loading model: /home/woody/iwb3/iwb3021h/NAS_COMPETITION_RESULTS/stages_pool/Gutenberg/juicy_uakari/config.yaml\n"
     ]
    },
    {
     "name": "stderr",
     "output_type": "stream",
     "text": [
      "ic| len(new_valid_loader): 1\n"
     ]
    },
    {
     "name": "stdout",
     "output_type": "stream",
     "text": [
      "Loading model: /home/woody/iwb3/iwb3021h/NAS_COMPETITION_RESULTS/stages_pool/Gutenberg/splendid_duck/config.yaml\n"
     ]
    },
    {
     "name": "stderr",
     "output_type": "stream",
     "text": [
      "ic| len(new_valid_loader): 1\n"
     ]
    },
    {
     "name": "stdout",
     "output_type": "stream",
     "text": [
      "Loading model: /home/woody/iwb3/iwb3021h/NAS_COMPETITION_RESULTS/stages_pool/Gutenberg/tidy_silkworm/config.yaml\n"
     ]
    },
    {
     "name": "stderr",
     "output_type": "stream",
     "text": [
      "ic| len(new_valid_loader): 1\n"
     ]
    },
    {
     "name": "stdout",
     "output_type": "stream",
     "text": [
      "Loading model: /home/woody/iwb3/iwb3021h/NAS_COMPETITION_RESULTS/stages_pool/Gutenberg/invaluable_leopard/config.yaml\n"
     ]
    },
    {
     "name": "stderr",
     "output_type": "stream",
     "text": [
      "ic| len(new_valid_loader): 1\n"
     ]
    },
    {
     "name": "stdout",
     "output_type": "stream",
     "text": [
      "Loading model: /home/woody/iwb3/iwb3021h/NAS_COMPETITION_RESULTS/stages_pool/Gutenberg/amphibian_copperhead/config.yaml\n"
     ]
    },
    {
     "name": "stderr",
     "output_type": "stream",
     "text": [
      "ic| len(new_valid_loader): 1\n"
     ]
    },
    {
     "name": "stdout",
     "output_type": "stream",
     "text": [
      "Loading model: /home/woody/iwb3/iwb3021h/NAS_COMPETITION_RESULTS/stages_pool/Gutenberg/mega_frog/config.yaml\n"
     ]
    },
    {
     "name": "stderr",
     "output_type": "stream",
     "text": [
      "ic| len(new_valid_loader): 1\n"
     ]
    },
    {
     "name": "stdout",
     "output_type": "stream",
     "text": [
      "Loading model: /home/woody/iwb3/iwb3021h/NAS_COMPETITION_RESULTS/stages_pool/Gutenberg/voracious_kagu/config.yaml\n"
     ]
    },
    {
     "name": "stderr",
     "output_type": "stream",
     "text": [
      "/apps/jupyterhub/jh3.1.1-py3.11/envs/pytorch-2.2.0/lib/python3.12/site-packages/torch/nn/modules/module.py:1352: UserWarning: Using a non-full backward hook when the forward contains multiple autograd Nodes is deprecated and will be removed in future versions. This hook will be missing some grad_input. Please use register_full_backward_hook to get the documented behavior.\n",
      "  warnings.warn(\"Using a non-full backward hook when the forward contains multiple autograd Nodes \"\n",
      "ic| len(new_valid_loader): 1\n"
     ]
    },
    {
     "name": "stdout",
     "output_type": "stream",
     "text": [
      "Loading model: /home/woody/iwb3/iwb3021h/NAS_COMPETITION_RESULTS/stages_pool/Gutenberg/golden_scorpion/config.yaml\n"
     ]
    },
    {
     "name": "stderr",
     "output_type": "stream",
     "text": [
      "ic| len(new_valid_loader): 1\n"
     ]
    },
    {
     "name": "stdout",
     "output_type": "stream",
     "text": [
      "Loading model: /home/woody/iwb3/iwb3021h/NAS_COMPETITION_RESULTS/stages_pool/Gutenberg/prudent_crab/config.yaml\n"
     ]
    },
    {
     "name": "stderr",
     "output_type": "stream",
     "text": [
      "ic| len(new_valid_loader): 1\n"
     ]
    },
    {
     "name": "stdout",
     "output_type": "stream",
     "text": [
      "Loading model: /home/woody/iwb3/iwb3021h/NAS_COMPETITION_RESULTS/stages_pool/Gutenberg/delectable_octopus/config.yaml\n"
     ]
    },
    {
     "name": "stderr",
     "output_type": "stream",
     "text": [
      "ic| len(new_valid_loader): 1\n"
     ]
    },
    {
     "name": "stdout",
     "output_type": "stream",
     "text": [
      "Loading model: /home/woody/iwb3/iwb3021h/NAS_COMPETITION_RESULTS/stages_pool/Gutenberg/juicy_uakari/config.yaml\n"
     ]
    },
    {
     "name": "stderr",
     "output_type": "stream",
     "text": [
      "ic| len(new_valid_loader): 1\n"
     ]
    },
    {
     "name": "stdout",
     "output_type": "stream",
     "text": [
      "Loading model: /home/woody/iwb3/iwb3021h/NAS_COMPETITION_RESULTS/stages_pool/Gutenberg/splendid_duck/config.yaml\n"
     ]
    },
    {
     "name": "stderr",
     "output_type": "stream",
     "text": [
      "ic| len(new_valid_loader): 1\n"
     ]
    },
    {
     "name": "stdout",
     "output_type": "stream",
     "text": [
      "Loading model: /home/woody/iwb3/iwb3021h/NAS_COMPETITION_RESULTS/stages_pool/Gutenberg/tidy_silkworm/config.yaml\n"
     ]
    },
    {
     "name": "stderr",
     "output_type": "stream",
     "text": [
      "ic| len(new_valid_loader): 1\n"
     ]
    },
    {
     "name": "stdout",
     "output_type": "stream",
     "text": [
      "Loading model: /home/woody/iwb3/iwb3021h/NAS_COMPETITION_RESULTS/stages_pool/Gutenberg/invaluable_leopard/config.yaml\n"
     ]
    },
    {
     "name": "stderr",
     "output_type": "stream",
     "text": [
      "ic| len(new_valid_loader): 1\n"
     ]
    },
    {
     "name": "stdout",
     "output_type": "stream",
     "text": [
      "Loading model: /home/woody/iwb3/iwb3021h/NAS_COMPETITION_RESULTS/stages_pool/Gutenberg/amphibian_copperhead/config.yaml\n"
     ]
    },
    {
     "name": "stderr",
     "output_type": "stream",
     "text": [
      "ic| len(new_valid_loader): 1\n"
     ]
    },
    {
     "name": "stdout",
     "output_type": "stream",
     "text": [
      "Loading model: /home/woody/iwb3/iwb3021h/NAS_COMPETITION_RESULTS/stages_pool/Gutenberg/mega_frog/config.yaml\n"
     ]
    },
    {
     "name": "stderr",
     "output_type": "stream",
     "text": [
      "ic| len(new_valid_loader): 1\n"
     ]
    },
    {
     "name": "stdout",
     "output_type": "stream",
     "text": [
      "Loading model: /home/woody/iwb3/iwb3021h/NAS_COMPETITION_RESULTS/stages_pool/Gutenberg/voracious_kagu/config.yaml\n"
     ]
    },
    {
     "name": "stderr",
     "output_type": "stream",
     "text": [
      "/apps/jupyterhub/jh3.1.1-py3.11/envs/pytorch-2.2.0/lib/python3.12/site-packages/torch/nn/modules/module.py:1352: UserWarning: Using a non-full backward hook when the forward contains multiple autograd Nodes is deprecated and will be removed in future versions. This hook will be missing some grad_input. Please use register_full_backward_hook to get the documented behavior.\n",
      "  warnings.warn(\"Using a non-full backward hook when the forward contains multiple autograd Nodes \"\n",
      "ic| len(new_valid_loader): 1\n"
     ]
    },
    {
     "name": "stdout",
     "output_type": "stream",
     "text": [
      "Loading model: /home/woody/iwb3/iwb3021h/NAS_COMPETITION_RESULTS/stages_pool/Gutenberg/golden_scorpion/config.yaml\n"
     ]
    },
    {
     "name": "stderr",
     "output_type": "stream",
     "text": [
      "ic| len(new_valid_loader): 1\n"
     ]
    },
    {
     "name": "stdout",
     "output_type": "stream",
     "text": [
      "Loading model: /home/woody/iwb3/iwb3021h/NAS_COMPETITION_RESULTS/stages_pool/Gutenberg/prudent_crab/config.yaml\n"
     ]
    },
    {
     "name": "stderr",
     "output_type": "stream",
     "text": [
      "ic| len(new_valid_loader): 1\n"
     ]
    },
    {
     "name": "stdout",
     "output_type": "stream",
     "text": [
      "Loading model: /home/woody/iwb3/iwb3021h/NAS_COMPETITION_RESULTS/stages_pool/Gutenberg/delectable_octopus/config.yaml\n"
     ]
    },
    {
     "name": "stderr",
     "output_type": "stream",
     "text": [
      "ic| len(new_valid_loader): 1\n"
     ]
    },
    {
     "name": "stdout",
     "output_type": "stream",
     "text": [
      "Loading model: /home/woody/iwb3/iwb3021h/NAS_COMPETITION_RESULTS/stages_pool/Gutenberg/juicy_uakari/config.yaml\n"
     ]
    },
    {
     "name": "stderr",
     "output_type": "stream",
     "text": [
      "ic| len(new_valid_loader): 1\n"
     ]
    },
    {
     "name": "stdout",
     "output_type": "stream",
     "text": [
      "Loading model: /home/woody/iwb3/iwb3021h/NAS_COMPETITION_RESULTS/stages_pool/Gutenberg/splendid_duck/config.yaml\n"
     ]
    },
    {
     "name": "stderr",
     "output_type": "stream",
     "text": [
      "ic| len(new_valid_loader): 1\n"
     ]
    },
    {
     "name": "stdout",
     "output_type": "stream",
     "text": [
      "Loading model: /home/woody/iwb3/iwb3021h/NAS_COMPETITION_RESULTS/stages_pool/Gutenberg/tidy_silkworm/config.yaml\n"
     ]
    },
    {
     "name": "stderr",
     "output_type": "stream",
     "text": [
      "ic| len(new_valid_loader): 1\n"
     ]
    },
    {
     "name": "stdout",
     "output_type": "stream",
     "text": [
      "Loading model: /home/woody/iwb3/iwb3021h/NAS_COMPETITION_RESULTS/stages_pool/Gutenberg/invaluable_leopard/config.yaml\n"
     ]
    },
    {
     "name": "stderr",
     "output_type": "stream",
     "text": [
      "ic| len(new_valid_loader): 1\n"
     ]
    },
    {
     "name": "stdout",
     "output_type": "stream",
     "text": [
      "Loading model: /home/woody/iwb3/iwb3021h/NAS_COMPETITION_RESULTS/stages_pool/Gutenberg/amphibian_copperhead/config.yaml\n"
     ]
    },
    {
     "name": "stderr",
     "output_type": "stream",
     "text": [
      "ic| len(new_valid_loader): 1\n"
     ]
    },
    {
     "name": "stdout",
     "output_type": "stream",
     "text": [
      "Loading model: /home/woody/iwb3/iwb3021h/NAS_COMPETITION_RESULTS/stages_pool/Gutenberg/mega_frog/config.yaml\n"
     ]
    },
    {
     "name": "stderr",
     "output_type": "stream",
     "text": [
      "ic| '#############'\n",
      "ic| aug: 9\n",
      "ic| train_loader.dataset.transform.transforms: [RandomErasing(p=0.2, scale=(0.05, 0.2), ratio=(0.3, 3.3), value=[0.0], inplace=False),\n",
      "                                                RandomHorizontalFlip(p=0.5),\n",
      "                                                RandomVerticalFlip(p=0.5),\n",
      "                                                Normalize(mean=tensor([0.0370]), std=tensor([0.1889]))]\n",
      "ic| len(new_valid_loader): 1\n"
     ]
    },
    {
     "name": "stdout",
     "output_type": "stream",
     "text": [
      "Loading model: /home/woody/iwb3/iwb3021h/NAS_COMPETITION_RESULTS/stages_pool/Gutenberg/voracious_kagu/config.yaml\n"
     ]
    },
    {
     "name": "stderr",
     "output_type": "stream",
     "text": [
      "/apps/jupyterhub/jh3.1.1-py3.11/envs/pytorch-2.2.0/lib/python3.12/site-packages/torch/nn/modules/module.py:1352: UserWarning: Using a non-full backward hook when the forward contains multiple autograd Nodes is deprecated and will be removed in future versions. This hook will be missing some grad_input. Please use register_full_backward_hook to get the documented behavior.\n",
      "  warnings.warn(\"Using a non-full backward hook when the forward contains multiple autograd Nodes \"\n",
      "ic| len(new_valid_loader): 1\n"
     ]
    },
    {
     "name": "stdout",
     "output_type": "stream",
     "text": [
      "Loading model: /home/woody/iwb3/iwb3021h/NAS_COMPETITION_RESULTS/stages_pool/Gutenberg/golden_scorpion/config.yaml\n"
     ]
    },
    {
     "name": "stderr",
     "output_type": "stream",
     "text": [
      "ic| len(new_valid_loader): 1\n"
     ]
    },
    {
     "name": "stdout",
     "output_type": "stream",
     "text": [
      "Loading model: /home/woody/iwb3/iwb3021h/NAS_COMPETITION_RESULTS/stages_pool/Gutenberg/prudent_crab/config.yaml\n"
     ]
    },
    {
     "name": "stderr",
     "output_type": "stream",
     "text": [
      "ic| len(new_valid_loader): 1\n"
     ]
    },
    {
     "name": "stdout",
     "output_type": "stream",
     "text": [
      "Loading model: /home/woody/iwb3/iwb3021h/NAS_COMPETITION_RESULTS/stages_pool/Gutenberg/delectable_octopus/config.yaml\n"
     ]
    },
    {
     "name": "stderr",
     "output_type": "stream",
     "text": [
      "ic| len(new_valid_loader): 1\n"
     ]
    },
    {
     "name": "stdout",
     "output_type": "stream",
     "text": [
      "Loading model: /home/woody/iwb3/iwb3021h/NAS_COMPETITION_RESULTS/stages_pool/Gutenberg/juicy_uakari/config.yaml\n"
     ]
    },
    {
     "name": "stderr",
     "output_type": "stream",
     "text": [
      "ic| len(new_valid_loader): 1\n"
     ]
    },
    {
     "name": "stdout",
     "output_type": "stream",
     "text": [
      "Loading model: /home/woody/iwb3/iwb3021h/NAS_COMPETITION_RESULTS/stages_pool/Gutenberg/splendid_duck/config.yaml\n"
     ]
    },
    {
     "name": "stderr",
     "output_type": "stream",
     "text": [
      "ic| len(new_valid_loader): 1\n"
     ]
    },
    {
     "name": "stdout",
     "output_type": "stream",
     "text": [
      "Loading model: /home/woody/iwb3/iwb3021h/NAS_COMPETITION_RESULTS/stages_pool/Gutenberg/tidy_silkworm/config.yaml\n"
     ]
    },
    {
     "name": "stderr",
     "output_type": "stream",
     "text": [
      "ic| len(new_valid_loader): 1\n"
     ]
    },
    {
     "name": "stdout",
     "output_type": "stream",
     "text": [
      "Loading model: /home/woody/iwb3/iwb3021h/NAS_COMPETITION_RESULTS/stages_pool/Gutenberg/invaluable_leopard/config.yaml\n"
     ]
    },
    {
     "name": "stderr",
     "output_type": "stream",
     "text": [
      "ic| len(new_valid_loader): 1\n"
     ]
    },
    {
     "name": "stdout",
     "output_type": "stream",
     "text": [
      "Loading model: /home/woody/iwb3/iwb3021h/NAS_COMPETITION_RESULTS/stages_pool/Gutenberg/amphibian_copperhead/config.yaml\n"
     ]
    },
    {
     "name": "stderr",
     "output_type": "stream",
     "text": [
      "ic| len(new_valid_loader): 1\n"
     ]
    },
    {
     "name": "stdout",
     "output_type": "stream",
     "text": [
      "Loading model: /home/woody/iwb3/iwb3021h/NAS_COMPETITION_RESULTS/stages_pool/Gutenberg/mega_frog/config.yaml\n"
     ]
    },
    {
     "name": "stderr",
     "output_type": "stream",
     "text": [
      "ic| len(new_valid_loader): 1\n"
     ]
    },
    {
     "name": "stdout",
     "output_type": "stream",
     "text": [
      "Loading model: /home/woody/iwb3/iwb3021h/NAS_COMPETITION_RESULTS/stages_pool/Gutenberg/voracious_kagu/config.yaml\n"
     ]
    },
    {
     "name": "stderr",
     "output_type": "stream",
     "text": [
      "/apps/jupyterhub/jh3.1.1-py3.11/envs/pytorch-2.2.0/lib/python3.12/site-packages/torch/nn/modules/module.py:1352: UserWarning: Using a non-full backward hook when the forward contains multiple autograd Nodes is deprecated and will be removed in future versions. This hook will be missing some grad_input. Please use register_full_backward_hook to get the documented behavior.\n",
      "  warnings.warn(\"Using a non-full backward hook when the forward contains multiple autograd Nodes \"\n",
      "ic| len(new_valid_loader): 1\n"
     ]
    },
    {
     "name": "stdout",
     "output_type": "stream",
     "text": [
      "Loading model: /home/woody/iwb3/iwb3021h/NAS_COMPETITION_RESULTS/stages_pool/Gutenberg/golden_scorpion/config.yaml\n"
     ]
    },
    {
     "name": "stderr",
     "output_type": "stream",
     "text": [
      "ic| len(new_valid_loader): 1\n"
     ]
    },
    {
     "name": "stdout",
     "output_type": "stream",
     "text": [
      "Loading model: /home/woody/iwb3/iwb3021h/NAS_COMPETITION_RESULTS/stages_pool/Gutenberg/prudent_crab/config.yaml\n"
     ]
    },
    {
     "name": "stderr",
     "output_type": "stream",
     "text": [
      "ic| len(new_valid_loader): 1\n"
     ]
    },
    {
     "name": "stdout",
     "output_type": "stream",
     "text": [
      "Loading model: /home/woody/iwb3/iwb3021h/NAS_COMPETITION_RESULTS/stages_pool/Gutenberg/delectable_octopus/config.yaml\n"
     ]
    },
    {
     "name": "stderr",
     "output_type": "stream",
     "text": [
      "ic| len(new_valid_loader): 1\n"
     ]
    },
    {
     "name": "stdout",
     "output_type": "stream",
     "text": [
      "Loading model: /home/woody/iwb3/iwb3021h/NAS_COMPETITION_RESULTS/stages_pool/Gutenberg/juicy_uakari/config.yaml\n"
     ]
    },
    {
     "name": "stderr",
     "output_type": "stream",
     "text": [
      "ic| len(new_valid_loader): 1\n"
     ]
    },
    {
     "name": "stdout",
     "output_type": "stream",
     "text": [
      "Loading model: /home/woody/iwb3/iwb3021h/NAS_COMPETITION_RESULTS/stages_pool/Gutenberg/splendid_duck/config.yaml\n"
     ]
    },
    {
     "name": "stderr",
     "output_type": "stream",
     "text": [
      "ic| len(new_valid_loader): 1\n"
     ]
    },
    {
     "name": "stdout",
     "output_type": "stream",
     "text": [
      "Loading model: /home/woody/iwb3/iwb3021h/NAS_COMPETITION_RESULTS/stages_pool/Gutenberg/tidy_silkworm/config.yaml\n"
     ]
    },
    {
     "name": "stderr",
     "output_type": "stream",
     "text": [
      "ic| len(new_valid_loader): 1\n"
     ]
    },
    {
     "name": "stdout",
     "output_type": "stream",
     "text": [
      "Loading model: /home/woody/iwb3/iwb3021h/NAS_COMPETITION_RESULTS/stages_pool/Gutenberg/invaluable_leopard/config.yaml\n"
     ]
    },
    {
     "name": "stderr",
     "output_type": "stream",
     "text": [
      "ic| len(new_valid_loader): 1\n"
     ]
    },
    {
     "name": "stdout",
     "output_type": "stream",
     "text": [
      "Loading model: /home/woody/iwb3/iwb3021h/NAS_COMPETITION_RESULTS/stages_pool/Gutenberg/amphibian_copperhead/config.yaml\n"
     ]
    },
    {
     "name": "stderr",
     "output_type": "stream",
     "text": [
      "ic| len(new_valid_loader): 1\n"
     ]
    },
    {
     "name": "stdout",
     "output_type": "stream",
     "text": [
      "Loading model: /home/woody/iwb3/iwb3021h/NAS_COMPETITION_RESULTS/stages_pool/Gutenberg/mega_frog/config.yaml\n"
     ]
    },
    {
     "name": "stderr",
     "output_type": "stream",
     "text": [
      "ic| len(new_valid_loader): 1\n"
     ]
    },
    {
     "name": "stdout",
     "output_type": "stream",
     "text": [
      "Loading model: /home/woody/iwb3/iwb3021h/NAS_COMPETITION_RESULTS/stages_pool/Gutenberg/voracious_kagu/config.yaml\n"
     ]
    },
    {
     "name": "stderr",
     "output_type": "stream",
     "text": [
      "/apps/jupyterhub/jh3.1.1-py3.11/envs/pytorch-2.2.0/lib/python3.12/site-packages/torch/nn/modules/module.py:1352: UserWarning: Using a non-full backward hook when the forward contains multiple autograd Nodes is deprecated and will be removed in future versions. This hook will be missing some grad_input. Please use register_full_backward_hook to get the documented behavior.\n",
      "  warnings.warn(\"Using a non-full backward hook when the forward contains multiple autograd Nodes \"\n",
      "ic| len(new_valid_loader): 1\n"
     ]
    },
    {
     "name": "stdout",
     "output_type": "stream",
     "text": [
      "Loading model: /home/woody/iwb3/iwb3021h/NAS_COMPETITION_RESULTS/stages_pool/Gutenberg/golden_scorpion/config.yaml\n"
     ]
    },
    {
     "name": "stderr",
     "output_type": "stream",
     "text": [
      "ic| len(new_valid_loader): 1\n"
     ]
    },
    {
     "name": "stdout",
     "output_type": "stream",
     "text": [
      "Loading model: /home/woody/iwb3/iwb3021h/NAS_COMPETITION_RESULTS/stages_pool/Gutenberg/prudent_crab/config.yaml\n"
     ]
    },
    {
     "name": "stderr",
     "output_type": "stream",
     "text": [
      "ic| len(new_valid_loader): 1\n"
     ]
    },
    {
     "name": "stdout",
     "output_type": "stream",
     "text": [
      "Loading model: /home/woody/iwb3/iwb3021h/NAS_COMPETITION_RESULTS/stages_pool/Gutenberg/delectable_octopus/config.yaml\n"
     ]
    },
    {
     "name": "stderr",
     "output_type": "stream",
     "text": [
      "ic| len(new_valid_loader): 1\n"
     ]
    },
    {
     "name": "stdout",
     "output_type": "stream",
     "text": [
      "Loading model: /home/woody/iwb3/iwb3021h/NAS_COMPETITION_RESULTS/stages_pool/Gutenberg/juicy_uakari/config.yaml\n"
     ]
    },
    {
     "name": "stderr",
     "output_type": "stream",
     "text": [
      "ic| len(new_valid_loader): 1\n"
     ]
    },
    {
     "name": "stdout",
     "output_type": "stream",
     "text": [
      "Loading model: /home/woody/iwb3/iwb3021h/NAS_COMPETITION_RESULTS/stages_pool/Gutenberg/splendid_duck/config.yaml\n"
     ]
    },
    {
     "name": "stderr",
     "output_type": "stream",
     "text": [
      "ic| len(new_valid_loader): 1\n"
     ]
    },
    {
     "name": "stdout",
     "output_type": "stream",
     "text": [
      "Loading model: /home/woody/iwb3/iwb3021h/NAS_COMPETITION_RESULTS/stages_pool/Gutenberg/tidy_silkworm/config.yaml\n"
     ]
    },
    {
     "name": "stderr",
     "output_type": "stream",
     "text": [
      "ic| len(new_valid_loader): 1\n"
     ]
    },
    {
     "name": "stdout",
     "output_type": "stream",
     "text": [
      "Loading model: /home/woody/iwb3/iwb3021h/NAS_COMPETITION_RESULTS/stages_pool/Gutenberg/invaluable_leopard/config.yaml\n"
     ]
    },
    {
     "name": "stderr",
     "output_type": "stream",
     "text": [
      "ic| len(new_valid_loader): 1\n"
     ]
    },
    {
     "name": "stdout",
     "output_type": "stream",
     "text": [
      "Loading model: /home/woody/iwb3/iwb3021h/NAS_COMPETITION_RESULTS/stages_pool/Gutenberg/amphibian_copperhead/config.yaml\n"
     ]
    },
    {
     "name": "stderr",
     "output_type": "stream",
     "text": [
      "ic| len(new_valid_loader): 1\n"
     ]
    },
    {
     "name": "stdout",
     "output_type": "stream",
     "text": [
      "Loading model: /home/woody/iwb3/iwb3021h/NAS_COMPETITION_RESULTS/stages_pool/Gutenberg/mega_frog/config.yaml\n"
     ]
    },
    {
     "name": "stderr",
     "output_type": "stream",
     "text": [
      "ic| len(new_valid_loader): 1\n"
     ]
    },
    {
     "name": "stdout",
     "output_type": "stream",
     "text": [
      "Loading model: /home/woody/iwb3/iwb3021h/NAS_COMPETITION_RESULTS/stages_pool/Gutenberg/voracious_kagu/config.yaml\n"
     ]
    },
    {
     "name": "stderr",
     "output_type": "stream",
     "text": [
      "/apps/jupyterhub/jh3.1.1-py3.11/envs/pytorch-2.2.0/lib/python3.12/site-packages/torch/nn/modules/module.py:1352: UserWarning: Using a non-full backward hook when the forward contains multiple autograd Nodes is deprecated and will be removed in future versions. This hook will be missing some grad_input. Please use register_full_backward_hook to get the documented behavior.\n",
      "  warnings.warn(\"Using a non-full backward hook when the forward contains multiple autograd Nodes \"\n",
      "ic| len(new_valid_loader): 1\n"
     ]
    },
    {
     "name": "stdout",
     "output_type": "stream",
     "text": [
      "Loading model: /home/woody/iwb3/iwb3021h/NAS_COMPETITION_RESULTS/stages_pool/Gutenberg/golden_scorpion/config.yaml\n"
     ]
    },
    {
     "name": "stderr",
     "output_type": "stream",
     "text": [
      "ic| len(new_valid_loader): 1\n"
     ]
    },
    {
     "name": "stdout",
     "output_type": "stream",
     "text": [
      "Loading model: /home/woody/iwb3/iwb3021h/NAS_COMPETITION_RESULTS/stages_pool/Gutenberg/prudent_crab/config.yaml\n"
     ]
    },
    {
     "name": "stderr",
     "output_type": "stream",
     "text": [
      "ic| len(new_valid_loader): 1\n"
     ]
    },
    {
     "name": "stdout",
     "output_type": "stream",
     "text": [
      "Loading model: /home/woody/iwb3/iwb3021h/NAS_COMPETITION_RESULTS/stages_pool/Gutenberg/delectable_octopus/config.yaml\n"
     ]
    },
    {
     "name": "stderr",
     "output_type": "stream",
     "text": [
      "ic| len(new_valid_loader): 1\n"
     ]
    },
    {
     "name": "stdout",
     "output_type": "stream",
     "text": [
      "Loading model: /home/woody/iwb3/iwb3021h/NAS_COMPETITION_RESULTS/stages_pool/Gutenberg/juicy_uakari/config.yaml\n"
     ]
    },
    {
     "name": "stderr",
     "output_type": "stream",
     "text": [
      "ic| len(new_valid_loader): 1\n"
     ]
    },
    {
     "name": "stdout",
     "output_type": "stream",
     "text": [
      "Loading model: /home/woody/iwb3/iwb3021h/NAS_COMPETITION_RESULTS/stages_pool/Gutenberg/splendid_duck/config.yaml\n"
     ]
    },
    {
     "name": "stderr",
     "output_type": "stream",
     "text": [
      "ic| len(new_valid_loader): 1\n"
     ]
    },
    {
     "name": "stdout",
     "output_type": "stream",
     "text": [
      "Loading model: /home/woody/iwb3/iwb3021h/NAS_COMPETITION_RESULTS/stages_pool/Gutenberg/tidy_silkworm/config.yaml\n"
     ]
    },
    {
     "name": "stderr",
     "output_type": "stream",
     "text": [
      "ic| len(new_valid_loader): 1\n"
     ]
    },
    {
     "name": "stdout",
     "output_type": "stream",
     "text": [
      "Loading model: /home/woody/iwb3/iwb3021h/NAS_COMPETITION_RESULTS/stages_pool/Gutenberg/invaluable_leopard/config.yaml\n"
     ]
    },
    {
     "name": "stderr",
     "output_type": "stream",
     "text": [
      "ic| len(new_valid_loader): 1\n"
     ]
    },
    {
     "name": "stdout",
     "output_type": "stream",
     "text": [
      "Loading model: /home/woody/iwb3/iwb3021h/NAS_COMPETITION_RESULTS/stages_pool/Gutenberg/amphibian_copperhead/config.yaml\n"
     ]
    },
    {
     "name": "stderr",
     "output_type": "stream",
     "text": [
      "ic| len(new_valid_loader): 1\n"
     ]
    },
    {
     "name": "stdout",
     "output_type": "stream",
     "text": [
      "Loading model: /home/woody/iwb3/iwb3021h/NAS_COMPETITION_RESULTS/stages_pool/Gutenberg/mega_frog/config.yaml\n"
     ]
    },
    {
     "name": "stderr",
     "output_type": "stream",
     "text": [
      "ic| len(new_valid_loader): 1\n"
     ]
    },
    {
     "name": "stdout",
     "output_type": "stream",
     "text": [
      "Loading model: /home/woody/iwb3/iwb3021h/NAS_COMPETITION_RESULTS/stages_pool/Gutenberg/voracious_kagu/config.yaml\n"
     ]
    },
    {
     "name": "stderr",
     "output_type": "stream",
     "text": [
      "/apps/jupyterhub/jh3.1.1-py3.11/envs/pytorch-2.2.0/lib/python3.12/site-packages/torch/nn/modules/module.py:1352: UserWarning: Using a non-full backward hook when the forward contains multiple autograd Nodes is deprecated and will be removed in future versions. This hook will be missing some grad_input. Please use register_full_backward_hook to get the documented behavior.\n",
      "  warnings.warn(\"Using a non-full backward hook when the forward contains multiple autograd Nodes \"\n",
      "ic| len(new_valid_loader): 1\n"
     ]
    },
    {
     "name": "stdout",
     "output_type": "stream",
     "text": [
      "Loading model: /home/woody/iwb3/iwb3021h/NAS_COMPETITION_RESULTS/stages_pool/Gutenberg/golden_scorpion/config.yaml\n"
     ]
    },
    {
     "name": "stderr",
     "output_type": "stream",
     "text": [
      "ic| len(new_valid_loader): 1\n"
     ]
    },
    {
     "name": "stdout",
     "output_type": "stream",
     "text": [
      "Loading model: /home/woody/iwb3/iwb3021h/NAS_COMPETITION_RESULTS/stages_pool/Gutenberg/prudent_crab/config.yaml\n"
     ]
    },
    {
     "name": "stderr",
     "output_type": "stream",
     "text": [
      "ic| len(new_valid_loader): 1\n"
     ]
    },
    {
     "name": "stdout",
     "output_type": "stream",
     "text": [
      "Loading model: /home/woody/iwb3/iwb3021h/NAS_COMPETITION_RESULTS/stages_pool/Gutenberg/delectable_octopus/config.yaml\n"
     ]
    },
    {
     "ename": "KeyboardInterrupt",
     "evalue": "",
     "output_type": "error",
     "traceback": [
      "\u001b[0;31m---------------------------------------------------------------------------\u001b[0m",
      "\u001b[0;31mKeyboardInterrupt\u001b[0m                         Traceback (most recent call last)",
      "Cell \u001b[0;32mIn[19], line 50\u001b[0m\n\u001b[1;32m     48\u001b[0m \u001b[38;5;66;03m#model_aux, _=regnet_space.create_model(params=params_dict[individual],save_folder=None, name=individual, gen=None, config_updates=None)\u001b[39;00m\n\u001b[1;32m     49\u001b[0m ic(\u001b[38;5;28mlen\u001b[39m(new_valid_loader))\n\u001b[0;32m---> 50\u001b[0m syn_scores[individual]\u001b[38;5;241m=\u001b[39m\u001b[43mfind_measures\u001b[49m\u001b[43m(\u001b[49m\u001b[43mmodel_aux\u001b[49m\u001b[38;5;241;43m.\u001b[39;49m\u001b[43mto\u001b[49m\u001b[43m(\u001b[49m\u001b[38;5;124;43m\"\u001b[39;49m\u001b[38;5;124;43mcuda\u001b[39;49m\u001b[38;5;124;43m\"\u001b[39;49m\u001b[43m)\u001b[49m\u001b[43m,\u001b[49m\u001b[43m \u001b[49m\u001b[43mnew_valid_loader\u001b[49m\u001b[43m,\u001b[49m\u001b[43m \u001b[49m\u001b[43m(\u001b[49m\u001b[38;5;124;43m\"\u001b[39;49m\u001b[38;5;124;43mrandom\u001b[39;49m\u001b[38;5;124;43m\"\u001b[39;49m\u001b[43m,\u001b[49m\u001b[38;5;28;43mlen\u001b[39;49m\u001b[43m(\u001b[49m\u001b[43mnew_valid_loader\u001b[49m\u001b[43m)\u001b[49m\u001b[43m,\u001b[49m\u001b[43mmetadata\u001b[49m\u001b[43m[\u001b[49m\u001b[38;5;124;43m\"\u001b[39;49m\u001b[38;5;124;43mnum_classes\u001b[39;49m\u001b[38;5;124;43m\"\u001b[39;49m\u001b[43m]\u001b[49m\u001b[43m)\u001b[49m\u001b[43m,\u001b[49m\u001b[43m \u001b[49m\u001b[38;5;124;43m\"\u001b[39;49m\u001b[38;5;124;43mcuda\u001b[39;49m\u001b[38;5;124;43m\"\u001b[39;49m\u001b[43m,\u001b[49m\u001b[43m \u001b[49m\u001b[43mF\u001b[49m\u001b[38;5;241;43m.\u001b[39;49m\u001b[43mcross_entropy\u001b[49m\u001b[43m,\u001b[49m\u001b[43m \u001b[49m\u001b[43mmeasures\u001b[49m\u001b[43m \u001b[49m\u001b[43m)\u001b[49m\n\u001b[1;32m     52\u001b[0m \u001b[38;5;66;03m#syn_scores[individual][\"params\"]=str(params_dict[individuals])\u001b[39;00m\n\u001b[1;32m     53\u001b[0m \u001b[38;5;28;01mdel\u001b[39;00m model_aux\n",
      "File \u001b[0;32m~/NAS_CHALLENGE/NAS_Challenge_AutoML_2024/egenas/tests/zcost_proxies/predictive.py:107\u001b[0m, in \u001b[0;36mfind_measures\u001b[0;34m(net_orig, dataloader, dataload_info, device, loss_fn, measure_names, measures_arr)\u001b[0m\n\u001b[1;32m    104\u001b[0m     \u001b[38;5;28;01mreturn\u001b[39;00m \u001b[38;5;28msum\u001b[39m\u001b[38;5;241m.\u001b[39mitem()\n\u001b[1;32m    106\u001b[0m \u001b[38;5;28;01mif\u001b[39;00m measures_arr \u001b[38;5;129;01mis\u001b[39;00m \u001b[38;5;28;01mNone\u001b[39;00m:\n\u001b[0;32m--> 107\u001b[0m     measures_arr \u001b[38;5;241m=\u001b[39m \u001b[43mfind_measures_arrays\u001b[49m\u001b[43m(\u001b[49m\u001b[43mnet_orig\u001b[49m\u001b[43m,\u001b[49m\u001b[43m \u001b[49m\u001b[43mdataloader\u001b[49m\u001b[43m,\u001b[49m\u001b[43m \u001b[49m\u001b[43mdataload_info\u001b[49m\u001b[43m,\u001b[49m\u001b[43m \u001b[49m\u001b[43mdevice\u001b[49m\u001b[43m,\u001b[49m\u001b[43m \u001b[49m\u001b[43mloss_fn\u001b[49m\u001b[38;5;241;43m=\u001b[39;49m\u001b[43mloss_fn\u001b[49m\u001b[43m,\u001b[49m\u001b[43m \u001b[49m\u001b[43mmeasure_names\u001b[49m\u001b[38;5;241;43m=\u001b[39;49m\u001b[43mmeasure_names\u001b[49m\u001b[43m)\u001b[49m\n\u001b[1;32m    109\u001b[0m measures \u001b[38;5;241m=\u001b[39m {}\n\u001b[1;32m    110\u001b[0m \u001b[38;5;28;01mfor\u001b[39;00m k,v \u001b[38;5;129;01min\u001b[39;00m measures_arr\u001b[38;5;241m.\u001b[39mitems():\n",
      "File \u001b[0;32m~/NAS_CHALLENGE/NAS_Challenge_AutoML_2024/egenas/tests/zcost_proxies/predictive.py:67\u001b[0m, in \u001b[0;36mfind_measures_arrays\u001b[0;34m(net_orig, trainloader, dataload_info, device, measure_names, loss_fn)\u001b[0m\n\u001b[1;32m     65\u001b[0m \u001b[38;5;28;01mfor\u001b[39;00m measure_name \u001b[38;5;129;01min\u001b[39;00m measure_names:\n\u001b[1;32m     66\u001b[0m     \u001b[38;5;28;01mif\u001b[39;00m measure_name \u001b[38;5;129;01mnot\u001b[39;00m \u001b[38;5;129;01min\u001b[39;00m measure_values:\n\u001b[0;32m---> 67\u001b[0m         val \u001b[38;5;241m=\u001b[39m \u001b[43mmeasures\u001b[49m\u001b[38;5;241;43m.\u001b[39;49m\u001b[43mcalc_measure\u001b[49m\u001b[43m(\u001b[49m\u001b[43mmeasure_name\u001b[49m\u001b[43m,\u001b[49m\u001b[43m \u001b[49m\u001b[43mnet_orig\u001b[49m\u001b[43m,\u001b[49m\u001b[43m \u001b[49m\u001b[43mdevice\u001b[49m\u001b[43m,\u001b[49m\u001b[43m \u001b[49m\u001b[43minputs\u001b[49m\u001b[43m,\u001b[49m\u001b[43m \u001b[49m\u001b[43mtargets\u001b[49m\u001b[43m,\u001b[49m\u001b[43m \u001b[49m\u001b[43mloss_fn\u001b[49m\u001b[38;5;241;43m=\u001b[39;49m\u001b[43mloss_fn\u001b[49m\u001b[43m,\u001b[49m\u001b[43m \u001b[49m\u001b[43msplit_data\u001b[49m\u001b[38;5;241;43m=\u001b[39;49m\u001b[43mds\u001b[49m\u001b[43m)\u001b[49m\n\u001b[1;32m     68\u001b[0m         measure_values[measure_name] \u001b[38;5;241m=\u001b[39m val\n\u001b[1;32m     70\u001b[0m done \u001b[38;5;241m=\u001b[39m \u001b[38;5;28;01mTrue\u001b[39;00m\n",
      "File \u001b[0;32m~/NAS_CHALLENGE/NAS_Challenge_AutoML_2024/egenas/tests/zcost_proxies/measures/__init__.py:47\u001b[0m, in \u001b[0;36mcalc_measure\u001b[0;34m(name, net, device, *args, **kwargs)\u001b[0m\n\u001b[1;32m     46\u001b[0m \u001b[38;5;28;01mdef\u001b[39;00m \u001b[38;5;21mcalc_measure\u001b[39m(name, net, device, \u001b[38;5;241m*\u001b[39margs, \u001b[38;5;241m*\u001b[39m\u001b[38;5;241m*\u001b[39mkwargs):\n\u001b[0;32m---> 47\u001b[0m     \u001b[38;5;28;01mreturn\u001b[39;00m \u001b[43m_measure_impls\u001b[49m\u001b[43m[\u001b[49m\u001b[43mname\u001b[49m\u001b[43m]\u001b[49m\u001b[43m(\u001b[49m\u001b[43mnet\u001b[49m\u001b[43m,\u001b[49m\u001b[43m \u001b[49m\u001b[43mdevice\u001b[49m\u001b[43m,\u001b[49m\u001b[43m \u001b[49m\u001b[38;5;241;43m*\u001b[39;49m\u001b[43margs\u001b[49m\u001b[43m,\u001b[49m\u001b[43m \u001b[49m\u001b[38;5;241;43m*\u001b[39;49m\u001b[38;5;241;43m*\u001b[39;49m\u001b[43mkwargs\u001b[49m\u001b[43m)\u001b[49m\n",
      "File \u001b[0;32m~/NAS_CHALLENGE/NAS_Challenge_AutoML_2024/egenas/tests/zcost_proxies/measures/__init__.py:25\u001b[0m, in \u001b[0;36mmeasure.<locals>.make_impl.<locals>.measure_impl\u001b[0;34m(net_orig, device, *args, **kwargs)\u001b[0m\n\u001b[1;32m     23\u001b[0m \u001b[38;5;28;01mdef\u001b[39;00m \u001b[38;5;21mmeasure_impl\u001b[39m(net_orig, device, \u001b[38;5;241m*\u001b[39margs, \u001b[38;5;241m*\u001b[39m\u001b[38;5;241m*\u001b[39mkwargs):\n\u001b[1;32m     24\u001b[0m     \u001b[38;5;28;01mif\u001b[39;00m copy_net:\n\u001b[0;32m---> 25\u001b[0m         net \u001b[38;5;241m=\u001b[39m \u001b[43mnet_orig\u001b[49m\u001b[38;5;241;43m.\u001b[39;49m\u001b[43mget_prunable_copy\u001b[49m\u001b[43m(\u001b[49m\u001b[43mbn\u001b[49m\u001b[38;5;241;43m=\u001b[39;49m\u001b[43mbn\u001b[49m\u001b[43m)\u001b[49m\u001b[38;5;241m.\u001b[39mto(device)\n\u001b[1;32m     26\u001b[0m     \u001b[38;5;28;01melse\u001b[39;00m:\n\u001b[1;32m     27\u001b[0m         net \u001b[38;5;241m=\u001b[39m net_orig\n",
      "File \u001b[0;32m~/NAS_CHALLENGE/NAS_Challenge_AutoML_2024/egenas/tests/zcost_proxies/predictive.py:31\u001b[0m, in \u001b[0;36mcopynet\u001b[0;34m(self, bn)\u001b[0m\n\u001b[1;32m     30\u001b[0m \u001b[38;5;28;01mdef\u001b[39;00m \u001b[38;5;21mcopynet\u001b[39m(\u001b[38;5;28mself\u001b[39m, bn):\n\u001b[0;32m---> 31\u001b[0m     net \u001b[38;5;241m=\u001b[39m \u001b[43mcopy\u001b[49m\u001b[38;5;241;43m.\u001b[39;49m\u001b[43mdeepcopy\u001b[49m\u001b[43m(\u001b[49m\u001b[38;5;28;43mself\u001b[39;49m\u001b[43m)\u001b[49m\n\u001b[1;32m     32\u001b[0m     \u001b[38;5;28;01mif\u001b[39;00m bn\u001b[38;5;241m==\u001b[39m\u001b[38;5;28;01mFalse\u001b[39;00m:\n\u001b[1;32m     33\u001b[0m         \u001b[38;5;28;01mfor\u001b[39;00m l \u001b[38;5;129;01min\u001b[39;00m net\u001b[38;5;241m.\u001b[39mmodules():\n",
      "File \u001b[0;32m/apps/jupyterhub/jh3.1.1-py3.11/envs/pytorch-2.2.0/lib/python3.12/copy.py:162\u001b[0m, in \u001b[0;36mdeepcopy\u001b[0;34m(x, memo, _nil)\u001b[0m\n\u001b[1;32m    160\u001b[0m                 y \u001b[38;5;241m=\u001b[39m x\n\u001b[1;32m    161\u001b[0m             \u001b[38;5;28;01melse\u001b[39;00m:\n\u001b[0;32m--> 162\u001b[0m                 y \u001b[38;5;241m=\u001b[39m \u001b[43m_reconstruct\u001b[49m\u001b[43m(\u001b[49m\u001b[43mx\u001b[49m\u001b[43m,\u001b[49m\u001b[43m \u001b[49m\u001b[43mmemo\u001b[49m\u001b[43m,\u001b[49m\u001b[43m \u001b[49m\u001b[38;5;241;43m*\u001b[39;49m\u001b[43mrv\u001b[49m\u001b[43m)\u001b[49m\n\u001b[1;32m    164\u001b[0m \u001b[38;5;66;03m# If is its own copy, don't memoize.\u001b[39;00m\n\u001b[1;32m    165\u001b[0m \u001b[38;5;28;01mif\u001b[39;00m y \u001b[38;5;129;01mis\u001b[39;00m \u001b[38;5;129;01mnot\u001b[39;00m x:\n",
      "File \u001b[0;32m/apps/jupyterhub/jh3.1.1-py3.11/envs/pytorch-2.2.0/lib/python3.12/copy.py:259\u001b[0m, in \u001b[0;36m_reconstruct\u001b[0;34m(x, memo, func, args, state, listiter, dictiter, deepcopy)\u001b[0m\n\u001b[1;32m    257\u001b[0m \u001b[38;5;28;01mif\u001b[39;00m state \u001b[38;5;129;01mis\u001b[39;00m \u001b[38;5;129;01mnot\u001b[39;00m \u001b[38;5;28;01mNone\u001b[39;00m:\n\u001b[1;32m    258\u001b[0m     \u001b[38;5;28;01mif\u001b[39;00m deep:\n\u001b[0;32m--> 259\u001b[0m         state \u001b[38;5;241m=\u001b[39m \u001b[43mdeepcopy\u001b[49m\u001b[43m(\u001b[49m\u001b[43mstate\u001b[49m\u001b[43m,\u001b[49m\u001b[43m \u001b[49m\u001b[43mmemo\u001b[49m\u001b[43m)\u001b[49m\n\u001b[1;32m    260\u001b[0m     \u001b[38;5;28;01mif\u001b[39;00m \u001b[38;5;28mhasattr\u001b[39m(y, \u001b[38;5;124m'\u001b[39m\u001b[38;5;124m__setstate__\u001b[39m\u001b[38;5;124m'\u001b[39m):\n\u001b[1;32m    261\u001b[0m         y\u001b[38;5;241m.\u001b[39m__setstate__(state)\n",
      "File \u001b[0;32m/apps/jupyterhub/jh3.1.1-py3.11/envs/pytorch-2.2.0/lib/python3.12/copy.py:136\u001b[0m, in \u001b[0;36mdeepcopy\u001b[0;34m(x, memo, _nil)\u001b[0m\n\u001b[1;32m    134\u001b[0m copier \u001b[38;5;241m=\u001b[39m _deepcopy_dispatch\u001b[38;5;241m.\u001b[39mget(\u001b[38;5;28mcls\u001b[39m)\n\u001b[1;32m    135\u001b[0m \u001b[38;5;28;01mif\u001b[39;00m copier \u001b[38;5;129;01mis\u001b[39;00m \u001b[38;5;129;01mnot\u001b[39;00m \u001b[38;5;28;01mNone\u001b[39;00m:\n\u001b[0;32m--> 136\u001b[0m     y \u001b[38;5;241m=\u001b[39m \u001b[43mcopier\u001b[49m\u001b[43m(\u001b[49m\u001b[43mx\u001b[49m\u001b[43m,\u001b[49m\u001b[43m \u001b[49m\u001b[43mmemo\u001b[49m\u001b[43m)\u001b[49m\n\u001b[1;32m    137\u001b[0m \u001b[38;5;28;01melse\u001b[39;00m:\n\u001b[1;32m    138\u001b[0m     \u001b[38;5;28;01mif\u001b[39;00m \u001b[38;5;28missubclass\u001b[39m(\u001b[38;5;28mcls\u001b[39m, \u001b[38;5;28mtype\u001b[39m):\n",
      "File \u001b[0;32m/apps/jupyterhub/jh3.1.1-py3.11/envs/pytorch-2.2.0/lib/python3.12/copy.py:221\u001b[0m, in \u001b[0;36m_deepcopy_dict\u001b[0;34m(x, memo, deepcopy)\u001b[0m\n\u001b[1;32m    219\u001b[0m memo[\u001b[38;5;28mid\u001b[39m(x)] \u001b[38;5;241m=\u001b[39m y\n\u001b[1;32m    220\u001b[0m \u001b[38;5;28;01mfor\u001b[39;00m key, value \u001b[38;5;129;01min\u001b[39;00m x\u001b[38;5;241m.\u001b[39mitems():\n\u001b[0;32m--> 221\u001b[0m     y[deepcopy(key, memo)] \u001b[38;5;241m=\u001b[39m \u001b[43mdeepcopy\u001b[49m\u001b[43m(\u001b[49m\u001b[43mvalue\u001b[49m\u001b[43m,\u001b[49m\u001b[43m \u001b[49m\u001b[43mmemo\u001b[49m\u001b[43m)\u001b[49m\n\u001b[1;32m    222\u001b[0m \u001b[38;5;28;01mreturn\u001b[39;00m y\n",
      "File \u001b[0;32m/apps/jupyterhub/jh3.1.1-py3.11/envs/pytorch-2.2.0/lib/python3.12/copy.py:162\u001b[0m, in \u001b[0;36mdeepcopy\u001b[0;34m(x, memo, _nil)\u001b[0m\n\u001b[1;32m    160\u001b[0m                 y \u001b[38;5;241m=\u001b[39m x\n\u001b[1;32m    161\u001b[0m             \u001b[38;5;28;01melse\u001b[39;00m:\n\u001b[0;32m--> 162\u001b[0m                 y \u001b[38;5;241m=\u001b[39m \u001b[43m_reconstruct\u001b[49m\u001b[43m(\u001b[49m\u001b[43mx\u001b[49m\u001b[43m,\u001b[49m\u001b[43m \u001b[49m\u001b[43mmemo\u001b[49m\u001b[43m,\u001b[49m\u001b[43m \u001b[49m\u001b[38;5;241;43m*\u001b[39;49m\u001b[43mrv\u001b[49m\u001b[43m)\u001b[49m\n\u001b[1;32m    164\u001b[0m \u001b[38;5;66;03m# If is its own copy, don't memoize.\u001b[39;00m\n\u001b[1;32m    165\u001b[0m \u001b[38;5;28;01mif\u001b[39;00m y \u001b[38;5;129;01mis\u001b[39;00m \u001b[38;5;129;01mnot\u001b[39;00m x:\n",
      "File \u001b[0;32m/apps/jupyterhub/jh3.1.1-py3.11/envs/pytorch-2.2.0/lib/python3.12/copy.py:285\u001b[0m, in \u001b[0;36m_reconstruct\u001b[0;34m(x, memo, func, args, state, listiter, dictiter, deepcopy)\u001b[0m\n\u001b[1;32m    283\u001b[0m     \u001b[38;5;28;01mfor\u001b[39;00m key, value \u001b[38;5;129;01min\u001b[39;00m dictiter:\n\u001b[1;32m    284\u001b[0m         key \u001b[38;5;241m=\u001b[39m deepcopy(key, memo)\n\u001b[0;32m--> 285\u001b[0m         value \u001b[38;5;241m=\u001b[39m \u001b[43mdeepcopy\u001b[49m\u001b[43m(\u001b[49m\u001b[43mvalue\u001b[49m\u001b[43m,\u001b[49m\u001b[43m \u001b[49m\u001b[43mmemo\u001b[49m\u001b[43m)\u001b[49m\n\u001b[1;32m    286\u001b[0m         y[key] \u001b[38;5;241m=\u001b[39m value\n\u001b[1;32m    287\u001b[0m \u001b[38;5;28;01melse\u001b[39;00m:\n",
      "    \u001b[0;31m[... skipping similar frames: deepcopy at line 162 (1 times)]\u001b[0m\n",
      "File \u001b[0;32m/apps/jupyterhub/jh3.1.1-py3.11/envs/pytorch-2.2.0/lib/python3.12/copy.py:259\u001b[0m, in \u001b[0;36m_reconstruct\u001b[0;34m(x, memo, func, args, state, listiter, dictiter, deepcopy)\u001b[0m\n\u001b[1;32m    257\u001b[0m \u001b[38;5;28;01mif\u001b[39;00m state \u001b[38;5;129;01mis\u001b[39;00m \u001b[38;5;129;01mnot\u001b[39;00m \u001b[38;5;28;01mNone\u001b[39;00m:\n\u001b[1;32m    258\u001b[0m     \u001b[38;5;28;01mif\u001b[39;00m deep:\n\u001b[0;32m--> 259\u001b[0m         state \u001b[38;5;241m=\u001b[39m \u001b[43mdeepcopy\u001b[49m\u001b[43m(\u001b[49m\u001b[43mstate\u001b[49m\u001b[43m,\u001b[49m\u001b[43m \u001b[49m\u001b[43mmemo\u001b[49m\u001b[43m)\u001b[49m\n\u001b[1;32m    260\u001b[0m     \u001b[38;5;28;01mif\u001b[39;00m \u001b[38;5;28mhasattr\u001b[39m(y, \u001b[38;5;124m'\u001b[39m\u001b[38;5;124m__setstate__\u001b[39m\u001b[38;5;124m'\u001b[39m):\n\u001b[1;32m    261\u001b[0m         y\u001b[38;5;241m.\u001b[39m__setstate__(state)\n",
      "File \u001b[0;32m/apps/jupyterhub/jh3.1.1-py3.11/envs/pytorch-2.2.0/lib/python3.12/copy.py:136\u001b[0m, in \u001b[0;36mdeepcopy\u001b[0;34m(x, memo, _nil)\u001b[0m\n\u001b[1;32m    134\u001b[0m copier \u001b[38;5;241m=\u001b[39m _deepcopy_dispatch\u001b[38;5;241m.\u001b[39mget(\u001b[38;5;28mcls\u001b[39m)\n\u001b[1;32m    135\u001b[0m \u001b[38;5;28;01mif\u001b[39;00m copier \u001b[38;5;129;01mis\u001b[39;00m \u001b[38;5;129;01mnot\u001b[39;00m \u001b[38;5;28;01mNone\u001b[39;00m:\n\u001b[0;32m--> 136\u001b[0m     y \u001b[38;5;241m=\u001b[39m \u001b[43mcopier\u001b[49m\u001b[43m(\u001b[49m\u001b[43mx\u001b[49m\u001b[43m,\u001b[49m\u001b[43m \u001b[49m\u001b[43mmemo\u001b[49m\u001b[43m)\u001b[49m\n\u001b[1;32m    137\u001b[0m \u001b[38;5;28;01melse\u001b[39;00m:\n\u001b[1;32m    138\u001b[0m     \u001b[38;5;28;01mif\u001b[39;00m \u001b[38;5;28missubclass\u001b[39m(\u001b[38;5;28mcls\u001b[39m, \u001b[38;5;28mtype\u001b[39m):\n",
      "File \u001b[0;32m/apps/jupyterhub/jh3.1.1-py3.11/envs/pytorch-2.2.0/lib/python3.12/copy.py:221\u001b[0m, in \u001b[0;36m_deepcopy_dict\u001b[0;34m(x, memo, deepcopy)\u001b[0m\n\u001b[1;32m    219\u001b[0m memo[\u001b[38;5;28mid\u001b[39m(x)] \u001b[38;5;241m=\u001b[39m y\n\u001b[1;32m    220\u001b[0m \u001b[38;5;28;01mfor\u001b[39;00m key, value \u001b[38;5;129;01min\u001b[39;00m x\u001b[38;5;241m.\u001b[39mitems():\n\u001b[0;32m--> 221\u001b[0m     y[deepcopy(key, memo)] \u001b[38;5;241m=\u001b[39m \u001b[43mdeepcopy\u001b[49m\u001b[43m(\u001b[49m\u001b[43mvalue\u001b[49m\u001b[43m,\u001b[49m\u001b[43m \u001b[49m\u001b[43mmemo\u001b[49m\u001b[43m)\u001b[49m\n\u001b[1;32m    222\u001b[0m \u001b[38;5;28;01mreturn\u001b[39;00m y\n",
      "    \u001b[0;31m[... skipping similar frames: deepcopy at line 162 (1 times)]\u001b[0m\n",
      "File \u001b[0;32m/apps/jupyterhub/jh3.1.1-py3.11/envs/pytorch-2.2.0/lib/python3.12/copy.py:285\u001b[0m, in \u001b[0;36m_reconstruct\u001b[0;34m(x, memo, func, args, state, listiter, dictiter, deepcopy)\u001b[0m\n\u001b[1;32m    283\u001b[0m     \u001b[38;5;28;01mfor\u001b[39;00m key, value \u001b[38;5;129;01min\u001b[39;00m dictiter:\n\u001b[1;32m    284\u001b[0m         key \u001b[38;5;241m=\u001b[39m deepcopy(key, memo)\n\u001b[0;32m--> 285\u001b[0m         value \u001b[38;5;241m=\u001b[39m \u001b[43mdeepcopy\u001b[49m\u001b[43m(\u001b[49m\u001b[43mvalue\u001b[49m\u001b[43m,\u001b[49m\u001b[43m \u001b[49m\u001b[43mmemo\u001b[49m\u001b[43m)\u001b[49m\n\u001b[1;32m    286\u001b[0m         y[key] \u001b[38;5;241m=\u001b[39m value\n\u001b[1;32m    287\u001b[0m \u001b[38;5;28;01melse\u001b[39;00m:\n",
      "    \u001b[0;31m[... skipping similar frames: deepcopy at line 162 (5 times), _deepcopy_dict at line 221 (2 times), _reconstruct at line 259 (2 times), _reconstruct at line 285 (2 times), deepcopy at line 136 (2 times)]\u001b[0m\n",
      "File \u001b[0;32m/apps/jupyterhub/jh3.1.1-py3.11/envs/pytorch-2.2.0/lib/python3.12/copy.py:259\u001b[0m, in \u001b[0;36m_reconstruct\u001b[0;34m(x, memo, func, args, state, listiter, dictiter, deepcopy)\u001b[0m\n\u001b[1;32m    257\u001b[0m \u001b[38;5;28;01mif\u001b[39;00m state \u001b[38;5;129;01mis\u001b[39;00m \u001b[38;5;129;01mnot\u001b[39;00m \u001b[38;5;28;01mNone\u001b[39;00m:\n\u001b[1;32m    258\u001b[0m     \u001b[38;5;28;01mif\u001b[39;00m deep:\n\u001b[0;32m--> 259\u001b[0m         state \u001b[38;5;241m=\u001b[39m \u001b[43mdeepcopy\u001b[49m\u001b[43m(\u001b[49m\u001b[43mstate\u001b[49m\u001b[43m,\u001b[49m\u001b[43m \u001b[49m\u001b[43mmemo\u001b[49m\u001b[43m)\u001b[49m\n\u001b[1;32m    260\u001b[0m     \u001b[38;5;28;01mif\u001b[39;00m \u001b[38;5;28mhasattr\u001b[39m(y, \u001b[38;5;124m'\u001b[39m\u001b[38;5;124m__setstate__\u001b[39m\u001b[38;5;124m'\u001b[39m):\n\u001b[1;32m    261\u001b[0m         y\u001b[38;5;241m.\u001b[39m__setstate__(state)\n",
      "File \u001b[0;32m/apps/jupyterhub/jh3.1.1-py3.11/envs/pytorch-2.2.0/lib/python3.12/copy.py:136\u001b[0m, in \u001b[0;36mdeepcopy\u001b[0;34m(x, memo, _nil)\u001b[0m\n\u001b[1;32m    134\u001b[0m copier \u001b[38;5;241m=\u001b[39m _deepcopy_dispatch\u001b[38;5;241m.\u001b[39mget(\u001b[38;5;28mcls\u001b[39m)\n\u001b[1;32m    135\u001b[0m \u001b[38;5;28;01mif\u001b[39;00m copier \u001b[38;5;129;01mis\u001b[39;00m \u001b[38;5;129;01mnot\u001b[39;00m \u001b[38;5;28;01mNone\u001b[39;00m:\n\u001b[0;32m--> 136\u001b[0m     y \u001b[38;5;241m=\u001b[39m \u001b[43mcopier\u001b[49m\u001b[43m(\u001b[49m\u001b[43mx\u001b[49m\u001b[43m,\u001b[49m\u001b[43m \u001b[49m\u001b[43mmemo\u001b[49m\u001b[43m)\u001b[49m\n\u001b[1;32m    137\u001b[0m \u001b[38;5;28;01melse\u001b[39;00m:\n\u001b[1;32m    138\u001b[0m     \u001b[38;5;28;01mif\u001b[39;00m \u001b[38;5;28missubclass\u001b[39m(\u001b[38;5;28mcls\u001b[39m, \u001b[38;5;28mtype\u001b[39m):\n",
      "File \u001b[0;32m/apps/jupyterhub/jh3.1.1-py3.11/envs/pytorch-2.2.0/lib/python3.12/copy.py:221\u001b[0m, in \u001b[0;36m_deepcopy_dict\u001b[0;34m(x, memo, deepcopy)\u001b[0m\n\u001b[1;32m    219\u001b[0m memo[\u001b[38;5;28mid\u001b[39m(x)] \u001b[38;5;241m=\u001b[39m y\n\u001b[1;32m    220\u001b[0m \u001b[38;5;28;01mfor\u001b[39;00m key, value \u001b[38;5;129;01min\u001b[39;00m x\u001b[38;5;241m.\u001b[39mitems():\n\u001b[0;32m--> 221\u001b[0m     y[deepcopy(key, memo)] \u001b[38;5;241m=\u001b[39m \u001b[43mdeepcopy\u001b[49m\u001b[43m(\u001b[49m\u001b[43mvalue\u001b[49m\u001b[43m,\u001b[49m\u001b[43m \u001b[49m\u001b[43mmemo\u001b[49m\u001b[43m)\u001b[49m\n\u001b[1;32m    222\u001b[0m \u001b[38;5;28;01mreturn\u001b[39;00m y\n",
      "File \u001b[0;32m/apps/jupyterhub/jh3.1.1-py3.11/envs/pytorch-2.2.0/lib/python3.12/copy.py:162\u001b[0m, in \u001b[0;36mdeepcopy\u001b[0;34m(x, memo, _nil)\u001b[0m\n\u001b[1;32m    160\u001b[0m                 y \u001b[38;5;241m=\u001b[39m x\n\u001b[1;32m    161\u001b[0m             \u001b[38;5;28;01melse\u001b[39;00m:\n\u001b[0;32m--> 162\u001b[0m                 y \u001b[38;5;241m=\u001b[39m \u001b[43m_reconstruct\u001b[49m\u001b[43m(\u001b[49m\u001b[43mx\u001b[49m\u001b[43m,\u001b[49m\u001b[43m \u001b[49m\u001b[43mmemo\u001b[49m\u001b[43m,\u001b[49m\u001b[43m \u001b[49m\u001b[38;5;241;43m*\u001b[39;49m\u001b[43mrv\u001b[49m\u001b[43m)\u001b[49m\n\u001b[1;32m    164\u001b[0m \u001b[38;5;66;03m# If is its own copy, don't memoize.\u001b[39;00m\n\u001b[1;32m    165\u001b[0m \u001b[38;5;28;01mif\u001b[39;00m y \u001b[38;5;129;01mis\u001b[39;00m \u001b[38;5;129;01mnot\u001b[39;00m x:\n",
      "File \u001b[0;32m/apps/jupyterhub/jh3.1.1-py3.11/envs/pytorch-2.2.0/lib/python3.12/copy.py:285\u001b[0m, in \u001b[0;36m_reconstruct\u001b[0;34m(x, memo, func, args, state, listiter, dictiter, deepcopy)\u001b[0m\n\u001b[1;32m    283\u001b[0m     \u001b[38;5;28;01mfor\u001b[39;00m key, value \u001b[38;5;129;01min\u001b[39;00m dictiter:\n\u001b[1;32m    284\u001b[0m         key \u001b[38;5;241m=\u001b[39m deepcopy(key, memo)\n\u001b[0;32m--> 285\u001b[0m         value \u001b[38;5;241m=\u001b[39m \u001b[43mdeepcopy\u001b[49m\u001b[43m(\u001b[49m\u001b[43mvalue\u001b[49m\u001b[43m,\u001b[49m\u001b[43m \u001b[49m\u001b[43mmemo\u001b[49m\u001b[43m)\u001b[49m\n\u001b[1;32m    286\u001b[0m         y[key] \u001b[38;5;241m=\u001b[39m value\n\u001b[1;32m    287\u001b[0m \u001b[38;5;28;01melse\u001b[39;00m:\n",
      "File \u001b[0;32m/apps/jupyterhub/jh3.1.1-py3.11/envs/pytorch-2.2.0/lib/python3.12/copy.py:143\u001b[0m, in \u001b[0;36mdeepcopy\u001b[0;34m(x, memo, _nil)\u001b[0m\n\u001b[1;32m    141\u001b[0m copier \u001b[38;5;241m=\u001b[39m \u001b[38;5;28mgetattr\u001b[39m(x, \u001b[38;5;124m\"\u001b[39m\u001b[38;5;124m__deepcopy__\u001b[39m\u001b[38;5;124m\"\u001b[39m, \u001b[38;5;28;01mNone\u001b[39;00m)\n\u001b[1;32m    142\u001b[0m \u001b[38;5;28;01mif\u001b[39;00m copier \u001b[38;5;129;01mis\u001b[39;00m \u001b[38;5;129;01mnot\u001b[39;00m \u001b[38;5;28;01mNone\u001b[39;00m:\n\u001b[0;32m--> 143\u001b[0m     y \u001b[38;5;241m=\u001b[39m \u001b[43mcopier\u001b[49m\u001b[43m(\u001b[49m\u001b[43mmemo\u001b[49m\u001b[43m)\u001b[49m\n\u001b[1;32m    144\u001b[0m \u001b[38;5;28;01melse\u001b[39;00m:\n\u001b[1;32m    145\u001b[0m     reductor \u001b[38;5;241m=\u001b[39m dispatch_table\u001b[38;5;241m.\u001b[39mget(\u001b[38;5;28mcls\u001b[39m)\n",
      "File \u001b[0;32m/apps/jupyterhub/jh3.1.1-py3.11/envs/pytorch-2.2.0/lib/python3.12/site-packages/torch/_tensor.py:122\u001b[0m, in \u001b[0;36mTensor.__deepcopy__\u001b[0;34m(self, memo)\u001b[0m\n\u001b[1;32m    113\u001b[0m         \u001b[38;5;28;01mraise\u001b[39;00m \u001b[38;5;167;01mRuntimeError\u001b[39;00m(\n\u001b[1;32m    114\u001b[0m             \u001b[38;5;124m\"\u001b[39m\u001b[38;5;124mThe default implementation of __deepcopy__() for wrapper subclasses \u001b[39m\u001b[38;5;124m\"\u001b[39m\n\u001b[1;32m    115\u001b[0m             \u001b[38;5;124m\"\u001b[39m\u001b[38;5;124monly works for subclass types that implement clone() and for which \u001b[39m\u001b[38;5;124m\"\u001b[39m\n\u001b[0;32m   (...)\u001b[0m\n\u001b[1;32m    119\u001b[0m             \u001b[38;5;124m\"\u001b[39m\u001b[38;5;124mdifferent type.\u001b[39m\u001b[38;5;124m\"\u001b[39m\n\u001b[1;32m    120\u001b[0m         )\n\u001b[1;32m    121\u001b[0m \u001b[38;5;28;01melse\u001b[39;00m:\n\u001b[0;32m--> 122\u001b[0m     new_storage \u001b[38;5;241m=\u001b[39m \u001b[38;5;28;43mself\u001b[39;49m\u001b[38;5;241;43m.\u001b[39;49m\u001b[43m_typed_storage\u001b[49m\u001b[43m(\u001b[49m\u001b[43m)\u001b[49m\u001b[38;5;241;43m.\u001b[39;49m\u001b[43m_deepcopy\u001b[49m\u001b[43m(\u001b[49m\u001b[43mmemo\u001b[49m\u001b[43m)\u001b[49m\n\u001b[1;32m    123\u001b[0m     \u001b[38;5;28;01mif\u001b[39;00m \u001b[38;5;28mself\u001b[39m\u001b[38;5;241m.\u001b[39mis_quantized:\n\u001b[1;32m    124\u001b[0m         \u001b[38;5;66;03m# quantizer_params can be different type based on torch attribute\u001b[39;00m\n\u001b[1;32m    125\u001b[0m         quantizer_params: Union[\n\u001b[1;32m    126\u001b[0m             Tuple[torch\u001b[38;5;241m.\u001b[39mqscheme, \u001b[38;5;28mfloat\u001b[39m, \u001b[38;5;28mint\u001b[39m],\n\u001b[1;32m    127\u001b[0m             Tuple[torch\u001b[38;5;241m.\u001b[39mqscheme, Tensor, Tensor, \u001b[38;5;28mint\u001b[39m],\n\u001b[1;32m    128\u001b[0m         ]\n",
      "File \u001b[0;32m/apps/jupyterhub/jh3.1.1-py3.11/envs/pytorch-2.2.0/lib/python3.12/site-packages/torch/storage.py:839\u001b[0m, in \u001b[0;36mTypedStorage._deepcopy\u001b[0;34m(self, memo)\u001b[0m\n\u001b[1;32m    838\u001b[0m \u001b[38;5;28;01mdef\u001b[39;00m \u001b[38;5;21m_deepcopy\u001b[39m(\u001b[38;5;28mself\u001b[39m, memo):\n\u001b[0;32m--> 839\u001b[0m     \u001b[38;5;28;01mreturn\u001b[39;00m \u001b[38;5;28mself\u001b[39m\u001b[38;5;241m.\u001b[39m_new_wrapped_storage(\u001b[43mcopy\u001b[49m\u001b[38;5;241;43m.\u001b[39;49m\u001b[43mdeepcopy\u001b[49m\u001b[43m(\u001b[49m\u001b[38;5;28;43mself\u001b[39;49m\u001b[38;5;241;43m.\u001b[39;49m\u001b[43m_untyped_storage\u001b[49m\u001b[43m,\u001b[49m\u001b[43m \u001b[49m\u001b[43mmemo\u001b[49m\u001b[43m)\u001b[49m)\n",
      "File \u001b[0;32m/apps/jupyterhub/jh3.1.1-py3.11/envs/pytorch-2.2.0/lib/python3.12/copy.py:143\u001b[0m, in \u001b[0;36mdeepcopy\u001b[0;34m(x, memo, _nil)\u001b[0m\n\u001b[1;32m    141\u001b[0m copier \u001b[38;5;241m=\u001b[39m \u001b[38;5;28mgetattr\u001b[39m(x, \u001b[38;5;124m\"\u001b[39m\u001b[38;5;124m__deepcopy__\u001b[39m\u001b[38;5;124m\"\u001b[39m, \u001b[38;5;28;01mNone\u001b[39;00m)\n\u001b[1;32m    142\u001b[0m \u001b[38;5;28;01mif\u001b[39;00m copier \u001b[38;5;129;01mis\u001b[39;00m \u001b[38;5;129;01mnot\u001b[39;00m \u001b[38;5;28;01mNone\u001b[39;00m:\n\u001b[0;32m--> 143\u001b[0m     y \u001b[38;5;241m=\u001b[39m \u001b[43mcopier\u001b[49m\u001b[43m(\u001b[49m\u001b[43mmemo\u001b[49m\u001b[43m)\u001b[49m\n\u001b[1;32m    144\u001b[0m \u001b[38;5;28;01melse\u001b[39;00m:\n\u001b[1;32m    145\u001b[0m     reductor \u001b[38;5;241m=\u001b[39m dispatch_table\u001b[38;5;241m.\u001b[39mget(\u001b[38;5;28mcls\u001b[39m)\n",
      "File \u001b[0;32m/apps/jupyterhub/jh3.1.1-py3.11/envs/pytorch-2.2.0/lib/python3.12/site-packages/torch/storage.py:112\u001b[0m, in \u001b[0;36m_StorageBase.__deepcopy__\u001b[0;34m(self, memo)\u001b[0m\n\u001b[1;32m    110\u001b[0m \u001b[38;5;28;01mif\u001b[39;00m \u001b[38;5;28mself\u001b[39m\u001b[38;5;241m.\u001b[39m_cdata \u001b[38;5;129;01min\u001b[39;00m memo:\n\u001b[1;32m    111\u001b[0m     \u001b[38;5;28;01mreturn\u001b[39;00m memo[\u001b[38;5;28mself\u001b[39m\u001b[38;5;241m.\u001b[39m_cdata]\n\u001b[0;32m--> 112\u001b[0m new_storage \u001b[38;5;241m=\u001b[39m \u001b[38;5;28;43mself\u001b[39;49m\u001b[38;5;241;43m.\u001b[39;49m\u001b[43mclone\u001b[49m\u001b[43m(\u001b[49m\u001b[43m)\u001b[49m\n\u001b[1;32m    113\u001b[0m memo[\u001b[38;5;28mself\u001b[39m\u001b[38;5;241m.\u001b[39m_cdata] \u001b[38;5;241m=\u001b[39m new_storage\n\u001b[1;32m    114\u001b[0m \u001b[38;5;28;01mreturn\u001b[39;00m new_storage\n",
      "File \u001b[0;32m/apps/jupyterhub/jh3.1.1-py3.11/envs/pytorch-2.2.0/lib/python3.12/site-packages/torch/storage.py:126\u001b[0m, in \u001b[0;36m_StorageBase.clone\u001b[0;34m(self)\u001b[0m\n\u001b[1;32m    124\u001b[0m \u001b[38;5;28;01mdef\u001b[39;00m \u001b[38;5;21mclone\u001b[39m(\u001b[38;5;28mself\u001b[39m):\n\u001b[1;32m    125\u001b[0m \u001b[38;5;250m    \u001b[39m\u001b[38;5;124;03m\"\"\"Return a copy of this storage.\"\"\"\u001b[39;00m\n\u001b[0;32m--> 126\u001b[0m     \u001b[38;5;28;01mreturn\u001b[39;00m \u001b[38;5;28;43mtype\u001b[39;49m\u001b[43m(\u001b[49m\u001b[38;5;28;43mself\u001b[39;49m\u001b[43m)\u001b[49m\u001b[43m(\u001b[49m\u001b[38;5;28;43mself\u001b[39;49m\u001b[38;5;241;43m.\u001b[39;49m\u001b[43mnbytes\u001b[49m\u001b[43m(\u001b[49m\u001b[43m)\u001b[49m\u001b[43m,\u001b[49m\u001b[43m \u001b[49m\u001b[43mdevice\u001b[49m\u001b[38;5;241;43m=\u001b[39;49m\u001b[38;5;28;43mself\u001b[39;49m\u001b[38;5;241;43m.\u001b[39;49m\u001b[43mdevice\u001b[49m\u001b[43m)\u001b[49m\u001b[38;5;241;43m.\u001b[39;49m\u001b[43mcopy_\u001b[49m\u001b[43m(\u001b[49m\u001b[38;5;28;43mself\u001b[39;49m\u001b[43m)\u001b[49m\n",
      "\u001b[0;31mKeyboardInterrupt\u001b[0m: "
     ]
    }
   ],
   "source": [
    "from torch.utils.data import DataLoader, TensorDataset\n",
    "from icecream import ic\n",
    "import gc\n",
    "##########################\n",
    "train_loader.shuffle=False\n",
    "tot_dfs=[]\n",
    "for aug in range(len(poss_augs)):\n",
    "    current_transforms=train_loader.dataset.transform.transforms\n",
    "    train_loader.dataset.transform=v2.Compose(poss_augs[aug]+[current_transforms[-1]])\n",
    "    ic(\"#############\")\n",
    "    ic(aug)\n",
    "    ic(train_loader.dataset.transform.transforms)\n",
    "    ###############\n",
    "   \n",
    "    #if \"RandAugment\"\n",
    "    train_loader_iter = iter(train_loader)\n",
    "    # Number of batches to extract\n",
    "    num_batches =5\n",
    "\n",
    "    # Initialize lists to hold the inputs and targets from the first 5 batches\n",
    "    for batch in range(num_batches):\n",
    "        inputs_list = []\n",
    "        targets_list = []\n",
    "        try:\n",
    "            #for _ in range(num_batches):\n",
    "            inputs, targets = next(train_loader_iter)  # Get the next batch\n",
    "            inputs_list.append(inputs)\n",
    "            targets_list.append(targets)\n",
    "        except:\n",
    "            continue\n",
    "        # Concatenate the inputs and targets across the batches\n",
    "        inputs = torch.cat(inputs_list)\n",
    "        targets = torch.cat(targets_list)\n",
    "\n",
    "        # Create a new TensorDataset from the selected data\n",
    "        new_dataset = TensorDataset(inputs, targets)\n",
    "\n",
    "        # Create a new DataLoader from this new dataset\n",
    "        new_valid_loader = DataLoader(new_dataset, batch_size=train_loader.batch_size, shuffle=False)\n",
    "        #train_loader.batch_size\n",
    "\n",
    "        syn_scores={}\n",
    "        measures=[\"fisher\", \"jacob_cov\",\"plain\"]\n",
    "\n",
    "        for individual in individuals:\n",
    "                        ind_config=f\"{folder}/{dataset}/{individual}/config.yaml\"\n",
    "                        model_aux, _=rg.load_model(config_file=ind_config)\n",
    "                        #model_aux, _=regnet_space.create_model(params=params_dict[individual],save_folder=None, name=individual, gen=None, config_updates=None)\n",
    "                        ic(len(new_valid_loader))\n",
    "                        syn_scores[individual]=find_measures(model_aux.to(\"cuda\"), new_valid_loader, (\"random\",len(new_valid_loader),metadata[\"num_classes\"]), \"cuda\", F.cross_entropy, measures )\n",
    "\n",
    "                        #syn_scores[individual][\"params\"]=str(params_dict[individuals])\n",
    "                        del model_aux\n",
    "                        gc.collect\n",
    "\n",
    "    #########################################\n",
    "        tot_df=pd.DataFrame(syn_scores).T.reset_index().rename(columns={\"index\":\"name\"})\n",
    "        tot_df[\"aug\"]=aug\n",
    "        tot_df[\"batch\"]=batch\n",
    "        tot_dfs.append(tot_df)\n",
    "    #tot_df.to_csv(f\"zcost_proxies/results/augs/{dataset}_t{aug}.csv\")\n",
    "tot_dfs=pd.concat(tot_dfs)\n",
    "\n",
    "\n",
    "    #for metric in [\"grasp\",\"fisher\",\"grad_norm\",\"jacob_cov\",\"plain\",\"snip\",\"synflow\"]:\n",
    "    #    if metric==\"jacob_cov\":\n",
    "    #        df_syn[f\"rank_{metric}\"]=df_syn[metric].rank(ascending=False).astype(int)\n",
    "    #    else:\n",
    "    #        df_syn[f\"rank_{metric}\"]=df_syn[metric].rank().astype(int)\n",
    "\n",
    "    #from scipy.stats import spearmanr\n",
    "    #dict_spearman={}\n",
    "    #dict_pearson={}\n",
    "    #for metric in [\"grasp\",\"fisher\",\"grad_norm\",\"jacob_cov\",\"plain\",\"snip\",\"synflow\"]:\n",
    "    ##for metric in [\"snip\"]:\n",
    "    #        spearman_corr, _ = spearmanr(df_syn['best_acc'],df_syn[f\"{metric}\"])\n",
    "    #        pearson_corr= df_syn['best_acc'].corr(df_syn[metric])\n",
    "\n",
    "    #        dict_spearman[metric]=spearman_corr\n",
    "    #        dict_pearson[metric]=pearson_corr\n",
    "\n",
    "    #corr_df=pd.DataFrame([dict_spearman])\n",
    "    #corr_df[\"dataset\"]=dataset\n",
    "    #df_syn.to_csv(f\"zcost_proxies/results/augs/{dataset}_t{aug}.csv\")\n",
    "\n",
    "    #####################################################"
   ]
  },
  {
   "cell_type": "code",
   "execution_count": null,
   "id": "c4fa4c70-33a7-4e90-a483-6900bf218e1a",
   "metadata": {},
   "outputs": [],
   "source": [
    "from scipy.stats import pearsonr\n",
    "pearsonr(tot_dfs_iter.groupby([\"name\",\"aug\"]).mean()[\"fisher\"].reset_index().sort_values(by=[\"name\",\"aug\"])[\"fisher\"].values, tot_dfs.sort_values(by=[\"name\",\"aug\"])[\"fisher\"].values)"
   ]
  },
  {
   "cell_type": "code",
   "execution_count": null,
   "id": "f64af74f-1215-49f7-9a57-6ef27dd9dc8b",
   "metadata": {},
   "outputs": [],
   "source": [
    "from sklearn.preprocessing import MinMaxScaler\n",
    "individuals=tot_dfs.name.unique()\n",
    "num_batches=tot_dfs.batch.max()+1\n",
    "rank_batches_fisher=[]\n",
    "for individual in individuals:\n",
    "    for batch in range(num_batches):\n",
    "        subset_df = tot_dfs[(tot_dfs.name == individual) & (tot_dfs.batch == batch)].sort_values(by=\"aug\").set_index(\"aug\")\n",
    "        Q1 = subset_df[\"fisher\"].quantile(0.1)\n",
    "        Q3 = subset_df[\"fisher\"].quantile(0.9)\n",
    "        IQR = Q3 - Q1\n",
    "        lower_bound = Q1 - 1.5 * IQR\n",
    "        upper_bound = Q3 + 1.5 * IQR\n",
    "        subset_df_no_outliers = subset_df[(subset_df[\"fisher\"] >= lower_bound) & (subset_df[\"fisher\"] <= upper_bound)]\n",
    "        scaler = MinMaxScaler()\n",
    "        subset_df_no_outliers[\"fisher\"] = scaler.fit_transform(subset_df_no_outliers[[\"fisher\"]])\n",
    "        rank_batches_fisher.append(subset_df_no_outliers[\"fisher\"])    \n",
    "\n",
    "rank_batches_fisher=pd.concat(rank_batches_fisher)\n",
    "rank_batches_fisher=rank_batches_fisher.reset_index().groupby(\"aug\").mean().sort_values(by=\"fisher\")\n",
    "\n",
    "rank_batches_jac=[]\n",
    "for individual in individuals:\n",
    "    for batch in range(num_batches):\n",
    "        subset_df = tot_dfs[(tot_dfs.name == individual) & (tot_dfs.batch == batch)].sort_values(by=\"aug\").set_index(\"aug\")\n",
    "        Q1 = subset_df[\"jacob_cov\"].quantile(0.1)\n",
    "        Q3 = subset_df[\"jacob_cov\"].quantile(0.9)\n",
    "        IQR = Q3 - Q1\n",
    "        lower_bound = Q1 - 1.5 * IQR\n",
    "        upper_bound = Q3 + 1.5 * IQR\n",
    "        subset_df_no_outliers = subset_df[(subset_df[\"jacob_cov\"] >= lower_bound) & (subset_df[\"jacob_cov\"] <= upper_bound)]\n",
    "        scaler = MinMaxScaler()\n",
    "        subset_df_no_outliers[\"jacob_cov\"] = scaler.fit_transform(subset_df_no_outliers[[\"jacob_cov\"]])\n",
    "        rank_batches_jac.append(subset_df_no_outliers[\"jacob_cov\"])      \n",
    "\n",
    "rank_batches_jac=pd.concat(rank_batches_jac)\n",
    "rank_batches_jac=rank_batches_jac.reset_index().groupby(\"aug\").mean().sort_values(by=\"jacob_cov\")\n"
   ]
  },
  {
   "cell_type": "code",
   "execution_count": null,
   "id": "46045615-f012-4047-a8f8-f7b401aa7d98",
   "metadata": {},
   "outputs": [],
   "source": [
    "tot_dfs=pd.read_csv(\"zcost_proxies/results/augs/ranks_LaMelo.csv\",index_col=0)"
   ]
  },
  {
   "cell_type": "code",
   "execution_count": null,
   "id": "4a41a9ab-9a5f-46ec-8ea4-f3ae93ecbe27",
   "metadata": {},
   "outputs": [],
   "source": [
    "\n",
    "for col in [\"fisher\",\"jacob_cov\"]:\n",
    "    try:\n",
    "        tot_dfs[col]=tot_dfs[col].astype(float)\n",
    "    except:\n",
    "        tot_dfs[col]=0"
   ]
  },
  {
   "cell_type": "code",
   "execution_count": null,
   "id": "2c378373-29b6-44d3-9f7a-8a47c0b03d31",
   "metadata": {},
   "outputs": [],
   "source": [
    "#rank_batches=pd.concat([rank_batches_fisher,rank_batches_jac,rank_batches_plain,rank_batches_syn, rank_batches_snip,rank_batches_grad],axis=1)\n",
    "rank_batches=pd.concat([rank_batches_fisher,rank_batches_jac], axis=1)\n",
    "#rank_batches=pd.concat([rank_batches_fisher], axis=1)\n",
    "rank_batches[\"total_rank\"]=rank_batches[\"fisher\"]+rank_batches[\"jacob_cov\"]#-rank_batches[\"plain\"]#-rank_batches[\"synflow\"]\n",
    "#rank_batches[\"total_rank\"]=rank_batches[\"fisher\"]+rank_batches[\"jacob_cov\"]-rank_batches[\"snip\"]#-rank_batches[\"grad_norm\"]+rank_batches[\"plain\"]\n",
    "#rank_batches[\"total_rank\"]=rank_batches[\"jacob_cov\"]#-rank_batches[\"snip\"]-rank_batches[\"grad_norm\"]\n",
    "\n",
    "\n"
   ]
  },
  {
   "cell_type": "code",
   "execution_count": null,
   "id": "fb9bfc2c-3ee7-49de-b2a1-8a77cceaa0d3",
   "metadata": {},
   "outputs": [],
   "source": [
    "import pandas as pd\n",
    "test_scores_df=[]\n",
    "for i in range(23):\n",
    "    try:\n",
    "        #df_aux=pd.read_csv(f\"/home/woody/iwb3/iwb3021h/THESIS_RESULTS/full_training_evonas/finetuning/{dataset}/augmentations_test_1/{dataset}/aug_{i}/test_acc.csv\", index_col=0)\n",
    "        #df_aux[\"aug\"]=i\n",
    "        #test_scores_df.append(df_aux)\n",
    "        \n",
    "        #df_aux[\"model\"]=\"regnet\"\n",
    "        \n",
    "        #df_aux2=pd.read_csv(f\"/home/woody/iwb3/iwb3021h/THESIS_RESULTS/full_training_evonas/finetuning/{dataset}/augmentations_test_2/{dataset}/aug_{i}/test_acc.csv\", index_col=0)\n",
    "        #test_scores_df.append(df_aux2)\n",
    "        #df_aux2[\"aug\"]=i\n",
    "        \n",
    "        df_aux3=pd.read_csv(f\"/home/woody/iwb3/iwb3021h/THESIS_RESULTS/full_training_evonas/finetuning/{dataset}/augmentations_test_resnet/{dataset}/aug_{i}/test_acc.csv\", index_col=0)\n",
    "        test_scores_df.append(df_aux3)\n",
    "        df_aux3[\"aug\"]=i\n",
    "        #df_aux3[\"model\"]=\"resnet\"\n",
    "\n",
    "    except:\n",
    "        print(f\"{i} not possible\")\n",
    "    \n",
    "    \n",
    "test_scores_df=pd.concat(test_scores_df)\n",
    "test_scores_df=test_scores_df.groupby(\"aug\").mean().reset_index()\n",
    "\n",
    "#vals=pd.read_json(f\"/home/woody/iwb3/iwb3021h/THESIS_RESULTS/full_training_evonas/finetuning/{dataset}/augmentations_test_1/{dataset}/augmentation_results.json\").T.reset_index().rename(columns={\"index\":\"aug\"})\n",
    "#vals2=pd.read_json(f\"/home/woody/iwb3/iwb3021h/THESIS_RESULTS/full_training_evonas/finetuning/{dataset}/augmentations_test_2/{dataset}/augmentation_results.json\").T.reset_index().rename(columns={\"index\":\"aug\"})\n",
    "vals3=pd.read_json(f\"/home/woody/iwb3/iwb3021h/THESIS_RESULTS/full_training_evonas/finetuning/{dataset}/augmentations_test_resnet/{dataset}/augmentation_results.json\").T.reset_index().rename(columns={\"index\":\"aug\"})\n",
    "vals=pd.concat([vals3])\n",
    "#vals=vals.groupby(\"aug\").mean().reset_index()"
   ]
  }
 ],
 "metadata": {
  "kernelspec": {
   "display_name": "PyTorch 2.2.0",
   "language": "python",
   "name": "pytorch-2.2.0"
  },
  "language_info": {
   "codemirror_mode": {
    "name": "ipython",
    "version": 3
   },
   "file_extension": ".py",
   "mimetype": "text/x-python",
   "name": "python",
   "nbconvert_exporter": "python",
   "pygments_lexer": "ipython3",
   "version": "3.12.1"
  }
 },
 "nbformat": 4,
 "nbformat_minor": 5
}
